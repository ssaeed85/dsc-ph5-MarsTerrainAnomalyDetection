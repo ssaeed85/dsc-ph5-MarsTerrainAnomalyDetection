{
 "cells": [
  {
   "cell_type": "code",
   "execution_count": 1,
   "id": "c8dc1b24",
   "metadata": {
    "ExecuteTime": {
     "end_time": "2022-05-22T01:10:42.648368Z",
     "start_time": "2022-05-22T01:10:41.985066Z"
    }
   },
   "outputs": [],
   "source": [
    "import numpy as np\n",
    "import pandas as pd\n",
    "import matplotlib.pyplot as plt\n",
    "from PIL import Image"
   ]
  },
  {
   "cell_type": "code",
   "execution_count": 2,
   "id": "9a0ee64e",
   "metadata": {
    "ExecuteTime": {
     "end_time": "2022-05-22T01:10:45.059302Z",
     "start_time": "2022-05-22T01:10:42.649379Z"
    }
   },
   "outputs": [],
   "source": [
    "from tensorflow.keras.preprocessing.image import ImageDataGenerator\n",
    "from tensorflow.keras import layers, models, optimizers, losses\n",
    "from tensorflow.keras.callbacks import EarlyStopping,ModelCheckpoint\n",
    "from tensorflow.keras.metrics import Precision, Recall\n",
    "import tensorflow as tf\n",
    "tf.random.set_seed(\n",
    "    42\n",
    ")\n",
    "\n",
    "\n",
    "import seaborn as sns\n",
    "\n",
    "tf_chkpt_path = 'tf_AlexNet_checkpoints/'"
   ]
  },
  {
   "cell_type": "code",
   "execution_count": 3,
   "id": "b2226a11",
   "metadata": {
    "ExecuteTime": {
     "end_time": "2022-05-22T01:10:45.074867Z",
     "start_time": "2022-05-22T01:10:45.060315Z"
    }
   },
   "outputs": [],
   "source": [
    "from src.helperFunctions import display_model_trainTestGraphs"
   ]
  },
  {
   "cell_type": "markdown",
   "id": "7f1d3057",
   "metadata": {},
   "source": [
    "# Training Set"
   ]
  },
  {
   "cell_type": "code",
   "execution_count": 4,
   "id": "be3e0c6a",
   "metadata": {
    "ExecuteTime": {
     "end_time": "2022-05-22T01:10:46.374531Z",
     "start_time": "2022-05-22T01:10:45.075866Z"
    }
   },
   "outputs": [
    {
     "name": "stdout",
     "output_type": "stream",
     "text": [
      "Found 48979 images belonging to 8 classes.\n"
     ]
    }
   ],
   "source": [
    "# Normalizing data for 8 bit\n",
    "train_datagen = ImageDataGenerator(rescale=1./255)\n",
    "\n",
    "train_generator = train_datagen.flow_from_directory(\n",
    "    'images/train/',\n",
    "    target_size = (227,227),\n",
    "    batch_size=225,\n",
    "    color_mode='grayscale',\n",
    "    class_mode='categorical'\n",
    ")"
   ]
  },
  {
   "cell_type": "markdown",
   "id": "47d3cdf5",
   "metadata": {},
   "source": [
    "# Validation Set"
   ]
  },
  {
   "cell_type": "code",
   "execution_count": 5,
   "id": "8916809b",
   "metadata": {
    "ExecuteTime": {
     "end_time": "2022-05-22T01:10:46.770622Z",
     "start_time": "2022-05-22T01:10:46.375532Z"
    }
   },
   "outputs": [
    {
     "name": "stdout",
     "output_type": "stream",
     "text": [
      "Found 14175 images belonging to 8 classes.\n"
     ]
    }
   ],
   "source": [
    "# Normalizing data for 8 bit\n",
    "val_datagen = ImageDataGenerator(rescale=1./255)\n",
    "\n",
    "val_generator = val_datagen.flow_from_directory(\n",
    "    'images/val/',\n",
    "    target_size = (227,227),\n",
    "    batch_size=64,\n",
    "    color_mode='grayscale',\n",
    "    class_mode='categorical'\n",
    ")"
   ]
  },
  {
   "cell_type": "markdown",
   "id": "44d7385c",
   "metadata": {},
   "source": [
    "# Test Set"
   ]
  },
  {
   "cell_type": "code",
   "execution_count": 6,
   "id": "04910e8e",
   "metadata": {
    "ExecuteTime": {
     "end_time": "2022-05-22T01:10:46.833636Z",
     "start_time": "2022-05-22T01:10:46.771623Z"
    }
   },
   "outputs": [
    {
     "name": "stdout",
     "output_type": "stream",
     "text": [
      "Found 1793 images belonging to 8 classes.\n"
     ]
    }
   ],
   "source": [
    "# Normalizing data for 8 bit\n",
    "test_datagen = ImageDataGenerator(rescale=1./255)\n",
    "\n",
    "test_generator = test_datagen.flow_from_directory(\n",
    "    'images/test/',\n",
    "    target_size = (227,227),\n",
    "    batch_size=8,\n",
    "    color_mode='grayscale',\n",
    "    class_mode='categorical'\n",
    ")"
   ]
  },
  {
   "cell_type": "markdown",
   "id": "7561e885",
   "metadata": {},
   "source": [
    "# Modeling"
   ]
  },
  {
   "cell_type": "code",
   "execution_count": 7,
   "id": "ddb35eaf",
   "metadata": {
    "ExecuteTime": {
     "end_time": "2022-05-22T01:10:46.849640Z",
     "start_time": "2022-05-22T01:10:46.834636Z"
    }
   },
   "outputs": [],
   "source": [
    "early_stop = EarlyStopping(monitor='val_loss', \n",
    "                           min_delta=1e-8,\n",
    "                           verbose=1,\n",
    "                           patience = 5,\n",
    "                           restore_best_weights=True,\n",
    "                           mode='min')"
   ]
  },
  {
   "cell_type": "markdown",
   "id": "d2175ba6",
   "metadata": {},
   "source": [
    "# Model - AlexNet"
   ]
  },
  {
   "cell_type": "code",
   "execution_count": 8,
   "id": "d24283fa",
   "metadata": {
    "ExecuteTime": {
     "end_time": "2022-05-22T01:49:40.287031Z",
     "start_time": "2022-05-22T01:10:46.850640Z"
    },
    "scrolled": false
   },
   "outputs": [
    {
     "name": "stdout",
     "output_type": "stream",
     "text": [
      "Model: \"sequential\"\n",
      "_________________________________________________________________\n",
      " Layer (type)                Output Shape              Param #   \n",
      "=================================================================\n",
      " conv2d (Conv2D)             (None, 55, 55, 96)        11712     \n",
      "                                                                 \n",
      " batch_normalization (BatchN  (None, 55, 55, 96)       384       \n",
      " ormalization)                                                   \n",
      "                                                                 \n",
      " max_pooling2d (MaxPooling2D  (None, 27, 27, 96)       0         \n",
      " )                                                               \n",
      "                                                                 \n",
      " conv2d_1 (Conv2D)           (None, 27, 27, 256)       614656    \n",
      "                                                                 \n",
      " batch_normalization_1 (Batc  (None, 27, 27, 256)      1024      \n",
      " hNormalization)                                                 \n",
      "                                                                 \n",
      " max_pooling2d_1 (MaxPooling  (None, 13, 13, 256)      0         \n",
      " 2D)                                                             \n",
      "                                                                 \n",
      " conv2d_2 (Conv2D)           (None, 13, 13, 384)       885120    \n",
      "                                                                 \n",
      " batch_normalization_2 (Batc  (None, 13, 13, 384)      1536      \n",
      " hNormalization)                                                 \n",
      "                                                                 \n",
      " conv2d_3 (Conv2D)           (None, 13, 13, 384)       1327488   \n",
      "                                                                 \n",
      " batch_normalization_3 (Batc  (None, 13, 13, 384)      1536      \n",
      " hNormalization)                                                 \n",
      "                                                                 \n",
      " conv2d_4 (Conv2D)           (None, 13, 13, 256)       884992    \n",
      "                                                                 \n",
      " flatten (Flatten)           (None, 43264)             0         \n",
      "                                                                 \n",
      " dense (Dense)               (None, 4096)              177213440 \n",
      "                                                                 \n",
      " dropout (Dropout)           (None, 4096)              0         \n",
      "                                                                 \n",
      " dense_1 (Dense)             (None, 4096)              16781312  \n",
      "                                                                 \n",
      " dropout_1 (Dropout)         (None, 4096)              0         \n",
      "                                                                 \n",
      " dense_2 (Dense)             (None, 8)                 32776     \n",
      "                                                                 \n",
      "=================================================================\n",
      "Total params: 197,755,976\n",
      "Trainable params: 197,753,736\n",
      "Non-trainable params: 2,240\n",
      "_________________________________________________________________\n",
      "Epoch 1/60\n",
      "200/200 [==============================] - 45s 202ms/step - loss: 0.7338 - accuracy: 0.8348 - precision: 0.8595 - recall: 0.8078 - val_loss: 1.1167 - val_accuracy: 0.7916 - val_precision: 0.7916 - val_recall: 0.7916\n",
      "Epoch 2/60\n",
      "200/200 [==============================] - 38s 192ms/step - loss: 0.3851 - accuracy: 0.8833 - precision: 0.8987 - recall: 0.8658 - val_loss: 1.0826 - val_accuracy: 0.7935 - val_precision: 0.7935 - val_recall: 0.7935\n",
      "Epoch 3/60\n",
      "200/200 [==============================] - 39s 194ms/step - loss: 0.3163 - accuracy: 0.9045 - precision: 0.9147 - recall: 0.8931 - val_loss: 0.9113 - val_accuracy: 0.7441 - val_precision: 0.7544 - val_recall: 0.7363\n",
      "Epoch 4/60\n",
      "200/200 [==============================] - 39s 193ms/step - loss: 0.2687 - accuracy: 0.9172 - precision: 0.9254 - recall: 0.9080 - val_loss: 0.5604 - val_accuracy: 0.8445 - val_precision: 0.8489 - val_recall: 0.8406\n",
      "Epoch 5/60\n",
      "200/200 [==============================] - 39s 193ms/step - loss: 0.2262 - accuracy: 0.9295 - precision: 0.9351 - recall: 0.9235 - val_loss: 1.0708 - val_accuracy: 0.8172 - val_precision: 0.8188 - val_recall: 0.8168\n",
      "Epoch 6/60\n",
      "200/200 [==============================] - 39s 193ms/step - loss: 0.1912 - accuracy: 0.9399 - precision: 0.9442 - recall: 0.9353 - val_loss: 2.2193 - val_accuracy: 0.5044 - val_precision: 0.5099 - val_recall: 0.4876\n",
      "Epoch 7/60\n",
      "200/200 [==============================] - 43s 217ms/step - loss: 0.1626 - accuracy: 0.9470 - precision: 0.9498 - recall: 0.9436 - val_loss: 0.8261 - val_accuracy: 0.8166 - val_precision: 0.8216 - val_recall: 0.8153\n",
      "Epoch 8/60\n",
      "200/200 [==============================] - 40s 200ms/step - loss: 0.1328 - accuracy: 0.9566 - precision: 0.9584 - recall: 0.9547 - val_loss: 1.8350 - val_accuracy: 0.6341 - val_precision: 0.6391 - val_recall: 0.6241\n",
      "Epoch 9/60\n",
      "200/200 [==============================] - 39s 193ms/step - loss: 0.1077 - accuracy: 0.9646 - precision: 0.9661 - recall: 0.9634 - val_loss: 1.0874 - val_accuracy: 0.8388 - val_precision: 0.8403 - val_recall: 0.8382\n",
      "Epoch 10/60\n",
      "200/200 [==============================] - 39s 194ms/step - loss: 0.0944 - accuracy: 0.9689 - precision: 0.9702 - recall: 0.9674 - val_loss: 0.9118 - val_accuracy: 0.8146 - val_precision: 0.8228 - val_recall: 0.8073\n",
      "Epoch 11/60\n",
      "200/200 [==============================] - 39s 193ms/step - loss: 0.0822 - accuracy: 0.9731 - precision: 0.9741 - recall: 0.9720 - val_loss: 0.8508 - val_accuracy: 0.8130 - val_precision: 0.8158 - val_recall: 0.8105\n",
      "Epoch 12/60\n",
      "200/200 [==============================] - 39s 194ms/step - loss: 0.0731 - accuracy: 0.9755 - precision: 0.9763 - recall: 0.9748 - val_loss: 1.1067 - val_accuracy: 0.8086 - val_precision: 0.8112 - val_recall: 0.8066\n",
      "Epoch 13/60\n",
      "200/200 [==============================] - 39s 193ms/step - loss: 0.0631 - accuracy: 0.9792 - precision: 0.9800 - recall: 0.9786 - val_loss: 2.0122 - val_accuracy: 0.7621 - val_precision: 0.7634 - val_recall: 0.7611\n",
      "Epoch 14/60\n",
      "200/200 [==============================] - 39s 193ms/step - loss: 0.0523 - accuracy: 0.9825 - precision: 0.9829 - recall: 0.9818 - val_loss: 0.9338 - val_accuracy: 0.8520 - val_precision: 0.8547 - val_recall: 0.8512\n",
      "Epoch 15/60\n",
      "200/200 [==============================] - 39s 193ms/step - loss: 0.0511 - accuracy: 0.9833 - precision: 0.9837 - recall: 0.9829 - val_loss: 0.8397 - val_accuracy: 0.8334 - val_precision: 0.8363 - val_recall: 0.8322\n",
      "Epoch 16/60\n",
      "200/200 [==============================] - 39s 194ms/step - loss: 0.0348 - accuracy: 0.9887 - precision: 0.9889 - recall: 0.9884 - val_loss: 1.2306 - val_accuracy: 0.8218 - val_precision: 0.8229 - val_recall: 0.8206\n",
      "Epoch 17/60\n",
      "200/200 [==============================] - 39s 193ms/step - loss: 0.0341 - accuracy: 0.9889 - precision: 0.9893 - recall: 0.9886 - val_loss: 1.0378 - val_accuracy: 0.8185 - val_precision: 0.8232 - val_recall: 0.8161\n",
      "Epoch 18/60\n",
      "200/200 [==============================] - 39s 194ms/step - loss: 0.0396 - accuracy: 0.9869 - precision: 0.9874 - recall: 0.9866 - val_loss: 0.9797 - val_accuracy: 0.8435 - val_precision: 0.8457 - val_recall: 0.8423\n",
      "Epoch 19/60\n",
      "200/200 [==============================] - 39s 193ms/step - loss: 0.0341 - accuracy: 0.9892 - precision: 0.9896 - recall: 0.9889 - val_loss: 1.3340 - val_accuracy: 0.7914 - val_precision: 0.7934 - val_recall: 0.7901\n",
      "Epoch 20/60\n",
      "200/200 [==============================] - 39s 193ms/step - loss: 0.0311 - accuracy: 0.9903 - precision: 0.9905 - recall: 0.9901 - val_loss: 1.2525 - val_accuracy: 0.8116 - val_precision: 0.8147 - val_recall: 0.8091\n",
      "Epoch 21/60\n",
      "200/200 [==============================] - 39s 192ms/step - loss: 0.0304 - accuracy: 0.9903 - precision: 0.9906 - recall: 0.9901 - val_loss: 2.3060 - val_accuracy: 0.8470 - val_precision: 0.8475 - val_recall: 0.8469\n",
      "Epoch 22/60\n",
      "200/200 [==============================] - 39s 193ms/step - loss: 0.0209 - accuracy: 0.9930 - precision: 0.9932 - recall: 0.9927 - val_loss: 0.9190 - val_accuracy: 0.8517 - val_precision: 0.8533 - val_recall: 0.8505\n",
      "Epoch 23/60\n"
     ]
    },
    {
     "name": "stdout",
     "output_type": "stream",
     "text": [
      "200/200 [==============================] - 38s 192ms/step - loss: 0.0227 - accuracy: 0.9934 - precision: 0.9935 - recall: 0.9933 - val_loss: 1.9342 - val_accuracy: 0.7806 - val_precision: 0.7827 - val_recall: 0.7797\n",
      "Epoch 24/60\n",
      "200/200 [==============================] - 39s 193ms/step - loss: 0.0250 - accuracy: 0.9925 - precision: 0.9928 - recall: 0.9923 - val_loss: 1.3737 - val_accuracy: 0.8506 - val_precision: 0.8518 - val_recall: 0.8497\n",
      "Epoch 25/60\n",
      "200/200 [==============================] - 39s 193ms/step - loss: 0.0310 - accuracy: 0.9907 - precision: 0.9910 - recall: 0.9903 - val_loss: 1.4100 - val_accuracy: 0.7320 - val_precision: 0.7399 - val_recall: 0.7250\n",
      "Epoch 26/60\n",
      "200/200 [==============================] - 39s 193ms/step - loss: 0.0277 - accuracy: 0.9915 - precision: 0.9918 - recall: 0.9913 - val_loss: 1.1364 - val_accuracy: 0.8617 - val_precision: 0.8624 - val_recall: 0.8616\n",
      "Epoch 27/60\n",
      "200/200 [==============================] - 39s 192ms/step - loss: 0.0220 - accuracy: 0.9932 - precision: 0.9935 - recall: 0.9931 - val_loss: 2.0853 - val_accuracy: 0.6278 - val_precision: 0.6327 - val_recall: 0.6191\n",
      "Epoch 28/60\n",
      "200/200 [==============================] - 39s 193ms/step - loss: 0.0112 - accuracy: 0.9966 - precision: 0.9966 - recall: 0.9965 - val_loss: 1.2779 - val_accuracy: 0.8534 - val_precision: 0.8544 - val_recall: 0.8525\n",
      "Epoch 29/60\n",
      "200/200 [==============================] - 38s 192ms/step - loss: 0.0137 - accuracy: 0.9956 - precision: 0.9956 - recall: 0.9955 - val_loss: 0.8291 - val_accuracy: 0.8637 - val_precision: 0.8648 - val_recall: 0.8628\n",
      "Epoch 30/60\n",
      "200/200 [==============================] - 39s 193ms/step - loss: 0.0209 - accuracy: 0.9940 - precision: 0.9941 - recall: 0.9938 - val_loss: 1.8472 - val_accuracy: 0.8479 - val_precision: 0.8487 - val_recall: 0.8477\n",
      "Epoch 31/60\n",
      "200/200 [==============================] - 39s 192ms/step - loss: 0.0166 - accuracy: 0.9948 - precision: 0.9949 - recall: 0.9947 - val_loss: 2.1351 - val_accuracy: 0.8482 - val_precision: 0.8494 - val_recall: 0.8478\n",
      "Epoch 32/60\n",
      "200/200 [==============================] - 39s 193ms/step - loss: 0.0108 - accuracy: 0.9968 - precision: 0.9968 - recall: 0.9967 - val_loss: 2.0164 - val_accuracy: 0.7389 - val_precision: 0.7421 - val_recall: 0.7366\n",
      "Epoch 33/60\n",
      "200/200 [==============================] - 38s 192ms/step - loss: 0.0209 - accuracy: 0.9935 - precision: 0.9935 - recall: 0.9935 - val_loss: 1.4569 - val_accuracy: 0.8598 - val_precision: 0.8606 - val_recall: 0.8593\n",
      "Epoch 34/60\n",
      "200/200 [==============================] - 39s 193ms/step - loss: 0.0139 - accuracy: 0.9956 - precision: 0.9957 - recall: 0.9955 - val_loss: 1.0539 - val_accuracy: 0.8217 - val_precision: 0.8242 - val_recall: 0.8199\n",
      "Epoch 35/60\n",
      "200/200 [==============================] - 39s 193ms/step - loss: 0.0096 - accuracy: 0.9969 - precision: 0.9970 - recall: 0.9968 - val_loss: 0.8379 - val_accuracy: 0.8384 - val_precision: 0.8420 - val_recall: 0.8352\n",
      "Epoch 36/60\n",
      "200/200 [==============================] - 39s 193ms/step - loss: 0.0181 - accuracy: 0.9948 - precision: 0.9949 - recall: 0.9948 - val_loss: 1.7318 - val_accuracy: 0.7790 - val_precision: 0.7815 - val_recall: 0.7766\n",
      "Epoch 37/60\n",
      "200/200 [==============================] - 38s 192ms/step - loss: 0.0164 - accuracy: 0.9949 - precision: 0.9950 - recall: 0.9949 - val_loss: 1.1513 - val_accuracy: 0.8473 - val_precision: 0.8483 - val_recall: 0.8466\n",
      "Epoch 38/60\n",
      "200/200 [==============================] - 39s 193ms/step - loss: 0.0223 - accuracy: 0.9933 - precision: 0.9935 - recall: 0.9932 - val_loss: 1.0995 - val_accuracy: 0.8477 - val_precision: 0.8494 - val_recall: 0.8462\n",
      "Epoch 39/60\n",
      "200/200 [==============================] - 39s 192ms/step - loss: 0.0112 - accuracy: 0.9966 - precision: 0.9966 - recall: 0.9965 - val_loss: 2.4830 - val_accuracy: 0.8536 - val_precision: 0.8540 - val_recall: 0.8534\n",
      "Epoch 40/60\n",
      "200/200 [==============================] - 39s 192ms/step - loss: 0.0161 - accuracy: 0.9954 - precision: 0.9955 - recall: 0.9953 - val_loss: 1.2410 - val_accuracy: 0.8479 - val_precision: 0.8488 - val_recall: 0.8470\n",
      "Epoch 41/60\n",
      "200/200 [==============================] - 38s 192ms/step - loss: 0.0161 - accuracy: 0.9952 - precision: 0.9953 - recall: 0.9951 - val_loss: 1.6682 - val_accuracy: 0.7800 - val_precision: 0.7814 - val_recall: 0.7795\n",
      "Epoch 42/60\n",
      "200/200 [==============================] - 39s 193ms/step - loss: 0.0147 - accuracy: 0.9959 - precision: 0.9959 - recall: 0.9957 - val_loss: 1.8993 - val_accuracy: 0.8607 - val_precision: 0.8612 - val_recall: 0.8605\n",
      "Epoch 43/60\n",
      "200/200 [==============================] - 38s 192ms/step - loss: 0.0065 - accuracy: 0.9980 - precision: 0.9980 - recall: 0.9979 - val_loss: 1.4262 - val_accuracy: 0.8537 - val_precision: 0.8545 - val_recall: 0.8535\n",
      "Epoch 44/60\n",
      "200/200 [==============================] - 39s 193ms/step - loss: 0.0130 - accuracy: 0.9963 - precision: 0.9963 - recall: 0.9962 - val_loss: 1.6230 - val_accuracy: 0.8495 - val_precision: 0.8513 - val_recall: 0.8487\n",
      "Epoch 45/60\n",
      "200/200 [==============================] - 38s 192ms/step - loss: 0.0129 - accuracy: 0.9963 - precision: 0.9963 - recall: 0.9961 - val_loss: 1.5995 - val_accuracy: 0.8796 - val_precision: 0.8803 - val_recall: 0.8792\n",
      "Epoch 46/60\n",
      "200/200 [==============================] - 39s 192ms/step - loss: 0.0137 - accuracy: 0.9959 - precision: 0.9961 - recall: 0.9959 - val_loss: 1.6711 - val_accuracy: 0.8619 - val_precision: 0.8624 - val_recall: 0.8616\n",
      "Epoch 47/60\n",
      "200/200 [==============================] - 39s 192ms/step - loss: 0.0134 - accuracy: 0.9964 - precision: 0.9964 - recall: 0.9963 - val_loss: 13.2869 - val_accuracy: 0.1913 - val_precision: 0.1906 - val_recall: 0.1885\n",
      "Epoch 48/60\n",
      "200/200 [==============================] - 39s 193ms/step - loss: 0.0187 - accuracy: 0.9945 - precision: 0.9947 - recall: 0.9943 - val_loss: 1.7691 - val_accuracy: 0.7335 - val_precision: 0.7360 - val_recall: 0.7316\n",
      "Epoch 49/60\n",
      "200/200 [==============================] - 38s 192ms/step - loss: 0.0160 - accuracy: 0.9954 - precision: 0.9954 - recall: 0.9953 - val_loss: 3.0658 - val_accuracy: 0.8300 - val_precision: 0.8301 - val_recall: 0.8299\n",
      "Epoch 50/60\n",
      "200/200 [==============================] - 39s 193ms/step - loss: 0.0115 - accuracy: 0.9968 - precision: 0.9968 - recall: 0.9966 - val_loss: 1.6273 - val_accuracy: 0.8516 - val_precision: 0.8524 - val_recall: 0.8507\n",
      "Epoch 51/60\n",
      "200/200 [==============================] - 39s 193ms/step - loss: 0.0098 - accuracy: 0.9975 - precision: 0.9975 - recall: 0.9975 - val_loss: 1.0866 - val_accuracy: 0.8695 - val_precision: 0.8705 - val_recall: 0.8692\n",
      "Epoch 52/60\n",
      "200/200 [==============================] - 39s 193ms/step - loss: 0.0040 - accuracy: 0.9986 - precision: 0.9986 - recall: 0.9986 - val_loss: 1.8503 - val_accuracy: 0.8624 - val_precision: 0.8631 - val_recall: 0.8623\n",
      "Epoch 53/60\n",
      "200/200 [==============================] - 39s 192ms/step - loss: 0.0128 - accuracy: 0.9965 - precision: 0.9966 - recall: 0.9965 - val_loss: 0.9679 - val_accuracy: 0.8670 - val_precision: 0.8676 - val_recall: 0.8662\n",
      "Epoch 54/60\n",
      "200/200 [==============================] - 39s 193ms/step - loss: 0.0108 - accuracy: 0.9967 - precision: 0.9967 - recall: 0.9966 - val_loss: 1.4198 - val_accuracy: 0.8645 - val_precision: 0.8653 - val_recall: 0.8641\n",
      "Epoch 55/60\n",
      "200/200 [==============================] - 39s 192ms/step - loss: 0.0136 - accuracy: 0.9964 - precision: 0.9965 - recall: 0.9964 - val_loss: 1.5367 - val_accuracy: 0.8523 - val_precision: 0.8527 - val_recall: 0.8523\n",
      "Epoch 56/60\n",
      "200/200 [==============================] - 39s 193ms/step - loss: 0.0114 - accuracy: 0.9968 - precision: 0.9968 - recall: 0.9967 - val_loss: 2.1205 - val_accuracy: 0.8560 - val_precision: 0.8566 - val_recall: 0.8557\n",
      "Epoch 57/60\n",
      "200/200 [==============================] - 39s 193ms/step - loss: 0.0058 - accuracy: 0.9983 - precision: 0.9983 - recall: 0.9983 - val_loss: 1.0161 - val_accuracy: 0.8672 - val_precision: 0.8685 - val_recall: 0.8666\n",
      "Epoch 58/60\n",
      "200/200 [==============================] - 39s 193ms/step - loss: 0.0055 - accuracy: 0.9985 - precision: 0.9985 - recall: 0.9985 - val_loss: 1.8035 - val_accuracy: 0.7745 - val_precision: 0.7772 - val_recall: 0.7731\n"
     ]
    },
    {
     "name": "stdout",
     "output_type": "stream",
     "text": [
      "Epoch 59/60\n",
      "200/200 [==============================] - 39s 192ms/step - loss: 0.0036 - accuracy: 0.9988 - precision: 0.9988 - recall: 0.9988 - val_loss: 1.2535 - val_accuracy: 0.8634 - val_precision: 0.8640 - val_recall: 0.8629\n",
      "Epoch 60/60\n",
      "200/200 [==============================] - 39s 193ms/step - loss: 0.0111 - accuracy: 0.9968 - precision: 0.9968 - recall: 0.9968 - val_loss: 1.3333 - val_accuracy: 0.8451 - val_precision: 0.8456 - val_recall: 0.8445\n"
     ]
    },
    {
     "data": {
      "image/png": "[encoded data removed]",
      "text/plain": [
       "<Figure size 720x360 with 2 Axes>"
      ]
     },
     "metadata": {
      "needs_background": "light"
     },
     "output_type": "display_data"
    }
   ],
   "source": [
    "model = models.Sequential()\n",
    "\n",
    "model.add(layers.Conv2D(filters=96, kernel_size=11, strides=(4, 4), padding='valid', activation='relu',\n",
    "                        input_shape=(227, 227, 1)))\n",
    "model.add(layers.BatchNormalization())\n",
    "model.add(layers.MaxPooling2D(pool_size=(3, 3), strides=(2, 2),padding='valid'))\n",
    "\n",
    "model.add(layers.Conv2D(filters=256, kernel_size=(\n",
    "        5, 5), strides=(1, 1), activation='relu', padding=\"same\"))\n",
    "model.add(layers.BatchNormalization())\n",
    "model.add(layers.MaxPool2D(pool_size=(3, 3), strides=(2, 2)))\n",
    "\n",
    "model.add(layers.Conv2D(filters=384, kernel_size=(\n",
    "        3, 3), strides=(1, 1), activation='relu', padding=\"same\"))\n",
    "model.add(layers.BatchNormalization())\n",
    "\n",
    "model.add(layers.Conv2D(filters=384, kernel_size=(\n",
    "        3, 3), strides=(1, 1), activation='relu', padding=\"same\"))\n",
    "model.add(layers.BatchNormalization())\n",
    "\n",
    "model.add(layers.Conv2D(filters=256, kernel_size=(\n",
    "        3, 3), strides=(1, 1), activation='relu', padding=\"same\"))\n",
    "# model.add(layers.MaxPool2D(pool_size=(3, 3), strides=(2, 2)))\n",
    "\n",
    "\n",
    "model.add(layers.Flatten())\n",
    "model.add(layers.Dense(4096, activation = 'relu'))\n",
    "model.add(layers.Dropout(0.5))\n",
    "model.add(layers.Dense(4096, activation = 'relu'))\n",
    "model.add(layers.Dropout(0.5))\n",
    "\n",
    "model.add(layers.Dense(8, activation='softmax'))\n",
    "\n",
    "\n",
    "model.compile(optimizer = optimizers.Adam(learning_rate=0.0001),\n",
    "              loss= losses.CategoricalCrossentropy(),\n",
    "              metrics = ['accuracy', Precision(), Recall()])\n",
    "\n",
    "model.summary()\n",
    "\n",
    "results = model.fit(train_generator,\n",
    "                    steps_per_epoch=200,  # Number of training samples to pull per epoch\n",
    "                    epochs=60,  # Number of epochs\n",
    "                    validation_data=val_generator,\n",
    "                    validation_freq=1,\n",
    "                    validation_steps=200,  # Number of validation samples to run validation on\n",
    "                    )\n",
    "\n",
    "display_model_trainTestGraphs(results)"
   ]
  },
  {
   "cell_type": "code",
   "execution_count": 9,
   "id": "5526f36c",
   "metadata": {
    "ExecuteTime": {
     "end_time": "2022-05-22T01:49:45.430377Z",
     "start_time": "2022-05-22T01:49:40.288031Z"
    }
   },
   "outputs": [
    {
     "name": "stderr",
     "output_type": "stream",
     "text": [
      "WARNING:absl:Found untraced functions such as _jit_compiled_convolution_op, _jit_compiled_convolution_op, _jit_compiled_convolution_op, _jit_compiled_convolution_op, _jit_compiled_convolution_op while saving (showing 5 of 5). These functions will not be directly callable after loading.\n"
     ]
    },
    {
     "name": "stdout",
     "output_type": "stream",
     "text": [
      "INFO:tensorflow:Assets written to: tf_AlexNet_checkpoints/Model_1\\assets\n"
     ]
    },
    {
     "name": "stderr",
     "output_type": "stream",
     "text": [
      "INFO:tensorflow:Assets written to: tf_AlexNet_checkpoints/Model_1\\assets\n"
     ]
    }
   ],
   "source": [
    "results.model.save(tf_chkpt_path+'Model_1')"
   ]
  },
  {
   "cell_type": "markdown",
   "id": "783e63cf",
   "metadata": {},
   "source": [
    "# Model - AlexNet with one extra MaxPooling"
   ]
  },
  {
   "cell_type": "code",
   "execution_count": 10,
   "id": "efa632d2",
   "metadata": {
    "ExecuteTime": {
     "end_time": "2022-05-22T02:23:00.135036Z",
     "start_time": "2022-05-22T01:49:45.432377Z"
    },
    "scrolled": false
   },
   "outputs": [
    {
     "name": "stdout",
     "output_type": "stream",
     "text": [
      "Model: \"sequential_1\"\n",
      "_________________________________________________________________\n",
      " Layer (type)                Output Shape              Param #   \n",
      "=================================================================\n",
      " conv2d_5 (Conv2D)           (None, 55, 55, 96)        11712     \n",
      "                                                                 \n",
      " batch_normalization_4 (Batc  (None, 55, 55, 96)       384       \n",
      " hNormalization)                                                 \n",
      "                                                                 \n",
      " max_pooling2d_2 (MaxPooling  (None, 27, 27, 96)       0         \n",
      " 2D)                                                             \n",
      "                                                                 \n",
      " conv2d_6 (Conv2D)           (None, 27, 27, 256)       614656    \n",
      "                                                                 \n",
      " batch_normalization_5 (Batc  (None, 27, 27, 256)      1024      \n",
      " hNormalization)                                                 \n",
      "                                                                 \n",
      " max_pooling2d_3 (MaxPooling  (None, 13, 13, 256)      0         \n",
      " 2D)                                                             \n",
      "                                                                 \n",
      " conv2d_7 (Conv2D)           (None, 13, 13, 384)       885120    \n",
      "                                                                 \n",
      " batch_normalization_6 (Batc  (None, 13, 13, 384)      1536      \n",
      " hNormalization)                                                 \n",
      "                                                                 \n",
      " conv2d_8 (Conv2D)           (None, 13, 13, 384)       1327488   \n",
      "                                                                 \n",
      " batch_normalization_7 (Batc  (None, 13, 13, 384)      1536      \n",
      " hNormalization)                                                 \n",
      "                                                                 \n",
      " conv2d_9 (Conv2D)           (None, 13, 13, 256)       884992    \n",
      "                                                                 \n",
      " max_pooling2d_4 (MaxPooling  (None, 6, 6, 256)        0         \n",
      " 2D)                                                             \n",
      "                                                                 \n",
      " flatten_1 (Flatten)         (None, 9216)              0         \n",
      "                                                                 \n",
      " dense_3 (Dense)             (None, 4096)              37752832  \n",
      "                                                                 \n",
      " dropout_2 (Dropout)         (None, 4096)              0         \n",
      "                                                                 \n",
      " dense_4 (Dense)             (None, 4096)              16781312  \n",
      "                                                                 \n",
      " dropout_3 (Dropout)         (None, 4096)              0         \n",
      "                                                                 \n",
      " dense_5 (Dense)             (None, 8)                 32776     \n",
      "                                                                 \n",
      "=================================================================\n",
      "Total params: 58,295,368\n",
      "Trainable params: 58,293,128\n",
      "Non-trainable params: 2,240\n",
      "_________________________________________________________________\n",
      "Epoch 1/60\n",
      "200/200 [==============================] - 34s 167ms/step - loss: 0.7389 - accuracy: 0.8281 - precision_1: 0.8485 - recall_1: 0.8050 - val_loss: 0.9151 - val_accuracy: 0.7905 - val_precision_1: 0.7905 - val_recall_1: 0.7905\n",
      "Epoch 2/60\n",
      "200/200 [==============================] - 33s 166ms/step - loss: 0.4195 - accuracy: 0.8720 - precision_1: 0.8888 - recall_1: 0.8543 - val_loss: 1.0604 - val_accuracy: 0.7598 - val_precision_1: 0.7697 - val_recall_1: 0.7454\n",
      "Epoch 3/60\n",
      "200/200 [==============================] - 33s 165ms/step - loss: 0.3500 - accuracy: 0.8944 - precision_1: 0.9051 - recall_1: 0.8817 - val_loss: 1.2664 - val_accuracy: 0.5760 - val_precision_1: 0.5927 - val_recall_1: 0.5328\n",
      "Epoch 4/60\n",
      "200/200 [==============================] - 33s 165ms/step - loss: 0.2974 - accuracy: 0.9093 - precision_1: 0.9176 - recall_1: 0.9003 - val_loss: 1.0567 - val_accuracy: 0.6109 - val_precision_1: 0.6618 - val_recall_1: 0.3803\n",
      "Epoch 5/60\n",
      "200/200 [==============================] - 33s 165ms/step - loss: 0.2564 - accuracy: 0.9205 - precision_1: 0.9267 - recall_1: 0.9135 - val_loss: 0.6990 - val_accuracy: 0.7962 - val_precision_1: 0.8075 - val_recall_1: 0.7912\n",
      "Epoch 6/60\n",
      "200/200 [==============================] - 33s 166ms/step - loss: 0.2259 - accuracy: 0.9297 - precision_1: 0.9343 - recall_1: 0.9248 - val_loss: 0.5607 - val_accuracy: 0.8461 - val_precision_1: 0.8546 - val_recall_1: 0.8396\n",
      "Epoch 7/60\n",
      "200/200 [==============================] - 33s 166ms/step - loss: 0.1959 - accuracy: 0.9384 - precision_1: 0.9421 - recall_1: 0.9345 - val_loss: 0.8534 - val_accuracy: 0.8139 - val_precision_1: 0.8232 - val_recall_1: 0.8080\n",
      "Epoch 8/60\n",
      "200/200 [==============================] - 33s 165ms/step - loss: 0.1681 - accuracy: 0.9464 - precision_1: 0.9494 - recall_1: 0.9436 - val_loss: 1.3582 - val_accuracy: 0.7855 - val_precision_1: 0.7878 - val_recall_1: 0.7844\n",
      "Epoch 9/60\n",
      "200/200 [==============================] - 33s 166ms/step - loss: 0.1480 - accuracy: 0.9532 - precision_1: 0.9554 - recall_1: 0.9510 - val_loss: 0.7839 - val_accuracy: 0.8174 - val_precision_1: 0.8211 - val_recall_1: 0.8145\n",
      "Epoch 10/60\n",
      "200/200 [==============================] - 33s 166ms/step - loss: 0.1297 - accuracy: 0.9587 - precision_1: 0.9602 - recall_1: 0.9569 - val_loss: 0.7543 - val_accuracy: 0.8381 - val_precision_1: 0.8417 - val_recall_1: 0.8364\n",
      "Epoch 11/60\n",
      "200/200 [==============================] - 33s 166ms/step - loss: 0.1166 - accuracy: 0.9625 - precision_1: 0.9638 - recall_1: 0.9611 - val_loss: 0.8558 - val_accuracy: 0.7684 - val_precision_1: 0.7796 - val_recall_1: 0.7567\n",
      "Epoch 12/60\n",
      "200/200 [==============================] - 33s 165ms/step - loss: 0.0978 - accuracy: 0.9680 - precision_1: 0.9688 - recall_1: 0.9669 - val_loss: 1.5191 - val_accuracy: 0.7117 - val_precision_1: 0.7220 - val_recall_1: 0.7032\n",
      "Epoch 13/60\n",
      "200/200 [==============================] - 33s 166ms/step - loss: 0.0973 - accuracy: 0.9674 - precision_1: 0.9685 - recall_1: 0.9661 - val_loss: 1.0362 - val_accuracy: 0.7178 - val_precision_1: 0.7325 - val_recall_1: 0.7017\n",
      "Epoch 14/60\n",
      "200/200 [==============================] - 33s 166ms/step - loss: 0.0808 - accuracy: 0.9730 - precision_1: 0.9736 - recall_1: 0.9722 - val_loss: 1.1374 - val_accuracy: 0.8087 - val_precision_1: 0.8125 - val_recall_1: 0.8055\n",
      "Epoch 15/60\n",
      "200/200 [==============================] - 33s 166ms/step - loss: 0.0669 - accuracy: 0.9783 - precision_1: 0.9789 - recall_1: 0.9777 - val_loss: 0.6908 - val_accuracy: 0.8457 - val_precision_1: 0.8506 - val_recall_1: 0.8426\n",
      "Epoch 16/60\n",
      "200/200 [==============================] - 33s 166ms/step - loss: 0.0640 - accuracy: 0.9783 - precision_1: 0.9788 - recall_1: 0.9779 - val_loss: 0.8133 - val_accuracy: 0.8366 - val_precision_1: 0.8393 - val_recall_1: 0.8338\n",
      "Epoch 17/60\n",
      "200/200 [==============================] - 33s 165ms/step - loss: 0.0574 - accuracy: 0.9816 - precision_1: 0.9822 - recall_1: 0.9812 - val_loss: 0.8611 - val_accuracy: 0.8609 - val_precision_1: 0.8630 - val_recall_1: 0.8596\n",
      "Epoch 18/60\n",
      "200/200 [==============================] - 33s 166ms/step - loss: 0.0449 - accuracy: 0.9851 - precision_1: 0.9855 - recall_1: 0.9847 - val_loss: 2.2008 - val_accuracy: 0.5878 - val_precision_1: 0.5967 - val_recall_1: 0.5718\n",
      "Epoch 19/60\n",
      "200/200 [==============================] - 33s 166ms/step - loss: 0.0480 - accuracy: 0.9843 - precision_1: 0.9846 - recall_1: 0.9838 - val_loss: 0.9611 - val_accuracy: 0.7566 - val_precision_1: 0.7648 - val_recall_1: 0.7473\n",
      "Epoch 20/60\n",
      "200/200 [==============================] - 33s 165ms/step - loss: 0.0387 - accuracy: 0.9878 - precision_1: 0.9880 - recall_1: 0.9875 - val_loss: 1.1774 - val_accuracy: 0.7292 - val_precision_1: 0.7394 - val_recall_1: 0.7130\n",
      "Epoch 21/60\n",
      "200/200 [==============================] - 33s 165ms/step - loss: 0.0360 - accuracy: 0.9880 - precision_1: 0.9882 - recall_1: 0.9878 - val_loss: 1.7711 - val_accuracy: 0.7327 - val_precision_1: 0.7360 - val_recall_1: 0.7297\n"
     ]
    },
    {
     "name": "stdout",
     "output_type": "stream",
     "text": [
      "Epoch 22/60\n",
      "200/200 [==============================] - 33s 166ms/step - loss: 0.0378 - accuracy: 0.9879 - precision_1: 0.9881 - recall_1: 0.9876 - val_loss: 0.8042 - val_accuracy: 0.8653 - val_precision_1: 0.8678 - val_recall_1: 0.8638\n",
      "Epoch 23/60\n",
      "200/200 [==============================] - 33s 165ms/step - loss: 0.0308 - accuracy: 0.9903 - precision_1: 0.9906 - recall_1: 0.9901 - val_loss: 1.8208 - val_accuracy: 0.6809 - val_precision_1: 0.6876 - val_recall_1: 0.6673\n",
      "Epoch 24/60\n",
      "200/200 [==============================] - 33s 165ms/step - loss: 0.0313 - accuracy: 0.9902 - precision_1: 0.9904 - recall_1: 0.9899 - val_loss: 0.9425 - val_accuracy: 0.8238 - val_precision_1: 0.8265 - val_recall_1: 0.8219\n",
      "Epoch 25/60\n",
      "200/200 [==============================] - 33s 165ms/step - loss: 0.0228 - accuracy: 0.9924 - precision_1: 0.9925 - recall_1: 0.9923 - val_loss: 1.0318 - val_accuracy: 0.8695 - val_precision_1: 0.8698 - val_recall_1: 0.8688\n",
      "Epoch 26/60\n",
      "200/200 [==============================] - 33s 166ms/step - loss: 0.0286 - accuracy: 0.9907 - precision_1: 0.9908 - recall_1: 0.9905 - val_loss: 0.8633 - val_accuracy: 0.8697 - val_precision_1: 0.8714 - val_recall_1: 0.8684\n",
      "Epoch 27/60\n",
      "200/200 [==============================] - 33s 166ms/step - loss: 0.0303 - accuracy: 0.9904 - precision_1: 0.9907 - recall_1: 0.9902 - val_loss: 1.3430 - val_accuracy: 0.8265 - val_precision_1: 0.8280 - val_recall_1: 0.8263\n",
      "Epoch 28/60\n",
      "200/200 [==============================] - 33s 166ms/step - loss: 0.0125 - accuracy: 0.9959 - precision_1: 0.9960 - recall_1: 0.9959 - val_loss: 0.8810 - val_accuracy: 0.8612 - val_precision_1: 0.8626 - val_recall_1: 0.8601\n",
      "Epoch 29/60\n",
      "200/200 [==============================] - 33s 165ms/step - loss: 0.0193 - accuracy: 0.9940 - precision_1: 0.9941 - recall_1: 0.9938 - val_loss: 1.1699 - val_accuracy: 0.8202 - val_precision_1: 0.8233 - val_recall_1: 0.8178\n",
      "Epoch 30/60\n",
      "200/200 [==============================] - 33s 165ms/step - loss: 0.0267 - accuracy: 0.9914 - precision_1: 0.9915 - recall_1: 0.9913 - val_loss: 2.8134 - val_accuracy: 0.8337 - val_precision_1: 0.8339 - val_recall_1: 0.8337\n",
      "Epoch 31/60\n",
      "200/200 [==============================] - 33s 165ms/step - loss: 0.0259 - accuracy: 0.9913 - precision_1: 0.9914 - recall_1: 0.9912 - val_loss: 0.8284 - val_accuracy: 0.8246 - val_precision_1: 0.8328 - val_recall_1: 0.8167\n",
      "Epoch 32/60\n",
      "200/200 [==============================] - 33s 165ms/step - loss: 0.0222 - accuracy: 0.9932 - precision_1: 0.9934 - recall_1: 0.9931 - val_loss: 1.6927 - val_accuracy: 0.7334 - val_precision_1: 0.7364 - val_recall_1: 0.7292\n",
      "Epoch 33/60\n",
      "200/200 [==============================] - 33s 166ms/step - loss: 0.0160 - accuracy: 0.9945 - precision_1: 0.9947 - recall_1: 0.9945 - val_loss: 1.0138 - val_accuracy: 0.8147 - val_precision_1: 0.8176 - val_recall_1: 0.8108\n",
      "Epoch 34/60\n",
      "200/200 [==============================] - 33s 166ms/step - loss: 0.0160 - accuracy: 0.9947 - precision_1: 0.9948 - recall_1: 0.9946 - val_loss: 0.9744 - val_accuracy: 0.8750 - val_precision_1: 0.8763 - val_recall_1: 0.8741\n",
      "Epoch 35/60\n",
      "200/200 [==============================] - 33s 165ms/step - loss: 0.0128 - accuracy: 0.9960 - precision_1: 0.9961 - recall_1: 0.9960 - val_loss: 2.3830 - val_accuracy: 0.6707 - val_precision_1: 0.6722 - val_recall_1: 0.6687\n",
      "Epoch 36/60\n",
      "200/200 [==============================] - 33s 165ms/step - loss: 0.0156 - accuracy: 0.9952 - precision_1: 0.9953 - recall_1: 0.9951 - val_loss: 1.5806 - val_accuracy: 0.7112 - val_precision_1: 0.7178 - val_recall_1: 0.7052\n",
      "Epoch 37/60\n",
      "200/200 [==============================] - 33s 165ms/step - loss: 0.0190 - accuracy: 0.9942 - precision_1: 0.9944 - recall_1: 0.9941 - val_loss: 1.6553 - val_accuracy: 0.8284 - val_precision_1: 0.8289 - val_recall_1: 0.8280\n",
      "Epoch 38/60\n",
      "200/200 [==============================] - 33s 166ms/step - loss: 0.0107 - accuracy: 0.9964 - precision_1: 0.9965 - recall_1: 0.9964 - val_loss: 1.0283 - val_accuracy: 0.8568 - val_precision_1: 0.8579 - val_recall_1: 0.8560\n",
      "Epoch 39/60\n",
      "200/200 [==============================] - 33s 166ms/step - loss: 0.0201 - accuracy: 0.9938 - precision_1: 0.9940 - recall_1: 0.9938 - val_loss: 1.7600 - val_accuracy: 0.7434 - val_precision_1: 0.7512 - val_recall_1: 0.7373\n",
      "Epoch 40/60\n",
      "200/200 [==============================] - 33s 165ms/step - loss: 0.0109 - accuracy: 0.9967 - precision_1: 0.9968 - recall_1: 0.9967 - val_loss: 1.0872 - val_accuracy: 0.8475 - val_precision_1: 0.8499 - val_recall_1: 0.8460\n",
      "Epoch 41/60\n",
      "200/200 [==============================] - 33s 165ms/step - loss: 0.0174 - accuracy: 0.9953 - precision_1: 0.9954 - recall_1: 0.9952 - val_loss: 1.2860 - val_accuracy: 0.8059 - val_precision_1: 0.8080 - val_recall_1: 0.8033\n",
      "Epoch 42/60\n",
      "200/200 [==============================] - 33s 166ms/step - loss: 0.0171 - accuracy: 0.9948 - precision_1: 0.9950 - recall_1: 0.9947 - val_loss: 2.1666 - val_accuracy: 0.7898 - val_precision_1: 0.7900 - val_recall_1: 0.7896\n",
      "Epoch 43/60\n",
      "200/200 [==============================] - 33s 165ms/step - loss: 0.0126 - accuracy: 0.9959 - precision_1: 0.9959 - recall_1: 0.9958 - val_loss: 1.0290 - val_accuracy: 0.8630 - val_precision_1: 0.8637 - val_recall_1: 0.8627\n",
      "Epoch 44/60\n",
      "200/200 [==============================] - 33s 165ms/step - loss: 0.0103 - accuracy: 0.9968 - precision_1: 0.9968 - recall_1: 0.9968 - val_loss: 2.3063 - val_accuracy: 0.6537 - val_precision_1: 0.6548 - val_recall_1: 0.6526\n",
      "Epoch 45/60\n",
      "200/200 [==============================] - 33s 165ms/step - loss: 0.0158 - accuracy: 0.9951 - precision_1: 0.9951 - recall_1: 0.9950 - val_loss: 1.3481 - val_accuracy: 0.8084 - val_precision_1: 0.8113 - val_recall_1: 0.8066\n",
      "Epoch 46/60\n",
      "200/200 [==============================] - 34s 169ms/step - loss: 0.0130 - accuracy: 0.9958 - precision_1: 0.9958 - recall_1: 0.9958 - val_loss: 1.0783 - val_accuracy: 0.8141 - val_precision_1: 0.8178 - val_recall_1: 0.8113\n",
      "Epoch 47/60\n",
      "200/200 [==============================] - 34s 169ms/step - loss: 0.0105 - accuracy: 0.9967 - precision_1: 0.9967 - recall_1: 0.9967 - val_loss: 2.2922 - val_accuracy: 0.8373 - val_precision_1: 0.8379 - val_recall_1: 0.8372\n",
      "Epoch 48/60\n",
      "200/200 [==============================] - 33s 165ms/step - loss: 0.0115 - accuracy: 0.9963 - precision_1: 0.9963 - recall_1: 0.9963 - val_loss: 0.8761 - val_accuracy: 0.8776 - val_precision_1: 0.8791 - val_recall_1: 0.8769\n",
      "Epoch 49/60\n",
      "200/200 [==============================] - 33s 165ms/step - loss: 0.0172 - accuracy: 0.9953 - precision_1: 0.9953 - recall_1: 0.9951 - val_loss: 1.0305 - val_accuracy: 0.8666 - val_precision_1: 0.8672 - val_recall_1: 0.8657\n",
      "Epoch 50/60\n",
      "200/200 [==============================] - 33s 165ms/step - loss: 0.0139 - accuracy: 0.9957 - precision_1: 0.9957 - recall_1: 0.9956 - val_loss: 0.9081 - val_accuracy: 0.8671 - val_precision_1: 0.8686 - val_recall_1: 0.8663\n",
      "Epoch 51/60\n",
      "200/200 [==============================] - 33s 165ms/step - loss: 0.0134 - accuracy: 0.9961 - precision_1: 0.9963 - recall_1: 0.9961 - val_loss: 1.1887 - val_accuracy: 0.7765 - val_precision_1: 0.7822 - val_recall_1: 0.7712\n",
      "Epoch 52/60\n",
      "200/200 [==============================] - 33s 166ms/step - loss: 0.0082 - accuracy: 0.9977 - precision_1: 0.9977 - recall_1: 0.9976 - val_loss: 1.2360 - val_accuracy: 0.8468 - val_precision_1: 0.8480 - val_recall_1: 0.8466\n",
      "Epoch 53/60\n",
      "200/200 [==============================] - 33s 165ms/step - loss: 0.0120 - accuracy: 0.9964 - precision_1: 0.9965 - recall_1: 0.9964 - val_loss: 1.4275 - val_accuracy: 0.8344 - val_precision_1: 0.8358 - val_recall_1: 0.8340\n",
      "Epoch 54/60\n",
      "200/200 [==============================] - 33s 165ms/step - loss: 0.0133 - accuracy: 0.9962 - precision_1: 0.9963 - recall_1: 0.9961 - val_loss: 1.0902 - val_accuracy: 0.8712 - val_precision_1: 0.8717 - val_recall_1: 0.8709\n",
      "Epoch 55/60\n",
      "200/200 [==============================] - 33s 166ms/step - loss: 0.0064 - accuracy: 0.9980 - precision_1: 0.9981 - recall_1: 0.9980 - val_loss: 1.4409 - val_accuracy: 0.8121 - val_precision_1: 0.8142 - val_recall_1: 0.8107\n",
      "Epoch 56/60\n",
      "200/200 [==============================] - 33s 165ms/step - loss: 0.0087 - accuracy: 0.9974 - precision_1: 0.9974 - recall_1: 0.9974 - val_loss: 1.2607 - val_accuracy: 0.8716 - val_precision_1: 0.8719 - val_recall_1: 0.8713\n"
     ]
    },
    {
     "name": "stdout",
     "output_type": "stream",
     "text": [
      "Epoch 57/60\n",
      "200/200 [==============================] - 33s 165ms/step - loss: 0.0107 - accuracy: 0.9969 - precision_1: 0.9969 - recall_1: 0.9968 - val_loss: 1.1700 - val_accuracy: 0.8773 - val_precision_1: 0.8779 - val_recall_1: 0.8772\n",
      "Epoch 58/60\n",
      "200/200 [==============================] - 33s 165ms/step - loss: 0.0130 - accuracy: 0.9963 - precision_1: 0.9963 - recall_1: 0.9962 - val_loss: 1.1563 - val_accuracy: 0.8622 - val_precision_1: 0.8633 - val_recall_1: 0.8618\n",
      "Epoch 59/60\n",
      "200/200 [==============================] - 33s 165ms/step - loss: 0.0101 - accuracy: 0.9971 - precision_1: 0.9971 - recall_1: 0.9970 - val_loss: 4.1284 - val_accuracy: 0.6879 - val_precision_1: 0.6889 - val_recall_1: 0.6864\n",
      "Epoch 60/60\n",
      "200/200 [==============================] - 33s 165ms/step - loss: 0.0063 - accuracy: 0.9981 - precision_1: 0.9981 - recall_1: 0.9981 - val_loss: 1.2174 - val_accuracy: 0.8684 - val_precision_1: 0.8689 - val_recall_1: 0.8675\n"
     ]
    },
    {
     "data": {
      "image/png": "[encoded data removed]",
      "text/plain": [
       "<Figure size 720x360 with 2 Axes>"
      ]
     },
     "metadata": {
      "needs_background": "light"
     },
     "output_type": "display_data"
    }
   ],
   "source": [
    "model = models.Sequential()\n",
    "\n",
    "model.add(layers.Conv2D(filters=96, kernel_size=11, strides=(4, 4), padding='valid', activation='relu',\n",
    "                        input_shape=(227, 227, 1)))\n",
    "model.add(layers.BatchNormalization())\n",
    "model.add(layers.MaxPooling2D(pool_size=(3, 3), strides=(2, 2),padding='valid'))\n",
    "\n",
    "model.add(layers.Conv2D(filters=256, kernel_size=(\n",
    "        5, 5), strides=(1, 1), activation='relu', padding=\"same\"))\n",
    "model.add(layers.BatchNormalization())\n",
    "model.add(layers.MaxPool2D(pool_size=(3, 3), strides=(2, 2)))\n",
    "\n",
    "model.add(layers.Conv2D(filters=384, kernel_size=(\n",
    "        3, 3), strides=(1, 1), activation='relu', padding=\"same\"))\n",
    "model.add(layers.BatchNormalization())\n",
    "\n",
    "model.add(layers.Conv2D(filters=384, kernel_size=(\n",
    "        3, 3), strides=(1, 1), activation='relu', padding=\"same\"))\n",
    "model.add(layers.BatchNormalization())\n",
    "\n",
    "model.add(layers.Conv2D(filters=256, kernel_size=(\n",
    "        3, 3), strides=(1, 1), activation='relu', padding=\"same\"))\n",
    "model.add(layers.MaxPool2D(pool_size=(3, 3), strides=(2, 2)))\n",
    "\n",
    "\n",
    "model.add(layers.Flatten())\n",
    "model.add(layers.Dense(4096, activation = 'relu'))\n",
    "model.add(layers.Dropout(0.5))\n",
    "model.add(layers.Dense(4096, activation = 'relu'))\n",
    "model.add(layers.Dropout(0.5))\n",
    "\n",
    "model.add(layers.Dense(8, activation='softmax'))\n",
    "\n",
    "\n",
    "model.compile(optimizer = optimizers.Adam(learning_rate=0.0001),\n",
    "              loss= losses.CategoricalCrossentropy(),\n",
    "              metrics = ['accuracy', Precision(), Recall()])\n",
    "\n",
    "model.summary()\n",
    "\n",
    "results = model.fit(train_generator,\n",
    "                    steps_per_epoch=200,  # Number of training samples to pull per epoch\n",
    "                    epochs=60,  # Number of epochs\n",
    "                    validation_data=val_generator,\n",
    "                    validation_freq=1,\n",
    "                    validation_steps=200,  # Number of validation samples to run validation on\n",
    "                    )\n",
    "\n",
    "display_model_trainTestGraphs(results)"
   ]
  },
  {
   "cell_type": "code",
   "execution_count": 11,
   "id": "2dbb6a76",
   "metadata": {
    "ExecuteTime": {
     "end_time": "2022-05-22T02:23:02.946523Z",
     "start_time": "2022-05-22T02:23:00.136028Z"
    }
   },
   "outputs": [
    {
     "name": "stderr",
     "output_type": "stream",
     "text": [
      "WARNING:absl:Found untraced functions such as _jit_compiled_convolution_op, _jit_compiled_convolution_op, _jit_compiled_convolution_op, _jit_compiled_convolution_op, _jit_compiled_convolution_op while saving (showing 5 of 5). These functions will not be directly callable after loading.\n"
     ]
    },
    {
     "name": "stdout",
     "output_type": "stream",
     "text": [
      "INFO:tensorflow:Assets written to: tf_AlexNet_checkpoints/Model_1_plusMaxPooling\\assets\n"
     ]
    },
    {
     "name": "stderr",
     "output_type": "stream",
     "text": [
      "INFO:tensorflow:Assets written to: tf_AlexNet_checkpoints/Model_1_plusMaxPooling\\assets\n"
     ]
    }
   ],
   "source": [
    "results.model.save(tf_chkpt_path+'Model_1_plusMaxPooling')"
   ]
  },
  {
   "cell_type": "code",
   "execution_count": null,
   "id": "44ae570e",
   "metadata": {},
   "outputs": [],
   "source": []
  }
 ],
 "metadata": {
  "kernelspec": {
   "display_name": "tfGPU",
   "language": "python",
   "name": "tfgpu"
  },
  "language_info": {
   "codemirror_mode": {
    "name": "ipython",
    "version": 3
   },
   "file_extension": ".py",
   "mimetype": "text/x-python",
   "name": "python",
   "nbconvert_exporter": "python",
   "pygments_lexer": "ipython3",
   "version": "3.9.12"
  },
  "toc": {
   "base_numbering": 1,
   "nav_menu": {},
   "number_sections": true,
   "sideBar": true,
   "skip_h1_title": false,
   "title_cell": "Table of Contents",
   "title_sidebar": "Contents",
   "toc_cell": false,
   "toc_position": {},
   "toc_section_display": true,
   "toc_window_display": false
  },
  "varInspector": {
   "cols": {
    "lenName": 16,
    "lenType": 16,
    "lenVar": 40
   },
   "kernels_config": {
    "python": {
     "delete_cmd_postfix": "",
     "delete_cmd_prefix": "del ",
     "library": "var_list.py",
     "varRefreshCmd": "print(var_dic_list())"
    },
    "r": {
     "delete_cmd_postfix": ") ",
     "delete_cmd_prefix": "rm(",
     "library": "var_list.r",
     "varRefreshCmd": "cat(var_dic_list()) "
    }
   },
   "position": {
    "height": "741.844px",
    "left": "1550px",
    "right": "20px",
    "top": "120px",
    "width": "350px"
   },
   "types_to_exclude": [
    "module",
    "function",
    "builtin_function_or_method",
    "instance",
    "_Feature"
   ],
   "window_display": false
  }
 },
 "nbformat": 4,
 "nbformat_minor": 5
}
