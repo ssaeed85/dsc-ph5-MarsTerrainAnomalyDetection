{
 "cells": [
  {
   "cell_type": "code",
   "execution_count": 1,
   "id": "b4778a50",
   "metadata": {
    "ExecuteTime": {
     "end_time": "2022-05-24T20:30:20.224423Z",
     "start_time": "2022-05-24T20:30:19.786325Z"
    }
   },
   "outputs": [],
   "source": [
    "import pandas as pd\n",
    "from sklearn.dummy import DummyClassifier\n",
    "\n",
    "extractedDirectory = 'extractedData'\n",
    "\n",
    "rawDataDir = '/'.join([extractedDirectory,'hirise-map-proj-v3_2'])"
   ]
  },
  {
   "cell_type": "code",
   "execution_count": 2,
   "id": "307c6f51",
   "metadata": {
    "ExecuteTime": {
     "end_time": "2022-05-24T20:30:23.755910Z",
     "start_time": "2022-05-24T20:30:23.661192Z"
    }
   },
   "outputs": [
    {
     "data": {
      "text/html": [
       "<div>\n",
       "<style scoped>\n",
       "    .dataframe tbody tr th:only-of-type {\n",
       "        vertical-align: middle;\n",
       "    }\n",
       "\n",
       "    .dataframe tbody tr th {\n",
       "        vertical-align: top;\n",
       "    }\n",
       "\n",
       "    .dataframe thead th {\n",
       "        text-align: right;\n",
       "    }\n",
       "</style>\n",
       "<table border=\"1\" class=\"dataframe\">\n",
       "  <thead>\n",
       "    <tr style=\"text-align: right;\">\n",
       "      <th></th>\n",
       "      <th>imageName</th>\n",
       "      <th>class</th>\n",
       "      <th>imageSet</th>\n",
       "    </tr>\n",
       "  </thead>\n",
       "  <tbody>\n",
       "    <tr>\n",
       "      <th>0</th>\n",
       "      <td>ESP_013049_0950_RED-0067.jpg</td>\n",
       "      <td>7</td>\n",
       "      <td>train</td>\n",
       "    </tr>\n",
       "    <tr>\n",
       "      <th>1</th>\n",
       "      <td>ESP_013049_0950_RED-0067-fv.jpg</td>\n",
       "      <td>7</td>\n",
       "      <td>train</td>\n",
       "    </tr>\n",
       "    <tr>\n",
       "      <th>2</th>\n",
       "      <td>ESP_013049_0950_RED-0067-brt.jpg</td>\n",
       "      <td>7</td>\n",
       "      <td>train</td>\n",
       "    </tr>\n",
       "    <tr>\n",
       "      <th>3</th>\n",
       "      <td>ESP_013049_0950_RED-0067-r90.jpg</td>\n",
       "      <td>7</td>\n",
       "      <td>train</td>\n",
       "    </tr>\n",
       "    <tr>\n",
       "      <th>4</th>\n",
       "      <td>ESP_013049_0950_RED-0067-r180.jpg</td>\n",
       "      <td>7</td>\n",
       "      <td>train</td>\n",
       "    </tr>\n",
       "    <tr>\n",
       "      <th>...</th>\n",
       "      <td>...</td>\n",
       "      <td>...</td>\n",
       "      <td>...</td>\n",
       "    </tr>\n",
       "    <tr>\n",
       "      <th>67805</th>\n",
       "      <td>ESP_018707_2205_RED-0041.jpg</td>\n",
       "      <td>0</td>\n",
       "      <td>test</td>\n",
       "    </tr>\n",
       "    <tr>\n",
       "      <th>67806</th>\n",
       "      <td>ESP_018707_2205_RED-0062.jpg</td>\n",
       "      <td>0</td>\n",
       "      <td>test</td>\n",
       "    </tr>\n",
       "    <tr>\n",
       "      <th>67807</th>\n",
       "      <td>ESP_018707_2205_RED-0105.jpg</td>\n",
       "      <td>0</td>\n",
       "      <td>test</td>\n",
       "    </tr>\n",
       "    <tr>\n",
       "      <th>67808</th>\n",
       "      <td>ESP_018707_2205_RED-0058.jpg</td>\n",
       "      <td>0</td>\n",
       "      <td>test</td>\n",
       "    </tr>\n",
       "    <tr>\n",
       "      <th>67809</th>\n",
       "      <td>ESP_018707_2205_RED-0051.jpg</td>\n",
       "      <td>0</td>\n",
       "      <td>test</td>\n",
       "    </tr>\n",
       "  </tbody>\n",
       "</table>\n",
       "<p>67810 rows × 3 columns</p>\n",
       "</div>"
      ],
      "text/plain": [
       "                               imageName  class imageSet\n",
       "0           ESP_013049_0950_RED-0067.jpg      7    train\n",
       "1        ESP_013049_0950_RED-0067-fv.jpg      7    train\n",
       "2       ESP_013049_0950_RED-0067-brt.jpg      7    train\n",
       "3       ESP_013049_0950_RED-0067-r90.jpg      7    train\n",
       "4      ESP_013049_0950_RED-0067-r180.jpg      7    train\n",
       "...                                  ...    ...      ...\n",
       "67805       ESP_018707_2205_RED-0041.jpg      0     test\n",
       "67806       ESP_018707_2205_RED-0062.jpg      0     test\n",
       "67807       ESP_018707_2205_RED-0105.jpg      0     test\n",
       "67808       ESP_018707_2205_RED-0058.jpg      0     test\n",
       "67809       ESP_018707_2205_RED-0051.jpg      0     test\n",
       "\n",
       "[67810 rows x 3 columns]"
      ]
     },
     "execution_count": 2,
     "metadata": {},
     "output_type": "execute_result"
    }
   ],
   "source": [
    "imageMap = pd.read_csv(\n",
    "    '/'.join([rawDataDir,\"labels-map-proj_v3_2_train_val_test.txt\"]), \n",
    "    header = None,\n",
    "    names = ['imageName','class','imageSet'],\n",
    "    delimiter = ' '    \n",
    ")\n",
    "imageMap"
   ]
  },
  {
   "cell_type": "code",
   "execution_count": 3,
   "id": "71e49d6f",
   "metadata": {
    "ExecuteTime": {
     "end_time": "2022-05-24T20:30:23.770912Z",
     "start_time": "2022-05-24T20:30:23.757910Z"
    }
   },
   "outputs": [
    {
     "data": {
      "text/html": [
       "<div>\n",
       "<style scoped>\n",
       "    .dataframe tbody tr th:only-of-type {\n",
       "        vertical-align: middle;\n",
       "    }\n",
       "\n",
       "    .dataframe tbody tr th {\n",
       "        vertical-align: top;\n",
       "    }\n",
       "\n",
       "    .dataframe thead th {\n",
       "        text-align: right;\n",
       "    }\n",
       "</style>\n",
       "<table border=\"1\" class=\"dataframe\">\n",
       "  <thead>\n",
       "    <tr style=\"text-align: right;\">\n",
       "      <th></th>\n",
       "      <th>class</th>\n",
       "      <th>className</th>\n",
       "    </tr>\n",
       "  </thead>\n",
       "  <tbody>\n",
       "    <tr>\n",
       "      <th>0</th>\n",
       "      <td>0</td>\n",
       "      <td>other</td>\n",
       "    </tr>\n",
       "    <tr>\n",
       "      <th>1</th>\n",
       "      <td>1</td>\n",
       "      <td>crater</td>\n",
       "    </tr>\n",
       "    <tr>\n",
       "      <th>2</th>\n",
       "      <td>2</td>\n",
       "      <td>dark dune</td>\n",
       "    </tr>\n",
       "    <tr>\n",
       "      <th>3</th>\n",
       "      <td>3</td>\n",
       "      <td>slope streak</td>\n",
       "    </tr>\n",
       "    <tr>\n",
       "      <th>4</th>\n",
       "      <td>4</td>\n",
       "      <td>bright dune</td>\n",
       "    </tr>\n",
       "    <tr>\n",
       "      <th>5</th>\n",
       "      <td>5</td>\n",
       "      <td>impact ejecta</td>\n",
       "    </tr>\n",
       "    <tr>\n",
       "      <th>6</th>\n",
       "      <td>6</td>\n",
       "      <td>swiss cheese</td>\n",
       "    </tr>\n",
       "    <tr>\n",
       "      <th>7</th>\n",
       "      <td>7</td>\n",
       "      <td>spider</td>\n",
       "    </tr>\n",
       "  </tbody>\n",
       "</table>\n",
       "</div>"
      ],
      "text/plain": [
       "   class      className\n",
       "0      0          other\n",
       "1      1         crater\n",
       "2      2      dark dune\n",
       "3      3   slope streak\n",
       "4      4    bright dune\n",
       "5      5  impact ejecta\n",
       "6      6   swiss cheese\n",
       "7      7         spider"
      ]
     },
     "execution_count": 3,
     "metadata": {},
     "output_type": "execute_result"
    }
   ],
   "source": [
    "classDecoder = pd.read_csv(\n",
    "    '/'.join([rawDataDir,'landmarks_map-proj-v3_2_classmap.csv']),\n",
    "    header= None,\n",
    "    names = ['class','className']\n",
    ")\n",
    "classDecoder"
   ]
  },
  {
   "cell_type": "code",
   "execution_count": 4,
   "id": "f58c28a9",
   "metadata": {
    "ExecuteTime": {
     "end_time": "2022-05-24T20:30:23.833927Z",
     "start_time": "2022-05-24T20:30:23.771913Z"
    }
   },
   "outputs": [
    {
     "data": {
      "text/html": [
       "<div>\n",
       "<style scoped>\n",
       "    .dataframe tbody tr th:only-of-type {\n",
       "        vertical-align: middle;\n",
       "    }\n",
       "\n",
       "    .dataframe tbody tr th {\n",
       "        vertical-align: top;\n",
       "    }\n",
       "\n",
       "    .dataframe thead th {\n",
       "        text-align: right;\n",
       "    }\n",
       "</style>\n",
       "<table border=\"1\" class=\"dataframe\">\n",
       "  <thead>\n",
       "    <tr style=\"text-align: right;\">\n",
       "      <th></th>\n",
       "      <th>imageName</th>\n",
       "      <th>class</th>\n",
       "      <th>imageSet</th>\n",
       "      <th>className</th>\n",
       "    </tr>\n",
       "  </thead>\n",
       "  <tbody>\n",
       "    <tr>\n",
       "      <th>0</th>\n",
       "      <td>ESP_013049_0950_RED-0067.jpg</td>\n",
       "      <td>7</td>\n",
       "      <td>train</td>\n",
       "      <td>spider</td>\n",
       "    </tr>\n",
       "    <tr>\n",
       "      <th>1</th>\n",
       "      <td>ESP_013049_0950_RED-0067-fv.jpg</td>\n",
       "      <td>7</td>\n",
       "      <td>train</td>\n",
       "      <td>spider</td>\n",
       "    </tr>\n",
       "    <tr>\n",
       "      <th>2</th>\n",
       "      <td>ESP_013049_0950_RED-0067-brt.jpg</td>\n",
       "      <td>7</td>\n",
       "      <td>train</td>\n",
       "      <td>spider</td>\n",
       "    </tr>\n",
       "    <tr>\n",
       "      <th>3</th>\n",
       "      <td>ESP_013049_0950_RED-0067-r90.jpg</td>\n",
       "      <td>7</td>\n",
       "      <td>train</td>\n",
       "      <td>spider</td>\n",
       "    </tr>\n",
       "    <tr>\n",
       "      <th>4</th>\n",
       "      <td>ESP_013049_0950_RED-0067-r180.jpg</td>\n",
       "      <td>7</td>\n",
       "      <td>train</td>\n",
       "      <td>spider</td>\n",
       "    </tr>\n",
       "    <tr>\n",
       "      <th>...</th>\n",
       "      <td>...</td>\n",
       "      <td>...</td>\n",
       "      <td>...</td>\n",
       "      <td>...</td>\n",
       "    </tr>\n",
       "    <tr>\n",
       "      <th>67805</th>\n",
       "      <td>ESP_016613_2570_RED-0038.jpg</td>\n",
       "      <td>4</td>\n",
       "      <td>test</td>\n",
       "      <td>bright dune</td>\n",
       "    </tr>\n",
       "    <tr>\n",
       "      <th>67806</th>\n",
       "      <td>ESP_016613_2570_RED-0006.jpg</td>\n",
       "      <td>4</td>\n",
       "      <td>test</td>\n",
       "      <td>bright dune</td>\n",
       "    </tr>\n",
       "    <tr>\n",
       "      <th>67807</th>\n",
       "      <td>ESP_016613_2570_RED-0043.jpg</td>\n",
       "      <td>4</td>\n",
       "      <td>test</td>\n",
       "      <td>bright dune</td>\n",
       "    </tr>\n",
       "    <tr>\n",
       "      <th>67808</th>\n",
       "      <td>ESP_016613_2570_RED-0044.jpg</td>\n",
       "      <td>4</td>\n",
       "      <td>test</td>\n",
       "      <td>bright dune</td>\n",
       "    </tr>\n",
       "    <tr>\n",
       "      <th>67809</th>\n",
       "      <td>ESP_016613_2570_RED-0001.jpg</td>\n",
       "      <td>4</td>\n",
       "      <td>test</td>\n",
       "      <td>bright dune</td>\n",
       "    </tr>\n",
       "  </tbody>\n",
       "</table>\n",
       "<p>64947 rows × 4 columns</p>\n",
       "</div>"
      ],
      "text/plain": [
       "                               imageName  class imageSet    className\n",
       "0           ESP_013049_0950_RED-0067.jpg      7    train       spider\n",
       "1        ESP_013049_0950_RED-0067-fv.jpg      7    train       spider\n",
       "2       ESP_013049_0950_RED-0067-brt.jpg      7    train       spider\n",
       "3       ESP_013049_0950_RED-0067-r90.jpg      7    train       spider\n",
       "4      ESP_013049_0950_RED-0067-r180.jpg      7    train       spider\n",
       "...                                  ...    ...      ...          ...\n",
       "67805       ESP_016613_2570_RED-0038.jpg      4     test  bright dune\n",
       "67806       ESP_016613_2570_RED-0006.jpg      4     test  bright dune\n",
       "67807       ESP_016613_2570_RED-0043.jpg      4     test  bright dune\n",
       "67808       ESP_016613_2570_RED-0044.jpg      4     test  bright dune\n",
       "67809       ESP_016613_2570_RED-0001.jpg      4     test  bright dune\n",
       "\n",
       "[64947 rows x 4 columns]"
      ]
     },
     "execution_count": 4,
     "metadata": {},
     "output_type": "execute_result"
    }
   ],
   "source": [
    "imageMap = imageMap.merge(classDecoder,on='class').drop_duplicates()\n",
    "imageMap"
   ]
  },
  {
   "cell_type": "code",
   "execution_count": 5,
   "id": "8a5349b3",
   "metadata": {
    "ExecuteTime": {
     "end_time": "2022-05-24T20:30:23.848930Z",
     "start_time": "2022-05-24T20:30:23.836928Z"
    },
    "scrolled": true
   },
   "outputs": [
    {
     "data": {
      "text/plain": [
       "other            52722\n",
       "crater            5024\n",
       "swiss cheese      1834\n",
       "bright dune       1654\n",
       "slope streak      1575\n",
       "spider             896\n",
       "dark dune          766\n",
       "impact ejecta      476\n",
       "Name: className, dtype: int64"
      ]
     },
     "execution_count": 5,
     "metadata": {},
     "output_type": "execute_result"
    }
   ],
   "source": [
    "imageMap.className.value_counts()"
   ]
  },
  {
   "cell_type": "markdown",
   "id": "d0383898",
   "metadata": {},
   "source": [
    "The dataset is quite heavily imbalanced. 81% of the dataset is 'other' with 'crater' taking up another sizeable of chunk of the rest. Lets have a quick look at the breakdown by each train/val/test set"
   ]
  },
  {
   "cell_type": "code",
   "execution_count": 6,
   "id": "24ed784b",
   "metadata": {
    "ExecuteTime": {
     "end_time": "2022-05-24T20:30:23.864934Z",
     "start_time": "2022-05-24T20:30:23.849930Z"
    }
   },
   "outputs": [
    {
     "data": {
      "text/plain": [
       "other            0.817064\n",
       "crater           0.073460\n",
       "bright dune      0.031871\n",
       "swiss cheese     0.026154\n",
       "slope streak     0.018865\n",
       "spider           0.013006\n",
       "dark dune        0.012577\n",
       "impact ejecta    0.007003\n",
       "Name: className, dtype: float64"
      ]
     },
     "execution_count": 6,
     "metadata": {},
     "output_type": "execute_result"
    }
   ],
   "source": [
    "imageMap[imageMap.imageSet =='train'].className.value_counts(normalize=True)"
   ]
  },
  {
   "cell_type": "code",
   "execution_count": 7,
   "id": "6ab2fc84",
   "metadata": {
    "ExecuteTime": {
     "end_time": "2022-05-24T20:30:23.879937Z",
     "start_time": "2022-05-24T20:30:23.865934Z"
    }
   },
   "outputs": [
    {
     "data": {
      "text/plain": [
       "other            0.791605\n",
       "crater           0.094321\n",
       "slope streak     0.042469\n",
       "swiss cheese     0.036049\n",
       "spider           0.015309\n",
       "impact ejecta    0.008889\n",
       "dark dune        0.005926\n",
       "bright dune      0.005432\n",
       "Name: className, dtype: float64"
      ]
     },
     "execution_count": 7,
     "metadata": {},
     "output_type": "execute_result"
    }
   ],
   "source": [
    "imageMap[imageMap.imageSet =='val'].className.value_counts(normalize=True)"
   ]
  },
  {
   "cell_type": "code",
   "execution_count": 8,
   "id": "29772647",
   "metadata": {
    "ExecuteTime": {
     "end_time": "2022-05-24T20:30:23.895941Z",
     "start_time": "2022-05-24T20:30:23.880937Z"
    },
    "scrolled": false
   },
   "outputs": [
    {
     "data": {
      "text/plain": [
       "other            0.826548\n",
       "crater           0.049637\n",
       "dark dune        0.036810\n",
       "slope streak     0.027328\n",
       "spider           0.023424\n",
       "swiss cheese     0.023424\n",
       "bright dune      0.008924\n",
       "impact ejecta    0.003904\n",
       "Name: className, dtype: float64"
      ]
     },
     "execution_count": 8,
     "metadata": {},
     "output_type": "execute_result"
    }
   ],
   "source": [
    "imageMap[imageMap.imageSet =='test'].className.value_counts(normalize=True)"
   ]
  },
  {
   "cell_type": "code",
   "execution_count": 11,
   "id": "4bea5920",
   "metadata": {
    "ExecuteTime": {
     "end_time": "2022-05-24T20:48:51.323779Z",
     "start_time": "2022-05-24T20:48:49.881455Z"
    }
   },
   "outputs": [
    {
     "name": "stdout",
     "output_type": "stream",
     "text": [
      "Found 48979 images belonging to 8 classes.\n"
     ]
    }
   ],
   "source": [
    "from tensorflow.keras.preprocessing.image import ImageDataGenerator\n",
    "# Normalizing data for 8 bit\n",
    "train_datagen = ImageDataGenerator(rescale=1./255)\n",
    "\n",
    "train_generator = train_datagen.flow_from_directory(\n",
    "    'images/train/',\n",
    "    target_size = (227,227),\n",
    "    batch_size=225,\n",
    "    color_mode='grayscale',\n",
    "    class_mode='categorical'\n",
    ")"
   ]
  },
  {
   "cell_type": "code",
   "execution_count": 13,
   "id": "72e2fff8",
   "metadata": {
    "ExecuteTime": {
     "end_time": "2022-05-24T20:49:26.331917Z",
     "start_time": "2022-05-24T20:49:26.327917Z"
    }
   },
   "outputs": [],
   "source": [
    "dumdum = DummyClassifier(strategy='most_frequent')"
   ]
  },
  {
   "cell_type": "code",
   "execution_count": 20,
   "id": "1c00a6f2",
   "metadata": {
    "ExecuteTime": {
     "end_time": "2022-05-24T20:53:20.249244Z",
     "start_time": "2022-05-24T20:53:20.186231Z"
    }
   },
   "outputs": [
    {
     "data": {
      "text/plain": [
       "0.8170644561955124"
      ]
     },
     "execution_count": 20,
     "metadata": {},
     "output_type": "execute_result"
    }
   ],
   "source": [
    "dumdum.fit(train_generator.filenames,train_generator.classes)\n",
    "dumdum.score(train_generator.filenames,train_generator.classes)"
   ]
  },
  {
   "cell_type": "code",
   "execution_count": null,
   "id": "93cd33e4",
   "metadata": {},
   "outputs": [],
   "source": []
  }
 ],
 "metadata": {
  "kernelspec": {
   "display_name": "tfGPU",
   "language": "python",
   "name": "tfgpu"
  },
  "language_info": {
   "codemirror_mode": {
    "name": "ipython",
    "version": 3
   },
   "file_extension": ".py",
   "mimetype": "text/x-python",
   "name": "python",
   "nbconvert_exporter": "python",
   "pygments_lexer": "ipython3",
   "version": "3.9.12"
  },
  "toc": {
   "base_numbering": 1,
   "nav_menu": {},
   "number_sections": true,
   "sideBar": true,
   "skip_h1_title": false,
   "title_cell": "Table of Contents",
   "title_sidebar": "Contents",
   "toc_cell": false,
   "toc_position": {},
   "toc_section_display": true,
   "toc_window_display": false
  },
  "varInspector": {
   "cols": {
    "lenName": 16,
    "lenType": 16,
    "lenVar": 40
   },
   "kernels_config": {
    "python": {
     "delete_cmd_postfix": "",
     "delete_cmd_prefix": "del ",
     "library": "var_list.py",
     "varRefreshCmd": "print(var_dic_list())"
    },
    "r": {
     "delete_cmd_postfix": ") ",
     "delete_cmd_prefix": "rm(",
     "library": "var_list.r",
     "varRefreshCmd": "cat(var_dic_list()) "
    }
   },
   "types_to_exclude": [
    "module",
    "function",
    "builtin_function_or_method",
    "instance",
    "_Feature"
   ],
   "window_display": false
  }
 },
 "nbformat": 4,
 "nbformat_minor": 5
}
