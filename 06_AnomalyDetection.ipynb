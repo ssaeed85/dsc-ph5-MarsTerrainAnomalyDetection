{
 "cells": [
  {
   "cell_type": "markdown",
   "id": "629f74a6",
   "metadata": {
    "ExecuteTime": {
     "end_time": "2022-05-30T23:44:57.065449Z",
     "start_time": "2022-05-30T23:44:57.057448Z"
    },
    "heading_collapsed": true
   },
   "source": [
    "# The Data\n",
    "\n",
    "The work performed herein was built off of the shoulders of giants, the original project that created the dataset and labeled the images. Here follows an excerpt from their site describing the data.\n",
    "\n",
    "> [![DOI](https://zenodo.org/badge/DOI/10.5281/zenodo.4002935.svg)](https://doi.org/10.5281/zenodo.4002935)\n",
    ">__Project member(s)__:\\\n",
    ">Topher Allen; Zach Anderson; Berlin Chen; Ameya Daigavane; Annie Didier; Marko Green; Paul Horton; Hannah Kerner; Lauren Klein; Benjamin Kolber; Ellie Kuang; Kyle Kung; Jake Lee; Justin Martia; Brian Milch; James Montgomery; Kyle Pearson; Sanjna Ravichandar; Arun Viswanathan; Caleb Wagner; Amruta Yelamanchili; Brandon Zhao\n",
    ">\n",
    ">__Abstract__:\\\n",
    ">This dataset contains a total of 64,947 landmark images that were detected and extracted from HiRISE browse images, spanning 232 separate source images.\n",
    ">\n",
    ">This set was formed from 10,815 original landmarks. Each original landmark was cropped to a square bounding box that included the full extent of the landmark plus a 30-pixel margin to the left, right, top, and bottom. Each landmark was then resized to 227x227 pixels. 9,022 of these images were then augmented to generate 6 additional landmarks using the following methods:\n",
    ">\n",
    ">90 degrees clockwise rotation\n",
    ">180 degrees clockwise rotation\n",
    ">270 degrees clockwise rotation\n",
    ">Horizontal flip\n",
    ">Vertical flip\n",
    ">Random brightness adjustment\n",
    ">The remaining 1,793 images were not augmented. Combining these with the 7*9,022 images, gives a total of 64,947 separate images.\n",
    ">\n",
    "> __Contents__:\n",
    ">- map-proj-v3_2/: Directory containing individual cropped landmark images\n",
    ">- labels-map-proj-v3_2.txt: Class labels (ids) for each landmark image. File includes two columns separated by a space: filename, class_id\n",
    ">- labels-map-proj-v3_2_train_val_test.txt: Includes train/test/val labels and upsampling used for trained model. File includes three columns separated by a space: filename, class_id, set\n",
    ">- landmarks_map-proj-v3_2_classmap.csv: Dictionary that maps class ids to semantic names\n",
    ">\n",
    "> __Class Discussion__:\\\n",
    ">We give a discussion of the various landmarks that make up our classes.\n",
    ">\n",
    ">Bright dune and dark dune are two sand dune classes found on Mars. Dark dunes are completely defrosted, whereas bright dunes are not. Bright dunes are generally bright due to overlying frost and can exhibit black spots where parts of the dune are defrosting.\n",
    ">\n",
    ">The crater class consists of crater images in which the diameter of the crater is greater than or equal to 1/5 the width of the image and the circular rim is visible for at least half the crater's circumference.\n",
    ">\n",
    ">The slope streak class consists of images of dark flow-like features on slopes. These features are believed to be formed by a dry process in which overlying (bright) dust slides down a slope and reveals a darker sub-surface.\n",
    ">\n",
    ">Impact ejecta refers to material that is blasted out from the impact of a meteorite or the eruption of a volcano. We also include cases in which the impact cleared away overlying dust, exposing the underlying surface. In some cases, the associated crater may be too small to see. Impact ejecta can also include lava that spilled out from the impact (blobby (\"lobate\") instead of blast-like), more like an eruption (triggered by the impact). Impact ejecta can be isolated, or they can form in clusters when the impactor breaks up into multiple fragments.\n",
    ">\n",
    ">Spiders and Swiss cheese are phenomena that occur in the south polar region of Mars. Spiders have a central pit with radial troughs, and they are believed to form as a result of sublimation of carbon dioxide ice. This process can produce mineral deposits on top, which look like dark or light dust that highlights cracks in the CO2 ice. Spiders can resemble impact ejecta due to their radial troughs, but impact ejecta tends to have straight radial jets that fade as they get farther from the center. The spider class also includes fan-like features that form when a geyser erupts through the CO2 layer and the material is blown by the wind away from the cracks. Fans are typically unidirectional (following the wind direction), whereas impact ejecta often extends in multiple directions. Swiss cheese is a terrain type that consists of pits that are formed when the sun heats the ice making it sublimate (change solid to gas).\n",
    ">\n",
    ">Other is a catch-all class that contains images that fit none of the defined classes of interest. This class makes up the majority of our data set.\n"
   ]
  },
  {
   "cell_type": "markdown",
   "id": "7b0d8057",
   "metadata": {
    "heading_collapsed": true
   },
   "source": [
    "# Business Understanding\n",
    "\n",
    "Space exploration and understanding has been growing over the last few decades with the spark being lit during the space race during the latter half of the 20th century. After the end of the Apollo space program, man's venture into space has been relegated to low earth orbit missions.  \n",
    "\n",
    "Unmanned missions have since had many a success story such as the Voyager 2 going interstellar in 2018, over 40 years after its launch. The future of space exploration is going to be handled by such manned missions for the foreseeable future. However, being physically on site isn't the only way to explore space.  \n",
    "\n",
    "For centuries, man has looked up at the night sky to find out more about our celestial neighbors. With improvements in technologies our ability to gather data through telescopes and cameras has improved significantly and the value provided by telescopes in space has been immeasurable. The James Webb (infrared) telescope was launched in December 2021 and hopes to view objects too old, distant, and faint for the Hubble Space Telescope.\n",
    "\n",
    "Pointing the telescope and gathering data is only the first step. Being able to parse terabytes, petabytes or even yottabytes of data manually is a nigh impossible task, a task computer vision is especially suited for. Being able to identify interesting features can help us whittle down potential candidates to explore 'in-person' and in the long run help mitigate losses.\n",
    "\n",
    "Interest in space exploration has seen a resurgence with private enterprise taking an interest. Although this project specifically looks at the Mars topography, similar techniques can be applied to any celestial body, or even to our home planet."
   ]
  },
  {
   "cell_type": "markdown",
   "id": "ec03db53",
   "metadata": {},
   "source": [
    "# Overview\n",
    "We shall be using images captured from the HiRISE camera system on board the Mars Reconnaisance Orbiter which was built under direction from University of Arizona's Lunar and Planetary Laboratory. Following is an excerpt from the [University of Arizona website](https://www.lpl.arizona.edu/missions/hirise-mro).\n",
    "\n",
    ">The __Hi__gh __R__esolution __I__maging __S__cience __E__xperiment (HiRISE) onboard the Mars Reconnaissance Orbiter, is the most powerful camera ever sent to another planet. The resolution of the camera allows us to see the Red Planet in amazing detail, and lets other missions, like the Mars Science Laboratory, find a safe place to land and carry out amazing science. The operations center, which includes not only observation planning, but the execution of commands sent to the spacecraft along with actual image processing, is located within LPL at the University of Arizona.\n",
    "\n",
    "We shall be building off of the work performed by the original team. The dataset comes pre-augmented and segmented into training, validation and test sets. The test side will be set aside to ascertain effectiveness of our final model. The training set will be used to train the model and the validation scores on the validation set will be used as a metric to pick our model, specifically our validation loss."
   ]
  },
  {
   "cell_type": "markdown",
   "id": "6ab77d3a",
   "metadata": {
    "ExecuteTime": {
     "end_time": "2022-05-31T04:19:08.842951Z",
     "start_time": "2022-05-31T04:19:08.825947Z"
    }
   },
   "source": [
    "# Imports"
   ]
  },
  {
   "cell_type": "code",
   "execution_count": 1,
   "id": "b80c0d73",
   "metadata": {
    "ExecuteTime": {
     "end_time": "2022-06-02T08:24:52.871179Z",
     "start_time": "2022-06-02T08:24:49.106299Z"
    }
   },
   "outputs": [],
   "source": [
    "from PIL import Image, ImageDraw\n",
    "import math\n",
    "import pandas as pd\n",
    "import numpy as np\n",
    "import tensorflow as tf\n",
    "from tensorflow.keras.preprocessing.image import ImageDataGenerator\n",
    "import os\n",
    "import shutil\n",
    "import random\n",
    "from sklearn.metrics import confusion_matrix, ConfusionMatrixDisplay,classification_report\n",
    "import matplotlib.pyplot as plt"
   ]
  },
  {
   "cell_type": "code",
   "execution_count": 2,
   "id": "704abd2b",
   "metadata": {
    "ExecuteTime": {
     "end_time": "2022-06-02T08:24:52.886172Z",
     "start_time": "2022-06-02T08:24:52.872173Z"
    }
   },
   "outputs": [],
   "source": [
    "from src.imageHandler import *"
   ]
  },
  {
   "cell_type": "markdown",
   "id": "365f84ee",
   "metadata": {},
   "source": [
    "# Final Model Selection\n",
    "To recap, we trained a variety of different models using Adam as an optimizer function. After looking at our modeling efforts across 4 notebooks, [02_TensorflowModeling_FinalModels](./02_TensorflowModeling_FinalModels.ipynb), [03_TensorflowModeling_AlexNet](./03_TensorflowModeling_AlexNet.ipynb), [04_TensorflowModeling_LeNet](./04_TensorflowModeling_LeNet.ipynb), [05_TensorflowModeling_VGG16_TransferLearning](./05_TensorflowModeling_VGG16_TransferLearning.ipynb), the VGG16 transfer training model is the clear winner."
   ]
  },
  {
   "cell_type": "code",
   "execution_count": 3,
   "id": "51288f94",
   "metadata": {
    "ExecuteTime": {
     "end_time": "2022-06-02T08:24:54.518558Z",
     "start_time": "2022-06-02T08:24:52.887172Z"
    },
    "scrolled": true
   },
   "outputs": [],
   "source": [
    "final_model = tf.keras.models.load_model('tf_TransferLearning_8class_VGG16.hfpy')"
   ]
  },
  {
   "cell_type": "code",
   "execution_count": 4,
   "id": "34105071",
   "metadata": {
    "ExecuteTime": {
     "end_time": "2022-06-02T08:24:55.668681Z",
     "start_time": "2022-06-02T08:24:54.520549Z"
    }
   },
   "outputs": [
    {
     "name": "stdout",
     "output_type": "stream",
     "text": [
      "Found 14175 images belonging to 8 classes.\n"
     ]
    }
   ],
   "source": [
    "# Normalizing data for 8 bit\n",
    "val_datagen = ImageDataGenerator(rescale=1./255)\n",
    "\n",
    "val_generator = val_datagen.flow_from_directory(\n",
    "    'images/val/',\n",
    "    target_size = (227,227),\n",
    "    batch_size=1,\n",
    "    color_mode='rgb',\n",
    "    class_mode='categorical'\n",
    ")"
   ]
  },
  {
   "cell_type": "code",
   "execution_count": 5,
   "id": "101435a6",
   "metadata": {
    "ExecuteTime": {
     "end_time": "2022-06-02T08:24:55.843560Z",
     "start_time": "2022-06-02T08:24:55.669682Z"
    }
   },
   "outputs": [
    {
     "name": "stdout",
     "output_type": "stream",
     "text": [
      "Found 1793 images belonging to 8 classes.\n"
     ]
    }
   ],
   "source": [
    "# Normalizing data for 8 bit\n",
    "test_datagen = ImageDataGenerator(rescale=1./255)\n",
    "\n",
    "test_generator = test_datagen.flow_from_directory(\n",
    "    'images/test/',\n",
    "    target_size = (227,227),\n",
    "    batch_size=1,\n",
    "    color_mode='rgb',\n",
    "    class_mode='categorical'\n",
    ")"
   ]
  },
  {
   "cell_type": "code",
   "execution_count": 6,
   "id": "80912f49",
   "metadata": {
    "ExecuteTime": {
     "end_time": "2022-06-02T08:26:54.395803Z",
     "start_time": "2022-06-02T08:24:55.844561Z"
    }
   },
   "outputs": [
    {
     "name": "stdout",
     "output_type": "stream",
     "text": [
      "14175/14175 [==============================] - 118s 8ms/step - loss: 0.3356 - accuracy: 0.9073\n"
     ]
    }
   ],
   "source": [
    "final_model.evaluate(val_generator);"
   ]
  },
  {
   "cell_type": "code",
   "execution_count": 7,
   "id": "6cbd71dc",
   "metadata": {
    "ExecuteTime": {
     "end_time": "2022-06-02T08:27:08.855041Z",
     "start_time": "2022-06-02T08:26:54.396803Z"
    }
   },
   "outputs": [
    {
     "name": "stdout",
     "output_type": "stream",
     "text": [
      "1793/1793 [==============================] - 14s 8ms/step - loss: 0.3541 - accuracy: 0.9230\n"
     ]
    }
   ],
   "source": [
    "final_model.evaluate(test_generator);"
   ]
  },
  {
   "cell_type": "markdown",
   "id": "0e26a325",
   "metadata": {},
   "source": [
    "Our chosen model performed with an accuracy of about **90.73%** on the validation set and **92.3%** on the holdout (test set) with a corresponding loss of about **0.3356** and **0.3541** respectively. This clearly outperforms are baseline Dummy Classifier\n",
    "\n",
    "We shall now utilize this model to make anomaly predictions on the Martian surface"
   ]
  },
  {
   "cell_type": "code",
   "execution_count": 8,
   "id": "02c253fd",
   "metadata": {
    "ExecuteTime": {
     "end_time": "2022-06-02T08:27:08.870044Z",
     "start_time": "2022-06-02T08:27:08.856042Z"
    }
   },
   "outputs": [],
   "source": [
    "im1 = Image.open('mass_maps/AEB_000002_0000_RED.NOMAP.browse.jpg')\n",
    "im1"
   ]
  },
  {
   "cell_type": "markdown",
   "id": "7cb10bd7",
   "metadata": {},
   "source": [
    "Next we'll create a data frame of all bounding boxes for a given image. \n",
    "A potential bounding box in this case is a slice of the image that could potentially hold a feature. The following function essentially returns a series of coordinates of slices of varying size encompassing the entire image. \n",
    "\n",
    "3 different window sizes were chosen. 75%, 100%, 150% of the base window size. In this case the base window size was set to size of the images in the dataset *277px*. A certain amount of overlap is allowed between slices in order to ensure features were not accidentally missed. This is currently set at *40%*"
   ]
  },
  {
   "cell_type": "code",
   "execution_count": 10,
   "id": "2c61d300",
   "metadata": {
    "ExecuteTime": {
     "end_time": "2022-06-02T08:27:09.793130Z",
     "start_time": "2022-06-02T08:27:09.747121Z"
    },
    "scrolled": false
   },
   "outputs": [
    {
     "name": "stdout",
     "output_type": "stream",
     "text": [
      "reading current\n"
     ]
    },
    {
     "data": {
      "text/html": [
       "<div>\n",
       "<style scoped>\n",
       "    .dataframe tbody tr th:only-of-type {\n",
       "        vertical-align: middle;\n",
       "    }\n",
       "\n",
       "    .dataframe tbody tr th {\n",
       "        vertical-align: top;\n",
       "    }\n",
       "\n",
       "    .dataframe thead th {\n",
       "        text-align: right;\n",
       "    }\n",
       "</style>\n",
       "<table border=\"1\" class=\"dataframe\">\n",
       "  <thead>\n",
       "    <tr style=\"text-align: right;\">\n",
       "      <th></th>\n",
       "      <th>bbox_bounds</th>\n",
       "      <th>winsize</th>\n",
       "    </tr>\n",
       "  </thead>\n",
       "  <tbody>\n",
       "    <tr>\n",
       "      <th>0</th>\n",
       "      <td>(0, 0, 208, 208)</td>\n",
       "      <td>208</td>\n",
       "    </tr>\n",
       "    <tr>\n",
       "      <th>1</th>\n",
       "      <td>(0, 125, 208, 333)</td>\n",
       "      <td>208</td>\n",
       "    </tr>\n",
       "    <tr>\n",
       "      <th>2</th>\n",
       "      <td>(0, 250, 208, 458)</td>\n",
       "      <td>208</td>\n",
       "    </tr>\n",
       "    <tr>\n",
       "      <th>3</th>\n",
       "      <td>(0, 375, 208, 583)</td>\n",
       "      <td>208</td>\n",
       "    </tr>\n",
       "    <tr>\n",
       "      <th>4</th>\n",
       "      <td>(0, 500, 208, 708)</td>\n",
       "      <td>208</td>\n",
       "    </tr>\n",
       "    <tr>\n",
       "      <th>...</th>\n",
       "      <td>...</td>\n",
       "      <td>...</td>\n",
       "    </tr>\n",
       "    <tr>\n",
       "      <th>1626</th>\n",
       "      <td>(1500, 6250, 1916, 6666)</td>\n",
       "      <td>416</td>\n",
       "    </tr>\n",
       "    <tr>\n",
       "      <th>1627</th>\n",
       "      <td>(1500, 6500, 1916, 6916)</td>\n",
       "      <td>416</td>\n",
       "    </tr>\n",
       "    <tr>\n",
       "      <th>1628</th>\n",
       "      <td>(1500, 6750, 1916, 7166)</td>\n",
       "      <td>416</td>\n",
       "    </tr>\n",
       "    <tr>\n",
       "      <th>1629</th>\n",
       "      <td>(1500, 7000, 1916, 7416)</td>\n",
       "      <td>416</td>\n",
       "    </tr>\n",
       "    <tr>\n",
       "      <th>1630</th>\n",
       "      <td>(1500, 7250, 1916, 7666)</td>\n",
       "      <td>416</td>\n",
       "    </tr>\n",
       "  </tbody>\n",
       "</table>\n",
       "<p>1631 rows × 2 columns</p>\n",
       "</div>"
      ],
      "text/plain": [
       "                   bbox_bounds  winsize\n",
       "0             (0, 0, 208, 208)      208\n",
       "1           (0, 125, 208, 333)      208\n",
       "2           (0, 250, 208, 458)      208\n",
       "3           (0, 375, 208, 583)      208\n",
       "4           (0, 500, 208, 708)      208\n",
       "...                        ...      ...\n",
       "1626  (1500, 6250, 1916, 6666)      416\n",
       "1627  (1500, 6500, 1916, 6916)      416\n",
       "1628  (1500, 6750, 1916, 7166)      416\n",
       "1629  (1500, 7000, 1916, 7416)      416\n",
       "1630  (1500, 7250, 1916, 7666)      416\n",
       "\n",
       "[1631 rows x 2 columns]"
      ]
     },
     "execution_count": 10,
     "metadata": {},
     "output_type": "execute_result"
    }
   ],
   "source": [
    "# Read a dataframe from a precreated csv. If the appropriate csv doesn't exist\n",
    "# Create one in './mass_maps/'\n",
    "df_bbox = getPotentialBboxes(im1)\n",
    "df_bbox"
   ]
  },
  {
   "cell_type": "code",
   "execution_count": 11,
   "id": "26625b3b",
   "metadata": {
    "ExecuteTime": {
     "end_time": "2022-06-02T08:27:12.246137Z",
     "start_time": "2022-06-02T08:27:09.795130Z"
    },
    "scrolled": true
   },
   "outputs": [],
   "source": [
    "# Using the above data frame crop slices of the larger image\n",
    "# Create a folder to hold slices in './mass_maps/'\n",
    "list_imagesToClassify = [im1.crop(df_bbox.iloc[rowNum]['bbox_bounds'])\n",
    "                         for rowNum in range(0,df_bbox.shape[0])]\n",
    "saveImageSlices(list_imagesToClassify,im1.filename)"
   ]
  },
  {
   "cell_type": "code",
   "execution_count": 12,
   "id": "4c6268a5",
   "metadata": {
    "ExecuteTime": {
     "end_time": "2022-06-02T08:27:20.460862Z",
     "start_time": "2022-06-02T08:27:12.247140Z"
    }
   },
   "outputs": [
    {
     "name": "stdout",
     "output_type": "stream",
     "text": [
      "./mass_maps/_slices_img/\n",
      "Found 1631 images belonging to 1 classes.\n",
      "204/204 [==============================] - 8s 35ms/step\n"
     ]
    }
   ],
   "source": [
    "# Normalizing data for 8 bit\n",
    "predict_datagen = ImageDataGenerator(rescale=1./255)\n",
    "\n",
    "print('./mass_maps/_slices_img/')\n",
    "predict_generator = predict_datagen.flow_from_directory(\n",
    "    'mass_maps/',\n",
    "    target_size = (227,227),\n",
    "    batch_size=8,\n",
    "    color_mode='rgb',\n",
    "    class_mode=None\n",
    ")\n",
    "predict_generator.reset()\n",
    "\n",
    "preds = final_model.predict(predict_generator)"
   ]
  },
  {
   "cell_type": "markdown",
   "id": "501b511a",
   "metadata": {},
   "source": [
    "# Predicting on Slices"
   ]
  },
  {
   "cell_type": "markdown",
   "id": "7d16e4a4",
   "metadata": {
    "ExecuteTime": {
     "end_time": "2022-06-02T05:49:29.124180Z",
     "start_time": "2022-06-02T05:49:29.113178Z"
    }
   },
   "source": [
    "Now that we have created each potential slice of the image that could potentially hold a feature belonging to one of our classes, we can now use our model to predict on each of these images. First we will need to create a prediction generator"
   ]
  },
  {
   "cell_type": "code",
   "execution_count": 13,
   "id": "f936ada7",
   "metadata": {
    "ExecuteTime": {
     "end_time": "2022-06-02T08:27:20.524902Z",
     "start_time": "2022-06-02T08:27:20.461880Z"
    }
   },
   "outputs": [
    {
     "name": "stdout",
     "output_type": "stream",
     "text": [
      "Found 1631 images belonging to 1 classes.\n"
     ]
    }
   ],
   "source": [
    "# Normalizing data for 8 bit\n",
    "predict_datagen = ImageDataGenerator(rescale=1./255)\n",
    "\n",
    "predict_generator = predict_datagen.flow_from_directory(\n",
    "    'mass_maps/',\n",
    "    target_size = (227,227),\n",
    "    batch_size=100,\n",
    "    color_mode='rgb',\n",
    "    class_mode=None\n",
    ")\n",
    "predict_generator.reset()\n",
    "\n"
   ]
  },
  {
   "cell_type": "markdown",
   "id": "0696338b",
   "metadata": {},
   "source": [
    "With our model and images loaded all we have to do is use the predict method to get a list of predictions for each of our image slices."
   ]
  },
  {
   "cell_type": "code",
   "execution_count": 14,
   "id": "fc8689f2",
   "metadata": {
    "ExecuteTime": {
     "end_time": "2022-06-02T08:27:32.372323Z",
     "start_time": "2022-06-02T08:27:20.525906Z"
    },
    "scrolled": true
   },
   "outputs": [
    {
     "name": "stdout",
     "output_type": "stream",
     "text": [
      "17/17 [==============================] - 12s 395ms/step\n"
     ]
    }
   ],
   "source": [
    "preds = final_model.predict(predict_generator)"
   ]
  },
  {
   "cell_type": "markdown",
   "id": "dd3c8700",
   "metadata": {
    "ExecuteTime": {
     "end_time": "2022-06-02T05:52:46.542955Z",
     "start_time": "2022-06-02T05:52:46.536961Z"
    }
   },
   "source": [
    "Lets have a look at the first image and its associated prediction"
   ]
  },
  {
   "cell_type": "code",
   "execution_count": 15,
   "id": "5ff6ba13",
   "metadata": {
    "ExecuteTime": {
     "end_time": "2022-06-02T08:27:32.388327Z",
     "start_time": "2022-06-02T08:27:32.373324Z"
    }
   },
   "outputs": [
    {
     "data": {
      "image/png": "[encoded data removed]",
      "text/plain": [
       "<PIL.Image.Image image mode=L size=208x208>"
      ]
     },
     "execution_count": 15,
     "metadata": {},
     "output_type": "execute_result"
    }
   ],
   "source": [
    "list_imagesToClassify[0]"
   ]
  },
  {
   "cell_type": "code",
   "execution_count": 16,
   "id": "c3bf2f8c",
   "metadata": {
    "ExecuteTime": {
     "end_time": "2022-06-02T08:27:32.404333Z",
     "start_time": "2022-06-02T08:27:32.389326Z"
    }
   },
   "outputs": [
    {
     "data": {
      "text/plain": [
       "[0.0, 0.0, 0.0, 0.0, 1.0, 0.0, 0.0, 0.0]"
      ]
     },
     "execution_count": 16,
     "metadata": {},
     "output_type": "execute_result"
    }
   ],
   "source": [
    "[round(x,3) for x in preds[0]]"
   ]
  },
  {
   "cell_type": "markdown",
   "id": "cc0ff6c5",
   "metadata": {},
   "source": [
    "Each prediction is an array of probabilities of the likelihood that an image belongs to a particular class. In the above case, the model is 99.9% confident that the first slice belongs to class *4*. Looking at the class indices from our test set, we can see that this means the model thinks the image belongs to the `other` class."
   ]
  },
  {
   "cell_type": "code",
   "execution_count": 17,
   "id": "747c3ee2",
   "metadata": {
    "ExecuteTime": {
     "end_time": "2022-06-02T08:27:32.420341Z",
     "start_time": "2022-06-02T08:27:32.405332Z"
    }
   },
   "outputs": [
    {
     "data": {
      "text/plain": [
       "{'bright dune': 0,\n",
       " 'crater': 1,\n",
       " 'dark dune': 2,\n",
       " 'impact ejecta': 3,\n",
       " 'other': 4,\n",
       " 'slope streak': 5,\n",
       " 'spider': 6,\n",
       " 'swiss cheese': 7}"
      ]
     },
     "execution_count": 17,
     "metadata": {},
     "output_type": "execute_result"
    }
   ],
   "source": [
    "test_generator.class_indices"
   ]
  },
  {
   "cell_type": "markdown",
   "id": "5f70f953",
   "metadata": {
    "ExecuteTime": {
     "end_time": "2022-06-02T06:00:42.094725Z",
     "start_time": "2022-06-02T06:00:42.084722Z"
    }
   },
   "source": [
    "Knowing this we can now predict the class for each image. We will do so using the following function.\n",
    "*-1* as a `predClass1` is reserved to indicate that no class feature was able to cross the confidence threshold."
   ]
  },
  {
   "cell_type": "code",
   "execution_count": 18,
   "id": "72e9627e",
   "metadata": {
    "ExecuteTime": {
     "end_time": "2022-06-02T08:27:32.436354Z",
     "start_time": "2022-06-02T08:27:32.421341Z"
    }
   },
   "outputs": [],
   "source": [
    "classDict = {\n",
    "    -1: '-',\n",
    "    0: 'bright dune',\n",
    "    1:  'crater',\n",
    "    2:  'dark dune',\n",
    "    3:  'impact ejecta',\n",
    "    4:  'other',\n",
    "    5:  'slope streak',\n",
    "    6:  'spider',\n",
    "    7:  'swiss cheese'}"
   ]
  },
  {
   "cell_type": "code",
   "execution_count": 19,
   "id": "096f262d",
   "metadata": {
    "ExecuteTime": {
     "end_time": "2022-06-02T08:27:32.468348Z",
     "start_time": "2022-06-02T08:27:32.438356Z"
    },
    "scrolled": false
   },
   "outputs": [
    {
     "data": {
      "text/html": [
       "<div>\n",
       "<style scoped>\n",
       "    .dataframe tbody tr th:only-of-type {\n",
       "        vertical-align: middle;\n",
       "    }\n",
       "\n",
       "    .dataframe tbody tr th {\n",
       "        vertical-align: top;\n",
       "    }\n",
       "\n",
       "    .dataframe thead th {\n",
       "        text-align: right;\n",
       "    }\n",
       "</style>\n",
       "<table border=\"1\" class=\"dataframe\">\n",
       "  <thead>\n",
       "    <tr style=\"text-align: right;\">\n",
       "      <th></th>\n",
       "      <th>bbox_bounds</th>\n",
       "      <th>winsize</th>\n",
       "      <th>predClass</th>\n",
       "      <th>predClassName</th>\n",
       "    </tr>\n",
       "  </thead>\n",
       "  <tbody>\n",
       "    <tr>\n",
       "      <th>0</th>\n",
       "      <td>(0, 0, 208, 208)</td>\n",
       "      <td>208</td>\n",
       "      <td>4</td>\n",
       "      <td>other</td>\n",
       "    </tr>\n",
       "    <tr>\n",
       "      <th>1</th>\n",
       "      <td>(0, 125, 208, 333)</td>\n",
       "      <td>208</td>\n",
       "      <td>4</td>\n",
       "      <td>other</td>\n",
       "    </tr>\n",
       "    <tr>\n",
       "      <th>2</th>\n",
       "      <td>(0, 250, 208, 458)</td>\n",
       "      <td>208</td>\n",
       "      <td>4</td>\n",
       "      <td>other</td>\n",
       "    </tr>\n",
       "    <tr>\n",
       "      <th>3</th>\n",
       "      <td>(0, 375, 208, 583)</td>\n",
       "      <td>208</td>\n",
       "      <td>-1</td>\n",
       "      <td>-</td>\n",
       "    </tr>\n",
       "    <tr>\n",
       "      <th>4</th>\n",
       "      <td>(0, 500, 208, 708)</td>\n",
       "      <td>208</td>\n",
       "      <td>4</td>\n",
       "      <td>other</td>\n",
       "    </tr>\n",
       "    <tr>\n",
       "      <th>...</th>\n",
       "      <td>...</td>\n",
       "      <td>...</td>\n",
       "      <td>...</td>\n",
       "      <td>...</td>\n",
       "    </tr>\n",
       "    <tr>\n",
       "      <th>1626</th>\n",
       "      <td>(1500, 6250, 1916, 6666)</td>\n",
       "      <td>416</td>\n",
       "      <td>4</td>\n",
       "      <td>other</td>\n",
       "    </tr>\n",
       "    <tr>\n",
       "      <th>1627</th>\n",
       "      <td>(1500, 6500, 1916, 6916)</td>\n",
       "      <td>416</td>\n",
       "      <td>4</td>\n",
       "      <td>other</td>\n",
       "    </tr>\n",
       "    <tr>\n",
       "      <th>1628</th>\n",
       "      <td>(1500, 6750, 1916, 7166)</td>\n",
       "      <td>416</td>\n",
       "      <td>4</td>\n",
       "      <td>other</td>\n",
       "    </tr>\n",
       "    <tr>\n",
       "      <th>1629</th>\n",
       "      <td>(1500, 7000, 1916, 7416)</td>\n",
       "      <td>416</td>\n",
       "      <td>4</td>\n",
       "      <td>other</td>\n",
       "    </tr>\n",
       "    <tr>\n",
       "      <th>1630</th>\n",
       "      <td>(1500, 7250, 1916, 7666)</td>\n",
       "      <td>416</td>\n",
       "      <td>4</td>\n",
       "      <td>other</td>\n",
       "    </tr>\n",
       "  </tbody>\n",
       "</table>\n",
       "<p>1631 rows × 4 columns</p>\n",
       "</div>"
      ],
      "text/plain": [
       "                   bbox_bounds  winsize  predClass predClassName\n",
       "0             (0, 0, 208, 208)      208          4         other\n",
       "1           (0, 125, 208, 333)      208          4         other\n",
       "2           (0, 250, 208, 458)      208          4         other\n",
       "3           (0, 375, 208, 583)      208         -1             -\n",
       "4           (0, 500, 208, 708)      208          4         other\n",
       "...                        ...      ...        ...           ...\n",
       "1626  (1500, 6250, 1916, 6666)      416          4         other\n",
       "1627  (1500, 6500, 1916, 6916)      416          4         other\n",
       "1628  (1500, 6750, 1916, 7166)      416          4         other\n",
       "1629  (1500, 7000, 1916, 7416)      416          4         other\n",
       "1630  (1500, 7250, 1916, 7666)      416          4         other\n",
       "\n",
       "[1631 rows x 4 columns]"
      ]
     },
     "execution_count": 19,
     "metadata": {},
     "output_type": "execute_result"
    }
   ],
   "source": [
    "confidence_threshold = 0.9\n",
    "df_bbox['predClass'] = [getClassFromPred(pred,confidence_threshold) for pred in preds]\n",
    "df_bbox['predClassName'] = df_bbox['predClass'].map(classDict)\n",
    "df_bbox"
   ]
  },
  {
   "cell_type": "markdown",
   "id": "6b954364",
   "metadata": {},
   "source": [
    "# Annotating Original Image"
   ]
  },
  {
   "cell_type": "markdown",
   "id": "625ef4db",
   "metadata": {},
   "source": [
    "Now that we have a list of all predicted classes, if we wanted to annotate the `crater` class onto the original image we can do so as follows. We will first have to subset the data frame by our class"
   ]
  },
  {
   "cell_type": "code",
   "execution_count": 20,
   "id": "10bb3a3e",
   "metadata": {
    "ExecuteTime": {
     "end_time": "2022-06-02T08:27:32.500355Z",
     "start_time": "2022-06-02T08:27:32.469349Z"
    },
    "scrolled": true
   },
   "outputs": [
    {
     "data": {
      "text/html": [
       "<div>\n",
       "<style scoped>\n",
       "    .dataframe tbody tr th:only-of-type {\n",
       "        vertical-align: middle;\n",
       "    }\n",
       "\n",
       "    .dataframe tbody tr th {\n",
       "        vertical-align: top;\n",
       "    }\n",
       "\n",
       "    .dataframe thead th {\n",
       "        text-align: right;\n",
       "    }\n",
       "</style>\n",
       "<table border=\"1\" class=\"dataframe\">\n",
       "  <thead>\n",
       "    <tr style=\"text-align: right;\">\n",
       "      <th></th>\n",
       "      <th>bbox_bounds</th>\n",
       "      <th>winsize</th>\n",
       "      <th>predClass</th>\n",
       "      <th>predClassName</th>\n",
       "    </tr>\n",
       "  </thead>\n",
       "  <tbody>\n",
       "    <tr>\n",
       "      <th>6</th>\n",
       "      <td>(0, 750, 208, 958)</td>\n",
       "      <td>208</td>\n",
       "      <td>1</td>\n",
       "      <td>crater</td>\n",
       "    </tr>\n",
       "    <tr>\n",
       "      <th>24</th>\n",
       "      <td>(0, 3000, 208, 3208)</td>\n",
       "      <td>208</td>\n",
       "      <td>1</td>\n",
       "      <td>crater</td>\n",
       "    </tr>\n",
       "    <tr>\n",
       "      <th>30</th>\n",
       "      <td>(0, 3750, 208, 3958)</td>\n",
       "      <td>208</td>\n",
       "      <td>1</td>\n",
       "      <td>crater</td>\n",
       "    </tr>\n",
       "    <tr>\n",
       "      <th>36</th>\n",
       "      <td>(0, 4500, 208, 4708)</td>\n",
       "      <td>208</td>\n",
       "      <td>1</td>\n",
       "      <td>crater</td>\n",
       "    </tr>\n",
       "    <tr>\n",
       "      <th>53</th>\n",
       "      <td>(0, 6625, 208, 6833)</td>\n",
       "      <td>208</td>\n",
       "      <td>1</td>\n",
       "      <td>crater</td>\n",
       "    </tr>\n",
       "    <tr>\n",
       "      <th>72</th>\n",
       "      <td>(125, 1375, 333, 1583)</td>\n",
       "      <td>208</td>\n",
       "      <td>1</td>\n",
       "      <td>crater</td>\n",
       "    </tr>\n",
       "    <tr>\n",
       "      <th>83</th>\n",
       "      <td>(125, 2750, 333, 2958)</td>\n",
       "      <td>208</td>\n",
       "      <td>1</td>\n",
       "      <td>crater</td>\n",
       "    </tr>\n",
       "    <tr>\n",
       "      <th>96</th>\n",
       "      <td>(125, 4375, 333, 4583)</td>\n",
       "      <td>208</td>\n",
       "      <td>1</td>\n",
       "      <td>crater</td>\n",
       "    </tr>\n",
       "    <tr>\n",
       "      <th>97</th>\n",
       "      <td>(125, 4500, 333, 4708)</td>\n",
       "      <td>208</td>\n",
       "      <td>1</td>\n",
       "      <td>crater</td>\n",
       "    </tr>\n",
       "    <tr>\n",
       "      <th>127</th>\n",
       "      <td>(250, 625, 458, 833)</td>\n",
       "      <td>208</td>\n",
       "      <td>1</td>\n",
       "      <td>crater</td>\n",
       "    </tr>\n",
       "    <tr>\n",
       "      <th>168</th>\n",
       "      <td>(250, 5750, 458, 5958)</td>\n",
       "      <td>208</td>\n",
       "      <td>1</td>\n",
       "      <td>crater</td>\n",
       "    </tr>\n",
       "    <tr>\n",
       "      <th>208</th>\n",
       "      <td>(375, 3125, 583, 3333)</td>\n",
       "      <td>208</td>\n",
       "      <td>1</td>\n",
       "      <td>crater</td>\n",
       "    </tr>\n",
       "    <tr>\n",
       "      <th>216</th>\n",
       "      <td>(375, 4125, 583, 4333)</td>\n",
       "      <td>208</td>\n",
       "      <td>1</td>\n",
       "      <td>crater</td>\n",
       "    </tr>\n",
       "    <tr>\n",
       "      <th>240</th>\n",
       "      <td>(375, 7125, 583, 7333)</td>\n",
       "      <td>208</td>\n",
       "      <td>1</td>\n",
       "      <td>crater</td>\n",
       "    </tr>\n",
       "    <tr>\n",
       "      <th>245</th>\n",
       "      <td>(500, 125, 708, 333)</td>\n",
       "      <td>208</td>\n",
       "      <td>1</td>\n",
       "      <td>crater</td>\n",
       "    </tr>\n",
       "    <tr>\n",
       "      <th>267</th>\n",
       "      <td>(500, 2875, 708, 3083)</td>\n",
       "      <td>208</td>\n",
       "      <td>1</td>\n",
       "      <td>crater</td>\n",
       "    </tr>\n",
       "    <tr>\n",
       "      <th>309</th>\n",
       "      <td>(625, 500, 833, 708)</td>\n",
       "      <td>208</td>\n",
       "      <td>1</td>\n",
       "      <td>crater</td>\n",
       "    </tr>\n",
       "    <tr>\n",
       "      <th>315</th>\n",
       "      <td>(625, 1250, 833, 1458)</td>\n",
       "      <td>208</td>\n",
       "      <td>1</td>\n",
       "      <td>crater</td>\n",
       "    </tr>\n",
       "    <tr>\n",
       "      <th>325</th>\n",
       "      <td>(625, 2500, 833, 2708)</td>\n",
       "      <td>208</td>\n",
       "      <td>1</td>\n",
       "      <td>crater</td>\n",
       "    </tr>\n",
       "    <tr>\n",
       "      <th>339</th>\n",
       "      <td>(625, 4250, 833, 4458)</td>\n",
       "      <td>208</td>\n",
       "      <td>1</td>\n",
       "      <td>crater</td>\n",
       "    </tr>\n",
       "    <tr>\n",
       "      <th>376</th>\n",
       "      <td>(750, 1250, 958, 1458)</td>\n",
       "      <td>208</td>\n",
       "      <td>1</td>\n",
       "      <td>crater</td>\n",
       "    </tr>\n",
       "    <tr>\n",
       "      <th>391</th>\n",
       "      <td>(750, 3125, 958, 3333)</td>\n",
       "      <td>208</td>\n",
       "      <td>1</td>\n",
       "      <td>crater</td>\n",
       "    </tr>\n",
       "    <tr>\n",
       "      <th>448</th>\n",
       "      <td>(875, 2625, 1083, 2833)</td>\n",
       "      <td>208</td>\n",
       "      <td>1</td>\n",
       "      <td>crater</td>\n",
       "    </tr>\n",
       "    <tr>\n",
       "      <th>499</th>\n",
       "      <td>(1000, 1375, 1208, 1583)</td>\n",
       "      <td>208</td>\n",
       "      <td>1</td>\n",
       "      <td>crater</td>\n",
       "    </tr>\n",
       "    <tr>\n",
       "      <th>527</th>\n",
       "      <td>(1000, 4875, 1208, 5083)</td>\n",
       "      <td>208</td>\n",
       "      <td>1</td>\n",
       "      <td>crater</td>\n",
       "    </tr>\n",
       "    <tr>\n",
       "      <th>548</th>\n",
       "      <td>(1000, 7500, 1208, 7708)</td>\n",
       "      <td>208</td>\n",
       "      <td>1</td>\n",
       "      <td>crater</td>\n",
       "    </tr>\n",
       "    <tr>\n",
       "      <th>585</th>\n",
       "      <td>(1125, 4500, 1333, 4708)</td>\n",
       "      <td>208</td>\n",
       "      <td>1</td>\n",
       "      <td>crater</td>\n",
       "    </tr>\n",
       "    <tr>\n",
       "      <th>619</th>\n",
       "      <td>(1250, 1125, 1458, 1333)</td>\n",
       "      <td>208</td>\n",
       "      <td>1</td>\n",
       "      <td>crater</td>\n",
       "    </tr>\n",
       "    <tr>\n",
       "      <th>629</th>\n",
       "      <td>(1250, 2375, 1458, 2583)</td>\n",
       "      <td>208</td>\n",
       "      <td>1</td>\n",
       "      <td>crater</td>\n",
       "    </tr>\n",
       "    <tr>\n",
       "      <th>688</th>\n",
       "      <td>(1375, 2125, 1583, 2333)</td>\n",
       "      <td>208</td>\n",
       "      <td>1</td>\n",
       "      <td>crater</td>\n",
       "    </tr>\n",
       "    <tr>\n",
       "      <th>719</th>\n",
       "      <td>(1375, 6000, 1583, 6208)</td>\n",
       "      <td>208</td>\n",
       "      <td>1</td>\n",
       "      <td>crater</td>\n",
       "    </tr>\n",
       "    <tr>\n",
       "      <th>725</th>\n",
       "      <td>(1375, 6750, 1583, 6958)</td>\n",
       "      <td>208</td>\n",
       "      <td>1</td>\n",
       "      <td>crater</td>\n",
       "    </tr>\n",
       "    <tr>\n",
       "      <th>741</th>\n",
       "      <td>(1500, 1125, 1708, 1333)</td>\n",
       "      <td>208</td>\n",
       "      <td>1</td>\n",
       "      <td>crater</td>\n",
       "    </tr>\n",
       "    <tr>\n",
       "      <th>752</th>\n",
       "      <td>(1500, 2500, 1708, 2708)</td>\n",
       "      <td>208</td>\n",
       "      <td>1</td>\n",
       "      <td>crater</td>\n",
       "    </tr>\n",
       "    <tr>\n",
       "      <th>839</th>\n",
       "      <td>(1625, 5750, 1833, 5958)</td>\n",
       "      <td>208</td>\n",
       "      <td>1</td>\n",
       "      <td>crater</td>\n",
       "    </tr>\n",
       "    <tr>\n",
       "      <th>847</th>\n",
       "      <td>(1625, 6750, 1833, 6958)</td>\n",
       "      <td>208</td>\n",
       "      <td>1</td>\n",
       "      <td>crater</td>\n",
       "    </tr>\n",
       "    <tr>\n",
       "      <th>854</th>\n",
       "      <td>(1750, 0, 1958, 208)</td>\n",
       "      <td>208</td>\n",
       "      <td>1</td>\n",
       "      <td>crater</td>\n",
       "    </tr>\n",
       "    <tr>\n",
       "      <th>861</th>\n",
       "      <td>(1750, 875, 1958, 1083)</td>\n",
       "      <td>208</td>\n",
       "      <td>1</td>\n",
       "      <td>crater</td>\n",
       "    </tr>\n",
       "    <tr>\n",
       "      <th>928</th>\n",
       "      <td>(0, 2158, 278, 2436)</td>\n",
       "      <td>278</td>\n",
       "      <td>1</td>\n",
       "      <td>crater</td>\n",
       "    </tr>\n",
       "    <tr>\n",
       "      <th>932</th>\n",
       "      <td>(0, 2822, 278, 3100)</td>\n",
       "      <td>278</td>\n",
       "      <td>1</td>\n",
       "      <td>crater</td>\n",
       "    </tr>\n",
       "    <tr>\n",
       "      <th>944</th>\n",
       "      <td>(0, 4814, 278, 5092)</td>\n",
       "      <td>278</td>\n",
       "      <td>1</td>\n",
       "      <td>crater</td>\n",
       "    </tr>\n",
       "    <tr>\n",
       "      <th>1000</th>\n",
       "      <td>(166, 6474, 444, 6752)</td>\n",
       "      <td>278</td>\n",
       "      <td>1</td>\n",
       "      <td>crater</td>\n",
       "    </tr>\n",
       "    <tr>\n",
       "      <th>1057</th>\n",
       "      <td>(498, 664, 776, 942)</td>\n",
       "      <td>278</td>\n",
       "      <td>1</td>\n",
       "      <td>crater</td>\n",
       "    </tr>\n",
       "    <tr>\n",
       "      <th>1097</th>\n",
       "      <td>(498, 7304, 776, 7582)</td>\n",
       "      <td>278</td>\n",
       "      <td>1</td>\n",
       "      <td>crater</td>\n",
       "    </tr>\n",
       "    <tr>\n",
       "      <th>1118</th>\n",
       "      <td>(664, 3154, 942, 3432)</td>\n",
       "      <td>278</td>\n",
       "      <td>1</td>\n",
       "      <td>crater</td>\n",
       "    </tr>\n",
       "    <tr>\n",
       "      <th>1121</th>\n",
       "      <td>(664, 3652, 942, 3930)</td>\n",
       "      <td>278</td>\n",
       "      <td>1</td>\n",
       "      <td>crater</td>\n",
       "    </tr>\n",
       "    <tr>\n",
       "      <th>1151</th>\n",
       "      <td>(830, 996, 1108, 1274)</td>\n",
       "      <td>278</td>\n",
       "      <td>1</td>\n",
       "      <td>crater</td>\n",
       "    </tr>\n",
       "    <tr>\n",
       "      <th>1207</th>\n",
       "      <td>(996, 2656, 1274, 2934)</td>\n",
       "      <td>278</td>\n",
       "      <td>1</td>\n",
       "      <td>crater</td>\n",
       "    </tr>\n",
       "    <tr>\n",
       "      <th>1219</th>\n",
       "      <td>(996, 4648, 1274, 4926)</td>\n",
       "      <td>278</td>\n",
       "      <td>1</td>\n",
       "      <td>crater</td>\n",
       "    </tr>\n",
       "    <tr>\n",
       "      <th>1296</th>\n",
       "      <td>(1328, 2158, 1606, 2436)</td>\n",
       "      <td>278</td>\n",
       "      <td>1</td>\n",
       "      <td>crater</td>\n",
       "    </tr>\n",
       "    <tr>\n",
       "      <th>1311</th>\n",
       "      <td>(1328, 4648, 1606, 4926)</td>\n",
       "      <td>278</td>\n",
       "      <td>1</td>\n",
       "      <td>crater</td>\n",
       "    </tr>\n",
       "    <tr>\n",
       "      <th>1514</th>\n",
       "      <td>(750, 750, 1166, 1166)</td>\n",
       "      <td>416</td>\n",
       "      <td>1</td>\n",
       "      <td>crater</td>\n",
       "    </tr>\n",
       "    <tr>\n",
       "      <th>1520</th>\n",
       "      <td>(750, 2250, 1166, 2666)</td>\n",
       "      <td>416</td>\n",
       "      <td>1</td>\n",
       "      <td>crater</td>\n",
       "    </tr>\n",
       "    <tr>\n",
       "      <th>1541</th>\n",
       "      <td>(1000, 0, 1416, 416)</td>\n",
       "      <td>416</td>\n",
       "      <td>1</td>\n",
       "      <td>crater</td>\n",
       "    </tr>\n",
       "  </tbody>\n",
       "</table>\n",
       "</div>"
      ],
      "text/plain": [
       "                   bbox_bounds  winsize  predClass predClassName\n",
       "6           (0, 750, 208, 958)      208          1        crater\n",
       "24        (0, 3000, 208, 3208)      208          1        crater\n",
       "30        (0, 3750, 208, 3958)      208          1        crater\n",
       "36        (0, 4500, 208, 4708)      208          1        crater\n",
       "53        (0, 6625, 208, 6833)      208          1        crater\n",
       "72      (125, 1375, 333, 1583)      208          1        crater\n",
       "83      (125, 2750, 333, 2958)      208          1        crater\n",
       "96      (125, 4375, 333, 4583)      208          1        crater\n",
       "97      (125, 4500, 333, 4708)      208          1        crater\n",
       "127       (250, 625, 458, 833)      208          1        crater\n",
       "168     (250, 5750, 458, 5958)      208          1        crater\n",
       "208     (375, 3125, 583, 3333)      208          1        crater\n",
       "216     (375, 4125, 583, 4333)      208          1        crater\n",
       "240     (375, 7125, 583, 7333)      208          1        crater\n",
       "245       (500, 125, 708, 333)      208          1        crater\n",
       "267     (500, 2875, 708, 3083)      208          1        crater\n",
       "309       (625, 500, 833, 708)      208          1        crater\n",
       "315     (625, 1250, 833, 1458)      208          1        crater\n",
       "325     (625, 2500, 833, 2708)      208          1        crater\n",
       "339     (625, 4250, 833, 4458)      208          1        crater\n",
       "376     (750, 1250, 958, 1458)      208          1        crater\n",
       "391     (750, 3125, 958, 3333)      208          1        crater\n",
       "448    (875, 2625, 1083, 2833)      208          1        crater\n",
       "499   (1000, 1375, 1208, 1583)      208          1        crater\n",
       "527   (1000, 4875, 1208, 5083)      208          1        crater\n",
       "548   (1000, 7500, 1208, 7708)      208          1        crater\n",
       "585   (1125, 4500, 1333, 4708)      208          1        crater\n",
       "619   (1250, 1125, 1458, 1333)      208          1        crater\n",
       "629   (1250, 2375, 1458, 2583)      208          1        crater\n",
       "688   (1375, 2125, 1583, 2333)      208          1        crater\n",
       "719   (1375, 6000, 1583, 6208)      208          1        crater\n",
       "725   (1375, 6750, 1583, 6958)      208          1        crater\n",
       "741   (1500, 1125, 1708, 1333)      208          1        crater\n",
       "752   (1500, 2500, 1708, 2708)      208          1        crater\n",
       "839   (1625, 5750, 1833, 5958)      208          1        crater\n",
       "847   (1625, 6750, 1833, 6958)      208          1        crater\n",
       "854       (1750, 0, 1958, 208)      208          1        crater\n",
       "861    (1750, 875, 1958, 1083)      208          1        crater\n",
       "928       (0, 2158, 278, 2436)      278          1        crater\n",
       "932       (0, 2822, 278, 3100)      278          1        crater\n",
       "944       (0, 4814, 278, 5092)      278          1        crater\n",
       "1000    (166, 6474, 444, 6752)      278          1        crater\n",
       "1057      (498, 664, 776, 942)      278          1        crater\n",
       "1097    (498, 7304, 776, 7582)      278          1        crater\n",
       "1118    (664, 3154, 942, 3432)      278          1        crater\n",
       "1121    (664, 3652, 942, 3930)      278          1        crater\n",
       "1151    (830, 996, 1108, 1274)      278          1        crater\n",
       "1207   (996, 2656, 1274, 2934)      278          1        crater\n",
       "1219   (996, 4648, 1274, 4926)      278          1        crater\n",
       "1296  (1328, 2158, 1606, 2436)      278          1        crater\n",
       "1311  (1328, 4648, 1606, 4926)      278          1        crater\n",
       "1514    (750, 750, 1166, 1166)      416          1        crater\n",
       "1520   (750, 2250, 1166, 2666)      416          1        crater\n",
       "1541      (1000, 0, 1416, 416)      416          1        crater"
      ]
     },
     "execution_count": 20,
     "metadata": {},
     "output_type": "execute_result"
    }
   ],
   "source": [
    "df_crater = df_bbox[df_bbox.predClassName == 'crater']\n",
    "df_crater"
   ]
  },
  {
   "cell_type": "code",
   "execution_count": 21,
   "id": "27ca019e",
   "metadata": {
    "ExecuteTime": {
     "end_time": "2022-06-02T08:27:32.515969Z",
     "start_time": "2022-06-02T08:27:32.501356Z"
    }
   },
   "outputs": [],
   "source": [
    "# Creating a color map\n",
    "colorMap = {0: '#0796FF',\n",
    "            1: '#FF00F4',\n",
    "            2: '#FF9700',\n",
    "            3: '#8DFF00',\n",
    "            4: '#F277FD',\n",
    "            5: '#FF008B',\n",
    "            6: '#00475C',\n",
    "            7: '#000000'}"
   ]
  },
  {
   "cell_type": "code",
   "execution_count": null,
   "id": "46cbc9fc",
   "metadata": {
    "ExecuteTime": {
     "end_time": "2022-06-02T08:31:37.739343Z",
     "start_time": "2022-06-02T08:31:34.199785Z"
    }
   },
   "outputs": [],
   "source": [
    "mask_img = Image.new(\"RGBA\", (img_width, img_height), (0, 0, 0, 0))\n",
    "\n",
    "for idx in range(0, df_crater.shape[0]):  \n",
    "    drawBoundingRectangle(df_crater.iloc[idx]['bbox_bounds'],\n",
    "                          mask_img,\n",
    "                          color=colorMap[df_crater.iloc[idx]['predClass']]\n",
    "                                         )\n",
    "\n",
    "im2 = im1.convert('RGB')\n",
    "im2.paste(mask_img,(0,0),mask_img)\n",
    "im2"
   ]
  },
  {
   "cell_type": "markdown",
   "id": "1a086816",
   "metadata": {},
   "source": [
    "# Performance\n",
    "\n",
    "Although my approach to bounding features may be a little rudimentary. A lot of the overlapping bounding boxes can be cleaned up with some advanced such as *Intersection Over Union*. However, there is currently a bigger  issue with the model. Lets look at the distribution of the positive predictions."
   ]
  },
  {
   "cell_type": "code",
   "execution_count": 24,
   "id": "9b40839f",
   "metadata": {
    "ExecuteTime": {
     "end_time": "2022-06-02T08:31:40.715274Z",
     "start_time": "2022-06-02T08:31:40.697279Z"
    }
   },
   "outputs": [
    {
     "data": {
      "text/plain": [
       "other     0.890865\n",
       "-         0.076027\n",
       "crater    0.033109\n",
       "Name: predClassName, dtype: float64"
      ]
     },
     "execution_count": 24,
     "metadata": {},
     "output_type": "execute_result"
    }
   ],
   "source": [
    "df_bbox.predClassName.value_counts(normalize=True)"
   ]
  },
  {
   "cell_type": "markdown",
   "id": "74ec49b6",
   "metadata": {},
   "source": [
    "This shows that the model is still overwhelmingly predicting the `other` class. In fact, looking at this distribution, if we were to annotate the image with our `other` class, it'll be covered with annotations. Lets have a quick look."
   ]
  },
  {
   "cell_type": "code",
   "execution_count": null,
   "id": "a4bc194f",
   "metadata": {
    "ExecuteTime": {
     "end_time": "2022-06-02T08:31:43.905862Z",
     "start_time": "2022-06-02T08:31:40.716274Z"
    },
    "scrolled": false
   },
   "outputs": [],
   "source": [
    "df_other = df_bbox[df_bbox.predClassName == 'other']\n",
    "\n",
    "mask_img = Image.new(\"RGBA\", (img_width, img_height), (0, 0, 0, 0))\n",
    "\n",
    "for idx in range(0, df_other.shape[0]):  \n",
    "    drawBoundingRectangle(df_other.iloc[idx]['bbox_bounds'],\n",
    "                          mask_img,\n",
    "                          color=colorMap[df_other.iloc[idx]['predClass']]\n",
    "                                         )\n",
    "\n",
    "im2 = im1.convert('RGB')\n",
    "im2.paste(mask_img,(0,0),mask_img)\n",
    "im2"
   ]
  },
  {
   "cell_type": "markdown",
   "id": "c7968aa8",
   "metadata": {},
   "source": [
    "Remember that each one of these patches had to overcome a confidence threshold of 90%! It seems that the massive imbalance in conjunction with the confounding nature of a \"catch-all\" class severely hampers the predictive capabilities of the model.\n",
    "\n",
    "Even though my model performed with an accuracy of 92% on the test set, lets have a more detailed breakdown of the classification."
   ]
  },
  {
   "cell_type": "code",
   "execution_count": 26,
   "id": "8d4b4f65",
   "metadata": {
    "ExecuteTime": {
     "end_time": "2022-06-02T08:31:56.898299Z",
     "start_time": "2022-06-02T08:31:43.906863Z"
    },
    "scrolled": true
   },
   "outputs": [
    {
     "name": "stderr",
     "output_type": "stream",
     "text": [
      "C:\\Users\\saads\\AppData\\Local\\Temp\\ipykernel_31808\\3196756981.py:2: UserWarning: `Model.predict_generator` is deprecated and will be removed in a future version. Please use `Model.predict`, which supports generators.\n",
      "  test_preds_proba = final_model.predict_generator(test_generator,steps = 1793)\n"
     ]
    }
   ],
   "source": [
    "test_actual = test_generator.classes\n",
    "test_preds_proba = final_model.predict_generator(test_generator,steps = 1793)\n",
    "test_preds = [pred.argmax() for pred in  test_preds_proba]"
   ]
  },
  {
   "cell_type": "code",
   "execution_count": 27,
   "id": "26ac5c41",
   "metadata": {
    "ExecuteTime": {
     "end_time": "2022-06-02T08:31:57.215371Z",
     "start_time": "2022-06-02T08:31:56.899299Z"
    }
   },
   "outputs": [
    {
     "data": {
      "image/png": "[encoded data removed]",
      "text/plain": [
       "<Figure size 1296x1296 with 2 Axes>"
      ]
     },
     "metadata": {
      "needs_background": "light"
     },
     "output_type": "display_data"
    }
   ],
   "source": [
    "fig, ax = plt.subplots(figsize=(18,18))\n",
    "disp = ConfusionMatrixDisplay(confusion_matrix(test_actual, test_preds),\n",
    "                              display_labels=test_generator.class_indices\n",
    "                             )\n",
    "\n",
    "disp.plot(ax=ax,cmap='Reds');"
   ]
  },
  {
   "cell_type": "code",
   "execution_count": 28,
   "id": "3b0f1bb2",
   "metadata": {
    "ExecuteTime": {
     "end_time": "2022-06-02T08:31:57.231373Z",
     "start_time": "2022-06-02T08:31:57.215371Z"
    }
   },
   "outputs": [
    {
     "name": "stdout",
     "output_type": "stream",
     "text": [
      "              precision    recall  f1-score   support\n",
      "\n",
      "           0       0.05      0.06      0.05        16\n",
      "           1       0.10      0.08      0.09        89\n",
      "           2       0.03      0.03      0.03        66\n",
      "           3       0.00      0.00      0.00         7\n",
      "           4       0.83      0.87      0.85      1482\n",
      "           5       0.00      0.00      0.00        49\n",
      "           6       0.00      0.00      0.00        42\n",
      "           7       0.05      0.05      0.05        42\n",
      "\n",
      "    accuracy                           0.72      1793\n",
      "   macro avg       0.13      0.14      0.13      1793\n",
      "weighted avg       0.69      0.72      0.71      1793\n",
      "\n"
     ]
    }
   ],
   "source": [
    "print(classification_report(test_actual, test_preds))"
   ]
  },
  {
   "cell_type": "code",
   "execution_count": 29,
   "id": "3e283b9a",
   "metadata": {
    "ExecuteTime": {
     "end_time": "2022-06-02T08:31:57.247378Z",
     "start_time": "2022-06-02T08:31:57.232373Z"
    },
    "scrolled": true
   },
   "outputs": [
    {
     "data": {
      "text/plain": [
       "['loss', 'accuracy']"
      ]
     },
     "execution_count": 29,
     "metadata": {},
     "output_type": "execute_result"
    }
   ],
   "source": [
    "final_model.metrics_names"
   ]
  },
  {
   "cell_type": "code",
   "execution_count": 30,
   "id": "151726da",
   "metadata": {
    "ExecuteTime": {
     "end_time": "2022-06-02T08:31:57.263384Z",
     "start_time": "2022-06-02T08:31:57.248378Z"
    }
   },
   "outputs": [
    {
     "data": {
      "text/plain": [
       "0.724484104852203"
      ]
     },
     "execution_count": 30,
     "metadata": {},
     "output_type": "execute_result"
    }
   ],
   "source": [
    "(test_preds == test_actual).sum()/1793"
   ]
  },
  {
   "cell_type": "code",
   "execution_count": 31,
   "id": "b6358aa3",
   "metadata": {
    "ExecuteTime": {
     "end_time": "2022-06-02T08:31:57.278248Z",
     "start_time": "2022-06-02T08:31:57.264383Z"
    }
   },
   "outputs": [],
   "source": [
    "test = tf.nn.softmax(test_preds_proba)[0]"
   ]
  },
  {
   "cell_type": "code",
   "execution_count": 32,
   "id": "3a349f48",
   "metadata": {
    "ExecuteTime": {
     "end_time": "2022-06-02T08:31:57.294251Z",
     "start_time": "2022-06-02T08:31:57.279248Z"
    }
   },
   "outputs": [
    {
     "data": {
      "text/plain": [
       "<tf.Tensor: shape=(8,), dtype=float32, numpy=\n",
       "array([0.1031023 , 0.10380733, 0.10324699, 0.10325362, 0.27712777,\n",
       "       0.10324559, 0.1031105 , 0.10310586], dtype=float32)>"
      ]
     },
     "execution_count": 32,
     "metadata": {},
     "output_type": "execute_result"
    }
   ],
   "source": [
    "test"
   ]
  },
  {
   "cell_type": "code",
   "execution_count": 33,
   "id": "dabaf3a4",
   "metadata": {
    "ExecuteTime": {
     "end_time": "2022-06-02T08:31:57.310255Z",
     "start_time": "2022-06-02T08:31:57.296252Z"
    }
   },
   "outputs": [
    {
     "data": {
      "text/plain": [
       "array([7.0359856e-06, 6.8219085e-03, 1.4093542e-03, 1.4736383e-03,\n",
       "       9.8876405e-01, 1.3959494e-03, 8.6563377e-05, 4.1544296e-05],\n",
       "      dtype=float32)"
      ]
     },
     "execution_count": 33,
     "metadata": {},
     "output_type": "execute_result"
    }
   ],
   "source": [
    "test_preds_proba[0]"
   ]
  },
  {
   "cell_type": "code",
   "execution_count": 34,
   "id": "8525efa4",
   "metadata": {
    "ExecuteTime": {
     "end_time": "2022-06-02T08:31:57.326258Z",
     "start_time": "2022-06-02T08:31:57.311257Z"
    }
   },
   "outputs": [
    {
     "data": {
      "text/plain": [
       "4"
      ]
     },
     "execution_count": 34,
     "metadata": {},
     "output_type": "execute_result"
    }
   ],
   "source": [
    "np.argmax(test_preds_proba[0])"
   ]
  },
  {
   "cell_type": "code",
   "execution_count": 35,
   "id": "334fe7a4",
   "metadata": {
    "ExecuteTime": {
     "end_time": "2022-06-02T08:31:57.342262Z",
     "start_time": "2022-06-02T08:31:57.327259Z"
    },
    "scrolled": true
   },
   "outputs": [
    {
     "data": {
      "text/plain": [
       "array([0, 0, 0, ..., 7, 7, 7])"
      ]
     },
     "execution_count": 35,
     "metadata": {},
     "output_type": "execute_result"
    }
   ],
   "source": [
    "test_actual"
   ]
  },
  {
   "cell_type": "markdown",
   "id": "c5c230d8",
   "metadata": {},
   "source": [
    "# Conclusion\n",
    "The final chosen model was the VGG16 pretrained model which was run through 500 more iterations to fine tune the weights for my particular problem set. \n",
    "Although the metrics of the final model is quantitatively satisfactory, its performance on true unseen data was poor. The imbalance in the dataset aside, the class of `others` was essentially a catch all for images that couldn't be classified into the other categories and/or human labelers had a hard time classifying in general. \n",
    "\n",
    "Even to the human eye these might look like they belong to the same set of features but they do not. The images belong to the classes `crater`, `impact ejecta` and `other` respectively.\n",
    "\n",
    "![img](./savedFigs/eg_crater.jpg) \n",
    "![img](./savedFigs/eg_impactejecta.jpg) \n",
    "![img](./savedFigs/eg_other.jpg) \n",
    "\n",
    "One potential way of solving this issue would be to get even more data, but more importantly labeled data. This is especially true for the underepresented features like `spider`s and `impact ejecta`s. Completely reassessing how to classify these images might also help."
   ]
  },
  {
   "cell_type": "markdown",
   "id": "03132073",
   "metadata": {},
   "source": [
    "# Next Steps:\n",
    "\n",
    "- Retrain AlexNet and LeNet with a smaller learning rate for a high number of iterations to see if they perform any better\n",
    "- Use pretrained weights for AlexNet and LeNet to see if it performs any better\n",
    "- Use a different metric to train against\n",
    "- Undersample or completely drop the majority class `other` and see if resulting models are better at delineating features.\n",
    "- Gather more labeled data\n",
    "- Implement *Intersection Over Union* to clean up annotation of images"
   ]
  },
  {
   "cell_type": "code",
   "execution_count": null,
   "id": "44480df0",
   "metadata": {},
   "outputs": [],
   "source": []
  }
 ],
 "metadata": {
  "kernelspec": {
   "display_name": "tfGPU",
   "language": "python",
   "name": "tfgpu"
  },
  "language_info": {
   "codemirror_mode": {
    "name": "ipython",
    "version": 3
   },
   "file_extension": ".py",
   "mimetype": "text/x-python",
   "name": "python",
   "nbconvert_exporter": "python",
   "pygments_lexer": "ipython3",
   "version": "3.9.12"
  },
  "toc": {
   "base_numbering": 1,
   "nav_menu": {},
   "number_sections": true,
   "sideBar": true,
   "skip_h1_title": false,
   "title_cell": "Table of Contents",
   "title_sidebar": "Contents",
   "toc_cell": false,
   "toc_position": {
    "height": "calc(100% - 180px)",
    "left": "10px",
    "top": "150px",
    "width": "265px"
   },
   "toc_section_display": true,
   "toc_window_display": true
  },
  "varInspector": {
   "cols": {
    "lenName": 16,
    "lenType": 16,
    "lenVar": 40
   },
   "kernels_config": {
    "python": {
     "delete_cmd_postfix": "",
     "delete_cmd_prefix": "del ",
     "library": "var_list.py",
     "varRefreshCmd": "print(var_dic_list())"
    },
    "r": {
     "delete_cmd_postfix": ") ",
     "delete_cmd_prefix": "rm(",
     "library": "var_list.r",
     "varRefreshCmd": "cat(var_dic_list()) "
    }
   },
   "position": {
    "height": "395.844px",
    "left": "1187px",
    "right": "20px",
    "top": "120px",
    "width": "713px"
   },
   "types_to_exclude": [
    "module",
    "function",
    "builtin_function_or_method",
    "instance",
    "_Feature"
   ],
   "window_display": false
  }
 },
 "nbformat": 4,
 "nbformat_minor": 5
}
