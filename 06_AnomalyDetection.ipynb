{
 "cells": [
  {
   "cell_type": "code",
   "execution_count": 1,
   "id": "b8b3895d",
   "metadata": {
    "ExecuteTime": {
     "end_time": "2022-06-01T13:40:16.411970Z",
     "start_time": "2022-06-01T13:40:16.389966Z"
    }
   },
   "outputs": [
    {
     "data": {
      "text/html": [
       "<style>.container { width:80% !important; }</style>"
      ],
      "text/plain": [
       "<IPython.core.display.HTML object>"
      ]
     },
     "metadata": {},
     "output_type": "display_data"
    }
   ],
   "source": [
    "from IPython.display import display, HTML\n",
    "display(HTML(\"<style>.container { width:80% !important; }</style>\"))"
   ]
  },
  {
   "cell_type": "code",
   "execution_count": 2,
   "id": "a4c6c59d",
   "metadata": {
    "ExecuteTime": {
     "end_time": "2022-06-01T13:40:20.768079Z",
     "start_time": "2022-06-01T13:40:16.579826Z"
    }
   },
   "outputs": [],
   "source": [
    "from PIL import Image, ImageDraw\n",
    "import math\n",
    "import pandas as pd\n",
    "import numpy as np\n",
    "import tensorflow as tf\n",
    "from tensorflow.keras.preprocessing.image import ImageDataGenerator\n",
    "import os\n",
    "import shutil\n",
    "import random"
   ]
  },
  {
   "cell_type": "code",
   "execution_count": 23,
   "id": "9f69031d",
   "metadata": {
    "ExecuteTime": {
     "end_time": "2022-05-29T23:10:33.761722Z",
     "start_time": "2022-05-29T23:10:33.745719Z"
    }
   },
   "outputs": [],
   "source": [
    "def drawBoundingRectangle(coordsTup , ImgObj, color='#ff0000', width=5, alpha=1.0):\n",
    "    \"\"\"\n",
    "    Creates a box to highligt a location on the image object\n",
    "\n",
    "    coordsTup = tuple of bbox corners. \n",
    "        top left coords = first 2 elements\n",
    "        bottom right coords = last 2 elements\n",
    "    width: width of outline\n",
    "    color: hex value of color. Default red\n",
    "    alpha: opacity. Range: 0,1\n",
    "    \"\"\"\n",
    "    #Checking for transparency\n",
    "    if alpha > 1 or alpha < 0: \n",
    "        alpha =1\n",
    "    \n",
    "    color_with_opacity = color + hex(int(alpha*255))[-2:]\n",
    "    \n",
    "    # Draw a rectangle\n",
    "    draw = ImageDraw.Draw(ImgObj,'RGBA')\n",
    "    \n",
    "    p1_coord = coordsTup[0:2]\n",
    "    p2_coord = coordsTup[2:4]\n",
    "    draw.rectangle([p1_coord, p2_coord], outline=color_with_opacity, width=width)\n",
    "    \n",
    "    \n",
    "def createNewPotentialBboxes(imgObj):\n",
    "    img_width,  img_height = imgObj.size\n",
    "    overlap = 0.4\n",
    "\n",
    "    df_list = []\n",
    "    \n",
    "\n",
    "    for winsize in [ (277*0.75) , (277), (277*1.5)]:\n",
    "        winsize = round(winsize)        \n",
    "        \n",
    "        if (winsize > img_width) or (winsize > img_height):\n",
    "            break            \n",
    "        \n",
    "        stride = round(winsize*(1-overlap))\n",
    "        #if winsize odd, increase by 1 pixel. Just easier\n",
    "        if (winsize % 2) != 0:\n",
    "            winsize+=1\n",
    "        xvals = np.arange((winsize/2), (img_width-winsize/2),stride)\n",
    "        yvals = np.arange((winsize/2), (img_height-winsize/2),stride)\n",
    "        list_centroids = [(x,y) for x in xvals for y in yvals]\n",
    "\n",
    "        list_coordTuples = [get_bboxCoords(x_cnt,y_cnt,winsize) for x_cnt,y_cnt in list_centroids]\n",
    "\n",
    "        #Appends new records for current winsize and bbox\n",
    "        df_list.append(pd.DataFrame([list_coordTuples,[winsize]*len(list_coordTuples)]).T)\n",
    "\n",
    "    df_bboxPotentials = pd.concat(df_list,ignore_index=True,axis=0)\n",
    "    df_bboxPotentials.columns = ['bbox_bounds','winsize']\n",
    "    df_bboxPotentials.to_csv(f'mass_maps/bboxPotentials_{img_width}_{img_height}.csv',index = False)\n",
    "    return df_bboxPotentials\n",
    "\n",
    "def get_bboxCoords(x_cnt,y_cnt,winsize):\n",
    "    return int(x_cnt - winsize/2),int(y_cnt - winsize/2),int(x_cnt + winsize/2),int(y_cnt + winsize/2)\n",
    "\n",
    "def getPotentialBboxes(imgObj,forceCreateNew = False):\n",
    "    \n",
    "    img_width,  img_height = imgObj.size\n",
    "    \n",
    "    if forceCreateNew:\n",
    "        print('force creating new')\n",
    "        df_bboxPotentials = createNewPotentialBboxes(imgObj)\n",
    "    else:\n",
    "        try:\n",
    "            print('reading current')\n",
    "            df_bboxPotentials = pd.read_csv(f'mass_maps/bboxPotentials_{img_width}_{img_height}.csv')\n",
    "        except FileNotFoundError:\n",
    "            print('no existing doc. creating')\n",
    "            df_bboxPotentials = createNewPotentialBboxes(imgObj)\n",
    "        \n",
    "        \n",
    "    return df_bboxPotentials\n",
    "\n",
    "def getClassFromPred(pred,threshold):\n",
    "    if max(pred)>threshold :\n",
    "        return pred.argmax()\n",
    "    return -1\n",
    "\n",
    "\n",
    "def getRandomColor():\n",
    "    #Shamelessly stolen from one of the references above\n",
    "    #Returns a random hex color value\n",
    "    return str([\"#\"+''.join([random.choice('ABCDEF0123456789') for i in range(6)])][0])\n",
    "\n",
    "\n",
    "colorMap = {n:getRandomColor() for n in range(0,8)}"
   ]
  },
  {
   "cell_type": "code",
   "execution_count": 4,
   "id": "57ba8189",
   "metadata": {
    "ExecuteTime": {
     "end_time": "2022-05-29T22:32:33.773533Z",
     "start_time": "2022-05-29T22:32:33.744793Z"
    }
   },
   "outputs": [],
   "source": [
    "im1 = Image.open('mass_maps/ESP_073483_1580_RED.NOMAP.browse.jpg')\n",
    "img_width,  img_height = im1.size"
   ]
  },
  {
   "cell_type": "code",
   "execution_count": 5,
   "id": "b34e2209",
   "metadata": {
    "ExecuteTime": {
     "end_time": "2022-05-29T22:32:33.819545Z",
     "start_time": "2022-05-29T22:32:33.774533Z"
    }
   },
   "outputs": [
    {
     "name": "stdout",
     "output_type": "stream",
     "text": [
      "force creating new\n"
     ]
    }
   ],
   "source": [
    "df_bbox = getPotentialBboxes(im1,forceCreateNew=True)"
   ]
  },
  {
   "cell_type": "code",
   "execution_count": 6,
   "id": "588395c9",
   "metadata": {
    "ExecuteTime": {
     "end_time": "2022-05-29T22:32:33.835548Z",
     "start_time": "2022-05-29T22:32:33.820545Z"
    }
   },
   "outputs": [
    {
     "data": {
      "text/html": [
       "<div>\n",
       "<style scoped>\n",
       "    .dataframe tbody tr th:only-of-type {\n",
       "        vertical-align: middle;\n",
       "    }\n",
       "\n",
       "    .dataframe tbody tr th {\n",
       "        vertical-align: top;\n",
       "    }\n",
       "\n",
       "    .dataframe thead th {\n",
       "        text-align: right;\n",
       "    }\n",
       "</style>\n",
       "<table border=\"1\" class=\"dataframe\">\n",
       "  <thead>\n",
       "    <tr style=\"text-align: right;\">\n",
       "      <th></th>\n",
       "      <th>bbox_bounds</th>\n",
       "      <th>winsize</th>\n",
       "    </tr>\n",
       "  </thead>\n",
       "  <tbody>\n",
       "    <tr>\n",
       "      <th>0</th>\n",
       "      <td>(0, 0, 138, 138)</td>\n",
       "      <td>138</td>\n",
       "    </tr>\n",
       "    <tr>\n",
       "      <th>1</th>\n",
       "      <td>(0, 166, 138, 304)</td>\n",
       "      <td>138</td>\n",
       "    </tr>\n",
       "    <tr>\n",
       "      <th>2</th>\n",
       "      <td>(0, 332, 138, 470)</td>\n",
       "      <td>138</td>\n",
       "    </tr>\n",
       "    <tr>\n",
       "      <th>3</th>\n",
       "      <td>(0, 498, 138, 636)</td>\n",
       "      <td>138</td>\n",
       "    </tr>\n",
       "    <tr>\n",
       "      <th>4</th>\n",
       "      <td>(0, 664, 138, 802)</td>\n",
       "      <td>138</td>\n",
       "    </tr>\n",
       "    <tr>\n",
       "      <th>...</th>\n",
       "      <td>...</td>\n",
       "      <td>...</td>\n",
       "    </tr>\n",
       "    <tr>\n",
       "      <th>1582</th>\n",
       "      <td>(1662, 6814, 2008, 7160)</td>\n",
       "      <td>346</td>\n",
       "    </tr>\n",
       "    <tr>\n",
       "      <th>1583</th>\n",
       "      <td>(1662, 6980, 2008, 7326)</td>\n",
       "      <td>346</td>\n",
       "    </tr>\n",
       "    <tr>\n",
       "      <th>1584</th>\n",
       "      <td>(1662, 7146, 2008, 7492)</td>\n",
       "      <td>346</td>\n",
       "    </tr>\n",
       "    <tr>\n",
       "      <th>1585</th>\n",
       "      <td>(1662, 7312, 2008, 7658)</td>\n",
       "      <td>346</td>\n",
       "    </tr>\n",
       "    <tr>\n",
       "      <th>1586</th>\n",
       "      <td>(1662, 7478, 2008, 7824)</td>\n",
       "      <td>346</td>\n",
       "    </tr>\n",
       "  </tbody>\n",
       "</table>\n",
       "<p>1587 rows × 2 columns</p>\n",
       "</div>"
      ],
      "text/plain": [
       "                   bbox_bounds winsize\n",
       "0             (0, 0, 138, 138)     138\n",
       "1           (0, 166, 138, 304)     138\n",
       "2           (0, 332, 138, 470)     138\n",
       "3           (0, 498, 138, 636)     138\n",
       "4           (0, 664, 138, 802)     138\n",
       "...                        ...     ...\n",
       "1582  (1662, 6814, 2008, 7160)     346\n",
       "1583  (1662, 6980, 2008, 7326)     346\n",
       "1584  (1662, 7146, 2008, 7492)     346\n",
       "1585  (1662, 7312, 2008, 7658)     346\n",
       "1586  (1662, 7478, 2008, 7824)     346\n",
       "\n",
       "[1587 rows x 2 columns]"
      ]
     },
     "execution_count": 6,
     "metadata": {},
     "output_type": "execute_result"
    }
   ],
   "source": [
    "df_bbox"
   ]
  },
  {
   "cell_type": "code",
   "execution_count": 7,
   "id": "1d46e1ee",
   "metadata": {
    "ExecuteTime": {
     "end_time": "2022-05-29T22:32:34.081385Z",
     "start_time": "2022-05-29T22:32:33.836549Z"
    }
   },
   "outputs": [],
   "source": [
    "list_imagesToClassify = [im1.crop(df_bbox.iloc[rowNum]['bbox_bounds']) \n",
    "                         for rowNum in range(0,df_bbox.shape[0])]"
   ]
  },
  {
   "cell_type": "code",
   "execution_count": 31,
   "id": "48aa00af",
   "metadata": {
    "ExecuteTime": {
     "end_time": "2022-05-29T23:13:07.466569Z",
     "start_time": "2022-05-29T23:13:05.433001Z"
    }
   },
   "outputs": [],
   "source": [
    "final_model = tf.keras.models.load_model('final_finalModel__jk__butReally_FinalModel.h5py')"
   ]
  },
  {
   "cell_type": "code",
   "execution_count": 32,
   "id": "0afe1879",
   "metadata": {
    "ExecuteTime": {
     "end_time": "2022-05-29T23:13:36.808756Z",
     "start_time": "2022-05-29T23:13:34.889751Z"
    }
   },
   "outputs": [],
   "source": [
    "# Fresh start on sliced output folder\n",
    "slicePath = f\"{'/'.join(im1.filename.split('/')[:-1])}/_slices_{im1.filename.split('/')[-1]}/\"\n",
    "slicePath = slicePath.replace('.','_')\n",
    "\n",
    "if (os.path.exists(slicePath) and os.path.isdir(slicePath)):\n",
    "    shutil.rmtree(slicePath)\n",
    "os.makedirs(slicePath)\n",
    "\n",
    "for count, img in enumerate(list_imagesToClassify):\n",
    "    img.save(''.join([slicePath,str(count),'_',(im1.filename.split('/')[-1])]))"
   ]
  },
  {
   "cell_type": "code",
   "execution_count": 33,
   "id": "76bf6733",
   "metadata": {
    "ExecuteTime": {
     "end_time": "2022-05-29T23:13:46.520564Z",
     "start_time": "2022-05-29T23:13:39.256940Z"
    }
   },
   "outputs": [
    {
     "name": "stdout",
     "output_type": "stream",
     "text": [
      "mass_maps/_slices_ESP_073483_1580_RED_NOMAP_browse_jpg/\n",
      "Found 1587 images belonging to 1 classes.\n",
      "199/199 [==============================] - 7s 35ms/step\n"
     ]
    }
   ],
   "source": [
    "# Normalizing data for 8 bit\n",
    "predict_datagen = ImageDataGenerator(rescale=1./255)\n",
    "\n",
    "print(slicePath)\n",
    "predict_generator = predict_datagen.flow_from_directory(\n",
    "    'mass_maps/',\n",
    "    target_size = (227,227),\n",
    "    batch_size=8,\n",
    "    color_mode='rgb',\n",
    "    class_mode=None\n",
    ")\n",
    "predict_generator.reset()\n",
    "\n",
    "preds = final_model.predict(predict_generator)"
   ]
  },
  {
   "cell_type": "code",
   "execution_count": 34,
   "id": "8ceeda79",
   "metadata": {
    "ExecuteTime": {
     "end_time": "2022-05-29T23:13:50.518897Z",
     "start_time": "2022-05-29T23:13:50.504894Z"
    }
   },
   "outputs": [],
   "source": [
    "df_bbox['predClass'] = [getClassFromPred(pred,0.9) for pred in preds]"
   ]
  },
  {
   "cell_type": "code",
   "execution_count": 35,
   "id": "54f9ec79",
   "metadata": {
    "ExecuteTime": {
     "end_time": "2022-05-29T23:13:51.031726Z",
     "start_time": "2022-05-29T23:13:51.005720Z"
    }
   },
   "outputs": [
    {
     "data": {
      "text/html": [
       "<div>\n",
       "<style scoped>\n",
       "    .dataframe tbody tr th:only-of-type {\n",
       "        vertical-align: middle;\n",
       "    }\n",
       "\n",
       "    .dataframe tbody tr th {\n",
       "        vertical-align: top;\n",
       "    }\n",
       "\n",
       "    .dataframe thead th {\n",
       "        text-align: right;\n",
       "    }\n",
       "</style>\n",
       "<table border=\"1\" class=\"dataframe\">\n",
       "  <thead>\n",
       "    <tr style=\"text-align: right;\">\n",
       "      <th></th>\n",
       "      <th>bbox_bounds</th>\n",
       "      <th>winsize</th>\n",
       "      <th>predClass</th>\n",
       "    </tr>\n",
       "  </thead>\n",
       "  <tbody>\n",
       "    <tr>\n",
       "      <th>35</th>\n",
       "      <td>(0, 5817, 138, 5955)</td>\n",
       "      <td>138</td>\n",
       "      <td>1</td>\n",
       "    </tr>\n",
       "    <tr>\n",
       "      <th>140</th>\n",
       "      <td>(332, 7645, 470, 7783)</td>\n",
       "      <td>138</td>\n",
       "      <td>1</td>\n",
       "    </tr>\n",
       "    <tr>\n",
       "      <th>389</th>\n",
       "      <td>(1329, 2160, 1467, 2298)</td>\n",
       "      <td>138</td>\n",
       "      <td>1</td>\n",
       "    </tr>\n",
       "    <tr>\n",
       "      <th>453</th>\n",
       "      <td>(1495, 4986, 1633, 5124)</td>\n",
       "      <td>138</td>\n",
       "      <td>1</td>\n",
       "    </tr>\n",
       "    <tr>\n",
       "      <th>562</th>\n",
       "      <td>(1828, 7478, 1966, 7616)</td>\n",
       "      <td>138</td>\n",
       "      <td>1</td>\n",
       "    </tr>\n",
       "    <tr>\n",
       "      <th>577</th>\n",
       "      <td>(0, 2160, 278, 2438)</td>\n",
       "      <td>278</td>\n",
       "      <td>1</td>\n",
       "    </tr>\n",
       "    <tr>\n",
       "      <th>682</th>\n",
       "      <td>(332, 3988, 610, 4266)</td>\n",
       "      <td>278</td>\n",
       "      <td>1</td>\n",
       "    </tr>\n",
       "    <tr>\n",
       "      <th>776</th>\n",
       "      <td>(664, 3988, 942, 4266)</td>\n",
       "      <td>278</td>\n",
       "      <td>1</td>\n",
       "    </tr>\n",
       "    <tr>\n",
       "      <th>871</th>\n",
       "      <td>(997, 4155, 1275, 4433)</td>\n",
       "      <td>278</td>\n",
       "      <td>1</td>\n",
       "    </tr>\n",
       "    <tr>\n",
       "      <th>957</th>\n",
       "      <td>(1329, 2825, 1607, 3103)</td>\n",
       "      <td>278</td>\n",
       "      <td>1</td>\n",
       "    </tr>\n",
       "    <tr>\n",
       "      <th>1293</th>\n",
       "      <td>(664, 4653, 1010, 4999)</td>\n",
       "      <td>346</td>\n",
       "      <td>1</td>\n",
       "    </tr>\n",
       "    <tr>\n",
       "      <th>1360</th>\n",
       "      <td>(997, 498, 1343, 844)</td>\n",
       "      <td>346</td>\n",
       "      <td>1</td>\n",
       "    </tr>\n",
       "    <tr>\n",
       "      <th>1469</th>\n",
       "      <td>(1329, 3324, 1675, 3670)</td>\n",
       "      <td>346</td>\n",
       "      <td>1</td>\n",
       "    </tr>\n",
       "    <tr>\n",
       "      <th>1513</th>\n",
       "      <td>(1495, 2991, 1841, 3337)</td>\n",
       "      <td>346</td>\n",
       "      <td>1</td>\n",
       "    </tr>\n",
       "  </tbody>\n",
       "</table>\n",
       "</div>"
      ],
      "text/plain": [
       "                   bbox_bounds winsize  predClass\n",
       "35        (0, 5817, 138, 5955)     138          1\n",
       "140     (332, 7645, 470, 7783)     138          1\n",
       "389   (1329, 2160, 1467, 2298)     138          1\n",
       "453   (1495, 4986, 1633, 5124)     138          1\n",
       "562   (1828, 7478, 1966, 7616)     138          1\n",
       "577       (0, 2160, 278, 2438)     278          1\n",
       "682     (332, 3988, 610, 4266)     278          1\n",
       "776     (664, 3988, 942, 4266)     278          1\n",
       "871    (997, 4155, 1275, 4433)     278          1\n",
       "957   (1329, 2825, 1607, 3103)     278          1\n",
       "1293   (664, 4653, 1010, 4999)     346          1\n",
       "1360     (997, 498, 1343, 844)     346          1\n",
       "1469  (1329, 3324, 1675, 3670)     346          1\n",
       "1513  (1495, 2991, 1841, 3337)     346          1"
      ]
     },
     "execution_count": 35,
     "metadata": {},
     "output_type": "execute_result"
    }
   ],
   "source": [
    "df_bbox[(df_bbox.predClass>-1) & (df_bbox.predClass!=4)]"
   ]
  },
  {
   "cell_type": "code",
   "execution_count": null,
   "id": "81e03bb3",
   "metadata": {
    "ExecuteTime": {
     "end_time": "2022-05-29T23:12:23.173134Z",
     "start_time": "2022-05-29T23:12:19.626207Z"
    },
    "scrolled": false
   },
   "outputs": [],
   "source": [
    "mask_img = Image.new(\"RGBA\", (img_width, img_height), (0, 0, 0, 0))\n",
    "df_validBbox = df_bbox[(df_bbox.predClass>-1) & (df_bbox.predClass!=4)][['bbox_bounds','predClass']]\n",
    "\n",
    "for idx in range(0, df_validBbox.shape[0]):\n",
    "    \n",
    "    drawBoundingRectangle(df_validBbox.iloc[idx]['bbox_bounds'],\n",
    "                          mask_img,\n",
    "                          color=colorMap[df_validBbox.iloc[idx]['predClass']]\n",
    "                                         )\n",
    "\n",
    "im2 = im1.convert('RGB')\n",
    "\n",
    "im2.paste(mask_img,(0,0),mask_img)\n",
    "im2"
   ]
  },
  {
   "cell_type": "code",
   "execution_count": null,
   "id": "af64e57b",
   "metadata": {
    "ExecuteTime": {
     "end_time": "2022-05-29T22:32:42.084650Z",
     "start_time": "2022-05-29T22:32:42.084650Z"
    }
   },
   "outputs": [],
   "source": [
    "df_bbox.iloc[157]"
   ]
  },
  {
   "cell_type": "code",
   "execution_count": null,
   "id": "a2aa08c4",
   "metadata": {
    "ExecuteTime": {
     "end_time": "2022-05-29T22:32:42.085650Z",
     "start_time": "2022-05-29T22:32:42.085650Z"
    }
   },
   "outputs": [],
   "source": [
    "for each in list_imagesToClassify[157:158]:\n",
    "    display(each)"
   ]
  },
  {
   "cell_type": "code",
   "execution_count": null,
   "id": "42199749",
   "metadata": {
    "ExecuteTime": {
     "end_time": "2022-05-29T22:32:42.086651Z",
     "start_time": "2022-05-29T22:32:42.086651Z"
    }
   },
   "outputs": [],
   "source": [
    "preds[157].argmax()"
   ]
  },
  {
   "cell_type": "code",
   "execution_count": null,
   "id": "0fe8cbdc",
   "metadata": {
    "ExecuteTime": {
     "end_time": "2022-05-29T22:32:42.086651Z",
     "start_time": "2022-05-29T22:32:42.086651Z"
    }
   },
   "outputs": [],
   "source": [
    "max(preds[157])"
   ]
  },
  {
   "cell_type": "code",
   "execution_count": null,
   "id": "60648e87",
   "metadata": {
    "ExecuteTime": {
     "end_time": "2022-05-29T22:32:42.087651Z",
     "start_time": "2022-05-29T22:32:42.087651Z"
    }
   },
   "outputs": [],
   "source": [
    "[getClassFromPred(pred,0.7) for pred in preds]"
   ]
  },
  {
   "cell_type": "code",
   "execution_count": null,
   "id": "01c2a869",
   "metadata": {
    "ExecuteTime": {
     "end_time": "2022-05-29T22:32:42.088650Z",
     "start_time": "2022-05-29T22:32:42.088650Z"
    }
   },
   "outputs": [],
   "source": [
    "for each in preds:\n",
    "    print((each))\n",
    "    print(len(each))\n",
    "    print(each.argmax())\n",
    "    print(max(each))\n",
    "    break"
   ]
  },
  {
   "cell_type": "code",
   "execution_count": null,
   "id": "0623ce49",
   "metadata": {
    "ExecuteTime": {
     "end_time": "2022-05-29T22:32:42.088650Z",
     "start_time": "2022-05-29T22:32:42.088650Z"
    }
   },
   "outputs": [],
   "source": [
    "preds[0]"
   ]
  },
  {
   "cell_type": "code",
   "execution_count": 20,
   "id": "1461458b",
   "metadata": {
    "ExecuteTime": {
     "end_time": "2022-05-29T22:46:07.202405Z",
     "start_time": "2022-05-29T22:46:07.180400Z"
    }
   },
   "outputs": [
    {
     "data": {
      "text/html": [
       "<div>\n",
       "<style scoped>\n",
       "    .dataframe tbody tr th:only-of-type {\n",
       "        vertical-align: middle;\n",
       "    }\n",
       "\n",
       "    .dataframe tbody tr th {\n",
       "        vertical-align: top;\n",
       "    }\n",
       "\n",
       "    .dataframe thead th {\n",
       "        text-align: right;\n",
       "    }\n",
       "</style>\n",
       "<table border=\"1\" class=\"dataframe\">\n",
       "  <thead>\n",
       "    <tr style=\"text-align: right;\">\n",
       "      <th></th>\n",
       "      <th>bbox_bounds</th>\n",
       "      <th>winsize</th>\n",
       "      <th>predClass</th>\n",
       "    </tr>\n",
       "  </thead>\n",
       "  <tbody>\n",
       "    <tr>\n",
       "      <th>73</th>\n",
       "      <td>(166, 4321, 304, 4459)</td>\n",
       "      <td>138</td>\n",
       "      <td>1</td>\n",
       "    </tr>\n",
       "    <tr>\n",
       "      <th>266</th>\n",
       "      <td>(831, 5152, 969, 5290)</td>\n",
       "      <td>138</td>\n",
       "      <td>1</td>\n",
       "    </tr>\n",
       "    <tr>\n",
       "      <th>299</th>\n",
       "      <td>(997, 2825, 1135, 2963)</td>\n",
       "      <td>138</td>\n",
       "      <td>1</td>\n",
       "    </tr>\n",
       "    <tr>\n",
       "      <th>421</th>\n",
       "      <td>(1329, 7478, 1467, 7616)</td>\n",
       "      <td>138</td>\n",
       "      <td>1</td>\n",
       "    </tr>\n",
       "    <tr>\n",
       "      <th>476</th>\n",
       "      <td>(1662, 997, 1800, 1135)</td>\n",
       "      <td>138</td>\n",
       "      <td>1</td>\n",
       "    </tr>\n",
       "    <tr>\n",
       "      <th>662</th>\n",
       "      <td>(332, 664, 610, 942)</td>\n",
       "      <td>278</td>\n",
       "      <td>1</td>\n",
       "    </tr>\n",
       "    <tr>\n",
       "      <th>1045</th>\n",
       "      <td>(1662, 1828, 1940, 2106)</td>\n",
       "      <td>278</td>\n",
       "      <td>1</td>\n",
       "    </tr>\n",
       "    <tr>\n",
       "      <th>1285</th>\n",
       "      <td>(664, 3324, 1010, 3670)</td>\n",
       "      <td>346</td>\n",
       "      <td>1</td>\n",
       "    </tr>\n",
       "    <tr>\n",
       "      <th>1292</th>\n",
       "      <td>(664, 4487, 1010, 4833)</td>\n",
       "      <td>346</td>\n",
       "      <td>1</td>\n",
       "    </tr>\n",
       "    <tr>\n",
       "      <th>1309</th>\n",
       "      <td>(664, 7312, 1010, 7658)</td>\n",
       "      <td>346</td>\n",
       "      <td>1</td>\n",
       "    </tr>\n",
       "    <tr>\n",
       "      <th>1357</th>\n",
       "      <td>(997, 0, 1343, 346)</td>\n",
       "      <td>346</td>\n",
       "      <td>1</td>\n",
       "    </tr>\n",
       "    <tr>\n",
       "      <th>1375</th>\n",
       "      <td>(997, 2991, 1343, 3337)</td>\n",
       "      <td>346</td>\n",
       "      <td>1</td>\n",
       "    </tr>\n",
       "    <tr>\n",
       "      <th>1552</th>\n",
       "      <td>(1662, 1828, 2008, 2174)</td>\n",
       "      <td>346</td>\n",
       "      <td>1</td>\n",
       "    </tr>\n",
       "    <tr>\n",
       "      <th>1554</th>\n",
       "      <td>(1662, 2160, 2008, 2506)</td>\n",
       "      <td>346</td>\n",
       "      <td>1</td>\n",
       "    </tr>\n",
       "  </tbody>\n",
       "</table>\n",
       "</div>"
      ],
      "text/plain": [
       "                   bbox_bounds winsize  predClass\n",
       "73      (166, 4321, 304, 4459)     138          1\n",
       "266     (831, 5152, 969, 5290)     138          1\n",
       "299    (997, 2825, 1135, 2963)     138          1\n",
       "421   (1329, 7478, 1467, 7616)     138          1\n",
       "476    (1662, 997, 1800, 1135)     138          1\n",
       "662       (332, 664, 610, 942)     278          1\n",
       "1045  (1662, 1828, 1940, 2106)     278          1\n",
       "1285   (664, 3324, 1010, 3670)     346          1\n",
       "1292   (664, 4487, 1010, 4833)     346          1\n",
       "1309   (664, 7312, 1010, 7658)     346          1\n",
       "1357       (997, 0, 1343, 346)     346          1\n",
       "1375   (997, 2991, 1343, 3337)     346          1\n",
       "1552  (1662, 1828, 2008, 2174)     346          1\n",
       "1554  (1662, 2160, 2008, 2506)     346          1"
      ]
     },
     "execution_count": 20,
     "metadata": {},
     "output_type": "execute_result"
    }
   ],
   "source": [
    "df_bbox[df_bbox.predClass.isin([1,2,3])]"
   ]
  },
  {
   "cell_type": "code",
   "execution_count": 37,
   "id": "b8c9cf50",
   "metadata": {
    "ExecuteTime": {
     "end_time": "2022-05-30T06:01:01.722665Z",
     "start_time": "2022-05-30T06:01:01.707662Z"
    }
   },
   "outputs": [
    {
     "data": {
      "text/plain": [
       "'mass_maps/ESP_073483_1580_RED.NOMAP.browse.jpg'"
      ]
     },
     "execution_count": 37,
     "metadata": {},
     "output_type": "execute_result"
    }
   ],
   "source": [
    "im1.filename"
   ]
  },
  {
   "cell_type": "code",
   "execution_count": null,
   "id": "40172fe3",
   "metadata": {},
   "outputs": [],
   "source": []
  }
 ],
 "metadata": {
  "kernelspec": {
   "display_name": "tfGPU",
   "language": "python",
   "name": "tfgpu"
  },
  "language_info": {
   "codemirror_mode": {
    "name": "ipython",
    "version": 3
   },
   "file_extension": ".py",
   "mimetype": "text/x-python",
   "name": "python",
   "nbconvert_exporter": "python",
   "pygments_lexer": "ipython3",
   "version": "3.9.12"
  },
  "toc": {
   "base_numbering": 1,
   "nav_menu": {},
   "number_sections": true,
   "sideBar": true,
   "skip_h1_title": false,
   "title_cell": "Table of Contents",
   "title_sidebar": "Contents",
   "toc_cell": false,
   "toc_position": {},
   "toc_section_display": true,
   "toc_window_display": false
  },
  "varInspector": {
   "cols": {
    "lenName": 16,
    "lenType": 16,
    "lenVar": 40
   },
   "kernels_config": {
    "python": {
     "delete_cmd_postfix": "",
     "delete_cmd_prefix": "del ",
     "library": "var_list.py",
     "varRefreshCmd": "print(var_dic_list())"
    },
    "r": {
     "delete_cmd_postfix": ") ",
     "delete_cmd_prefix": "rm(",
     "library": "var_list.r",
     "varRefreshCmd": "cat(var_dic_list()) "
    }
   },
   "position": {
    "height": "395.844px",
    "left": "1187px",
    "right": "20px",
    "top": "120px",
    "width": "713px"
   },
   "types_to_exclude": [
    "module",
    "function",
    "builtin_function_or_method",
    "instance",
    "_Feature"
   ],
   "window_display": false
  }
 },
 "nbformat": 4,
 "nbformat_minor": 5
}
