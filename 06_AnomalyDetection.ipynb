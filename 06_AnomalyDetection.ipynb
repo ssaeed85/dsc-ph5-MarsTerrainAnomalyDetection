{
 "cells": [
  {
   "cell_type": "markdown",
   "id": "484314f7",
   "metadata": {
    "ExecuteTime": {
     "end_time": "2022-05-30T23:44:57.065449Z",
     "start_time": "2022-05-30T23:44:57.057448Z"
    },
    "heading_collapsed": true
   },
   "source": [
    "# The Data\n",
    "\n",
    "The work performed herein was built off of the shoulders of giants, the original project that created the dataset and labeled the images. Here follows an excerpt from their site describing the data.\n",
    "\n",
    "> [![DOI](https://zenodo.org/badge/DOI/10.5281/zenodo.4002935.svg)](https://doi.org/10.5281/zenodo.4002935)\n",
    ">__Project member(s)__:\\\n",
    ">Topher Allen; Zach Anderson; Berlin Chen; Ameya Daigavane; Annie Didier; Marko Green; Paul Horton; Hannah Kerner; Lauren Klein; Benjamin Kolber; Ellie Kuang; Kyle Kung; Jake Lee; Justin Martia; Brian Milch; James Montgomery; Kyle Pearson; Sanjna Ravichandar; Arun Viswanathan; Caleb Wagner; Amruta Yelamanchili; Brandon Zhao\n",
    ">\n",
    ">__Abstract__:\\\n",
    ">This dataset contains a total of 64,947 landmark images that were detected and extracted from HiRISE browse images, spanning 232 separate source images.\n",
    ">\n",
    ">This set was formed from 10,815 original landmarks. Each original landmark was cropped to a square bounding box that included the full extent of the landmark plus a 30-pixel margin to the left, right, top, and bottom. Each landmark was then resized to 227x227 pixels. 9,022 of these images were then augmented to generate 6 additional landmarks using the following methods:\n",
    ">\n",
    ">90 degrees clockwise rotation\n",
    ">180 degrees clockwise rotation\n",
    ">270 degrees clockwise rotation\n",
    ">Horizontal flip\n",
    ">Vertical flip\n",
    ">Random brightness adjustment\n",
    ">The remaining 1,793 images were not augmented. Combining these with the 7*9,022 images, gives a total of 64,947 separate images.\n",
    ">\n",
    "> __Contents__:\n",
    ">- map-proj-v3_2/: Directory containing individual cropped landmark images\n",
    ">- labels-map-proj-v3_2.txt: Class labels (ids) for each landmark image. File includes two columns separated by a space: filename, class_id\n",
    ">- labels-map-proj-v3_2_train_val_test.txt: Includes train/test/val labels and upsampling used for trained model. File includes three columns separated by a space: filename, class_id, set\n",
    ">- landmarks_map-proj-v3_2_classmap.csv: Dictionary that maps class ids to semantic names\n",
    ">\n",
    "> __Class Discussion__:\\\n",
    ">We give a discussion of the various landmarks that make up our classes.\n",
    ">\n",
    ">Bright dune and dark dune are two sand dune classes found on Mars. Dark dunes are completely defrosted, whereas bright dunes are not. Bright dunes are generally bright due to overlying frost and can exhibit black spots where parts of the dune are defrosting.\n",
    ">\n",
    ">The crater class consists of crater images in which the diameter of the crater is greater than or equal to 1/5 the width of the image and the circular rim is visible for at least half the crater's circumference.\n",
    ">\n",
    ">The slope streak class consists of images of dark flow-like features on slopes. These features are believed to be formed by a dry process in which overlying (bright) dust slides down a slope and reveals a darker sub-surface.\n",
    ">\n",
    ">Impact ejecta refers to material that is blasted out from the impact of a meteorite or the eruption of a volcano. We also include cases in which the impact cleared away overlying dust, exposing the underlying surface. In some cases, the associated crater may be too small to see. Impact ejecta can also include lava that spilled out from the impact (blobby (\"lobate\") instead of blast-like), more like an eruption (triggered by the impact). Impact ejecta can be isolated, or they can form in clusters when the impactor breaks up into multiple fragments.\n",
    ">\n",
    ">Spiders and Swiss cheese are phenomena that occur in the south polar region of Mars. Spiders have a central pit with radial troughs, and they are believed to form as a result of sublimation of carbon dioxide ice. This process can produce mineral deposits on top, which look like dark or light dust that highlights cracks in the CO2 ice. Spiders can resemble impact ejecta due to their radial troughs, but impact ejecta tends to have straight radial jets that fade as they get farther from the center. The spider class also includes fan-like features that form when a geyser erupts through the CO2 layer and the material is blown by the wind away from the cracks. Fans are typically unidirectional (following the wind direction), whereas impact ejecta often extends in multiple directions. Swiss cheese is a terrain type that consists of pits that are formed when the sun heats the ice making it sublimate (change solid to gas).\n",
    ">\n",
    ">Other is a catch-all class that contains images that fit none of the defined classes of interest. This class makes up the majority of our data set.\n"
   ]
  },
  {
   "cell_type": "markdown",
   "id": "db33dbf4",
   "metadata": {
    "heading_collapsed": true
   },
   "source": [
    "# Business Understanding\n",
    "\n",
    "Space exploration and understanding has been growing over the last few decades with the spark being lit during the space race during the latter half of the 20th century. After the end of the Apollo space program, man's venture into space has been relegated to low earth orbit missions.  \n",
    "\n",
    "Unmanned missions have since had many a success story such as the Voyager 2 going interstellar in 2018, over 40 years after its launch. The future of space exploration is going to be handled by such manned missions for the foreseeable future. However, being physically on site isn't the only way to explore space.  \n",
    "\n",
    "For centuries, man has looked up at the night sky to find out more about our celestial neighbors. With improvements in technologies our ability to gather data through telescopes and cameras has improved significantly and the value provided by telescopes in space has been immeasurable. The James Webb (infrared) telescope was launched in December 2021 and hopes to view objects too old, distant, and faint for the Hubble Space Telescope.\n",
    "\n",
    "Pointing the telescope and gathering data is only the first step. Being able to parse terabytes, petabytes or even yottabytes of data manually is a nigh impossible task, a task computer vision is especially suited for. Being able to identify interesting features can help us whittle down potential candidates to explore 'in-person' and in the long run help mitigate losses.\n",
    "\n",
    "Interest in space exploration has seen a resurgence with private enterprise taking an interest. Although this project specifically looks at the Mars topography, similar techniques can be applied to any celestial body, or even to our home planet."
   ]
  },
  {
   "cell_type": "markdown",
   "id": "e7849b75",
   "metadata": {},
   "source": [
    "# Overview\n",
    "We shall be using images captured from the HiRISE camera system on board the Mars Reconnaisance Orbiter which was built under direction from University of Arizona's Lunar and Planetary Laboratory. Following is an excerpt from the [University of Arizona website](https://www.lpl.arizona.edu/missions/hirise-mro).\n",
    "\n",
    ">The __Hi__gh __R__esolution __I__maging __S__cience __E__xperiment (HiRISE) onboard the Mars Reconnaissance Orbiter, is the most powerful camera ever sent to another planet. The resolution of the camera allows us to see the Red Planet in amazing detail, and lets other missions, like the Mars Science Laboratory, find a safe place to land and carry out amazing science. The operations center, which includes not only observation planning, but the execution of commands sent to the spacecraft along with actual image processing, is located within LPL at the University of Arizona.\n",
    "\n",
    "We shall be building off of the work performed by the original team. The dataset comes pre-augmented and segmented into training, validation and test sets. The test side will be set aside to ascertain effectiveness of our final model. The training set will be used to train the model and the validation scores on the validation set will be used as a metric to pick our model, specifically our validation loss."
   ]
  },
  {
   "cell_type": "markdown",
   "id": "3664b036",
   "metadata": {
    "ExecuteTime": {
     "end_time": "2022-05-31T04:19:08.842951Z",
     "start_time": "2022-05-31T04:19:08.825947Z"
    }
   },
   "source": [
    "# Imports"
   ]
  },
  {
   "cell_type": "code",
   "execution_count": 87,
   "id": "5acc0f03",
   "metadata": {
    "ExecuteTime": {
     "end_time": "2022-06-02T07:10:02.969808Z",
     "start_time": "2022-06-02T07:10:02.962806Z"
    }
   },
   "outputs": [],
   "source": [
    "from PIL import Image, ImageDraw\n",
    "import math\n",
    "import pandas as pd\n",
    "import numpy as np\n",
    "import tensorflow as tf\n",
    "from tensorflow.keras.preprocessing.image import ImageDataGenerator\n",
    "import os\n",
    "import shutil\n",
    "import random\n",
    "from sklearn.metrics import confusion_matrix, ConfusionMatrixDisplay,classification_report\n",
    "import matplotlib.pyplot as plt"
   ]
  },
  {
   "cell_type": "code",
   "execution_count": 2,
   "id": "02e14e0d",
   "metadata": {
    "ExecuteTime": {
     "end_time": "2022-06-02T06:24:27.071753Z",
     "start_time": "2022-06-02T06:24:27.056748Z"
    }
   },
   "outputs": [],
   "source": [
    "from src.imageHandler import *"
   ]
  },
  {
   "cell_type": "markdown",
   "id": "84829c93",
   "metadata": {},
   "source": [
    "# Final Model Selection\n",
    "To recap, we trained a variety of different models using Adam as an optimizer function. After looking at our modeling efforts across 4 notebooks, [02_TensorflowModeling_FinalModels](./02_TensorflowModeling_FinalModels.ipynb), [03_TensorflowModeling_AlexNet](./03_TensorflowModeling_AlexNet.ipynb), [04_TensorflowModeling_LeNet](./04_TensorflowModeling_LeNet.ipynb), [05_TensorflowModeling_VGG16_TransferLearning](./05_TensorflowModeling_VGG16_TransferLearning.ipynb), the VGG16 transfer training model is the clear winner."
   ]
  },
  {
   "cell_type": "code",
   "execution_count": 135,
   "id": "d5f966ad",
   "metadata": {
    "ExecuteTime": {
     "end_time": "2022-06-02T07:51:29.447777Z",
     "start_time": "2022-06-02T07:51:28.419175Z"
    },
    "scrolled": true
   },
   "outputs": [],
   "source": [
    "final_model = tf.keras.models.load_model('tf_TransferLearning_8class_VGG16.hfpy')"
   ]
  },
  {
   "cell_type": "code",
   "execution_count": 4,
   "id": "768e2336",
   "metadata": {
    "ExecuteTime": {
     "end_time": "2022-06-02T06:24:29.026523Z",
     "start_time": "2022-06-02T06:24:28.649798Z"
    }
   },
   "outputs": [
    {
     "name": "stdout",
     "output_type": "stream",
     "text": [
      "Found 14175 images belonging to 8 classes.\n"
     ]
    }
   ],
   "source": [
    "# Normalizing data for 8 bit\n",
    "val_datagen = ImageDataGenerator(rescale=1./255)\n",
    "\n",
    "val_generator = val_datagen.flow_from_directory(\n",
    "    'images/val/',\n",
    "    target_size = (227,227),\n",
    "    batch_size=1,\n",
    "    color_mode='rgb',\n",
    "    class_mode='categorical'\n",
    ")"
   ]
  },
  {
   "cell_type": "code",
   "execution_count": 5,
   "id": "1919fa8d",
   "metadata": {
    "ExecuteTime": {
     "end_time": "2022-06-02T06:24:29.088537Z",
     "start_time": "2022-06-02T06:24:29.027524Z"
    }
   },
   "outputs": [
    {
     "name": "stdout",
     "output_type": "stream",
     "text": [
      "Found 1793 images belonging to 8 classes.\n"
     ]
    }
   ],
   "source": [
    "# Normalizing data for 8 bit\n",
    "test_datagen = ImageDataGenerator(rescale=1./255)\n",
    "\n",
    "test_generator = test_datagen.flow_from_directory(\n",
    "    'images/test/',\n",
    "    target_size = (227,227),\n",
    "    batch_size=1,\n",
    "    color_mode='rgb',\n",
    "    class_mode='categorical'\n",
    ")"
   ]
  },
  {
   "cell_type": "code",
   "execution_count": 6,
   "id": "f5a85d08",
   "metadata": {
    "ExecuteTime": {
     "end_time": "2022-06-02T06:24:29.103544Z",
     "start_time": "2022-06-02T06:24:29.089538Z"
    }
   },
   "outputs": [],
   "source": [
    "final_model.evaluate(val_generator);"
   ]
  },
  {
   "cell_type": "code",
   "execution_count": 7,
   "id": "3f204606",
   "metadata": {
    "ExecuteTime": {
     "end_time": "2022-06-02T06:24:29.118840Z",
     "start_time": "2022-06-02T06:24:29.104544Z"
    }
   },
   "outputs": [],
   "source": [
    "final_model.evaluate(test_generator);"
   ]
  },
  {
   "cell_type": "markdown",
   "id": "75c1f4e4",
   "metadata": {},
   "source": [
    "Our chosen model performed with an accuracy of about **90.73%** on the validation set and **92.3%** on the holdout (test set) with a corresponding loss of about **0.3356** and **0.3541** respectively. This clearly outperforms are baseline Dummy Classifier\n",
    "\n",
    "We shall now utilize this model to make anomaly predictions on the Martian surface"
   ]
  },
  {
   "cell_type": "code",
   "execution_count": 9,
   "id": "bbfd881d",
   "metadata": {
    "ExecuteTime": {
     "end_time": "2022-06-02T06:24:29.149851Z",
     "start_time": "2022-06-02T06:24:29.135848Z"
    }
   },
   "outputs": [],
   "source": [
    "im1 = Image.open('mass_maps/AEB_000002_0000_RED.NOMAP.browse.jpg')\n",
    "img_width,  img_height = im1.size"
   ]
  },
  {
   "cell_type": "code",
   "execution_count": null,
   "id": "d9eb45c8",
   "metadata": {
    "ExecuteTime": {
     "end_time": "2022-06-02T06:27:05.428926Z",
     "start_time": "2022-06-02T06:27:04.697638Z"
    }
   },
   "outputs": [],
   "source": [
    "im1"
   ]
  },
  {
   "cell_type": "markdown",
   "id": "f52a941b",
   "metadata": {},
   "source": [
    "Next we'll create a data frame of all bounding boxes for a given image. \n",
    "A potential bounding box in this case is a slice of the image that could potentially hold a feature. The following function essentially returns a series of coordinates of slices of varying size encompassing the entire image. \n",
    "\n",
    "3 different window sizes were chosen. 75%, 100%, 150% of the base window size. In this case the base window size was set to size of the images in the dataset *277px*. A certain amount of overlap is allowed between slices in order to ensure features were not accidentally missed. This is currently set at *40%*"
   ]
  },
  {
   "cell_type": "code",
   "execution_count": 10,
   "id": "d273cd32",
   "metadata": {
    "ExecuteTime": {
     "end_time": "2022-06-02T06:24:29.181858Z",
     "start_time": "2022-06-02T06:24:29.150851Z"
    },
    "scrolled": false
   },
   "outputs": [
    {
     "name": "stdout",
     "output_type": "stream",
     "text": [
      "reading current\n"
     ]
    },
    {
     "data": {
      "text/html": [
       "<div>\n",
       "<style scoped>\n",
       "    .dataframe tbody tr th:only-of-type {\n",
       "        vertical-align: middle;\n",
       "    }\n",
       "\n",
       "    .dataframe tbody tr th {\n",
       "        vertical-align: top;\n",
       "    }\n",
       "\n",
       "    .dataframe thead th {\n",
       "        text-align: right;\n",
       "    }\n",
       "</style>\n",
       "<table border=\"1\" class=\"dataframe\">\n",
       "  <thead>\n",
       "    <tr style=\"text-align: right;\">\n",
       "      <th></th>\n",
       "      <th>bbox_bounds</th>\n",
       "      <th>winsize</th>\n",
       "    </tr>\n",
       "  </thead>\n",
       "  <tbody>\n",
       "    <tr>\n",
       "      <th>0</th>\n",
       "      <td>(0, 0, 208, 208)</td>\n",
       "      <td>208</td>\n",
       "    </tr>\n",
       "    <tr>\n",
       "      <th>1</th>\n",
       "      <td>(0, 125, 208, 333)</td>\n",
       "      <td>208</td>\n",
       "    </tr>\n",
       "    <tr>\n",
       "      <th>2</th>\n",
       "      <td>(0, 250, 208, 458)</td>\n",
       "      <td>208</td>\n",
       "    </tr>\n",
       "    <tr>\n",
       "      <th>3</th>\n",
       "      <td>(0, 375, 208, 583)</td>\n",
       "      <td>208</td>\n",
       "    </tr>\n",
       "    <tr>\n",
       "      <th>4</th>\n",
       "      <td>(0, 500, 208, 708)</td>\n",
       "      <td>208</td>\n",
       "    </tr>\n",
       "    <tr>\n",
       "      <th>...</th>\n",
       "      <td>...</td>\n",
       "      <td>...</td>\n",
       "    </tr>\n",
       "    <tr>\n",
       "      <th>1626</th>\n",
       "      <td>(1500, 6250, 1916, 6666)</td>\n",
       "      <td>416</td>\n",
       "    </tr>\n",
       "    <tr>\n",
       "      <th>1627</th>\n",
       "      <td>(1500, 6500, 1916, 6916)</td>\n",
       "      <td>416</td>\n",
       "    </tr>\n",
       "    <tr>\n",
       "      <th>1628</th>\n",
       "      <td>(1500, 6750, 1916, 7166)</td>\n",
       "      <td>416</td>\n",
       "    </tr>\n",
       "    <tr>\n",
       "      <th>1629</th>\n",
       "      <td>(1500, 7000, 1916, 7416)</td>\n",
       "      <td>416</td>\n",
       "    </tr>\n",
       "    <tr>\n",
       "      <th>1630</th>\n",
       "      <td>(1500, 7250, 1916, 7666)</td>\n",
       "      <td>416</td>\n",
       "    </tr>\n",
       "  </tbody>\n",
       "</table>\n",
       "<p>1631 rows × 2 columns</p>\n",
       "</div>"
      ],
      "text/plain": [
       "                   bbox_bounds  winsize\n",
       "0             (0, 0, 208, 208)      208\n",
       "1           (0, 125, 208, 333)      208\n",
       "2           (0, 250, 208, 458)      208\n",
       "3           (0, 375, 208, 583)      208\n",
       "4           (0, 500, 208, 708)      208\n",
       "...                        ...      ...\n",
       "1626  (1500, 6250, 1916, 6666)      416\n",
       "1627  (1500, 6500, 1916, 6916)      416\n",
       "1628  (1500, 6750, 1916, 7166)      416\n",
       "1629  (1500, 7000, 1916, 7416)      416\n",
       "1630  (1500, 7250, 1916, 7666)      416\n",
       "\n",
       "[1631 rows x 2 columns]"
      ]
     },
     "execution_count": 10,
     "metadata": {},
     "output_type": "execute_result"
    }
   ],
   "source": [
    "# Read a dataframe from a precreated csv. If the appropriate csv doesn't exist\n",
    "# Create one in './mass_maps/'\n",
    "df_bbox = getPotentialBboxes(im1)\n",
    "df_bbox"
   ]
  },
  {
   "cell_type": "code",
   "execution_count": 11,
   "id": "5a57c340",
   "metadata": {
    "ExecuteTime": {
     "end_time": "2022-06-02T06:24:31.484335Z",
     "start_time": "2022-06-02T06:24:29.182858Z"
    },
    "scrolled": true
   },
   "outputs": [],
   "source": [
    "# Using the above data frame crop slices of the larger image\n",
    "# Create a folder to hold slices in './mass_maps/'\n",
    "list_imagesToClassify = [im1.crop(df_bbox.iloc[rowNum]['bbox_bounds'])\n",
    "                         for rowNum in range(0,df_bbox.shape[0])]\n",
    "saveImageSlices(list_imagesToClassify,im1.filename)"
   ]
  },
  {
   "cell_type": "code",
   "execution_count": 13,
   "id": "db7d5f4d",
   "metadata": {
    "ExecuteTime": {
     "end_time": "2022-06-02T06:25:26.132086Z",
     "start_time": "2022-06-02T06:25:14.370972Z"
    }
   },
   "outputs": [
    {
     "name": "stdout",
     "output_type": "stream",
     "text": [
      "./mass_maps/_slices_img/\n",
      "Found 1631 images belonging to 1 classes.\n",
      "204/204 [==============================] - 12s 37ms/step\n"
     ]
    }
   ],
   "source": [
    "# Normalizing data for 8 bit\n",
    "predict_datagen = ImageDataGenerator(rescale=1./255)\n",
    "\n",
    "print('./mass_maps/_slices_img/')\n",
    "predict_generator = predict_datagen.flow_from_directory(\n",
    "    'mass_maps/',\n",
    "    target_size = (227,227),\n",
    "    batch_size=8,\n",
    "    color_mode='rgb',\n",
    "    class_mode=None\n",
    ")\n",
    "predict_generator.reset()\n",
    "\n",
    "preds = final_model.predict(predict_generator)"
   ]
  },
  {
   "cell_type": "markdown",
   "id": "d0c1b68b",
   "metadata": {},
   "source": [
    "# Predicting on Slices"
   ]
  },
  {
   "cell_type": "markdown",
   "id": "5f3acfe1",
   "metadata": {
    "ExecuteTime": {
     "end_time": "2022-06-02T05:49:29.124180Z",
     "start_time": "2022-06-02T05:49:29.113178Z"
    }
   },
   "source": [
    "Now that we have created each potential slice of the image that could potentially hold a feature belonging to one of our classes, we can now use our model to predict on each of these images. First we will need to create a prediction generator"
   ]
  },
  {
   "cell_type": "code",
   "execution_count": 14,
   "id": "db38629e",
   "metadata": {
    "ExecuteTime": {
     "end_time": "2022-06-02T06:25:31.205816Z",
     "start_time": "2022-06-02T06:25:31.152804Z"
    }
   },
   "outputs": [
    {
     "name": "stdout",
     "output_type": "stream",
     "text": [
      "Found 1631 images belonging to 1 classes.\n"
     ]
    }
   ],
   "source": [
    "# Normalizing data for 8 bit\n",
    "predict_datagen = ImageDataGenerator(rescale=1./255)\n",
    "\n",
    "predict_generator = predict_datagen.flow_from_directory(\n",
    "    'mass_maps/',\n",
    "    target_size = (227,227),\n",
    "    batch_size=100,\n",
    "    color_mode='rgb',\n",
    "    class_mode=None\n",
    ")\n",
    "predict_generator.reset()\n",
    "\n"
   ]
  },
  {
   "cell_type": "markdown",
   "id": "3fdbfb7d",
   "metadata": {},
   "source": [
    "With our model and images loaded all we have to do is use the predict method to get a list of predictions for each of our image slices."
   ]
  },
  {
   "cell_type": "code",
   "execution_count": 15,
   "id": "be110244",
   "metadata": {
    "ExecuteTime": {
     "end_time": "2022-06-02T06:25:43.226010Z",
     "start_time": "2022-06-02T06:25:31.206817Z"
    },
    "scrolled": true
   },
   "outputs": [
    {
     "name": "stdout",
     "output_type": "stream",
     "text": [
      "17/17 [==============================] - 12s 395ms/step\n"
     ]
    }
   ],
   "source": [
    "preds = final_model.predict(predict_generator)"
   ]
  },
  {
   "cell_type": "markdown",
   "id": "71d671d7",
   "metadata": {
    "ExecuteTime": {
     "end_time": "2022-06-02T05:52:46.542955Z",
     "start_time": "2022-06-02T05:52:46.536961Z"
    }
   },
   "source": [
    "Lets have a look at the first image and its associated prediction"
   ]
  },
  {
   "cell_type": "code",
   "execution_count": 16,
   "id": "393974ca",
   "metadata": {
    "ExecuteTime": {
     "end_time": "2022-06-02T06:25:43.242013Z",
     "start_time": "2022-06-02T06:25:43.227010Z"
    }
   },
   "outputs": [
    {
     "data": {
      "image/png": "[encoded data removed]",
      "text/plain": [
       "<PIL.Image.Image image mode=L size=208x208>"
      ]
     },
     "execution_count": 16,
     "metadata": {},
     "output_type": "execute_result"
    }
   ],
   "source": [
    "list_imagesToClassify[0]"
   ]
  },
  {
   "cell_type": "code",
   "execution_count": 17,
   "id": "3f047ecd",
   "metadata": {
    "ExecuteTime": {
     "end_time": "2022-06-02T06:25:43.258017Z",
     "start_time": "2022-06-02T06:25:43.243014Z"
    }
   },
   "outputs": [
    {
     "data": {
      "text/plain": [
       "[0.0, 0.0, 0.0, 0.0, 0.999, 0.0, 0.0, 0.0]"
      ]
     },
     "execution_count": 17,
     "metadata": {},
     "output_type": "execute_result"
    }
   ],
   "source": [
    "[round(x,3) for x in preds[0]]"
   ]
  },
  {
   "cell_type": "markdown",
   "id": "d40c44e9",
   "metadata": {},
   "source": [
    "Each prediction is an array of probabilities of the likelihood that an image belongs to a particular class. In the above case, the model is 99.9% confident that the first slice belongs to class *4*. Looking at the class indices from our test set, we can see that this means the model thinks the image belongs to the `other` class."
   ]
  },
  {
   "cell_type": "code",
   "execution_count": 18,
   "id": "6f7f5d00",
   "metadata": {
    "ExecuteTime": {
     "end_time": "2022-06-02T06:25:43.274020Z",
     "start_time": "2022-06-02T06:25:43.259017Z"
    }
   },
   "outputs": [
    {
     "data": {
      "text/plain": [
       "{'bright dune': 0,\n",
       " 'crater': 1,\n",
       " 'dark dune': 2,\n",
       " 'impact ejecta': 3,\n",
       " 'other': 4,\n",
       " 'slope streak': 5,\n",
       " 'spider': 6,\n",
       " 'swiss cheese': 7}"
      ]
     },
     "execution_count": 18,
     "metadata": {},
     "output_type": "execute_result"
    }
   ],
   "source": [
    "test_generator.class_indices"
   ]
  },
  {
   "cell_type": "markdown",
   "id": "2e7f6402",
   "metadata": {
    "ExecuteTime": {
     "end_time": "2022-06-02T06:00:42.094725Z",
     "start_time": "2022-06-02T06:00:42.084722Z"
    }
   },
   "source": [
    "Knowing this we can now predict the class for each image. We will do so using the following function.\n",
    "*-1* as a `predClass1` is reserved to indicate that no class feature was able to cross the confidence threshold."
   ]
  },
  {
   "cell_type": "code",
   "execution_count": 19,
   "id": "28ef2de5",
   "metadata": {
    "ExecuteTime": {
     "end_time": "2022-06-02T06:25:43.288750Z",
     "start_time": "2022-06-02T06:25:43.275021Z"
    }
   },
   "outputs": [],
   "source": [
    "classDict = {\n",
    "    -1: '-',\n",
    "    0: 'bright dune',\n",
    "    1:  'crater',\n",
    "    2:  'dark dune',\n",
    "    3:  'impact ejecta',\n",
    "    4:  'other',\n",
    "    5:  'slope streak',\n",
    "    6:  'spider',\n",
    "    7:  'swiss cheese'}"
   ]
  },
  {
   "cell_type": "code",
   "execution_count": 20,
   "id": "7a803b60",
   "metadata": {
    "ExecuteTime": {
     "end_time": "2022-06-02T06:25:43.304754Z",
     "start_time": "2022-06-02T06:25:43.289751Z"
    },
    "scrolled": false
   },
   "outputs": [
    {
     "data": {
      "text/html": [
       "<div>\n",
       "<style scoped>\n",
       "    .dataframe tbody tr th:only-of-type {\n",
       "        vertical-align: middle;\n",
       "    }\n",
       "\n",
       "    .dataframe tbody tr th {\n",
       "        vertical-align: top;\n",
       "    }\n",
       "\n",
       "    .dataframe thead th {\n",
       "        text-align: right;\n",
       "    }\n",
       "</style>\n",
       "<table border=\"1\" class=\"dataframe\">\n",
       "  <thead>\n",
       "    <tr style=\"text-align: right;\">\n",
       "      <th></th>\n",
       "      <th>bbox_bounds</th>\n",
       "      <th>winsize</th>\n",
       "      <th>predClass</th>\n",
       "      <th>predClassName</th>\n",
       "    </tr>\n",
       "  </thead>\n",
       "  <tbody>\n",
       "    <tr>\n",
       "      <th>0</th>\n",
       "      <td>(0, 0, 208, 208)</td>\n",
       "      <td>208</td>\n",
       "      <td>4</td>\n",
       "      <td>other</td>\n",
       "    </tr>\n",
       "    <tr>\n",
       "      <th>1</th>\n",
       "      <td>(0, 125, 208, 333)</td>\n",
       "      <td>208</td>\n",
       "      <td>4</td>\n",
       "      <td>other</td>\n",
       "    </tr>\n",
       "    <tr>\n",
       "      <th>2</th>\n",
       "      <td>(0, 250, 208, 458)</td>\n",
       "      <td>208</td>\n",
       "      <td>4</td>\n",
       "      <td>other</td>\n",
       "    </tr>\n",
       "    <tr>\n",
       "      <th>3</th>\n",
       "      <td>(0, 375, 208, 583)</td>\n",
       "      <td>208</td>\n",
       "      <td>4</td>\n",
       "      <td>other</td>\n",
       "    </tr>\n",
       "    <tr>\n",
       "      <th>4</th>\n",
       "      <td>(0, 500, 208, 708)</td>\n",
       "      <td>208</td>\n",
       "      <td>4</td>\n",
       "      <td>other</td>\n",
       "    </tr>\n",
       "    <tr>\n",
       "      <th>...</th>\n",
       "      <td>...</td>\n",
       "      <td>...</td>\n",
       "      <td>...</td>\n",
       "      <td>...</td>\n",
       "    </tr>\n",
       "    <tr>\n",
       "      <th>1626</th>\n",
       "      <td>(1500, 6250, 1916, 6666)</td>\n",
       "      <td>416</td>\n",
       "      <td>4</td>\n",
       "      <td>other</td>\n",
       "    </tr>\n",
       "    <tr>\n",
       "      <th>1627</th>\n",
       "      <td>(1500, 6500, 1916, 6916)</td>\n",
       "      <td>416</td>\n",
       "      <td>4</td>\n",
       "      <td>other</td>\n",
       "    </tr>\n",
       "    <tr>\n",
       "      <th>1628</th>\n",
       "      <td>(1500, 6750, 1916, 7166)</td>\n",
       "      <td>416</td>\n",
       "      <td>4</td>\n",
       "      <td>other</td>\n",
       "    </tr>\n",
       "    <tr>\n",
       "      <th>1629</th>\n",
       "      <td>(1500, 7000, 1916, 7416)</td>\n",
       "      <td>416</td>\n",
       "      <td>4</td>\n",
       "      <td>other</td>\n",
       "    </tr>\n",
       "    <tr>\n",
       "      <th>1630</th>\n",
       "      <td>(1500, 7250, 1916, 7666)</td>\n",
       "      <td>416</td>\n",
       "      <td>4</td>\n",
       "      <td>other</td>\n",
       "    </tr>\n",
       "  </tbody>\n",
       "</table>\n",
       "<p>1631 rows × 4 columns</p>\n",
       "</div>"
      ],
      "text/plain": [
       "                   bbox_bounds  winsize  predClass predClassName\n",
       "0             (0, 0, 208, 208)      208          4         other\n",
       "1           (0, 125, 208, 333)      208          4         other\n",
       "2           (0, 250, 208, 458)      208          4         other\n",
       "3           (0, 375, 208, 583)      208          4         other\n",
       "4           (0, 500, 208, 708)      208          4         other\n",
       "...                        ...      ...        ...           ...\n",
       "1626  (1500, 6250, 1916, 6666)      416          4         other\n",
       "1627  (1500, 6500, 1916, 6916)      416          4         other\n",
       "1628  (1500, 6750, 1916, 7166)      416          4         other\n",
       "1629  (1500, 7000, 1916, 7416)      416          4         other\n",
       "1630  (1500, 7250, 1916, 7666)      416          4         other\n",
       "\n",
       "[1631 rows x 4 columns]"
      ]
     },
     "execution_count": 20,
     "metadata": {},
     "output_type": "execute_result"
    }
   ],
   "source": [
    "confidence_threshold = 0.9\n",
    "df_bbox['predClass'] = [getClassFromPred(pred,confidence_threshold) for pred in preds]\n",
    "df_bbox['predClassName'] = df_bbox['predClass'].map(classDict)\n",
    "df_bbox"
   ]
  },
  {
   "cell_type": "markdown",
   "id": "8068916c",
   "metadata": {},
   "source": [
    "# Annotating Original Image"
   ]
  },
  {
   "cell_type": "markdown",
   "id": "aac7c3d5",
   "metadata": {},
   "source": [
    "Now that we have a list of all predicted classes, if we wanted to annotate the `crater` class onto the original image we can do so as follows. We will first have to subset the data frame by our class"
   ]
  },
  {
   "cell_type": "code",
   "execution_count": 21,
   "id": "fdb212a5",
   "metadata": {
    "ExecuteTime": {
     "end_time": "2022-06-02T06:25:43.335749Z",
     "start_time": "2022-06-02T06:25:43.305754Z"
    },
    "scrolled": true
   },
   "outputs": [
    {
     "data": {
      "text/html": [
       "<div>\n",
       "<style scoped>\n",
       "    .dataframe tbody tr th:only-of-type {\n",
       "        vertical-align: middle;\n",
       "    }\n",
       "\n",
       "    .dataframe tbody tr th {\n",
       "        vertical-align: top;\n",
       "    }\n",
       "\n",
       "    .dataframe thead th {\n",
       "        text-align: right;\n",
       "    }\n",
       "</style>\n",
       "<table border=\"1\" class=\"dataframe\">\n",
       "  <thead>\n",
       "    <tr style=\"text-align: right;\">\n",
       "      <th></th>\n",
       "      <th>bbox_bounds</th>\n",
       "      <th>winsize</th>\n",
       "      <th>predClass</th>\n",
       "      <th>predClassName</th>\n",
       "    </tr>\n",
       "  </thead>\n",
       "  <tbody>\n",
       "    <tr>\n",
       "      <th>14</th>\n",
       "      <td>(0, 1750, 208, 1958)</td>\n",
       "      <td>208</td>\n",
       "      <td>1</td>\n",
       "      <td>crater</td>\n",
       "    </tr>\n",
       "    <tr>\n",
       "      <th>16</th>\n",
       "      <td>(0, 2000, 208, 2208)</td>\n",
       "      <td>208</td>\n",
       "      <td>1</td>\n",
       "      <td>crater</td>\n",
       "    </tr>\n",
       "    <tr>\n",
       "      <th>20</th>\n",
       "      <td>(0, 2500, 208, 2708)</td>\n",
       "      <td>208</td>\n",
       "      <td>1</td>\n",
       "      <td>crater</td>\n",
       "    </tr>\n",
       "    <tr>\n",
       "      <th>63</th>\n",
       "      <td>(125, 250, 333, 458)</td>\n",
       "      <td>208</td>\n",
       "      <td>1</td>\n",
       "      <td>crater</td>\n",
       "    </tr>\n",
       "    <tr>\n",
       "      <th>91</th>\n",
       "      <td>(125, 3750, 333, 3958)</td>\n",
       "      <td>208</td>\n",
       "      <td>1</td>\n",
       "      <td>crater</td>\n",
       "    </tr>\n",
       "    <tr>\n",
       "      <th>104</th>\n",
       "      <td>(125, 5375, 333, 5583)</td>\n",
       "      <td>208</td>\n",
       "      <td>1</td>\n",
       "      <td>crater</td>\n",
       "    </tr>\n",
       "    <tr>\n",
       "      <th>120</th>\n",
       "      <td>(125, 7375, 333, 7583)</td>\n",
       "      <td>208</td>\n",
       "      <td>1</td>\n",
       "      <td>crater</td>\n",
       "    </tr>\n",
       "    <tr>\n",
       "      <th>162</th>\n",
       "      <td>(250, 5000, 458, 5208)</td>\n",
       "      <td>208</td>\n",
       "      <td>1</td>\n",
       "      <td>crater</td>\n",
       "    </tr>\n",
       "    <tr>\n",
       "      <th>171</th>\n",
       "      <td>(250, 6125, 458, 6333)</td>\n",
       "      <td>208</td>\n",
       "      <td>1</td>\n",
       "      <td>crater</td>\n",
       "    </tr>\n",
       "    <tr>\n",
       "      <th>173</th>\n",
       "      <td>(250, 6375, 458, 6583)</td>\n",
       "      <td>208</td>\n",
       "      <td>1</td>\n",
       "      <td>crater</td>\n",
       "    </tr>\n",
       "    <tr>\n",
       "      <th>183</th>\n",
       "      <td>(375, 0, 583, 208)</td>\n",
       "      <td>208</td>\n",
       "      <td>1</td>\n",
       "      <td>crater</td>\n",
       "    </tr>\n",
       "    <tr>\n",
       "      <th>196</th>\n",
       "      <td>(375, 1625, 583, 1833)</td>\n",
       "      <td>208</td>\n",
       "      <td>1</td>\n",
       "      <td>crater</td>\n",
       "    </tr>\n",
       "    <tr>\n",
       "      <th>237</th>\n",
       "      <td>(375, 6750, 583, 6958)</td>\n",
       "      <td>208</td>\n",
       "      <td>1</td>\n",
       "      <td>crater</td>\n",
       "    </tr>\n",
       "    <tr>\n",
       "      <th>431</th>\n",
       "      <td>(875, 500, 1083, 708)</td>\n",
       "      <td>208</td>\n",
       "      <td>1</td>\n",
       "      <td>crater</td>\n",
       "    </tr>\n",
       "    <tr>\n",
       "      <th>458</th>\n",
       "      <td>(875, 3875, 1083, 4083)</td>\n",
       "      <td>208</td>\n",
       "      <td>1</td>\n",
       "      <td>crater</td>\n",
       "    </tr>\n",
       "    <tr>\n",
       "      <th>498</th>\n",
       "      <td>(1000, 1250, 1208, 1458)</td>\n",
       "      <td>208</td>\n",
       "      <td>1</td>\n",
       "      <td>crater</td>\n",
       "    </tr>\n",
       "    <tr>\n",
       "      <th>516</th>\n",
       "      <td>(1000, 3500, 1208, 3708)</td>\n",
       "      <td>208</td>\n",
       "      <td>1</td>\n",
       "      <td>crater</td>\n",
       "    </tr>\n",
       "    <tr>\n",
       "      <th>583</th>\n",
       "      <td>(1125, 4250, 1333, 4458)</td>\n",
       "      <td>208</td>\n",
       "      <td>1</td>\n",
       "      <td>crater</td>\n",
       "    </tr>\n",
       "    <tr>\n",
       "      <th>619</th>\n",
       "      <td>(1250, 1125, 1458, 1333)</td>\n",
       "      <td>208</td>\n",
       "      <td>1</td>\n",
       "      <td>crater</td>\n",
       "    </tr>\n",
       "    <tr>\n",
       "      <th>640</th>\n",
       "      <td>(1250, 3750, 1458, 3958)</td>\n",
       "      <td>208</td>\n",
       "      <td>1</td>\n",
       "      <td>crater</td>\n",
       "    </tr>\n",
       "    <tr>\n",
       "      <th>671</th>\n",
       "      <td>(1375, 0, 1583, 208)</td>\n",
       "      <td>208</td>\n",
       "      <td>1</td>\n",
       "      <td>crater</td>\n",
       "    </tr>\n",
       "    <tr>\n",
       "      <th>684</th>\n",
       "      <td>(1375, 1625, 1583, 1833)</td>\n",
       "      <td>208</td>\n",
       "      <td>1</td>\n",
       "      <td>crater</td>\n",
       "    </tr>\n",
       "    <tr>\n",
       "      <th>702</th>\n",
       "      <td>(1375, 3875, 1583, 4083)</td>\n",
       "      <td>208</td>\n",
       "      <td>1</td>\n",
       "      <td>crater</td>\n",
       "    </tr>\n",
       "    <tr>\n",
       "      <th>805</th>\n",
       "      <td>(1625, 1500, 1833, 1708)</td>\n",
       "      <td>208</td>\n",
       "      <td>1</td>\n",
       "      <td>crater</td>\n",
       "    </tr>\n",
       "    <tr>\n",
       "      <th>815</th>\n",
       "      <td>(1625, 2750, 1833, 2958)</td>\n",
       "      <td>208</td>\n",
       "      <td>1</td>\n",
       "      <td>crater</td>\n",
       "    </tr>\n",
       "    <tr>\n",
       "      <th>818</th>\n",
       "      <td>(1625, 3125, 1833, 3333)</td>\n",
       "      <td>208</td>\n",
       "      <td>1</td>\n",
       "      <td>crater</td>\n",
       "    </tr>\n",
       "    <tr>\n",
       "      <th>826</th>\n",
       "      <td>(1625, 4125, 1833, 4333)</td>\n",
       "      <td>208</td>\n",
       "      <td>1</td>\n",
       "      <td>crater</td>\n",
       "    </tr>\n",
       "    <tr>\n",
       "      <th>840</th>\n",
       "      <td>(1625, 5875, 1833, 6083)</td>\n",
       "      <td>208</td>\n",
       "      <td>1</td>\n",
       "      <td>crater</td>\n",
       "    </tr>\n",
       "    <tr>\n",
       "      <th>855</th>\n",
       "      <td>(1750, 125, 1958, 333)</td>\n",
       "      <td>208</td>\n",
       "      <td>1</td>\n",
       "      <td>crater</td>\n",
       "    </tr>\n",
       "    <tr>\n",
       "      <th>857</th>\n",
       "      <td>(1750, 375, 1958, 583)</td>\n",
       "      <td>208</td>\n",
       "      <td>1</td>\n",
       "      <td>crater</td>\n",
       "    </tr>\n",
       "    <tr>\n",
       "      <th>929</th>\n",
       "      <td>(0, 2324, 278, 2602)</td>\n",
       "      <td>278</td>\n",
       "      <td>1</td>\n",
       "      <td>crater</td>\n",
       "    </tr>\n",
       "    <tr>\n",
       "      <th>975</th>\n",
       "      <td>(166, 2324, 444, 2602)</td>\n",
       "      <td>278</td>\n",
       "      <td>1</td>\n",
       "      <td>crater</td>\n",
       "    </tr>\n",
       "    <tr>\n",
       "      <th>1026</th>\n",
       "      <td>(332, 3154, 610, 3432)</td>\n",
       "      <td>278</td>\n",
       "      <td>1</td>\n",
       "      <td>crater</td>\n",
       "    </tr>\n",
       "    <tr>\n",
       "      <th>1038</th>\n",
       "      <td>(332, 5146, 610, 5424)</td>\n",
       "      <td>278</td>\n",
       "      <td>1</td>\n",
       "      <td>crater</td>\n",
       "    </tr>\n",
       "    <tr>\n",
       "      <th>1058</th>\n",
       "      <td>(498, 830, 776, 1108)</td>\n",
       "      <td>278</td>\n",
       "      <td>1</td>\n",
       "      <td>crater</td>\n",
       "    </tr>\n",
       "    <tr>\n",
       "      <th>1080</th>\n",
       "      <td>(498, 4482, 776, 4760)</td>\n",
       "      <td>278</td>\n",
       "      <td>1</td>\n",
       "      <td>crater</td>\n",
       "    </tr>\n",
       "    <tr>\n",
       "      <th>1094</th>\n",
       "      <td>(498, 6806, 776, 7084)</td>\n",
       "      <td>278</td>\n",
       "      <td>1</td>\n",
       "      <td>crater</td>\n",
       "    </tr>\n",
       "    <tr>\n",
       "      <th>1107</th>\n",
       "      <td>(664, 1328, 942, 1606)</td>\n",
       "      <td>278</td>\n",
       "      <td>1</td>\n",
       "      <td>crater</td>\n",
       "    </tr>\n",
       "    <tr>\n",
       "      <th>1117</th>\n",
       "      <td>(664, 2988, 942, 3266)</td>\n",
       "      <td>278</td>\n",
       "      <td>1</td>\n",
       "      <td>crater</td>\n",
       "    </tr>\n",
       "    <tr>\n",
       "      <th>1135</th>\n",
       "      <td>(664, 5976, 942, 6254)</td>\n",
       "      <td>278</td>\n",
       "      <td>1</td>\n",
       "      <td>crater</td>\n",
       "    </tr>\n",
       "    <tr>\n",
       "      <th>1138</th>\n",
       "      <td>(664, 6474, 942, 6752)</td>\n",
       "      <td>278</td>\n",
       "      <td>1</td>\n",
       "      <td>crater</td>\n",
       "    </tr>\n",
       "    <tr>\n",
       "      <th>1210</th>\n",
       "      <td>(996, 3154, 1274, 3432)</td>\n",
       "      <td>278</td>\n",
       "      <td>1</td>\n",
       "      <td>crater</td>\n",
       "    </tr>\n",
       "    <tr>\n",
       "      <th>1264</th>\n",
       "      <td>(1162, 4482, 1440, 4760)</td>\n",
       "      <td>278</td>\n",
       "      <td>1</td>\n",
       "      <td>crater</td>\n",
       "    </tr>\n",
       "    <tr>\n",
       "      <th>1277</th>\n",
       "      <td>(1162, 6640, 1440, 6918)</td>\n",
       "      <td>278</td>\n",
       "      <td>1</td>\n",
       "      <td>crater</td>\n",
       "    </tr>\n",
       "    <tr>\n",
       "      <th>1298</th>\n",
       "      <td>(1328, 2490, 1606, 2768)</td>\n",
       "      <td>278</td>\n",
       "      <td>1</td>\n",
       "      <td>crater</td>\n",
       "    </tr>\n",
       "    <tr>\n",
       "      <th>1338</th>\n",
       "      <td>(1494, 1494, 1772, 1772)</td>\n",
       "      <td>278</td>\n",
       "      <td>1</td>\n",
       "      <td>crater</td>\n",
       "    </tr>\n",
       "    <tr>\n",
       "      <th>1380</th>\n",
       "      <td>(1660, 830, 1938, 1108)</td>\n",
       "      <td>278</td>\n",
       "      <td>1</td>\n",
       "      <td>crater</td>\n",
       "    </tr>\n",
       "    <tr>\n",
       "      <th>1406</th>\n",
       "      <td>(1660, 5146, 1938, 5424)</td>\n",
       "      <td>278</td>\n",
       "      <td>1</td>\n",
       "      <td>crater</td>\n",
       "    </tr>\n",
       "    <tr>\n",
       "      <th>1460</th>\n",
       "      <td>(250, 2250, 666, 2666)</td>\n",
       "      <td>416</td>\n",
       "      <td>1</td>\n",
       "      <td>crater</td>\n",
       "    </tr>\n",
       "    <tr>\n",
       "      <th>1465</th>\n",
       "      <td>(250, 3500, 666, 3916)</td>\n",
       "      <td>416</td>\n",
       "      <td>1</td>\n",
       "      <td>crater</td>\n",
       "    </tr>\n",
       "    <tr>\n",
       "      <th>1520</th>\n",
       "      <td>(750, 2250, 1166, 2666)</td>\n",
       "      <td>416</td>\n",
       "      <td>1</td>\n",
       "      <td>crater</td>\n",
       "    </tr>\n",
       "    <tr>\n",
       "      <th>1576</th>\n",
       "      <td>(1250, 1250, 1666, 1666)</td>\n",
       "      <td>416</td>\n",
       "      <td>1</td>\n",
       "      <td>crater</td>\n",
       "    </tr>\n",
       "    <tr>\n",
       "      <th>1613</th>\n",
       "      <td>(1500, 3000, 1916, 3416)</td>\n",
       "      <td>416</td>\n",
       "      <td>1</td>\n",
       "      <td>crater</td>\n",
       "    </tr>\n",
       "    <tr>\n",
       "      <th>1616</th>\n",
       "      <td>(1500, 3750, 1916, 4166)</td>\n",
       "      <td>416</td>\n",
       "      <td>1</td>\n",
       "      <td>crater</td>\n",
       "    </tr>\n",
       "  </tbody>\n",
       "</table>\n",
       "</div>"
      ],
      "text/plain": [
       "                   bbox_bounds  winsize  predClass predClassName\n",
       "14        (0, 1750, 208, 1958)      208          1        crater\n",
       "16        (0, 2000, 208, 2208)      208          1        crater\n",
       "20        (0, 2500, 208, 2708)      208          1        crater\n",
       "63        (125, 250, 333, 458)      208          1        crater\n",
       "91      (125, 3750, 333, 3958)      208          1        crater\n",
       "104     (125, 5375, 333, 5583)      208          1        crater\n",
       "120     (125, 7375, 333, 7583)      208          1        crater\n",
       "162     (250, 5000, 458, 5208)      208          1        crater\n",
       "171     (250, 6125, 458, 6333)      208          1        crater\n",
       "173     (250, 6375, 458, 6583)      208          1        crater\n",
       "183         (375, 0, 583, 208)      208          1        crater\n",
       "196     (375, 1625, 583, 1833)      208          1        crater\n",
       "237     (375, 6750, 583, 6958)      208          1        crater\n",
       "431      (875, 500, 1083, 708)      208          1        crater\n",
       "458    (875, 3875, 1083, 4083)      208          1        crater\n",
       "498   (1000, 1250, 1208, 1458)      208          1        crater\n",
       "516   (1000, 3500, 1208, 3708)      208          1        crater\n",
       "583   (1125, 4250, 1333, 4458)      208          1        crater\n",
       "619   (1250, 1125, 1458, 1333)      208          1        crater\n",
       "640   (1250, 3750, 1458, 3958)      208          1        crater\n",
       "671       (1375, 0, 1583, 208)      208          1        crater\n",
       "684   (1375, 1625, 1583, 1833)      208          1        crater\n",
       "702   (1375, 3875, 1583, 4083)      208          1        crater\n",
       "805   (1625, 1500, 1833, 1708)      208          1        crater\n",
       "815   (1625, 2750, 1833, 2958)      208          1        crater\n",
       "818   (1625, 3125, 1833, 3333)      208          1        crater\n",
       "826   (1625, 4125, 1833, 4333)      208          1        crater\n",
       "840   (1625, 5875, 1833, 6083)      208          1        crater\n",
       "855     (1750, 125, 1958, 333)      208          1        crater\n",
       "857     (1750, 375, 1958, 583)      208          1        crater\n",
       "929       (0, 2324, 278, 2602)      278          1        crater\n",
       "975     (166, 2324, 444, 2602)      278          1        crater\n",
       "1026    (332, 3154, 610, 3432)      278          1        crater\n",
       "1038    (332, 5146, 610, 5424)      278          1        crater\n",
       "1058     (498, 830, 776, 1108)      278          1        crater\n",
       "1080    (498, 4482, 776, 4760)      278          1        crater\n",
       "1094    (498, 6806, 776, 7084)      278          1        crater\n",
       "1107    (664, 1328, 942, 1606)      278          1        crater\n",
       "1117    (664, 2988, 942, 3266)      278          1        crater\n",
       "1135    (664, 5976, 942, 6254)      278          1        crater\n",
       "1138    (664, 6474, 942, 6752)      278          1        crater\n",
       "1210   (996, 3154, 1274, 3432)      278          1        crater\n",
       "1264  (1162, 4482, 1440, 4760)      278          1        crater\n",
       "1277  (1162, 6640, 1440, 6918)      278          1        crater\n",
       "1298  (1328, 2490, 1606, 2768)      278          1        crater\n",
       "1338  (1494, 1494, 1772, 1772)      278          1        crater\n",
       "1380   (1660, 830, 1938, 1108)      278          1        crater\n",
       "1406  (1660, 5146, 1938, 5424)      278          1        crater\n",
       "1460    (250, 2250, 666, 2666)      416          1        crater\n",
       "1465    (250, 3500, 666, 3916)      416          1        crater\n",
       "1520   (750, 2250, 1166, 2666)      416          1        crater\n",
       "1576  (1250, 1250, 1666, 1666)      416          1        crater\n",
       "1613  (1500, 3000, 1916, 3416)      416          1        crater\n",
       "1616  (1500, 3750, 1916, 4166)      416          1        crater"
      ]
     },
     "execution_count": 21,
     "metadata": {},
     "output_type": "execute_result"
    }
   ],
   "source": [
    "df_crater = df_bbox[df_bbox.predClassName == 'crater']\n",
    "df_crater"
   ]
  },
  {
   "cell_type": "code",
   "execution_count": 22,
   "id": "1d97b8ef",
   "metadata": {
    "ExecuteTime": {
     "end_time": "2022-06-02T06:25:43.351753Z",
     "start_time": "2022-06-02T06:25:43.336749Z"
    }
   },
   "outputs": [],
   "source": [
    "# Creating a color map\n",
    "colorMap = {0: '#0796FF',\n",
    "            1: '#FF00F4',\n",
    "            2: '#FF9700',\n",
    "            3: '#8DFF00',\n",
    "            4: '#F277FD',\n",
    "            5: '#FF008B',\n",
    "            6: '#00475C',\n",
    "            7: '#000000'}"
   ]
  },
  {
   "cell_type": "code",
   "execution_count": null,
   "id": "b7eeb5f5",
   "metadata": {
    "ExecuteTime": {
     "end_time": "2022-06-02T06:25:46.929429Z",
     "start_time": "2022-06-02T06:25:43.353753Z"
    }
   },
   "outputs": [],
   "source": [
    "mask_img = Image.new(\"RGBA\", (img_width, img_height), (0, 0, 0, 0))\n",
    "\n",
    "for idx in range(0, df_annotate.shape[0]):  \n",
    "    drawBoundingRectangle(df_crater.iloc[idx]['bbox_bounds'],\n",
    "                          mask_img,\n",
    "                          color=colorMap[df_annotate.iloc[idx]['predClass']]\n",
    "                                         )\n",
    "\n",
    "im2 = im1.convert('RGB')\n",
    "im2.paste(mask_img,(0,0),mask_img)\n",
    "im2"
   ]
  },
  {
   "cell_type": "markdown",
   "id": "088f1515",
   "metadata": {},
   "source": [
    "# Performance\n",
    "\n",
    "Although my approach to bounding features may be a little rudimentary. A lot of the overlapping bounding boxes can be cleaned up with some advanced such as *Intersection Over Union*. However, there is currently a bigger  issue with the model. Lets look at the distribution of the positive predictions."
   ]
  },
  {
   "cell_type": "code",
   "execution_count": 32,
   "id": "2b8b8d1c",
   "metadata": {
    "ExecuteTime": {
     "end_time": "2022-06-02T06:33:52.722367Z",
     "start_time": "2022-06-02T06:33:52.718365Z"
    }
   },
   "outputs": [
    {
     "data": {
      "text/plain": [
       "other     0.890865\n",
       "-         0.076027\n",
       "crater    0.033109\n",
       "Name: predClassName, dtype: float64"
      ]
     },
     "execution_count": 32,
     "metadata": {},
     "output_type": "execute_result"
    }
   ],
   "source": [
    "df_bbox.predClassName.value_counts(normalize=True)"
   ]
  },
  {
   "cell_type": "markdown",
   "id": "6a3eb17e",
   "metadata": {},
   "source": [
    "This shows that the model is still overwhelmingly predicting the `other` class. In fact, looking at this distribution, if we were to annotate the image with our `other` class, it'll be covered with annotations. Lets have a quick look."
   ]
  },
  {
   "cell_type": "code",
   "execution_count": null,
   "id": "ab598488",
   "metadata": {
    "ExecuteTime": {
     "end_time": "2022-06-02T06:37:02.680754Z",
     "start_time": "2022-06-02T06:36:59.573526Z"
    },
    "scrolled": true
   },
   "outputs": [],
   "source": [
    "df_other = df_bbox[df_bbox.predClassName == 'other']\n",
    "\n",
    "mask_img = Image.new(\"RGBA\", (img_width, img_height), (0, 0, 0, 0))\n",
    "\n",
    "for idx in range(0, df_other.shape[0]):  \n",
    "    drawBoundingRectangle(df_other.iloc[idx]['bbox_bounds'],\n",
    "                          mask_img,\n",
    "                          color=colorMap[df_other.iloc[idx]['predClass']]\n",
    "                                         )\n",
    "\n",
    "im2 = im1.convert('RGB')\n",
    "im2.paste(mask_img,(0,0),mask_img)\n",
    "im2"
   ]
  },
  {
   "cell_type": "markdown",
   "id": "51ecc592",
   "metadata": {},
   "source": [
    "Remember that each one of these patches had to overcome a confidence threshold of 90%! It seems that the massive imbalance in conjunction with the confounding nature of a \"catch-all\" class severely hampers the predictive capabilities of the model.\n",
    "\n",
    "Even though my model performed with an accuracy of 92% on the test set, lets have a more detailed breakdown of the classification."
   ]
  },
  {
   "cell_type": "code",
   "execution_count": 122,
   "id": "067fe832",
   "metadata": {
    "ExecuteTime": {
     "end_time": "2022-06-02T07:29:23.417562Z",
     "start_time": "2022-06-02T07:29:10.988288Z"
    },
    "scrolled": true
   },
   "outputs": [
    {
     "name": "stderr",
     "output_type": "stream",
     "text": [
      "C:\\Users\\saads\\AppData\\Local\\Temp\\ipykernel_25760\\3196756981.py:2: UserWarning: `Model.predict_generator` is deprecated and will be removed in a future version. Please use `Model.predict`, which supports generators.\n",
      "  test_preds_proba = final_model.predict_generator(test_generator,steps = 1793)\n"
     ]
    }
   ],
   "source": [
    "test_actual = test_generator.classes\n",
    "test_preds_proba = final_model.predict_generator(test_generator,steps = 1793)\n",
    "test_preds = [pred.argmax() for pred in  test_preds_proba]"
   ]
  },
  {
   "cell_type": "code",
   "execution_count": 126,
   "id": "1e022020",
   "metadata": {
    "ExecuteTime": {
     "end_time": "2022-06-02T07:29:48.192100Z",
     "start_time": "2022-06-02T07:29:47.900273Z"
    }
   },
   "outputs": [
    {
     "data": {
      "image/png": "[encoded data removed]",
      "text/plain": [
       "<Figure size 1296x1296 with 2 Axes>"
      ]
     },
     "metadata": {
      "needs_background": "light"
     },
     "output_type": "display_data"
    }
   ],
   "source": [
    "fig, ax = plt.subplots(figsize=(18,18))\n",
    "disp = ConfusionMatrixDisplay(confusion_matrix(test_actual, test_preds),\n",
    "                              display_labels=test_generator.class_indices\n",
    "                             )\n",
    "\n",
    "disp.plot(ax=ax,cmap='Reds');"
   ]
  },
  {
   "cell_type": "code",
   "execution_count": 127,
   "id": "d1b8f37d",
   "metadata": {
    "ExecuteTime": {
     "end_time": "2022-06-02T07:29:51.055500Z",
     "start_time": "2022-06-02T07:29:51.044498Z"
    }
   },
   "outputs": [
    {
     "name": "stdout",
     "output_type": "stream",
     "text": [
      "              precision    recall  f1-score   support\n",
      "\n",
      "           0       0.00      0.00      0.00        16\n",
      "           1       0.01      0.01      0.01        89\n",
      "           2       0.03      0.03      0.03        66\n",
      "           3       0.00      0.00      0.00         7\n",
      "           4       0.82      0.86      0.84      1482\n",
      "           5       0.03      0.02      0.02        49\n",
      "           6       0.00      0.00      0.00        42\n",
      "           7       0.00      0.00      0.00        42\n",
      "\n",
      "    accuracy                           0.72      1793\n",
      "   macro avg       0.11      0.12      0.11      1793\n",
      "weighted avg       0.68      0.72      0.70      1793\n",
      "\n"
     ]
    }
   ],
   "source": [
    "print(classification_report(test_actual, test_preds))"
   ]
  },
  {
   "cell_type": "code",
   "execution_count": 137,
   "id": "7037f3dc",
   "metadata": {
    "ExecuteTime": {
     "end_time": "2022-06-02T07:51:46.265084Z",
     "start_time": "2022-06-02T07:51:46.251090Z"
    },
    "scrolled": true
   },
   "outputs": [
    {
     "data": {
      "text/plain": [
       "['loss', 'accuracy']"
      ]
     },
     "execution_count": 137,
     "metadata": {},
     "output_type": "execute_result"
    }
   ],
   "source": [
    "final_model.metrics_names"
   ]
  },
  {
   "cell_type": "code",
   "execution_count": 145,
   "id": "f769c1c2",
   "metadata": {
    "ExecuteTime": {
     "end_time": "2022-06-02T07:55:36.203518Z",
     "start_time": "2022-06-02T07:55:36.186514Z"
    }
   },
   "outputs": [
    {
     "data": {
      "text/plain": [
       "0.716675962074735"
      ]
     },
     "execution_count": 145,
     "metadata": {},
     "output_type": "execute_result"
    }
   ],
   "source": [
    "(test_preds == test_actual).sum()/1793"
   ]
  },
  {
   "cell_type": "code",
   "execution_count": 150,
   "id": "b0cc02eb",
   "metadata": {
    "ExecuteTime": {
     "end_time": "2022-06-02T08:00:36.281414Z",
     "start_time": "2022-06-02T08:00:36.274413Z"
    }
   },
   "outputs": [],
   "source": [
    "test = tf.nn.softmax(test_preds_proba)[0]"
   ]
  },
  {
   "cell_type": "code",
   "execution_count": 151,
   "id": "1e148e40",
   "metadata": {
    "ExecuteTime": {
     "end_time": "2022-06-02T08:00:39.074916Z",
     "start_time": "2022-06-02T08:00:39.058913Z"
    }
   },
   "outputs": [
    {
     "data": {
      "text/plain": [
       "<tf.Tensor: shape=(8,), dtype=float32, numpy=\n",
       "array([0.10298309, 0.10295074, 0.1029219 , 0.10295767, 0.2794163 ,\n",
       "       0.10292191, 0.10292617, 0.10292229], dtype=float32)>"
      ]
     },
     "execution_count": 151,
     "metadata": {},
     "output_type": "execute_result"
    }
   ],
   "source": [
    "test"
   ]
  },
  {
   "cell_type": "code",
   "execution_count": 153,
   "id": "191d9624",
   "metadata": {
    "ExecuteTime": {
     "end_time": "2022-06-02T08:17:25.126777Z",
     "start_time": "2022-06-02T08:17:25.112774Z"
    }
   },
   "outputs": [
    {
     "data": {
      "text/plain": [
       "array([5.9442892e-04, 2.8028578e-04, 1.6121839e-09, 3.4752249e-04,\n",
       "       9.9873239e-01, 1.4610738e-07, 4.1496201e-05, 3.8020905e-06],\n",
       "      dtype=float32)"
      ]
     },
     "execution_count": 153,
     "metadata": {},
     "output_type": "execute_result"
    }
   ],
   "source": [
    "test_preds_proba[0]"
   ]
  },
  {
   "cell_type": "code",
   "execution_count": 154,
   "id": "54fd30e8",
   "metadata": {
    "ExecuteTime": {
     "end_time": "2022-06-02T08:17:37.212627Z",
     "start_time": "2022-06-02T08:17:37.208626Z"
    }
   },
   "outputs": [
    {
     "data": {
      "text/plain": [
       "4"
      ]
     },
     "execution_count": 154,
     "metadata": {},
     "output_type": "execute_result"
    }
   ],
   "source": [
    "np.argmax(test_preds_proba[0])"
   ]
  },
  {
   "cell_type": "code",
   "execution_count": 155,
   "id": "99501804",
   "metadata": {
    "ExecuteTime": {
     "end_time": "2022-06-02T08:17:48.975659Z",
     "start_time": "2022-06-02T08:17:48.969658Z"
    },
    "scrolled": true
   },
   "outputs": [
    {
     "data": {
      "text/plain": [
       "array([0, 0, 0, ..., 7, 7, 7])"
      ]
     },
     "execution_count": 155,
     "metadata": {},
     "output_type": "execute_result"
    }
   ],
   "source": [
    "test_actual"
   ]
  },
  {
   "cell_type": "markdown",
   "id": "0811fdb2",
   "metadata": {},
   "source": [
    "# Conclusion\n",
    "The final chosen model was the VGG16 pretrained model which was run through 500 more iterations to fine tune the weights for my particular problem set. \n",
    "Although the metrics of the final model is quantitatively satisfactory, its performance on true unseen data was poor. The imbalance in the dataset aside, the class of `others` was essentially a catch all for images that couldn't be classified into the other categories and/or human labelers had a hard time classifying in general. \n",
    "\n",
    "Even to the human eye these might look like they belong to the same set of features but they do not. The images belong to the classes `crater`, `impact ejecta` and `other` respectively.\n",
    "\n",
    "![img](./savedFigs/eg_crater.jpg) \n",
    "![img](./savedFigs/eg_impactejecta.jpg) \n",
    "![img](./savedFigs/eg_other.jpg) \n",
    "\n",
    "One potential way of solving this issue would be to get even more data, but more importantly labeled data. This is especially true for the underepresented features like `spider`s and `impact ejecta`s. Completely reassessing how to classify these images might also help."
   ]
  },
  {
   "cell_type": "markdown",
   "id": "67e43696",
   "metadata": {},
   "source": [
    "# Next Steps:\n",
    "\n",
    "- Retrain AlexNet and LeNet with a smaller learning rate for a high number of iterations to see if they perform any better\n",
    "- Use pretrained weights for AlexNet and LeNet to see if it performs any better\n",
    "- Use a different metric to train against\n",
    "- Undersample or completely drop the majority class `other` and see if resulting models are better at delineating features.\n",
    "- Gather more labeled data\n",
    "- Implement *Intersection Over Union* to clean up annotation of images"
   ]
  },
  {
   "cell_type": "code",
   "execution_count": null,
   "id": "bbd39574",
   "metadata": {},
   "outputs": [],
   "source": []
  }
 ],
 "metadata": {
  "kernelspec": {
   "display_name": "tfGPU",
   "language": "python",
   "name": "tfgpu"
  },
  "language_info": {
   "codemirror_mode": {
    "name": "ipython",
    "version": 3
   },
   "file_extension": ".py",
   "mimetype": "text/x-python",
   "name": "python",
   "nbconvert_exporter": "python",
   "pygments_lexer": "ipython3",
   "version": "3.9.12"
  },
  "toc": {
   "base_numbering": 1,
   "nav_menu": {},
   "number_sections": true,
   "sideBar": true,
   "skip_h1_title": false,
   "title_cell": "Table of Contents",
   "title_sidebar": "Contents",
   "toc_cell": false,
   "toc_position": {
    "height": "calc(100% - 180px)",
    "left": "10px",
    "top": "150px",
    "width": "265px"
   },
   "toc_section_display": true,
   "toc_window_display": true
  },
  "varInspector": {
   "cols": {
    "lenName": 16,
    "lenType": 16,
    "lenVar": 40
   },
   "kernels_config": {
    "python": {
     "delete_cmd_postfix": "",
     "delete_cmd_prefix": "del ",
     "library": "var_list.py",
     "varRefreshCmd": "print(var_dic_list())"
    },
    "r": {
     "delete_cmd_postfix": ") ",
     "delete_cmd_prefix": "rm(",
     "library": "var_list.r",
     "varRefreshCmd": "cat(var_dic_list()) "
    }
   },
   "position": {
    "height": "395.844px",
    "left": "1187px",
    "right": "20px",
    "top": "120px",
    "width": "713px"
   },
   "types_to_exclude": [
    "module",
    "function",
    "builtin_function_or_method",
    "instance",
    "_Feature"
   ],
   "window_display": false
  }
 },
 "nbformat": 4,
 "nbformat_minor": 5
}
