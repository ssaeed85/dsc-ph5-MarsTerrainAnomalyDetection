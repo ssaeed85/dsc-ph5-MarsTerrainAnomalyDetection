{
 "cells": [
  {
   "cell_type": "markdown",
   "id": "5bc1f778",
   "metadata": {},
   "source": [
    "![img](./savedFigs/Mars%20Topography%20Header.png)\n",
    "\n",
    "Image in header courtesy of NASA [here](https://www.nasa.gov/image-feature/the-red-planets-holden-crater)"
   ]
  },
  {
   "cell_type": "markdown",
   "id": "d9b00c94",
   "metadata": {
    "ExecuteTime": {
     "end_time": "2022-05-30T23:44:57.065449Z",
     "start_time": "2022-05-30T23:44:57.057448Z"
    },
    "heading_collapsed": true
   },
   "source": [
    "# The Data\n",
    "\n",
    "The work performed herein was built off of the shoulders of giants, the original project that created the dataset and labeled the images. Here follows an excerpt from their site describing the data.\n",
    "\n",
    "> [![DOI](https://zenodo.org/badge/DOI/10.5281/zenodo.4002935.svg)](https://doi.org/10.5281/zenodo.4002935)\n",
    ">__Project member(s)__:\\\n",
    ">Topher Allen; Zach Anderson; Berlin Chen; Ameya Daigavane; Annie Didier; Marko Green; Paul Horton; Hannah Kerner; Lauren Klein; Benjamin Kolber; Ellie Kuang; Kyle Kung; Jake Lee; Justin Martia; Brian Milch; James Montgomery; Kyle Pearson; Sanjna Ravichandar; Arun Viswanathan; Caleb Wagner; Amruta Yelamanchili; Brandon Zhao\n",
    ">\n",
    ">__Abstract__:\\\n",
    ">This dataset contains a total of 64,947 landmark images that were detected and extracted from HiRISE browse images, spanning 232 separate source images.\n",
    ">\n",
    ">This set was formed from 10,815 original landmarks. Each original landmark was cropped to a square bounding box that included the full extent of the landmark plus a 30-pixel margin to the left, right, top, and bottom. Each landmark was then resized to 227x227 pixels. 9,022 of these images were then augmented to generate 6 additional landmarks using the following methods:\n",
    ">\n",
    ">90 degrees clockwise rotation\n",
    ">180 degrees clockwise rotation\n",
    ">270 degrees clockwise rotation\n",
    ">Horizontal flip\n",
    ">Vertical flip\n",
    ">Random brightness adjustment\n",
    ">The remaining 1,793 images were not augmented. Combining these with the 7*9,022 images, gives a total of 64,947 separate images.\n",
    ">\n",
    "> __Contents__:\n",
    ">- map-proj-v3_2/: Directory containing individual cropped landmark images\n",
    ">- labels-map-proj-v3_2.txt: Class labels (ids) for each landmark image. File includes two columns separated by a space: filename, class_id\n",
    ">- labels-map-proj-v3_2_train_val_test.txt: Includes train/test/val labels and upsampling used for trained model. File includes three columns separated by a space: filename, class_id, set\n",
    ">- landmarks_map-proj-v3_2_classmap.csv: Dictionary that maps class ids to semantic names\n",
    ">\n",
    "> __Class Discussion__:\\\n",
    ">We give a discussion of the various landmarks that make up our classes.\n",
    ">\n",
    ">Bright dune and dark dune are two sand dune classes found on Mars. Dark dunes are completely defrosted, whereas bright dunes are not. Bright dunes are generally bright due to overlying frost and can exhibit black spots where parts of the dune are defrosting.\n",
    ">\n",
    ">The crater class consists of crater images in which the diameter of the crater is greater than or equal to 1/5 the width of the image and the circular rim is visible for at least half the crater's circumference.\n",
    ">\n",
    ">The slope streak class consists of images of dark flow-like features on slopes. These features are believed to be formed by a dry process in which overlying (bright) dust slides down a slope and reveals a darker sub-surface.\n",
    ">\n",
    ">Impact ejecta refers to material that is blasted out from the impact of a meteorite or the eruption of a volcano. We also include cases in which the impact cleared away overlying dust, exposing the underlying surface. In some cases, the associated crater may be too small to see. Impact ejecta can also include lava that spilled out from the impact (blobby (\"lobate\") instead of blast-like), more like an eruption (triggered by the impact). Impact ejecta can be isolated, or they can form in clusters when the impactor breaks up into multiple fragments.\n",
    ">\n",
    ">Spiders and Swiss cheese are phenomena that occur in the south polar region of Mars. Spiders have a central pit with radial troughs, and they are believed to form as a result of sublimation of carbon dioxide ice. This process can produce mineral deposits on top, which look like dark or light dust that highlights cracks in the CO2 ice. Spiders can resemble impact ejecta due to their radial troughs, but impact ejecta tends to have straight radial jets that fade as they get farther from the center. The spider class also includes fan-like features that form when a geyser erupts through the CO2 layer and the material is blown by the wind away from the cracks. Fans are typically unidirectional (following the wind direction), whereas impact ejecta often extends in multiple directions. Swiss cheese is a terrain type that consists of pits that are formed when the sun heats the ice making it sublimate (change solid to gas).\n",
    ">\n",
    ">Other is a catch-all class that contains images that fit none of the defined classes of interest. This class makes up the majority of our data set.\n"
   ]
  },
  {
   "cell_type": "markdown",
   "id": "93683e1b",
   "metadata": {
    "heading_collapsed": true
   },
   "source": [
    "# Business Understanding\n",
    "\n",
    "Space exploration and understanding has been growing over the last few decades with the spark being lit during the space race during the latter half of the 20th century. After the end of the Apollo space program, man's venture into space has been relegated to low earth orbit missions.  \n",
    "\n",
    "Unmanned missions have since had many a success story such as the Voyager 2 going interstellar in 2018, over 40 years after its launch. The future of space exploration is going to be handled by such manned missions for the foreseeable future. However, being physically on site isn't the only way to explore space.  \n",
    "\n",
    "For centuries, man has looked up at the night sky to find out more about our celestial neighbors. With improvements in technologies our ability to gather data through telescopes and cameras has improved significantly and the value provided by telescopes in space has been immeasurable. The James Webb (infrared) telescope was launched in December 2021 and hopes to view objects too old, distant, and faint for the Hubble Space Telescope.\n",
    "\n",
    "Pointing the telescope and gathering data is only the first step. Being able to parse terabytes, petabytes or even yottabytes of data manually is a nigh impossible task, a task computer vision is especially suited for. Being able to identify interesting features can help us whittle down potential candidates to explore 'in-person' and in the long run help mitigate losses.\n",
    "\n",
    "Interest in space exploration has seen a resurgence with private enterprise taking an interest. Although this project specifically looks at the Mars topography, similar techniques can be applied to any celestial body, or even to our home planet."
   ]
  },
  {
   "cell_type": "markdown",
   "id": "4a09439c",
   "metadata": {},
   "source": [
    "# Overview\n",
    "We shall be using images captured from the HiRISE camera system on board the Mars Reconnaisance Orbiter which was built under direction from University of Arizona's Lunar and Planetary Laboratory. Following is an excerpt from the [University of Arizona website](https://www.lpl.arizona.edu/missions/hirise-mro).\n",
    "\n",
    ">The **Hi**gh **R**esolution **I**maging **S**cience **E**xperiment (HiRISE) onboard the Mars Reconnaissance Orbiter, is the most powerful camera ever sent to another planet. The resolution of the camera allows us to see the Red Planet in amazing detail, and lets other missions, like the Mars Science Laboratory, find a safe place to land and carry out amazing science. The operations center, which includes not only observation planning, but the execution of commands sent to the spacecraft along with actual image processing, is located within LPL at the University of Arizona.\n",
    "\n",
    "We shall be building off of the work performed by the original team. The dataset comes pre-augmented and segmented into training, validation and test sets. The test side will be set aside to ascertain effectiveness of our final model. The training set will be used to train the model and the validation scores on the validation set will be used as a metric to pick our model, specifically our validation loss."
   ]
  },
  {
   "cell_type": "markdown",
   "id": "0e319a0f",
   "metadata": {
    "ExecuteTime": {
     "end_time": "2022-05-31T04:19:08.842951Z",
     "start_time": "2022-05-31T04:19:08.825947Z"
    }
   },
   "source": [
    "# Imports"
   ]
  },
  {
   "cell_type": "code",
   "execution_count": 1,
   "id": "3a10a373",
   "metadata": {
    "ExecuteTime": {
     "end_time": "2022-06-02T14:17:55.872290Z",
     "start_time": "2022-06-02T14:17:49.791798Z"
    }
   },
   "outputs": [],
   "source": [
    "from PIL import Image, ImageDraw\n",
    "import math\n",
    "import pandas as pd\n",
    "import numpy as np\n",
    "import tensorflow as tf\n",
    "from tensorflow.keras.preprocessing.image import ImageDataGenerator\n",
    "import os\n",
    "import shutil\n",
    "import random\n",
    "from sklearn.metrics import confusion_matrix, ConfusionMatrixDisplay,classification_report\n",
    "import matplotlib.pyplot as plt"
   ]
  },
  {
   "cell_type": "code",
   "execution_count": 2,
   "id": "0a8ea8f6",
   "metadata": {
    "ExecuteTime": {
     "end_time": "2022-06-02T14:17:55.888294Z",
     "start_time": "2022-06-02T14:17:55.874291Z"
    }
   },
   "outputs": [],
   "source": [
    "from src.imageHandler import *"
   ]
  },
  {
   "cell_type": "markdown",
   "id": "08d87bcb",
   "metadata": {},
   "source": [
    "# Final Model Selection\n",
    "To recap, we trained a variety of different models using Adam as an optimizer function. After looking at our modeling efforts across 4 notebooks, [02_TensorflowModeling_FinalModels](./02_TensorflowModeling_FinalModels.ipynb), [03_TensorflowModeling_AlexNet](./03_TensorflowModeling_AlexNet.ipynb), [04_TensorflowModeling_LeNet](./04_TensorflowModeling_LeNet.ipynb), [05_TensorflowModeling_VGG16_TransferLearning](./05_TensorflowModeling_VGG16_TransferLearning.ipynb), the VGG16 transfer training model is the clear winner."
   ]
  },
  {
   "cell_type": "code",
   "execution_count": 3,
   "id": "6310fed6",
   "metadata": {
    "ExecuteTime": {
     "end_time": "2022-06-02T14:17:58.609848Z",
     "start_time": "2022-06-02T14:17:55.889294Z"
    },
    "scrolled": true
   },
   "outputs": [],
   "source": [
    "final_model = tf.keras.models.load_model('tf_TransferLearning_8class_VGG16.hfpy')"
   ]
  },
  {
   "cell_type": "code",
   "execution_count": 4,
   "id": "c4d27efc",
   "metadata": {
    "ExecuteTime": {
     "end_time": "2022-06-02T14:17:59.961108Z",
     "start_time": "2022-06-02T14:17:58.610848Z"
    }
   },
   "outputs": [
    {
     "name": "stdout",
     "output_type": "stream",
     "text": [
      "Found 14175 images belonging to 8 classes.\n"
     ]
    }
   ],
   "source": [
    "# Normalizing data for 8 bit\n",
    "val_datagen = ImageDataGenerator(rescale=1./255)\n",
    "\n",
    "val_generator = val_datagen.flow_from_directory(\n",
    "    'images/val/',\n",
    "    target_size = (227,227),\n",
    "    batch_size=1,\n",
    "    color_mode='rgb',\n",
    "    class_mode='categorical'\n",
    ")"
   ]
  },
  {
   "cell_type": "code",
   "execution_count": 5,
   "id": "8ca598da",
   "metadata": {
    "ExecuteTime": {
     "end_time": "2022-06-02T14:18:00.196491Z",
     "start_time": "2022-06-02T14:17:59.963109Z"
    }
   },
   "outputs": [
    {
     "name": "stdout",
     "output_type": "stream",
     "text": [
      "Found 1793 images belonging to 8 classes.\n"
     ]
    }
   ],
   "source": [
    "# Normalizing data for 8 bit\n",
    "test_datagen = ImageDataGenerator(rescale=1./255)\n",
    "\n",
    "test_generator = test_datagen.flow_from_directory(\n",
    "    'images/test/',\n",
    "    target_size = (227,227),\n",
    "    batch_size=1,\n",
    "    color_mode='rgb',\n",
    "    class_mode='categorical'\n",
    ")"
   ]
  },
  {
   "cell_type": "code",
   "execution_count": 6,
   "id": "e1594227",
   "metadata": {
    "ExecuteTime": {
     "end_time": "2022-06-02T14:20:22.719774Z",
     "start_time": "2022-06-02T14:18:00.197492Z"
    }
   },
   "outputs": [
    {
     "name": "stdout",
     "output_type": "stream",
     "text": [
      "14175/14175 [==============================] - 142s 9ms/step - loss: 0.3356 - accuracy: 0.9073\n"
     ]
    }
   ],
   "source": [
    "final_model.evaluate(val_generator);"
   ]
  },
  {
   "cell_type": "code",
   "execution_count": 7,
   "id": "74dd9ff4",
   "metadata": {
    "ExecuteTime": {
     "end_time": "2022-06-02T14:20:40.246692Z",
     "start_time": "2022-06-02T14:20:22.739778Z"
    }
   },
   "outputs": [
    {
     "name": "stdout",
     "output_type": "stream",
     "text": [
      "1793/1793 [==============================] - 17s 10ms/step - loss: 0.3541 - accuracy: 0.9230\n"
     ]
    }
   ],
   "source": [
    "final_model.evaluate(test_generator);"
   ]
  },
  {
   "cell_type": "markdown",
   "id": "810a753f",
   "metadata": {},
   "source": [
    "Our chosen model performed with an accuracy of about **90.73%** on the validation set and **92.3%** on the holdout (test set) with a corresponding loss of about **0.3356** and **0.3541** respectively. This clearly outperforms are baseline Dummy Classifier\n",
    "\n",
    "We shall now utilize this model to make anomaly predictions on the Martian surface"
   ]
  },
  {
   "cell_type": "code",
   "execution_count": null,
   "id": "b25abd99",
   "metadata": {
    "ExecuteTime": {
     "end_time": "2022-06-02T14:20:41.256921Z",
     "start_time": "2022-06-02T14:20:40.259694Z"
    },
    "scrolled": false
   },
   "outputs": [],
   "source": [
    "im1 = Image.open('mass_maps/AEB_000002_0000_RED.NOMAP.browse.jpg')\n",
    "img_width,  img_height = im1.size\n",
    "im1"
   ]
  },
  {
   "cell_type": "markdown",
   "id": "e8a90934",
   "metadata": {},
   "source": [
    "Next we'll create a data frame of all bounding boxes for a given image. \n",
    "A potential bounding box in this case is a slice of the image that could potentially hold a feature. The following function essentially returns a series of coordinates of slices of varying size encompassing the entire image. \n",
    "\n",
    "3 different window sizes were chosen. 75%, 100%, 150% of the base window size. In this case the base window size was set to size of the images in the dataset *277px*. A certain amount of overlap is allowed between slices in order to ensure features were not accidentally missed. This is currently set at *40%*"
   ]
  },
  {
   "cell_type": "code",
   "execution_count": 9,
   "id": "32068279",
   "metadata": {
    "ExecuteTime": {
     "end_time": "2022-06-02T14:20:41.397951Z",
     "start_time": "2022-06-02T14:20:41.260921Z"
    },
    "scrolled": false
   },
   "outputs": [
    {
     "name": "stdout",
     "output_type": "stream",
     "text": [
      "reading current\n"
     ]
    },
    {
     "data": {
      "text/html": [
       "<div>\n",
       "<style scoped>\n",
       "    .dataframe tbody tr th:only-of-type {\n",
       "        vertical-align: middle;\n",
       "    }\n",
       "\n",
       "    .dataframe tbody tr th {\n",
       "        vertical-align: top;\n",
       "    }\n",
       "\n",
       "    .dataframe thead th {\n",
       "        text-align: right;\n",
       "    }\n",
       "</style>\n",
       "<table border=\"1\" class=\"dataframe\">\n",
       "  <thead>\n",
       "    <tr style=\"text-align: right;\">\n",
       "      <th></th>\n",
       "      <th>bbox_bounds</th>\n",
       "      <th>winsize</th>\n",
       "    </tr>\n",
       "  </thead>\n",
       "  <tbody>\n",
       "    <tr>\n",
       "      <th>0</th>\n",
       "      <td>(0, 0, 208, 208)</td>\n",
       "      <td>208</td>\n",
       "    </tr>\n",
       "    <tr>\n",
       "      <th>1</th>\n",
       "      <td>(0, 125, 208, 333)</td>\n",
       "      <td>208</td>\n",
       "    </tr>\n",
       "    <tr>\n",
       "      <th>2</th>\n",
       "      <td>(0, 250, 208, 458)</td>\n",
       "      <td>208</td>\n",
       "    </tr>\n",
       "    <tr>\n",
       "      <th>3</th>\n",
       "      <td>(0, 375, 208, 583)</td>\n",
       "      <td>208</td>\n",
       "    </tr>\n",
       "    <tr>\n",
       "      <th>4</th>\n",
       "      <td>(0, 500, 208, 708)</td>\n",
       "      <td>208</td>\n",
       "    </tr>\n",
       "    <tr>\n",
       "      <th>...</th>\n",
       "      <td>...</td>\n",
       "      <td>...</td>\n",
       "    </tr>\n",
       "    <tr>\n",
       "      <th>1626</th>\n",
       "      <td>(1500, 6250, 1916, 6666)</td>\n",
       "      <td>416</td>\n",
       "    </tr>\n",
       "    <tr>\n",
       "      <th>1627</th>\n",
       "      <td>(1500, 6500, 1916, 6916)</td>\n",
       "      <td>416</td>\n",
       "    </tr>\n",
       "    <tr>\n",
       "      <th>1628</th>\n",
       "      <td>(1500, 6750, 1916, 7166)</td>\n",
       "      <td>416</td>\n",
       "    </tr>\n",
       "    <tr>\n",
       "      <th>1629</th>\n",
       "      <td>(1500, 7000, 1916, 7416)</td>\n",
       "      <td>416</td>\n",
       "    </tr>\n",
       "    <tr>\n",
       "      <th>1630</th>\n",
       "      <td>(1500, 7250, 1916, 7666)</td>\n",
       "      <td>416</td>\n",
       "    </tr>\n",
       "  </tbody>\n",
       "</table>\n",
       "<p>1631 rows × 2 columns</p>\n",
       "</div>"
      ],
      "text/plain": [
       "                   bbox_bounds  winsize\n",
       "0             (0, 0, 208, 208)      208\n",
       "1           (0, 125, 208, 333)      208\n",
       "2           (0, 250, 208, 458)      208\n",
       "3           (0, 375, 208, 583)      208\n",
       "4           (0, 500, 208, 708)      208\n",
       "...                        ...      ...\n",
       "1626  (1500, 6250, 1916, 6666)      416\n",
       "1627  (1500, 6500, 1916, 6916)      416\n",
       "1628  (1500, 6750, 1916, 7166)      416\n",
       "1629  (1500, 7000, 1916, 7416)      416\n",
       "1630  (1500, 7250, 1916, 7666)      416\n",
       "\n",
       "[1631 rows x 2 columns]"
      ]
     },
     "execution_count": 9,
     "metadata": {},
     "output_type": "execute_result"
    }
   ],
   "source": [
    "# Read a dataframe from a precreated csv. If the appropriate csv doesn't exist\n",
    "# Create one in './mass_maps/'\n",
    "df_bbox = getPotentialBboxes(im1)\n",
    "df_bbox"
   ]
  },
  {
   "cell_type": "code",
   "execution_count": 10,
   "id": "32068e2f",
   "metadata": {
    "ExecuteTime": {
     "end_time": "2022-06-02T14:20:44.344945Z",
     "start_time": "2022-06-02T14:20:41.398952Z"
    },
    "scrolled": true
   },
   "outputs": [],
   "source": [
    "# Using the above data frame crop slices of the larger image\n",
    "# Create a folder to hold slices in './mass_maps/'\n",
    "list_imagesToClassify = [im1.crop(df_bbox.iloc[rowNum]['bbox_bounds'])\n",
    "                         for rowNum in range(0,df_bbox.shape[0])]\n",
    "saveImageSlices(list_imagesToClassify,im1.filename)"
   ]
  },
  {
   "cell_type": "code",
   "execution_count": 11,
   "id": "b5448b57",
   "metadata": {
    "ExecuteTime": {
     "end_time": "2022-06-02T14:20:55.172460Z",
     "start_time": "2022-06-02T14:20:44.345946Z"
    }
   },
   "outputs": [
    {
     "name": "stdout",
     "output_type": "stream",
     "text": [
      "./mass_maps/_slices_img/\n",
      "Found 1631 images belonging to 1 classes.\n",
      "204/204 [==============================] - 11s 45ms/step\n"
     ]
    }
   ],
   "source": [
    "# Normalizing data for 8 bit\n",
    "predict_datagen = ImageDataGenerator(rescale=1./255)\n",
    "\n",
    "print('./mass_maps/_slices_img/')\n",
    "predict_generator = predict_datagen.flow_from_directory(\n",
    "    'mass_maps/',\n",
    "    target_size = (227,227),\n",
    "    batch_size=8,\n",
    "    color_mode='rgb',\n",
    "    class_mode=None\n",
    ")\n",
    "predict_generator.reset()\n",
    "\n",
    "preds = final_model.predict(predict_generator)"
   ]
  },
  {
   "cell_type": "markdown",
   "id": "fa981e0b",
   "metadata": {},
   "source": [
    "# Predicting on Slices"
   ]
  },
  {
   "cell_type": "markdown",
   "id": "e11065b7",
   "metadata": {
    "ExecuteTime": {
     "end_time": "2022-06-02T05:49:29.124180Z",
     "start_time": "2022-06-02T05:49:29.113178Z"
    }
   },
   "source": [
    "Now that we have created each potential slice of the image that could potentially hold a feature belonging to one of our classes, we can now use our model to predict on each of these images. First we will need to create a prediction generator"
   ]
  },
  {
   "cell_type": "code",
   "execution_count": 12,
   "id": "1f783ef4",
   "metadata": {
    "ExecuteTime": {
     "end_time": "2022-06-02T14:20:55.235474Z",
     "start_time": "2022-06-02T14:20:55.174461Z"
    }
   },
   "outputs": [
    {
     "name": "stdout",
     "output_type": "stream",
     "text": [
      "Found 1631 images belonging to 1 classes.\n"
     ]
    }
   ],
   "source": [
    "# Normalizing data for 8 bit\n",
    "predict_datagen = ImageDataGenerator(rescale=1./255)\n",
    "\n",
    "predict_generator = predict_datagen.flow_from_directory(\n",
    "    'mass_maps/',\n",
    "    target_size = (227,227),\n",
    "    batch_size=100,\n",
    "    color_mode='rgb',\n",
    "    class_mode=None\n",
    ")\n",
    "predict_generator.reset()\n",
    "\n"
   ]
  },
  {
   "cell_type": "markdown",
   "id": "1ae23151",
   "metadata": {},
   "source": [
    "With our model and images loaded all we have to do is use the predict method to get a list of predictions for each of our image slices."
   ]
  },
  {
   "cell_type": "code",
   "execution_count": 13,
   "id": "afd70669",
   "metadata": {
    "ExecuteTime": {
     "end_time": "2022-06-02T14:21:08.100117Z",
     "start_time": "2022-06-02T14:20:55.236475Z"
    },
    "scrolled": true
   },
   "outputs": [
    {
     "name": "stdout",
     "output_type": "stream",
     "text": [
      "17/17 [==============================] - 13s 423ms/step\n"
     ]
    }
   ],
   "source": [
    "preds = final_model.predict(predict_generator)"
   ]
  },
  {
   "cell_type": "markdown",
   "id": "fca43a5b",
   "metadata": {
    "ExecuteTime": {
     "end_time": "2022-06-02T05:52:46.542955Z",
     "start_time": "2022-06-02T05:52:46.536961Z"
    }
   },
   "source": [
    "Lets have a look at the first image and its associated prediction"
   ]
  },
  {
   "cell_type": "code",
   "execution_count": 14,
   "id": "2290acf6",
   "metadata": {
    "ExecuteTime": {
     "end_time": "2022-06-02T14:21:08.115121Z",
     "start_time": "2022-06-02T14:21:08.101119Z"
    }
   },
   "outputs": [
    {
     "data": {
      "image/png": "[encoded data removed]",
      "text/plain": [
       "<PIL.Image.Image image mode=L size=208x208>"
      ]
     },
     "execution_count": 14,
     "metadata": {},
     "output_type": "execute_result"
    }
   ],
   "source": [
    "list_imagesToClassify[0]"
   ]
  },
  {
   "cell_type": "code",
   "execution_count": 15,
   "id": "e2350318",
   "metadata": {
    "ExecuteTime": {
     "end_time": "2022-06-02T14:21:08.131123Z",
     "start_time": "2022-06-02T14:21:08.118121Z"
    }
   },
   "outputs": [
    {
     "data": {
      "text/plain": [
       "[0.0, 0.0, 0.0, 0.0, 1.0, 0.0, 0.0, 0.0]"
      ]
     },
     "execution_count": 15,
     "metadata": {},
     "output_type": "execute_result"
    }
   ],
   "source": [
    "[round(x,3) for x in preds[0]]"
   ]
  },
  {
   "cell_type": "markdown",
   "id": "520836bb",
   "metadata": {},
   "source": [
    "Each prediction is an array of probabilities of the likelihood that an image belongs to a particular class. In the above case, the model is 99.9% confident that the first slice belongs to class *4*. Looking at the class indices from our test set, we can see that this means the model thinks the image belongs to the `other` class."
   ]
  },
  {
   "cell_type": "code",
   "execution_count": 16,
   "id": "a4160d7f",
   "metadata": {
    "ExecuteTime": {
     "end_time": "2022-06-02T14:21:08.147129Z",
     "start_time": "2022-06-02T14:21:08.135125Z"
    }
   },
   "outputs": [
    {
     "data": {
      "text/plain": [
       "{'bright dune': 0,\n",
       " 'crater': 1,\n",
       " 'dark dune': 2,\n",
       " 'impact ejecta': 3,\n",
       " 'other': 4,\n",
       " 'slope streak': 5,\n",
       " 'spider': 6,\n",
       " 'swiss cheese': 7}"
      ]
     },
     "execution_count": 16,
     "metadata": {},
     "output_type": "execute_result"
    }
   ],
   "source": [
    "test_generator.class_indices"
   ]
  },
  {
   "cell_type": "markdown",
   "id": "c9e307d3",
   "metadata": {
    "ExecuteTime": {
     "end_time": "2022-06-02T06:00:42.094725Z",
     "start_time": "2022-06-02T06:00:42.084722Z"
    }
   },
   "source": [
    "Knowing this we can now predict the class for each image. We will do so using the following function.\n",
    "*-1* as a `predClass1` is reserved to indicate that no class feature was able to cross the confidence threshold."
   ]
  },
  {
   "cell_type": "code",
   "execution_count": 17,
   "id": "e4d5875b",
   "metadata": {
    "ExecuteTime": {
     "end_time": "2022-06-02T14:21:08.163131Z",
     "start_time": "2022-06-02T14:21:08.148128Z"
    }
   },
   "outputs": [],
   "source": [
    "classDict = {\n",
    "    -1: '-',\n",
    "    0: 'bright dune',\n",
    "    1:  'crater',\n",
    "    2:  'dark dune',\n",
    "    3:  'impact ejecta',\n",
    "    4:  'other',\n",
    "    5:  'slope streak',\n",
    "    6:  'spider',\n",
    "    7:  'swiss cheese'}"
   ]
  },
  {
   "cell_type": "code",
   "execution_count": 18,
   "id": "bca02fb7",
   "metadata": {
    "ExecuteTime": {
     "end_time": "2022-06-02T14:21:08.193536Z",
     "start_time": "2022-06-02T14:21:08.164131Z"
    },
    "scrolled": false
   },
   "outputs": [
    {
     "data": {
      "text/html": [
       "<div>\n",
       "<style scoped>\n",
       "    .dataframe tbody tr th:only-of-type {\n",
       "        vertical-align: middle;\n",
       "    }\n",
       "\n",
       "    .dataframe tbody tr th {\n",
       "        vertical-align: top;\n",
       "    }\n",
       "\n",
       "    .dataframe thead th {\n",
       "        text-align: right;\n",
       "    }\n",
       "</style>\n",
       "<table border=\"1\" class=\"dataframe\">\n",
       "  <thead>\n",
       "    <tr style=\"text-align: right;\">\n",
       "      <th></th>\n",
       "      <th>bbox_bounds</th>\n",
       "      <th>winsize</th>\n",
       "      <th>predClass</th>\n",
       "      <th>predClassName</th>\n",
       "    </tr>\n",
       "  </thead>\n",
       "  <tbody>\n",
       "    <tr>\n",
       "      <th>0</th>\n",
       "      <td>(0, 0, 208, 208)</td>\n",
       "      <td>208</td>\n",
       "      <td>4</td>\n",
       "      <td>other</td>\n",
       "    </tr>\n",
       "    <tr>\n",
       "      <th>1</th>\n",
       "      <td>(0, 125, 208, 333)</td>\n",
       "      <td>208</td>\n",
       "      <td>4</td>\n",
       "      <td>other</td>\n",
       "    </tr>\n",
       "    <tr>\n",
       "      <th>2</th>\n",
       "      <td>(0, 250, 208, 458)</td>\n",
       "      <td>208</td>\n",
       "      <td>-1</td>\n",
       "      <td>-</td>\n",
       "    </tr>\n",
       "    <tr>\n",
       "      <th>3</th>\n",
       "      <td>(0, 375, 208, 583)</td>\n",
       "      <td>208</td>\n",
       "      <td>4</td>\n",
       "      <td>other</td>\n",
       "    </tr>\n",
       "    <tr>\n",
       "      <th>4</th>\n",
       "      <td>(0, 500, 208, 708)</td>\n",
       "      <td>208</td>\n",
       "      <td>4</td>\n",
       "      <td>other</td>\n",
       "    </tr>\n",
       "    <tr>\n",
       "      <th>...</th>\n",
       "      <td>...</td>\n",
       "      <td>...</td>\n",
       "      <td>...</td>\n",
       "      <td>...</td>\n",
       "    </tr>\n",
       "    <tr>\n",
       "      <th>1626</th>\n",
       "      <td>(1500, 6250, 1916, 6666)</td>\n",
       "      <td>416</td>\n",
       "      <td>4</td>\n",
       "      <td>other</td>\n",
       "    </tr>\n",
       "    <tr>\n",
       "      <th>1627</th>\n",
       "      <td>(1500, 6500, 1916, 6916)</td>\n",
       "      <td>416</td>\n",
       "      <td>4</td>\n",
       "      <td>other</td>\n",
       "    </tr>\n",
       "    <tr>\n",
       "      <th>1628</th>\n",
       "      <td>(1500, 6750, 1916, 7166)</td>\n",
       "      <td>416</td>\n",
       "      <td>4</td>\n",
       "      <td>other</td>\n",
       "    </tr>\n",
       "    <tr>\n",
       "      <th>1629</th>\n",
       "      <td>(1500, 7000, 1916, 7416)</td>\n",
       "      <td>416</td>\n",
       "      <td>4</td>\n",
       "      <td>other</td>\n",
       "    </tr>\n",
       "    <tr>\n",
       "      <th>1630</th>\n",
       "      <td>(1500, 7250, 1916, 7666)</td>\n",
       "      <td>416</td>\n",
       "      <td>4</td>\n",
       "      <td>other</td>\n",
       "    </tr>\n",
       "  </tbody>\n",
       "</table>\n",
       "<p>1631 rows × 4 columns</p>\n",
       "</div>"
      ],
      "text/plain": [
       "                   bbox_bounds  winsize  predClass predClassName\n",
       "0             (0, 0, 208, 208)      208          4         other\n",
       "1           (0, 125, 208, 333)      208          4         other\n",
       "2           (0, 250, 208, 458)      208         -1             -\n",
       "3           (0, 375, 208, 583)      208          4         other\n",
       "4           (0, 500, 208, 708)      208          4         other\n",
       "...                        ...      ...        ...           ...\n",
       "1626  (1500, 6250, 1916, 6666)      416          4         other\n",
       "1627  (1500, 6500, 1916, 6916)      416          4         other\n",
       "1628  (1500, 6750, 1916, 7166)      416          4         other\n",
       "1629  (1500, 7000, 1916, 7416)      416          4         other\n",
       "1630  (1500, 7250, 1916, 7666)      416          4         other\n",
       "\n",
       "[1631 rows x 4 columns]"
      ]
     },
     "execution_count": 18,
     "metadata": {},
     "output_type": "execute_result"
    }
   ],
   "source": [
    "confidence_threshold = 0.9\n",
    "df_bbox['predClass'] = [getClassFromPred(pred,confidence_threshold) for pred in preds]\n",
    "df_bbox['predClassName'] = df_bbox['predClass'].map(classDict)\n",
    "df_bbox"
   ]
  },
  {
   "cell_type": "markdown",
   "id": "6c66e16d",
   "metadata": {},
   "source": [
    "# Annotating Original Image"
   ]
  },
  {
   "cell_type": "markdown",
   "id": "6d038699",
   "metadata": {},
   "source": [
    "Now that we have a list of all predicted classes, if we wanted to annotate the `crater` class onto the original image we can do so as follows. We will first have to subset the data frame by our class"
   ]
  },
  {
   "cell_type": "code",
   "execution_count": 19,
   "id": "b2de1e0b",
   "metadata": {
    "ExecuteTime": {
     "end_time": "2022-06-02T14:21:08.224543Z",
     "start_time": "2022-06-02T14:21:08.195537Z"
    },
    "scrolled": true
   },
   "outputs": [
    {
     "data": {
      "text/html": [
       "<div>\n",
       "<style scoped>\n",
       "    .dataframe tbody tr th:only-of-type {\n",
       "        vertical-align: middle;\n",
       "    }\n",
       "\n",
       "    .dataframe tbody tr th {\n",
       "        vertical-align: top;\n",
       "    }\n",
       "\n",
       "    .dataframe thead th {\n",
       "        text-align: right;\n",
       "    }\n",
       "</style>\n",
       "<table border=\"1\" class=\"dataframe\">\n",
       "  <thead>\n",
       "    <tr style=\"text-align: right;\">\n",
       "      <th></th>\n",
       "      <th>bbox_bounds</th>\n",
       "      <th>winsize</th>\n",
       "      <th>predClass</th>\n",
       "      <th>predClassName</th>\n",
       "    </tr>\n",
       "  </thead>\n",
       "  <tbody>\n",
       "    <tr>\n",
       "      <th>10</th>\n",
       "      <td>(0, 1250, 208, 1458)</td>\n",
       "      <td>208</td>\n",
       "      <td>1</td>\n",
       "      <td>crater</td>\n",
       "    </tr>\n",
       "    <tr>\n",
       "      <th>12</th>\n",
       "      <td>(0, 1500, 208, 1708)</td>\n",
       "      <td>208</td>\n",
       "      <td>1</td>\n",
       "      <td>crater</td>\n",
       "    </tr>\n",
       "    <tr>\n",
       "      <th>63</th>\n",
       "      <td>(125, 250, 333, 458)</td>\n",
       "      <td>208</td>\n",
       "      <td>1</td>\n",
       "      <td>crater</td>\n",
       "    </tr>\n",
       "    <tr>\n",
       "      <th>118</th>\n",
       "      <td>(125, 7125, 333, 7333)</td>\n",
       "      <td>208</td>\n",
       "      <td>1</td>\n",
       "      <td>crater</td>\n",
       "    </tr>\n",
       "    <tr>\n",
       "      <th>189</th>\n",
       "      <td>(375, 750, 583, 958)</td>\n",
       "      <td>208</td>\n",
       "      <td>1</td>\n",
       "      <td>crater</td>\n",
       "    </tr>\n",
       "    <tr>\n",
       "      <th>249</th>\n",
       "      <td>(500, 625, 708, 833)</td>\n",
       "      <td>208</td>\n",
       "      <td>1</td>\n",
       "      <td>crater</td>\n",
       "    </tr>\n",
       "    <tr>\n",
       "      <th>251</th>\n",
       "      <td>(500, 875, 708, 1083)</td>\n",
       "      <td>208</td>\n",
       "      <td>1</td>\n",
       "      <td>crater</td>\n",
       "    </tr>\n",
       "    <tr>\n",
       "      <th>258</th>\n",
       "      <td>(500, 1750, 708, 1958)</td>\n",
       "      <td>208</td>\n",
       "      <td>1</td>\n",
       "      <td>crater</td>\n",
       "    </tr>\n",
       "    <tr>\n",
       "      <th>304</th>\n",
       "      <td>(500, 7500, 708, 7708)</td>\n",
       "      <td>208</td>\n",
       "      <td>1</td>\n",
       "      <td>crater</td>\n",
       "    </tr>\n",
       "    <tr>\n",
       "      <th>317</th>\n",
       "      <td>(625, 1500, 833, 1708)</td>\n",
       "      <td>208</td>\n",
       "      <td>1</td>\n",
       "      <td>crater</td>\n",
       "    </tr>\n",
       "    <tr>\n",
       "      <th>320</th>\n",
       "      <td>(625, 1875, 833, 2083)</td>\n",
       "      <td>208</td>\n",
       "      <td>1</td>\n",
       "      <td>crater</td>\n",
       "    </tr>\n",
       "    <tr>\n",
       "      <th>330</th>\n",
       "      <td>(625, 3125, 833, 3333)</td>\n",
       "      <td>208</td>\n",
       "      <td>1</td>\n",
       "      <td>crater</td>\n",
       "    </tr>\n",
       "    <tr>\n",
       "      <th>349</th>\n",
       "      <td>(625, 5500, 833, 5708)</td>\n",
       "      <td>208</td>\n",
       "      <td>1</td>\n",
       "      <td>crater</td>\n",
       "    </tr>\n",
       "    <tr>\n",
       "      <th>423</th>\n",
       "      <td>(750, 7125, 958, 7333)</td>\n",
       "      <td>208</td>\n",
       "      <td>1</td>\n",
       "      <td>crater</td>\n",
       "    </tr>\n",
       "    <tr>\n",
       "      <th>438</th>\n",
       "      <td>(875, 1375, 1083, 1583)</td>\n",
       "      <td>208</td>\n",
       "      <td>1</td>\n",
       "      <td>crater</td>\n",
       "    </tr>\n",
       "    <tr>\n",
       "      <th>473</th>\n",
       "      <td>(875, 5750, 1083, 5958)</td>\n",
       "      <td>208</td>\n",
       "      <td>1</td>\n",
       "      <td>crater</td>\n",
       "    </tr>\n",
       "    <tr>\n",
       "      <th>582</th>\n",
       "      <td>(1125, 4125, 1333, 4333)</td>\n",
       "      <td>208</td>\n",
       "      <td>1</td>\n",
       "      <td>crater</td>\n",
       "    </tr>\n",
       "    <tr>\n",
       "      <th>595</th>\n",
       "      <td>(1125, 5750, 1333, 5958)</td>\n",
       "      <td>208</td>\n",
       "      <td>1</td>\n",
       "      <td>crater</td>\n",
       "    </tr>\n",
       "    <tr>\n",
       "      <th>644</th>\n",
       "      <td>(1250, 4250, 1458, 4458)</td>\n",
       "      <td>208</td>\n",
       "      <td>1</td>\n",
       "      <td>crater</td>\n",
       "    </tr>\n",
       "    <tr>\n",
       "      <th>656</th>\n",
       "      <td>(1250, 5750, 1458, 5958)</td>\n",
       "      <td>208</td>\n",
       "      <td>1</td>\n",
       "      <td>crater</td>\n",
       "    </tr>\n",
       "    <tr>\n",
       "      <th>659</th>\n",
       "      <td>(1250, 6125, 1458, 6333)</td>\n",
       "      <td>208</td>\n",
       "      <td>1</td>\n",
       "      <td>crater</td>\n",
       "    </tr>\n",
       "    <tr>\n",
       "      <th>665</th>\n",
       "      <td>(1250, 6875, 1458, 7083)</td>\n",
       "      <td>208</td>\n",
       "      <td>1</td>\n",
       "      <td>crater</td>\n",
       "    </tr>\n",
       "    <tr>\n",
       "      <th>666</th>\n",
       "      <td>(1250, 7000, 1458, 7208)</td>\n",
       "      <td>208</td>\n",
       "      <td>1</td>\n",
       "      <td>crater</td>\n",
       "    </tr>\n",
       "    <tr>\n",
       "      <th>677</th>\n",
       "      <td>(1375, 750, 1583, 958)</td>\n",
       "      <td>208</td>\n",
       "      <td>1</td>\n",
       "      <td>crater</td>\n",
       "    </tr>\n",
       "    <tr>\n",
       "      <th>686</th>\n",
       "      <td>(1375, 1875, 1583, 2083)</td>\n",
       "      <td>208</td>\n",
       "      <td>1</td>\n",
       "      <td>crater</td>\n",
       "    </tr>\n",
       "    <tr>\n",
       "      <th>718</th>\n",
       "      <td>(1375, 5875, 1583, 6083)</td>\n",
       "      <td>208</td>\n",
       "      <td>1</td>\n",
       "      <td>crater</td>\n",
       "    </tr>\n",
       "    <tr>\n",
       "      <th>747</th>\n",
       "      <td>(1500, 1875, 1708, 2083)</td>\n",
       "      <td>208</td>\n",
       "      <td>1</td>\n",
       "      <td>crater</td>\n",
       "    </tr>\n",
       "    <tr>\n",
       "      <th>751</th>\n",
       "      <td>(1500, 2375, 1708, 2583)</td>\n",
       "      <td>208</td>\n",
       "      <td>1</td>\n",
       "      <td>crater</td>\n",
       "    </tr>\n",
       "    <tr>\n",
       "      <th>851</th>\n",
       "      <td>(1625, 7250, 1833, 7458)</td>\n",
       "      <td>208</td>\n",
       "      <td>1</td>\n",
       "      <td>crater</td>\n",
       "    </tr>\n",
       "    <tr>\n",
       "      <th>914</th>\n",
       "      <td>(1750, 7500, 1958, 7708)</td>\n",
       "      <td>208</td>\n",
       "      <td>1</td>\n",
       "      <td>crater</td>\n",
       "    </tr>\n",
       "    <tr>\n",
       "      <th>942</th>\n",
       "      <td>(0, 4482, 278, 4760)</td>\n",
       "      <td>278</td>\n",
       "      <td>1</td>\n",
       "      <td>crater</td>\n",
       "    </tr>\n",
       "    <tr>\n",
       "      <th>946</th>\n",
       "      <td>(0, 5146, 278, 5424)</td>\n",
       "      <td>278</td>\n",
       "      <td>1</td>\n",
       "      <td>crater</td>\n",
       "    </tr>\n",
       "    <tr>\n",
       "      <th>960</th>\n",
       "      <td>(0, 7470, 278, 7748)</td>\n",
       "      <td>278</td>\n",
       "      <td>1</td>\n",
       "      <td>crater</td>\n",
       "    </tr>\n",
       "    <tr>\n",
       "      <th>962</th>\n",
       "      <td>(166, 166, 444, 444)</td>\n",
       "      <td>278</td>\n",
       "      <td>1</td>\n",
       "      <td>crater</td>\n",
       "    </tr>\n",
       "    <tr>\n",
       "      <th>966</th>\n",
       "      <td>(166, 830, 444, 1108)</td>\n",
       "      <td>278</td>\n",
       "      <td>1</td>\n",
       "      <td>crater</td>\n",
       "    </tr>\n",
       "    <tr>\n",
       "      <th>973</th>\n",
       "      <td>(166, 1992, 444, 2270)</td>\n",
       "      <td>278</td>\n",
       "      <td>1</td>\n",
       "      <td>crater</td>\n",
       "    </tr>\n",
       "    <tr>\n",
       "      <th>1046</th>\n",
       "      <td>(332, 6474, 610, 6752)</td>\n",
       "      <td>278</td>\n",
       "      <td>1</td>\n",
       "      <td>crater</td>\n",
       "    </tr>\n",
       "    <tr>\n",
       "      <th>1069</th>\n",
       "      <td>(498, 2656, 776, 2934)</td>\n",
       "      <td>278</td>\n",
       "      <td>1</td>\n",
       "      <td>crater</td>\n",
       "    </tr>\n",
       "    <tr>\n",
       "      <th>1070</th>\n",
       "      <td>(498, 2822, 776, 3100)</td>\n",
       "      <td>278</td>\n",
       "      <td>1</td>\n",
       "      <td>crater</td>\n",
       "    </tr>\n",
       "    <tr>\n",
       "      <th>1115</th>\n",
       "      <td>(664, 2656, 942, 2934)</td>\n",
       "      <td>278</td>\n",
       "      <td>1</td>\n",
       "      <td>crater</td>\n",
       "    </tr>\n",
       "    <tr>\n",
       "      <th>1149</th>\n",
       "      <td>(830, 664, 1108, 942)</td>\n",
       "      <td>278</td>\n",
       "      <td>1</td>\n",
       "      <td>crater</td>\n",
       "    </tr>\n",
       "    <tr>\n",
       "      <th>1173</th>\n",
       "      <td>(830, 4648, 1108, 4926)</td>\n",
       "      <td>278</td>\n",
       "      <td>1</td>\n",
       "      <td>crater</td>\n",
       "    </tr>\n",
       "    <tr>\n",
       "      <th>1247</th>\n",
       "      <td>(1162, 1660, 1440, 1938)</td>\n",
       "      <td>278</td>\n",
       "      <td>1</td>\n",
       "      <td>crater</td>\n",
       "    </tr>\n",
       "    <tr>\n",
       "      <th>1249</th>\n",
       "      <td>(1162, 1992, 1440, 2270)</td>\n",
       "      <td>278</td>\n",
       "      <td>1</td>\n",
       "      <td>crater</td>\n",
       "    </tr>\n",
       "    <tr>\n",
       "      <th>1274</th>\n",
       "      <td>(1162, 6142, 1440, 6420)</td>\n",
       "      <td>278</td>\n",
       "      <td>1</td>\n",
       "      <td>crater</td>\n",
       "    </tr>\n",
       "    <tr>\n",
       "      <th>1295</th>\n",
       "      <td>(1328, 1992, 1606, 2270)</td>\n",
       "      <td>278</td>\n",
       "      <td>1</td>\n",
       "      <td>crater</td>\n",
       "    </tr>\n",
       "    <tr>\n",
       "      <th>1335</th>\n",
       "      <td>(1494, 996, 1772, 1274)</td>\n",
       "      <td>278</td>\n",
       "      <td>1</td>\n",
       "      <td>crater</td>\n",
       "    </tr>\n",
       "    <tr>\n",
       "      <th>1346</th>\n",
       "      <td>(1494, 2822, 1772, 3100)</td>\n",
       "      <td>278</td>\n",
       "      <td>1</td>\n",
       "      <td>crater</td>\n",
       "    </tr>\n",
       "    <tr>\n",
       "      <th>1435</th>\n",
       "      <td>(0, 3500, 416, 3916)</td>\n",
       "      <td>416</td>\n",
       "      <td>1</td>\n",
       "      <td>crater</td>\n",
       "    </tr>\n",
       "    <tr>\n",
       "      <th>1488</th>\n",
       "      <td>(500, 1750, 916, 2166)</td>\n",
       "      <td>416</td>\n",
       "      <td>1</td>\n",
       "      <td>crater</td>\n",
       "    </tr>\n",
       "    <tr>\n",
       "      <th>1501</th>\n",
       "      <td>(500, 5000, 916, 5416)</td>\n",
       "      <td>416</td>\n",
       "      <td>1</td>\n",
       "      <td>crater</td>\n",
       "    </tr>\n",
       "    <tr>\n",
       "      <th>1546</th>\n",
       "      <td>(1000, 1250, 1416, 1666)</td>\n",
       "      <td>416</td>\n",
       "      <td>1</td>\n",
       "      <td>crater</td>\n",
       "    </tr>\n",
       "    <tr>\n",
       "      <th>1549</th>\n",
       "      <td>(1000, 2000, 1416, 2416)</td>\n",
       "      <td>416</td>\n",
       "      <td>1</td>\n",
       "      <td>crater</td>\n",
       "    </tr>\n",
       "    <tr>\n",
       "      <th>1589</th>\n",
       "      <td>(1250, 4500, 1666, 4916)</td>\n",
       "      <td>416</td>\n",
       "      <td>1</td>\n",
       "      <td>crater</td>\n",
       "    </tr>\n",
       "  </tbody>\n",
       "</table>\n",
       "</div>"
      ],
      "text/plain": [
       "                   bbox_bounds  winsize  predClass predClassName\n",
       "10        (0, 1250, 208, 1458)      208          1        crater\n",
       "12        (0, 1500, 208, 1708)      208          1        crater\n",
       "63        (125, 250, 333, 458)      208          1        crater\n",
       "118     (125, 7125, 333, 7333)      208          1        crater\n",
       "189       (375, 750, 583, 958)      208          1        crater\n",
       "249       (500, 625, 708, 833)      208          1        crater\n",
       "251      (500, 875, 708, 1083)      208          1        crater\n",
       "258     (500, 1750, 708, 1958)      208          1        crater\n",
       "304     (500, 7500, 708, 7708)      208          1        crater\n",
       "317     (625, 1500, 833, 1708)      208          1        crater\n",
       "320     (625, 1875, 833, 2083)      208          1        crater\n",
       "330     (625, 3125, 833, 3333)      208          1        crater\n",
       "349     (625, 5500, 833, 5708)      208          1        crater\n",
       "423     (750, 7125, 958, 7333)      208          1        crater\n",
       "438    (875, 1375, 1083, 1583)      208          1        crater\n",
       "473    (875, 5750, 1083, 5958)      208          1        crater\n",
       "582   (1125, 4125, 1333, 4333)      208          1        crater\n",
       "595   (1125, 5750, 1333, 5958)      208          1        crater\n",
       "644   (1250, 4250, 1458, 4458)      208          1        crater\n",
       "656   (1250, 5750, 1458, 5958)      208          1        crater\n",
       "659   (1250, 6125, 1458, 6333)      208          1        crater\n",
       "665   (1250, 6875, 1458, 7083)      208          1        crater\n",
       "666   (1250, 7000, 1458, 7208)      208          1        crater\n",
       "677     (1375, 750, 1583, 958)      208          1        crater\n",
       "686   (1375, 1875, 1583, 2083)      208          1        crater\n",
       "718   (1375, 5875, 1583, 6083)      208          1        crater\n",
       "747   (1500, 1875, 1708, 2083)      208          1        crater\n",
       "751   (1500, 2375, 1708, 2583)      208          1        crater\n",
       "851   (1625, 7250, 1833, 7458)      208          1        crater\n",
       "914   (1750, 7500, 1958, 7708)      208          1        crater\n",
       "942       (0, 4482, 278, 4760)      278          1        crater\n",
       "946       (0, 5146, 278, 5424)      278          1        crater\n",
       "960       (0, 7470, 278, 7748)      278          1        crater\n",
       "962       (166, 166, 444, 444)      278          1        crater\n",
       "966      (166, 830, 444, 1108)      278          1        crater\n",
       "973     (166, 1992, 444, 2270)      278          1        crater\n",
       "1046    (332, 6474, 610, 6752)      278          1        crater\n",
       "1069    (498, 2656, 776, 2934)      278          1        crater\n",
       "1070    (498, 2822, 776, 3100)      278          1        crater\n",
       "1115    (664, 2656, 942, 2934)      278          1        crater\n",
       "1149     (830, 664, 1108, 942)      278          1        crater\n",
       "1173   (830, 4648, 1108, 4926)      278          1        crater\n",
       "1247  (1162, 1660, 1440, 1938)      278          1        crater\n",
       "1249  (1162, 1992, 1440, 2270)      278          1        crater\n",
       "1274  (1162, 6142, 1440, 6420)      278          1        crater\n",
       "1295  (1328, 1992, 1606, 2270)      278          1        crater\n",
       "1335   (1494, 996, 1772, 1274)      278          1        crater\n",
       "1346  (1494, 2822, 1772, 3100)      278          1        crater\n",
       "1435      (0, 3500, 416, 3916)      416          1        crater\n",
       "1488    (500, 1750, 916, 2166)      416          1        crater\n",
       "1501    (500, 5000, 916, 5416)      416          1        crater\n",
       "1546  (1000, 1250, 1416, 1666)      416          1        crater\n",
       "1549  (1000, 2000, 1416, 2416)      416          1        crater\n",
       "1589  (1250, 4500, 1666, 4916)      416          1        crater"
      ]
     },
     "execution_count": 19,
     "metadata": {},
     "output_type": "execute_result"
    }
   ],
   "source": [
    "df_crater = df_bbox[df_bbox.predClassName == 'crater']\n",
    "df_crater"
   ]
  },
  {
   "cell_type": "code",
   "execution_count": 20,
   "id": "715c7b6e",
   "metadata": {
    "ExecuteTime": {
     "end_time": "2022-06-02T14:21:08.240546Z",
     "start_time": "2022-06-02T14:21:08.225543Z"
    }
   },
   "outputs": [],
   "source": [
    "# Creating a color map\n",
    "colorMap = {0: '#0796FF',\n",
    "            1: '#FF00F4',\n",
    "            2: '#FF9700',\n",
    "            3: '#8DFF00',\n",
    "            4: '#F277FD',\n",
    "            5: '#FF008B',\n",
    "            6: '#00475C',\n",
    "            7: '#000000'}"
   ]
  },
  {
   "cell_type": "code",
   "execution_count": null,
   "id": "2f359669",
   "metadata": {
    "ExecuteTime": {
     "end_time": "2022-06-02T14:21:12.009931Z",
     "start_time": "2022-06-02T14:21:08.242547Z"
    }
   },
   "outputs": [],
   "source": [
    "mask_img = Image.new(\"RGBA\", (img_width, img_height), (0, 0, 0, 0))\n",
    "\n",
    "for idx in range(0, df_crater.shape[0]):  \n",
    "    drawBoundingRectangle(df_crater.iloc[idx]['bbox_bounds'],\n",
    "                          mask_img,\n",
    "                          color=colorMap[df_crater.iloc[idx]['predClass']]\n",
    "                                         )\n",
    "\n",
    "im2 = im1.convert('RGB')\n",
    "im2.paste(mask_img,(0,0),mask_img)\n",
    "im2"
   ]
  },
  {
   "cell_type": "markdown",
   "id": "72aa9038",
   "metadata": {},
   "source": [
    "# Performance\n",
    "\n",
    "Although my approach to bounding features may be a little rudimentary. A lot of the overlapping bounding boxes can be cleaned up with some advanced such as *Intersection Over Union*. However, there is currently a bigger  issue with the model. Lets look at the distribution of the positive predictions."
   ]
  },
  {
   "cell_type": "code",
   "execution_count": 22,
   "id": "001edb7b",
   "metadata": {
    "ExecuteTime": {
     "end_time": "2022-06-02T14:21:12.025934Z",
     "start_time": "2022-06-02T14:21:12.010931Z"
    }
   },
   "outputs": [
    {
     "data": {
      "text/plain": [
       "other     0.890865\n",
       "-         0.076027\n",
       "crater    0.033109\n",
       "Name: predClassName, dtype: float64"
      ]
     },
     "execution_count": 22,
     "metadata": {},
     "output_type": "execute_result"
    }
   ],
   "source": [
    "df_bbox.predClassName.value_counts(normalize=True)"
   ]
  },
  {
   "cell_type": "markdown",
   "id": "5d4a9c49",
   "metadata": {},
   "source": [
    "This shows that the model is still overwhelmingly predicting the `other` class. In fact, looking at this distribution, if we were to annotate the image with our `other` class, it'll be covered with annotations. Lets have a quick look."
   ]
  },
  {
   "cell_type": "code",
   "execution_count": null,
   "id": "8007d4b0",
   "metadata": {
    "ExecuteTime": {
     "end_time": "2022-06-02T14:21:15.426962Z",
     "start_time": "2022-06-02T14:21:12.027935Z"
    },
    "scrolled": false
   },
   "outputs": [],
   "source": [
    "df_other = df_bbox[df_bbox.predClassName == 'other']\n",
    "\n",
    "mask_img = Image.new(\"RGBA\", (img_width, img_height), (0, 0, 0, 0))\n",
    "\n",
    "for idx in range(0, df_other.shape[0]):  \n",
    "    drawBoundingRectangle(df_other.iloc[idx]['bbox_bounds'],\n",
    "                          mask_img,\n",
    "                          color=colorMap[df_other.iloc[idx]['predClass']]\n",
    "                                         )\n",
    "\n",
    "im2 = im1.convert('RGB')\n",
    "im2.paste(mask_img,(0,0),mask_img)\n",
    "im2"
   ]
  },
  {
   "cell_type": "markdown",
   "id": "dcff9cb9",
   "metadata": {},
   "source": [
    "Remember that each one of these patches had to overcome a confidence threshold of 90%! It seems that the massive imbalance in conjunction with the confounding nature of a \"catch-all\" class severely hampers the predictive capabilities of the model.\n",
    "\n",
    "Even though my model performed with an accuracy of 92% on the test set, lets have a more detailed breakdown of the classification."
   ]
  },
  {
   "cell_type": "code",
   "execution_count": 40,
   "id": "c5d9e0ff",
   "metadata": {
    "ExecuteTime": {
     "end_time": "2022-06-02T14:32:22.244607Z",
     "start_time": "2022-06-02T14:32:08.625574Z"
    },
    "scrolled": true
   },
   "outputs": [
    {
     "name": "stdout",
     "output_type": "stream",
     "text": [
      "1793/1793 [==============================] - 13s 7ms/step\n"
     ]
    }
   ],
   "source": [
    "test_actual = test_generator.classes\n",
    "test_preds_proba = final_model.predict(test_generator)\n",
    "test_preds = np.argmax(test_preds_proba, axis=1)"
   ]
  },
  {
   "cell_type": "code",
   "execution_count": 45,
   "id": "99d26d10",
   "metadata": {
    "ExecuteTime": {
     "end_time": "2022-06-02T14:39:02.803628Z",
     "start_time": "2022-06-02T14:39:02.788625Z"
    }
   },
   "outputs": [
    {
     "data": {
      "text/plain": [
       "array([0, 0, 0, ..., 7, 7, 7])"
      ]
     },
     "execution_count": 45,
     "metadata": {},
     "output_type": "execute_result"
    }
   ],
   "source": [
    "test_actual"
   ]
  },
  {
   "cell_type": "code",
   "execution_count": 42,
   "id": "e6443ce7",
   "metadata": {
    "ExecuteTime": {
     "end_time": "2022-06-02T14:32:28.075300Z",
     "start_time": "2022-06-02T14:32:28.057296Z"
    }
   },
   "outputs": [
    {
     "data": {
      "text/plain": [
       "array([4, 4, 4, ..., 4, 4, 4], dtype=int64)"
      ]
     },
     "execution_count": 42,
     "metadata": {},
     "output_type": "execute_result"
    }
   ],
   "source": [
    "test_preds"
   ]
  },
  {
   "cell_type": "code",
   "execution_count": 25,
   "id": "50b1e264",
   "metadata": {
    "ExecuteTime": {
     "end_time": "2022-06-02T14:21:30.600754Z",
     "start_time": "2022-06-02T14:21:30.117682Z"
    }
   },
   "outputs": [
    {
     "data": {
      "image/png": "[encoded data removed]",
      "text/plain": [
       "<Figure size 1296x1296 with 2 Axes>"
      ]
     },
     "metadata": {
      "needs_background": "light"
     },
     "output_type": "display_data"
    }
   ],
   "source": [
    "fig, ax = plt.subplots(figsize=(18,18))\n",
    "disp = ConfusionMatrixDisplay(confusion_matrix(test_actual, test_preds),\n",
    "                              display_labels=test_generator.class_indices\n",
    "                             )\n",
    "\n",
    "disp.plot(ax=ax,cmap='Reds');"
   ]
  },
  {
   "cell_type": "code",
   "execution_count": 26,
   "id": "fa5df44f",
   "metadata": {
    "ExecuteTime": {
     "end_time": "2022-06-02T14:21:30.632760Z",
     "start_time": "2022-06-02T14:21:30.607755Z"
    }
   },
   "outputs": [
    {
     "name": "stdout",
     "output_type": "stream",
     "text": [
      "              precision    recall  f1-score   support\n",
      "\n",
      "           0       0.00      0.00      0.00        16\n",
      "           1       0.07      0.06      0.06        89\n",
      "           2       0.02      0.02      0.02        66\n",
      "           3       0.00      0.00      0.00         7\n",
      "           4       0.83      0.87      0.84      1482\n",
      "           5       0.00      0.00      0.00        49\n",
      "           6       0.00      0.00      0.00        42\n",
      "           7       0.07      0.07      0.07        42\n",
      "\n",
      "    accuracy                           0.72      1793\n",
      "   macro avg       0.12      0.13      0.12      1793\n",
      "weighted avg       0.69      0.72      0.70      1793\n",
      "\n"
     ]
    }
   ],
   "source": [
    "print(classification_report(test_actual, test_preds))"
   ]
  },
  {
   "cell_type": "markdown",
   "id": "9627b28d",
   "metadata": {},
   "source": [
    "Looking at this classification report and the confusion matrix, I'll have to reassess how to use *model.predict()* and *model.evaluate()*.\n",
    "Accuracy from *model.evaluate()* and this report should be fairly close if not identical when performed on the same dataset. "
   ]
  },
  {
   "cell_type": "markdown",
   "id": "098e0e7a",
   "metadata": {},
   "source": [
    "# Conclusion\n",
    "The final chosen model was the VGG16 pretrained model which was run through 500 more iterations to fine tune the weights for my particular problem set. \n",
    "Although the metrics of the final model is quantitatively satisfactory, its performance on true unseen data was poor. The imbalance in the dataset aside, the class of `others` was essentially a catch all for images that couldn't be classified into the other categories and/or human labelers had a hard time classifying in general. \n",
    "\n",
    "Even to the human eye these might look like they belong to the same set of features but they do not. The images belong to the classes `crater`, `impact ejecta` and `other` respectively.\n",
    "\n",
    "![img](./savedFigs/eg_crater.jpg) \n",
    "![img](./savedFigs/eg_impactejecta.jpg) \n",
    "![img](./savedFigs/eg_other.jpg) \n",
    "\n",
    "One potential way of solving this issue would be to get even more data, but more importantly labeled data. This is especially true for the underepresented features like `spider`s and `impact ejecta`s. Completely reassessing how to classify these images might also help."
   ]
  },
  {
   "cell_type": "markdown",
   "id": "1fb43261",
   "metadata": {},
   "source": [
    "# Next Steps:\n",
    "\n",
    "- Retrain AlexNet and LeNet with a smaller learning rate for a high number of iterations\n",
    "- Use pretrained weights for AlexNet and LeNet\n",
    "- Train the VGG16 model for more epochs for a smaller learning rate, however I believe at this point there will be some diminishing returns.\n",
    "- Undersample or drop the majority class `other` and see if resulting models are better at delineating features. Initial forays into this were not too promising.\n",
    "- Gather more labeled data to help minority representation.\n",
    "- Implement *Intersection Over Union* to clean up annotation of images\n",
    "\n",
    "\n",
    "# Citations: \n",
    "\n",
    "[Gradient-Based Learning Applied to Document Recognition](http://yann.lecun.com/exdb/publis/pdf/lecun-98.pdf) - LeNet-5 - Yann LeCun, Léon Bottou, Yoshua Bengio, Patrick Haffner  \n",
    "[ImageNet Classification with Deep Convolutional Neural Networks](\\https://proceedings.neurips.cc/paper/2012/file/c399862d3b9d6b76c8436e924a68c45b-Paper.pdf) - AlexNet - Alex Krizhevsky,\n",
    "Ilya Sutskever,\n",
    "Geoffrey E. Hinton  \n",
    "[Very Deep Convolutional Networks for Large-Scale Image Recognition](https://arxiv.org/abs/1409.1556) - VGG - Karen Simonyan, Andrew Zisserman  \n",
    "\n",
    "[HiRISE](https://www.uahirise.org/) - The Lunar & Planetray Laboratory at University of Arizona - Database of HiRISE images\n",
    "\n",
    "[Cross-Entropy Loss Function](https://towardsdatascience.com/cross-entropy-loss-function-f38c4ec8643e) - A more detailed explanation\n",
    "\n",
    "\n",
    "[![DOI](https://zenodo.org/badge/DOI/10.5281/zenodo.4002935.svg)](https://doi.org/10.5281/zenodo.4002935)"
   ]
  },
  {
   "cell_type": "code",
   "execution_count": null,
   "id": "970c93c4",
   "metadata": {},
   "outputs": [],
   "source": []
  },
  {
   "cell_type": "code",
   "execution_count": null,
   "id": "0d417aab",
   "metadata": {},
   "outputs": [],
   "source": []
  }
 ],
 "metadata": {
  "kernelspec": {
   "display_name": "tfGPU",
   "language": "python",
   "name": "tfgpu"
  },
  "language_info": {
   "codemirror_mode": {
    "name": "ipython",
    "version": 3
   },
   "file_extension": ".py",
   "mimetype": "text/x-python",
   "name": "python",
   "nbconvert_exporter": "python",
   "pygments_lexer": "ipython3",
   "version": "3.9.12"
  },
  "toc": {
   "base_numbering": 1,
   "nav_menu": {},
   "number_sections": true,
   "sideBar": true,
   "skip_h1_title": false,
   "title_cell": "Table of Contents",
   "title_sidebar": "Contents",
   "toc_cell": false,
   "toc_position": {
    "height": "calc(100% - 180px)",
    "left": "10px",
    "top": "150px",
    "width": "265px"
   },
   "toc_section_display": true,
   "toc_window_display": true
  },
  "varInspector": {
   "cols": {
    "lenName": 16,
    "lenType": 16,
    "lenVar": 40
   },
   "kernels_config": {
    "python": {
     "delete_cmd_postfix": "",
     "delete_cmd_prefix": "del ",
     "library": "var_list.py",
     "varRefreshCmd": "print(var_dic_list())"
    },
    "r": {
     "delete_cmd_postfix": ") ",
     "delete_cmd_prefix": "rm(",
     "library": "var_list.r",
     "varRefreshCmd": "cat(var_dic_list()) "
    }
   },
   "position": {
    "height": "395.844px",
    "left": "1187px",
    "right": "20px",
    "top": "120px",
    "width": "713px"
   },
   "types_to_exclude": [
    "module",
    "function",
    "builtin_function_or_method",
    "instance",
    "_Feature"
   ],
   "window_display": false
  }
 },
 "nbformat": 4,
 "nbformat_minor": 5
}
