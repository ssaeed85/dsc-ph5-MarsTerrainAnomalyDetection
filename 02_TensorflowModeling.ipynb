{
 "cells": [
  {
   "cell_type": "code",
   "execution_count": 5,
   "id": "bfb10eb5",
   "metadata": {
    "ExecuteTime": {
     "end_time": "2022-05-20T05:43:41.250627Z",
     "start_time": "2022-05-20T05:43:41.241625Z"
    }
   },
   "outputs": [],
   "source": [
    "import numpy as np\n",
    "import pandas as pd\n",
    "import matplotlib.pyplot as plt\n",
    "from PIL import Image"
   ]
  },
  {
   "cell_type": "code",
   "execution_count": 6,
   "id": "88cdbde8",
   "metadata": {
    "ExecuteTime": {
     "end_time": "2022-05-20T05:43:41.265630Z",
     "start_time": "2022-05-20T05:43:41.251627Z"
    }
   },
   "outputs": [],
   "source": [
    "from tensorflow.keras.preprocessing.image import ImageDataGenerator\n",
    "from tensorflow.keras import layers, models, optimizers, losses\n",
    "from tensorflow.keras.callbacks import EarlyStopping\n",
    "from tensorflow.keras.metrics import Precision, Recall\n",
    "import tensorflow as tf\n",
    "tf.random.set_seed(\n",
    "    42\n",
    ")\n",
    "\n",
    "\n",
    "import seaborn as sns"
   ]
  },
  {
   "cell_type": "code",
   "execution_count": 7,
   "id": "cedc2fa4",
   "metadata": {
    "ExecuteTime": {
     "end_time": "2022-05-20T05:43:41.281635Z",
     "start_time": "2022-05-20T05:43:41.266631Z"
    }
   },
   "outputs": [],
   "source": [
    "# import tensorflow as tf\n",
    "# tf.config.list_physical_devices()"
   ]
  },
  {
   "cell_type": "code",
   "execution_count": 55,
   "id": "675595a8",
   "metadata": {
    "ExecuteTime": {
     "end_time": "2022-05-20T06:06:22.190100Z",
     "start_time": "2022-05-20T06:06:22.174097Z"
    }
   },
   "outputs": [],
   "source": [
    "def display_mode_trainTestGraphs(results):\n",
    "    train_loss = results.history['loss']\n",
    "    train_acc = results.history['accuracy']    \n",
    "    train_prec = results.history['precision_2']\n",
    "    train_recall = results.history['recall_2']\n",
    "    \n",
    "    val_loss = results.history['val_loss']\n",
    "    val_acc = results.history['val_accuracy']\n",
    "    val_prec = results.history['val_precision_2']\n",
    "    val_recall = results.history['val_recall_2']\n",
    "\n",
    "    fig, (ax1,ax2,ax3,ax4) = plt.subplots(1, 4, figsize=(20, 5))\n",
    "    \n",
    "    sns.lineplot(x=results.epoch, y=train_loss, ax=ax1, label='train_loss')\n",
    "    sns.lineplot(x=results.epoch, y=train_acc, ax=ax2, label='train_accuracy')\n",
    "    sns.lineplot(x=results.epoch, y=train_prec, ax=ax3, label='train_precision')\n",
    "    sns.lineplot(x=results.epoch, y=train_recall, ax=ax4, label='train_recall')\n",
    "\n",
    "    sns.lineplot(x=results.epoch, y=val_loss, ax=ax1, label='val_loss')\n",
    "    sns.lineplot(x=results.epoch, y=val_acc, ax=ax2, label='val_accuracy')\n",
    "    sns.lineplot(x=results.epoch, y=val_prec, ax=ax3, label='val_precision')\n",
    "    sns.lineplot(x=results.epoch, y=val_recall, ax=ax4, label='val_recall')\n",
    "    \n",
    "    ax1.set_title('Loss')\n",
    "    ax2.set_title('Accuracy')\n",
    "    ax3.set_title('Precision')\n",
    "    ax4.set_title('Recall')\n",
    "    ax1.legend();"
   ]
  },
  {
   "cell_type": "markdown",
   "id": "f0f9083e",
   "metadata": {},
   "source": [
    "# Training Set"
   ]
  },
  {
   "cell_type": "code",
   "execution_count": 24,
   "id": "a0cca13b",
   "metadata": {
    "ExecuteTime": {
     "end_time": "2022-05-20T05:46:12.617017Z",
     "start_time": "2022-05-20T05:46:11.323389Z"
    }
   },
   "outputs": [
    {
     "name": "stdout",
     "output_type": "stream",
     "text": [
      "Found 48979 images belonging to 8 classes.\n"
     ]
    }
   ],
   "source": [
    "# Normalizing data for 8 bit\n",
    "train_datagen = ImageDataGenerator(rescale=1./255)\n",
    "\n",
    "train_generator = train_datagen.flow_from_directory(\n",
    "    'images/train/',\n",
    "    target_size = (227,227),\n",
    "    batch_size=256,\n",
    "    color_mode='grayscale',\n",
    "    class_mode='categorical'\n",
    ")"
   ]
  },
  {
   "cell_type": "markdown",
   "id": "247ebf8d",
   "metadata": {},
   "source": [
    "# Validation Set"
   ]
  },
  {
   "cell_type": "code",
   "execution_count": 25,
   "id": "3aadb4f2",
   "metadata": {
    "ExecuteTime": {
     "end_time": "2022-05-20T05:46:13.275477Z",
     "start_time": "2022-05-20T05:46:12.883388Z"
    }
   },
   "outputs": [
    {
     "name": "stdout",
     "output_type": "stream",
     "text": [
      "Found 14175 images belonging to 8 classes.\n"
     ]
    }
   ],
   "source": [
    "# Normalizing data for 8 bit\n",
    "val_datagen = ImageDataGenerator(rescale=1./255)\n",
    "\n",
    "val_generator = val_datagen.flow_from_directory(\n",
    "    'images/val/',\n",
    "    target_size = (227,227),\n",
    "    batch_size=256,\n",
    "    color_mode='grayscale',\n",
    "    class_mode='categorical'\n",
    ")"
   ]
  },
  {
   "cell_type": "markdown",
   "id": "73165c25",
   "metadata": {},
   "source": [
    "# Test Set"
   ]
  },
  {
   "cell_type": "code",
   "execution_count": 26,
   "id": "2f37fcc9",
   "metadata": {
    "ExecuteTime": {
     "end_time": "2022-05-20T05:46:13.602216Z",
     "start_time": "2022-05-20T05:46:13.541202Z"
    }
   },
   "outputs": [
    {
     "name": "stdout",
     "output_type": "stream",
     "text": [
      "Found 1793 images belonging to 8 classes.\n"
     ]
    }
   ],
   "source": [
    "# Normalizing data for 8 bit\n",
    "test_datagen = ImageDataGenerator(rescale=1./255)\n",
    "\n",
    "test_generator = test_datagen.flow_from_directory(\n",
    "    'images/test/',\n",
    "    target_size = (227,227),\n",
    "    batch_size=256,\n",
    "    color_mode='grayscale',\n",
    "    class_mode='categorical'\n",
    ")"
   ]
  },
  {
   "cell_type": "markdown",
   "id": "555655e6",
   "metadata": {},
   "source": [
    "# Modeling"
   ]
  },
  {
   "cell_type": "code",
   "execution_count": 27,
   "id": "5a46149f",
   "metadata": {
    "ExecuteTime": {
     "end_time": "2022-05-20T05:46:16.167578Z",
     "start_time": "2022-05-20T05:46:16.162586Z"
    }
   },
   "outputs": [],
   "source": [
    "early_stop = EarlyStopping(monitor='val_loss', \n",
    "                           min_delta=1e-8,\n",
    "                           verbose=1,\n",
    "                           patience = 5,\n",
    "                           restore_best_weights=True,\n",
    "                           mode='min')"
   ]
  },
  {
   "cell_type": "markdown",
   "id": "88e289ec",
   "metadata": {},
   "source": [
    "## Model 1 - Simple CNN"
   ]
  },
  {
   "cell_type": "code",
   "execution_count": 28,
   "id": "9c324130",
   "metadata": {
    "ExecuteTime": {
     "end_time": "2022-05-20T05:46:18.349120Z",
     "start_time": "2022-05-20T05:46:18.315112Z"
    }
   },
   "outputs": [
    {
     "name": "stdout",
     "output_type": "stream",
     "text": [
      "Model: \"sequential_2\"\n",
      "_________________________________________________________________\n",
      " Layer (type)                Output Shape              Param #   \n",
      "=================================================================\n",
      " conv2d_2 (Conv2D)           (None, 225, 225, 32)      320       \n",
      "                                                                 \n",
      " max_pooling2d_2 (MaxPooling  (None, 112, 112, 32)     0         \n",
      " 2D)                                                             \n",
      "                                                                 \n",
      " flatten_2 (Flatten)         (None, 401408)            0         \n",
      "                                                                 \n",
      " dense_2 (Dense)             (None, 8)                 3211272   \n",
      "                                                                 \n",
      "=================================================================\n",
      "Total params: 3,211,592\n",
      "Trainable params: 3,211,592\n",
      "Non-trainable params: 0\n",
      "_________________________________________________________________\n"
     ]
    }
   ],
   "source": [
    "model = models.Sequential()\n",
    "\n",
    "model.add(layers.Conv2D(filters=32,\n",
    "                       kernel_size=3,\n",
    "                       activation='relu',\n",
    "                       input_shape=(227,227,1)))\n",
    "model.add(layers.MaxPooling2D(2,2))\n",
    "\n",
    "model.add(layers.Flatten())\n",
    "model.add(layers.Dense(8, activation='softmax'))\n",
    "\n",
    "\n",
    "model.compile(optimizer=optimizers.Adam(learning_rate=0.001),\n",
    "              loss=losses.CategoricalCrossentropy(),\n",
    "              metrics=['accuracy', Precision(), Recall()])\n",
    "\n",
    "\n",
    "model.summary()"
   ]
  },
  {
   "cell_type": "code",
   "execution_count": 29,
   "id": "2879d776",
   "metadata": {
    "ExecuteTime": {
     "end_time": "2022-05-20T05:51:08.967069Z",
     "start_time": "2022-05-20T05:46:24.379507Z"
    }
   },
   "outputs": [
    {
     "name": "stdout",
     "output_type": "stream",
     "text": [
      "Epoch 1/50\n",
      "192/192 [==============================] - 36s 183ms/step - loss: 1.3709 - accuracy: 0.7947 - precision_2: 0.8026 - recall_2: 0.7789 - val_loss: 0.8172 - val_accuracy: 0.7923 - val_precision_2: 0.7934 - val_recall_2: 0.7903\n",
      "Epoch 2/50\n",
      "192/192 [==============================] - 36s 185ms/step - loss: 0.5966 - accuracy: 0.8278 - precision_2: 0.8376 - recall_2: 0.8181 - val_loss: 0.8355 - val_accuracy: 0.7881 - val_precision_2: 0.7986 - val_recall_2: 0.7704\n",
      "Epoch 3/50\n",
      "192/192 [==============================] - 35s 184ms/step - loss: 0.5004 - accuracy: 0.8465 - precision_2: 0.8578 - recall_2: 0.8347 - val_loss: 0.7908 - val_accuracy: 0.7949 - val_precision_2: 0.8019 - val_recall_2: 0.7848\n",
      "Epoch 4/50\n",
      "192/192 [==============================] - 36s 185ms/step - loss: 0.4092 - accuracy: 0.8713 - precision_2: 0.8819 - recall_2: 0.8601 - val_loss: 0.8519 - val_accuracy: 0.7915 - val_precision_2: 0.8005 - val_recall_2: 0.7762\n",
      "Epoch 5/50\n",
      "192/192 [==============================] - 35s 183ms/step - loss: 0.3380 - accuracy: 0.8933 - precision_2: 0.9028 - recall_2: 0.8832 - val_loss: 0.8747 - val_accuracy: 0.7951 - val_precision_2: 0.7984 - val_recall_2: 0.7915\n",
      "Epoch 6/50\n",
      "192/192 [==============================] - 36s 187ms/step - loss: 0.2852 - accuracy: 0.9113 - precision_2: 0.9191 - recall_2: 0.9032 - val_loss: 0.8661 - val_accuracy: 0.7866 - val_precision_2: 0.7960 - val_recall_2: 0.7762\n",
      "Epoch 7/50\n",
      "192/192 [==============================] - 35s 184ms/step - loss: 0.2377 - accuracy: 0.9279 - precision_2: 0.9343 - recall_2: 0.9209 - val_loss: 0.9133 - val_accuracy: 0.7914 - val_precision_2: 0.7972 - val_recall_2: 0.7845\n",
      "Epoch 8/50\n",
      "192/192 [==============================] - ETA: 0s - loss: 0.2066 - accuracy: 0.9376 - precision_2: 0.9432 - recall_2: 0.9320Restoring model weights from the end of the best epoch: 3.\n",
      "192/192 [==============================] - 36s 185ms/step - loss: 0.2066 - accuracy: 0.9376 - precision_2: 0.9432 - recall_2: 0.9320 - val_loss: 0.9048 - val_accuracy: 0.7857 - val_precision_2: 0.7921 - val_recall_2: 0.7754\n",
      "Epoch 8: early stopping\n"
     ]
    }
   ],
   "source": [
    "results = model.fit(train_generator,\n",
    "                    callbacks=early_stop,\n",
    "                    epochs=50,  # Number of epochs\n",
    "                    validation_data=val_generator,\n",
    "                    verbose=1\n",
    "                    )"
   ]
  },
  {
   "cell_type": "code",
   "execution_count": 56,
   "id": "baec099c",
   "metadata": {
    "ExecuteTime": {
     "end_time": "2022-05-20T06:06:25.876262Z",
     "start_time": "2022-05-20T06:06:25.542186Z"
    }
   },
   "outputs": [
    {
     "data": {
      "image/png": "[encoded data removed]",
      "text/plain": [
       "<Figure size 1440x360 with 4 Axes>"
      ]
     },
     "metadata": {
      "needs_background": "light"
     },
     "output_type": "display_data"
    }
   ],
   "source": [
    "display_mode_trainTestGraphs(results)"
   ]
  },
  {
   "cell_type": "markdown",
   "id": "196d86ea",
   "metadata": {},
   "source": [
    "Validation loss from the very beginning never improved and overall accuracy went down"
   ]
  },
  {
   "cell_type": "code",
   "execution_count": 33,
   "id": "0c3882d2",
   "metadata": {
    "ExecuteTime": {
     "end_time": "2022-05-20T05:53:24.263130Z",
     "start_time": "2022-05-20T05:53:24.252127Z"
    }
   },
   "outputs": [
    {
     "data": {
      "text/plain": [
       "dict_keys(['loss', 'accuracy', 'precision_2', 'recall_2', 'val_loss', 'val_accuracy', 'val_precision_2', 'val_recall_2'])"
      ]
     },
     "execution_count": 33,
     "metadata": {},
     "output_type": "execute_result"
    }
   ],
   "source": [
    "results.history.keys()"
   ]
  },
  {
   "cell_type": "code",
   "execution_count": null,
   "id": "205b1c6b",
   "metadata": {},
   "outputs": [],
   "source": []
  },
  {
   "cell_type": "code",
   "execution_count": 43,
   "id": "4e898f0b",
   "metadata": {
    "ExecuteTime": {
     "end_time": "2022-05-20T06:03:03.785783Z",
     "start_time": "2022-05-20T06:03:03.773780Z"
    }
   },
   "outputs": [
    {
     "data": {
      "text/plain": [
       "array([<AxesSubplot:>, <AxesSubplot:>], dtype=object)"
      ]
     },
     "execution_count": 43,
     "metadata": {},
     "output_type": "execute_result"
    }
   ],
   "source": [
    "ax1"
   ]
  },
  {
   "cell_type": "code",
   "execution_count": null,
   "id": "03784af0",
   "metadata": {},
   "outputs": [],
   "source": []
  },
  {
   "cell_type": "code",
   "execution_count": null,
   "id": "7a4990d6",
   "metadata": {},
   "outputs": [],
   "source": []
  },
  {
   "cell_type": "code",
   "execution_count": null,
   "id": "812a81bf",
   "metadata": {},
   "outputs": [],
   "source": []
  },
  {
   "cell_type": "code",
   "execution_count": null,
   "id": "0234e769",
   "metadata": {
    "ExecuteTime": {
     "end_time": "2022-05-19T03:37:14.919559Z",
     "start_time": "2022-05-19T03:37:14.861546Z"
    },
    "scrolled": false
   },
   "outputs": [],
   "source": [
    "model = models.Sequential()\n",
    "\n",
    "model.add(layers.Conv2D(filters=32,\n",
    "                       kernel_size=3,\n",
    "                       activation='relu',\n",
    "                       input_shape=(227,227,1)))\n",
    "model.add(layers.MaxPooling2D(2,2))\n",
    "\n",
    "model.add(layers.Conv2D(32, 3, activation='relu'))\n",
    "model.add(layers.MaxPooling2D(2,2))\n",
    "\n",
    "model.add(layers.Conv2D(64, 3, activation='relu'))\n",
    "model.add(layers.MaxPooling2D(2,2))\n",
    "\n",
    "model.add(layers.Flatten())\n",
    "model.add(layers.Dense(128, activation='relu'))\n",
    "model.add(layers.Dense(8, activation='softmax'))\n",
    "\n",
    "\n",
    "model.compile(optimizer=optimizers.Adam(learning_rate=0.001),\n",
    "              loss=losses.CategoricalCrossentropy(),\n",
    "              metrics=['accuracy', Precision(), Recall()])\n",
    "\n",
    "\n",
    "model.summary()"
   ]
  },
  {
   "cell_type": "code",
   "execution_count": null,
   "id": "8f61daa3",
   "metadata": {
    "ExecuteTime": {
     "end_time": "2022-05-19T03:43:25.522644Z",
     "start_time": "2022-05-19T03:37:17.062618Z"
    },
    "scrolled": false
   },
   "outputs": [],
   "source": [
    "results = model.fit(train_generator,\n",
    "                    callbacks=callback,\n",
    "                    epochs=50,  # Number of epochs\n",
    "                    validation_data=val_generator,\n",
    "                    verbose=1\n",
    "                    )"
   ]
  },
  {
   "cell_type": "code",
   "execution_count": null,
   "id": "9f82de03",
   "metadata": {
    "ExecuteTime": {
     "end_time": "2022-05-19T03:51:46.996861Z",
     "start_time": "2022-05-19T03:51:46.815821Z"
    },
    "scrolled": true
   },
   "outputs": [],
   "source": [
    "display_mode_trainTestGraphs(results)"
   ]
  },
  {
   "cell_type": "markdown",
   "id": "1fe7d087",
   "metadata": {
    "ExecuteTime": {
     "end_time": "2022-05-19T03:52:55.613596Z",
     "start_time": "2022-05-19T03:52:55.607594Z"
    }
   },
   "source": [
    "## Model 2"
   ]
  },
  {
   "cell_type": "markdown",
   "id": "237f688b",
   "metadata": {},
   "source": [
    "Increasing steps in epoch"
   ]
  },
  {
   "cell_type": "code",
   "execution_count": null,
   "id": "afcf0ef4",
   "metadata": {
    "ExecuteTime": {
     "end_time": "2022-05-19T03:55:03.399786Z",
     "start_time": "2022-05-19T03:55:03.343774Z"
    },
    "scrolled": false
   },
   "outputs": [],
   "source": [
    "model = models.Sequential()\n",
    "\n",
    "model.add(layers.Conv2D(filters=16,\n",
    "                       kernel_size=(3,3),\n",
    "                       activation='relu',\n",
    "                       input_shape=(227,227,1)))\n",
    "model.add(layers.MaxPooling2D(2,2))\n",
    "\n",
    "model.add(layers.Conv2D(32, (3,3), activation='relu'))\n",
    "model.add(layers.MaxPooling2D(2,2))\n",
    "\n",
    "model.add(layers.Conv2D(64, (3,3), activation='relu'))\n",
    "model.add(layers.MaxPooling2D(2,2))\n",
    "\n",
    "model.add(layers.Flatten())\n",
    "model.add(layers.Dense(128, activation='relu'))\n",
    "model.add(layers.Dense(8, activation='softmax'))\n",
    "\n",
    "\n",
    "model.compile(optimizer=optimizers.Adam(learning_rate=0.001),\n",
    "              loss=losses.CategoricalCrossentropy(),\n",
    "              metrics=['accuracy'])\n",
    "\n",
    "\n",
    "model.summary()"
   ]
  },
  {
   "cell_type": "code",
   "execution_count": null,
   "id": "dbd6aadb",
   "metadata": {
    "ExecuteTime": {
     "end_time": "2022-05-19T04:10:41.481847Z",
     "start_time": "2022-05-19T03:55:15.312167Z"
    },
    "scrolled": false
   },
   "outputs": [],
   "source": [
    "results = model.fit(train_generator,\n",
    "                    steps_per_epoch=150,  # Number of training samples to pull per epoch\n",
    "                    epochs=50,  # Number of epochs\n",
    "                    validation_data=val_generator,\n",
    "                    validation_steps=100,  # Number of validation samples to run validation on\n",
    "                    verbose=1\n",
    "                    )"
   ]
  },
  {
   "cell_type": "code",
   "execution_count": null,
   "id": "fc578d36",
   "metadata": {
    "ExecuteTime": {
     "end_time": "2022-05-19T04:10:41.798970Z",
     "start_time": "2022-05-19T04:10:41.609927Z"
    },
    "scrolled": true
   },
   "outputs": [],
   "source": [
    "display_mode_trainTestGraphs(results)"
   ]
  },
  {
   "cell_type": "markdown",
   "id": "9d54d609",
   "metadata": {},
   "source": [
    "## Model: VGG16"
   ]
  },
  {
   "cell_type": "code",
   "execution_count": null,
   "id": "126a3e6c",
   "metadata": {},
   "outputs": [],
   "source": []
  },
  {
   "cell_type": "markdown",
   "id": "c3f6e724",
   "metadata": {},
   "source": [
    "## Model 3: DNN"
   ]
  },
  {
   "cell_type": "code",
   "execution_count": null,
   "id": "a4d1fe06",
   "metadata": {
    "ExecuteTime": {
     "end_time": "2022-05-19T16:36:18.606606Z",
     "start_time": "2022-05-19T16:36:18.520596Z"
    }
   },
   "outputs": [],
   "source": [
    "model = models.Sequential()\n",
    "\n",
    "model.add(layers.Conv2D(filters=16,\n",
    "                       kernel_size=(3,3),\n",
    "                       activation='relu',\n",
    "                       input_shape=(227,227,1)))\n",
    "model.add(layers.MaxPooling2D(2,2))\n",
    "\n",
    "model.add(layers.Conv2D(32, (3,3), activation='relu'))\n",
    "model.add(layers.MaxPooling2D(2,2))\n",
    "\n",
    "model.add(layers.Conv2D(64, (3,3), activation='relu'))\n",
    "model.add(layers.MaxPooling2D(2,2))\n",
    "\n",
    "model.add(layers.Conv2D(128, (3,3), activation='relu'))\n",
    "model.add(layers.MaxPooling2D(2,2))\n",
    "\n",
    "model.add(layers.Flatten())\n",
    "model.add(layers.Dense(512, activation='relu'))\n",
    "model.add(layers.Dense(512, activation='relu'))\n",
    "model.add(layers.Dense(8, activation='softmax'))\n",
    "\n",
    "\n",
    "model.compile(optimizer=optimizers.Adam(learning_rate=0.001),\n",
    "              loss=losses.CategoricalCrossentropy(),\n",
    "              metrics=['accuracy'])\n",
    "\n",
    "\n",
    "model.summary()"
   ]
  },
  {
   "cell_type": "code",
   "execution_count": null,
   "id": "9eb03e91",
   "metadata": {
    "ExecuteTime": {
     "end_time": "2022-05-19T16:46:56.393403Z",
     "start_time": "2022-05-19T16:37:32.960788Z"
    },
    "scrolled": false
   },
   "outputs": [],
   "source": [
    "results = model.fit(train_generator,\n",
    "                    steps_per_epoch=100,  # Number of training samples to pull per epoch\n",
    "                    epochs=50,  # Number of epochs\n",
    "                    validation_data=val_generator,\n",
    "                    validation_steps=50,  # Number of validation samples to run validation on\n",
    "                    verbose=1\n",
    "                    )"
   ]
  },
  {
   "cell_type": "code",
   "execution_count": null,
   "id": "98994066",
   "metadata": {
    "ExecuteTime": {
     "end_time": "2022-05-19T16:50:01.928264Z",
     "start_time": "2022-05-19T16:50:01.713329Z"
    }
   },
   "outputs": [],
   "source": [
    "display_mode_trainTestGraphs(results)"
   ]
  },
  {
   "cell_type": "markdown",
   "id": "87fe08f4",
   "metadata": {},
   "source": [
    "## Adding a dropout layer and furthering depth"
   ]
  },
  {
   "cell_type": "code",
   "execution_count": null,
   "id": "588a1057",
   "metadata": {
    "ExecuteTime": {
     "end_time": "2022-05-19T16:53:38.103076Z",
     "start_time": "2022-05-19T16:53:38.018056Z"
    }
   },
   "outputs": [],
   "source": [
    "model = models.Sequential()\n",
    "\n",
    "model.add(layers.Conv2D(filters=16,\n",
    "                       kernel_size=(3,3),\n",
    "                       activation='relu',\n",
    "                       input_shape=(227,227,1)))\n",
    "model.add(layers.MaxPooling2D(2,2))\n",
    "\n",
    "model.add(layers.Conv2D(32, (3,3), activation='relu'))\n",
    "model.add(layers.MaxPooling2D(2,2))\n",
    "\n",
    "model.add(layers.Conv2D(64, (3,3), activation='relu'))\n",
    "model.add(layers.Conv2D(64, (3,3), activation='relu'))\n",
    "model.add(layers.MaxPooling2D(2,2))\n",
    "\n",
    "model.add(layers.Conv2D(128, (3,3), activation='relu'))\n",
    "model.add(layers.Conv2D(128, (3,3), activation='relu'))\n",
    "model.add(layers.MaxPooling2D(2,2))\n",
    "\n",
    "model.add(layers.Flatten())\n",
    "model.add(layers.Dense(1024, activation='relu'))\n",
    "model.add(layers.Dense(512, activation='relu'))\n",
    "model.add(layers.Dropout(rate=0.2))\n",
    "model.add(layers.Dense(8, activation='softmax'))\n",
    "\n",
    "\n",
    "model.compile(optimizer=optimizers.Adam(learning_rate=0.001),\n",
    "              loss=losses.CategoricalCrossentropy(),\n",
    "              metrics=['accuracy'])\n",
    "\n",
    "\n",
    "model.summary()"
   ]
  },
  {
   "cell_type": "code",
   "execution_count": null,
   "id": "20cd4027",
   "metadata": {
    "ExecuteTime": {
     "end_time": "2022-05-19T17:03:40.719392Z",
     "start_time": "2022-05-19T16:53:49.434343Z"
    }
   },
   "outputs": [],
   "source": [
    "results = model.fit(train_generator,\n",
    "                    steps_per_epoch=100,  # Number of training samples to pull per epoch\n",
    "                    epochs=50,  # Number of epochs\n",
    "                    validation_data=val_generator,\n",
    "                    validation_steps=50,  # Number of validation samples to run validation on\n",
    "                    verbose=1\n",
    "                    )"
   ]
  },
  {
   "cell_type": "code",
   "execution_count": null,
   "id": "6c2e2501",
   "metadata": {
    "ExecuteTime": {
     "end_time": "2022-05-19T17:03:41.034513Z",
     "start_time": "2022-05-19T17:03:40.848471Z"
    }
   },
   "outputs": [],
   "source": [
    "display_mode_trainTestGraphs(results)"
   ]
  },
  {
   "cell_type": "code",
   "execution_count": null,
   "id": "c801c53b",
   "metadata": {
    "ExecuteTime": {
     "end_time": "2022-05-19T17:11:46.072628Z",
     "start_time": "2022-05-19T17:11:45.980607Z"
    }
   },
   "outputs": [],
   "source": [
    "## Increasing dropout rate\n",
    "model = models.Sequential()\n",
    "\n",
    "model.add(layers.Conv2D(filters=16,\n",
    "                       kernel_size=(3,3),\n",
    "                       activation='relu',\n",
    "                       input_shape=(227,227,1)))\n",
    "model.add(layers.MaxPooling2D(2,2))\n",
    "\n",
    "model.add(layers.Conv2D(32, (3,3), activation='relu'))\n",
    "model.add(layers.MaxPooling2D(2,2))\n",
    "\n",
    "model.add(layers.Conv2D(64, (3,3), activation='relu'))\n",
    "model.add(layers.Conv2D(64, (3,3), activation='relu'))\n",
    "model.add(layers.MaxPooling2D(2,2))\n",
    "\n",
    "model.add(layers.Conv2D(128, (3,3), activation='relu'))\n",
    "model.add(layers.Conv2D(128, (3,3), activation='relu'))\n",
    "model.add(layers.MaxPooling2D(2,2))\n",
    "\n",
    "model.add(layers.Flatten())\n",
    "model.add(layers.Dense(1024, activation='relu'))\n",
    "model.add(layers.Dense(512, activation='relu'))\n",
    "model.add(layers.Dropout(rate=0.5))\n",
    "model.add(layers.Dense(8, activation='softmax'))\n",
    "\n",
    "\n",
    "model.compile(optimizer=optimizers.Adam(learning_rate=0.001),\n",
    "              loss=losses.CategoricalCrossentropy(),\n",
    "              metrics=['accuracy'])\n",
    "\n",
    "\n",
    "model.summary()"
   ]
  },
  {
   "cell_type": "code",
   "execution_count": null,
   "id": "98b3f91b",
   "metadata": {
    "ExecuteTime": {
     "end_time": "2022-05-19T17:15:08.675184Z",
     "start_time": "2022-05-19T17:12:23.116690Z"
    }
   },
   "outputs": [],
   "source": [
    "results = model.fit(train_generator,\n",
    "                    steps_per_epoch=100,  # Number of training samples to pull per epoch\n",
    "                    epochs=50,  # Number of epochs\n",
    "                    validation_data=val_generator,\n",
    "                    validation_steps=50,  # Number of validation samples to run validation on\n",
    "                    verbose=1,\n",
    "                    callbacks = [early_stop]\n",
    "                    )"
   ]
  },
  {
   "cell_type": "code",
   "execution_count": null,
   "id": "a0bb5a20",
   "metadata": {
    "ExecuteTime": {
     "end_time": "2022-05-19T17:15:23.634367Z",
     "start_time": "2022-05-19T17:15:23.436192Z"
    }
   },
   "outputs": [],
   "source": [
    "display_mode_trainTestGraphs(results)"
   ]
  },
  {
   "cell_type": "code",
   "execution_count": null,
   "id": "63ab458b",
   "metadata": {},
   "outputs": [],
   "source": []
  },
  {
   "cell_type": "markdown",
   "id": "b919229c",
   "metadata": {},
   "source": [
    "## Even deeeeeper NN"
   ]
  },
  {
   "cell_type": "code",
   "execution_count": null,
   "id": "98af46a1",
   "metadata": {
    "ExecuteTime": {
     "end_time": "2022-05-19T17:25:51.030869Z",
     "start_time": "2022-05-19T17:25:50.933847Z"
    }
   },
   "outputs": [],
   "source": [
    "model = models.Sequential()\n",
    "\n",
    "model.add(layers.Conv2D(filters=16,\n",
    "                       kernel_size=(3,3),\n",
    "                       activation='relu',\n",
    "                       input_shape=(227,227,1)))\n",
    "model.add(layers.MaxPooling2D(2,2))\n",
    "\n",
    "model.add(layers.Conv2D(64, (3,3), activation='relu'))\n",
    "model.add(layers.Conv2D(64, (3,3), activation='relu'))\n",
    "model.add(layers.MaxPooling2D(2,2))\n",
    "\n",
    "model.add(layers.Conv2D(128, (3,3), activation='relu'))\n",
    "model.add(layers.Conv2D(128, (3,3), activation='relu'))\n",
    "model.add(layers.MaxPooling2D(2,2))\n",
    "\n",
    "model.add(layers.Conv2D(256, (3,3), activation='relu'))\n",
    "model.add(layers.Conv2D(256, (3,3), activation='relu'))\n",
    "model.add(layers.Conv2D(256, (3,3), activation='relu'))\n",
    "model.add(layers.MaxPooling2D(2,2))\n",
    "\n",
    "# model.add(layers.Conv2D(512, (3,3), activation='relu'))\n",
    "# model.add(layers.Conv2D(512, (3,3), activation='relu'))\n",
    "# model.add(layers.Conv2D(512, (3,3), activation='relu'))\n",
    "# model.add(layers.MaxPooling2D(2,2))\n",
    "\n",
    "model.add(layers.Flatten())\n",
    "model.add(layers.Dense(1024, activation='relu'))\n",
    "model.add(layers.Dense(1024, activation='relu'))\n",
    "model.add(layers.Dense(8, activation='softmax'))\n",
    "\n",
    "\n",
    "model.compile(optimizer=optimizers.Adam(learning_rate=0.001),\n",
    "              loss=losses.CategoricalCrossentropy(),\n",
    "              metrics=['accuracy'])\n",
    "\n",
    "\n",
    "model.summary()"
   ]
  },
  {
   "cell_type": "code",
   "execution_count": null,
   "id": "ab47fd7b",
   "metadata": {
    "ExecuteTime": {
     "end_time": "2022-05-19T17:30:56.619188Z",
     "start_time": "2022-05-19T17:25:51.910833Z"
    }
   },
   "outputs": [],
   "source": [
    "results = model.fit(train_generator,\n",
    "                    steps_per_epoch=100,  # Number of training samples to pull per epoch\n",
    "                    epochs=50,  # Number of epochs\n",
    "                    validation_data=val_generator,\n",
    "                    validation_steps=50,  # Number of validation samples to run validation on\n",
    "                    verbose=1,\n",
    "                    callbacks = [early_stop]\n",
    "                    )"
   ]
  },
  {
   "cell_type": "code",
   "execution_count": null,
   "id": "e1523524",
   "metadata": {
    "ExecuteTime": {
     "end_time": "2022-05-19T17:33:24.595631Z",
     "start_time": "2022-05-19T17:33:24.495609Z"
    }
   },
   "outputs": [],
   "source": [
    "# with dropout\n",
    "model = models.Sequential()\n",
    "\n",
    "model.add(layers.Conv2D(filters=16,\n",
    "                       kernel_size=(3,3),\n",
    "                       activation='relu',\n",
    "                       input_shape=(227,227,1)))\n",
    "model.add(layers.MaxPooling2D(2,2))\n",
    "\n",
    "model.add(layers.Conv2D(64, (3,3), activation='relu'))\n",
    "model.add(layers.Conv2D(64, (3,3), activation='relu'))\n",
    "model.add(layers.MaxPooling2D(2,2))\n",
    "\n",
    "model.add(layers.Conv2D(128, (3,3), activation='relu'))\n",
    "model.add(layers.Conv2D(128, (3,3), activation='relu'))\n",
    "model.add(layers.MaxPooling2D(2,2))\n",
    "\n",
    "model.add(layers.Conv2D(256, (3,3), activation='relu'))\n",
    "model.add(layers.Conv2D(256, (3,3), activation='relu'))\n",
    "model.add(layers.Conv2D(256, (3,3), activation='relu'))\n",
    "model.add(layers.MaxPooling2D(2,2))\n",
    "\n",
    "# model.add(layers.Conv2D(512, (3,3), activation='relu'))\n",
    "# model.add(layers.Conv2D(512, (3,3), activation='relu'))\n",
    "# model.add(layers.Conv2D(512, (3,3), activation='relu'))\n",
    "# model.add(layers.MaxPooling2D(2,2))\n",
    "\n",
    "model.add(layers.Flatten())\n",
    "model.add(layers.Dense(1024, activation='relu'))\n",
    "model.add(layers.Dense(1024, activation='relu'))\n",
    "model.add(layers.Dropout(rate=0.2))\n",
    "model.add(layers.Dense(8, activation='softmax'))\n",
    "\n",
    "\n",
    "model.compile(optimizer=optimizers.Adam(learning_rate=0.001),\n",
    "              loss=losses.CategoricalCrossentropy(),\n",
    "              metrics=['accuracy'])\n",
    "\n",
    "\n",
    "model.summary()"
   ]
  },
  {
   "cell_type": "code",
   "execution_count": null,
   "id": "34f536b3",
   "metadata": {
    "ExecuteTime": {
     "end_time": "2022-05-19T17:36:42.950171Z",
     "start_time": "2022-05-19T17:33:35.143142Z"
    }
   },
   "outputs": [],
   "source": [
    "results = model.fit(train_generator,\n",
    "                    steps_per_epoch=100,  # Number of training samples to pull per epoch\n",
    "                    epochs=50,  # Number of epochs\n",
    "                    validation_data=val_generator,\n",
    "                    validation_steps=50,  # Number of validation samples to run validation on\n",
    "                    verbose=1,\n",
    "                    callbacks = [early_stop]\n",
    "                    )"
   ]
  },
  {
   "cell_type": "code",
   "execution_count": null,
   "id": "bcc35aa3",
   "metadata": {
    "ExecuteTime": {
     "end_time": "2022-05-19T17:43:26.196133Z",
     "start_time": "2022-05-19T17:43:26.096110Z"
    }
   },
   "outputs": [],
   "source": [
    "# with dropout\n",
    "model = models.Sequential()\n",
    "\n",
    "model.add(layers.Conv2D(filters=16,\n",
    "                       kernel_size=(3,3),\n",
    "                       activation='relu',\n",
    "                       input_shape=(227,227,1)))\n",
    "model.add(layers.MaxPooling2D(2,2))\n",
    "\n",
    "model.add(layers.Conv2D(64, (3,3), activation='relu'))\n",
    "model.add(layers.Conv2D(64, (3,3), activation='relu'))\n",
    "model.add(layers.MaxPooling2D(2,2))\n",
    "\n",
    "model.add(layers.Conv2D(128, (3,3), activation='relu'))\n",
    "model.add(layers.Conv2D(128, (3,3), activation='relu'))\n",
    "model.add(layers.MaxPooling2D(2,2))\n",
    "\n",
    "model.add(layers.Conv2D(256, (3,3), activation='relu'))\n",
    "model.add(layers.Conv2D(256, (3,3), activation='relu'))\n",
    "model.add(layers.Conv2D(256, (3,3), activation='relu'))\n",
    "model.add(layers.MaxPooling2D(2,2))\n",
    "\n",
    "# model.add(layers.Conv2D(512, (3,3), activation='relu'))\n",
    "# model.add(layers.Conv2D(512, (3,3), activation='relu'))\n",
    "# model.add(layers.Conv2D(512, (3,3), activation='relu'))\n",
    "# model.add(layers.MaxPooling2D(2,2))\n",
    "\n",
    "model.add(layers.Flatten())\n",
    "model.add(layers.Dense(1024, activation='relu'))\n",
    "model.add(layers.Dense(512, activation='relu'))\n",
    "model.add(layers.Dropout(rate=0.2))\n",
    "model.add(layers.Dense(8, activation='softmax'))\n",
    "\n",
    "\n",
    "model.compile(optimizer=optimizers.Adam(learning_rate=0.001),\n",
    "              loss=losses.CategoricalCrossentropy(),\n",
    "              metrics=['accuracy'])\n",
    "\n",
    "\n",
    "model.summary()"
   ]
  },
  {
   "cell_type": "code",
   "execution_count": null,
   "id": "9b35d93c",
   "metadata": {
    "ExecuteTime": {
     "end_time": "2022-05-19T17:46:34.772104Z",
     "start_time": "2022-05-19T17:43:26.745045Z"
    }
   },
   "outputs": [],
   "source": [
    "results = model.fit(train_generator,\n",
    "                    steps_per_epoch=100,  # Number of training samples to pull per epoch\n",
    "                    epochs=50,  # Number of epochs\n",
    "                    validation_data=val_generator,\n",
    "                    validation_steps=50,  # Number of validation samples to run validation on\n",
    "                    verbose=1,\n",
    "                    callbacks = [early_stop]\n",
    "                    )"
   ]
  },
  {
   "cell_type": "markdown",
   "id": "ea1ff291",
   "metadata": {},
   "source": [
    "# Reducing multiple conv layers"
   ]
  },
  {
   "cell_type": "code",
   "execution_count": null,
   "id": "11e8e1aa",
   "metadata": {
    "ExecuteTime": {
     "end_time": "2022-05-19T18:13:27.127809Z",
     "start_time": "2022-05-19T18:13:27.052791Z"
    }
   },
   "outputs": [],
   "source": [
    "# with dropout\n",
    "model = models.Sequential()\n",
    "\n",
    "model.add(layers.Conv2D(filters=16,\n",
    "                       kernel_size=(3,3),\n",
    "                       activation='relu',\n",
    "                       input_shape=(227,227,1)))\n",
    "model.add(layers.MaxPooling2D(2,2))\n",
    "\n",
    "model.add(layers.Conv2D(64, (3,3), activation='relu'))\n",
    "model.add(layers.MaxPooling2D(2,2))\n",
    "\n",
    "model.add(layers.Conv2D(128, (3,3), activation='relu'))\n",
    "model.add(layers.MaxPooling2D(2,2))\n",
    "\n",
    "model.add(layers.Conv2D(256, (3,3), activation='relu'))\n",
    "model.add(layers.MaxPooling2D(2,2))\n",
    "\n",
    "model.add(layers.Conv2D(512, (3,3), activation='relu'))\n",
    "model.add(layers.MaxPooling2D(2,2))\n",
    "\n",
    "# model.add(layers.Conv2D(512, (3,3), activation='relu'))\n",
    "# model.add(layers.Conv2D(512, (3,3), activation='relu'))\n",
    "# model.add(layers.Conv2D(512, (3,3), activation='relu'))\n",
    "# model.add(layers.MaxPooling2D(2,2))\n",
    "\n",
    "model.add(layers.Flatten())\n",
    "model.add(layers.Dense(1024, activation='relu'))\n",
    "model.add(layers.Dense(512, activation='relu'))\n",
    "model.add(layers.Dropout(rate=0.2))\n",
    "model.add(layers.Dense(8, activation='softmax'))\n",
    "\n",
    "\n",
    "model.compile(optimizer=optimizers.Adam(learning_rate=0.001),\n",
    "              loss=losses.CategoricalCrossentropy(),\n",
    "              metrics=['accuracy'])\n",
    "\n",
    "\n",
    "model.summary()"
   ]
  },
  {
   "cell_type": "code",
   "execution_count": null,
   "id": "3dff70f1",
   "metadata": {
    "ExecuteTime": {
     "end_time": "2022-05-19T18:18:12.947894Z",
     "start_time": "2022-05-19T18:13:27.483770Z"
    }
   },
   "outputs": [],
   "source": [
    "results = model.fit(train_generator,\n",
    "                    steps_per_epoch=100,  # Number of training samples to pull per epoch\n",
    "                    epochs=50,  # Number of epochs\n",
    "                    validation_data=val_generator,\n",
    "                    validation_steps=100,  # Number of validation samples to run validation on\n",
    "                    verbose=1,\n",
    "                    callbacks = [early_stop]\n",
    "                    )"
   ]
  },
  {
   "cell_type": "code",
   "execution_count": null,
   "id": "ecd2a014",
   "metadata": {
    "ExecuteTime": {
     "end_time": "2022-05-19T18:18:13.281700Z",
     "start_time": "2022-05-19T18:18:13.076654Z"
    }
   },
   "outputs": [],
   "source": [
    "display_mode_trainTestGraphs(results)"
   ]
  },
  {
   "cell_type": "code",
   "execution_count": null,
   "id": "e479fc32",
   "metadata": {
    "ExecuteTime": {
     "end_time": "2022-05-19T21:26:13.499062Z",
     "start_time": "2022-05-19T21:20:12.941561Z"
    }
   },
   "outputs": [],
   "source": [
    "# reducing learning rate\n",
    "model = models.Sequential()\n",
    "\n",
    "model.add(layers.Conv2D(filters=16,\n",
    "                       kernel_size=(3,3),\n",
    "                       activation='relu',\n",
    "                       input_shape=(227,227,1)))\n",
    "model.add(layers.MaxPooling2D(2,2))\n",
    "\n",
    "model.add(layers.Conv2D(64, (3,3), activation='relu'))\n",
    "model.add(layers.MaxPooling2D(2,2))\n",
    "\n",
    "model.add(layers.Conv2D(128, (3,3), activation='relu'))\n",
    "model.add(layers.MaxPooling2D(2,2))\n",
    "\n",
    "model.add(layers.Conv2D(256, (3,3), activation='relu'))\n",
    "model.add(layers.MaxPooling2D(2,2))\n",
    "\n",
    "model.add(layers.Conv2D(512, (3,3), activation='relu'))\n",
    "# model.add(layers.Conv2D(512, (3,3), activation='relu'))\n",
    "model.add(layers.MaxPooling2D(2,2))\n",
    "\n",
    "# model.add(layers.Conv2D(512, (3,3), activation='relu'))\n",
    "# model.add(layers.Conv2D(512, (3,3), activation='relu'))\n",
    "# model.add(layers.Conv2D(512, (3,3), activation='relu'))\n",
    "# model.add(layers.MaxPooling2D(2,2))\n",
    "\n",
    "model.add(layers.Flatten())\n",
    "model.add(layers.Dense(1024, activation='relu'))\n",
    "model.add(layers.Dense(512, activation='relu'))\n",
    "model.add(layers.Dropout(rate=0.2))\n",
    "model.add(layers.Dense(8, activation='softmax'))\n",
    "\n",
    "\n",
    "model.compile(optimizer=optimizers.Adam(learning_rate=0.0001),\n",
    "              loss=losses.CategoricalCrossentropy(),\n",
    "              metrics=['accuracy'])\n",
    "\n",
    "\n",
    "\n",
    "results = model.fit(train_generator,\n",
    "                    steps_per_epoch=100,  # Number of training samples to pull per epoch\n",
    "                    epochs=50,  # Number of epochs\n",
    "                    validation_data=val_generator,\n",
    "                    validation_steps=100,  # Number of validation samples to run validation on\n",
    "                    verbose=1,\n",
    "                    callbacks = [early_stop]\n",
    "                    )"
   ]
  },
  {
   "cell_type": "code",
   "execution_count": null,
   "id": "2073ccc3",
   "metadata": {
    "ExecuteTime": {
     "end_time": "2022-05-19T21:26:13.831520Z",
     "start_time": "2022-05-19T21:26:13.625473Z"
    }
   },
   "outputs": [],
   "source": [
    "display_mode_trainTestGraphs(results)"
   ]
  },
  {
   "cell_type": "code",
   "execution_count": null,
   "id": "8cb6853a",
   "metadata": {
    "ExecuteTime": {
     "end_time": "2022-05-19T23:11:23.337834Z",
     "start_time": "2022-05-19T23:02:54.168879Z"
    }
   },
   "outputs": [],
   "source": [
    "# reducing learning rate\n",
    "model = models.Sequential()\n",
    "\n",
    "model.add(layers.Conv2D(filters=16,\n",
    "                       kernel_size=(3,3),\n",
    "                       activation='relu',\n",
    "                       input_shape=(227,227,1)))\n",
    "model.add(layers.MaxPooling2D(2,2))\n",
    "\n",
    "model.add(layers.Conv2D(64, (3,3), activation='relu'))\n",
    "model.add(layers.MaxPooling2D(2,2))\n",
    "\n",
    "model.add(layers.Conv2D(128, (3,3), activation='relu'))\n",
    "model.add(layers.MaxPooling2D(2,2))\n",
    "\n",
    "model.add(layers.Conv2D(256, (3,3), activation='relu'))\n",
    "model.add(layers.MaxPooling2D(2,2))\n",
    "\n",
    "model.add(layers.Conv2D(512, (3,3), activation='relu'))\n",
    "# model.add(layers.Conv2D(512, (3,3), activation='relu'))\n",
    "model.add(layers.MaxPooling2D(2,2))\n",
    "\n",
    "# model.add(layers.Conv2D(512, (3,3), activation='relu'))\n",
    "# model.add(layers.Conv2D(512, (3,3), activation='relu'))\n",
    "# model.add(layers.Conv2D(512, (3,3), activation='relu'))\n",
    "# model.add(layers.MaxPooling2D(2,2))\n",
    "\n",
    "model.add(layers.Flatten())\n",
    "model.add(layers.Dense(1024, activation='relu'))\n",
    "model.add(layers.Dense(512, activation='relu'))\n",
    "model.add(layers.Dropout(rate=0.2))\n",
    "model.add(layers.Dense(8, activation='softmax'))\n",
    "\n",
    "\n",
    "model.compile(optimizer=optimizers.Adam(learning_rate=0.0001),\n",
    "              loss=losses.CategoricalCrossentropy(),\n",
    "              metrics=['accuracy'])\n",
    "\n",
    "\n",
    "\n",
    "results = model.fit(train_generator,\n",
    "                    steps_per_epoch=200,  # Number of training samples to pull per epoch\n",
    "                    epochs=50,  # Number of epochs\n",
    "                    validation_data=val_generator,\n",
    "                    validation_steps=100,  # Number of validation samples to run validation on\n",
    "                    verbose=1,\n",
    "                    callbacks = [early_stop]\n",
    "                    )\n",
    "\n",
    "display_mode_trainTestGraphs(results)"
   ]
  },
  {
   "cell_type": "code",
   "execution_count": null,
   "id": "5e33b531",
   "metadata": {
    "ExecuteTime": {
     "end_time": "2022-05-19T23:29:53.311840Z",
     "start_time": "2022-05-19T23:17:09.010873Z"
    }
   },
   "outputs": [],
   "source": [
    "# reducing learning rate\n",
    "model = models.Sequential()\n",
    "\n",
    "model.add(layers.Conv2D(filters=16,\n",
    "                       kernel_size=(3,3),\n",
    "                       activation='relu',\n",
    "                       input_shape=(227,227,1)))\n",
    "model.add(layers.MaxPooling2D(2,2))\n",
    "\n",
    "model.add(layers.Conv2D(64, (3,3), activation='relu'))\n",
    "model.add(layers.MaxPooling2D(2,2))\n",
    "\n",
    "model.add(layers.Conv2D(128, (3,3), activation='relu'))\n",
    "model.add(layers.MaxPooling2D(2,2))\n",
    "\n",
    "model.add(layers.Conv2D(256, (3,3), activation='relu'))\n",
    "model.add(layers.MaxPooling2D(2,2))\n",
    "\n",
    "model.add(layers.Conv2D(512, (3,3), activation='relu'))\n",
    "model.add(layers.Conv2D(512, (3,3), activation='relu'))\n",
    "model.add(layers.MaxPooling2D(2,2))\n",
    "\n",
    "# model.add(layers.Conv2D(512, (3,3), activation='relu'))\n",
    "# model.add(layers.Conv2D(512, (3,3), activation='relu'))\n",
    "# model.add(layers.Conv2D(512, (3,3), activation='relu'))\n",
    "# model.add(layers.MaxPooling2D(2,2))\n",
    "\n",
    "model.add(layers.Flatten())\n",
    "model.add(layers.Dense(1024, activation='relu'))\n",
    "model.add(layers.Dense(512, activation='relu'))\n",
    "model.add(layers.Dropout(rate=0.2))\n",
    "model.add(layers.Dense(8, activation='softmax'))\n",
    "\n",
    "\n",
    "model.compile(optimizer=optimizers.Adam(learning_rate=0.0001),\n",
    "              loss=losses.CategoricalCrossentropy(),\n",
    "              metrics=['accuracy'])\n",
    "\n",
    "\n",
    "\n",
    "results = model.fit(train_generator,\n",
    "                    steps_per_epoch=200,  # Number of training samples to pull per epoch\n",
    "                    epochs=50,  # Number of epochs\n",
    "                    validation_data=val_generator,\n",
    "                    validation_steps=100,  # Number of validation samples to run validation on\n",
    "                    verbose=1,\n",
    "                    callbacks = [early_stop]\n",
    "                    )\n",
    "\n",
    "display_mode_trainTestGraphs(results)"
   ]
  },
  {
   "cell_type": "code",
   "execution_count": null,
   "id": "de559c42",
   "metadata": {
    "ExecuteTime": {
     "end_time": "2022-05-19T23:33:00.506875Z",
     "start_time": "2022-05-19T23:33:00.484869Z"
    }
   },
   "outputs": [],
   "source": [
    "model.summary()"
   ]
  },
  {
   "cell_type": "code",
   "execution_count": null,
   "id": "8a92c7c9",
   "metadata": {},
   "outputs": [],
   "source": []
  }
 ],
 "metadata": {
  "kernelspec": {
   "display_name": "tfGPU",
   "language": "python",
   "name": "tfgpu"
  },
  "language_info": {
   "codemirror_mode": {
    "name": "ipython",
    "version": 3
   },
   "file_extension": ".py",
   "mimetype": "text/x-python",
   "name": "python",
   "nbconvert_exporter": "python",
   "pygments_lexer": "ipython3",
   "version": "3.9.12"
  },
  "toc": {
   "base_numbering": 1,
   "nav_menu": {},
   "number_sections": true,
   "sideBar": true,
   "skip_h1_title": false,
   "title_cell": "Table of Contents",
   "title_sidebar": "Contents",
   "toc_cell": false,
   "toc_position": {},
   "toc_section_display": true,
   "toc_window_display": false
  },
  "varInspector": {
   "cols": {
    "lenName": 16,
    "lenType": 16,
    "lenVar": 40
   },
   "kernels_config": {
    "python": {
     "delete_cmd_postfix": "",
     "delete_cmd_prefix": "del ",
     "library": "var_list.py",
     "varRefreshCmd": "print(var_dic_list())"
    },
    "r": {
     "delete_cmd_postfix": ") ",
     "delete_cmd_prefix": "rm(",
     "library": "var_list.r",
     "varRefreshCmd": "cat(var_dic_list()) "
    }
   },
   "types_to_exclude": [
    "module",
    "function",
    "builtin_function_or_method",
    "instance",
    "_Feature"
   ],
   "window_display": false
  }
 },
 "nbformat": 4,
 "nbformat_minor": 5
}
