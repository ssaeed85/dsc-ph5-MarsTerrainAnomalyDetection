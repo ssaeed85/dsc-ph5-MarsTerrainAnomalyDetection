{
 "cells": [
  {
   "cell_type": "code",
   "execution_count": 1,
   "id": "0f329ebb",
   "metadata": {
    "ExecuteTime": {
     "end_time": "2022-05-19T03:26:57.268774Z",
     "start_time": "2022-05-19T03:26:56.423691Z"
    }
   },
   "outputs": [],
   "source": [
    "import numpy as np\n",
    "import pandas as pd\n",
    "import matplotlib.pyplot as plt\n",
    "from PIL import Image"
   ]
  },
  {
   "cell_type": "code",
   "execution_count": 35,
   "id": "24be7df4",
   "metadata": {
    "ExecuteTime": {
     "end_time": "2022-05-19T17:11:00.801662Z",
     "start_time": "2022-05-19T17:11:00.795662Z"
    }
   },
   "outputs": [],
   "source": [
    "from tensorflow.keras.preprocessing.image import ImageDataGenerator\n",
    "from tensorflow.keras import layers, models, optimizers, losses\n",
    "from tensorflow.keras.callbacks import EarlyStopping\n",
    "# import tensorflow as tf\n",
    "\n",
    "import seaborn as sns"
   ]
  },
  {
   "cell_type": "code",
   "execution_count": 3,
   "id": "df6f76e6",
   "metadata": {
    "ExecuteTime": {
     "end_time": "2022-05-19T03:26:59.872093Z",
     "start_time": "2022-05-19T03:26:59.858096Z"
    }
   },
   "outputs": [],
   "source": [
    "# import tensorflow as tf\n",
    "# tf.config.list_physical_devices()"
   ]
  },
  {
   "cell_type": "code",
   "execution_count": 15,
   "id": "1dec160c",
   "metadata": {
    "ExecuteTime": {
     "end_time": "2022-05-19T03:51:33.042341Z",
     "start_time": "2022-05-19T03:51:33.031333Z"
    }
   },
   "outputs": [],
   "source": [
    "def display_mode_trainTestGraphs(results):\n",
    "    train_loss = results.history['loss']\n",
    "    train_acc = results.history['accuracy']\n",
    "    val_loss = results.history['val_loss']\n",
    "    val_acc = results.history['val_accuracy']\n",
    "\n",
    "\n",
    "    fig, (ax1, ax2) = plt.subplots(1, 2, figsize=(10, 5))\n",
    "    sns.lineplot(x=results.epoch, y=train_loss, ax=ax1, label='train_loss')\n",
    "    sns.lineplot(x=results.epoch, y=train_acc, ax=ax2, label='train_accuracy')\n",
    "\n",
    "    sns.lineplot(x=results.epoch, y=val_loss, ax=ax1, label='val_loss')\n",
    "    sns.lineplot(x=results.epoch, y=val_acc, ax=ax2, label='val_accuracy')\n",
    "    ax1.set_title('Loss')\n",
    "    ax2.set_title('Accuracy')\n",
    "    ax1.legend();"
   ]
  },
  {
   "cell_type": "markdown",
   "id": "3b39f5b5",
   "metadata": {},
   "source": [
    "# Training Set"
   ]
  },
  {
   "cell_type": "code",
   "execution_count": 4,
   "id": "c034406d",
   "metadata": {
    "ExecuteTime": {
     "end_time": "2022-05-19T03:27:01.188304Z",
     "start_time": "2022-05-19T03:26:59.873095Z"
    }
   },
   "outputs": [
    {
     "name": "stdout",
     "output_type": "stream",
     "text": [
      "Found 48979 images belonging to 8 classes.\n"
     ]
    }
   ],
   "source": [
    "# Normalizing data for 8 bit\n",
    "train_datagen = ImageDataGenerator(rescale=1./255)\n",
    "\n",
    "train_generator = train_datagen.flow_from_directory(\n",
    "    'images/train/',\n",
    "    target_size = (227,227),\n",
    "    batch_size=128,\n",
    "    color_mode='grayscale',\n",
    "    class_mode='categorical'\n",
    ")"
   ]
  },
  {
   "cell_type": "markdown",
   "id": "27a573a0",
   "metadata": {},
   "source": [
    "# Validation Set"
   ]
  },
  {
   "cell_type": "code",
   "execution_count": 5,
   "id": "1762a06d",
   "metadata": {
    "ExecuteTime": {
     "end_time": "2022-05-19T03:27:01.581402Z",
     "start_time": "2022-05-19T03:27:01.192305Z"
    }
   },
   "outputs": [
    {
     "name": "stdout",
     "output_type": "stream",
     "text": [
      "Found 14175 images belonging to 8 classes.\n"
     ]
    }
   ],
   "source": [
    "# Normalizing data for 8 bit\n",
    "val_datagen = ImageDataGenerator(rescale=1./255)\n",
    "\n",
    "val_generator = val_datagen.flow_from_directory(\n",
    "    'images/val/',\n",
    "    target_size = (227,227),\n",
    "    batch_size=128,\n",
    "    color_mode='grayscale',\n",
    "    class_mode='categorical'\n",
    ")"
   ]
  },
  {
   "cell_type": "markdown",
   "id": "abbfa569",
   "metadata": {},
   "source": [
    "# Test Set"
   ]
  },
  {
   "cell_type": "code",
   "execution_count": 6,
   "id": "7318ba03",
   "metadata": {
    "ExecuteTime": {
     "end_time": "2022-05-19T03:27:01.643416Z",
     "start_time": "2022-05-19T03:27:01.582403Z"
    }
   },
   "outputs": [
    {
     "name": "stdout",
     "output_type": "stream",
     "text": [
      "Found 1793 images belonging to 8 classes.\n"
     ]
    }
   ],
   "source": [
    "# Normalizing data for 8 bit\n",
    "test_datagen = ImageDataGenerator(rescale=1./255)\n",
    "\n",
    "test_generator = test_datagen.flow_from_directory(\n",
    "    'images/test/',\n",
    "    target_size = (227,227),\n",
    "    batch_size=128,\n",
    "    color_mode='grayscale',\n",
    "    class_mode='categorical'\n",
    ")"
   ]
  },
  {
   "cell_type": "markdown",
   "id": "3db2b5cf",
   "metadata": {},
   "source": [
    "# Modeling"
   ]
  },
  {
   "cell_type": "code",
   "execution_count": 51,
   "id": "cd081bc5",
   "metadata": {
    "ExecuteTime": {
     "end_time": "2022-05-19T17:43:11.745007Z",
     "start_time": "2022-05-19T17:43:11.729004Z"
    }
   },
   "outputs": [],
   "source": [
    "early_stop = EarlyStopping(monitor='val_loss', \n",
    "                           min_delta=1e-8,\n",
    "                           verbose=1,\n",
    "                           patience = 5,\n",
    "                           mode='min')"
   ]
  },
  {
   "cell_type": "markdown",
   "id": "fb8d9104",
   "metadata": {},
   "source": [
    "## Model 1"
   ]
  },
  {
   "cell_type": "code",
   "execution_count": 12,
   "id": "fb3ec48c",
   "metadata": {
    "ExecuteTime": {
     "end_time": "2022-05-19T03:37:14.919559Z",
     "start_time": "2022-05-19T03:37:14.861546Z"
    },
    "scrolled": false
   },
   "outputs": [
    {
     "name": "stdout",
     "output_type": "stream",
     "text": [
      "Model: \"sequential_2\"\n",
      "_________________________________________________________________\n",
      " Layer (type)                Output Shape              Param #   \n",
      "=================================================================\n",
      " conv2d_6 (Conv2D)           (None, 225, 225, 16)      160       \n",
      "                                                                 \n",
      " max_pooling2d_6 (MaxPooling  (None, 112, 112, 16)     0         \n",
      " 2D)                                                             \n",
      "                                                                 \n",
      " conv2d_7 (Conv2D)           (None, 110, 110, 32)      4640      \n",
      "                                                                 \n",
      " max_pooling2d_7 (MaxPooling  (None, 55, 55, 32)       0         \n",
      " 2D)                                                             \n",
      "                                                                 \n",
      " conv2d_8 (Conv2D)           (None, 53, 53, 64)        18496     \n",
      "                                                                 \n",
      " max_pooling2d_8 (MaxPooling  (None, 26, 26, 64)       0         \n",
      " 2D)                                                             \n",
      "                                                                 \n",
      " flatten_2 (Flatten)         (None, 43264)             0         \n",
      "                                                                 \n",
      " dense_4 (Dense)             (None, 128)               5537920   \n",
      "                                                                 \n",
      " dense_5 (Dense)             (None, 8)                 1032      \n",
      "                                                                 \n",
      "=================================================================\n",
      "Total params: 5,562,248\n",
      "Trainable params: 5,562,248\n",
      "Non-trainable params: 0\n",
      "_________________________________________________________________\n"
     ]
    }
   ],
   "source": [
    "model = models.Sequential()\n",
    "\n",
    "model.add(layers.Conv2D(filters=16,\n",
    "                       kernel_size=(3,3),\n",
    "                       activation='relu',\n",
    "                       input_shape=(227,227,1)))\n",
    "model.add(layers.MaxPooling2D(2,2))\n",
    "\n",
    "model.add(layers.Conv2D(32, (3,3), activation='relu'))\n",
    "model.add(layers.MaxPooling2D(2,2))\n",
    "\n",
    "model.add(layers.Conv2D(64, (3,3), activation='relu'))\n",
    "model.add(layers.MaxPooling2D(2,2))\n",
    "\n",
    "model.add(layers.Flatten())\n",
    "model.add(layers.Dense(128, activation='relu'))\n",
    "model.add(layers.Dense(8, activation='softmax'))\n",
    "\n",
    "\n",
    "model.compile(optimizer=optimizers.Adam(learning_rate=0.001),\n",
    "              loss=losses.CategoricalCrossentropy(),\n",
    "              metrics=['accuracy'])\n",
    "\n",
    "\n",
    "model.summary()"
   ]
  },
  {
   "cell_type": "code",
   "execution_count": 13,
   "id": "4c76976d",
   "metadata": {
    "ExecuteTime": {
     "end_time": "2022-05-19T03:43:25.522644Z",
     "start_time": "2022-05-19T03:37:17.062618Z"
    },
    "scrolled": false
   },
   "outputs": [
    {
     "name": "stdout",
     "output_type": "stream",
     "text": [
      "Epoch 1/50\n",
      "50/50 [==============================] - 8s 148ms/step - loss: 0.8560 - accuracy: 0.7994 - val_loss: 0.8312 - val_accuracy: 0.7920\n",
      "Epoch 2/50\n",
      "50/50 [==============================] - 7s 147ms/step - loss: 0.7373 - accuracy: 0.8153 - val_loss: 0.8959 - val_accuracy: 0.7823\n",
      "Epoch 3/50\n",
      "50/50 [==============================] - 7s 147ms/step - loss: 0.6763 - accuracy: 0.8195 - val_loss: 0.8843 - val_accuracy: 0.7808\n",
      "Epoch 4/50\n",
      "50/50 [==============================] - 7s 147ms/step - loss: 0.6085 - accuracy: 0.8355 - val_loss: 0.8126 - val_accuracy: 0.7934\n",
      "Epoch 5/50\n",
      "50/50 [==============================] - 7s 147ms/step - loss: 0.5856 - accuracy: 0.8322 - val_loss: 0.7894 - val_accuracy: 0.7897\n",
      "Epoch 6/50\n",
      "50/50 [==============================] - 7s 145ms/step - loss: 0.5320 - accuracy: 0.8487 - val_loss: 0.7275 - val_accuracy: 0.7908\n",
      "Epoch 7/50\n",
      "50/50 [==============================] - 7s 146ms/step - loss: 0.5712 - accuracy: 0.8384 - val_loss: 0.7244 - val_accuracy: 0.7964\n",
      "Epoch 8/50\n",
      "50/50 [==============================] - 7s 147ms/step - loss: 0.4877 - accuracy: 0.8611 - val_loss: 0.7787 - val_accuracy: 0.7898\n",
      "Epoch 9/50\n",
      "50/50 [==============================] - 8s 154ms/step - loss: 0.4834 - accuracy: 0.8544 - val_loss: 0.7289 - val_accuracy: 0.7934\n",
      "Epoch 10/50\n",
      "50/50 [==============================] - 8s 151ms/step - loss: 0.4821 - accuracy: 0.8570 - val_loss: 0.7718 - val_accuracy: 0.7842\n",
      "Epoch 11/50\n",
      "50/50 [==============================] - 8s 154ms/step - loss: 0.4421 - accuracy: 0.8702 - val_loss: 0.6773 - val_accuracy: 0.7948\n",
      "Epoch 12/50\n",
      "50/50 [==============================] - 8s 159ms/step - loss: 0.4184 - accuracy: 0.8788 - val_loss: 0.7262 - val_accuracy: 0.7969\n",
      "Epoch 13/50\n",
      "50/50 [==============================] - 8s 158ms/step - loss: 0.3978 - accuracy: 0.8803 - val_loss: 0.7133 - val_accuracy: 0.7811\n",
      "Epoch 14/50\n",
      "50/50 [==============================] - 8s 151ms/step - loss: 0.3729 - accuracy: 0.8894 - val_loss: 0.7446 - val_accuracy: 0.7933\n",
      "Epoch 15/50\n",
      "50/50 [==============================] - 8s 154ms/step - loss: 0.3869 - accuracy: 0.8838 - val_loss: 0.7160 - val_accuracy: 0.7852\n",
      "Epoch 16/50\n",
      "50/50 [==============================] - 7s 146ms/step - loss: 0.3697 - accuracy: 0.8880 - val_loss: 0.7292 - val_accuracy: 0.7884\n",
      "Epoch 17/50\n",
      "50/50 [==============================] - 7s 147ms/step - loss: 0.3557 - accuracy: 0.8942 - val_loss: 0.7114 - val_accuracy: 0.7986\n",
      "Epoch 18/50\n",
      "50/50 [==============================] - 7s 146ms/step - loss: 0.3328 - accuracy: 0.8981 - val_loss: 0.7803 - val_accuracy: 0.7539\n",
      "Epoch 19/50\n",
      "50/50 [==============================] - 7s 145ms/step - loss: 0.3252 - accuracy: 0.9011 - val_loss: 0.7426 - val_accuracy: 0.8031\n",
      "Epoch 20/50\n",
      "50/50 [==============================] - 7s 148ms/step - loss: 0.3473 - accuracy: 0.8956 - val_loss: 0.7031 - val_accuracy: 0.7955\n",
      "Epoch 21/50\n",
      "50/50 [==============================] - 7s 145ms/step - loss: 0.2785 - accuracy: 0.9139 - val_loss: 0.7202 - val_accuracy: 0.7895\n",
      "Epoch 22/50\n",
      "50/50 [==============================] - 7s 145ms/step - loss: 0.2846 - accuracy: 0.9112 - val_loss: 0.8137 - val_accuracy: 0.7550\n",
      "Epoch 23/50\n",
      "50/50 [==============================] - 7s 147ms/step - loss: 0.2779 - accuracy: 0.9153 - val_loss: 0.7343 - val_accuracy: 0.7756\n",
      "Epoch 24/50\n",
      "50/50 [==============================] - 7s 146ms/step - loss: 0.2792 - accuracy: 0.9141 - val_loss: 0.7111 - val_accuracy: 0.7837\n",
      "Epoch 25/50\n",
      "50/50 [==============================] - 7s 146ms/step - loss: 0.2658 - accuracy: 0.9206 - val_loss: 0.7656 - val_accuracy: 0.8125\n",
      "Epoch 26/50\n",
      "50/50 [==============================] - 7s 145ms/step - loss: 0.2559 - accuracy: 0.9225 - val_loss: 0.7698 - val_accuracy: 0.8067\n",
      "Epoch 27/50\n",
      "50/50 [==============================] - 7s 146ms/step - loss: 0.2544 - accuracy: 0.9192 - val_loss: 0.7971 - val_accuracy: 0.8056\n",
      "Epoch 28/50\n",
      "50/50 [==============================] - 7s 146ms/step - loss: 0.2146 - accuracy: 0.9328 - val_loss: 0.7537 - val_accuracy: 0.7903\n",
      "Epoch 29/50\n",
      "50/50 [==============================] - 7s 146ms/step - loss: 0.2103 - accuracy: 0.9331 - val_loss: 0.8896 - val_accuracy: 0.7895\n",
      "Epoch 30/50\n",
      "50/50 [==============================] - 7s 145ms/step - loss: 0.2177 - accuracy: 0.9327 - val_loss: 0.7445 - val_accuracy: 0.7922\n",
      "Epoch 31/50\n",
      "50/50 [==============================] - 7s 147ms/step - loss: 0.2002 - accuracy: 0.9409 - val_loss: 0.7723 - val_accuracy: 0.7842\n",
      "Epoch 32/50\n",
      "50/50 [==============================] - 7s 145ms/step - loss: 0.2090 - accuracy: 0.9331 - val_loss: 0.7352 - val_accuracy: 0.7900\n",
      "Epoch 33/50\n",
      "50/50 [==============================] - 7s 145ms/step - loss: 0.1984 - accuracy: 0.9363 - val_loss: 0.7927 - val_accuracy: 0.8027\n",
      "Epoch 34/50\n",
      "50/50 [==============================] - 7s 146ms/step - loss: 0.1989 - accuracy: 0.9373 - val_loss: 0.7777 - val_accuracy: 0.7928\n",
      "Epoch 35/50\n",
      "50/50 [==============================] - 7s 145ms/step - loss: 0.1832 - accuracy: 0.9408 - val_loss: 0.7180 - val_accuracy: 0.8222\n",
      "Epoch 36/50\n",
      "50/50 [==============================] - 7s 145ms/step - loss: 0.1814 - accuracy: 0.9415 - val_loss: 0.7901 - val_accuracy: 0.8084\n",
      "Epoch 37/50\n",
      "50/50 [==============================] - 7s 145ms/step - loss: 0.1837 - accuracy: 0.9427 - val_loss: 0.8376 - val_accuracy: 0.7864\n",
      "Epoch 38/50\n",
      "50/50 [==============================] - 7s 146ms/step - loss: 0.1605 - accuracy: 0.9525 - val_loss: 0.8472 - val_accuracy: 0.8062\n",
      "Epoch 39/50\n",
      "50/50 [==============================] - 7s 146ms/step - loss: 0.1590 - accuracy: 0.9545 - val_loss: 0.7736 - val_accuracy: 0.8000\n",
      "Epoch 40/50\n",
      "50/50 [==============================] - 7s 145ms/step - loss: 0.1648 - accuracy: 0.9484 - val_loss: 0.7882 - val_accuracy: 0.7867\n",
      "Epoch 41/50\n",
      "50/50 [==============================] - 7s 146ms/step - loss: 0.1511 - accuracy: 0.9550 - val_loss: 0.7561 - val_accuracy: 0.8139\n",
      "Epoch 42/50\n",
      "50/50 [==============================] - 7s 147ms/step - loss: 0.1391 - accuracy: 0.9575 - val_loss: 0.8501 - val_accuracy: 0.8108\n",
      "Epoch 43/50\n",
      "50/50 [==============================] - 7s 145ms/step - loss: 0.1325 - accuracy: 0.9592 - val_loss: 0.8305 - val_accuracy: 0.8078\n",
      "Epoch 44/50\n",
      "50/50 [==============================] - 7s 146ms/step - loss: 0.1257 - accuracy: 0.9613 - val_loss: 0.8894 - val_accuracy: 0.8091\n",
      "Epoch 45/50\n",
      "50/50 [==============================] - 7s 145ms/step - loss: 0.1222 - accuracy: 0.9619 - val_loss: 0.8771 - val_accuracy: 0.8017\n",
      "Epoch 46/50\n",
      "50/50 [==============================] - 7s 145ms/step - loss: 0.1276 - accuracy: 0.9628 - val_loss: 0.9954 - val_accuracy: 0.7927\n",
      "Epoch 47/50\n",
      "50/50 [==============================] - 7s 146ms/step - loss: 0.1307 - accuracy: 0.9578 - val_loss: 0.9220 - val_accuracy: 0.8167\n",
      "Epoch 48/50\n",
      "50/50 [==============================] - 7s 146ms/step - loss: 0.1020 - accuracy: 0.9716 - val_loss: 0.9136 - val_accuracy: 0.8128\n",
      "Epoch 49/50\n",
      "50/50 [==============================] - 7s 145ms/step - loss: 0.1047 - accuracy: 0.9700 - val_loss: 0.9312 - val_accuracy: 0.8173\n",
      "Epoch 50/50\n",
      "50/50 [==============================] - 7s 146ms/step - loss: 0.0941 - accuracy: 0.9708 - val_loss: 0.9262 - val_accuracy: 0.7952\n"
     ]
    }
   ],
   "source": [
    "results = model.fit(train_generator,\n",
    "                    steps_per_epoch=50,  # Number of training samples to pull per epoch\n",
    "                    epochs=50,  # Number of epochs\n",
    "                    validation_data=val_generator,\n",
    "                    validation_steps=50,  # Number of validation samples to run validation on\n",
    "                    verbose=1\n",
    "                    )"
   ]
  },
  {
   "cell_type": "code",
   "execution_count": 16,
   "id": "45c983a1",
   "metadata": {
    "ExecuteTime": {
     "end_time": "2022-05-19T03:51:46.996861Z",
     "start_time": "2022-05-19T03:51:46.815821Z"
    },
    "scrolled": true
   },
   "outputs": [
    {
     "data": {
      "image/png": "[encoded data removed]",
      "text/plain": [
       "<Figure size 720x360 with 2 Axes>"
      ]
     },
     "metadata": {
      "needs_background": "light"
     },
     "output_type": "display_data"
    }
   ],
   "source": [
    "display_mode_trainTestGraphs(results)"
   ]
  },
  {
   "cell_type": "markdown",
   "id": "9954ac3c",
   "metadata": {
    "ExecuteTime": {
     "end_time": "2022-05-19T03:52:55.613596Z",
     "start_time": "2022-05-19T03:52:55.607594Z"
    }
   },
   "source": [
    "## Model 2"
   ]
  },
  {
   "cell_type": "markdown",
   "id": "9be9cf9c",
   "metadata": {},
   "source": [
    "Increasing steps in epoch"
   ]
  },
  {
   "cell_type": "code",
   "execution_count": 21,
   "id": "2b9ef918",
   "metadata": {
    "ExecuteTime": {
     "end_time": "2022-05-19T03:55:03.399786Z",
     "start_time": "2022-05-19T03:55:03.343774Z"
    },
    "scrolled": false
   },
   "outputs": [
    {
     "name": "stdout",
     "output_type": "stream",
     "text": [
      "Model: \"sequential_5\"\n",
      "_________________________________________________________________\n",
      " Layer (type)                Output Shape              Param #   \n",
      "=================================================================\n",
      " conv2d_15 (Conv2D)          (None, 225, 225, 16)      160       \n",
      "                                                                 \n",
      " max_pooling2d_15 (MaxPoolin  (None, 112, 112, 16)     0         \n",
      " g2D)                                                            \n",
      "                                                                 \n",
      " conv2d_16 (Conv2D)          (None, 110, 110, 32)      4640      \n",
      "                                                                 \n",
      " max_pooling2d_16 (MaxPoolin  (None, 55, 55, 32)       0         \n",
      " g2D)                                                            \n",
      "                                                                 \n",
      " conv2d_17 (Conv2D)          (None, 53, 53, 64)        18496     \n",
      "                                                                 \n",
      " max_pooling2d_17 (MaxPoolin  (None, 26, 26, 64)       0         \n",
      " g2D)                                                            \n",
      "                                                                 \n",
      " flatten_5 (Flatten)         (None, 43264)             0         \n",
      "                                                                 \n",
      " dense_10 (Dense)            (None, 128)               5537920   \n",
      "                                                                 \n",
      " dense_11 (Dense)            (None, 8)                 1032      \n",
      "                                                                 \n",
      "=================================================================\n",
      "Total params: 5,562,248\n",
      "Trainable params: 5,562,248\n",
      "Non-trainable params: 0\n",
      "_________________________________________________________________\n"
     ]
    }
   ],
   "source": [
    "model = models.Sequential()\n",
    "\n",
    "model.add(layers.Conv2D(filters=16,\n",
    "                       kernel_size=(3,3),\n",
    "                       activation='relu',\n",
    "                       input_shape=(227,227,1)))\n",
    "model.add(layers.MaxPooling2D(2,2))\n",
    "\n",
    "model.add(layers.Conv2D(32, (3,3), activation='relu'))\n",
    "model.add(layers.MaxPooling2D(2,2))\n",
    "\n",
    "model.add(layers.Conv2D(64, (3,3), activation='relu'))\n",
    "model.add(layers.MaxPooling2D(2,2))\n",
    "\n",
    "model.add(layers.Flatten())\n",
    "model.add(layers.Dense(128, activation='relu'))\n",
    "model.add(layers.Dense(8, activation='softmax'))\n",
    "\n",
    "\n",
    "model.compile(optimizer=optimizers.Adam(learning_rate=0.001),\n",
    "              loss=losses.CategoricalCrossentropy(),\n",
    "              metrics=['accuracy'])\n",
    "\n",
    "\n",
    "model.summary()"
   ]
  },
  {
   "cell_type": "code",
   "execution_count": 22,
   "id": "3a9edf1e",
   "metadata": {
    "ExecuteTime": {
     "end_time": "2022-05-19T04:10:41.481847Z",
     "start_time": "2022-05-19T03:55:15.312167Z"
    },
    "scrolled": false
   },
   "outputs": [
    {
     "name": "stdout",
     "output_type": "stream",
     "text": [
      "Epoch 1/50\n",
      "150/150 [==============================] - 19s 125ms/step - loss: 0.7516 - accuracy: 0.8124 - val_loss: 0.8139 - val_accuracy: 0.7907\n",
      "Epoch 2/50\n",
      "150/150 [==============================] - 19s 123ms/step - loss: 0.6123 - accuracy: 0.8271 - val_loss: 0.7553 - val_accuracy: 0.7944\n",
      "Epoch 3/50\n",
      "150/150 [==============================] - 19s 124ms/step - loss: 0.5059 - accuracy: 0.8521 - val_loss: 0.7357 - val_accuracy: 0.7974\n",
      "Epoch 4/50\n",
      "150/150 [==============================] - 19s 125ms/step - loss: 0.4544 - accuracy: 0.8661 - val_loss: 0.7237 - val_accuracy: 0.7930\n",
      "Epoch 5/50\n",
      "150/150 [==============================] - 19s 124ms/step - loss: 0.3908 - accuracy: 0.8834 - val_loss: 0.7014 - val_accuracy: 0.8094\n",
      "Epoch 6/50\n",
      "150/150 [==============================] - 19s 124ms/step - loss: 0.3593 - accuracy: 0.8910 - val_loss: 0.6860 - val_accuracy: 0.7900\n",
      "Epoch 7/50\n",
      "150/150 [==============================] - 19s 124ms/step - loss: 0.3152 - accuracy: 0.9016 - val_loss: 0.7463 - val_accuracy: 0.7869\n",
      "Epoch 8/50\n",
      "150/150 [==============================] - 19s 124ms/step - loss: 0.2966 - accuracy: 0.9075 - val_loss: 0.7529 - val_accuracy: 0.8159\n",
      "Epoch 9/50\n",
      "150/150 [==============================] - 19s 124ms/step - loss: 0.2627 - accuracy: 0.9197 - val_loss: 0.6993 - val_accuracy: 0.8096\n",
      "Epoch 10/50\n",
      "150/150 [==============================] - 19s 123ms/step - loss: 0.2292 - accuracy: 0.9288 - val_loss: 0.7096 - val_accuracy: 0.8050\n",
      "Epoch 11/50\n",
      "150/150 [==============================] - 18s 123ms/step - loss: 0.2007 - accuracy: 0.9383 - val_loss: 0.7861 - val_accuracy: 0.8188\n",
      "Epoch 12/50\n",
      "150/150 [==============================] - 19s 125ms/step - loss: 0.1834 - accuracy: 0.9432 - val_loss: 0.7778 - val_accuracy: 0.8071\n",
      "Epoch 13/50\n",
      "150/150 [==============================] - 19s 126ms/step - loss: 0.1530 - accuracy: 0.9520 - val_loss: 0.7632 - val_accuracy: 0.8164\n",
      "Epoch 14/50\n",
      "150/150 [==============================] - 19s 125ms/step - loss: 0.1382 - accuracy: 0.9575 - val_loss: 0.8917 - val_accuracy: 0.8134\n",
      "Epoch 15/50\n",
      "150/150 [==============================] - 18s 123ms/step - loss: 0.1124 - accuracy: 0.9653 - val_loss: 0.8699 - val_accuracy: 0.7845\n",
      "Epoch 16/50\n",
      "150/150 [==============================] - 19s 127ms/step - loss: 0.0986 - accuracy: 0.9701 - val_loss: 0.8927 - val_accuracy: 0.8202\n",
      "Epoch 17/50\n",
      "150/150 [==============================] - 18s 122ms/step - loss: 0.0918 - accuracy: 0.9708 - val_loss: 0.8805 - val_accuracy: 0.8208\n",
      "Epoch 18/50\n",
      "150/150 [==============================] - 18s 122ms/step - loss: 0.0799 - accuracy: 0.9753 - val_loss: 0.9686 - val_accuracy: 0.8010\n",
      "Epoch 19/50\n",
      "150/150 [==============================] - 19s 124ms/step - loss: 0.0686 - accuracy: 0.9791 - val_loss: 1.0508 - val_accuracy: 0.8103\n",
      "Epoch 20/50\n",
      "150/150 [==============================] - 18s 122ms/step - loss: 0.0550 - accuracy: 0.9836 - val_loss: 1.0482 - val_accuracy: 0.8170\n",
      "Epoch 21/50\n",
      "150/150 [==============================] - 18s 122ms/step - loss: 0.0632 - accuracy: 0.9803 - val_loss: 1.0793 - val_accuracy: 0.8066\n",
      "Epoch 22/50\n",
      "150/150 [==============================] - 18s 122ms/step - loss: 0.0409 - accuracy: 0.9874 - val_loss: 1.1943 - val_accuracy: 0.8152\n",
      "Epoch 23/50\n",
      "150/150 [==============================] - 18s 122ms/step - loss: 0.0346 - accuracy: 0.9905 - val_loss: 1.2410 - val_accuracy: 0.8108\n",
      "Epoch 24/50\n",
      "150/150 [==============================] - 18s 123ms/step - loss: 0.0293 - accuracy: 0.9910 - val_loss: 1.4675 - val_accuracy: 0.8155\n",
      "Epoch 25/50\n",
      "150/150 [==============================] - 18s 122ms/step - loss: 0.0320 - accuracy: 0.9901 - val_loss: 1.4290 - val_accuracy: 0.8023\n",
      "Epoch 26/50\n",
      "150/150 [==============================] - 18s 123ms/step - loss: 0.0238 - accuracy: 0.9930 - val_loss: 1.3895 - val_accuracy: 0.8141\n",
      "Epoch 27/50\n",
      "150/150 [==============================] - 18s 122ms/step - loss: 0.0382 - accuracy: 0.9898 - val_loss: 1.2853 - val_accuracy: 0.8098\n",
      "Epoch 28/50\n",
      "150/150 [==============================] - 18s 122ms/step - loss: 0.0190 - accuracy: 0.9944 - val_loss: 1.3793 - val_accuracy: 0.8230\n",
      "Epoch 29/50\n",
      "150/150 [==============================] - 18s 123ms/step - loss: 0.0176 - accuracy: 0.9955 - val_loss: 1.4186 - val_accuracy: 0.8194\n",
      "Epoch 30/50\n",
      "150/150 [==============================] - 18s 123ms/step - loss: 0.0202 - accuracy: 0.9938 - val_loss: 1.4612 - val_accuracy: 0.8166\n",
      "Epoch 31/50\n",
      "150/150 [==============================] - 18s 123ms/step - loss: 0.0213 - accuracy: 0.9941 - val_loss: 1.6047 - val_accuracy: 0.8275\n",
      "Epoch 32/50\n",
      "150/150 [==============================] - 18s 123ms/step - loss: 0.0201 - accuracy: 0.9941 - val_loss: 1.5236 - val_accuracy: 0.8099\n",
      "Epoch 33/50\n",
      "150/150 [==============================] - 18s 123ms/step - loss: 0.0198 - accuracy: 0.9947 - val_loss: 1.5407 - val_accuracy: 0.8106\n",
      "Epoch 34/50\n",
      "150/150 [==============================] - 18s 122ms/step - loss: 0.0175 - accuracy: 0.9952 - val_loss: 1.6426 - val_accuracy: 0.8180\n",
      "Epoch 35/50\n",
      "150/150 [==============================] - 18s 123ms/step - loss: 0.0111 - accuracy: 0.9968 - val_loss: 1.6857 - val_accuracy: 0.8146\n",
      "Epoch 36/50\n",
      "150/150 [==============================] - 19s 123ms/step - loss: 0.0207 - accuracy: 0.9939 - val_loss: 1.5729 - val_accuracy: 0.8185\n",
      "Epoch 37/50\n",
      "150/150 [==============================] - 18s 123ms/step - loss: 0.0166 - accuracy: 0.9949 - val_loss: 1.7462 - val_accuracy: 0.8007\n",
      "Epoch 38/50\n",
      "150/150 [==============================] - 18s 122ms/step - loss: 0.0176 - accuracy: 0.9944 - val_loss: 1.6883 - val_accuracy: 0.7897\n",
      "Epoch 39/50\n",
      "150/150 [==============================] - 18s 123ms/step - loss: 0.0113 - accuracy: 0.9968 - val_loss: 1.8252 - val_accuracy: 0.8227\n",
      "Epoch 40/50\n",
      "150/150 [==============================] - 18s 123ms/step - loss: 0.0147 - accuracy: 0.9955 - val_loss: 1.8257 - val_accuracy: 0.8168\n",
      "Epoch 41/50\n",
      "150/150 [==============================] - 18s 122ms/step - loss: 0.0063 - accuracy: 0.9982 - val_loss: 1.7539 - val_accuracy: 0.7869\n",
      "Epoch 42/50\n",
      "150/150 [==============================] - 18s 122ms/step - loss: 0.0133 - accuracy: 0.9961 - val_loss: 1.8596 - val_accuracy: 0.8155\n",
      "Epoch 43/50\n",
      "150/150 [==============================] - 18s 123ms/step - loss: 0.0085 - accuracy: 0.9973 - val_loss: 1.8715 - val_accuracy: 0.8166\n",
      "Epoch 44/50\n",
      "150/150 [==============================] - 18s 123ms/step - loss: 0.0115 - accuracy: 0.9967 - val_loss: 1.7308 - val_accuracy: 0.8112\n",
      "Epoch 45/50\n",
      "150/150 [==============================] - 19s 124ms/step - loss: 0.0223 - accuracy: 0.9943 - val_loss: 1.6357 - val_accuracy: 0.8077\n",
      "Epoch 46/50\n",
      "150/150 [==============================] - 18s 122ms/step - loss: 0.0128 - accuracy: 0.9966 - val_loss: 1.7093 - val_accuracy: 0.8129\n",
      "Epoch 47/50\n",
      "150/150 [==============================] - 18s 122ms/step - loss: 0.0085 - accuracy: 0.9974 - val_loss: 1.8999 - val_accuracy: 0.8155\n",
      "Epoch 48/50\n",
      "150/150 [==============================] - 18s 123ms/step - loss: 0.0113 - accuracy: 0.9972 - val_loss: 1.5793 - val_accuracy: 0.8019\n",
      "Epoch 49/50\n",
      "150/150 [==============================] - 19s 124ms/step - loss: 0.0158 - accuracy: 0.9953 - val_loss: 1.9315 - val_accuracy: 0.8159\n",
      "Epoch 50/50\n",
      "150/150 [==============================] - 18s 122ms/step - loss: 0.0127 - accuracy: 0.9961 - val_loss: 1.8419 - val_accuracy: 0.8110\n"
     ]
    }
   ],
   "source": [
    "results = model.fit(train_generator,\n",
    "                    steps_per_epoch=150,  # Number of training samples to pull per epoch\n",
    "                    epochs=50,  # Number of epochs\n",
    "                    validation_data=val_generator,\n",
    "                    validation_steps=100,  # Number of validation samples to run validation on\n",
    "                    verbose=1\n",
    "                    )"
   ]
  },
  {
   "cell_type": "code",
   "execution_count": 23,
   "id": "f06315d1",
   "metadata": {
    "ExecuteTime": {
     "end_time": "2022-05-19T04:10:41.798970Z",
     "start_time": "2022-05-19T04:10:41.609927Z"
    },
    "scrolled": true
   },
   "outputs": [
    {
     "data": {
      "image/png": "[encoded data removed]",
      "text/plain": [
       "<Figure size 720x360 with 2 Axes>"
      ]
     },
     "metadata": {
      "needs_background": "light"
     },
     "output_type": "display_data"
    }
   ],
   "source": [
    "display_mode_trainTestGraphs(results)"
   ]
  },
  {
   "cell_type": "markdown",
   "id": "f2c030a3",
   "metadata": {},
   "source": [
    "## Model: VGG16"
   ]
  },
  {
   "cell_type": "code",
   "execution_count": null,
   "id": "3e007dfc",
   "metadata": {},
   "outputs": [],
   "source": []
  },
  {
   "cell_type": "markdown",
   "id": "98a0c245",
   "metadata": {},
   "source": [
    "## Model 3: DNN"
   ]
  },
  {
   "cell_type": "code",
   "execution_count": 26,
   "id": "8c200c2b",
   "metadata": {
    "ExecuteTime": {
     "end_time": "2022-05-19T16:36:18.606606Z",
     "start_time": "2022-05-19T16:36:18.520596Z"
    }
   },
   "outputs": [
    {
     "name": "stdout",
     "output_type": "stream",
     "text": [
      "Model: \"sequential_8\"\n",
      "_________________________________________________________________\n",
      " Layer (type)                Output Shape              Param #   \n",
      "=================================================================\n",
      " conv2d_26 (Conv2D)          (None, 225, 225, 16)      160       \n",
      "                                                                 \n",
      " max_pooling2d_26 (MaxPoolin  (None, 112, 112, 16)     0         \n",
      " g2D)                                                            \n",
      "                                                                 \n",
      " conv2d_27 (Conv2D)          (None, 110, 110, 32)      4640      \n",
      "                                                                 \n",
      " max_pooling2d_27 (MaxPoolin  (None, 55, 55, 32)       0         \n",
      " g2D)                                                            \n",
      "                                                                 \n",
      " conv2d_28 (Conv2D)          (None, 53, 53, 64)        18496     \n",
      "                                                                 \n",
      " max_pooling2d_28 (MaxPoolin  (None, 26, 26, 64)       0         \n",
      " g2D)                                                            \n",
      "                                                                 \n",
      " conv2d_29 (Conv2D)          (None, 24, 24, 128)       73856     \n",
      "                                                                 \n",
      " max_pooling2d_29 (MaxPoolin  (None, 12, 12, 128)      0         \n",
      " g2D)                                                            \n",
      "                                                                 \n",
      " flatten_8 (Flatten)         (None, 18432)             0         \n",
      "                                                                 \n",
      " dense_17 (Dense)            (None, 512)               9437696   \n",
      "                                                                 \n",
      " dense_18 (Dense)            (None, 512)               262656    \n",
      "                                                                 \n",
      " dense_19 (Dense)            (None, 8)                 4104      \n",
      "                                                                 \n",
      "=================================================================\n",
      "Total params: 9,801,608\n",
      "Trainable params: 9,801,608\n",
      "Non-trainable params: 0\n",
      "_________________________________________________________________\n"
     ]
    }
   ],
   "source": [
    "model = models.Sequential()\n",
    "\n",
    "model.add(layers.Conv2D(filters=16,\n",
    "                       kernel_size=(3,3),\n",
    "                       activation='relu',\n",
    "                       input_shape=(227,227,1)))\n",
    "model.add(layers.MaxPooling2D(2,2))\n",
    "\n",
    "model.add(layers.Conv2D(32, (3,3), activation='relu'))\n",
    "model.add(layers.MaxPooling2D(2,2))\n",
    "\n",
    "model.add(layers.Conv2D(64, (3,3), activation='relu'))\n",
    "model.add(layers.MaxPooling2D(2,2))\n",
    "\n",
    "model.add(layers.Conv2D(128, (3,3), activation='relu'))\n",
    "model.add(layers.MaxPooling2D(2,2))\n",
    "\n",
    "model.add(layers.Flatten())\n",
    "model.add(layers.Dense(512, activation='relu'))\n",
    "model.add(layers.Dense(512, activation='relu'))\n",
    "model.add(layers.Dense(8, activation='softmax'))\n",
    "\n",
    "\n",
    "model.compile(optimizer=optimizers.Adam(learning_rate=0.001),\n",
    "              loss=losses.CategoricalCrossentropy(),\n",
    "              metrics=['accuracy'])\n",
    "\n",
    "\n",
    "model.summary()"
   ]
  },
  {
   "cell_type": "code",
   "execution_count": 27,
   "id": "6063f58a",
   "metadata": {
    "ExecuteTime": {
     "end_time": "2022-05-19T16:46:56.393403Z",
     "start_time": "2022-05-19T16:37:32.960788Z"
    },
    "scrolled": false
   },
   "outputs": [
    {
     "name": "stdout",
     "output_type": "stream",
     "text": [
      "Epoch 1/50\n",
      "100/100 [==============================] - 14s 131ms/step - loss: 0.7809 - accuracy: 0.8171 - val_loss: 0.8092 - val_accuracy: 0.7819\n",
      "Epoch 2/50\n",
      "100/100 [==============================] - 13s 125ms/step - loss: 0.6329 - accuracy: 0.8313 - val_loss: 0.7968 - val_accuracy: 0.7622\n",
      "Epoch 3/50\n",
      "100/100 [==============================] - 12s 119ms/step - loss: 0.5481 - accuracy: 0.8477 - val_loss: 0.7678 - val_accuracy: 0.7906\n",
      "Epoch 4/50\n",
      "100/100 [==============================] - 12s 117ms/step - loss: 0.4817 - accuracy: 0.8640 - val_loss: 0.6730 - val_accuracy: 0.8116\n",
      "Epoch 5/50\n",
      "100/100 [==============================] - 12s 118ms/step - loss: 0.4519 - accuracy: 0.8705 - val_loss: 0.6734 - val_accuracy: 0.7997\n",
      "Epoch 6/50\n",
      "100/100 [==============================] - 11s 114ms/step - loss: 0.3944 - accuracy: 0.8843 - val_loss: 0.6176 - val_accuracy: 0.8050\n",
      "Epoch 7/50\n",
      "100/100 [==============================] - 11s 114ms/step - loss: 0.3609 - accuracy: 0.8886 - val_loss: 0.6534 - val_accuracy: 0.7975\n",
      "Epoch 8/50\n",
      "100/100 [==============================] - 11s 112ms/step - loss: 0.3539 - accuracy: 0.8924 - val_loss: 0.6101 - val_accuracy: 0.8189\n",
      "Epoch 9/50\n",
      "100/100 [==============================] - 11s 114ms/step - loss: 0.3094 - accuracy: 0.9038 - val_loss: 0.6896 - val_accuracy: 0.8142\n",
      "Epoch 10/50\n",
      "100/100 [==============================] - 11s 112ms/step - loss: 0.3041 - accuracy: 0.9055 - val_loss: 0.6357 - val_accuracy: 0.8131\n",
      "Epoch 11/50\n",
      "100/100 [==============================] - 11s 112ms/step - loss: 0.2567 - accuracy: 0.9166 - val_loss: 0.6474 - val_accuracy: 0.8181\n",
      "Epoch 12/50\n",
      "100/100 [==============================] - 11s 113ms/step - loss: 0.2411 - accuracy: 0.9239 - val_loss: 0.6332 - val_accuracy: 0.8081\n",
      "Epoch 13/50\n",
      "100/100 [==============================] - 11s 113ms/step - loss: 0.1984 - accuracy: 0.9377 - val_loss: 0.7510 - val_accuracy: 0.7952\n",
      "Epoch 14/50\n",
      "100/100 [==============================] - 11s 112ms/step - loss: 0.1949 - accuracy: 0.9387 - val_loss: 0.6932 - val_accuracy: 0.8288\n",
      "Epoch 15/50\n",
      "100/100 [==============================] - 11s 112ms/step - loss: 0.1795 - accuracy: 0.9452 - val_loss: 0.5927 - val_accuracy: 0.8450\n",
      "Epoch 16/50\n",
      "100/100 [==============================] - 11s 111ms/step - loss: 0.1561 - accuracy: 0.9516 - val_loss: 0.6923 - val_accuracy: 0.8423\n",
      "Epoch 17/50\n",
      "100/100 [==============================] - 11s 114ms/step - loss: 0.1274 - accuracy: 0.9588 - val_loss: 0.7939 - val_accuracy: 0.8403\n",
      "Epoch 18/50\n",
      "100/100 [==============================] - 11s 112ms/step - loss: 0.1263 - accuracy: 0.9613 - val_loss: 0.6821 - val_accuracy: 0.8388\n",
      "Epoch 19/50\n",
      "100/100 [==============================] - 11s 112ms/step - loss: 0.1094 - accuracy: 0.9674 - val_loss: 0.6865 - val_accuracy: 0.8423\n",
      "Epoch 20/50\n",
      "100/100 [==============================] - 11s 109ms/step - loss: 0.0923 - accuracy: 0.9719 - val_loss: 0.7949 - val_accuracy: 0.8358\n",
      "Epoch 21/50\n",
      "100/100 [==============================] - 11s 111ms/step - loss: 0.0928 - accuracy: 0.9708 - val_loss: 0.8642 - val_accuracy: 0.8398\n",
      "Epoch 22/50\n",
      "100/100 [==============================] - 11s 109ms/step - loss: 0.0710 - accuracy: 0.9759 - val_loss: 0.9110 - val_accuracy: 0.8208\n",
      "Epoch 23/50\n",
      "100/100 [==============================] - 11s 111ms/step - loss: 0.0727 - accuracy: 0.9776 - val_loss: 0.7163 - val_accuracy: 0.8427\n",
      "Epoch 24/50\n",
      "100/100 [==============================] - 11s 110ms/step - loss: 0.0483 - accuracy: 0.9847 - val_loss: 0.9778 - val_accuracy: 0.8275\n",
      "Epoch 25/50\n",
      "100/100 [==============================] - 11s 111ms/step - loss: 0.0489 - accuracy: 0.9847 - val_loss: 0.8840 - val_accuracy: 0.8388\n",
      "Epoch 26/50\n",
      "100/100 [==============================] - 11s 110ms/step - loss: 0.0504 - accuracy: 0.9858 - val_loss: 0.8612 - val_accuracy: 0.8409\n",
      "Epoch 27/50\n",
      "100/100 [==============================] - 11s 110ms/step - loss: 0.0411 - accuracy: 0.9877 - val_loss: 0.9900 - val_accuracy: 0.8223\n",
      "Epoch 28/50\n",
      "100/100 [==============================] - 11s 110ms/step - loss: 0.0332 - accuracy: 0.9900 - val_loss: 0.9513 - val_accuracy: 0.8417\n",
      "Epoch 29/50\n",
      "100/100 [==============================] - 11s 111ms/step - loss: 0.0287 - accuracy: 0.9903 - val_loss: 1.0383 - val_accuracy: 0.8359\n",
      "Epoch 30/50\n",
      "100/100 [==============================] - 11s 109ms/step - loss: 0.0343 - accuracy: 0.9884 - val_loss: 1.0176 - val_accuracy: 0.8359\n",
      "Epoch 31/50\n",
      "100/100 [==============================] - 11s 110ms/step - loss: 0.0324 - accuracy: 0.9901 - val_loss: 0.9811 - val_accuracy: 0.8467\n",
      "Epoch 32/50\n",
      "100/100 [==============================] - 11s 110ms/step - loss: 0.0214 - accuracy: 0.9937 - val_loss: 1.1586 - val_accuracy: 0.8348\n",
      "Epoch 33/50\n",
      "100/100 [==============================] - 11s 111ms/step - loss: 0.0234 - accuracy: 0.9922 - val_loss: 1.0764 - val_accuracy: 0.8441\n",
      "Epoch 34/50\n",
      "100/100 [==============================] - 11s 110ms/step - loss: 0.0232 - accuracy: 0.9917 - val_loss: 1.1067 - val_accuracy: 0.8447\n",
      "Epoch 35/50\n",
      "100/100 [==============================] - 11s 110ms/step - loss: 0.0340 - accuracy: 0.9886 - val_loss: 1.0281 - val_accuracy: 0.8089\n",
      "Epoch 36/50\n",
      "100/100 [==============================] - 11s 110ms/step - loss: 0.0283 - accuracy: 0.9906 - val_loss: 1.1719 - val_accuracy: 0.8433\n",
      "Epoch 37/50\n",
      "100/100 [==============================] - 11s 111ms/step - loss: 0.0206 - accuracy: 0.9933 - val_loss: 1.2096 - val_accuracy: 0.8292\n",
      "Epoch 38/50\n",
      "100/100 [==============================] - 11s 110ms/step - loss: 0.0230 - accuracy: 0.9929 - val_loss: 1.1106 - val_accuracy: 0.8397\n",
      "Epoch 39/50\n",
      "100/100 [==============================] - 11s 110ms/step - loss: 0.0208 - accuracy: 0.9942 - val_loss: 1.0919 - val_accuracy: 0.8481\n",
      "Epoch 40/50\n",
      "100/100 [==============================] - 11s 110ms/step - loss: 0.0172 - accuracy: 0.9942 - val_loss: 1.3039 - val_accuracy: 0.8445\n",
      "Epoch 41/50\n",
      "100/100 [==============================] - 11s 112ms/step - loss: 0.0210 - accuracy: 0.9932 - val_loss: 1.2692 - val_accuracy: 0.8402\n",
      "Epoch 42/50\n",
      "100/100 [==============================] - 11s 110ms/step - loss: 0.0283 - accuracy: 0.9906 - val_loss: 1.1954 - val_accuracy: 0.8514\n",
      "Epoch 43/50\n",
      "100/100 [==============================] - 11s 110ms/step - loss: 0.0286 - accuracy: 0.9912 - val_loss: 1.1898 - val_accuracy: 0.8466\n",
      "Epoch 44/50\n",
      "100/100 [==============================] - 11s 110ms/step - loss: 0.0128 - accuracy: 0.9954 - val_loss: 1.2060 - val_accuracy: 0.8419\n",
      "Epoch 45/50\n",
      "100/100 [==============================] - 11s 111ms/step - loss: 0.0132 - accuracy: 0.9958 - val_loss: 1.3097 - val_accuracy: 0.8453\n",
      "Epoch 46/50\n",
      "100/100 [==============================] - 11s 110ms/step - loss: 0.0103 - accuracy: 0.9966 - val_loss: 1.3012 - val_accuracy: 0.8487\n",
      "Epoch 47/50\n",
      "100/100 [==============================] - 11s 110ms/step - loss: 0.0151 - accuracy: 0.9952 - val_loss: 1.5166 - val_accuracy: 0.8509\n",
      "Epoch 48/50\n",
      "100/100 [==============================] - 11s 111ms/step - loss: 0.0143 - accuracy: 0.9951 - val_loss: 1.2808 - val_accuracy: 0.8608\n",
      "Epoch 49/50\n",
      "100/100 [==============================] - 11s 113ms/step - loss: 0.0185 - accuracy: 0.9945 - val_loss: 1.1828 - val_accuracy: 0.8363\n",
      "Epoch 50/50\n",
      "100/100 [==============================] - 11s 110ms/step - loss: 0.0117 - accuracy: 0.9969 - val_loss: 1.4591 - val_accuracy: 0.8355\n"
     ]
    }
   ],
   "source": [
    "results = model.fit(train_generator,\n",
    "                    steps_per_epoch=100,  # Number of training samples to pull per epoch\n",
    "                    epochs=50,  # Number of epochs\n",
    "                    validation_data=val_generator,\n",
    "                    validation_steps=50,  # Number of validation samples to run validation on\n",
    "                    verbose=1\n",
    "                    )"
   ]
  },
  {
   "cell_type": "code",
   "execution_count": 28,
   "id": "20644172",
   "metadata": {
    "ExecuteTime": {
     "end_time": "2022-05-19T16:50:01.928264Z",
     "start_time": "2022-05-19T16:50:01.713329Z"
    }
   },
   "outputs": [
    {
     "data": {
      "image/png": "[encoded data removed]",
      "text/plain": [
       "<Figure size 720x360 with 2 Axes>"
      ]
     },
     "metadata": {
      "needs_background": "light"
     },
     "output_type": "display_data"
    }
   ],
   "source": [
    "display_mode_trainTestGraphs(results)"
   ]
  },
  {
   "cell_type": "markdown",
   "id": "d4b2ddea",
   "metadata": {},
   "source": [
    "## Adding a dropout layer and furthering depth"
   ]
  },
  {
   "cell_type": "code",
   "execution_count": 31,
   "id": "767edc89",
   "metadata": {
    "ExecuteTime": {
     "end_time": "2022-05-19T16:53:38.103076Z",
     "start_time": "2022-05-19T16:53:38.018056Z"
    }
   },
   "outputs": [
    {
     "name": "stdout",
     "output_type": "stream",
     "text": [
      "Model: \"sequential_11\"\n",
      "_________________________________________________________________\n",
      " Layer (type)                Output Shape              Param #   \n",
      "=================================================================\n",
      " conv2d_42 (Conv2D)          (None, 225, 225, 16)      160       \n",
      "                                                                 \n",
      " max_pooling2d_38 (MaxPoolin  (None, 112, 112, 16)     0         \n",
      " g2D)                                                            \n",
      "                                                                 \n",
      " conv2d_43 (Conv2D)          (None, 110, 110, 32)      4640      \n",
      "                                                                 \n",
      " max_pooling2d_39 (MaxPoolin  (None, 55, 55, 32)       0         \n",
      " g2D)                                                            \n",
      "                                                                 \n",
      " conv2d_44 (Conv2D)          (None, 53, 53, 64)        18496     \n",
      "                                                                 \n",
      " conv2d_45 (Conv2D)          (None, 51, 51, 64)        36928     \n",
      "                                                                 \n",
      " max_pooling2d_40 (MaxPoolin  (None, 25, 25, 64)       0         \n",
      " g2D)                                                            \n",
      "                                                                 \n",
      " conv2d_46 (Conv2D)          (None, 23, 23, 128)       73856     \n",
      "                                                                 \n",
      " conv2d_47 (Conv2D)          (None, 21, 21, 128)       147584    \n",
      "                                                                 \n",
      " max_pooling2d_41 (MaxPoolin  (None, 10, 10, 128)      0         \n",
      " g2D)                                                            \n",
      "                                                                 \n",
      " flatten_11 (Flatten)        (None, 12800)             0         \n",
      "                                                                 \n",
      " dense_26 (Dense)            (None, 1024)              13108224  \n",
      "                                                                 \n",
      " dense_27 (Dense)            (None, 512)               524800    \n",
      "                                                                 \n",
      " dropout_2 (Dropout)         (None, 512)               0         \n",
      "                                                                 \n",
      " dense_28 (Dense)            (None, 8)                 4104      \n",
      "                                                                 \n",
      "=================================================================\n",
      "Total params: 13,918,792\n",
      "Trainable params: 13,918,792\n",
      "Non-trainable params: 0\n",
      "_________________________________________________________________\n"
     ]
    }
   ],
   "source": [
    "model = models.Sequential()\n",
    "\n",
    "model.add(layers.Conv2D(filters=16,\n",
    "                       kernel_size=(3,3),\n",
    "                       activation='relu',\n",
    "                       input_shape=(227,227,1)))\n",
    "model.add(layers.MaxPooling2D(2,2))\n",
    "\n",
    "model.add(layers.Conv2D(32, (3,3), activation='relu'))\n",
    "model.add(layers.MaxPooling2D(2,2))\n",
    "\n",
    "model.add(layers.Conv2D(64, (3,3), activation='relu'))\n",
    "model.add(layers.Conv2D(64, (3,3), activation='relu'))\n",
    "model.add(layers.MaxPooling2D(2,2))\n",
    "\n",
    "model.add(layers.Conv2D(128, (3,3), activation='relu'))\n",
    "model.add(layers.Conv2D(128, (3,3), activation='relu'))\n",
    "model.add(layers.MaxPooling2D(2,2))\n",
    "\n",
    "model.add(layers.Flatten())\n",
    "model.add(layers.Dense(1024, activation='relu'))\n",
    "model.add(layers.Dense(512, activation='relu'))\n",
    "model.add(layers.Dropout(rate=0.2))\n",
    "model.add(layers.Dense(8, activation='softmax'))\n",
    "\n",
    "\n",
    "model.compile(optimizer=optimizers.Adam(learning_rate=0.001),\n",
    "              loss=losses.CategoricalCrossentropy(),\n",
    "              metrics=['accuracy'])\n",
    "\n",
    "\n",
    "model.summary()"
   ]
  },
  {
   "cell_type": "code",
   "execution_count": 32,
   "id": "10f89840",
   "metadata": {
    "ExecuteTime": {
     "end_time": "2022-05-19T17:03:40.719392Z",
     "start_time": "2022-05-19T16:53:49.434343Z"
    }
   },
   "outputs": [
    {
     "name": "stdout",
     "output_type": "stream",
     "text": [
      "Epoch 1/50\n",
      "100/100 [==============================] - 13s 120ms/step - loss: 0.8576 - accuracy: 0.8089 - val_loss: 0.8592 - val_accuracy: 0.7892\n",
      "Epoch 2/50\n",
      "100/100 [==============================] - 12s 116ms/step - loss: 0.7553 - accuracy: 0.8230 - val_loss: 0.8286 - val_accuracy: 0.7959\n",
      "Epoch 3/50\n",
      "100/100 [==============================] - 12s 117ms/step - loss: 0.7258 - accuracy: 0.8194 - val_loss: 0.9099 - val_accuracy: 0.7584\n",
      "Epoch 4/50\n",
      "100/100 [==============================] - 12s 117ms/step - loss: 0.6606 - accuracy: 0.8262 - val_loss: 0.8371 - val_accuracy: 0.7783\n",
      "Epoch 5/50\n",
      "100/100 [==============================] - 12s 117ms/step - loss: 0.5590 - accuracy: 0.8500 - val_loss: 0.6942 - val_accuracy: 0.8072\n",
      "Epoch 6/50\n",
      "100/100 [==============================] - 12s 117ms/step - loss: 0.4899 - accuracy: 0.8634 - val_loss: 0.7023 - val_accuracy: 0.7934\n",
      "Epoch 7/50\n",
      "100/100 [==============================] - 12s 117ms/step - loss: 0.4421 - accuracy: 0.8721 - val_loss: 0.6540 - val_accuracy: 0.8159\n",
      "Epoch 8/50\n",
      "100/100 [==============================] - 12s 117ms/step - loss: 0.4151 - accuracy: 0.8808 - val_loss: 0.6715 - val_accuracy: 0.8045\n",
      "Epoch 9/50\n",
      "100/100 [==============================] - 12s 117ms/step - loss: 0.3709 - accuracy: 0.8866 - val_loss: 0.6413 - val_accuracy: 0.7967\n",
      "Epoch 10/50\n",
      "100/100 [==============================] - 12s 118ms/step - loss: 0.3415 - accuracy: 0.8956 - val_loss: 0.5954 - val_accuracy: 0.8322\n",
      "Epoch 11/50\n",
      "100/100 [==============================] - 12s 119ms/step - loss: 0.3218 - accuracy: 0.9027 - val_loss: 0.5592 - val_accuracy: 0.8408\n",
      "Epoch 12/50\n",
      "100/100 [==============================] - 12s 118ms/step - loss: 0.2936 - accuracy: 0.9099 - val_loss: 0.5758 - val_accuracy: 0.8367\n",
      "Epoch 13/50\n",
      "100/100 [==============================] - 12s 118ms/step - loss: 0.2775 - accuracy: 0.9171 - val_loss: 0.5808 - val_accuracy: 0.8380\n",
      "Epoch 14/50\n",
      "100/100 [==============================] - 12s 118ms/step - loss: 0.2366 - accuracy: 0.9288 - val_loss: 0.6450 - val_accuracy: 0.8284\n",
      "Epoch 15/50\n",
      "100/100 [==============================] - 12s 117ms/step - loss: 0.2363 - accuracy: 0.9279 - val_loss: 0.6229 - val_accuracy: 0.8366\n",
      "Epoch 16/50\n",
      "100/100 [==============================] - 12s 117ms/step - loss: 0.1917 - accuracy: 0.9400 - val_loss: 0.6644 - val_accuracy: 0.8298\n",
      "Epoch 17/50\n",
      "100/100 [==============================] - 12s 117ms/step - loss: 0.1715 - accuracy: 0.9472 - val_loss: 0.6270 - val_accuracy: 0.8400\n",
      "Epoch 18/50\n",
      "100/100 [==============================] - 12s 118ms/step - loss: 0.1523 - accuracy: 0.9531 - val_loss: 0.6278 - val_accuracy: 0.8442\n",
      "Epoch 19/50\n",
      "100/100 [==============================] - 12s 117ms/step - loss: 0.1448 - accuracy: 0.9583 - val_loss: 0.6718 - val_accuracy: 0.8469\n",
      "Epoch 20/50\n",
      "100/100 [==============================] - 12s 117ms/step - loss: 0.1171 - accuracy: 0.9632 - val_loss: 0.6911 - val_accuracy: 0.8408\n",
      "Epoch 21/50\n",
      "100/100 [==============================] - 12s 117ms/step - loss: 0.0972 - accuracy: 0.9712 - val_loss: 0.6438 - val_accuracy: 0.8633\n",
      "Epoch 22/50\n",
      "100/100 [==============================] - 12s 118ms/step - loss: 0.1047 - accuracy: 0.9683 - val_loss: 0.7420 - val_accuracy: 0.8411\n",
      "Epoch 23/50\n",
      "100/100 [==============================] - 12s 118ms/step - loss: 0.0978 - accuracy: 0.9716 - val_loss: 0.7332 - val_accuracy: 0.8566\n",
      "Epoch 24/50\n",
      "100/100 [==============================] - 12s 117ms/step - loss: 0.0776 - accuracy: 0.9753 - val_loss: 0.7337 - val_accuracy: 0.8527\n",
      "Epoch 25/50\n",
      "100/100 [==============================] - 12s 117ms/step - loss: 0.0633 - accuracy: 0.9798 - val_loss: 0.7929 - val_accuracy: 0.8431\n",
      "Epoch 26/50\n",
      "100/100 [==============================] - 12s 117ms/step - loss: 0.0574 - accuracy: 0.9826 - val_loss: 0.7174 - val_accuracy: 0.8492\n",
      "Epoch 27/50\n",
      "100/100 [==============================] - 12s 117ms/step - loss: 0.0524 - accuracy: 0.9816 - val_loss: 0.9460 - val_accuracy: 0.8494\n",
      "Epoch 28/50\n",
      "100/100 [==============================] - 12s 118ms/step - loss: 0.0567 - accuracy: 0.9828 - val_loss: 0.8541 - val_accuracy: 0.8541\n",
      "Epoch 29/50\n",
      "100/100 [==============================] - 12s 118ms/step - loss: 0.0413 - accuracy: 0.9868 - val_loss: 0.8882 - val_accuracy: 0.8545\n",
      "Epoch 30/50\n",
      "100/100 [==============================] - 12s 117ms/step - loss: 0.0338 - accuracy: 0.9895 - val_loss: 0.9504 - val_accuracy: 0.8481\n",
      "Epoch 31/50\n",
      "100/100 [==============================] - 12s 117ms/step - loss: 0.0350 - accuracy: 0.9893 - val_loss: 0.8474 - val_accuracy: 0.8597\n",
      "Epoch 32/50\n",
      "100/100 [==============================] - 12s 117ms/step - loss: 0.0346 - accuracy: 0.9890 - val_loss: 1.0269 - val_accuracy: 0.8597\n",
      "Epoch 33/50\n",
      "100/100 [==============================] - 12s 118ms/step - loss: 0.0407 - accuracy: 0.9880 - val_loss: 0.9017 - val_accuracy: 0.8522\n",
      "Epoch 34/50\n",
      "100/100 [==============================] - 12s 117ms/step - loss: 0.0260 - accuracy: 0.9915 - val_loss: 1.0636 - val_accuracy: 0.8558\n",
      "Epoch 35/50\n",
      "100/100 [==============================] - 12s 118ms/step - loss: 0.0204 - accuracy: 0.9941 - val_loss: 1.1278 - val_accuracy: 0.8458\n",
      "Epoch 36/50\n",
      "100/100 [==============================] - 12s 118ms/step - loss: 0.0258 - accuracy: 0.9925 - val_loss: 1.0075 - val_accuracy: 0.8475\n",
      "Epoch 37/50\n",
      "100/100 [==============================] - 12s 118ms/step - loss: 0.0205 - accuracy: 0.9933 - val_loss: 1.2013 - val_accuracy: 0.8558\n",
      "Epoch 38/50\n",
      "100/100 [==============================] - 12s 118ms/step - loss: 0.0322 - accuracy: 0.9901 - val_loss: 1.0318 - val_accuracy: 0.8553\n",
      "Epoch 39/50\n",
      "100/100 [==============================] - 12s 117ms/step - loss: 0.0347 - accuracy: 0.9882 - val_loss: 1.2501 - val_accuracy: 0.8528\n",
      "Epoch 40/50\n",
      "100/100 [==============================] - 12s 117ms/step - loss: 0.0240 - accuracy: 0.9922 - val_loss: 1.2202 - val_accuracy: 0.8455\n",
      "Epoch 41/50\n",
      "100/100 [==============================] - 12s 117ms/step - loss: 0.0217 - accuracy: 0.9929 - val_loss: 1.1335 - val_accuracy: 0.8606\n",
      "Epoch 42/50\n",
      "100/100 [==============================] - 12s 118ms/step - loss: 0.0188 - accuracy: 0.9939 - val_loss: 1.1933 - val_accuracy: 0.8619\n",
      "Epoch 43/50\n",
      "100/100 [==============================] - 12s 117ms/step - loss: 0.0101 - accuracy: 0.9970 - val_loss: 1.2430 - val_accuracy: 0.8562\n",
      "Epoch 44/50\n",
      "100/100 [==============================] - 12s 118ms/step - loss: 0.0153 - accuracy: 0.9950 - val_loss: 1.2264 - val_accuracy: 0.8433\n",
      "Epoch 45/50\n",
      "100/100 [==============================] - 12s 118ms/step - loss: 0.0192 - accuracy: 0.9939 - val_loss: 1.2924 - val_accuracy: 0.8456\n",
      "Epoch 46/50\n",
      "100/100 [==============================] - 12s 117ms/step - loss: 0.0167 - accuracy: 0.9948 - val_loss: 1.4827 - val_accuracy: 0.8547\n",
      "Epoch 47/50\n",
      "100/100 [==============================] - 12s 117ms/step - loss: 0.0224 - accuracy: 0.9931 - val_loss: 1.2841 - val_accuracy: 0.8486\n",
      "Epoch 48/50\n",
      "100/100 [==============================] - 12s 117ms/step - loss: 0.0211 - accuracy: 0.9940 - val_loss: 1.2168 - val_accuracy: 0.8570\n",
      "Epoch 49/50\n",
      "100/100 [==============================] - 12s 117ms/step - loss: 0.0131 - accuracy: 0.9959 - val_loss: 1.3269 - val_accuracy: 0.8517\n",
      "Epoch 50/50\n",
      "100/100 [==============================] - 12s 118ms/step - loss: 0.0101 - accuracy: 0.9968 - val_loss: 1.2793 - val_accuracy: 0.8531\n"
     ]
    }
   ],
   "source": [
    "results = model.fit(train_generator,\n",
    "                    steps_per_epoch=100,  # Number of training samples to pull per epoch\n",
    "                    epochs=50,  # Number of epochs\n",
    "                    validation_data=val_generator,\n",
    "                    validation_steps=50,  # Number of validation samples to run validation on\n",
    "                    verbose=1\n",
    "                    )"
   ]
  },
  {
   "cell_type": "code",
   "execution_count": 33,
   "id": "1193a49c",
   "metadata": {
    "ExecuteTime": {
     "end_time": "2022-05-19T17:03:41.034513Z",
     "start_time": "2022-05-19T17:03:40.848471Z"
    }
   },
   "outputs": [
    {
     "data": {
      "image/png": "[encoded data removed]",
      "text/plain": [
       "<Figure size 720x360 with 2 Axes>"
      ]
     },
     "metadata": {
      "needs_background": "light"
     },
     "output_type": "display_data"
    }
   ],
   "source": [
    "display_mode_trainTestGraphs(results)"
   ]
  },
  {
   "cell_type": "code",
   "execution_count": 37,
   "id": "4dc8d04b",
   "metadata": {
    "ExecuteTime": {
     "end_time": "2022-05-19T17:11:46.072628Z",
     "start_time": "2022-05-19T17:11:45.980607Z"
    }
   },
   "outputs": [
    {
     "name": "stdout",
     "output_type": "stream",
     "text": [
      "Model: \"sequential_12\"\n",
      "_________________________________________________________________\n",
      " Layer (type)                Output Shape              Param #   \n",
      "=================================================================\n",
      " conv2d_48 (Conv2D)          (None, 225, 225, 16)      160       \n",
      "                                                                 \n",
      " max_pooling2d_42 (MaxPoolin  (None, 112, 112, 16)     0         \n",
      " g2D)                                                            \n",
      "                                                                 \n",
      " conv2d_49 (Conv2D)          (None, 110, 110, 32)      4640      \n",
      "                                                                 \n",
      " max_pooling2d_43 (MaxPoolin  (None, 55, 55, 32)       0         \n",
      " g2D)                                                            \n",
      "                                                                 \n",
      " conv2d_50 (Conv2D)          (None, 53, 53, 64)        18496     \n",
      "                                                                 \n",
      " conv2d_51 (Conv2D)          (None, 51, 51, 64)        36928     \n",
      "                                                                 \n",
      " max_pooling2d_44 (MaxPoolin  (None, 25, 25, 64)       0         \n",
      " g2D)                                                            \n",
      "                                                                 \n",
      " conv2d_52 (Conv2D)          (None, 23, 23, 128)       73856     \n",
      "                                                                 \n",
      " conv2d_53 (Conv2D)          (None, 21, 21, 128)       147584    \n",
      "                                                                 \n",
      " max_pooling2d_45 (MaxPoolin  (None, 10, 10, 128)      0         \n",
      " g2D)                                                            \n",
      "                                                                 \n",
      " flatten_12 (Flatten)        (None, 12800)             0         \n",
      "                                                                 \n",
      " dense_29 (Dense)            (None, 1024)              13108224  \n",
      "                                                                 \n",
      " dense_30 (Dense)            (None, 512)               524800    \n",
      "                                                                 \n",
      " dropout_3 (Dropout)         (None, 512)               0         \n",
      "                                                                 \n",
      " dense_31 (Dense)            (None, 8)                 4104      \n",
      "                                                                 \n",
      "=================================================================\n",
      "Total params: 13,918,792\n",
      "Trainable params: 13,918,792\n",
      "Non-trainable params: 0\n",
      "_________________________________________________________________\n"
     ]
    }
   ],
   "source": [
    "## Increasing dropout rate\n",
    "model = models.Sequential()\n",
    "\n",
    "model.add(layers.Conv2D(filters=16,\n",
    "                       kernel_size=(3,3),\n",
    "                       activation='relu',\n",
    "                       input_shape=(227,227,1)))\n",
    "model.add(layers.MaxPooling2D(2,2))\n",
    "\n",
    "model.add(layers.Conv2D(32, (3,3), activation='relu'))\n",
    "model.add(layers.MaxPooling2D(2,2))\n",
    "\n",
    "model.add(layers.Conv2D(64, (3,3), activation='relu'))\n",
    "model.add(layers.Conv2D(64, (3,3), activation='relu'))\n",
    "model.add(layers.MaxPooling2D(2,2))\n",
    "\n",
    "model.add(layers.Conv2D(128, (3,3), activation='relu'))\n",
    "model.add(layers.Conv2D(128, (3,3), activation='relu'))\n",
    "model.add(layers.MaxPooling2D(2,2))\n",
    "\n",
    "model.add(layers.Flatten())\n",
    "model.add(layers.Dense(1024, activation='relu'))\n",
    "model.add(layers.Dense(512, activation='relu'))\n",
    "model.add(layers.Dropout(rate=0.5))\n",
    "model.add(layers.Dense(8, activation='softmax'))\n",
    "\n",
    "\n",
    "model.compile(optimizer=optimizers.Adam(learning_rate=0.001),\n",
    "              loss=losses.CategoricalCrossentropy(),\n",
    "              metrics=['accuracy'])\n",
    "\n",
    "\n",
    "model.summary()"
   ]
  },
  {
   "cell_type": "code",
   "execution_count": 39,
   "id": "1c31f0b7",
   "metadata": {
    "ExecuteTime": {
     "end_time": "2022-05-19T17:15:08.675184Z",
     "start_time": "2022-05-19T17:12:23.116690Z"
    }
   },
   "outputs": [
    {
     "name": "stdout",
     "output_type": "stream",
     "text": [
      "Epoch 1/50\n",
      "100/100 [==============================] - 12s 119ms/step - loss: 0.8514 - accuracy: 0.8141 - val_loss: 0.8730 - val_accuracy: 0.7931\n",
      "Epoch 2/50\n",
      "100/100 [==============================] - 12s 117ms/step - loss: 0.7953 - accuracy: 0.8160 - val_loss: 0.8651 - val_accuracy: 0.7930\n",
      "Epoch 3/50\n",
      "100/100 [==============================] - 12s 117ms/step - loss: 0.7069 - accuracy: 0.8205 - val_loss: 0.7864 - val_accuracy: 0.7972\n",
      "Epoch 4/50\n",
      "100/100 [==============================] - 12s 117ms/step - loss: 0.5974 - accuracy: 0.8410 - val_loss: 0.7638 - val_accuracy: 0.7958\n",
      "Epoch 5/50\n",
      "100/100 [==============================] - 12s 118ms/step - loss: 0.5416 - accuracy: 0.8539 - val_loss: 0.6774 - val_accuracy: 0.8097\n",
      "Epoch 6/50\n",
      "100/100 [==============================] - 12s 117ms/step - loss: 0.4687 - accuracy: 0.8716 - val_loss: 0.6686 - val_accuracy: 0.8083\n",
      "Epoch 7/50\n",
      "100/100 [==============================] - 12s 117ms/step - loss: 0.4420 - accuracy: 0.8727 - val_loss: 0.6529 - val_accuracy: 0.8200\n",
      "Epoch 8/50\n",
      "100/100 [==============================] - 12s 117ms/step - loss: 0.4086 - accuracy: 0.8778 - val_loss: 0.6299 - val_accuracy: 0.8217\n",
      "Epoch 9/50\n",
      "100/100 [==============================] - 12s 118ms/step - loss: 0.3809 - accuracy: 0.8864 - val_loss: 0.7080 - val_accuracy: 0.7725\n",
      "Epoch 10/50\n",
      "100/100 [==============================] - 12s 117ms/step - loss: 0.3460 - accuracy: 0.8953 - val_loss: 0.6477 - val_accuracy: 0.8017\n",
      "Epoch 11/50\n",
      "100/100 [==============================] - 12s 118ms/step - loss: 0.3165 - accuracy: 0.9046 - val_loss: 0.6164 - val_accuracy: 0.8375\n",
      "Epoch 12/50\n",
      "100/100 [==============================] - 12s 117ms/step - loss: 0.2924 - accuracy: 0.9116 - val_loss: 0.6525 - val_accuracy: 0.8055\n",
      "Epoch 13/50\n",
      "100/100 [==============================] - 12s 118ms/step - loss: 0.2699 - accuracy: 0.9152 - val_loss: 0.6490 - val_accuracy: 0.8278\n",
      "Epoch 14/50\n",
      "100/100 [==============================] - 12s 117ms/step - loss: 0.2472 - accuracy: 0.9242 - val_loss: 0.6905 - val_accuracy: 0.8213\n",
      "Epoch 14: early stopping\n"
     ]
    }
   ],
   "source": [
    "results = model.fit(train_generator,\n",
    "                    steps_per_epoch=100,  # Number of training samples to pull per epoch\n",
    "                    epochs=50,  # Number of epochs\n",
    "                    validation_data=val_generator,\n",
    "                    validation_steps=50,  # Number of validation samples to run validation on\n",
    "                    verbose=1,\n",
    "                    callbacks = [early_stop]\n",
    "                    )"
   ]
  },
  {
   "cell_type": "code",
   "execution_count": 40,
   "id": "669429ae",
   "metadata": {
    "ExecuteTime": {
     "end_time": "2022-05-19T17:15:23.634367Z",
     "start_time": "2022-05-19T17:15:23.436192Z"
    }
   },
   "outputs": [
    {
     "data": {
      "image/png": "[encoded data removed]",
      "text/plain": [
       "<Figure size 720x360 with 2 Axes>"
      ]
     },
     "metadata": {
      "needs_background": "light"
     },
     "output_type": "display_data"
    }
   ],
   "source": [
    "display_mode_trainTestGraphs(results)"
   ]
  },
  {
   "cell_type": "code",
   "execution_count": null,
   "id": "72d8d6eb",
   "metadata": {},
   "outputs": [],
   "source": []
  },
  {
   "cell_type": "markdown",
   "id": "605d52c3",
   "metadata": {},
   "source": [
    "## Even deeeeeper NN"
   ]
  },
  {
   "cell_type": "code",
   "execution_count": 45,
   "id": "41dac006",
   "metadata": {
    "ExecuteTime": {
     "end_time": "2022-05-19T17:25:51.030869Z",
     "start_time": "2022-05-19T17:25:50.933847Z"
    }
   },
   "outputs": [
    {
     "name": "stdout",
     "output_type": "stream",
     "text": [
      "Model: \"sequential_15\"\n",
      "_________________________________________________________________\n",
      " Layer (type)                Output Shape              Param #   \n",
      "=================================================================\n",
      " conv2d_76 (Conv2D)          (None, 225, 225, 16)      160       \n",
      "                                                                 \n",
      " max_pooling2d_56 (MaxPoolin  (None, 112, 112, 16)     0         \n",
      " g2D)                                                            \n",
      "                                                                 \n",
      " conv2d_77 (Conv2D)          (None, 110, 110, 64)      9280      \n",
      "                                                                 \n",
      " conv2d_78 (Conv2D)          (None, 108, 108, 64)      36928     \n",
      "                                                                 \n",
      " max_pooling2d_57 (MaxPoolin  (None, 54, 54, 64)       0         \n",
      " g2D)                                                            \n",
      "                                                                 \n",
      " conv2d_79 (Conv2D)          (None, 52, 52, 128)       73856     \n",
      "                                                                 \n",
      " conv2d_80 (Conv2D)          (None, 50, 50, 128)       147584    \n",
      "                                                                 \n",
      " max_pooling2d_58 (MaxPoolin  (None, 25, 25, 128)      0         \n",
      " g2D)                                                            \n",
      "                                                                 \n",
      " conv2d_81 (Conv2D)          (None, 23, 23, 256)       295168    \n",
      "                                                                 \n",
      " conv2d_82 (Conv2D)          (None, 21, 21, 256)       590080    \n",
      "                                                                 \n",
      " conv2d_83 (Conv2D)          (None, 19, 19, 256)       590080    \n",
      "                                                                 \n",
      " max_pooling2d_59 (MaxPoolin  (None, 9, 9, 256)        0         \n",
      " g2D)                                                            \n",
      "                                                                 \n",
      " flatten_15 (Flatten)        (None, 20736)             0         \n",
      "                                                                 \n",
      " dense_40 (Dense)            (None, 1024)              21234688  \n",
      "                                                                 \n",
      " dense_41 (Dense)            (None, 1024)              1049600   \n",
      "                                                                 \n",
      " dense_42 (Dense)            (None, 8)                 8200      \n",
      "                                                                 \n",
      "=================================================================\n",
      "Total params: 24,035,624\n",
      "Trainable params: 24,035,624\n",
      "Non-trainable params: 0\n",
      "_________________________________________________________________\n"
     ]
    }
   ],
   "source": [
    "model = models.Sequential()\n",
    "\n",
    "model.add(layers.Conv2D(filters=16,\n",
    "                       kernel_size=(3,3),\n",
    "                       activation='relu',\n",
    "                       input_shape=(227,227,1)))\n",
    "model.add(layers.MaxPooling2D(2,2))\n",
    "\n",
    "model.add(layers.Conv2D(64, (3,3), activation='relu'))\n",
    "model.add(layers.Conv2D(64, (3,3), activation='relu'))\n",
    "model.add(layers.MaxPooling2D(2,2))\n",
    "\n",
    "model.add(layers.Conv2D(128, (3,3), activation='relu'))\n",
    "model.add(layers.Conv2D(128, (3,3), activation='relu'))\n",
    "model.add(layers.MaxPooling2D(2,2))\n",
    "\n",
    "model.add(layers.Conv2D(256, (3,3), activation='relu'))\n",
    "model.add(layers.Conv2D(256, (3,3), activation='relu'))\n",
    "model.add(layers.Conv2D(256, (3,3), activation='relu'))\n",
    "model.add(layers.MaxPooling2D(2,2))\n",
    "\n",
    "# model.add(layers.Conv2D(512, (3,3), activation='relu'))\n",
    "# model.add(layers.Conv2D(512, (3,3), activation='relu'))\n",
    "# model.add(layers.Conv2D(512, (3,3), activation='relu'))\n",
    "# model.add(layers.MaxPooling2D(2,2))\n",
    "\n",
    "model.add(layers.Flatten())\n",
    "model.add(layers.Dense(1024, activation='relu'))\n",
    "model.add(layers.Dense(1024, activation='relu'))\n",
    "model.add(layers.Dense(8, activation='softmax'))\n",
    "\n",
    "\n",
    "model.compile(optimizer=optimizers.Adam(learning_rate=0.001),\n",
    "              loss=losses.CategoricalCrossentropy(),\n",
    "              metrics=['accuracy'])\n",
    "\n",
    "\n",
    "model.summary()"
   ]
  },
  {
   "cell_type": "code",
   "execution_count": 46,
   "id": "61981817",
   "metadata": {
    "ExecuteTime": {
     "end_time": "2022-05-19T17:30:56.619188Z",
     "start_time": "2022-05-19T17:25:51.910833Z"
    }
   },
   "outputs": [
    {
     "name": "stdout",
     "output_type": "stream",
     "text": [
      "Epoch 1/50\n",
      "100/100 [==============================] - 24s 234ms/step - loss: 1.0075 - accuracy: 0.8101 - val_loss: 0.8736 - val_accuracy: 0.7877\n",
      "Epoch 2/50\n",
      "100/100 [==============================] - 23s 233ms/step - loss: 0.7871 - accuracy: 0.8184 - val_loss: 0.8622 - val_accuracy: 0.7911\n",
      "Epoch 3/50\n",
      "100/100 [==============================] - 23s 233ms/step - loss: 0.8084 - accuracy: 0.8124 - val_loss: 0.9027 - val_accuracy: 0.7916\n",
      "Epoch 4/50\n",
      "100/100 [==============================] - 23s 234ms/step - loss: 0.7938 - accuracy: 0.8183 - val_loss: 0.8755 - val_accuracy: 0.7928\n",
      "Epoch 5/50\n",
      "100/100 [==============================] - 23s 234ms/step - loss: 0.7803 - accuracy: 0.8184 - val_loss: 0.8616 - val_accuracy: 0.7919\n",
      "Epoch 6/50\n",
      "100/100 [==============================] - 23s 234ms/step - loss: 0.7929 - accuracy: 0.8168 - val_loss: 0.8869 - val_accuracy: 0.7837\n",
      "Epoch 7/50\n",
      "100/100 [==============================] - 23s 234ms/step - loss: 0.7876 - accuracy: 0.8159 - val_loss: 0.8632 - val_accuracy: 0.7975\n",
      "Epoch 8/50\n",
      "100/100 [==============================] - 23s 234ms/step - loss: 0.7940 - accuracy: 0.8166 - val_loss: 0.8607 - val_accuracy: 0.7912\n",
      "Epoch 9/50\n",
      "100/100 [==============================] - 23s 234ms/step - loss: 0.7922 - accuracy: 0.8166 - val_loss: 0.8581 - val_accuracy: 0.7933\n",
      "Epoch 10/50\n",
      "100/100 [==============================] - 23s 232ms/step - loss: 0.7893 - accuracy: 0.8174 - val_loss: 0.8391 - val_accuracy: 0.7959\n",
      "Epoch 11/50\n",
      "100/100 [==============================] - 23s 232ms/step - loss: 0.7814 - accuracy: 0.8199 - val_loss: 0.8663 - val_accuracy: 0.7970\n",
      "Epoch 12/50\n",
      "100/100 [==============================] - 23s 232ms/step - loss: 0.7879 - accuracy: 0.8173 - val_loss: 0.8700 - val_accuracy: 0.7894\n",
      "Epoch 13/50\n",
      "100/100 [==============================] - 23s 232ms/step - loss: 0.7752 - accuracy: 0.8220 - val_loss: 0.8814 - val_accuracy: 0.7852\n",
      "Epoch 13: early stopping\n"
     ]
    }
   ],
   "source": [
    "results = model.fit(train_generator,\n",
    "                    steps_per_epoch=100,  # Number of training samples to pull per epoch\n",
    "                    epochs=50,  # Number of epochs\n",
    "                    validation_data=val_generator,\n",
    "                    validation_steps=50,  # Number of validation samples to run validation on\n",
    "                    verbose=1,\n",
    "                    callbacks = [early_stop]\n",
    "                    )"
   ]
  },
  {
   "cell_type": "code",
   "execution_count": 47,
   "id": "4eb08b70",
   "metadata": {
    "ExecuteTime": {
     "end_time": "2022-05-19T17:33:24.595631Z",
     "start_time": "2022-05-19T17:33:24.495609Z"
    }
   },
   "outputs": [
    {
     "name": "stdout",
     "output_type": "stream",
     "text": [
      "Model: \"sequential_16\"\n",
      "_________________________________________________________________\n",
      " Layer (type)                Output Shape              Param #   \n",
      "=================================================================\n",
      " conv2d_84 (Conv2D)          (None, 225, 225, 16)      160       \n",
      "                                                                 \n",
      " max_pooling2d_60 (MaxPoolin  (None, 112, 112, 16)     0         \n",
      " g2D)                                                            \n",
      "                                                                 \n",
      " conv2d_85 (Conv2D)          (None, 110, 110, 64)      9280      \n",
      "                                                                 \n",
      " conv2d_86 (Conv2D)          (None, 108, 108, 64)      36928     \n",
      "                                                                 \n",
      " max_pooling2d_61 (MaxPoolin  (None, 54, 54, 64)       0         \n",
      " g2D)                                                            \n",
      "                                                                 \n",
      " conv2d_87 (Conv2D)          (None, 52, 52, 128)       73856     \n",
      "                                                                 \n",
      " conv2d_88 (Conv2D)          (None, 50, 50, 128)       147584    \n",
      "                                                                 \n",
      " max_pooling2d_62 (MaxPoolin  (None, 25, 25, 128)      0         \n",
      " g2D)                                                            \n",
      "                                                                 \n",
      " conv2d_89 (Conv2D)          (None, 23, 23, 256)       295168    \n",
      "                                                                 \n",
      " conv2d_90 (Conv2D)          (None, 21, 21, 256)       590080    \n",
      "                                                                 \n",
      " conv2d_91 (Conv2D)          (None, 19, 19, 256)       590080    \n",
      "                                                                 \n",
      " max_pooling2d_63 (MaxPoolin  (None, 9, 9, 256)        0         \n",
      " g2D)                                                            \n",
      "                                                                 \n",
      " flatten_16 (Flatten)        (None, 20736)             0         \n",
      "                                                                 \n",
      " dense_43 (Dense)            (None, 1024)              21234688  \n",
      "                                                                 \n",
      " dense_44 (Dense)            (None, 1024)              1049600   \n",
      "                                                                 \n",
      " dropout_5 (Dropout)         (None, 1024)              0         \n",
      "                                                                 \n",
      " dense_45 (Dense)            (None, 8)                 8200      \n",
      "                                                                 \n",
      "=================================================================\n",
      "Total params: 24,035,624\n",
      "Trainable params: 24,035,624\n",
      "Non-trainable params: 0\n",
      "_________________________________________________________________\n"
     ]
    }
   ],
   "source": [
    "# with dropout\n",
    "model = models.Sequential()\n",
    "\n",
    "model.add(layers.Conv2D(filters=16,\n",
    "                       kernel_size=(3,3),\n",
    "                       activation='relu',\n",
    "                       input_shape=(227,227,1)))\n",
    "model.add(layers.MaxPooling2D(2,2))\n",
    "\n",
    "model.add(layers.Conv2D(64, (3,3), activation='relu'))\n",
    "model.add(layers.Conv2D(64, (3,3), activation='relu'))\n",
    "model.add(layers.MaxPooling2D(2,2))\n",
    "\n",
    "model.add(layers.Conv2D(128, (3,3), activation='relu'))\n",
    "model.add(layers.Conv2D(128, (3,3), activation='relu'))\n",
    "model.add(layers.MaxPooling2D(2,2))\n",
    "\n",
    "model.add(layers.Conv2D(256, (3,3), activation='relu'))\n",
    "model.add(layers.Conv2D(256, (3,3), activation='relu'))\n",
    "model.add(layers.Conv2D(256, (3,3), activation='relu'))\n",
    "model.add(layers.MaxPooling2D(2,2))\n",
    "\n",
    "# model.add(layers.Conv2D(512, (3,3), activation='relu'))\n",
    "# model.add(layers.Conv2D(512, (3,3), activation='relu'))\n",
    "# model.add(layers.Conv2D(512, (3,3), activation='relu'))\n",
    "# model.add(layers.MaxPooling2D(2,2))\n",
    "\n",
    "model.add(layers.Flatten())\n",
    "model.add(layers.Dense(1024, activation='relu'))\n",
    "model.add(layers.Dense(1024, activation='relu'))\n",
    "model.add(layers.Dropout(rate=0.2))\n",
    "model.add(layers.Dense(8, activation='softmax'))\n",
    "\n",
    "\n",
    "model.compile(optimizer=optimizers.Adam(learning_rate=0.001),\n",
    "              loss=losses.CategoricalCrossentropy(),\n",
    "              metrics=['accuracy'])\n",
    "\n",
    "\n",
    "model.summary()"
   ]
  },
  {
   "cell_type": "code",
   "execution_count": 48,
   "id": "1f45c608",
   "metadata": {
    "ExecuteTime": {
     "end_time": "2022-05-19T17:36:42.950171Z",
     "start_time": "2022-05-19T17:33:35.143142Z"
    }
   },
   "outputs": [
    {
     "name": "stdout",
     "output_type": "stream",
     "text": [
      "Epoch 1/50\n",
      "100/100 [==============================] - 24s 232ms/step - loss: 0.9157 - accuracy: 0.8070 - val_loss: 0.8919 - val_accuracy: 0.7819\n",
      "Epoch 2/50\n",
      "100/100 [==============================] - 23s 233ms/step - loss: 0.7764 - accuracy: 0.8233 - val_loss: 0.8710 - val_accuracy: 0.7919\n",
      "Epoch 3/50\n",
      "100/100 [==============================] - 23s 232ms/step - loss: 0.7820 - accuracy: 0.8207 - val_loss: 0.8650 - val_accuracy: 0.7906\n",
      "Epoch 4/50\n",
      "100/100 [==============================] - 23s 233ms/step - loss: 0.7807 - accuracy: 0.8186 - val_loss: 0.8698 - val_accuracy: 0.7967\n",
      "Epoch 5/50\n",
      "100/100 [==============================] - 23s 233ms/step - loss: 0.8016 - accuracy: 0.8172 - val_loss: 0.8499 - val_accuracy: 0.7927\n",
      "Epoch 6/50\n",
      "100/100 [==============================] - 23s 234ms/step - loss: 0.7908 - accuracy: 0.8184 - val_loss: 0.8602 - val_accuracy: 0.7906\n",
      "Epoch 7/50\n",
      "100/100 [==============================] - 24s 236ms/step - loss: 0.7888 - accuracy: 0.8174 - val_loss: 0.8678 - val_accuracy: 0.7897\n",
      "Epoch 8/50\n",
      "100/100 [==============================] - 23s 233ms/step - loss: 0.7871 - accuracy: 0.8191 - val_loss: 0.8606 - val_accuracy: 0.7975\n",
      "Epoch 8: early stopping\n"
     ]
    }
   ],
   "source": [
    "results = model.fit(train_generator,\n",
    "                    steps_per_epoch=100,  # Number of training samples to pull per epoch\n",
    "                    epochs=50,  # Number of epochs\n",
    "                    validation_data=val_generator,\n",
    "                    validation_steps=50,  # Number of validation samples to run validation on\n",
    "                    verbose=1,\n",
    "                    callbacks = [early_stop]\n",
    "                    )"
   ]
  },
  {
   "cell_type": "code",
   "execution_count": 52,
   "id": "cea6bfa1",
   "metadata": {
    "ExecuteTime": {
     "end_time": "2022-05-19T17:43:26.196133Z",
     "start_time": "2022-05-19T17:43:26.096110Z"
    }
   },
   "outputs": [
    {
     "name": "stdout",
     "output_type": "stream",
     "text": [
      "Model: \"sequential_18\"\n",
      "_________________________________________________________________\n",
      " Layer (type)                Output Shape              Param #   \n",
      "=================================================================\n",
      " conv2d_100 (Conv2D)         (None, 225, 225, 16)      160       \n",
      "                                                                 \n",
      " max_pooling2d_68 (MaxPoolin  (None, 112, 112, 16)     0         \n",
      " g2D)                                                            \n",
      "                                                                 \n",
      " conv2d_101 (Conv2D)         (None, 110, 110, 64)      9280      \n",
      "                                                                 \n",
      " conv2d_102 (Conv2D)         (None, 108, 108, 64)      36928     \n",
      "                                                                 \n",
      " max_pooling2d_69 (MaxPoolin  (None, 54, 54, 64)       0         \n",
      " g2D)                                                            \n",
      "                                                                 \n",
      " conv2d_103 (Conv2D)         (None, 52, 52, 128)       73856     \n",
      "                                                                 \n",
      " conv2d_104 (Conv2D)         (None, 50, 50, 128)       147584    \n",
      "                                                                 \n",
      " max_pooling2d_70 (MaxPoolin  (None, 25, 25, 128)      0         \n",
      " g2D)                                                            \n",
      "                                                                 \n",
      " conv2d_105 (Conv2D)         (None, 23, 23, 256)       295168    \n",
      "                                                                 \n",
      " conv2d_106 (Conv2D)         (None, 21, 21, 256)       590080    \n",
      "                                                                 \n",
      " conv2d_107 (Conv2D)         (None, 19, 19, 256)       590080    \n",
      "                                                                 \n",
      " max_pooling2d_71 (MaxPoolin  (None, 9, 9, 256)        0         \n",
      " g2D)                                                            \n",
      "                                                                 \n",
      " flatten_18 (Flatten)        (None, 20736)             0         \n",
      "                                                                 \n",
      " dense_49 (Dense)            (None, 1024)              21234688  \n",
      "                                                                 \n",
      " dense_50 (Dense)            (None, 512)               524800    \n",
      "                                                                 \n",
      " dropout_7 (Dropout)         (None, 512)               0         \n",
      "                                                                 \n",
      " dense_51 (Dense)            (None, 8)                 4104      \n",
      "                                                                 \n",
      "=================================================================\n",
      "Total params: 23,506,728\n",
      "Trainable params: 23,506,728\n",
      "Non-trainable params: 0\n",
      "_________________________________________________________________\n"
     ]
    }
   ],
   "source": [
    "# with dropout\n",
    "model = models.Sequential()\n",
    "\n",
    "model.add(layers.Conv2D(filters=16,\n",
    "                       kernel_size=(3,3),\n",
    "                       activation='relu',\n",
    "                       input_shape=(227,227,1)))\n",
    "model.add(layers.MaxPooling2D(2,2))\n",
    "\n",
    "model.add(layers.Conv2D(64, (3,3), activation='relu'))\n",
    "model.add(layers.Conv2D(64, (3,3), activation='relu'))\n",
    "model.add(layers.MaxPooling2D(2,2))\n",
    "\n",
    "model.add(layers.Conv2D(128, (3,3), activation='relu'))\n",
    "model.add(layers.Conv2D(128, (3,3), activation='relu'))\n",
    "model.add(layers.MaxPooling2D(2,2))\n",
    "\n",
    "model.add(layers.Conv2D(256, (3,3), activation='relu'))\n",
    "model.add(layers.Conv2D(256, (3,3), activation='relu'))\n",
    "model.add(layers.Conv2D(256, (3,3), activation='relu'))\n",
    "model.add(layers.MaxPooling2D(2,2))\n",
    "\n",
    "# model.add(layers.Conv2D(512, (3,3), activation='relu'))\n",
    "# model.add(layers.Conv2D(512, (3,3), activation='relu'))\n",
    "# model.add(layers.Conv2D(512, (3,3), activation='relu'))\n",
    "# model.add(layers.MaxPooling2D(2,2))\n",
    "\n",
    "model.add(layers.Flatten())\n",
    "model.add(layers.Dense(1024, activation='relu'))\n",
    "model.add(layers.Dense(512, activation='relu'))\n",
    "model.add(layers.Dropout(rate=0.2))\n",
    "model.add(layers.Dense(8, activation='softmax'))\n",
    "\n",
    "\n",
    "model.compile(optimizer=optimizers.Adam(learning_rate=0.001),\n",
    "              loss=losses.CategoricalCrossentropy(),\n",
    "              metrics=['accuracy'])\n",
    "\n",
    "\n",
    "model.summary()"
   ]
  },
  {
   "cell_type": "code",
   "execution_count": 53,
   "id": "c68f85b4",
   "metadata": {
    "ExecuteTime": {
     "end_time": "2022-05-19T17:46:34.772104Z",
     "start_time": "2022-05-19T17:43:26.745045Z"
    }
   },
   "outputs": [
    {
     "name": "stdout",
     "output_type": "stream",
     "text": [
      "Epoch 1/50\n",
      "100/100 [==============================] - 24s 233ms/step - loss: 1.0136 - accuracy: 0.7926 - val_loss: 0.8776 - val_accuracy: 0.7997\n",
      "Epoch 2/50\n",
      "100/100 [==============================] - 23s 232ms/step - loss: 0.8082 - accuracy: 0.8135 - val_loss: 0.8774 - val_accuracy: 0.7877\n",
      "Epoch 3/50\n",
      "100/100 [==============================] - 23s 233ms/step - loss: 0.7991 - accuracy: 0.8134 - val_loss: 0.8449 - val_accuracy: 0.7997\n",
      "Epoch 4/50\n",
      "100/100 [==============================] - 23s 233ms/step - loss: 0.8080 - accuracy: 0.8127 - val_loss: 0.8706 - val_accuracy: 0.7895\n",
      "Epoch 5/50\n",
      "100/100 [==============================] - 23s 235ms/step - loss: 0.8027 - accuracy: 0.8126 - val_loss: 0.8781 - val_accuracy: 0.7930\n",
      "Epoch 6/50\n",
      "100/100 [==============================] - 23s 234ms/step - loss: 0.7981 - accuracy: 0.8166 - val_loss: 0.8568 - val_accuracy: 0.7920\n",
      "Epoch 7/50\n",
      "100/100 [==============================] - 23s 234ms/step - loss: 0.8056 - accuracy: 0.8130 - val_loss: 0.8498 - val_accuracy: 0.7959\n",
      "Epoch 8/50\n",
      "100/100 [==============================] - 23s 234ms/step - loss: 0.7872 - accuracy: 0.8204 - val_loss: 0.8640 - val_accuracy: 0.7908\n",
      "Epoch 8: early stopping\n"
     ]
    }
   ],
   "source": [
    "results = model.fit(train_generator,\n",
    "                    steps_per_epoch=100,  # Number of training samples to pull per epoch\n",
    "                    epochs=50,  # Number of epochs\n",
    "                    validation_data=val_generator,\n",
    "                    validation_steps=50,  # Number of validation samples to run validation on\n",
    "                    verbose=1,\n",
    "                    callbacks = [early_stop]\n",
    "                    )"
   ]
  },
  {
   "cell_type": "markdown",
   "id": "a92da815",
   "metadata": {},
   "source": [
    "# Reducing multiple conv layers"
   ]
  },
  {
   "cell_type": "code",
   "execution_count": 58,
   "id": "257f8d7a",
   "metadata": {
    "ExecuteTime": {
     "end_time": "2022-05-19T18:13:27.127809Z",
     "start_time": "2022-05-19T18:13:27.052791Z"
    }
   },
   "outputs": [
    {
     "name": "stdout",
     "output_type": "stream",
     "text": [
      "Model: \"sequential_20\"\n",
      "_________________________________________________________________\n",
      " Layer (type)                Output Shape              Param #   \n",
      "=================================================================\n",
      " conv2d_113 (Conv2D)         (None, 225, 225, 16)      160       \n",
      "                                                                 \n",
      " max_pooling2d_77 (MaxPoolin  (None, 112, 112, 16)     0         \n",
      " g2D)                                                            \n",
      "                                                                 \n",
      " conv2d_114 (Conv2D)         (None, 110, 110, 64)      9280      \n",
      "                                                                 \n",
      " max_pooling2d_78 (MaxPoolin  (None, 55, 55, 64)       0         \n",
      " g2D)                                                            \n",
      "                                                                 \n",
      " conv2d_115 (Conv2D)         (None, 53, 53, 128)       73856     \n",
      "                                                                 \n",
      " max_pooling2d_79 (MaxPoolin  (None, 26, 26, 128)      0         \n",
      " g2D)                                                            \n",
      "                                                                 \n",
      " conv2d_116 (Conv2D)         (None, 24, 24, 256)       295168    \n",
      "                                                                 \n",
      " max_pooling2d_80 (MaxPoolin  (None, 12, 12, 256)      0         \n",
      " g2D)                                                            \n",
      "                                                                 \n",
      " conv2d_117 (Conv2D)         (None, 10, 10, 512)       1180160   \n",
      "                                                                 \n",
      " max_pooling2d_81 (MaxPoolin  (None, 5, 5, 512)        0         \n",
      " g2D)                                                            \n",
      "                                                                 \n",
      " flatten_20 (Flatten)        (None, 12800)             0         \n",
      "                                                                 \n",
      " dense_55 (Dense)            (None, 1024)              13108224  \n",
      "                                                                 \n",
      " dense_56 (Dense)            (None, 512)               524800    \n",
      "                                                                 \n",
      " dropout_9 (Dropout)         (None, 512)               0         \n",
      "                                                                 \n",
      " dense_57 (Dense)            (None, 8)                 4104      \n",
      "                                                                 \n",
      "=================================================================\n",
      "Total params: 15,195,752\n",
      "Trainable params: 15,195,752\n",
      "Non-trainable params: 0\n",
      "_________________________________________________________________\n"
     ]
    }
   ],
   "source": [
    "# with dropout\n",
    "model = models.Sequential()\n",
    "\n",
    "model.add(layers.Conv2D(filters=16,\n",
    "                       kernel_size=(3,3),\n",
    "                       activation='relu',\n",
    "                       input_shape=(227,227,1)))\n",
    "model.add(layers.MaxPooling2D(2,2))\n",
    "\n",
    "model.add(layers.Conv2D(64, (3,3), activation='relu'))\n",
    "model.add(layers.MaxPooling2D(2,2))\n",
    "\n",
    "model.add(layers.Conv2D(128, (3,3), activation='relu'))\n",
    "model.add(layers.MaxPooling2D(2,2))\n",
    "\n",
    "model.add(layers.Conv2D(256, (3,3), activation='relu'))\n",
    "model.add(layers.MaxPooling2D(2,2))\n",
    "\n",
    "model.add(layers.Conv2D(512, (3,3), activation='relu'))\n",
    "model.add(layers.MaxPooling2D(2,2))\n",
    "\n",
    "# model.add(layers.Conv2D(512, (3,3), activation='relu'))\n",
    "# model.add(layers.Conv2D(512, (3,3), activation='relu'))\n",
    "# model.add(layers.Conv2D(512, (3,3), activation='relu'))\n",
    "# model.add(layers.MaxPooling2D(2,2))\n",
    "\n",
    "model.add(layers.Flatten())\n",
    "model.add(layers.Dense(1024, activation='relu'))\n",
    "model.add(layers.Dense(512, activation='relu'))\n",
    "model.add(layers.Dropout(rate=0.2))\n",
    "model.add(layers.Dense(8, activation='softmax'))\n",
    "\n",
    "\n",
    "model.compile(optimizer=optimizers.Adam(learning_rate=0.001),\n",
    "              loss=losses.CategoricalCrossentropy(),\n",
    "              metrics=['accuracy'])\n",
    "\n",
    "\n",
    "model.summary()"
   ]
  },
  {
   "cell_type": "code",
   "execution_count": 59,
   "id": "c3c208f8",
   "metadata": {
    "ExecuteTime": {
     "end_time": "2022-05-19T18:18:12.947894Z",
     "start_time": "2022-05-19T18:13:27.483770Z"
    }
   },
   "outputs": [
    {
     "name": "stdout",
     "output_type": "stream",
     "text": [
      "Epoch 1/50\n",
      "100/100 [==============================] - 18s 178ms/step - loss: 0.8968 - accuracy: 0.8120 - val_loss: 0.8706 - val_accuracy: 0.7904\n",
      "Epoch 2/50\n",
      "100/100 [==============================] - 18s 177ms/step - loss: 0.7775 - accuracy: 0.8183 - val_loss: 0.8791 - val_accuracy: 0.7933\n",
      "Epoch 3/50\n",
      "100/100 [==============================] - 18s 178ms/step - loss: 0.6364 - accuracy: 0.8333 - val_loss: 0.7731 - val_accuracy: 0.7868\n",
      "Epoch 4/50\n",
      "100/100 [==============================] - 18s 177ms/step - loss: 0.5426 - accuracy: 0.8527 - val_loss: 0.7126 - val_accuracy: 0.8159\n",
      "Epoch 5/50\n",
      "100/100 [==============================] - 18s 177ms/step - loss: 0.4803 - accuracy: 0.8654 - val_loss: 0.6816 - val_accuracy: 0.8062\n",
      "Epoch 6/50\n",
      "100/100 [==============================] - 18s 177ms/step - loss: 0.4327 - accuracy: 0.8734 - val_loss: 0.6432 - val_accuracy: 0.8099\n",
      "Epoch 7/50\n",
      "100/100 [==============================] - 18s 178ms/step - loss: 0.3803 - accuracy: 0.8841 - val_loss: 0.6365 - val_accuracy: 0.8066\n",
      "Epoch 8/50\n",
      "100/100 [==============================] - 18s 178ms/step - loss: 0.3782 - accuracy: 0.8879 - val_loss: 0.5684 - val_accuracy: 0.8318\n",
      "Epoch 9/50\n",
      "100/100 [==============================] - 18s 178ms/step - loss: 0.3407 - accuracy: 0.8959 - val_loss: 0.5965 - val_accuracy: 0.8255\n",
      "Epoch 10/50\n",
      "100/100 [==============================] - 18s 178ms/step - loss: 0.3169 - accuracy: 0.9024 - val_loss: 0.5794 - val_accuracy: 0.8188\n",
      "Epoch 11/50\n",
      "100/100 [==============================] - 18s 179ms/step - loss: 0.2886 - accuracy: 0.9120 - val_loss: 0.5497 - val_accuracy: 0.8514\n",
      "Epoch 12/50\n",
      "100/100 [==============================] - 18s 177ms/step - loss: 0.2556 - accuracy: 0.9217 - val_loss: 0.7100 - val_accuracy: 0.7843\n",
      "Epoch 13/50\n",
      "100/100 [==============================] - 18s 178ms/step - loss: 0.2355 - accuracy: 0.9294 - val_loss: 0.5806 - val_accuracy: 0.8540\n",
      "Epoch 14/50\n",
      "100/100 [==============================] - 18s 178ms/step - loss: 0.2067 - accuracy: 0.9365 - val_loss: 0.5729 - val_accuracy: 0.8419\n",
      "Epoch 15/50\n",
      "100/100 [==============================] - 18s 178ms/step - loss: 0.1982 - accuracy: 0.9389 - val_loss: 0.5542 - val_accuracy: 0.8502\n",
      "Epoch 16/50\n",
      "100/100 [==============================] - 18s 179ms/step - loss: 0.1756 - accuracy: 0.9463 - val_loss: 0.5903 - val_accuracy: 0.8393\n",
      "Epoch 16: early stopping\n"
     ]
    }
   ],
   "source": [
    "results = model.fit(train_generator,\n",
    "                    steps_per_epoch=100,  # Number of training samples to pull per epoch\n",
    "                    epochs=50,  # Number of epochs\n",
    "                    validation_data=val_generator,\n",
    "                    validation_steps=100,  # Number of validation samples to run validation on\n",
    "                    verbose=1,\n",
    "                    callbacks = [early_stop]\n",
    "                    )"
   ]
  },
  {
   "cell_type": "code",
   "execution_count": 60,
   "id": "8c0c1d05",
   "metadata": {
    "ExecuteTime": {
     "end_time": "2022-05-19T18:18:13.281700Z",
     "start_time": "2022-05-19T18:18:13.076654Z"
    }
   },
   "outputs": [
    {
     "data": {
      "image/png": "[encoded data removed]",
      "text/plain": [
       "<Figure size 720x360 with 2 Axes>"
      ]
     },
     "metadata": {
      "needs_background": "light"
     },
     "output_type": "display_data"
    }
   ],
   "source": [
    "display_mode_trainTestGraphs(results)"
   ]
  },
  {
   "cell_type": "code",
   "execution_count": 61,
   "id": "3cd68d8f",
   "metadata": {
    "ExecuteTime": {
     "end_time": "2022-05-19T21:26:13.499062Z",
     "start_time": "2022-05-19T21:20:12.941561Z"
    }
   },
   "outputs": [
    {
     "name": "stdout",
     "output_type": "stream",
     "text": [
      "Epoch 1/50\n",
      "100/100 [==============================] - 19s 183ms/step - loss: 0.9192 - accuracy: 0.8066 - val_loss: 0.8576 - val_accuracy: 0.7916\n",
      "Epoch 2/50\n",
      "100/100 [==============================] - 18s 182ms/step - loss: 0.7526 - accuracy: 0.8183 - val_loss: 0.8239 - val_accuracy: 0.7902\n",
      "Epoch 3/50\n",
      "100/100 [==============================] - 18s 181ms/step - loss: 0.6494 - accuracy: 0.8278 - val_loss: 0.8180 - val_accuracy: 0.7895\n",
      "Epoch 4/50\n",
      "100/100 [==============================] - 18s 179ms/step - loss: 0.6016 - accuracy: 0.8346 - val_loss: 0.8047 - val_accuracy: 0.7556\n",
      "Epoch 5/50\n",
      "100/100 [==============================] - 18s 177ms/step - loss: 0.5397 - accuracy: 0.8481 - val_loss: 0.7399 - val_accuracy: 0.7761\n",
      "Epoch 6/50\n",
      "100/100 [==============================] - 18s 178ms/step - loss: 0.5160 - accuracy: 0.8526 - val_loss: 0.7078 - val_accuracy: 0.7935\n",
      "Epoch 7/50\n",
      "100/100 [==============================] - 18s 178ms/step - loss: 0.4809 - accuracy: 0.8608 - val_loss: 0.7212 - val_accuracy: 0.7977\n",
      "Epoch 8/50\n",
      "100/100 [==============================] - 18s 179ms/step - loss: 0.4799 - accuracy: 0.8614 - val_loss: 0.7284 - val_accuracy: 0.7962\n",
      "Epoch 9/50\n",
      "100/100 [==============================] - 18s 180ms/step - loss: 0.4402 - accuracy: 0.8688 - val_loss: 0.7070 - val_accuracy: 0.7883\n",
      "Epoch 10/50\n",
      "100/100 [==============================] - 18s 182ms/step - loss: 0.4204 - accuracy: 0.8748 - val_loss: 0.6756 - val_accuracy: 0.8119\n",
      "Epoch 11/50\n",
      "100/100 [==============================] - 18s 178ms/step - loss: 0.4120 - accuracy: 0.8752 - val_loss: 0.6396 - val_accuracy: 0.8056\n",
      "Epoch 12/50\n",
      "100/100 [==============================] - 18s 180ms/step - loss: 0.3868 - accuracy: 0.8841 - val_loss: 0.6615 - val_accuracy: 0.7995\n",
      "Epoch 13/50\n",
      "100/100 [==============================] - 18s 178ms/step - loss: 0.3778 - accuracy: 0.8841 - val_loss: 0.6165 - val_accuracy: 0.8010\n",
      "Epoch 14/50\n",
      "100/100 [==============================] - 18s 180ms/step - loss: 0.3620 - accuracy: 0.8880 - val_loss: 0.6638 - val_accuracy: 0.8002\n",
      "Epoch 15/50\n",
      "100/100 [==============================] - 18s 177ms/step - loss: 0.3405 - accuracy: 0.8944 - val_loss: 0.5996 - val_accuracy: 0.8215\n",
      "Epoch 16/50\n",
      "100/100 [==============================] - 18s 180ms/step - loss: 0.3453 - accuracy: 0.8940 - val_loss: 0.6085 - val_accuracy: 0.8151\n",
      "Epoch 17/50\n",
      "100/100 [==============================] - 18s 180ms/step - loss: 0.3114 - accuracy: 0.9038 - val_loss: 0.6145 - val_accuracy: 0.8206\n",
      "Epoch 18/50\n",
      "100/100 [==============================] - 18s 181ms/step - loss: 0.3285 - accuracy: 0.9002 - val_loss: 0.6574 - val_accuracy: 0.8219\n",
      "Epoch 19/50\n",
      "100/100 [==============================] - 18s 178ms/step - loss: 0.3200 - accuracy: 0.9013 - val_loss: 0.6035 - val_accuracy: 0.8166\n",
      "Epoch 20/50\n",
      "100/100 [==============================] - 18s 180ms/step - loss: 0.2972 - accuracy: 0.9070 - val_loss: 0.7122 - val_accuracy: 0.7821\n",
      "Epoch 20: early stopping\n"
     ]
    }
   ],
   "source": [
    "# reducing learning rate\n",
    "model = models.Sequential()\n",
    "\n",
    "model.add(layers.Conv2D(filters=16,\n",
    "                       kernel_size=(3,3),\n",
    "                       activation='relu',\n",
    "                       input_shape=(227,227,1)))\n",
    "model.add(layers.MaxPooling2D(2,2))\n",
    "\n",
    "model.add(layers.Conv2D(64, (3,3), activation='relu'))\n",
    "model.add(layers.MaxPooling2D(2,2))\n",
    "\n",
    "model.add(layers.Conv2D(128, (3,3), activation='relu'))\n",
    "model.add(layers.MaxPooling2D(2,2))\n",
    "\n",
    "model.add(layers.Conv2D(256, (3,3), activation='relu'))\n",
    "model.add(layers.MaxPooling2D(2,2))\n",
    "\n",
    "model.add(layers.Conv2D(512, (3,3), activation='relu'))\n",
    "# model.add(layers.Conv2D(512, (3,3), activation='relu'))\n",
    "model.add(layers.MaxPooling2D(2,2))\n",
    "\n",
    "# model.add(layers.Conv2D(512, (3,3), activation='relu'))\n",
    "# model.add(layers.Conv2D(512, (3,3), activation='relu'))\n",
    "# model.add(layers.Conv2D(512, (3,3), activation='relu'))\n",
    "# model.add(layers.MaxPooling2D(2,2))\n",
    "\n",
    "model.add(layers.Flatten())\n",
    "model.add(layers.Dense(1024, activation='relu'))\n",
    "model.add(layers.Dense(512, activation='relu'))\n",
    "model.add(layers.Dropout(rate=0.2))\n",
    "model.add(layers.Dense(8, activation='softmax'))\n",
    "\n",
    "\n",
    "model.compile(optimizer=optimizers.Adam(learning_rate=0.0001),\n",
    "              loss=losses.CategoricalCrossentropy(),\n",
    "              metrics=['accuracy'])\n",
    "\n",
    "\n",
    "\n",
    "results = model.fit(train_generator,\n",
    "                    steps_per_epoch=100,  # Number of training samples to pull per epoch\n",
    "                    epochs=50,  # Number of epochs\n",
    "                    validation_data=val_generator,\n",
    "                    validation_steps=100,  # Number of validation samples to run validation on\n",
    "                    verbose=1,\n",
    "                    callbacks = [early_stop]\n",
    "                    )"
   ]
  },
  {
   "cell_type": "code",
   "execution_count": 62,
   "id": "de5866a8",
   "metadata": {
    "ExecuteTime": {
     "end_time": "2022-05-19T21:26:13.831520Z",
     "start_time": "2022-05-19T21:26:13.625473Z"
    }
   },
   "outputs": [
    {
     "data": {
      "image/png": "[encoded data removed]",
      "text/plain": [
       "<Figure size 720x360 with 2 Axes>"
      ]
     },
     "metadata": {
      "needs_background": "light"
     },
     "output_type": "display_data"
    }
   ],
   "source": [
    "display_mode_trainTestGraphs(results)"
   ]
  },
  {
   "cell_type": "code",
   "execution_count": null,
   "id": "d1993dbe",
   "metadata": {},
   "outputs": [],
   "source": []
  }
 ],
 "metadata": {
  "kernelspec": {
   "display_name": "tfGPU",
   "language": "python",
   "name": "tfgpu"
  },
  "language_info": {
   "codemirror_mode": {
    "name": "ipython",
    "version": 3
   },
   "file_extension": ".py",
   "mimetype": "text/x-python",
   "name": "python",
   "nbconvert_exporter": "python",
   "pygments_lexer": "ipython3",
   "version": "3.9.12"
  },
  "toc": {
   "base_numbering": 1,
   "nav_menu": {},
   "number_sections": true,
   "sideBar": true,
   "skip_h1_title": false,
   "title_cell": "Table of Contents",
   "title_sidebar": "Contents",
   "toc_cell": false,
   "toc_position": {},
   "toc_section_display": true,
   "toc_window_display": false
  },
  "varInspector": {
   "cols": {
    "lenName": 16,
    "lenType": 16,
    "lenVar": 40
   },
   "kernels_config": {
    "python": {
     "delete_cmd_postfix": "",
     "delete_cmd_prefix": "del ",
     "library": "var_list.py",
     "varRefreshCmd": "print(var_dic_list())"
    },
    "r": {
     "delete_cmd_postfix": ") ",
     "delete_cmd_prefix": "rm(",
     "library": "var_list.r",
     "varRefreshCmd": "cat(var_dic_list()) "
    }
   },
   "types_to_exclude": [
    "module",
    "function",
    "builtin_function_or_method",
    "instance",
    "_Feature"
   ],
   "window_display": false
  }
 },
 "nbformat": 4,
 "nbformat_minor": 5
}
