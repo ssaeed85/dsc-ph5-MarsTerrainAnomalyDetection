{
 "cells": [
  {
   "cell_type": "code",
   "execution_count": 1,
   "id": "3e04de60",
   "metadata": {
    "ExecuteTime": {
     "end_time": "2022-05-19T03:26:57.268774Z",
     "start_time": "2022-05-19T03:26:56.423691Z"
    }
   },
   "outputs": [],
   "source": [
    "import numpy as np\n",
    "import pandas as pd\n",
    "import matplotlib.pyplot as plt\n",
    "from PIL import Image"
   ]
  },
  {
   "cell_type": "code",
   "execution_count": 2,
   "id": "d9f9f496",
   "metadata": {
    "ExecuteTime": {
     "end_time": "2022-05-19T03:26:59.856096Z",
     "start_time": "2022-05-19T03:26:57.269764Z"
    }
   },
   "outputs": [],
   "source": [
    "from tensorflow.keras.preprocessing.image import ImageDataGenerator\n",
    "from tensorflow.keras import layers, models, optimizers, losses\n",
    "# import tensorflow as tf\n",
    "\n",
    "import seaborn as sns"
   ]
  },
  {
   "cell_type": "code",
   "execution_count": 3,
   "id": "0f45915f",
   "metadata": {
    "ExecuteTime": {
     "end_time": "2022-05-19T03:26:59.872093Z",
     "start_time": "2022-05-19T03:26:59.858096Z"
    }
   },
   "outputs": [],
   "source": [
    "# import tensorflow as tf\n",
    "# tf.config.list_physical_devices()"
   ]
  },
  {
   "cell_type": "code",
   "execution_count": 15,
   "id": "0bb04d5d",
   "metadata": {
    "ExecuteTime": {
     "end_time": "2022-05-19T03:51:33.042341Z",
     "start_time": "2022-05-19T03:51:33.031333Z"
    }
   },
   "outputs": [],
   "source": [
    "def display_mode_trainTestGraphs(results):\n",
    "    train_loss = results.history['loss']\n",
    "    train_acc = results.history['accuracy']\n",
    "    val_loss = results.history['val_loss']\n",
    "    val_acc = results.history['val_accuracy']\n",
    "\n",
    "\n",
    "    fig, (ax1, ax2) = plt.subplots(1, 2, figsize=(10, 5))\n",
    "    sns.lineplot(x=results.epoch, y=train_loss, ax=ax1, label='train_loss')\n",
    "    sns.lineplot(x=results.epoch, y=train_acc, ax=ax2, label='train_accuracy')\n",
    "\n",
    "    sns.lineplot(x=results.epoch, y=val_loss, ax=ax1, label='val_loss')\n",
    "    sns.lineplot(x=results.epoch, y=val_acc, ax=ax2, label='val_accuracy')\n",
    "    ax1.set_title('Loss')\n",
    "    ax2.set_title('Accuracy')\n",
    "    ax1.legend();"
   ]
  },
  {
   "cell_type": "markdown",
   "id": "5bf83d9f",
   "metadata": {},
   "source": [
    "# Training Set"
   ]
  },
  {
   "cell_type": "code",
   "execution_count": 4,
   "id": "691d9d96",
   "metadata": {
    "ExecuteTime": {
     "end_time": "2022-05-19T03:27:01.188304Z",
     "start_time": "2022-05-19T03:26:59.873095Z"
    }
   },
   "outputs": [
    {
     "name": "stdout",
     "output_type": "stream",
     "text": [
      "Found 48979 images belonging to 8 classes.\n"
     ]
    }
   ],
   "source": [
    "# Normalizing data for 8 bit\n",
    "train_datagen = ImageDataGenerator(rescale=1./255)\n",
    "\n",
    "train_generator = train_datagen.flow_from_directory(\n",
    "    'images/train/',\n",
    "    target_size = (227,227),\n",
    "    batch_size=128,\n",
    "    color_mode='grayscale',\n",
    "    class_mode='categorical'\n",
    ")"
   ]
  },
  {
   "cell_type": "markdown",
   "id": "5ca0b738",
   "metadata": {},
   "source": [
    "# Validation Set"
   ]
  },
  {
   "cell_type": "code",
   "execution_count": 5,
   "id": "3aafe286",
   "metadata": {
    "ExecuteTime": {
     "end_time": "2022-05-19T03:27:01.581402Z",
     "start_time": "2022-05-19T03:27:01.192305Z"
    }
   },
   "outputs": [
    {
     "name": "stdout",
     "output_type": "stream",
     "text": [
      "Found 14175 images belonging to 8 classes.\n"
     ]
    }
   ],
   "source": [
    "# Normalizing data for 8 bit\n",
    "val_datagen = ImageDataGenerator(rescale=1./255)\n",
    "\n",
    "val_generator = val_datagen.flow_from_directory(\n",
    "    'images/val/',\n",
    "    target_size = (227,227),\n",
    "    batch_size=128,\n",
    "    color_mode='grayscale',\n",
    "    class_mode='categorical'\n",
    ")"
   ]
  },
  {
   "cell_type": "markdown",
   "id": "44d246df",
   "metadata": {},
   "source": [
    "# Test Set"
   ]
  },
  {
   "cell_type": "code",
   "execution_count": 6,
   "id": "89ba8d29",
   "metadata": {
    "ExecuteTime": {
     "end_time": "2022-05-19T03:27:01.643416Z",
     "start_time": "2022-05-19T03:27:01.582403Z"
    }
   },
   "outputs": [
    {
     "name": "stdout",
     "output_type": "stream",
     "text": [
      "Found 1793 images belonging to 8 classes.\n"
     ]
    }
   ],
   "source": [
    "# Normalizing data for 8 bit\n",
    "test_datagen = ImageDataGenerator(rescale=1./255)\n",
    "\n",
    "test_generator = test_datagen.flow_from_directory(\n",
    "    'images/test/',\n",
    "    target_size = (227,227),\n",
    "    batch_size=128,\n",
    "    color_mode='grayscale',\n",
    "    class_mode='categorical'\n",
    ")"
   ]
  },
  {
   "cell_type": "markdown",
   "id": "09fbc158",
   "metadata": {},
   "source": [
    "# Model"
   ]
  },
  {
   "cell_type": "code",
   "execution_count": 12,
   "id": "7f08a6d0",
   "metadata": {
    "ExecuteTime": {
     "end_time": "2022-05-19T03:37:14.919559Z",
     "start_time": "2022-05-19T03:37:14.861546Z"
    }
   },
   "outputs": [
    {
     "name": "stdout",
     "output_type": "stream",
     "text": [
      "Model: \"sequential_2\"\n",
      "_________________________________________________________________\n",
      " Layer (type)                Output Shape              Param #   \n",
      "=================================================================\n",
      " conv2d_6 (Conv2D)           (None, 225, 225, 16)      160       \n",
      "                                                                 \n",
      " max_pooling2d_6 (MaxPooling  (None, 112, 112, 16)     0         \n",
      " 2D)                                                             \n",
      "                                                                 \n",
      " conv2d_7 (Conv2D)           (None, 110, 110, 32)      4640      \n",
      "                                                                 \n",
      " max_pooling2d_7 (MaxPooling  (None, 55, 55, 32)       0         \n",
      " 2D)                                                             \n",
      "                                                                 \n",
      " conv2d_8 (Conv2D)           (None, 53, 53, 64)        18496     \n",
      "                                                                 \n",
      " max_pooling2d_8 (MaxPooling  (None, 26, 26, 64)       0         \n",
      " 2D)                                                             \n",
      "                                                                 \n",
      " flatten_2 (Flatten)         (None, 43264)             0         \n",
      "                                                                 \n",
      " dense_4 (Dense)             (None, 128)               5537920   \n",
      "                                                                 \n",
      " dense_5 (Dense)             (None, 8)                 1032      \n",
      "                                                                 \n",
      "=================================================================\n",
      "Total params: 5,562,248\n",
      "Trainable params: 5,562,248\n",
      "Non-trainable params: 0\n",
      "_________________________________________________________________\n"
     ]
    }
   ],
   "source": [
    "model = models.Sequential()\n",
    "\n",
    "model.add(layers.Conv2D(filters=16,\n",
    "                       kernel_size=(3,3),\n",
    "                       activation='relu',\n",
    "                       input_shape=(227,227,1)))\n",
    "model.add(layers.MaxPooling2D(2,2))\n",
    "\n",
    "model.add(layers.Conv2D(32, (3,3), activation='relu'))\n",
    "model.add(layers.MaxPooling2D(2,2))\n",
    "\n",
    "model.add(layers.Conv2D(64, (3,3), activation='relu'))\n",
    "model.add(layers.MaxPooling2D(2,2))\n",
    "\n",
    "model.add(layers.Flatten())\n",
    "model.add(layers.Dense(128, activation='relu'))\n",
    "model.add(layers.Dense(8, activation='softmax'))\n",
    "\n",
    "\n",
    "model.compile(optimizer=optimizers.Adam(learning_rate=0.001),\n",
    "              loss=losses.CategoricalCrossentropy(),\n",
    "              metrics=['accuracy'])\n",
    "\n",
    "\n",
    "model.summary()"
   ]
  },
  {
   "cell_type": "code",
   "execution_count": 13,
   "id": "e85e83a0",
   "metadata": {
    "ExecuteTime": {
     "end_time": "2022-05-19T03:43:25.522644Z",
     "start_time": "2022-05-19T03:37:17.062618Z"
    },
    "scrolled": false
   },
   "outputs": [
    {
     "name": "stdout",
     "output_type": "stream",
     "text": [
      "Epoch 1/50\n",
      "50/50 [==============================] - 8s 148ms/step - loss: 0.8560 - accuracy: 0.7994 - val_loss: 0.8312 - val_accuracy: 0.7920\n",
      "Epoch 2/50\n",
      "50/50 [==============================] - 7s 147ms/step - loss: 0.7373 - accuracy: 0.8153 - val_loss: 0.8959 - val_accuracy: 0.7823\n",
      "Epoch 3/50\n",
      "50/50 [==============================] - 7s 147ms/step - loss: 0.6763 - accuracy: 0.8195 - val_loss: 0.8843 - val_accuracy: 0.7808\n",
      "Epoch 4/50\n",
      "50/50 [==============================] - 7s 147ms/step - loss: 0.6085 - accuracy: 0.8355 - val_loss: 0.8126 - val_accuracy: 0.7934\n",
      "Epoch 5/50\n",
      "50/50 [==============================] - 7s 147ms/step - loss: 0.5856 - accuracy: 0.8322 - val_loss: 0.7894 - val_accuracy: 0.7897\n",
      "Epoch 6/50\n",
      "50/50 [==============================] - 7s 145ms/step - loss: 0.5320 - accuracy: 0.8487 - val_loss: 0.7275 - val_accuracy: 0.7908\n",
      "Epoch 7/50\n",
      "50/50 [==============================] - 7s 146ms/step - loss: 0.5712 - accuracy: 0.8384 - val_loss: 0.7244 - val_accuracy: 0.7964\n",
      "Epoch 8/50\n",
      "50/50 [==============================] - 7s 147ms/step - loss: 0.4877 - accuracy: 0.8611 - val_loss: 0.7787 - val_accuracy: 0.7898\n",
      "Epoch 9/50\n",
      "50/50 [==============================] - 8s 154ms/step - loss: 0.4834 - accuracy: 0.8544 - val_loss: 0.7289 - val_accuracy: 0.7934\n",
      "Epoch 10/50\n",
      "50/50 [==============================] - 8s 151ms/step - loss: 0.4821 - accuracy: 0.8570 - val_loss: 0.7718 - val_accuracy: 0.7842\n",
      "Epoch 11/50\n",
      "50/50 [==============================] - 8s 154ms/step - loss: 0.4421 - accuracy: 0.8702 - val_loss: 0.6773 - val_accuracy: 0.7948\n",
      "Epoch 12/50\n",
      "50/50 [==============================] - 8s 159ms/step - loss: 0.4184 - accuracy: 0.8788 - val_loss: 0.7262 - val_accuracy: 0.7969\n",
      "Epoch 13/50\n",
      "50/50 [==============================] - 8s 158ms/step - loss: 0.3978 - accuracy: 0.8803 - val_loss: 0.7133 - val_accuracy: 0.7811\n",
      "Epoch 14/50\n",
      "50/50 [==============================] - 8s 151ms/step - loss: 0.3729 - accuracy: 0.8894 - val_loss: 0.7446 - val_accuracy: 0.7933\n",
      "Epoch 15/50\n",
      "50/50 [==============================] - 8s 154ms/step - loss: 0.3869 - accuracy: 0.8838 - val_loss: 0.7160 - val_accuracy: 0.7852\n",
      "Epoch 16/50\n",
      "50/50 [==============================] - 7s 146ms/step - loss: 0.3697 - accuracy: 0.8880 - val_loss: 0.7292 - val_accuracy: 0.7884\n",
      "Epoch 17/50\n",
      "50/50 [==============================] - 7s 147ms/step - loss: 0.3557 - accuracy: 0.8942 - val_loss: 0.7114 - val_accuracy: 0.7986\n",
      "Epoch 18/50\n",
      "50/50 [==============================] - 7s 146ms/step - loss: 0.3328 - accuracy: 0.8981 - val_loss: 0.7803 - val_accuracy: 0.7539\n",
      "Epoch 19/50\n",
      "50/50 [==============================] - 7s 145ms/step - loss: 0.3252 - accuracy: 0.9011 - val_loss: 0.7426 - val_accuracy: 0.8031\n",
      "Epoch 20/50\n",
      "50/50 [==============================] - 7s 148ms/step - loss: 0.3473 - accuracy: 0.8956 - val_loss: 0.7031 - val_accuracy: 0.7955\n",
      "Epoch 21/50\n",
      "50/50 [==============================] - 7s 145ms/step - loss: 0.2785 - accuracy: 0.9139 - val_loss: 0.7202 - val_accuracy: 0.7895\n",
      "Epoch 22/50\n",
      "50/50 [==============================] - 7s 145ms/step - loss: 0.2846 - accuracy: 0.9112 - val_loss: 0.8137 - val_accuracy: 0.7550\n",
      "Epoch 23/50\n",
      "50/50 [==============================] - 7s 147ms/step - loss: 0.2779 - accuracy: 0.9153 - val_loss: 0.7343 - val_accuracy: 0.7756\n",
      "Epoch 24/50\n",
      "50/50 [==============================] - 7s 146ms/step - loss: 0.2792 - accuracy: 0.9141 - val_loss: 0.7111 - val_accuracy: 0.7837\n",
      "Epoch 25/50\n",
      "50/50 [==============================] - 7s 146ms/step - loss: 0.2658 - accuracy: 0.9206 - val_loss: 0.7656 - val_accuracy: 0.8125\n",
      "Epoch 26/50\n",
      "50/50 [==============================] - 7s 145ms/step - loss: 0.2559 - accuracy: 0.9225 - val_loss: 0.7698 - val_accuracy: 0.8067\n",
      "Epoch 27/50\n",
      "50/50 [==============================] - 7s 146ms/step - loss: 0.2544 - accuracy: 0.9192 - val_loss: 0.7971 - val_accuracy: 0.8056\n",
      "Epoch 28/50\n",
      "50/50 [==============================] - 7s 146ms/step - loss: 0.2146 - accuracy: 0.9328 - val_loss: 0.7537 - val_accuracy: 0.7903\n",
      "Epoch 29/50\n",
      "50/50 [==============================] - 7s 146ms/step - loss: 0.2103 - accuracy: 0.9331 - val_loss: 0.8896 - val_accuracy: 0.7895\n",
      "Epoch 30/50\n",
      "50/50 [==============================] - 7s 145ms/step - loss: 0.2177 - accuracy: 0.9327 - val_loss: 0.7445 - val_accuracy: 0.7922\n",
      "Epoch 31/50\n",
      "50/50 [==============================] - 7s 147ms/step - loss: 0.2002 - accuracy: 0.9409 - val_loss: 0.7723 - val_accuracy: 0.7842\n",
      "Epoch 32/50\n",
      "50/50 [==============================] - 7s 145ms/step - loss: 0.2090 - accuracy: 0.9331 - val_loss: 0.7352 - val_accuracy: 0.7900\n",
      "Epoch 33/50\n",
      "50/50 [==============================] - 7s 145ms/step - loss: 0.1984 - accuracy: 0.9363 - val_loss: 0.7927 - val_accuracy: 0.8027\n",
      "Epoch 34/50\n",
      "50/50 [==============================] - 7s 146ms/step - loss: 0.1989 - accuracy: 0.9373 - val_loss: 0.7777 - val_accuracy: 0.7928\n",
      "Epoch 35/50\n",
      "50/50 [==============================] - 7s 145ms/step - loss: 0.1832 - accuracy: 0.9408 - val_loss: 0.7180 - val_accuracy: 0.8222\n",
      "Epoch 36/50\n",
      "50/50 [==============================] - 7s 145ms/step - loss: 0.1814 - accuracy: 0.9415 - val_loss: 0.7901 - val_accuracy: 0.8084\n",
      "Epoch 37/50\n",
      "50/50 [==============================] - 7s 145ms/step - loss: 0.1837 - accuracy: 0.9427 - val_loss: 0.8376 - val_accuracy: 0.7864\n",
      "Epoch 38/50\n",
      "50/50 [==============================] - 7s 146ms/step - loss: 0.1605 - accuracy: 0.9525 - val_loss: 0.8472 - val_accuracy: 0.8062\n",
      "Epoch 39/50\n",
      "50/50 [==============================] - 7s 146ms/step - loss: 0.1590 - accuracy: 0.9545 - val_loss: 0.7736 - val_accuracy: 0.8000\n",
      "Epoch 40/50\n",
      "50/50 [==============================] - 7s 145ms/step - loss: 0.1648 - accuracy: 0.9484 - val_loss: 0.7882 - val_accuracy: 0.7867\n",
      "Epoch 41/50\n",
      "50/50 [==============================] - 7s 146ms/step - loss: 0.1511 - accuracy: 0.9550 - val_loss: 0.7561 - val_accuracy: 0.8139\n",
      "Epoch 42/50\n",
      "50/50 [==============================] - 7s 147ms/step - loss: 0.1391 - accuracy: 0.9575 - val_loss: 0.8501 - val_accuracy: 0.8108\n",
      "Epoch 43/50\n",
      "50/50 [==============================] - 7s 145ms/step - loss: 0.1325 - accuracy: 0.9592 - val_loss: 0.8305 - val_accuracy: 0.8078\n",
      "Epoch 44/50\n",
      "50/50 [==============================] - 7s 146ms/step - loss: 0.1257 - accuracy: 0.9613 - val_loss: 0.8894 - val_accuracy: 0.8091\n",
      "Epoch 45/50\n",
      "50/50 [==============================] - 7s 145ms/step - loss: 0.1222 - accuracy: 0.9619 - val_loss: 0.8771 - val_accuracy: 0.8017\n",
      "Epoch 46/50\n",
      "50/50 [==============================] - 7s 145ms/step - loss: 0.1276 - accuracy: 0.9628 - val_loss: 0.9954 - val_accuracy: 0.7927\n",
      "Epoch 47/50\n",
      "50/50 [==============================] - 7s 146ms/step - loss: 0.1307 - accuracy: 0.9578 - val_loss: 0.9220 - val_accuracy: 0.8167\n",
      "Epoch 48/50\n",
      "50/50 [==============================] - 7s 146ms/step - loss: 0.1020 - accuracy: 0.9716 - val_loss: 0.9136 - val_accuracy: 0.8128\n",
      "Epoch 49/50\n",
      "50/50 [==============================] - 7s 145ms/step - loss: 0.1047 - accuracy: 0.9700 - val_loss: 0.9312 - val_accuracy: 0.8173\n",
      "Epoch 50/50\n",
      "50/50 [==============================] - 7s 146ms/step - loss: 0.0941 - accuracy: 0.9708 - val_loss: 0.9262 - val_accuracy: 0.7952\n"
     ]
    }
   ],
   "source": [
    "results = model.fit(train_generator,\n",
    "                    steps_per_epoch=50,  # Number of training samples to pull per epoch\n",
    "                    epochs=50,  # Number of epochs\n",
    "                    validation_data=val_generator,\n",
    "                    validation_steps=50,  # Number of validation samples to run validation on\n",
    "                    verbose=1\n",
    "                    )"
   ]
  },
  {
   "cell_type": "code",
   "execution_count": 16,
   "id": "56ee493c",
   "metadata": {
    "ExecuteTime": {
     "end_time": "2022-05-19T03:51:46.996861Z",
     "start_time": "2022-05-19T03:51:46.815821Z"
    }
   },
   "outputs": [
    {
     "data": {
      "image/png": "[encoded data removed]",
      "text/plain": [
       "<Figure size 720x360 with 2 Axes>"
      ]
     },
     "metadata": {
      "needs_background": "light"
     },
     "output_type": "display_data"
    }
   ],
   "source": [
    "display_mode_trainTestGraphs(results)"
   ]
  },
  {
   "cell_type": "code",
   "execution_count": null,
   "id": "6b1782c9",
   "metadata": {},
   "outputs": [],
   "source": []
  }
 ],
 "metadata": {
  "kernelspec": {
   "display_name": "tfGPU",
   "language": "python",
   "name": "tfgpu"
  },
  "language_info": {
   "codemirror_mode": {
    "name": "ipython",
    "version": 3
   },
   "file_extension": ".py",
   "mimetype": "text/x-python",
   "name": "python",
   "nbconvert_exporter": "python",
   "pygments_lexer": "ipython3",
   "version": "3.9.12"
  },
  "toc": {
   "base_numbering": 1,
   "nav_menu": {},
   "number_sections": true,
   "sideBar": true,
   "skip_h1_title": false,
   "title_cell": "Table of Contents",
   "title_sidebar": "Contents",
   "toc_cell": false,
   "toc_position": {},
   "toc_section_display": true,
   "toc_window_display": false
  },
  "varInspector": {
   "cols": {
    "lenName": 16,
    "lenType": 16,
    "lenVar": 40
   },
   "kernels_config": {
    "python": {
     "delete_cmd_postfix": "",
     "delete_cmd_prefix": "del ",
     "library": "var_list.py",
     "varRefreshCmd": "print(var_dic_list())"
    },
    "r": {
     "delete_cmd_postfix": ") ",
     "delete_cmd_prefix": "rm(",
     "library": "var_list.r",
     "varRefreshCmd": "cat(var_dic_list()) "
    }
   },
   "types_to_exclude": [
    "module",
    "function",
    "builtin_function_or_method",
    "instance",
    "_Feature"
   ],
   "window_display": false
  }
 },
 "nbformat": 4,
 "nbformat_minor": 5
}
