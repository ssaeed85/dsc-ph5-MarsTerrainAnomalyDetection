{
 "cells": [
  {
   "cell_type": "code",
   "execution_count": null,
   "id": "3ad32ba3",
   "metadata": {},
   "outputs": [],
   "source": [
    "# import tensorflow as tf\n",
    "# tf.config.list_physical_devices()"
   ]
  },
  {
   "cell_type": "code",
   "execution_count": 5,
   "id": "0dbea90e",
   "metadata": {
    "ExecuteTime": {
     "end_time": "2022-05-18T23:38:00.401804Z",
     "start_time": "2022-05-18T23:37:59.774266Z"
    }
   },
   "outputs": [],
   "source": [
    "import numpy as np\n",
    "import pandas as pd\n",
    "import matplotlib.pyplot as plt\n",
    "from PIL import Image"
   ]
  },
  {
   "cell_type": "code",
   "execution_count": 24,
   "id": "19aa501c",
   "metadata": {
    "ExecuteTime": {
     "end_time": "2022-05-19T00:03:32.468432Z",
     "start_time": "2022-05-19T00:03:32.460430Z"
    }
   },
   "outputs": [],
   "source": [
    "from tensorflow.keras.preprocessing.image import ImageDataGenerator\n",
    "from tensorflow.keras import layers, models"
   ]
  },
  {
   "cell_type": "markdown",
   "id": "ace0f12c",
   "metadata": {},
   "source": [
    "# Training Set"
   ]
  },
  {
   "cell_type": "code",
   "execution_count": 107,
   "id": "b28e0236",
   "metadata": {
    "ExecuteTime": {
     "end_time": "2022-05-19T02:39:00.254090Z",
     "start_time": "2022-05-19T02:38:58.950196Z"
    }
   },
   "outputs": [
    {
     "name": "stdout",
     "output_type": "stream",
     "text": [
      "Found 48979 images belonging to 8 classes.\n"
     ]
    }
   ],
   "source": [
    "# Normalizing data for 8 bit\n",
    "train_datagen = ImageDataGenerator(rescale=1./255)\n",
    "\n",
    "train_generator = train_datagen.flow_from_directory(\n",
    "    'images/train/',\n",
    "    target_size = (227,227),\n",
    "    batch_size=128,\n",
    "    color_mode='grayscale',\n",
    "    class_mode='categorical'\n",
    ")"
   ]
  },
  {
   "cell_type": "markdown",
   "id": "fce77f9d",
   "metadata": {},
   "source": [
    "# Validation Set"
   ]
  },
  {
   "cell_type": "code",
   "execution_count": 108,
   "id": "66c92896",
   "metadata": {
    "ExecuteTime": {
     "end_time": "2022-05-19T02:39:01.640580Z",
     "start_time": "2022-05-19T02:39:01.246669Z"
    }
   },
   "outputs": [
    {
     "name": "stdout",
     "output_type": "stream",
     "text": [
      "Found 14175 images belonging to 8 classes.\n"
     ]
    }
   ],
   "source": [
    "# Normalizing data for 8 bit\n",
    "val_datagen = ImageDataGenerator(rescale=1./255)\n",
    "\n",
    "val_generator = val_datagen.flow_from_directory(\n",
    "    'images/val/',\n",
    "    target_size = (227,227),\n",
    "    batch_size=128,\n",
    "    color_mode='grayscale',\n",
    "    class_mode='categorical'\n",
    ")"
   ]
  },
  {
   "cell_type": "code",
   "execution_count": 68,
   "id": "d5d93141",
   "metadata": {
    "ExecuteTime": {
     "end_time": "2022-05-19T00:15:50.192628Z",
     "start_time": "2022-05-19T00:15:50.173624Z"
    },
    "scrolled": false
   },
   "outputs": [
    {
     "data": {
      "image/png": "[encoded data removed]",
      "text/plain": [
       "<PIL.JpegImagePlugin.JpegImageFile image mode=L size=227x227>"
      ]
     },
     "execution_count": 68,
     "metadata": {},
     "output_type": "execute_result"
    }
   ],
   "source": [
    "img = Image.open('images/train/bright dune/ESP_016631_2535_RED-0000.jpg', 'r')\n",
    "img"
   ]
  },
  {
   "cell_type": "code",
   "execution_count": 93,
   "id": "fe1e81e5",
   "metadata": {
    "ExecuteTime": {
     "end_time": "2022-05-19T00:28:01.822386Z",
     "start_time": "2022-05-19T00:28:01.815384Z"
    }
   },
   "outputs": [
    {
     "data": {
      "text/plain": [
       "{'flip_vertical': True, 'flip_horizontal': True}"
      ]
     },
     "execution_count": 93,
     "metadata": {},
     "output_type": "execute_result"
    }
   ],
   "source": [
    "transform_params = {'flip_vertical':True,\n",
    "                  'flip_horizontal':True}\n",
    "transform_params"
   ]
  },
  {
   "cell_type": "code",
   "execution_count": 78,
   "id": "c957c6b0",
   "metadata": {
    "ExecuteTime": {
     "end_time": "2022-05-19T00:17:25.384673Z",
     "start_time": "2022-05-19T00:17:25.381673Z"
    }
   },
   "outputs": [
    {
     "data": {
      "text/plain": [
       "(227, 227)"
      ]
     },
     "execution_count": 78,
     "metadata": {},
     "output_type": "execute_result"
    }
   ],
   "source": [
    "np.array(img).shape"
   ]
  },
  {
   "cell_type": "code",
   "execution_count": 54,
   "id": "419fb48f",
   "metadata": {
    "ExecuteTime": {
     "end_time": "2022-05-19T00:09:01.569482Z",
     "start_time": "2022-05-19T00:09:01.557478Z"
    }
   },
   "outputs": [
    {
     "data": {
      "text/plain": [
       "383"
      ]
     },
     "execution_count": 54,
     "metadata": {},
     "output_type": "execute_result"
    }
   ],
   "source": [
    "len(train_generator)"
   ]
  },
  {
   "cell_type": "code",
   "execution_count": 110,
   "id": "07cff2bf",
   "metadata": {
    "ExecuteTime": {
     "end_time": "2022-05-19T02:39:05.972424Z",
     "start_time": "2022-05-19T02:39:05.966423Z"
    }
   },
   "outputs": [
    {
     "data": {
      "text/plain": [
       "(227, 227)"
      ]
     },
     "execution_count": 110,
     "metadata": {},
     "output_type": "execute_result"
    }
   ],
   "source": [
    "train_generator.target_size"
   ]
  },
  {
   "cell_type": "code",
   "execution_count": 109,
   "id": "320661da",
   "metadata": {
    "ExecuteTime": {
     "end_time": "2022-05-19T02:39:04.829774Z",
     "start_time": "2022-05-19T02:39:04.814773Z"
    }
   },
   "outputs": [
    {
     "data": {
      "text/plain": [
       "(227, 227)"
      ]
     },
     "execution_count": 109,
     "metadata": {},
     "output_type": "execute_result"
    }
   ],
   "source": [
    "val_generator.target_size"
   ]
  },
  {
   "cell_type": "markdown",
   "id": "cffabc16",
   "metadata": {},
   "source": [
    "# Model"
   ]
  },
  {
   "cell_type": "code",
   "execution_count": 141,
   "id": "06102539",
   "metadata": {
    "ExecuteTime": {
     "end_time": "2022-05-19T02:44:15.307344Z",
     "start_time": "2022-05-19T02:44:15.255284Z"
    }
   },
   "outputs": [],
   "source": [
    "model = models.Sequential()\n",
    "\n",
    "model.add(layers.Conv2D(filters=16,\n",
    "                       kernel_size=(3,3),\n",
    "                       activation='relu',\n",
    "                       input_shape=(227,227,1)))\n",
    "model.add(layers.MaxPooling2D(2,2))\n",
    "\n",
    "model.add(layers.Conv2D(32, (3,3), activation='relu'))\n",
    "model.add(layers.MaxPooling2D(2,2))\n",
    "\n",
    "model.add(layers.Conv2D(64, (3,3), activation='relu'))\n",
    "model.add(layers.MaxPooling2D(2,2))\n",
    "\n",
    "model.add(layers.Flatten())\n",
    "model.add(layers.Dense(128, activation='relu'))\n",
    "model.add(layers.Dense(8, activation='softmax'))"
   ]
  },
  {
   "cell_type": "code",
   "execution_count": 142,
   "id": "90d1202d",
   "metadata": {
    "ExecuteTime": {
     "end_time": "2022-05-19T02:44:15.526643Z",
     "start_time": "2022-05-19T02:44:15.510412Z"
    }
   },
   "outputs": [],
   "source": [
    "model.compile(optimizer='adam',\n",
    "              loss=tf.keras.losses.CategoricalCrossentropy(),\n",
    "              metrics=['accuracy'])"
   ]
  },
  {
   "cell_type": "code",
   "execution_count": 143,
   "id": "d4a72c2b",
   "metadata": {
    "ExecuteTime": {
     "end_time": "2022-05-19T02:44:15.667446Z",
     "start_time": "2022-05-19T02:44:15.646442Z"
    }
   },
   "outputs": [
    {
     "name": "stdout",
     "output_type": "stream",
     "text": [
      "Model: \"sequential_14\"\n",
      "_________________________________________________________________\n",
      " Layer (type)                Output Shape              Param #   \n",
      "=================================================================\n",
      " conv2d_32 (Conv2D)          (None, 225, 225, 16)      160       \n",
      "                                                                 \n",
      " max_pooling2d_30 (MaxPoolin  (None, 112, 112, 16)     0         \n",
      " g2D)                                                            \n",
      "                                                                 \n",
      " conv2d_33 (Conv2D)          (None, 110, 110, 32)      4640      \n",
      "                                                                 \n",
      " max_pooling2d_31 (MaxPoolin  (None, 55, 55, 32)       0         \n",
      " g2D)                                                            \n",
      "                                                                 \n",
      " conv2d_34 (Conv2D)          (None, 53, 53, 64)        18496     \n",
      "                                                                 \n",
      " max_pooling2d_32 (MaxPoolin  (None, 26, 26, 64)       0         \n",
      " g2D)                                                            \n",
      "                                                                 \n",
      " flatten_9 (Flatten)         (None, 43264)             0         \n",
      "                                                                 \n",
      " dense_18 (Dense)            (None, 128)               5537920   \n",
      "                                                                 \n",
      " dense_19 (Dense)            (None, 8)                 1032      \n",
      "                                                                 \n",
      "=================================================================\n",
      "Total params: 5,562,248\n",
      "Trainable params: 5,562,248\n",
      "Non-trainable params: 0\n",
      "_________________________________________________________________\n"
     ]
    }
   ],
   "source": [
    "model.summary()"
   ]
  },
  {
   "cell_type": "code",
   "execution_count": 145,
   "id": "7e98179f",
   "metadata": {
    "ExecuteTime": {
     "end_time": "2022-05-19T02:45:17.532856Z",
     "start_time": "2022-05-19T02:44:26.222927Z"
    }
   },
   "outputs": [
    {
     "name": "stdout",
     "output_type": "stream",
     "text": [
      "Epoch 1/10\n",
      "8/8 - 6s - loss: 0.8157 - accuracy: 0.8145 - val_loss: 0.9139 - val_accuracy: 0.8076 - 6s/epoch - 754ms/step\n",
      "Epoch 2/10\n",
      "8/8 - 6s - loss: 0.7633 - accuracy: 0.8281 - val_loss: 0.7934 - val_accuracy: 0.8086 - 6s/epoch - 710ms/step\n",
      "Epoch 3/10\n",
      "8/8 - 6s - loss: 0.7912 - accuracy: 0.8066 - val_loss: 0.8973 - val_accuracy: 0.7832 - 6s/epoch - 720ms/step\n",
      "Epoch 4/10\n",
      "8/8 - 5s - loss: 0.8200 - accuracy: 0.7998 - val_loss: 0.8496 - val_accuracy: 0.7959 - 5s/epoch - 664ms/step\n",
      "Epoch 5/10\n",
      "8/8 - 5s - loss: 0.7785 - accuracy: 0.8184 - val_loss: 0.8838 - val_accuracy: 0.7861 - 5s/epoch - 659ms/step\n",
      "Epoch 6/10\n",
      "8/8 - 5s - loss: 0.7552 - accuracy: 0.8125 - val_loss: 0.8272 - val_accuracy: 0.7910 - 5s/epoch - 605ms/step\n",
      "Epoch 7/10\n",
      "8/8 - 5s - loss: 0.7041 - accuracy: 0.8203 - val_loss: 0.8716 - val_accuracy: 0.7822 - 5s/epoch - 598ms/step\n",
      "Epoch 8/10\n",
      "8/8 - 4s - loss: 0.6941 - accuracy: 0.8281 - val_loss: 0.7972 - val_accuracy: 0.7979 - 4s/epoch - 555ms/step\n",
      "Epoch 9/10\n",
      "8/8 - 5s - loss: 0.6678 - accuracy: 0.8369 - val_loss: 0.7304 - val_accuracy: 0.8232 - 5s/epoch - 576ms/step\n",
      "Epoch 10/10\n",
      "8/8 - 4s - loss: 0.6314 - accuracy: 0.8359 - val_loss: 0.8995 - val_accuracy: 0.7764 - 4s/epoch - 537ms/step\n"
     ]
    },
    {
     "data": {
      "text/plain": [
       "<keras.callbacks.History at 0x257d386a4f0>"
      ]
     },
     "execution_count": 145,
     "metadata": {},
     "output_type": "execute_result"
    }
   ],
   "source": [
    "model.fit(train_generator, \n",
    "          steps_per_epoch=8,\n",
    "          epochs=10, \n",
    "          validation_data = val_generator,\n",
    "          validation_steps=8,\n",
    "          verbose = 2\n",
    "         )"
   ]
  },
  {
   "cell_type": "code",
   "execution_count": null,
   "id": "02e97caf",
   "metadata": {},
   "outputs": [],
   "source": []
  }
 ],
 "metadata": {
  "kernelspec": {
   "display_name": "tfGPU",
   "language": "python",
   "name": "tfgpu"
  },
  "language_info": {
   "codemirror_mode": {
    "name": "ipython",
    "version": 3
   },
   "file_extension": ".py",
   "mimetype": "text/x-python",
   "name": "python",
   "nbconvert_exporter": "python",
   "pygments_lexer": "ipython3",
   "version": "3.9.12"
  },
  "toc": {
   "base_numbering": 1,
   "nav_menu": {},
   "number_sections": true,
   "sideBar": true,
   "skip_h1_title": false,
   "title_cell": "Table of Contents",
   "title_sidebar": "Contents",
   "toc_cell": false,
   "toc_position": {},
   "toc_section_display": true,
   "toc_window_display": false
  },
  "varInspector": {
   "cols": {
    "lenName": 16,
    "lenType": 16,
    "lenVar": 40
   },
   "kernels_config": {
    "python": {
     "delete_cmd_postfix": "",
     "delete_cmd_prefix": "del ",
     "library": "var_list.py",
     "varRefreshCmd": "print(var_dic_list())"
    },
    "r": {
     "delete_cmd_postfix": ") ",
     "delete_cmd_prefix": "rm(",
     "library": "var_list.r",
     "varRefreshCmd": "cat(var_dic_list()) "
    }
   },
   "types_to_exclude": [
    "module",
    "function",
    "builtin_function_or_method",
    "instance",
    "_Feature"
   ],
   "window_display": false
  }
 },
 "nbformat": 4,
 "nbformat_minor": 5
}
