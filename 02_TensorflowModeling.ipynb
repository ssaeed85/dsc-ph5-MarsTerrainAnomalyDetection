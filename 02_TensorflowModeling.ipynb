{
 "cells": [
  {
   "cell_type": "code",
   "execution_count": 1,
   "id": "17bbd2c7",
   "metadata": {
    "ExecuteTime": {
     "end_time": "2022-05-19T03:26:57.268774Z",
     "start_time": "2022-05-19T03:26:56.423691Z"
    }
   },
   "outputs": [],
   "source": [
    "import numpy as np\n",
    "import pandas as pd\n",
    "import matplotlib.pyplot as plt\n",
    "from PIL import Image"
   ]
  },
  {
   "cell_type": "code",
   "execution_count": 2,
   "id": "2c74be4d",
   "metadata": {
    "ExecuteTime": {
     "end_time": "2022-05-19T03:26:59.856096Z",
     "start_time": "2022-05-19T03:26:57.269764Z"
    }
   },
   "outputs": [],
   "source": [
    "from tensorflow.keras.preprocessing.image import ImageDataGenerator\n",
    "from tensorflow.keras import layers, models, optimizers, losses\n",
    "# import tensorflow as tf\n",
    "\n",
    "import seaborn as sns"
   ]
  },
  {
   "cell_type": "code",
   "execution_count": 3,
   "id": "f123b9ab",
   "metadata": {
    "ExecuteTime": {
     "end_time": "2022-05-19T03:26:59.872093Z",
     "start_time": "2022-05-19T03:26:59.858096Z"
    }
   },
   "outputs": [],
   "source": [
    "# import tensorflow as tf\n",
    "# tf.config.list_physical_devices()"
   ]
  },
  {
   "cell_type": "code",
   "execution_count": 15,
   "id": "86c11eba",
   "metadata": {
    "ExecuteTime": {
     "end_time": "2022-05-19T03:51:33.042341Z",
     "start_time": "2022-05-19T03:51:33.031333Z"
    }
   },
   "outputs": [],
   "source": [
    "def display_mode_trainTestGraphs(results):\n",
    "    train_loss = results.history['loss']\n",
    "    train_acc = results.history['accuracy']\n",
    "    val_loss = results.history['val_loss']\n",
    "    val_acc = results.history['val_accuracy']\n",
    "\n",
    "\n",
    "    fig, (ax1, ax2) = plt.subplots(1, 2, figsize=(10, 5))\n",
    "    sns.lineplot(x=results.epoch, y=train_loss, ax=ax1, label='train_loss')\n",
    "    sns.lineplot(x=results.epoch, y=train_acc, ax=ax2, label='train_accuracy')\n",
    "\n",
    "    sns.lineplot(x=results.epoch, y=val_loss, ax=ax1, label='val_loss')\n",
    "    sns.lineplot(x=results.epoch, y=val_acc, ax=ax2, label='val_accuracy')\n",
    "    ax1.set_title('Loss')\n",
    "    ax2.set_title('Accuracy')\n",
    "    ax1.legend();"
   ]
  },
  {
   "cell_type": "markdown",
   "id": "3d63635c",
   "metadata": {},
   "source": [
    "# Training Set"
   ]
  },
  {
   "cell_type": "code",
   "execution_count": 4,
   "id": "5a594a27",
   "metadata": {
    "ExecuteTime": {
     "end_time": "2022-05-19T03:27:01.188304Z",
     "start_time": "2022-05-19T03:26:59.873095Z"
    }
   },
   "outputs": [
    {
     "name": "stdout",
     "output_type": "stream",
     "text": [
      "Found 48979 images belonging to 8 classes.\n"
     ]
    }
   ],
   "source": [
    "# Normalizing data for 8 bit\n",
    "train_datagen = ImageDataGenerator(rescale=1./255)\n",
    "\n",
    "train_generator = train_datagen.flow_from_directory(\n",
    "    'images/train/',\n",
    "    target_size = (227,227),\n",
    "    batch_size=128,\n",
    "    color_mode='grayscale',\n",
    "    class_mode='categorical'\n",
    ")"
   ]
  },
  {
   "cell_type": "markdown",
   "id": "7fd90965",
   "metadata": {},
   "source": [
    "# Validation Set"
   ]
  },
  {
   "cell_type": "code",
   "execution_count": 5,
   "id": "b9ee9805",
   "metadata": {
    "ExecuteTime": {
     "end_time": "2022-05-19T03:27:01.581402Z",
     "start_time": "2022-05-19T03:27:01.192305Z"
    }
   },
   "outputs": [
    {
     "name": "stdout",
     "output_type": "stream",
     "text": [
      "Found 14175 images belonging to 8 classes.\n"
     ]
    }
   ],
   "source": [
    "# Normalizing data for 8 bit\n",
    "val_datagen = ImageDataGenerator(rescale=1./255)\n",
    "\n",
    "val_generator = val_datagen.flow_from_directory(\n",
    "    'images/val/',\n",
    "    target_size = (227,227),\n",
    "    batch_size=128,\n",
    "    color_mode='grayscale',\n",
    "    class_mode='categorical'\n",
    ")"
   ]
  },
  {
   "cell_type": "markdown",
   "id": "dd79056c",
   "metadata": {},
   "source": [
    "# Test Set"
   ]
  },
  {
   "cell_type": "code",
   "execution_count": 6,
   "id": "8c4cb297",
   "metadata": {
    "ExecuteTime": {
     "end_time": "2022-05-19T03:27:01.643416Z",
     "start_time": "2022-05-19T03:27:01.582403Z"
    }
   },
   "outputs": [
    {
     "name": "stdout",
     "output_type": "stream",
     "text": [
      "Found 1793 images belonging to 8 classes.\n"
     ]
    }
   ],
   "source": [
    "# Normalizing data for 8 bit\n",
    "test_datagen = ImageDataGenerator(rescale=1./255)\n",
    "\n",
    "test_generator = test_datagen.flow_from_directory(\n",
    "    'images/test/',\n",
    "    target_size = (227,227),\n",
    "    batch_size=128,\n",
    "    color_mode='grayscale',\n",
    "    class_mode='categorical'\n",
    ")"
   ]
  },
  {
   "cell_type": "markdown",
   "id": "38237977",
   "metadata": {},
   "source": [
    "# Modeling"
   ]
  },
  {
   "cell_type": "markdown",
   "id": "142fbf8d",
   "metadata": {},
   "source": [
    "## Model 1"
   ]
  },
  {
   "cell_type": "code",
   "execution_count": 12,
   "id": "951d83e8",
   "metadata": {
    "ExecuteTime": {
     "end_time": "2022-05-19T03:37:14.919559Z",
     "start_time": "2022-05-19T03:37:14.861546Z"
    },
    "scrolled": false
   },
   "outputs": [
    {
     "name": "stdout",
     "output_type": "stream",
     "text": [
      "Model: \"sequential_2\"\n",
      "_________________________________________________________________\n",
      " Layer (type)                Output Shape              Param #   \n",
      "=================================================================\n",
      " conv2d_6 (Conv2D)           (None, 225, 225, 16)      160       \n",
      "                                                                 \n",
      " max_pooling2d_6 (MaxPooling  (None, 112, 112, 16)     0         \n",
      " 2D)                                                             \n",
      "                                                                 \n",
      " conv2d_7 (Conv2D)           (None, 110, 110, 32)      4640      \n",
      "                                                                 \n",
      " max_pooling2d_7 (MaxPooling  (None, 55, 55, 32)       0         \n",
      " 2D)                                                             \n",
      "                                                                 \n",
      " conv2d_8 (Conv2D)           (None, 53, 53, 64)        18496     \n",
      "                                                                 \n",
      " max_pooling2d_8 (MaxPooling  (None, 26, 26, 64)       0         \n",
      " 2D)                                                             \n",
      "                                                                 \n",
      " flatten_2 (Flatten)         (None, 43264)             0         \n",
      "                                                                 \n",
      " dense_4 (Dense)             (None, 128)               5537920   \n",
      "                                                                 \n",
      " dense_5 (Dense)             (None, 8)                 1032      \n",
      "                                                                 \n",
      "=================================================================\n",
      "Total params: 5,562,248\n",
      "Trainable params: 5,562,248\n",
      "Non-trainable params: 0\n",
      "_________________________________________________________________\n"
     ]
    }
   ],
   "source": [
    "model = models.Sequential()\n",
    "\n",
    "model.add(layers.Conv2D(filters=16,\n",
    "                       kernel_size=(3,3),\n",
    "                       activation='relu',\n",
    "                       input_shape=(227,227,1)))\n",
    "model.add(layers.MaxPooling2D(2,2))\n",
    "\n",
    "model.add(layers.Conv2D(32, (3,3), activation='relu'))\n",
    "model.add(layers.MaxPooling2D(2,2))\n",
    "\n",
    "model.add(layers.Conv2D(64, (3,3), activation='relu'))\n",
    "model.add(layers.MaxPooling2D(2,2))\n",
    "\n",
    "model.add(layers.Flatten())\n",
    "model.add(layers.Dense(128, activation='relu'))\n",
    "model.add(layers.Dense(8, activation='softmax'))\n",
    "\n",
    "\n",
    "model.compile(optimizer=optimizers.Adam(learning_rate=0.001),\n",
    "              loss=losses.CategoricalCrossentropy(),\n",
    "              metrics=['accuracy'])\n",
    "\n",
    "\n",
    "model.summary()"
   ]
  },
  {
   "cell_type": "code",
   "execution_count": 13,
   "id": "f363e64e",
   "metadata": {
    "ExecuteTime": {
     "end_time": "2022-05-19T03:43:25.522644Z",
     "start_time": "2022-05-19T03:37:17.062618Z"
    },
    "scrolled": false
   },
   "outputs": [
    {
     "name": "stdout",
     "output_type": "stream",
     "text": [
      "Epoch 1/50\n",
      "50/50 [==============================] - 8s 148ms/step - loss: 0.8560 - accuracy: 0.7994 - val_loss: 0.8312 - val_accuracy: 0.7920\n",
      "Epoch 2/50\n",
      "50/50 [==============================] - 7s 147ms/step - loss: 0.7373 - accuracy: 0.8153 - val_loss: 0.8959 - val_accuracy: 0.7823\n",
      "Epoch 3/50\n",
      "50/50 [==============================] - 7s 147ms/step - loss: 0.6763 - accuracy: 0.8195 - val_loss: 0.8843 - val_accuracy: 0.7808\n",
      "Epoch 4/50\n",
      "50/50 [==============================] - 7s 147ms/step - loss: 0.6085 - accuracy: 0.8355 - val_loss: 0.8126 - val_accuracy: 0.7934\n",
      "Epoch 5/50\n",
      "50/50 [==============================] - 7s 147ms/step - loss: 0.5856 - accuracy: 0.8322 - val_loss: 0.7894 - val_accuracy: 0.7897\n",
      "Epoch 6/50\n",
      "50/50 [==============================] - 7s 145ms/step - loss: 0.5320 - accuracy: 0.8487 - val_loss: 0.7275 - val_accuracy: 0.7908\n",
      "Epoch 7/50\n",
      "50/50 [==============================] - 7s 146ms/step - loss: 0.5712 - accuracy: 0.8384 - val_loss: 0.7244 - val_accuracy: 0.7964\n",
      "Epoch 8/50\n",
      "50/50 [==============================] - 7s 147ms/step - loss: 0.4877 - accuracy: 0.8611 - val_loss: 0.7787 - val_accuracy: 0.7898\n",
      "Epoch 9/50\n",
      "50/50 [==============================] - 8s 154ms/step - loss: 0.4834 - accuracy: 0.8544 - val_loss: 0.7289 - val_accuracy: 0.7934\n",
      "Epoch 10/50\n",
      "50/50 [==============================] - 8s 151ms/step - loss: 0.4821 - accuracy: 0.8570 - val_loss: 0.7718 - val_accuracy: 0.7842\n",
      "Epoch 11/50\n",
      "50/50 [==============================] - 8s 154ms/step - loss: 0.4421 - accuracy: 0.8702 - val_loss: 0.6773 - val_accuracy: 0.7948\n",
      "Epoch 12/50\n",
      "50/50 [==============================] - 8s 159ms/step - loss: 0.4184 - accuracy: 0.8788 - val_loss: 0.7262 - val_accuracy: 0.7969\n",
      "Epoch 13/50\n",
      "50/50 [==============================] - 8s 158ms/step - loss: 0.3978 - accuracy: 0.8803 - val_loss: 0.7133 - val_accuracy: 0.7811\n",
      "Epoch 14/50\n",
      "50/50 [==============================] - 8s 151ms/step - loss: 0.3729 - accuracy: 0.8894 - val_loss: 0.7446 - val_accuracy: 0.7933\n",
      "Epoch 15/50\n",
      "50/50 [==============================] - 8s 154ms/step - loss: 0.3869 - accuracy: 0.8838 - val_loss: 0.7160 - val_accuracy: 0.7852\n",
      "Epoch 16/50\n",
      "50/50 [==============================] - 7s 146ms/step - loss: 0.3697 - accuracy: 0.8880 - val_loss: 0.7292 - val_accuracy: 0.7884\n",
      "Epoch 17/50\n",
      "50/50 [==============================] - 7s 147ms/step - loss: 0.3557 - accuracy: 0.8942 - val_loss: 0.7114 - val_accuracy: 0.7986\n",
      "Epoch 18/50\n",
      "50/50 [==============================] - 7s 146ms/step - loss: 0.3328 - accuracy: 0.8981 - val_loss: 0.7803 - val_accuracy: 0.7539\n",
      "Epoch 19/50\n",
      "50/50 [==============================] - 7s 145ms/step - loss: 0.3252 - accuracy: 0.9011 - val_loss: 0.7426 - val_accuracy: 0.8031\n",
      "Epoch 20/50\n",
      "50/50 [==============================] - 7s 148ms/step - loss: 0.3473 - accuracy: 0.8956 - val_loss: 0.7031 - val_accuracy: 0.7955\n",
      "Epoch 21/50\n",
      "50/50 [==============================] - 7s 145ms/step - loss: 0.2785 - accuracy: 0.9139 - val_loss: 0.7202 - val_accuracy: 0.7895\n",
      "Epoch 22/50\n",
      "50/50 [==============================] - 7s 145ms/step - loss: 0.2846 - accuracy: 0.9112 - val_loss: 0.8137 - val_accuracy: 0.7550\n",
      "Epoch 23/50\n",
      "50/50 [==============================] - 7s 147ms/step - loss: 0.2779 - accuracy: 0.9153 - val_loss: 0.7343 - val_accuracy: 0.7756\n",
      "Epoch 24/50\n",
      "50/50 [==============================] - 7s 146ms/step - loss: 0.2792 - accuracy: 0.9141 - val_loss: 0.7111 - val_accuracy: 0.7837\n",
      "Epoch 25/50\n",
      "50/50 [==============================] - 7s 146ms/step - loss: 0.2658 - accuracy: 0.9206 - val_loss: 0.7656 - val_accuracy: 0.8125\n",
      "Epoch 26/50\n",
      "50/50 [==============================] - 7s 145ms/step - loss: 0.2559 - accuracy: 0.9225 - val_loss: 0.7698 - val_accuracy: 0.8067\n",
      "Epoch 27/50\n",
      "50/50 [==============================] - 7s 146ms/step - loss: 0.2544 - accuracy: 0.9192 - val_loss: 0.7971 - val_accuracy: 0.8056\n",
      "Epoch 28/50\n",
      "50/50 [==============================] - 7s 146ms/step - loss: 0.2146 - accuracy: 0.9328 - val_loss: 0.7537 - val_accuracy: 0.7903\n",
      "Epoch 29/50\n",
      "50/50 [==============================] - 7s 146ms/step - loss: 0.2103 - accuracy: 0.9331 - val_loss: 0.8896 - val_accuracy: 0.7895\n",
      "Epoch 30/50\n",
      "50/50 [==============================] - 7s 145ms/step - loss: 0.2177 - accuracy: 0.9327 - val_loss: 0.7445 - val_accuracy: 0.7922\n",
      "Epoch 31/50\n",
      "50/50 [==============================] - 7s 147ms/step - loss: 0.2002 - accuracy: 0.9409 - val_loss: 0.7723 - val_accuracy: 0.7842\n",
      "Epoch 32/50\n",
      "50/50 [==============================] - 7s 145ms/step - loss: 0.2090 - accuracy: 0.9331 - val_loss: 0.7352 - val_accuracy: 0.7900\n",
      "Epoch 33/50\n",
      "50/50 [==============================] - 7s 145ms/step - loss: 0.1984 - accuracy: 0.9363 - val_loss: 0.7927 - val_accuracy: 0.8027\n",
      "Epoch 34/50\n",
      "50/50 [==============================] - 7s 146ms/step - loss: 0.1989 - accuracy: 0.9373 - val_loss: 0.7777 - val_accuracy: 0.7928\n",
      "Epoch 35/50\n",
      "50/50 [==============================] - 7s 145ms/step - loss: 0.1832 - accuracy: 0.9408 - val_loss: 0.7180 - val_accuracy: 0.8222\n",
      "Epoch 36/50\n",
      "50/50 [==============================] - 7s 145ms/step - loss: 0.1814 - accuracy: 0.9415 - val_loss: 0.7901 - val_accuracy: 0.8084\n",
      "Epoch 37/50\n",
      "50/50 [==============================] - 7s 145ms/step - loss: 0.1837 - accuracy: 0.9427 - val_loss: 0.8376 - val_accuracy: 0.7864\n",
      "Epoch 38/50\n",
      "50/50 [==============================] - 7s 146ms/step - loss: 0.1605 - accuracy: 0.9525 - val_loss: 0.8472 - val_accuracy: 0.8062\n",
      "Epoch 39/50\n",
      "50/50 [==============================] - 7s 146ms/step - loss: 0.1590 - accuracy: 0.9545 - val_loss: 0.7736 - val_accuracy: 0.8000\n",
      "Epoch 40/50\n",
      "50/50 [==============================] - 7s 145ms/step - loss: 0.1648 - accuracy: 0.9484 - val_loss: 0.7882 - val_accuracy: 0.7867\n",
      "Epoch 41/50\n",
      "50/50 [==============================] - 7s 146ms/step - loss: 0.1511 - accuracy: 0.9550 - val_loss: 0.7561 - val_accuracy: 0.8139\n",
      "Epoch 42/50\n",
      "50/50 [==============================] - 7s 147ms/step - loss: 0.1391 - accuracy: 0.9575 - val_loss: 0.8501 - val_accuracy: 0.8108\n",
      "Epoch 43/50\n",
      "50/50 [==============================] - 7s 145ms/step - loss: 0.1325 - accuracy: 0.9592 - val_loss: 0.8305 - val_accuracy: 0.8078\n",
      "Epoch 44/50\n",
      "50/50 [==============================] - 7s 146ms/step - loss: 0.1257 - accuracy: 0.9613 - val_loss: 0.8894 - val_accuracy: 0.8091\n",
      "Epoch 45/50\n",
      "50/50 [==============================] - 7s 145ms/step - loss: 0.1222 - accuracy: 0.9619 - val_loss: 0.8771 - val_accuracy: 0.8017\n",
      "Epoch 46/50\n",
      "50/50 [==============================] - 7s 145ms/step - loss: 0.1276 - accuracy: 0.9628 - val_loss: 0.9954 - val_accuracy: 0.7927\n",
      "Epoch 47/50\n",
      "50/50 [==============================] - 7s 146ms/step - loss: 0.1307 - accuracy: 0.9578 - val_loss: 0.9220 - val_accuracy: 0.8167\n",
      "Epoch 48/50\n",
      "50/50 [==============================] - 7s 146ms/step - loss: 0.1020 - accuracy: 0.9716 - val_loss: 0.9136 - val_accuracy: 0.8128\n",
      "Epoch 49/50\n",
      "50/50 [==============================] - 7s 145ms/step - loss: 0.1047 - accuracy: 0.9700 - val_loss: 0.9312 - val_accuracy: 0.8173\n",
      "Epoch 50/50\n",
      "50/50 [==============================] - 7s 146ms/step - loss: 0.0941 - accuracy: 0.9708 - val_loss: 0.9262 - val_accuracy: 0.7952\n"
     ]
    }
   ],
   "source": [
    "results = model.fit(train_generator,\n",
    "                    steps_per_epoch=50,  # Number of training samples to pull per epoch\n",
    "                    epochs=50,  # Number of epochs\n",
    "                    validation_data=val_generator,\n",
    "                    validation_steps=50,  # Number of validation samples to run validation on\n",
    "                    verbose=1\n",
    "                    )"
   ]
  },
  {
   "cell_type": "code",
   "execution_count": 16,
   "id": "595f4ad5",
   "metadata": {
    "ExecuteTime": {
     "end_time": "2022-05-19T03:51:46.996861Z",
     "start_time": "2022-05-19T03:51:46.815821Z"
    },
    "scrolled": true
   },
   "outputs": [
    {
     "data": {
      "image/png": "[encoded data removed]",
      "text/plain": [
       "<Figure size 720x360 with 2 Axes>"
      ]
     },
     "metadata": {
      "needs_background": "light"
     },
     "output_type": "display_data"
    }
   ],
   "source": [
    "display_mode_trainTestGraphs(results)"
   ]
  },
  {
   "cell_type": "markdown",
   "id": "abc0a06b",
   "metadata": {
    "ExecuteTime": {
     "end_time": "2022-05-19T03:52:55.613596Z",
     "start_time": "2022-05-19T03:52:55.607594Z"
    }
   },
   "source": [
    "## Model 2"
   ]
  },
  {
   "cell_type": "markdown",
   "id": "94204dd8",
   "metadata": {},
   "source": [
    "Increasing steps in epoch"
   ]
  },
  {
   "cell_type": "code",
   "execution_count": 21,
   "id": "d998a740",
   "metadata": {
    "ExecuteTime": {
     "end_time": "2022-05-19T03:55:03.399786Z",
     "start_time": "2022-05-19T03:55:03.343774Z"
    },
    "scrolled": false
   },
   "outputs": [
    {
     "name": "stdout",
     "output_type": "stream",
     "text": [
      "Model: \"sequential_5\"\n",
      "_________________________________________________________________\n",
      " Layer (type)                Output Shape              Param #   \n",
      "=================================================================\n",
      " conv2d_15 (Conv2D)          (None, 225, 225, 16)      160       \n",
      "                                                                 \n",
      " max_pooling2d_15 (MaxPoolin  (None, 112, 112, 16)     0         \n",
      " g2D)                                                            \n",
      "                                                                 \n",
      " conv2d_16 (Conv2D)          (None, 110, 110, 32)      4640      \n",
      "                                                                 \n",
      " max_pooling2d_16 (MaxPoolin  (None, 55, 55, 32)       0         \n",
      " g2D)                                                            \n",
      "                                                                 \n",
      " conv2d_17 (Conv2D)          (None, 53, 53, 64)        18496     \n",
      "                                                                 \n",
      " max_pooling2d_17 (MaxPoolin  (None, 26, 26, 64)       0         \n",
      " g2D)                                                            \n",
      "                                                                 \n",
      " flatten_5 (Flatten)         (None, 43264)             0         \n",
      "                                                                 \n",
      " dense_10 (Dense)            (None, 128)               5537920   \n",
      "                                                                 \n",
      " dense_11 (Dense)            (None, 8)                 1032      \n",
      "                                                                 \n",
      "=================================================================\n",
      "Total params: 5,562,248\n",
      "Trainable params: 5,562,248\n",
      "Non-trainable params: 0\n",
      "_________________________________________________________________\n"
     ]
    }
   ],
   "source": [
    "model = models.Sequential()\n",
    "\n",
    "model.add(layers.Conv2D(filters=16,\n",
    "                       kernel_size=(3,3),\n",
    "                       activation='relu',\n",
    "                       input_shape=(227,227,1)))\n",
    "model.add(layers.MaxPooling2D(2,2))\n",
    "\n",
    "model.add(layers.Conv2D(32, (3,3), activation='relu'))\n",
    "model.add(layers.MaxPooling2D(2,2))\n",
    "\n",
    "model.add(layers.Conv2D(64, (3,3), activation='relu'))\n",
    "model.add(layers.MaxPooling2D(2,2))\n",
    "\n",
    "model.add(layers.Flatten())\n",
    "model.add(layers.Dense(128, activation='relu'))\n",
    "model.add(layers.Dense(8, activation='softmax'))\n",
    "\n",
    "\n",
    "model.compile(optimizer=optimizers.Adam(learning_rate=0.001),\n",
    "              loss=losses.CategoricalCrossentropy(),\n",
    "              metrics=['accuracy'])\n",
    "\n",
    "\n",
    "model.summary()"
   ]
  },
  {
   "cell_type": "code",
   "execution_count": 22,
   "id": "08fbdff5",
   "metadata": {
    "ExecuteTime": {
     "end_time": "2022-05-19T04:10:41.481847Z",
     "start_time": "2022-05-19T03:55:15.312167Z"
    },
    "scrolled": false
   },
   "outputs": [
    {
     "name": "stdout",
     "output_type": "stream",
     "text": [
      "Epoch 1/50\n",
      "150/150 [==============================] - 19s 125ms/step - loss: 0.7516 - accuracy: 0.8124 - val_loss: 0.8139 - val_accuracy: 0.7907\n",
      "Epoch 2/50\n",
      "150/150 [==============================] - 19s 123ms/step - loss: 0.6123 - accuracy: 0.8271 - val_loss: 0.7553 - val_accuracy: 0.7944\n",
      "Epoch 3/50\n",
      "150/150 [==============================] - 19s 124ms/step - loss: 0.5059 - accuracy: 0.8521 - val_loss: 0.7357 - val_accuracy: 0.7974\n",
      "Epoch 4/50\n",
      "150/150 [==============================] - 19s 125ms/step - loss: 0.4544 - accuracy: 0.8661 - val_loss: 0.7237 - val_accuracy: 0.7930\n",
      "Epoch 5/50\n",
      "150/150 [==============================] - 19s 124ms/step - loss: 0.3908 - accuracy: 0.8834 - val_loss: 0.7014 - val_accuracy: 0.8094\n",
      "Epoch 6/50\n",
      "150/150 [==============================] - 19s 124ms/step - loss: 0.3593 - accuracy: 0.8910 - val_loss: 0.6860 - val_accuracy: 0.7900\n",
      "Epoch 7/50\n",
      "150/150 [==============================] - 19s 124ms/step - loss: 0.3152 - accuracy: 0.9016 - val_loss: 0.7463 - val_accuracy: 0.7869\n",
      "Epoch 8/50\n",
      "150/150 [==============================] - 19s 124ms/step - loss: 0.2966 - accuracy: 0.9075 - val_loss: 0.7529 - val_accuracy: 0.8159\n",
      "Epoch 9/50\n",
      "150/150 [==============================] - 19s 124ms/step - loss: 0.2627 - accuracy: 0.9197 - val_loss: 0.6993 - val_accuracy: 0.8096\n",
      "Epoch 10/50\n",
      "150/150 [==============================] - 19s 123ms/step - loss: 0.2292 - accuracy: 0.9288 - val_loss: 0.7096 - val_accuracy: 0.8050\n",
      "Epoch 11/50\n",
      "150/150 [==============================] - 18s 123ms/step - loss: 0.2007 - accuracy: 0.9383 - val_loss: 0.7861 - val_accuracy: 0.8188\n",
      "Epoch 12/50\n",
      "150/150 [==============================] - 19s 125ms/step - loss: 0.1834 - accuracy: 0.9432 - val_loss: 0.7778 - val_accuracy: 0.8071\n",
      "Epoch 13/50\n",
      "150/150 [==============================] - 19s 126ms/step - loss: 0.1530 - accuracy: 0.9520 - val_loss: 0.7632 - val_accuracy: 0.8164\n",
      "Epoch 14/50\n",
      "150/150 [==============================] - 19s 125ms/step - loss: 0.1382 - accuracy: 0.9575 - val_loss: 0.8917 - val_accuracy: 0.8134\n",
      "Epoch 15/50\n",
      "150/150 [==============================] - 18s 123ms/step - loss: 0.1124 - accuracy: 0.9653 - val_loss: 0.8699 - val_accuracy: 0.7845\n",
      "Epoch 16/50\n",
      "150/150 [==============================] - 19s 127ms/step - loss: 0.0986 - accuracy: 0.9701 - val_loss: 0.8927 - val_accuracy: 0.8202\n",
      "Epoch 17/50\n",
      "150/150 [==============================] - 18s 122ms/step - loss: 0.0918 - accuracy: 0.9708 - val_loss: 0.8805 - val_accuracy: 0.8208\n",
      "Epoch 18/50\n",
      "150/150 [==============================] - 18s 122ms/step - loss: 0.0799 - accuracy: 0.9753 - val_loss: 0.9686 - val_accuracy: 0.8010\n",
      "Epoch 19/50\n",
      "150/150 [==============================] - 19s 124ms/step - loss: 0.0686 - accuracy: 0.9791 - val_loss: 1.0508 - val_accuracy: 0.8103\n",
      "Epoch 20/50\n",
      "150/150 [==============================] - 18s 122ms/step - loss: 0.0550 - accuracy: 0.9836 - val_loss: 1.0482 - val_accuracy: 0.8170\n",
      "Epoch 21/50\n",
      "150/150 [==============================] - 18s 122ms/step - loss: 0.0632 - accuracy: 0.9803 - val_loss: 1.0793 - val_accuracy: 0.8066\n",
      "Epoch 22/50\n",
      "150/150 [==============================] - 18s 122ms/step - loss: 0.0409 - accuracy: 0.9874 - val_loss: 1.1943 - val_accuracy: 0.8152\n",
      "Epoch 23/50\n",
      "150/150 [==============================] - 18s 122ms/step - loss: 0.0346 - accuracy: 0.9905 - val_loss: 1.2410 - val_accuracy: 0.8108\n",
      "Epoch 24/50\n",
      "150/150 [==============================] - 18s 123ms/step - loss: 0.0293 - accuracy: 0.9910 - val_loss: 1.4675 - val_accuracy: 0.8155\n",
      "Epoch 25/50\n",
      "150/150 [==============================] - 18s 122ms/step - loss: 0.0320 - accuracy: 0.9901 - val_loss: 1.4290 - val_accuracy: 0.8023\n",
      "Epoch 26/50\n",
      "150/150 [==============================] - 18s 123ms/step - loss: 0.0238 - accuracy: 0.9930 - val_loss: 1.3895 - val_accuracy: 0.8141\n",
      "Epoch 27/50\n",
      "150/150 [==============================] - 18s 122ms/step - loss: 0.0382 - accuracy: 0.9898 - val_loss: 1.2853 - val_accuracy: 0.8098\n",
      "Epoch 28/50\n",
      "150/150 [==============================] - 18s 122ms/step - loss: 0.0190 - accuracy: 0.9944 - val_loss: 1.3793 - val_accuracy: 0.8230\n",
      "Epoch 29/50\n",
      "150/150 [==============================] - 18s 123ms/step - loss: 0.0176 - accuracy: 0.9955 - val_loss: 1.4186 - val_accuracy: 0.8194\n",
      "Epoch 30/50\n",
      "150/150 [==============================] - 18s 123ms/step - loss: 0.0202 - accuracy: 0.9938 - val_loss: 1.4612 - val_accuracy: 0.8166\n",
      "Epoch 31/50\n",
      "150/150 [==============================] - 18s 123ms/step - loss: 0.0213 - accuracy: 0.9941 - val_loss: 1.6047 - val_accuracy: 0.8275\n",
      "Epoch 32/50\n",
      "150/150 [==============================] - 18s 123ms/step - loss: 0.0201 - accuracy: 0.9941 - val_loss: 1.5236 - val_accuracy: 0.8099\n",
      "Epoch 33/50\n",
      "150/150 [==============================] - 18s 123ms/step - loss: 0.0198 - accuracy: 0.9947 - val_loss: 1.5407 - val_accuracy: 0.8106\n",
      "Epoch 34/50\n",
      "150/150 [==============================] - 18s 122ms/step - loss: 0.0175 - accuracy: 0.9952 - val_loss: 1.6426 - val_accuracy: 0.8180\n",
      "Epoch 35/50\n",
      "150/150 [==============================] - 18s 123ms/step - loss: 0.0111 - accuracy: 0.9968 - val_loss: 1.6857 - val_accuracy: 0.8146\n",
      "Epoch 36/50\n",
      "150/150 [==============================] - 19s 123ms/step - loss: 0.0207 - accuracy: 0.9939 - val_loss: 1.5729 - val_accuracy: 0.8185\n",
      "Epoch 37/50\n",
      "150/150 [==============================] - 18s 123ms/step - loss: 0.0166 - accuracy: 0.9949 - val_loss: 1.7462 - val_accuracy: 0.8007\n",
      "Epoch 38/50\n",
      "150/150 [==============================] - 18s 122ms/step - loss: 0.0176 - accuracy: 0.9944 - val_loss: 1.6883 - val_accuracy: 0.7897\n",
      "Epoch 39/50\n",
      "150/150 [==============================] - 18s 123ms/step - loss: 0.0113 - accuracy: 0.9968 - val_loss: 1.8252 - val_accuracy: 0.8227\n",
      "Epoch 40/50\n",
      "150/150 [==============================] - 18s 123ms/step - loss: 0.0147 - accuracy: 0.9955 - val_loss: 1.8257 - val_accuracy: 0.8168\n",
      "Epoch 41/50\n",
      "150/150 [==============================] - 18s 122ms/step - loss: 0.0063 - accuracy: 0.9982 - val_loss: 1.7539 - val_accuracy: 0.7869\n",
      "Epoch 42/50\n",
      "150/150 [==============================] - 18s 122ms/step - loss: 0.0133 - accuracy: 0.9961 - val_loss: 1.8596 - val_accuracy: 0.8155\n",
      "Epoch 43/50\n",
      "150/150 [==============================] - 18s 123ms/step - loss: 0.0085 - accuracy: 0.9973 - val_loss: 1.8715 - val_accuracy: 0.8166\n",
      "Epoch 44/50\n",
      "150/150 [==============================] - 18s 123ms/step - loss: 0.0115 - accuracy: 0.9967 - val_loss: 1.7308 - val_accuracy: 0.8112\n",
      "Epoch 45/50\n",
      "150/150 [==============================] - 19s 124ms/step - loss: 0.0223 - accuracy: 0.9943 - val_loss: 1.6357 - val_accuracy: 0.8077\n",
      "Epoch 46/50\n",
      "150/150 [==============================] - 18s 122ms/step - loss: 0.0128 - accuracy: 0.9966 - val_loss: 1.7093 - val_accuracy: 0.8129\n",
      "Epoch 47/50\n",
      "150/150 [==============================] - 18s 122ms/step - loss: 0.0085 - accuracy: 0.9974 - val_loss: 1.8999 - val_accuracy: 0.8155\n",
      "Epoch 48/50\n",
      "150/150 [==============================] - 18s 123ms/step - loss: 0.0113 - accuracy: 0.9972 - val_loss: 1.5793 - val_accuracy: 0.8019\n",
      "Epoch 49/50\n",
      "150/150 [==============================] - 19s 124ms/step - loss: 0.0158 - accuracy: 0.9953 - val_loss: 1.9315 - val_accuracy: 0.8159\n",
      "Epoch 50/50\n",
      "150/150 [==============================] - 18s 122ms/step - loss: 0.0127 - accuracy: 0.9961 - val_loss: 1.8419 - val_accuracy: 0.8110\n"
     ]
    }
   ],
   "source": [
    "results = model.fit(train_generator,\n",
    "                    steps_per_epoch=150,  # Number of training samples to pull per epoch\n",
    "                    epochs=50,  # Number of epochs\n",
    "                    validation_data=val_generator,\n",
    "                    validation_steps=100,  # Number of validation samples to run validation on\n",
    "                    verbose=1\n",
    "                    )"
   ]
  },
  {
   "cell_type": "code",
   "execution_count": 23,
   "id": "58fd2c0b",
   "metadata": {
    "ExecuteTime": {
     "end_time": "2022-05-19T04:10:41.798970Z",
     "start_time": "2022-05-19T04:10:41.609927Z"
    },
    "scrolled": true
   },
   "outputs": [
    {
     "data": {
      "image/png": "[encoded data removed]",
      "text/plain": [
       "<Figure size 720x360 with 2 Axes>"
      ]
     },
     "metadata": {
      "needs_background": "light"
     },
     "output_type": "display_data"
    }
   ],
   "source": [
    "display_mode_trainTestGraphs(results)"
   ]
  },
  {
   "cell_type": "code",
   "execution_count": null,
   "id": "debfaecd",
   "metadata": {},
   "outputs": [],
   "source": []
  }
 ],
 "metadata": {
  "kernelspec": {
   "display_name": "tfGPU",
   "language": "python",
   "name": "tfgpu"
  },
  "language_info": {
   "codemirror_mode": {
    "name": "ipython",
    "version": 3
   },
   "file_extension": ".py",
   "mimetype": "text/x-python",
   "name": "python",
   "nbconvert_exporter": "python",
   "pygments_lexer": "ipython3",
   "version": "3.9.12"
  },
  "toc": {
   "base_numbering": 1,
   "nav_menu": {},
   "number_sections": true,
   "sideBar": true,
   "skip_h1_title": false,
   "title_cell": "Table of Contents",
   "title_sidebar": "Contents",
   "toc_cell": false,
   "toc_position": {},
   "toc_section_display": true,
   "toc_window_display": false
  },
  "varInspector": {
   "cols": {
    "lenName": 16,
    "lenType": 16,
    "lenVar": 40
   },
   "kernels_config": {
    "python": {
     "delete_cmd_postfix": "",
     "delete_cmd_prefix": "del ",
     "library": "var_list.py",
     "varRefreshCmd": "print(var_dic_list())"
    },
    "r": {
     "delete_cmd_postfix": ") ",
     "delete_cmd_prefix": "rm(",
     "library": "var_list.r",
     "varRefreshCmd": "cat(var_dic_list()) "
    }
   },
   "types_to_exclude": [
    "module",
    "function",
    "builtin_function_or_method",
    "instance",
    "_Feature"
   ],
   "window_display": false
  }
 },
 "nbformat": 4,
 "nbformat_minor": 5
}
