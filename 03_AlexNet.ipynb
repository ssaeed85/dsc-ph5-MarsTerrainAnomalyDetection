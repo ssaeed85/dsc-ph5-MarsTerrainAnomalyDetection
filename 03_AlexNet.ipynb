{
 "cells": [
  {
   "cell_type": "code",
   "execution_count": 1,
   "id": "411e88fe",
   "metadata": {
    "ExecuteTime": {
     "end_time": "2022-05-20T18:02:32.110836Z",
     "start_time": "2022-05-20T18:02:31.340944Z"
    }
   },
   "outputs": [],
   "source": [
    "import numpy as np\n",
    "import pandas as pd\n",
    "import matplotlib.pyplot as plt\n",
    "from PIL import Image"
   ]
  },
  {
   "cell_type": "code",
   "execution_count": 2,
   "id": "4f082223",
   "metadata": {
    "ExecuteTime": {
     "end_time": "2022-05-20T18:02:34.658551Z",
     "start_time": "2022-05-20T18:02:32.111835Z"
    }
   },
   "outputs": [],
   "source": [
    "from tensorflow.keras.preprocessing.image import ImageDataGenerator\n",
    "from tensorflow.keras import layers, models, optimizers, losses\n",
    "from tensorflow.keras.callbacks import EarlyStopping,ModelCheckpoint\n",
    "from tensorflow.keras.metrics import Precision, Recall\n",
    "import tensorflow as tf\n",
    "tf.random.set_seed(\n",
    "    42\n",
    ")\n",
    "\n",
    "\n",
    "import seaborn as sns\n",
    "\n",
    "tf_chkpt_path = 'tf_AlexNet_checkpoints/'"
   ]
  },
  {
   "cell_type": "code",
   "execution_count": 3,
   "id": "069308a4",
   "metadata": {
    "ExecuteTime": {
     "end_time": "2022-05-20T18:02:34.674585Z",
     "start_time": "2022-05-20T18:02:34.659551Z"
    }
   },
   "outputs": [],
   "source": [
    "from src.helperFunctions import display_model_trainTestGraphs"
   ]
  },
  {
   "cell_type": "markdown",
   "id": "f284de56",
   "metadata": {},
   "source": [
    "# Training Set"
   ]
  },
  {
   "cell_type": "code",
   "execution_count": 4,
   "id": "1a8038a2",
   "metadata": {
    "ExecuteTime": {
     "end_time": "2022-05-20T18:02:35.977762Z",
     "start_time": "2022-05-20T18:02:34.675586Z"
    }
   },
   "outputs": [
    {
     "name": "stdout",
     "output_type": "stream",
     "text": [
      "Found 48979 images belonging to 8 classes.\n"
     ]
    }
   ],
   "source": [
    "# Normalizing data for 8 bit\n",
    "train_datagen = ImageDataGenerator(rescale=1./255)\n",
    "\n",
    "train_generator = train_datagen.flow_from_directory(\n",
    "    'images/train/',\n",
    "    target_size = (227,227),\n",
    "    batch_size=128,\n",
    "    color_mode='rgb',\n",
    "    class_mode='categorical'\n",
    ")"
   ]
  },
  {
   "cell_type": "markdown",
   "id": "f386ee0b",
   "metadata": {},
   "source": [
    "# Validation Set"
   ]
  },
  {
   "cell_type": "code",
   "execution_count": 5,
   "id": "a1aaecd9",
   "metadata": {
    "ExecuteTime": {
     "end_time": "2022-05-20T18:02:36.359848Z",
     "start_time": "2022-05-20T18:02:35.978762Z"
    }
   },
   "outputs": [
    {
     "name": "stdout",
     "output_type": "stream",
     "text": [
      "Found 14175 images belonging to 8 classes.\n"
     ]
    }
   ],
   "source": [
    "# Normalizing data for 8 bit\n",
    "val_datagen = ImageDataGenerator(rescale=1./255)\n",
    "\n",
    "val_generator = val_datagen.flow_from_directory(\n",
    "    'images/val/',\n",
    "    target_size = (227,227),\n",
    "    batch_size=128,\n",
    "    color_mode='rgb',\n",
    "    class_mode='categorical'\n",
    ")"
   ]
  },
  {
   "cell_type": "markdown",
   "id": "7ae2542c",
   "metadata": {},
   "source": [
    "# Test Set"
   ]
  },
  {
   "cell_type": "code",
   "execution_count": 6,
   "id": "50632029",
   "metadata": {
    "ExecuteTime": {
     "end_time": "2022-05-20T18:02:36.422682Z",
     "start_time": "2022-05-20T18:02:36.360848Z"
    }
   },
   "outputs": [
    {
     "name": "stdout",
     "output_type": "stream",
     "text": [
      "Found 1793 images belonging to 8 classes.\n"
     ]
    }
   ],
   "source": [
    "# Normalizing data for 8 bit\n",
    "test_datagen = ImageDataGenerator(rescale=1./255)\n",
    "\n",
    "test_generator = test_datagen.flow_from_directory(\n",
    "    'images/test/',\n",
    "    target_size = (227,227),\n",
    "    batch_size=128,\n",
    "    color_mode='rgb',\n",
    "    class_mode='categorical'\n",
    ")"
   ]
  },
  {
   "cell_type": "markdown",
   "id": "c5c2f43c",
   "metadata": {},
   "source": [
    "# Modeling"
   ]
  },
  {
   "cell_type": "code",
   "execution_count": 7,
   "id": "02bada5a",
   "metadata": {
    "ExecuteTime": {
     "end_time": "2022-05-20T18:02:36.438692Z",
     "start_time": "2022-05-20T18:02:36.423682Z"
    }
   },
   "outputs": [],
   "source": [
    "early_stop = EarlyStopping(monitor='val_loss', \n",
    "                           min_delta=1e-8,\n",
    "                           verbose=1,\n",
    "                           patience = 5,\n",
    "                           restore_best_weights=True,\n",
    "                           mode='min')"
   ]
  },
  {
   "cell_type": "markdown",
   "id": "f48373ae",
   "metadata": {},
   "source": [
    "# Model - AlexNet"
   ]
  },
  {
   "cell_type": "code",
   "execution_count": 8,
   "id": "e6adddd9",
   "metadata": {
    "ExecuteTime": {
     "end_time": "2022-05-20T18:02:40.451621Z",
     "start_time": "2022-05-20T18:02:36.439692Z"
    }
   },
   "outputs": [
    {
     "name": "stdout",
     "output_type": "stream",
     "text": [
      "Model: \"sequential\"\n",
      "_________________________________________________________________\n",
      " Layer (type)                Output Shape              Param #   \n",
      "=================================================================\n",
      " conv2d (Conv2D)             (None, 55, 55, 96)        34944     \n",
      "                                                                 \n",
      " batch_normalization (BatchN  (None, 55, 55, 96)       384       \n",
      " ormalization)                                                   \n",
      "                                                                 \n",
      " max_pooling2d (MaxPooling2D  (None, 27, 27, 96)       0         \n",
      " )                                                               \n",
      "                                                                 \n",
      " conv2d_1 (Conv2D)           (None, 27, 27, 256)       614656    \n",
      "                                                                 \n",
      " batch_normalization_1 (Batc  (None, 27, 27, 256)      1024      \n",
      " hNormalization)                                                 \n",
      "                                                                 \n",
      " max_pooling2d_1 (MaxPooling  (None, 13, 13, 256)      0         \n",
      " 2D)                                                             \n",
      "                                                                 \n",
      " conv2d_2 (Conv2D)           (None, 13, 13, 384)       885120    \n",
      "                                                                 \n",
      " batch_normalization_2 (Batc  (None, 13, 13, 384)      1536      \n",
      " hNormalization)                                                 \n",
      "                                                                 \n",
      " conv2d_3 (Conv2D)           (None, 13, 13, 384)       1327488   \n",
      "                                                                 \n",
      " batch_normalization_3 (Batc  (None, 13, 13, 384)      1536      \n",
      " hNormalization)                                                 \n",
      "                                                                 \n",
      " conv2d_4 (Conv2D)           (None, 13, 13, 256)       884992    \n",
      "                                                                 \n",
      " max_pooling2d_2 (MaxPooling  (None, 6, 6, 256)        0         \n",
      " 2D)                                                             \n",
      "                                                                 \n",
      " flatten (Flatten)           (None, 9216)              0         \n",
      "                                                                 \n",
      " dense (Dense)               (None, 4096)              37752832  \n",
      "                                                                 \n",
      " dropout (Dropout)           (None, 4096)              0         \n",
      "                                                                 \n",
      " dense_1 (Dense)             (None, 4096)              16781312  \n",
      "                                                                 \n",
      " dropout_1 (Dropout)         (None, 4096)              0         \n",
      "                                                                 \n",
      " dense_2 (Dense)             (None, 8)                 32776     \n",
      "                                                                 \n",
      "=================================================================\n",
      "Total params: 58,318,600\n",
      "Trainable params: 58,316,360\n",
      "Non-trainable params: 2,240\n",
      "_________________________________________________________________\n"
     ]
    }
   ],
   "source": [
    "model = models.Sequential()\n",
    "\n",
    "model.add(layers.Conv2D(filters=96, kernel_size=11, strides=(4, 4), padding='valid', activation='relu',\n",
    "                        input_shape=(227, 227, 3)))\n",
    "model.add(layers.BatchNormalization())\n",
    "model.add(layers.MaxPooling2D(pool_size=(3, 3), strides=(2, 2),padding='valid'))\n",
    "\n",
    "model.add(layers.Conv2D(filters=256, kernel_size=(\n",
    "        5, 5), strides=(1, 1), activation='relu', padding=\"same\"))\n",
    "model.add(layers.BatchNormalization())\n",
    "model.add(layers.MaxPool2D(pool_size=(3, 3), strides=(2, 2)))\n",
    "\n",
    "model.add(layers.Conv2D(filters=384, kernel_size=(\n",
    "        3, 3), strides=(1, 1), activation='relu', padding=\"same\"))\n",
    "model.add(layers.BatchNormalization())\n",
    "\n",
    "model.add(layers.Conv2D(filters=384, kernel_size=(\n",
    "        3, 3), strides=(1, 1), activation='relu', padding=\"same\"))\n",
    "model.add(layers.BatchNormalization())\n",
    "\n",
    "model.add(layers.Conv2D(filters=256, kernel_size=(\n",
    "        3, 3), strides=(1, 1), activation='relu', padding=\"same\"))\n",
    "model.add(layers.MaxPool2D(pool_size=(3, 3), strides=(2, 2)))\n",
    "\n",
    "\n",
    "model.add(layers.Flatten())\n",
    "model.add(layers.Dense(4096, activation = 'relu'))\n",
    "model.add(layers.Dropout(0.5))\n",
    "model.add(layers.Dense(4096, activation = 'relu'))\n",
    "model.add(layers.Dropout(0.5))\n",
    "\n",
    "model.add(layers.Dense(8, activation='softmax'))\n",
    "\n",
    "\n",
    "model.compile(optimizer = optimizers.Adam(learning_rate=0.0001),\n",
    "              loss= losses.CategoricalCrossentropy(),\n",
    "              metrics = ['accuracy', Precision(), Recall()])\n",
    "\n",
    "model.summary()"
   ]
  },
  {
   "cell_type": "code",
   "execution_count": 9,
   "id": "f56420c4",
   "metadata": {
    "ExecuteTime": {
     "end_time": "2022-05-20T18:19:47.091592Z",
     "start_time": "2022-05-20T18:02:40.453621Z"
    },
    "scrolled": false
   },
   "outputs": [
    {
     "name": "stdout",
     "output_type": "stream",
     "text": [
      "Epoch 1/150\n",
      "200/200 [==============================] - 37s 161ms/step - loss: 0.7654 - accuracy: 0.8212 - precision: 0.8437 - recall: 0.7952 - val_loss: 0.9975 - val_accuracy: 0.7902 - val_precision: 0.7902 - val_recall: 0.7902\n",
      "Epoch 2/150\n",
      "200/200 [==============================] - 32s 162ms/step - loss: 0.4946 - accuracy: 0.8531 - precision: 0.8741 - recall: 0.8301 - val_loss: 1.0615 - val_accuracy: 0.7913 - val_precision: 0.7913 - val_recall: 0.7912\n",
      "Epoch 3/150\n",
      "200/200 [==============================] - 32s 158ms/step - loss: 0.4155 - accuracy: 0.8744 - precision: 0.8903 - recall: 0.8557 - val_loss: 3.1947 - val_accuracy: 0.2430 - val_precision: 0.2302 - val_recall: 0.2185\n",
      "Epoch 4/150\n",
      "200/200 [==============================] - 31s 157ms/step - loss: 0.3611 - accuracy: 0.8899 - precision: 0.9037 - recall: 0.8749 - val_loss: 1.1231 - val_accuracy: 0.5763 - val_precision: 0.6306 - val_recall: 0.4969\n",
      "Epoch 5/150\n",
      "200/200 [==============================] - 32s 159ms/step - loss: 0.3426 - accuracy: 0.8980 - precision: 0.9088 - recall: 0.8851 - val_loss: 1.1640 - val_accuracy: 0.6621 - val_precision: 0.7629 - val_recall: 0.2778\n",
      "Epoch 6/150\n",
      "200/200 [==============================] - 32s 158ms/step - loss: 0.3136 - accuracy: 0.9042 - precision: 0.9132 - recall: 0.8936 - val_loss: 2.4286 - val_accuracy: 0.5362 - val_precision: 0.5374 - val_recall: 0.5210\n",
      "Epoch 7/150\n",
      "200/200 [==============================] - 32s 161ms/step - loss: 0.2831 - accuracy: 0.9133 - precision: 0.9208 - recall: 0.9052 - val_loss: 1.1230 - val_accuracy: 0.7037 - val_precision: 0.7193 - val_recall: 0.6856\n",
      "Epoch 8/150\n",
      "200/200 [==============================] - 32s 158ms/step - loss: 0.2640 - accuracy: 0.9196 - precision: 0.9263 - recall: 0.9130 - val_loss: 0.9298 - val_accuracy: 0.7465 - val_precision: 0.7983 - val_recall: 0.4913\n",
      "Epoch 9/150\n",
      "200/200 [==============================] - 32s 160ms/step - loss: 0.2437 - accuracy: 0.9255 - precision: 0.9307 - recall: 0.9195 - val_loss: 1.5589 - val_accuracy: 0.5552 - val_precision: 0.5654 - val_recall: 0.5122\n",
      "Epoch 10/150\n",
      "200/200 [==============================] - 32s 158ms/step - loss: 0.2265 - accuracy: 0.9293 - precision: 0.9347 - recall: 0.9243 - val_loss: 1.0168 - val_accuracy: 0.7001 - val_precision: 0.7136 - val_recall: 0.6792\n",
      "Epoch 11/150\n",
      "200/200 [==============================] - 32s 162ms/step - loss: 0.2054 - accuracy: 0.9357 - precision: 0.9392 - recall: 0.9326 - val_loss: 0.8565 - val_accuracy: 0.8266 - val_precision: 0.8311 - val_recall: 0.8240\n",
      "Epoch 12/150\n",
      "200/200 [==============================] - 32s 161ms/step - loss: 0.1964 - accuracy: 0.9397 - precision: 0.9434 - recall: 0.9354 - val_loss: 0.8435 - val_accuracy: 0.7509 - val_precision: 0.8060 - val_recall: 0.6642\n",
      "Epoch 13/150\n",
      "200/200 [==============================] - 32s 160ms/step - loss: 0.1786 - accuracy: 0.9445 - precision: 0.9471 - recall: 0.9419 - val_loss: 0.9644 - val_accuracy: 0.7235 - val_precision: 0.7422 - val_recall: 0.7043\n",
      "Epoch 14/150\n",
      "200/200 [==============================] - 32s 162ms/step - loss: 0.1752 - accuracy: 0.9439 - precision: 0.9460 - recall: 0.9416 - val_loss: 0.8934 - val_accuracy: 0.7268 - val_precision: 0.7607 - val_recall: 0.5939\n",
      "Epoch 15/150\n",
      "200/200 [==============================] - 32s 161ms/step - loss: 0.1576 - accuracy: 0.9485 - precision: 0.9504 - recall: 0.9467 - val_loss: 2.0314 - val_accuracy: 0.6087 - val_precision: 0.6115 - val_recall: 0.6055\n",
      "Epoch 16/150\n",
      "200/200 [==============================] - 32s 161ms/step - loss: 0.1448 - accuracy: 0.9542 - precision: 0.9556 - recall: 0.9521 - val_loss: 1.3395 - val_accuracy: 0.6160 - val_precision: 0.6515 - val_recall: 0.5615\n",
      "Epoch 17/150\n",
      "200/200 [==============================] - 33s 165ms/step - loss: 0.1307 - accuracy: 0.9575 - precision: 0.9592 - recall: 0.9561 - val_loss: 0.6127 - val_accuracy: 0.8574 - val_precision: 0.8599 - val_recall: 0.8552\n",
      "Epoch 18/150\n",
      "200/200 [==============================] - 33s 165ms/step - loss: 0.1249 - accuracy: 0.9589 - precision: 0.9606 - recall: 0.9580 - val_loss: 1.7636 - val_accuracy: 0.6102 - val_precision: 0.6152 - val_recall: 0.6014\n",
      "Epoch 19/150\n",
      "200/200 [==============================] - 34s 168ms/step - loss: 0.1241 - accuracy: 0.9594 - precision: 0.9607 - recall: 0.9579 - val_loss: 0.8986 - val_accuracy: 0.7591 - val_precision: 0.7715 - val_recall: 0.7484\n",
      "Epoch 20/150\n",
      "200/200 [==============================] - 33s 166ms/step - loss: 0.1043 - accuracy: 0.9657 - precision: 0.9667 - recall: 0.9649 - val_loss: 0.8506 - val_accuracy: 0.7521 - val_precision: 0.7645 - val_recall: 0.7361\n",
      "Epoch 21/150\n",
      "200/200 [==============================] - 34s 167ms/step - loss: 0.1000 - accuracy: 0.9670 - precision: 0.9680 - recall: 0.9658 - val_loss: 0.9447 - val_accuracy: 0.8192 - val_precision: 0.8206 - val_recall: 0.8183\n",
      "Epoch 22/150\n",
      "200/200 [==============================] - 34s 169ms/step - loss: 0.0866 - accuracy: 0.9706 - precision: 0.9713 - recall: 0.9698 - val_loss: 1.2096 - val_accuracy: 0.7390 - val_precision: 0.7491 - val_recall: 0.7266\n",
      "Epoch 23/150\n",
      "200/200 [==============================] - 34s 172ms/step - loss: 0.0803 - accuracy: 0.9730 - precision: 0.9734 - recall: 0.9725 - val_loss: 0.9030 - val_accuracy: 0.7755 - val_precision: 0.7830 - val_recall: 0.7667\n",
      "Epoch 24/150\n",
      "200/200 [==============================] - 33s 166ms/step - loss: 0.0795 - accuracy: 0.9744 - precision: 0.9751 - recall: 0.9735 - val_loss: 0.7290 - val_accuracy: 0.8762 - val_precision: 0.8778 - val_recall: 0.8752\n",
      "Epoch 25/150\n",
      "200/200 [==============================] - 34s 170ms/step - loss: 0.0745 - accuracy: 0.9751 - precision: 0.9757 - recall: 0.9745 - val_loss: 0.8603 - val_accuracy: 0.8025 - val_precision: 0.8147 - val_recall: 0.7854\n",
      "Epoch 26/150\n",
      "200/200 [==============================] - 34s 168ms/step - loss: 0.0732 - accuracy: 0.9769 - precision: 0.9777 - recall: 0.9763 - val_loss: 0.7354 - val_accuracy: 0.8488 - val_precision: 0.8506 - val_recall: 0.8475\n",
      "Epoch 27/150\n",
      "200/200 [==============================] - 34s 170ms/step - loss: 0.0682 - accuracy: 0.9775 - precision: 0.9783 - recall: 0.9770 - val_loss: 0.9095 - val_accuracy: 0.8652 - val_precision: 0.8675 - val_recall: 0.8646\n",
      "Epoch 28/150\n",
      "200/200 [==============================] - 34s 170ms/step - loss: 0.0529 - accuracy: 0.9829 - precision: 0.9834 - recall: 0.9826 - val_loss: 2.4135 - val_accuracy: 0.5321 - val_precision: 0.5416 - val_recall: 0.5155\n",
      "Epoch 29/150\n",
      "200/200 [==============================] - 35s 172ms/step - loss: 0.0532 - accuracy: 0.9830 - precision: 0.9836 - recall: 0.9824 - val_loss: 1.4188 - val_accuracy: 0.8237 - val_precision: 0.8249 - val_recall: 0.8229\n",
      "Epoch 30/150\n",
      "200/200 [==============================] - 34s 170ms/step - loss: 0.0484 - accuracy: 0.9839 - precision: 0.9845 - recall: 0.9834 - val_loss: 1.1944 - val_accuracy: 0.8495 - val_precision: 0.8501 - val_recall: 0.8491\n",
      "Epoch 31/150\n",
      "200/200 [==============================] - 34s 171ms/step - loss: 0.0529 - accuracy: 0.9825 - precision: 0.9832 - recall: 0.9820 - val_loss: 1.2604 - val_accuracy: 0.7850 - val_precision: 0.7877 - val_recall: 0.7829\n",
      "Epoch 32/150\n",
      "  7/200 [>.............................] - ETA: 20s - loss: 0.0382 - accuracy: 0.9894 - precision: 0.9894 - recall: 0.9894"
     ]
    },
    {
     "ename": "KeyboardInterrupt",
     "evalue": "",
     "output_type": "error",
     "traceback": [
      "\u001b[1;31m---------------------------------------------------------------------------\u001b[0m",
      "\u001b[1;31mKeyboardInterrupt\u001b[0m                         Traceback (most recent call last)",
      "Input \u001b[1;32mIn [9]\u001b[0m, in \u001b[0;36m<cell line: 1>\u001b[1;34m()\u001b[0m\n\u001b[1;32m----> 1\u001b[0m results \u001b[38;5;241m=\u001b[39m \u001b[43mmodel\u001b[49m\u001b[38;5;241;43m.\u001b[39;49m\u001b[43mfit\u001b[49m\u001b[43m(\u001b[49m\u001b[43mtrain_generator\u001b[49m\u001b[43m,\u001b[49m\n\u001b[0;32m      2\u001b[0m \u001b[43m                    \u001b[49m\u001b[43msteps_per_epoch\u001b[49m\u001b[38;5;241;43m=\u001b[39;49m\u001b[38;5;241;43m200\u001b[39;49m\u001b[43m,\u001b[49m\u001b[43m  \u001b[49m\u001b[38;5;66;43;03m# Number of training samples to pull per epoch\u001b[39;49;00m\n\u001b[0;32m      3\u001b[0m \u001b[43m                    \u001b[49m\u001b[43mepochs\u001b[49m\u001b[38;5;241;43m=\u001b[39;49m\u001b[38;5;241;43m150\u001b[39;49m\u001b[43m,\u001b[49m\u001b[43m  \u001b[49m\u001b[38;5;66;43;03m# Number of epochs\u001b[39;49;00m\n\u001b[0;32m      4\u001b[0m \u001b[43m                    \u001b[49m\u001b[43mvalidation_data\u001b[49m\u001b[38;5;241;43m=\u001b[39;49m\u001b[43mval_generator\u001b[49m\u001b[43m,\u001b[49m\n\u001b[0;32m      5\u001b[0m \u001b[43m                    \u001b[49m\u001b[43mvalidation_freq\u001b[49m\u001b[38;5;241;43m=\u001b[39;49m\u001b[38;5;241;43m1\u001b[39;49m\u001b[43m,\u001b[49m\n\u001b[0;32m      6\u001b[0m \u001b[43m                    \u001b[49m\u001b[43mvalidation_steps\u001b[49m\u001b[38;5;241;43m=\u001b[39;49m\u001b[38;5;241;43m100\u001b[39;49m\u001b[43m,\u001b[49m\u001b[43m  \u001b[49m\u001b[38;5;66;43;03m# Number of validation samples to run validation on\u001b[39;49;00m\n\u001b[0;32m      7\u001b[0m \u001b[38;5;66;43;03m#                     verbose=1,\u001b[39;49;00m\n\u001b[0;32m      8\u001b[0m \u001b[38;5;66;43;03m#                     callbacks = [early_stop]\u001b[39;49;00m\n\u001b[0;32m      9\u001b[0m \u001b[43m                    \u001b[49m\u001b[43m)\u001b[49m\n",
      "File \u001b[1;32m~\\anaconda3\\envs\\tfGPU\\lib\\site-packages\\keras\\utils\\traceback_utils.py:64\u001b[0m, in \u001b[0;36mfilter_traceback.<locals>.error_handler\u001b[1;34m(*args, **kwargs)\u001b[0m\n\u001b[0;32m     62\u001b[0m filtered_tb \u001b[38;5;241m=\u001b[39m \u001b[38;5;28;01mNone\u001b[39;00m\n\u001b[0;32m     63\u001b[0m \u001b[38;5;28;01mtry\u001b[39;00m:\n\u001b[1;32m---> 64\u001b[0m   \u001b[38;5;28;01mreturn\u001b[39;00m fn(\u001b[38;5;241m*\u001b[39margs, \u001b[38;5;241m*\u001b[39m\u001b[38;5;241m*\u001b[39mkwargs)\n\u001b[0;32m     65\u001b[0m \u001b[38;5;28;01mexcept\u001b[39;00m \u001b[38;5;167;01mException\u001b[39;00m \u001b[38;5;28;01mas\u001b[39;00m e:  \u001b[38;5;66;03m# pylint: disable=broad-except\u001b[39;00m\n\u001b[0;32m     66\u001b[0m   filtered_tb \u001b[38;5;241m=\u001b[39m _process_traceback_frames(e\u001b[38;5;241m.\u001b[39m__traceback__)\n",
      "File \u001b[1;32m~\\anaconda3\\envs\\tfGPU\\lib\\site-packages\\keras\\engine\\training.py:1413\u001b[0m, in \u001b[0;36mModel.fit\u001b[1;34m(self, x, y, batch_size, epochs, verbose, callbacks, validation_split, validation_data, shuffle, class_weight, sample_weight, initial_epoch, steps_per_epoch, validation_steps, validation_batch_size, validation_freq, max_queue_size, workers, use_multiprocessing)\u001b[0m\n\u001b[0;32m   1411\u001b[0m   context\u001b[38;5;241m.\u001b[39masync_wait()\n\u001b[0;32m   1412\u001b[0m logs \u001b[38;5;241m=\u001b[39m tmp_logs  \u001b[38;5;66;03m# No error, now safe to assign to logs.\u001b[39;00m\n\u001b[1;32m-> 1413\u001b[0m end_step \u001b[38;5;241m=\u001b[39m step \u001b[38;5;241m+\u001b[39m \u001b[43mdata_handler\u001b[49m\u001b[38;5;241;43m.\u001b[39;49m\u001b[43mstep_increment\u001b[49m\n\u001b[0;32m   1414\u001b[0m callbacks\u001b[38;5;241m.\u001b[39mon_train_batch_end(end_step, logs)\n\u001b[0;32m   1415\u001b[0m \u001b[38;5;28;01mif\u001b[39;00m \u001b[38;5;28mself\u001b[39m\u001b[38;5;241m.\u001b[39mstop_training:\n",
      "File \u001b[1;32m~\\anaconda3\\envs\\tfGPU\\lib\\site-packages\\keras\\engine\\data_adapter.py:1268\u001b[0m, in \u001b[0;36mDataHandler.step_increment\u001b[1;34m(self)\u001b[0m\n\u001b[0;32m   1265\u001b[0m       \u001b[38;5;28mself\u001b[39m\u001b[38;5;241m.\u001b[39m_current_step \u001b[38;5;241m+\u001b[39m\u001b[38;5;241m=\u001b[39m steps_remaining\n\u001b[0;32m   1266\u001b[0m       \u001b[38;5;28mself\u001b[39m\u001b[38;5;241m.\u001b[39m_steps_per_execution\u001b[38;5;241m.\u001b[39massign(original_spe)\n\u001b[1;32m-> 1268\u001b[0m \u001b[38;5;129m@property\u001b[39m\n\u001b[0;32m   1269\u001b[0m \u001b[38;5;28;01mdef\u001b[39;00m \u001b[38;5;21mstep_increment\u001b[39m(\u001b[38;5;28mself\u001b[39m):\n\u001b[0;32m   1270\u001b[0m   \u001b[38;5;124;03m\"\"\"The number to increment the step for `on_batch_end` methods.\"\"\"\u001b[39;00m\n\u001b[0;32m   1271\u001b[0m   \u001b[38;5;28;01mreturn\u001b[39;00m \u001b[38;5;28mself\u001b[39m\u001b[38;5;241m.\u001b[39m_step_increment\n",
      "\u001b[1;31mKeyboardInterrupt\u001b[0m: "
     ]
    }
   ],
   "source": [
    "results = model.fit(train_generator,\n",
    "                    steps_per_epoch=200,  # Number of training samples to pull per epoch\n",
    "                    epochs=150,  # Number of epochs\n",
    "                    validation_data=val_generator,\n",
    "                    validation_freq=1,\n",
    "                    validation_steps=100,  # Number of validation samples to run validation on\n",
    "#                     verbose=1,\n",
    "#                     callbacks = [early_stop]\n",
    "                    )"
   ]
  },
  {
   "cell_type": "markdown",
   "id": "3d50dfbc",
   "metadata": {},
   "source": [
    "Interrupted because it val_loss was not converging"
   ]
  },
  {
   "cell_type": "code",
   "execution_count": null,
   "id": "caa271c2",
   "metadata": {},
   "outputs": [],
   "source": []
  }
 ],
 "metadata": {
  "kernelspec": {
   "display_name": "tfGPU",
   "language": "python",
   "name": "tfgpu"
  },
  "language_info": {
   "codemirror_mode": {
    "name": "ipython",
    "version": 3
   },
   "file_extension": ".py",
   "mimetype": "text/x-python",
   "name": "python",
   "nbconvert_exporter": "python",
   "pygments_lexer": "ipython3",
   "version": "3.9.12"
  },
  "toc": {
   "base_numbering": 1,
   "nav_menu": {},
   "number_sections": true,
   "sideBar": true,
   "skip_h1_title": false,
   "title_cell": "Table of Contents",
   "title_sidebar": "Contents",
   "toc_cell": false,
   "toc_position": {},
   "toc_section_display": true,
   "toc_window_display": false
  },
  "varInspector": {
   "cols": {
    "lenName": 16,
    "lenType": 16,
    "lenVar": 40
   },
   "kernels_config": {
    "python": {
     "delete_cmd_postfix": "",
     "delete_cmd_prefix": "del ",
     "library": "var_list.py",
     "varRefreshCmd": "print(var_dic_list())"
    },
    "r": {
     "delete_cmd_postfix": ") ",
     "delete_cmd_prefix": "rm(",
     "library": "var_list.r",
     "varRefreshCmd": "cat(var_dic_list()) "
    }
   },
   "position": {
    "height": "741.844px",
    "left": "1550px",
    "right": "20px",
    "top": "120px",
    "width": "350px"
   },
   "types_to_exclude": [
    "module",
    "function",
    "builtin_function_or_method",
    "instance",
    "_Feature"
   ],
   "window_display": true
  }
 },
 "nbformat": 4,
 "nbformat_minor": 5
}
