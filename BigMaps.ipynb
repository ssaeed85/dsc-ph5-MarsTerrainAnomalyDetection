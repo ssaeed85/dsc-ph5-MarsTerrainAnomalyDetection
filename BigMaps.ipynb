{
 "cells": [
  {
   "cell_type": "code",
   "execution_count": 74,
   "id": "64d70e01",
   "metadata": {
    "ExecuteTime": {
     "end_time": "2022-05-25T21:15:17.566252Z",
     "start_time": "2022-05-25T21:15:17.562675Z"
    }
   },
   "outputs": [],
   "source": [
    "from PIL import Image, ImageDraw\n",
    "import math\n",
    "import pandas as pd\n",
    "import numpy as np\n",
    "import tensorflow as tf\n",
    "from tensorflow.keras.preprocessing.image import ImageDataGenerator\n",
    "import os\n",
    "import shutil\n",
    "import random"
   ]
  },
  {
   "cell_type": "code",
   "execution_count": 75,
   "id": "4a3af20c",
   "metadata": {
    "ExecuteTime": {
     "end_time": "2022-05-25T21:15:17.759728Z",
     "start_time": "2022-05-25T21:15:17.747726Z"
    }
   },
   "outputs": [],
   "source": [
    "def drawBoundingRectangle(coordsTup , ImgObj, color='#ff0000', width=5, alpha=1.0):\n",
    "    \"\"\"\n",
    "    Creates a box to highligt a location on the image object\n",
    "\n",
    "    coordsTup = tuple of bbox corners. \n",
    "        top left coords = first 2 elements\n",
    "        bottom right coords = last 2 elements\n",
    "    width: width of outline\n",
    "    color: hex value of color. Default red\n",
    "    alpha: opacity. Range: 0,1\n",
    "    \"\"\"\n",
    "    #Checking for transparency\n",
    "    if alpha > 1 or alpha < 0: \n",
    "        alpha =1\n",
    "    \n",
    "    color_with_opacity = color + hex(int(alpha*255))[-2:]\n",
    "    \n",
    "    # Draw a rectangle\n",
    "    draw = ImageDraw.Draw(ImgObj,'RGBA')\n",
    "    \n",
    "    p1_coord = coordsTup[0:2]\n",
    "    p2_coord = coordsTup[2:4]\n",
    "    draw.rectangle([p1_coord, p2_coord], outline=color_with_opacity, width=width)\n",
    "    \n",
    "    \n",
    "def createNewPotentialBboxes(imgObj):\n",
    "    img_width,  img_height = imgObj.size\n",
    "    overlap = 0.4\n",
    "    stride = 277*overlap \n",
    "\n",
    "    df_list = []\n",
    "    for winsize in (277,277*2,277*3):\n",
    "        if (winsize > img_width) or (winsize > img_height):\n",
    "            break\n",
    "        #if winsize odd, increase by 1 pixel. Just easier\n",
    "        if (winsize % 2) != 0:\n",
    "            winsize+=1\n",
    "        xvals = np.arange((winsize/2), (img_width-winsize/2),stride)\n",
    "        yvals = np.arange((winsize/2), (img_height-winsize/2),stride)\n",
    "        list_centroids = [(x,y) for x in xvals for y in yvals]\n",
    "\n",
    "        list_coordTuples = [get_bboxCoords(x_cnt,y_cnt,winsize) for x_cnt,y_cnt in list_centroids]\n",
    "\n",
    "        #Appends new records for current winsize and bbox\n",
    "        df_list.append(pd.DataFrame([list_coordTuples,[winsize]*len(list_coordTuples)]).T)\n",
    "\n",
    "    df_bboxPotentials = pd.concat(df_list,ignore_index=True,axis=0)\n",
    "    df_bboxPotentials.columns = ['bbox_bounds','winsize']\n",
    "    df_bboxPotentials.to_csv(f'mass_maps/bboxPotentials_{img_width}_{img_height}.csv',index = False)\n",
    "    return df_bboxPotentials\n",
    "\n",
    "def get_bboxCoords(x_cnt,y_cnt,winsize):\n",
    "    return int(x_cnt - winsize/2),int(y_cnt - winsize/2),int(x_cnt + winsize/2),int(y_cnt + winsize/2)\n",
    "\n",
    "def getPotentialBboxes(imgObj,forceCreateNew = False):\n",
    "    \n",
    "    img_width,  img_height = imgObj.size\n",
    "    \n",
    "    if forceCreateNew:\n",
    "        print('force creating new')\n",
    "        df_bboxPotentials = createNewPotentialBboxes(imgObj)\n",
    "    else:\n",
    "        try:\n",
    "            print('reading current')\n",
    "            df_bboxPotentials = pd.read_csv(f'mass_maps/bboxPotentials_{img_width}_{img_height}.csv')\n",
    "        except FileNotFoundError:\n",
    "            print('no existing doc. creating')\n",
    "            df_bboxPotentials = createNewPotentialBboxes(imgObj)\n",
    "        \n",
    "        \n",
    "    return df_bboxPotentials\n",
    "\n",
    "def getClassFromPred(pred,threshold):\n",
    "    if max(pred)>threshold:\n",
    "        return pred.argmax()\n",
    "    return -1\n",
    "\n",
    "\n",
    "def getRandomColor():\n",
    "    #Shamelessly stolen from one of the references above\n",
    "    #Returns a random hex color value\n",
    "    return str([\"#\"+''.join([random.choice('ABCDEF0123456789') for i in range(6)])][0])"
   ]
  },
  {
   "cell_type": "code",
   "execution_count": 76,
   "id": "254e9f72",
   "metadata": {
    "ExecuteTime": {
     "end_time": "2022-05-25T21:15:20.520062Z",
     "start_time": "2022-05-25T21:15:20.516051Z"
    }
   },
   "outputs": [
    {
     "name": "stdout",
     "output_type": "stream",
     "text": [
      "(2048, 2836)\n"
     ]
    }
   ],
   "source": [
    "im1 = Image.open('mass_maps/ESP_068561_1700_RED.NOMAP.browse.jpg')\n",
    "img_width,  img_height = im1.size\n",
    "print(im1.size)"
   ]
  },
  {
   "cell_type": "code",
   "execution_count": 73,
   "id": "7cc60dc8",
   "metadata": {
    "ExecuteTime": {
     "end_time": "2022-05-25T21:03:10.781340Z",
     "start_time": "2022-05-25T21:03:10.777313Z"
    }
   },
   "outputs": [
    {
     "data": {
      "text/plain": [
       "{0: '#094539',\n",
       " 1: '#852DB9',\n",
       " 2: '#B56EF3',\n",
       " 3: '#C076AA',\n",
       " 4: '#56AEF8',\n",
       " 5: '#D5F61A',\n",
       " 6: '#74C7CF',\n",
       " 7: '#792ECB'}"
      ]
     },
     "execution_count": 73,
     "metadata": {},
     "output_type": "execute_result"
    }
   ],
   "source": [
    "colorMap = {n:getRandomColor() for n in range(0,8)}\n",
    "colorMap"
   ]
  },
  {
   "cell_type": "code",
   "execution_count": 6,
   "id": "15818c6f",
   "metadata": {
    "ExecuteTime": {
     "end_time": "2022-05-25T20:22:05.798759Z",
     "start_time": "2022-05-25T20:22:05.746733Z"
    },
    "scrolled": false
   },
   "outputs": [
    {
     "name": "stdout",
     "output_type": "stream",
     "text": [
      "force creating new\n"
     ]
    },
    {
     "data": {
      "text/html": [
       "<div>\n",
       "<style scoped>\n",
       "    .dataframe tbody tr th:only-of-type {\n",
       "        vertical-align: middle;\n",
       "    }\n",
       "\n",
       "    .dataframe tbody tr th {\n",
       "        vertical-align: top;\n",
       "    }\n",
       "\n",
       "    .dataframe thead th {\n",
       "        text-align: right;\n",
       "    }\n",
       "</style>\n",
       "<table border=\"1\" class=\"dataframe\">\n",
       "  <thead>\n",
       "    <tr style=\"text-align: right;\">\n",
       "      <th></th>\n",
       "      <th>bbox_bounds</th>\n",
       "      <th>winsize</th>\n",
       "    </tr>\n",
       "  </thead>\n",
       "  <tbody>\n",
       "    <tr>\n",
       "      <th>0</th>\n",
       "      <td>(0, 0, 278, 278)</td>\n",
       "      <td>278</td>\n",
       "    </tr>\n",
       "    <tr>\n",
       "      <th>1</th>\n",
       "      <td>(0, 110, 278, 388)</td>\n",
       "      <td>278</td>\n",
       "    </tr>\n",
       "    <tr>\n",
       "      <th>2</th>\n",
       "      <td>(0, 221, 278, 499)</td>\n",
       "      <td>278</td>\n",
       "    </tr>\n",
       "    <tr>\n",
       "      <th>3</th>\n",
       "      <td>(0, 332, 278, 610)</td>\n",
       "      <td>278</td>\n",
       "    </tr>\n",
       "    <tr>\n",
       "      <th>4</th>\n",
       "      <td>(0, 443, 278, 721)</td>\n",
       "      <td>278</td>\n",
       "    </tr>\n",
       "    <tr>\n",
       "      <th>...</th>\n",
       "      <td>...</td>\n",
       "      <td>...</td>\n",
       "    </tr>\n",
       "    <tr>\n",
       "      <th>882</th>\n",
       "      <td>(1107, 1551, 1939, 2383)</td>\n",
       "      <td>832</td>\n",
       "    </tr>\n",
       "    <tr>\n",
       "      <th>883</th>\n",
       "      <td>(1107, 1661, 1939, 2493)</td>\n",
       "      <td>832</td>\n",
       "    </tr>\n",
       "    <tr>\n",
       "      <th>884</th>\n",
       "      <td>(1107, 1772, 1939, 2604)</td>\n",
       "      <td>832</td>\n",
       "    </tr>\n",
       "    <tr>\n",
       "      <th>885</th>\n",
       "      <td>(1107, 1883, 1939, 2715)</td>\n",
       "      <td>832</td>\n",
       "    </tr>\n",
       "    <tr>\n",
       "      <th>886</th>\n",
       "      <td>(1107, 1994, 1939, 2826)</td>\n",
       "      <td>832</td>\n",
       "    </tr>\n",
       "  </tbody>\n",
       "</table>\n",
       "<p>887 rows × 2 columns</p>\n",
       "</div>"
      ],
      "text/plain": [
       "                  bbox_bounds winsize\n",
       "0            (0, 0, 278, 278)     278\n",
       "1          (0, 110, 278, 388)     278\n",
       "2          (0, 221, 278, 499)     278\n",
       "3          (0, 332, 278, 610)     278\n",
       "4          (0, 443, 278, 721)     278\n",
       "..                        ...     ...\n",
       "882  (1107, 1551, 1939, 2383)     832\n",
       "883  (1107, 1661, 1939, 2493)     832\n",
       "884  (1107, 1772, 1939, 2604)     832\n",
       "885  (1107, 1883, 1939, 2715)     832\n",
       "886  (1107, 1994, 1939, 2826)     832\n",
       "\n",
       "[887 rows x 2 columns]"
      ]
     },
     "execution_count": 6,
     "metadata": {},
     "output_type": "execute_result"
    }
   ],
   "source": [
    "getPotentialBboxes(im1,forceCreateNew=True)"
   ]
  },
  {
   "cell_type": "code",
   "execution_count": 7,
   "id": "4d725ef1",
   "metadata": {
    "ExecuteTime": {
     "end_time": "2022-05-25T20:22:09.580351Z",
     "start_time": "2022-05-25T20:22:09.226259Z"
    }
   },
   "outputs": [
    {
     "name": "stdout",
     "output_type": "stream",
     "text": [
      "reading current\n"
     ]
    }
   ],
   "source": [
    "df_bbox = getPotentialBboxes(im1)\n",
    "list_imagesToClassify = [im1.crop(eval(df_bbox.iloc[rowNum]['bbox_bounds'])) for rowNum in range(0,df_bbox.shape[0])]"
   ]
  },
  {
   "cell_type": "code",
   "execution_count": 8,
   "id": "6a6dd22a",
   "metadata": {
    "ExecuteTime": {
     "end_time": "2022-05-25T20:22:13.220362Z",
     "start_time": "2022-05-25T20:22:13.206363Z"
    },
    "scrolled": true
   },
   "outputs": [
    {
     "data": {
      "image/png": "[encoded data removed]",
      "text/plain": [
       "<PIL.Image.Image image mode=L size=278x278>"
      ]
     },
     "execution_count": 8,
     "metadata": {},
     "output_type": "execute_result"
    }
   ],
   "source": [
    "eg_img = list_imagesToClassify[0]\n",
    "eg_img"
   ]
  },
  {
   "cell_type": "code",
   "execution_count": 9,
   "id": "15db3dcd",
   "metadata": {
    "ExecuteTime": {
     "end_time": "2022-05-25T20:22:22.796557Z",
     "start_time": "2022-05-25T20:22:16.142412Z"
    }
   },
   "outputs": [],
   "source": [
    "final_model = tf.keras.models.load_model('tf_Adam_new_checkpoints/Model_final3/')"
   ]
  },
  {
   "cell_type": "code",
   "execution_count": 24,
   "id": "b660a7aa",
   "metadata": {
    "ExecuteTime": {
     "end_time": "2022-05-25T20:31:44.943483Z",
     "start_time": "2022-05-25T20:31:40.590917Z"
    }
   },
   "outputs": [],
   "source": [
    "# Fresh start on sliced output folder\n",
    "slicePath = f\"{'/'.join(im1.filename.split('/')[:-1])}/_slices_{im1.filename.split('/')[-1]}/\"\n",
    "slicePath = slicePath.replace('.','_')\n",
    "if (os.path.exists(slicePath) and os.path.isdir(slicePath)):\n",
    "    shutil.rmtree(slicePath)\n",
    "os.makedirs(slicePath)\n",
    "\n",
    "for count, img in enumerate(list_imagesToClassify):\n",
    "    img.save(''.join([slicePath,str(count),'_',(im1.filename.split('/')[-1])]))"
   ]
  },
  {
   "cell_type": "code",
   "execution_count": 27,
   "id": "ef1f59a0",
   "metadata": {
    "ExecuteTime": {
     "end_time": "2022-05-25T20:32:27.737249Z",
     "start_time": "2022-05-25T20:32:27.691228Z"
    }
   },
   "outputs": [
    {
     "name": "stdout",
     "output_type": "stream",
     "text": [
      "mass_maps/_slices_ESP_068561_1700_RED_NOMAP_browse_jpg/\n",
      "Found 887 images belonging to 1 classes.\n"
     ]
    }
   ],
   "source": [
    "# Normalizing data for 8 bit\n",
    "predict_datagen = ImageDataGenerator(rescale=1./255)\n",
    "\n",
    "print(slicePath)\n",
    "predict_generator = predict_datagen.flow_from_directory(\n",
    "    'mass_maps/',\n",
    "    target_size = (227,227),\n",
    "    batch_size=8,\n",
    "    color_mode='grayscale',\n",
    "    class_mode=None\n",
    ")"
   ]
  },
  {
   "cell_type": "code",
   "execution_count": 30,
   "id": "5cd4fe8f",
   "metadata": {
    "ExecuteTime": {
     "end_time": "2022-05-25T20:33:47.480161Z",
     "start_time": "2022-05-25T20:33:44.245290Z"
    }
   },
   "outputs": [
    {
     "name": "stdout",
     "output_type": "stream",
     "text": [
      "111/111 [==============================] - 2s 20ms/step\n"
     ]
    }
   ],
   "source": [
    "preds = final_model.predict(predict_generator)"
   ]
  },
  {
   "cell_type": "code",
   "execution_count": 34,
   "id": "1973792e",
   "metadata": {
    "ExecuteTime": {
     "end_time": "2022-05-25T20:36:58.619205Z",
     "start_time": "2022-05-25T20:36:58.612203Z"
    }
   },
   "outputs": [
    {
     "data": {
      "text/plain": [
       "4"
      ]
     },
     "execution_count": 34,
     "metadata": {},
     "output_type": "execute_result"
    }
   ],
   "source": [
    "preds[0].argmax()"
   ]
  },
  {
   "cell_type": "code",
   "execution_count": 176,
   "id": "eb702c90",
   "metadata": {
    "ExecuteTime": {
     "end_time": "2022-05-25T18:22:01.080881Z",
     "start_time": "2022-05-25T18:22:01.068879Z"
    },
    "scrolled": true
   },
   "outputs": [
    {
     "data": {
      "text/plain": [
       "'mass_maps/ESP_068561_1700_RED.NOMAP.browse.jpg'"
      ]
     },
     "execution_count": 176,
     "metadata": {},
     "output_type": "execute_result"
    }
   ],
   "source": [
    "im1.filename"
   ]
  },
  {
   "cell_type": "code",
   "execution_count": 40,
   "id": "e0b9b689",
   "metadata": {
    "ExecuteTime": {
     "end_time": "2022-05-25T20:41:10.107017Z",
     "start_time": "2022-05-25T20:41:10.100015Z"
    }
   },
   "outputs": [],
   "source": [
    "df_bbox['predClass'] = [getClassFromPred(pred,0.7) for pred in preds]"
   ]
  },
  {
   "cell_type": "code",
   "execution_count": 43,
   "id": "e8784e8d",
   "metadata": {
    "ExecuteTime": {
     "end_time": "2022-05-25T20:41:46.275385Z",
     "start_time": "2022-05-25T20:41:46.266382Z"
    }
   },
   "outputs": [
    {
     "data": {
      "text/html": [
       "<div>\n",
       "<style scoped>\n",
       "    .dataframe tbody tr th:only-of-type {\n",
       "        vertical-align: middle;\n",
       "    }\n",
       "\n",
       "    .dataframe tbody tr th {\n",
       "        vertical-align: top;\n",
       "    }\n",
       "\n",
       "    .dataframe thead th {\n",
       "        text-align: right;\n",
       "    }\n",
       "</style>\n",
       "<table border=\"1\" class=\"dataframe\">\n",
       "  <thead>\n",
       "    <tr style=\"text-align: right;\">\n",
       "      <th></th>\n",
       "      <th>bbox_bounds</th>\n",
       "      <th>winsize</th>\n",
       "      <th>predClass</th>\n",
       "    </tr>\n",
       "  </thead>\n",
       "  <tbody>\n",
       "    <tr>\n",
       "      <th>1</th>\n",
       "      <td>(0, 110, 278, 388)</td>\n",
       "      <td>278</td>\n",
       "      <td>4</td>\n",
       "    </tr>\n",
       "    <tr>\n",
       "      <th>2</th>\n",
       "      <td>(0, 221, 278, 499)</td>\n",
       "      <td>278</td>\n",
       "      <td>4</td>\n",
       "    </tr>\n",
       "    <tr>\n",
       "      <th>3</th>\n",
       "      <td>(0, 332, 278, 610)</td>\n",
       "      <td>278</td>\n",
       "      <td>4</td>\n",
       "    </tr>\n",
       "    <tr>\n",
       "      <th>4</th>\n",
       "      <td>(0, 443, 278, 721)</td>\n",
       "      <td>278</td>\n",
       "      <td>3</td>\n",
       "    </tr>\n",
       "    <tr>\n",
       "      <th>5</th>\n",
       "      <td>(0, 554, 278, 832)</td>\n",
       "      <td>278</td>\n",
       "      <td>4</td>\n",
       "    </tr>\n",
       "    <tr>\n",
       "      <th>...</th>\n",
       "      <td>...</td>\n",
       "      <td>...</td>\n",
       "      <td>...</td>\n",
       "    </tr>\n",
       "    <tr>\n",
       "      <th>880</th>\n",
       "      <td>(1107, 1329, 1939, 2161)</td>\n",
       "      <td>832</td>\n",
       "      <td>4</td>\n",
       "    </tr>\n",
       "    <tr>\n",
       "      <th>881</th>\n",
       "      <td>(1107, 1440, 1939, 2272)</td>\n",
       "      <td>832</td>\n",
       "      <td>4</td>\n",
       "    </tr>\n",
       "    <tr>\n",
       "      <th>882</th>\n",
       "      <td>(1107, 1551, 1939, 2383)</td>\n",
       "      <td>832</td>\n",
       "      <td>4</td>\n",
       "    </tr>\n",
       "    <tr>\n",
       "      <th>883</th>\n",
       "      <td>(1107, 1661, 1939, 2493)</td>\n",
       "      <td>832</td>\n",
       "      <td>4</td>\n",
       "    </tr>\n",
       "    <tr>\n",
       "      <th>884</th>\n",
       "      <td>(1107, 1772, 1939, 2604)</td>\n",
       "      <td>832</td>\n",
       "      <td>4</td>\n",
       "    </tr>\n",
       "  </tbody>\n",
       "</table>\n",
       "<p>684 rows × 3 columns</p>\n",
       "</div>"
      ],
      "text/plain": [
       "                  bbox_bounds  winsize  predClass\n",
       "1          (0, 110, 278, 388)      278          4\n",
       "2          (0, 221, 278, 499)      278          4\n",
       "3          (0, 332, 278, 610)      278          4\n",
       "4          (0, 443, 278, 721)      278          3\n",
       "5          (0, 554, 278, 832)      278          4\n",
       "..                        ...      ...        ...\n",
       "880  (1107, 1329, 1939, 2161)      832          4\n",
       "881  (1107, 1440, 1939, 2272)      832          4\n",
       "882  (1107, 1551, 1939, 2383)      832          4\n",
       "883  (1107, 1661, 1939, 2493)      832          4\n",
       "884  (1107, 1772, 1939, 2604)      832          4\n",
       "\n",
       "[684 rows x 3 columns]"
      ]
     },
     "execution_count": 43,
     "metadata": {},
     "output_type": "execute_result"
    }
   ],
   "source": [
    "df_bbox[df_bbox.predClass>-1]"
   ]
  },
  {
   "cell_type": "code",
   "execution_count": null,
   "id": "e068a499",
   "metadata": {},
   "outputs": [],
   "source": []
  },
  {
   "cell_type": "code",
   "execution_count": null,
   "id": "a2bbd4f3",
   "metadata": {},
   "outputs": [],
   "source": []
  },
  {
   "cell_type": "code",
   "execution_count": 57,
   "id": "5dac5f39",
   "metadata": {
    "ExecuteTime": {
     "end_time": "2022-05-25T20:48:26.992339Z",
     "start_time": "2022-05-25T20:48:26.978327Z"
    },
    "scrolled": true
   },
   "outputs": [],
   "source": [
    "mask_img = Image.new(\"RGBA\", (img_width, img_height), (0, 0, 0, 0))\n",
    "df_validBbox = df_bbox[df_bbox.predClass>-1][['bbox_bounds','predClass']]"
   ]
  },
  {
   "cell_type": "code",
   "execution_count": 58,
   "id": "d29b00b8",
   "metadata": {
    "ExecuteTime": {
     "end_time": "2022-05-25T20:48:30.065745Z",
     "start_time": "2022-05-25T20:48:30.057752Z"
    }
   },
   "outputs": [
    {
     "data": {
      "text/html": [
       "<div>\n",
       "<style scoped>\n",
       "    .dataframe tbody tr th:only-of-type {\n",
       "        vertical-align: middle;\n",
       "    }\n",
       "\n",
       "    .dataframe tbody tr th {\n",
       "        vertical-align: top;\n",
       "    }\n",
       "\n",
       "    .dataframe thead th {\n",
       "        text-align: right;\n",
       "    }\n",
       "</style>\n",
       "<table border=\"1\" class=\"dataframe\">\n",
       "  <thead>\n",
       "    <tr style=\"text-align: right;\">\n",
       "      <th></th>\n",
       "      <th>bbox_bounds</th>\n",
       "      <th>predClass</th>\n",
       "    </tr>\n",
       "  </thead>\n",
       "  <tbody>\n",
       "    <tr>\n",
       "      <th>1</th>\n",
       "      <td>(0, 110, 278, 388)</td>\n",
       "      <td>4</td>\n",
       "    </tr>\n",
       "    <tr>\n",
       "      <th>2</th>\n",
       "      <td>(0, 221, 278, 499)</td>\n",
       "      <td>4</td>\n",
       "    </tr>\n",
       "    <tr>\n",
       "      <th>3</th>\n",
       "      <td>(0, 332, 278, 610)</td>\n",
       "      <td>4</td>\n",
       "    </tr>\n",
       "    <tr>\n",
       "      <th>4</th>\n",
       "      <td>(0, 443, 278, 721)</td>\n",
       "      <td>3</td>\n",
       "    </tr>\n",
       "    <tr>\n",
       "      <th>5</th>\n",
       "      <td>(0, 554, 278, 832)</td>\n",
       "      <td>4</td>\n",
       "    </tr>\n",
       "    <tr>\n",
       "      <th>...</th>\n",
       "      <td>...</td>\n",
       "      <td>...</td>\n",
       "    </tr>\n",
       "    <tr>\n",
       "      <th>880</th>\n",
       "      <td>(1107, 1329, 1939, 2161)</td>\n",
       "      <td>4</td>\n",
       "    </tr>\n",
       "    <tr>\n",
       "      <th>881</th>\n",
       "      <td>(1107, 1440, 1939, 2272)</td>\n",
       "      <td>4</td>\n",
       "    </tr>\n",
       "    <tr>\n",
       "      <th>882</th>\n",
       "      <td>(1107, 1551, 1939, 2383)</td>\n",
       "      <td>4</td>\n",
       "    </tr>\n",
       "    <tr>\n",
       "      <th>883</th>\n",
       "      <td>(1107, 1661, 1939, 2493)</td>\n",
       "      <td>4</td>\n",
       "    </tr>\n",
       "    <tr>\n",
       "      <th>884</th>\n",
       "      <td>(1107, 1772, 1939, 2604)</td>\n",
       "      <td>4</td>\n",
       "    </tr>\n",
       "  </tbody>\n",
       "</table>\n",
       "<p>684 rows × 2 columns</p>\n",
       "</div>"
      ],
      "text/plain": [
       "                  bbox_bounds  predClass\n",
       "1          (0, 110, 278, 388)          4\n",
       "2          (0, 221, 278, 499)          4\n",
       "3          (0, 332, 278, 610)          4\n",
       "4          (0, 443, 278, 721)          3\n",
       "5          (0, 554, 278, 832)          4\n",
       "..                        ...        ...\n",
       "880  (1107, 1329, 1939, 2161)          4\n",
       "881  (1107, 1440, 1939, 2272)          4\n",
       "882  (1107, 1551, 1939, 2383)          4\n",
       "883  (1107, 1661, 1939, 2493)          4\n",
       "884  (1107, 1772, 1939, 2604)          4\n",
       "\n",
       "[684 rows x 2 columns]"
      ]
     },
     "execution_count": 58,
     "metadata": {},
     "output_type": "execute_result"
    }
   ],
   "source": [
    "df_validBbox"
   ]
  },
  {
   "cell_type": "code",
   "execution_count": null,
   "id": "3b755a36",
   "metadata": {},
   "outputs": [],
   "source": []
  },
  {
   "cell_type": "code",
   "execution_count": 71,
   "id": "b3ac7de2",
   "metadata": {
    "ExecuteTime": {
     "end_time": "2022-05-25T20:59:14.955746Z",
     "start_time": "2022-05-25T20:59:14.731685Z"
    }
   },
   "outputs": [],
   "source": [
    "for idx in range(0, df_validBbox.shape[0]):\n",
    "    \n",
    "    drawBoundingRectangle(eval(df_validBbox.iloc[idx]['bbox_bounds']),\n",
    "                          mask_img,\n",
    "                          color=colorMap[df_validBbox.iloc[idx]['predClass']]\n",
    "                                         )"
   ]
  },
  {
   "cell_type": "code",
   "execution_count": 69,
   "id": "e2a86904",
   "metadata": {
    "ExecuteTime": {
     "end_time": "2022-05-25T20:58:54.179166Z",
     "start_time": "2022-05-25T20:58:54.175166Z"
    }
   },
   "outputs": [
    {
     "data": {
      "text/plain": [
       "'(0, 110, 278, 388)'"
      ]
     },
     "execution_count": 69,
     "metadata": {},
     "output_type": "execute_result"
    }
   ],
   "source": [
    "df_validBbox.iloc[0]['bbox_bounds']"
   ]
  },
  {
   "cell_type": "code",
   "execution_count": 72,
   "id": "852c843e",
   "metadata": {
    "ExecuteTime": {
     "end_time": "2022-05-25T20:59:21.418240Z",
     "start_time": "2022-05-25T20:59:21.161181Z"
    }
   },
   "outputs": [
    {
     "data": {
      "image/png": "[encoded data removed]",
      "text/plain": [
       "<PIL.Image.Image image mode=RGBA size=2048x2836>"
      ]
     },
     "execution_count": 72,
     "metadata": {},
     "output_type": "execute_result"
    }
   ],
   "source": [
    "mask_img"
   ]
  },
  {
   "cell_type": "code",
   "execution_count": 207,
   "id": "3a3b5441",
   "metadata": {
    "ExecuteTime": {
     "end_time": "2022-05-25T19:15:33.800105Z",
     "start_time": "2022-05-25T19:15:33.791102Z"
    }
   },
   "outputs": [],
   "source": [
    "# im2 = im1.convert('RGB')\n",
    "\n",
    "# im2.paste(mask_img,(0,0),mask_img)\n",
    "# im2"
   ]
  },
  {
   "cell_type": "code",
   "execution_count": null,
   "id": "2bb6d42c",
   "metadata": {},
   "outputs": [],
   "source": []
  }
 ],
 "metadata": {
  "kernelspec": {
   "display_name": "tfGPU",
   "language": "python",
   "name": "tfgpu"
  },
  "language_info": {
   "codemirror_mode": {
    "name": "ipython",
    "version": 3
   },
   "file_extension": ".py",
   "mimetype": "text/x-python",
   "name": "python",
   "nbconvert_exporter": "python",
   "pygments_lexer": "ipython3",
   "version": "3.9.12"
  },
  "toc": {
   "base_numbering": 1,
   "nav_menu": {},
   "number_sections": true,
   "sideBar": true,
   "skip_h1_title": false,
   "title_cell": "Table of Contents",
   "title_sidebar": "Contents",
   "toc_cell": false,
   "toc_position": {},
   "toc_section_display": true,
   "toc_window_display": false
  },
  "varInspector": {
   "cols": {
    "lenName": 16,
    "lenType": 16,
    "lenVar": 40
   },
   "kernels_config": {
    "python": {
     "delete_cmd_postfix": "",
     "delete_cmd_prefix": "del ",
     "library": "var_list.py",
     "varRefreshCmd": "print(var_dic_list())"
    },
    "r": {
     "delete_cmd_postfix": ") ",
     "delete_cmd_prefix": "rm(",
     "library": "var_list.r",
     "varRefreshCmd": "cat(var_dic_list()) "
    }
   },
   "position": {
    "height": "395.844px",
    "left": "1187px",
    "right": "20px",
    "top": "120px",
    "width": "713px"
   },
   "types_to_exclude": [
    "module",
    "function",
    "builtin_function_or_method",
    "instance",
    "_Feature"
   ],
   "window_display": false
  }
 },
 "nbformat": 4,
 "nbformat_minor": 5
}
