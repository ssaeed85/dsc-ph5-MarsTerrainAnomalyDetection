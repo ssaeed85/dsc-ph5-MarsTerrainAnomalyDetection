{
 "cells": [
  {
   "cell_type": "markdown",
   "id": "6730ff15",
   "metadata": {
    "ExecuteTime": {
     "end_time": "2022-05-30T23:44:57.065449Z",
     "start_time": "2022-05-30T23:44:57.057448Z"
    }
   },
   "source": [
    "# The Data\n",
    "\n",
    "The work performed herein was built off of the shoulders of giants, the original project that created the dataset and labeled the images. Here follows an excerpt from their site describing the data.\n",
    "\n",
    "> [![DOI](https://zenodo.org/badge/DOI/10.5281/zenodo.4002935.svg)](https://doi.org/10.5281/zenodo.4002935)\n",
    ">__Project member(s)__:\\\n",
    ">Topher Allen; Zach Anderson; Berlin Chen; Ameya Daigavane; Annie Didier; Marko Green; Paul Horton; Hannah Kerner; Lauren Klein; Benjamin Kolber; Ellie Kuang; Kyle Kung; Jake Lee; Justin Martia; Brian Milch; James Montgomery; Kyle Pearson; Sanjna Ravichandar; Arun Viswanathan; Caleb Wagner; Amruta Yelamanchili; Brandon Zhao\n",
    ">\n",
    ">__Abstract__:\\\n",
    ">This dataset contains a total of 64,947 landmark images that were detected and extracted from HiRISE browse images, spanning 232 separate source images.\n",
    ">\n",
    ">This set was formed from 10,815 original landmarks. Each original landmark was cropped to a square bounding box that included the full extent of the landmark plus a 30-pixel margin to the left, right, top, and bottom. Each landmark was then resized to 227x227 pixels. 9,022 of these images were then augmented to generate 6 additional landmarks using the following methods:\n",
    ">\n",
    ">90 degrees clockwise rotation\n",
    ">180 degrees clockwise rotation\n",
    ">270 degrees clockwise rotation\n",
    ">Horizontal flip\n",
    ">Vertical flip\n",
    ">Random brightness adjustment\n",
    ">The remaining 1,793 images were not augmented. Combining these with the 7*9,022 images, gives a total of 64,947 separate images.\n",
    ">\n",
    "> __Contents__:\n",
    ">- map-proj-v3_2/: Directory containing individual cropped landmark images\n",
    ">- labels-map-proj-v3_2.txt: Class labels (ids) for each landmark image. File includes two columns separated by a space: filename, class_id\n",
    ">- labels-map-proj-v3_2_train_val_test.txt: Includes train/test/val labels and upsampling used for trained model. File includes three columns separated by a space: filename, class_id, set\n",
    ">- landmarks_map-proj-v3_2_classmap.csv: Dictionary that maps class ids to semantic names\n",
    ">\n",
    "> __Class Discussion__:\\\n",
    ">We give a discussion of the various landmarks that make up our classes.\n",
    ">\n",
    ">Bright dune and dark dune are two sand dune classes found on Mars. Dark dunes are completely defrosted, whereas bright dunes are not. Bright dunes are generally bright due to overlying frost and can exhibit black spots where parts of the dune are defrosting.\n",
    ">\n",
    ">The crater class consists of crater images in which the diameter of the crater is greater than or equal to 1/5 the width of the image and the circular rim is visible for at least half the crater's circumference.\n",
    ">\n",
    ">The slope streak class consists of images of dark flow-like features on slopes. These features are believed to be formed by a dry process in which overlying (bright) dust slides down a slope and reveals a darker sub-surface.\n",
    ">\n",
    ">Impact ejecta refers to material that is blasted out from the impact of a meteorite or the eruption of a volcano. We also include cases in which the impact cleared away overlying dust, exposing the underlying surface. In some cases, the associated crater may be too small to see. Impact ejecta can also include lava that spilled out from the impact (blobby (\"lobate\") instead of blast-like), more like an eruption (triggered by the impact). Impact ejecta can be isolated, or they can form in clusters when the impactor breaks up into multiple fragments.\n",
    ">\n",
    ">Spiders and Swiss cheese are phenomena that occur in the south polar region of Mars. Spiders have a central pit with radial troughs, and they are believed to form as a result of sublimation of carbon dioxide ice. This process can produce mineral deposits on top, which look like dark or light dust that highlights cracks in the CO2 ice. Spiders can resemble impact ejecta due to their radial troughs, but impact ejecta tends to have straight radial jets that fade as they get farther from the center. The spider class also includes fan-like features that form when a geyser erupts through the CO2 layer and the material is blown by the wind away from the cracks. Fans are typically unidirectional (following the wind direction), whereas impact ejecta often extends in multiple directions. Swiss cheese is a terrain type that consists of pits that are formed when the sun heats the ice making it sublimate (change solid to gas).\n",
    ">\n",
    ">Other is a catch-all class that contains images that fit none of the defined classes of interest. This class makes up the majority of our data set.\n"
   ]
  },
  {
   "cell_type": "markdown",
   "id": "1d569fd6",
   "metadata": {},
   "source": [
    "# Business Understanding\n",
    "\n",
    "Space exploration and understanding has been growing over the last few decades with the spark being lit during the space race during the latter half of the 20th century. After the end of the Apollo space program, man's venture into space has been relegated to low earth orbit missions.  \n",
    "\n",
    "Unmanned missions have since had many a success story such as the Voyager 2 going interstellar in 2018, over 40 years after its launch. The future of space exploration is going to be handled by such manned missions for the foreseeable future. However, being physically on site isn't the only way to explore space.  \n",
    "\n",
    "For centuries, man has looked up at the night sky to find out more about our celestial neighbors. With improvements in technologies our ability to gather data through telescopes and cameras has improved significantly and the value provided by telescopes in space has been immeasurable. The James Webb (infrared) telescope was launched in December 2021 and hopes to view objects too old, distant, and faint for the Hubble Space Telescope.\n",
    "\n",
    "Pointing the telescope and gathering data is only the first step. Being able to parse terabytes, petabytes or even yottabytes of data manually is a nigh impossible task, a task computer vision is especially suited for. Being able to identify interesting features can help us whittle down potential candidates to explore 'in-person' and in the long run help mitigate losses.\n",
    "\n",
    "Interest in space exploration has seen a resurgence with private enterprise taking an interest. Although this project specifically looks at the Mars topography, similar techniques can be applied to any celestial body, or even to our home planet."
   ]
  },
  {
   "cell_type": "markdown",
   "id": "c51f37a0",
   "metadata": {},
   "source": [
    "# Overview\n",
    "We shall be using images captured from the HiRISE camera system on board the Mars Reconnaisance Orbiter which was built under direction from University of Arizona's Lunar and Planetary Laboratory. Following is an excerpt from the [University of Arizona website](https://www.lpl.arizona.edu/missions/hirise-mro).\n",
    "\n",
    ">The __Hi__gh __R__esolution __I__maging __S__cience __E__xperiment (HiRISE) onboard the Mars Reconnaissance Orbiter, is the most powerful camera ever sent to another planet. The resolution of the camera allows us to see the Red Planet in amazing detail, and lets other missions, like the Mars Science Laboratory, find a safe place to land and carry out amazing science. The operations center, which includes not only observation planning, but the execution of commands sent to the spacecraft along with actual image processing, is located within LPL at the University of Arizona.\n",
    "\n",
    "We shall be building off of the work performed by the original team. The dataset comes pre-augmented and segmented into training, validation and test sets. The test side will be set aside to ascertain effectiveness of our final model. The training set will be used to train the model and the validation scores on the validation set will be used as a metric to pick our model, specifically our validation loss."
   ]
  },
  {
   "cell_type": "markdown",
   "id": "706e310f",
   "metadata": {},
   "source": [
    "# Imports"
   ]
  },
  {
   "cell_type": "code",
   "execution_count": 2,
   "id": "fd36172b",
   "metadata": {
    "ExecuteTime": {
     "end_time": "2022-05-31T05:43:41.764877Z",
     "start_time": "2022-05-31T05:43:40.936675Z"
    }
   },
   "outputs": [],
   "source": [
    "import numpy as np\n",
    "import pandas as pd\n",
    "import matplotlib.pyplot as plt\n",
    "from PIL import Image"
   ]
  },
  {
   "cell_type": "code",
   "execution_count": 3,
   "id": "e7f442b5",
   "metadata": {
    "ExecuteTime": {
     "end_time": "2022-05-31T05:43:55.353244Z",
     "start_time": "2022-05-31T05:43:52.536616Z"
    }
   },
   "outputs": [],
   "source": [
    "from tensorflow.keras.preprocessing.image import ImageDataGenerator\n",
    "from tensorflow.keras import layers, models, optimizers, losses\n",
    "from tensorflow.keras.callbacks import EarlyStopping,ModelCheckpoint\n",
    "from tensorflow.keras.metrics import Precision, Recall\n",
    "import tensorflow as tf\n",
    "tf.random.set_seed(\n",
    "    42\n",
    ")\n",
    "import seaborn as sns\n",
    "\n",
    "# tf_chkpt_path = 'tf_Adam_checkpoints/'"
   ]
  },
  {
   "cell_type": "code",
   "execution_count": 4,
   "id": "02dad68a",
   "metadata": {
    "ExecuteTime": {
     "end_time": "2022-05-31T05:43:55.401254Z",
     "start_time": "2022-05-31T05:43:55.387252Z"
    }
   },
   "outputs": [],
   "source": [
    "from src.helperFunctions import display_model_trainTestGraphs"
   ]
  },
  {
   "cell_type": "markdown",
   "id": "d8ce4ad3",
   "metadata": {},
   "source": [
    "## Training Set"
   ]
  },
  {
   "cell_type": "code",
   "execution_count": 5,
   "id": "3c855bff",
   "metadata": {
    "ExecuteTime": {
     "end_time": "2022-05-31T05:44:03.183273Z",
     "start_time": "2022-05-31T05:44:01.680659Z"
    }
   },
   "outputs": [
    {
     "name": "stdout",
     "output_type": "stream",
     "text": [
      "Found 48979 images belonging to 8 classes.\n"
     ]
    }
   ],
   "source": [
    "# Normalizing data for 8 bit\n",
    "train_datagen = ImageDataGenerator(rescale=1./255)\n",
    "\n",
    "train_generator = train_datagen.flow_from_directory(\n",
    "    'images/train/',\n",
    "    target_size = (227,227),\n",
    "    batch_size=225,\n",
    "    color_mode='grayscale',\n",
    "    class_mode='categorical'\n",
    ")"
   ]
  },
  {
   "cell_type": "markdown",
   "id": "9737b115",
   "metadata": {},
   "source": [
    "## Validation Set"
   ]
  },
  {
   "cell_type": "code",
   "execution_count": 6,
   "id": "b150c2e3",
   "metadata": {
    "ExecuteTime": {
     "end_time": "2022-05-31T05:44:03.640483Z",
     "start_time": "2022-05-31T05:44:03.184273Z"
    }
   },
   "outputs": [
    {
     "name": "stdout",
     "output_type": "stream",
     "text": [
      "Found 14175 images belonging to 8 classes.\n"
     ]
    }
   ],
   "source": [
    "# Normalizing data for 8 bit\n",
    "val_datagen = ImageDataGenerator(rescale=1./255)\n",
    "\n",
    "val_generator = val_datagen.flow_from_directory(\n",
    "    'images/val/',\n",
    "    target_size = (227,227),\n",
    "    batch_size=64,\n",
    "    color_mode='grayscale',\n",
    "    class_mode='categorical'\n",
    ")"
   ]
  },
  {
   "cell_type": "markdown",
   "id": "c1c0e98f",
   "metadata": {},
   "source": [
    "## Test Set"
   ]
  },
  {
   "cell_type": "code",
   "execution_count": 7,
   "id": "5bbb27fd",
   "metadata": {
    "ExecuteTime": {
     "end_time": "2022-05-31T05:44:03.719501Z",
     "start_time": "2022-05-31T05:44:03.641484Z"
    },
    "scrolled": true
   },
   "outputs": [
    {
     "name": "stdout",
     "output_type": "stream",
     "text": [
      "Found 1793 images belonging to 8 classes.\n"
     ]
    }
   ],
   "source": [
    "# Normalizing data for 8 bit\n",
    "test_datagen = ImageDataGenerator(rescale=1./255)\n",
    "\n",
    "test_generator = test_datagen.flow_from_directory(\n",
    "    'images/test/',\n",
    "    target_size = (227,227),\n",
    "    batch_size=8,\n",
    "    color_mode='grayscale',\n",
    "    class_mode='categorical'\n",
    ")"
   ]
  },
  {
   "cell_type": "markdown",
   "id": "2eac47a3",
   "metadata": {},
   "source": [
    "## Modeling Callbacks"
   ]
  },
  {
   "cell_type": "code",
   "execution_count": 8,
   "id": "1d3b7681",
   "metadata": {
    "ExecuteTime": {
     "end_time": "2022-05-31T05:44:04.840751Z",
     "start_time": "2022-05-31T05:44:04.825749Z"
    }
   },
   "outputs": [],
   "source": [
    "early_stop = EarlyStopping(monitor='val_loss', \n",
    "                           min_delta=1e-8,\n",
    "                           verbose=1,\n",
    "                           patience = 10,\n",
    "                           restore_best_weights=True,\n",
    "                           mode='min')\n",
    "\n",
    "epochs_to_train = 100"
   ]
  },
  {
   "cell_type": "markdown",
   "id": "6b361c48",
   "metadata": {
    "ExecuteTime": {
     "end_time": "2022-05-31T05:53:52.703143Z",
     "start_time": "2022-05-31T05:53:52.697142Z"
    }
   },
   "source": [
    "# Modeling"
   ]
  },
  {
   "cell_type": "markdown",
   "id": "038e6e20",
   "metadata": {},
   "source": [
    "We are going to be using a Convolutional Neural Networks tensorflow model.\\\n",
    "They are the model of choice as they are best suited to our problem of image classfication. We will be using `relu` as our activation function.\\\n",
    "Since we have 8 classes as part of our classification model, we will be using `softmax` as the activation function of the final layer."
   ]
  },
  {
   "cell_type": "markdown",
   "id": "d8b60fbe",
   "metadata": {},
   "source": [
    "## Model 1 - Simple CNN - First Simple Model"
   ]
  },
  {
   "cell_type": "code",
   "execution_count": 10,
   "id": "f90c12e3",
   "metadata": {
    "ExecuteTime": {
     "end_time": "2022-05-22T07:47:30.797014Z",
     "start_time": "2022-05-22T07:47:28.773620Z"
    }
   },
   "outputs": [
    {
     "name": "stdout",
     "output_type": "stream",
     "text": [
      "Model: \"sequential\"\n",
      "_________________________________________________________________\n",
      " Layer (type)                Output Shape              Param #   \n",
      "=================================================================\n",
      " conv2d (Conv2D)             (None, 225, 225, 32)      320       \n",
      "                                                                 \n",
      " max_pooling2d (MaxPooling2D  (None, 112, 112, 32)     0         \n",
      " )                                                               \n",
      "                                                                 \n",
      " flatten (Flatten)           (None, 401408)            0         \n",
      "                                                                 \n",
      " dense (Dense)               (None, 8)                 3211272   \n",
      "                                                                 \n",
      "=================================================================\n",
      "Total params: 3,211,592\n",
      "Trainable params: 3,211,592\n",
      "Non-trainable params: 0\n",
      "_________________________________________________________________\n"
     ]
    }
   ],
   "source": [
    "model = models.Sequential()\n",
    "\n",
    "model.add(layers.Conv2D(filters=32,\n",
    "                       kernel_size=3,\n",
    "                       activation='relu',\n",
    "                       input_shape=(227,227,1)))\n",
    "model.add(layers.MaxPooling2D(2,2))\n",
    "\n",
    "model.add(layers.Flatten())\n",
    "model.add(layers.Dense(8, activation='softmax'))\n",
    "\n",
    "\n",
    "model.compile(optimizer=optimizers.Adam(learning_rate=0.001),\n",
    "              loss=losses.CategoricalCrossentropy(),\n",
    "              metrics=['accuracy', Precision(), Recall()])\n",
    "\n",
    "\n",
    "model.summary()"
   ]
  },
  {
   "cell_type": "code",
   "execution_count": 11,
   "id": "288dc072",
   "metadata": {
    "ExecuteTime": {
     "end_time": "2022-05-22T07:53:59.522611Z",
     "start_time": "2022-05-22T07:47:30.798014Z"
    }
   },
   "outputs": [
    {
     "name": "stdout",
     "output_type": "stream",
     "text": [
      "Epoch 1/100\n",
      "218/218 [==============================] - 39s 161ms/step - loss: 1.1503 - accuracy: 0.8104 - precision: 0.8174 - recall: 0.7930 - val_loss: 0.7679 - val_accuracy: 0.7926 - val_precision: 0.7978 - val_recall: 0.7856\n",
      "Epoch 2/100\n",
      "218/218 [==============================] - 35s 160ms/step - loss: 0.5928 - accuracy: 0.8275 - precision: 0.8382 - recall: 0.8161 - val_loss: 0.8415 - val_accuracy: 0.7922 - val_precision: 0.7981 - val_recall: 0.7857\n",
      "Epoch 3/100\n",
      "218/218 [==============================] - 35s 161ms/step - loss: 0.5198 - accuracy: 0.8414 - precision: 0.8533 - recall: 0.8282 - val_loss: 0.7708 - val_accuracy: 0.7938 - val_precision: 0.8075 - val_recall: 0.7653\n",
      "Epoch 4/100\n",
      "218/218 [==============================] - 35s 160ms/step - loss: 0.4483 - accuracy: 0.8600 - precision: 0.8709 - recall: 0.8476 - val_loss: 0.8076 - val_accuracy: 0.7911 - val_precision: 0.8060 - val_recall: 0.7668\n",
      "Epoch 5/100\n",
      "218/218 [==============================] - 35s 160ms/step - loss: 0.3860 - accuracy: 0.8779 - precision: 0.8879 - recall: 0.8662 - val_loss: 0.7892 - val_accuracy: 0.7929 - val_precision: 0.8038 - val_recall: 0.7814\n",
      "Epoch 6/100\n",
      "218/218 [==============================] - 35s 159ms/step - loss: 0.3316 - accuracy: 0.8952 - precision: 0.9049 - recall: 0.8856 - val_loss: 0.8454 - val_accuracy: 0.7900 - val_precision: 0.7997 - val_recall: 0.7781\n",
      "Epoch 7/100\n",
      "218/218 [==============================] - 35s 160ms/step - loss: 0.2881 - accuracy: 0.9108 - precision: 0.9194 - recall: 0.9010 - val_loss: 0.8606 - val_accuracy: 0.7894 - val_precision: 0.7974 - val_recall: 0.7801\n",
      "Epoch 8/100\n",
      "218/218 [==============================] - 35s 159ms/step - loss: 0.2521 - accuracy: 0.9225 - precision: 0.9293 - recall: 0.9151 - val_loss: 0.8996 - val_accuracy: 0.7793 - val_precision: 0.7942 - val_recall: 0.7580\n",
      "Epoch 9/100\n",
      "218/218 [==============================] - 35s 160ms/step - loss: 0.2163 - accuracy: 0.9342 - precision: 0.9395 - recall: 0.9277 - val_loss: 0.9102 - val_accuracy: 0.7761 - val_precision: 0.7889 - val_recall: 0.7574\n",
      "Epoch 10/100\n",
      "218/218 [==============================] - 35s 159ms/step - loss: 0.1855 - accuracy: 0.9450 - precision: 0.9495 - recall: 0.9400 - val_loss: 0.9018 - val_accuracy: 0.7790 - val_precision: 0.7895 - val_recall: 0.7671\n",
      "Epoch 11/100\n",
      "218/218 [==============================] - ETA: 0s - loss: 0.1612 - accuracy: 0.9529 - precision: 0.9566 - recall: 0.9488Restoring model weights from the end of the best epoch: 1.\n",
      "218/218 [==============================] - 35s 162ms/step - loss: 0.1612 - accuracy: 0.9529 - precision: 0.9566 - recall: 0.9488 - val_loss: 0.9705 - val_accuracy: 0.7640 - val_precision: 0.7772 - val_recall: 0.7457\n",
      "Epoch 11: early stopping\n"
     ]
    }
   ],
   "source": [
    "results = model.fit(train_generator,\n",
    "                    callbacks=early_stop,\n",
    "                    epochs=epochs_to_train,  # Number of epochs\n",
    "                    validation_data=val_generator,\n",
    "                    verbose=1\n",
    "                    )"
   ]
  },
  {
   "cell_type": "code",
   "execution_count": 12,
   "id": "2e6abfc2",
   "metadata": {
    "ExecuteTime": {
     "end_time": "2022-05-22T07:53:59.726451Z",
     "start_time": "2022-05-22T07:53:59.523612Z"
    }
   },
   "outputs": [
    {
     "data": {
      "image/png": "[encoded data removed]",
      "text/plain": [
       "<Figure size 720x360 with 2 Axes>"
      ]
     },
     "metadata": {
      "needs_background": "light"
     },
     "output_type": "display_data"
    }
   ],
   "source": [
    "display_model_trainTestGraphs(results)"
   ]
  },
  {
   "cell_type": "markdown",
   "id": "cd2f702d",
   "metadata": {},
   "source": [
    "Our first simple model, employed a single convolution layer and pooling pair. \n",
    "\n",
    "Validation loss from the very beginning never improved and overall accuracy went down. The model is unable to pick up on details and features of the images. Its a good starting point but we need to increase complexity of our models."
   ]
  },
  {
   "cell_type": "markdown",
   "id": "4dd0e0dd",
   "metadata": {
    "ExecuteTime": {
     "end_time": "2022-05-19T03:52:55.613596Z",
     "start_time": "2022-05-19T03:52:55.607594Z"
    }
   },
   "source": [
    "## Model 2\n",
    "Adding a few more convolution+pool layers and a fully connected final layer"
   ]
  },
  {
   "cell_type": "code",
   "execution_count": 13,
   "id": "e92572c6",
   "metadata": {
    "ExecuteTime": {
     "end_time": "2022-05-22T07:53:59.789464Z",
     "start_time": "2022-05-22T07:53:59.727451Z"
    },
    "scrolled": false
   },
   "outputs": [
    {
     "name": "stdout",
     "output_type": "stream",
     "text": [
      "Model: \"sequential_1\"\n",
      "_________________________________________________________________\n",
      " Layer (type)                Output Shape              Param #   \n",
      "=================================================================\n",
      " conv2d_1 (Conv2D)           (None, 225, 225, 32)      320       \n",
      "                                                                 \n",
      " max_pooling2d_1 (MaxPooling  (None, 112, 112, 32)     0         \n",
      " 2D)                                                             \n",
      "                                                                 \n",
      " conv2d_2 (Conv2D)           (None, 110, 110, 32)      9248      \n",
      "                                                                 \n",
      " max_pooling2d_2 (MaxPooling  (None, 55, 55, 32)       0         \n",
      " 2D)                                                             \n",
      "                                                                 \n",
      " conv2d_3 (Conv2D)           (None, 53, 53, 64)        18496     \n",
      "                                                                 \n",
      " max_pooling2d_3 (MaxPooling  (None, 26, 26, 64)       0         \n",
      " 2D)                                                             \n",
      "                                                                 \n",
      " flatten_1 (Flatten)         (None, 43264)             0         \n",
      "                                                                 \n",
      " dense_1 (Dense)             (None, 128)               5537920   \n",
      "                                                                 \n",
      " dense_2 (Dense)             (None, 8)                 1032      \n",
      "                                                                 \n",
      "=================================================================\n",
      "Total params: 5,567,016\n",
      "Trainable params: 5,567,016\n",
      "Non-trainable params: 0\n",
      "_________________________________________________________________\n"
     ]
    }
   ],
   "source": [
    "model = models.Sequential()\n",
    "\n",
    "model.add(layers.Conv2D(filters=32,\n",
    "                       kernel_size=3,\n",
    "                       activation='relu',\n",
    "                       input_shape=(227,227,1)))\n",
    "model.add(layers.MaxPooling2D(2,2))\n",
    "\n",
    "model.add(layers.Conv2D(32, 3, activation='relu'))\n",
    "model.add(layers.MaxPooling2D(2,2))\n",
    "\n",
    "model.add(layers.Conv2D(64, 3, activation='relu'))\n",
    "model.add(layers.MaxPooling2D(2,2))\n",
    "\n",
    "model.add(layers.Flatten())\n",
    "model.add(layers.Dense(128, activation='relu'))\n",
    "model.add(layers.Dense(8, activation='softmax'))\n",
    "\n",
    "\n",
    "model.compile(optimizer=optimizers.Adam(learning_rate=0.001),\n",
    "              loss=losses.CategoricalCrossentropy(),\n",
    "              metrics=['accuracy', Precision(), Recall()])\n",
    "\n",
    "\n",
    "model.summary()"
   ]
  },
  {
   "cell_type": "code",
   "execution_count": 14,
   "id": "3a6da975",
   "metadata": {
    "ExecuteTime": {
     "end_time": "2022-05-22T07:58:24.859472Z",
     "start_time": "2022-05-22T07:53:59.790467Z"
    },
    "scrolled": false
   },
   "outputs": [
    {
     "name": "stdout",
     "output_type": "stream",
     "text": [
      "Epoch 1/100\n",
      "100/100 [==============================] - 18s 164ms/step - loss: 0.7895 - accuracy: 0.8072 - precision_1: 0.8142 - recall_1: 0.7942 - val_loss: 0.8038 - val_accuracy: 0.7816 - val_precision_1: 0.7932 - val_recall_1: 0.7528\n",
      "Epoch 2/100\n",
      "100/100 [==============================] - 16s 162ms/step - loss: 0.6042 - accuracy: 0.8336 - precision_1: 0.8472 - recall_1: 0.8182 - val_loss: 0.7303 - val_accuracy: 0.8019 - val_precision_1: 0.8102 - val_recall_1: 0.7775\n",
      "Epoch 3/100\n",
      "100/100 [==============================] - 17s 167ms/step - loss: 0.5141 - accuracy: 0.8480 - precision_1: 0.8641 - recall_1: 0.8313 - val_loss: 0.7442 - val_accuracy: 0.7819 - val_precision_1: 0.8035 - val_recall_1: 0.7400\n",
      "Epoch 4/100\n",
      "100/100 [==============================] - 16s 163ms/step - loss: 0.4537 - accuracy: 0.8627 - precision_1: 0.8778 - recall_1: 0.8464 - val_loss: 0.7702 - val_accuracy: 0.7862 - val_precision_1: 0.8032 - val_recall_1: 0.7638\n",
      "Epoch 5/100\n",
      "100/100 [==============================] - 16s 162ms/step - loss: 0.3937 - accuracy: 0.8793 - precision_1: 0.8934 - recall_1: 0.8648 - val_loss: 0.7554 - val_accuracy: 0.7634 - val_precision_1: 0.7865 - val_recall_1: 0.7266\n",
      "Epoch 6/100\n",
      "100/100 [==============================] - 16s 163ms/step - loss: 0.3499 - accuracy: 0.8920 - precision_1: 0.9043 - recall_1: 0.8797 - val_loss: 0.7107 - val_accuracy: 0.7859 - val_precision_1: 0.8091 - val_recall_1: 0.7628\n",
      "Epoch 7/100\n",
      "100/100 [==============================] - 16s 163ms/step - loss: 0.3184 - accuracy: 0.9024 - precision_1: 0.9135 - recall_1: 0.8908 - val_loss: 0.8189 - val_accuracy: 0.7534 - val_precision_1: 0.7743 - val_recall_1: 0.7281\n",
      "Epoch 8/100\n",
      "100/100 [==============================] - 16s 163ms/step - loss: 0.2897 - accuracy: 0.9101 - precision_1: 0.9180 - recall_1: 0.9007 - val_loss: 0.7589 - val_accuracy: 0.7872 - val_precision_1: 0.7986 - val_recall_1: 0.7719\n",
      "Epoch 9/100\n",
      "100/100 [==============================] - 16s 163ms/step - loss: 0.2634 - accuracy: 0.9178 - precision_1: 0.9249 - recall_1: 0.9101 - val_loss: 0.8382 - val_accuracy: 0.8019 - val_precision_1: 0.8076 - val_recall_1: 0.7947\n",
      "Epoch 10/100\n",
      "100/100 [==============================] - 16s 163ms/step - loss: 0.2323 - accuracy: 0.9279 - precision_1: 0.9334 - recall_1: 0.9211 - val_loss: 0.7929 - val_accuracy: 0.8050 - val_precision_1: 0.8122 - val_recall_1: 0.7987\n",
      "Epoch 11/100\n",
      "100/100 [==============================] - 16s 164ms/step - loss: 0.2100 - accuracy: 0.9349 - precision_1: 0.9404 - recall_1: 0.9296 - val_loss: 0.7811 - val_accuracy: 0.7941 - val_precision_1: 0.8051 - val_recall_1: 0.7850\n",
      "Epoch 12/100\n",
      "100/100 [==============================] - 16s 164ms/step - loss: 0.1782 - accuracy: 0.9433 - precision_1: 0.9476 - recall_1: 0.9391 - val_loss: 0.7810 - val_accuracy: 0.7981 - val_precision_1: 0.8080 - val_recall_1: 0.7931\n",
      "Epoch 13/100\n",
      "100/100 [==============================] - 16s 164ms/step - loss: 0.1634 - accuracy: 0.9488 - precision_1: 0.9520 - recall_1: 0.9449 - val_loss: 0.7435 - val_accuracy: 0.8081 - val_precision_1: 0.8144 - val_recall_1: 0.7997\n",
      "Epoch 14/100\n",
      "100/100 [==============================] - 17s 164ms/step - loss: 0.1450 - accuracy: 0.9543 - precision_1: 0.9568 - recall_1: 0.9520 - val_loss: 0.7504 - val_accuracy: 0.8072 - val_precision_1: 0.8168 - val_recall_1: 0.8012\n",
      "Epoch 15/100\n",
      "100/100 [==============================] - 17s 164ms/step - loss: 0.1210 - accuracy: 0.9614 - precision_1: 0.9637 - recall_1: 0.9593 - val_loss: 0.8879 - val_accuracy: 0.8072 - val_precision_1: 0.8107 - val_recall_1: 0.8028\n",
      "Epoch 16/100\n",
      "100/100 [==============================] - ETA: 0s - loss: 0.1063 - accuracy: 0.9673 - precision_1: 0.9695 - recall_1: 0.9661Restoring model weights from the end of the best epoch: 6.\n",
      "100/100 [==============================] - 16s 164ms/step - loss: 0.1063 - accuracy: 0.9673 - precision_1: 0.9695 - recall_1: 0.9661 - val_loss: 0.9277 - val_accuracy: 0.7844 - val_precision_1: 0.7941 - val_recall_1: 0.7797\n",
      "Epoch 16: early stopping\n"
     ]
    }
   ],
   "source": [
    "results = model.fit(train_generator,\n",
    "                    callbacks=early_stop,\n",
    "                    steps_per_epoch=100,  # Number of training samples to pull per epoch\n",
    "                    epochs=epochs_to_train,  # Number of epochs\n",
    "                    validation_data=val_generator,\n",
    "                    validation_steps=50,  # Number of validation samples to run validation on\n",
    "                    verbose=1\n",
    "                    )"
   ]
  },
  {
   "cell_type": "code",
   "execution_count": 15,
   "id": "ae2090c6",
   "metadata": {
    "ExecuteTime": {
     "end_time": "2022-05-22T07:58:25.051516Z",
     "start_time": "2022-05-22T07:58:24.860473Z"
    },
    "scrolled": true
   },
   "outputs": [
    {
     "data": {
      "image/png": "[encoded data removed]",
      "text/plain": [
       "<Figure size 720x360 with 2 Axes>"
      ]
     },
     "metadata": {
      "needs_background": "light"
     },
     "output_type": "display_data"
    }
   ],
   "source": [
    "display_model_trainTestGraphs(results)"
   ]
  },
  {
   "cell_type": "code",
   "execution_count": 16,
   "id": "db1fb988",
   "metadata": {
    "ExecuteTime": {
     "end_time": "2022-05-22T07:58:25.846596Z",
     "start_time": "2022-05-22T07:58:25.052518Z"
    },
    "scrolled": true
   },
   "outputs": [
    {
     "name": "stderr",
     "output_type": "stream",
     "text": [
      "WARNING:absl:Found untraced functions such as _jit_compiled_convolution_op, _jit_compiled_convolution_op, _jit_compiled_convolution_op while saving (showing 3 of 3). These functions will not be directly callable after loading.\n"
     ]
    },
    {
     "name": "stdout",
     "output_type": "stream",
     "text": [
      "INFO:tensorflow:Assets written to: tf_Adam_checkpoints/Model_2\\assets\n"
     ]
    },
    {
     "name": "stderr",
     "output_type": "stream",
     "text": [
      "INFO:tensorflow:Assets written to: tf_Adam_checkpoints/Model_2\\assets\n"
     ]
    }
   ],
   "source": [
    "# results.model.save(tf_chkpt_path+'Model_2')"
   ]
  },
  {
   "cell_type": "markdown",
   "id": "a85d431e",
   "metadata": {},
   "source": [
    "Although validation loss decreased initially, however, overfitting started early. We can start incrementally increasing complexity."
   ]
  },
  {
   "cell_type": "markdown",
   "id": "82f2c828",
   "metadata": {
    "ExecuteTime": {
     "end_time": "2022-05-19T03:52:55.613596Z",
     "start_time": "2022-05-19T03:52:55.607594Z"
    }
   },
   "source": [
    "## Model 3"
   ]
  },
  {
   "cell_type": "markdown",
   "id": "cf4ed88d",
   "metadata": {},
   "source": [
    "Adding an additional dense layers at end"
   ]
  },
  {
   "cell_type": "code",
   "execution_count": 17,
   "id": "a0e91d48",
   "metadata": {
    "ExecuteTime": {
     "end_time": "2022-05-22T07:58:25.910610Z",
     "start_time": "2022-05-22T07:58:25.847596Z"
    },
    "scrolled": false
   },
   "outputs": [
    {
     "name": "stdout",
     "output_type": "stream",
     "text": [
      "Model: \"sequential_2\"\n",
      "_________________________________________________________________\n",
      " Layer (type)                Output Shape              Param #   \n",
      "=================================================================\n",
      " conv2d_4 (Conv2D)           (None, 225, 225, 16)      160       \n",
      "                                                                 \n",
      " max_pooling2d_4 (MaxPooling  (None, 112, 112, 16)     0         \n",
      " 2D)                                                             \n",
      "                                                                 \n",
      " conv2d_5 (Conv2D)           (None, 110, 110, 32)      4640      \n",
      "                                                                 \n",
      " max_pooling2d_5 (MaxPooling  (None, 55, 55, 32)       0         \n",
      " 2D)                                                             \n",
      "                                                                 \n",
      " conv2d_6 (Conv2D)           (None, 53, 53, 64)        18496     \n",
      "                                                                 \n",
      " max_pooling2d_6 (MaxPooling  (None, 26, 26, 64)       0         \n",
      " 2D)                                                             \n",
      "                                                                 \n",
      " flatten_2 (Flatten)         (None, 43264)             0         \n",
      "                                                                 \n",
      " dense_3 (Dense)             (None, 512)               22151680  \n",
      "                                                                 \n",
      " dense_4 (Dense)             (None, 128)               65664     \n",
      "                                                                 \n",
      " dense_5 (Dense)             (None, 8)                 1032      \n",
      "                                                                 \n",
      "=================================================================\n",
      "Total params: 22,241,672\n",
      "Trainable params: 22,241,672\n",
      "Non-trainable params: 0\n",
      "_________________________________________________________________\n"
     ]
    }
   ],
   "source": [
    "model = models.Sequential()\n",
    "\n",
    "model.add(layers.Conv2D(filters=16,\n",
    "                       kernel_size=3,\n",
    "                       activation='relu',\n",
    "                       input_shape=(227,227,1)))\n",
    "model.add(layers.MaxPooling2D(2,2))\n",
    "\n",
    "model.add(layers.Conv2D(32, 3, activation='relu'))\n",
    "model.add(layers.MaxPooling2D(2,2))\n",
    "\n",
    "model.add(layers.Conv2D(64, 3, activation='relu'))\n",
    "model.add(layers.MaxPooling2D(2,2))\n",
    "\n",
    "model.add(layers.Flatten())\n",
    "model.add(layers.Dense(512, activation='relu'))\n",
    "model.add(layers.Dense(128, activation='relu'))\n",
    "model.add(layers.Dense(8, activation='softmax'))\n",
    "\n",
    "\n",
    "model.compile(optimizer=optimizers.Adam(learning_rate=0.001),\n",
    "              loss=losses.CategoricalCrossentropy(),\n",
    "              metrics=['accuracy', Precision(), Recall()])\n",
    "\n",
    "\n",
    "model.summary()"
   ]
  },
  {
   "cell_type": "code",
   "execution_count": 18,
   "id": "713023e7",
   "metadata": {
    "ExecuteTime": {
     "end_time": "2022-05-22T08:02:05.522947Z",
     "start_time": "2022-05-22T07:58:25.910610Z"
    },
    "scrolled": false
   },
   "outputs": [
    {
     "name": "stdout",
     "output_type": "stream",
     "text": [
      "Epoch 1/100\n",
      "100/100 [==============================] - 16s 148ms/step - loss: 0.7854 - accuracy: 0.8124 - precision_2: 0.8226 - recall_2: 0.7977 - val_loss: 0.8051 - val_accuracy: 0.7947 - val_precision_2: 0.8004 - val_recall_2: 0.7797\n",
      "Epoch 2/100\n",
      "100/100 [==============================] - 15s 145ms/step - loss: 0.5956 - accuracy: 0.8348 - precision_2: 0.8514 - recall_2: 0.8164 - val_loss: 0.8033 - val_accuracy: 0.7937 - val_precision_2: 0.8017 - val_recall_2: 0.7747\n",
      "Epoch 3/100\n",
      "100/100 [==============================] - 14s 143ms/step - loss: 0.4896 - accuracy: 0.8582 - precision_2: 0.8724 - recall_2: 0.8447 - val_loss: 0.7780 - val_accuracy: 0.7894 - val_precision_2: 0.8016 - val_recall_2: 0.7728\n",
      "Epoch 4/100\n",
      "100/100 [==============================] - 15s 148ms/step - loss: 0.4289 - accuracy: 0.8768 - precision_2: 0.8892 - recall_2: 0.8635 - val_loss: 0.7096 - val_accuracy: 0.8031 - val_precision_2: 0.8171 - val_recall_2: 0.7847\n",
      "Epoch 5/100\n",
      "100/100 [==============================] - 14s 143ms/step - loss: 0.3819 - accuracy: 0.8880 - precision_2: 0.8994 - recall_2: 0.8751 - val_loss: 0.6627 - val_accuracy: 0.8034 - val_precision_2: 0.8201 - val_recall_2: 0.7794\n",
      "Epoch 6/100\n",
      "100/100 [==============================] - 14s 144ms/step - loss: 0.3426 - accuracy: 0.8972 - precision_2: 0.9068 - recall_2: 0.8868 - val_loss: 0.7000 - val_accuracy: 0.8150 - val_precision_2: 0.8262 - val_recall_2: 0.8022\n",
      "Epoch 7/100\n",
      "100/100 [==============================] - 14s 143ms/step - loss: 0.2890 - accuracy: 0.9120 - precision_2: 0.9202 - recall_2: 0.9035 - val_loss: 0.7008 - val_accuracy: 0.7956 - val_precision_2: 0.8145 - val_recall_2: 0.7713\n",
      "Epoch 8/100\n",
      "100/100 [==============================] - 15s 145ms/step - loss: 0.2632 - accuracy: 0.9178 - precision_2: 0.9252 - recall_2: 0.9099 - val_loss: 0.6992 - val_accuracy: 0.8200 - val_precision_2: 0.8294 - val_recall_2: 0.8116\n",
      "Epoch 9/100\n",
      "100/100 [==============================] - 14s 142ms/step - loss: 0.2173 - accuracy: 0.9325 - precision_2: 0.9374 - recall_2: 0.9270 - val_loss: 0.7745 - val_accuracy: 0.8044 - val_precision_2: 0.8125 - val_recall_2: 0.7987\n",
      "Epoch 10/100\n",
      "100/100 [==============================] - 14s 144ms/step - loss: 0.1943 - accuracy: 0.9402 - precision_2: 0.9442 - recall_2: 0.9354 - val_loss: 0.7380 - val_accuracy: 0.8116 - val_precision_2: 0.8196 - val_recall_2: 0.8034\n",
      "Epoch 11/100\n",
      "100/100 [==============================] - 15s 144ms/step - loss: 0.1473 - accuracy: 0.9552 - precision_2: 0.9578 - recall_2: 0.9517 - val_loss: 0.8185 - val_accuracy: 0.7928 - val_precision_2: 0.8015 - val_recall_2: 0.7847\n",
      "Epoch 12/100\n",
      "100/100 [==============================] - 15s 146ms/step - loss: 0.1287 - accuracy: 0.9607 - precision_2: 0.9629 - recall_2: 0.9586 - val_loss: 0.8154 - val_accuracy: 0.8200 - val_precision_2: 0.8233 - val_recall_2: 0.8156\n",
      "Epoch 13/100\n",
      "100/100 [==============================] - 14s 143ms/step - loss: 0.1160 - accuracy: 0.9659 - precision_2: 0.9679 - recall_2: 0.9636 - val_loss: 0.8227 - val_accuracy: 0.8069 - val_precision_2: 0.8133 - val_recall_2: 0.8047\n",
      "Epoch 14/100\n",
      "100/100 [==============================] - 14s 144ms/step - loss: 0.0864 - accuracy: 0.9748 - precision_2: 0.9760 - recall_2: 0.9737 - val_loss: 1.0094 - val_accuracy: 0.8178 - val_precision_2: 0.8223 - val_recall_2: 0.8141\n",
      "Epoch 15/100\n",
      "100/100 [==============================] - ETA: 0s - loss: 0.0740 - accuracy: 0.9781 - precision_2: 0.9789 - recall_2: 0.9773Restoring model weights from the end of the best epoch: 5.\n",
      "100/100 [==============================] - 15s 144ms/step - loss: 0.0740 - accuracy: 0.9781 - precision_2: 0.9789 - recall_2: 0.9773 - val_loss: 0.9075 - val_accuracy: 0.8219 - val_precision_2: 0.8247 - val_recall_2: 0.8203\n",
      "Epoch 15: early stopping\n"
     ]
    }
   ],
   "source": [
    "results = model.fit(train_generator,\n",
    "                    callbacks=early_stop,\n",
    "                    steps_per_epoch=100,  # Number of training samples to pull per epoch\n",
    "                    epochs=epochs_to_train,  # Number of epochs\n",
    "                    validation_data=val_generator,\n",
    "                    validation_steps=50,  # Number of validation samples to run validation on\n",
    "                    verbose=1\n",
    "                    )"
   ]
  },
  {
   "cell_type": "code",
   "execution_count": 19,
   "id": "9bc1b036",
   "metadata": {
    "ExecuteTime": {
     "end_time": "2022-05-22T08:02:05.713991Z",
     "start_time": "2022-05-22T08:02:05.523948Z"
    },
    "scrolled": true
   },
   "outputs": [
    {
     "data": {
      "image/png": "[encoded data removed]",
      "text/plain": [
       "<Figure size 720x360 with 2 Axes>"
      ]
     },
     "metadata": {
      "needs_background": "light"
     },
     "output_type": "display_data"
    }
   ],
   "source": [
    "display_model_trainTestGraphs(results)"
   ]
  },
  {
   "cell_type": "code",
   "execution_count": 20,
   "id": "587f83f5",
   "metadata": {
    "ExecuteTime": {
     "end_time": "2022-05-22T08:02:07.041782Z",
     "start_time": "2022-05-22T08:02:05.716991Z"
    },
    "scrolled": true
   },
   "outputs": [
    {
     "name": "stderr",
     "output_type": "stream",
     "text": [
      "WARNING:absl:Found untraced functions such as _jit_compiled_convolution_op, _jit_compiled_convolution_op, _jit_compiled_convolution_op while saving (showing 3 of 3). These functions will not be directly callable after loading.\n"
     ]
    },
    {
     "name": "stdout",
     "output_type": "stream",
     "text": [
      "INFO:tensorflow:Assets written to: tf_Adam_checkpoints/Model_3\\assets\n"
     ]
    },
    {
     "name": "stderr",
     "output_type": "stream",
     "text": [
      "INFO:tensorflow:Assets written to: tf_Adam_checkpoints/Model_3\\assets\n"
     ]
    }
   ],
   "source": [
    "results.model.save(tf_chkpt_path+'Model_3')"
   ]
  },
  {
   "cell_type": "markdown",
   "id": "235784c1",
   "metadata": {},
   "source": [
    "No appreciable reduction in loss and overfitting set in early again. However, we also recorded our lowest every validation loss. Trying a few different variations of increasing complexity."
   ]
  },
  {
   "cell_type": "markdown",
   "id": "72367d7f",
   "metadata": {},
   "source": [
    "## Model 4: Increasing depth of our Neural Network"
   ]
  },
  {
   "cell_type": "markdown",
   "id": "a8a6421f",
   "metadata": {},
   "source": [
    "Adding an extra layer of conv+maxpooling"
   ]
  },
  {
   "cell_type": "code",
   "execution_count": 21,
   "id": "2efddceb",
   "metadata": {
    "ExecuteTime": {
     "end_time": "2022-05-22T08:02:07.121801Z",
     "start_time": "2022-05-22T08:02:07.042783Z"
    }
   },
   "outputs": [
    {
     "name": "stdout",
     "output_type": "stream",
     "text": [
      "Model: \"sequential_3\"\n",
      "_________________________________________________________________\n",
      " Layer (type)                Output Shape              Param #   \n",
      "=================================================================\n",
      " conv2d_7 (Conv2D)           (None, 225, 225, 16)      160       \n",
      "                                                                 \n",
      " max_pooling2d_7 (MaxPooling  (None, 112, 112, 16)     0         \n",
      " 2D)                                                             \n",
      "                                                                 \n",
      " conv2d_8 (Conv2D)           (None, 110, 110, 32)      4640      \n",
      "                                                                 \n",
      " max_pooling2d_8 (MaxPooling  (None, 55, 55, 32)       0         \n",
      " 2D)                                                             \n",
      "                                                                 \n",
      " conv2d_9 (Conv2D)           (None, 53, 53, 64)        18496     \n",
      "                                                                 \n",
      " max_pooling2d_9 (MaxPooling  (None, 26, 26, 64)       0         \n",
      " 2D)                                                             \n",
      "                                                                 \n",
      " conv2d_10 (Conv2D)          (None, 24, 24, 128)       73856     \n",
      "                                                                 \n",
      " max_pooling2d_10 (MaxPoolin  (None, 12, 12, 128)      0         \n",
      " g2D)                                                            \n",
      "                                                                 \n",
      " flatten_3 (Flatten)         (None, 18432)             0         \n",
      "                                                                 \n",
      " dense_6 (Dense)             (None, 512)               9437696   \n",
      "                                                                 \n",
      " dense_7 (Dense)             (None, 512)               262656    \n",
      "                                                                 \n",
      " dense_8 (Dense)             (None, 8)                 4104      \n",
      "                                                                 \n",
      "=================================================================\n",
      "Total params: 9,801,608\n",
      "Trainable params: 9,801,608\n",
      "Non-trainable params: 0\n",
      "_________________________________________________________________\n"
     ]
    }
   ],
   "source": [
    "model = models.Sequential()\n",
    "\n",
    "model.add(layers.Conv2D(filters=16,\n",
    "                       kernel_size=3,\n",
    "                       activation='relu',\n",
    "                       input_shape=(227,227,1)))\n",
    "model.add(layers.MaxPooling2D(2,2))\n",
    "\n",
    "model.add(layers.Conv2D(32, 3, activation='relu'))\n",
    "model.add(layers.MaxPooling2D(2,2))\n",
    "\n",
    "model.add(layers.Conv2D(64, 3, activation='relu'))\n",
    "model.add(layers.MaxPooling2D(2,2))\n",
    "\n",
    "model.add(layers.Conv2D(128, 3, activation='relu'))\n",
    "model.add(layers.MaxPooling2D(2,2))\n",
    "\n",
    "model.add(layers.Flatten())\n",
    "model.add(layers.Dense(512, activation='relu'))\n",
    "model.add(layers.Dense(512, activation='relu'))\n",
    "model.add(layers.Dense(8, activation='softmax'))\n",
    "\n",
    "\n",
    "model.compile(optimizer=optimizers.Adam(learning_rate=0.001),\n",
    "              loss=losses.CategoricalCrossentropy(),\n",
    "              metrics=['accuracy', Precision(), Recall()])\n",
    "\n",
    "\n",
    "model.summary()"
   ]
  },
  {
   "cell_type": "code",
   "execution_count": 22,
   "id": "9d088e67",
   "metadata": {
    "ExecuteTime": {
     "end_time": "2022-05-22T08:05:44.638851Z",
     "start_time": "2022-05-22T08:02:07.122802Z"
    },
    "scrolled": false
   },
   "outputs": [
    {
     "name": "stdout",
     "output_type": "stream",
     "text": [
      "Epoch 1/100\n",
      "100/100 [==============================] - 16s 147ms/step - loss: 0.7641 - accuracy: 0.8112 - precision_3: 0.8227 - recall_3: 0.8004 - val_loss: 0.8424 - val_accuracy: 0.7703 - val_precision_3: 0.7939 - val_recall_3: 0.7247\n",
      "Epoch 2/100\n",
      "100/100 [==============================] - 14s 142ms/step - loss: 0.5914 - accuracy: 0.8365 - precision_3: 0.8554 - recall_3: 0.8180 - val_loss: 0.7986 - val_accuracy: 0.7747 - val_precision_3: 0.7990 - val_recall_3: 0.7566\n",
      "Epoch 3/100\n",
      "100/100 [==============================] - 14s 144ms/step - loss: 0.4935 - accuracy: 0.8572 - precision_3: 0.8754 - recall_3: 0.8416 - val_loss: 0.7214 - val_accuracy: 0.7994 - val_precision_3: 0.8181 - val_recall_3: 0.7716\n",
      "Epoch 4/100\n",
      "100/100 [==============================] - 14s 143ms/step - loss: 0.4332 - accuracy: 0.8741 - precision_3: 0.8878 - recall_3: 0.8588 - val_loss: 0.6623 - val_accuracy: 0.7891 - val_precision_3: 0.8270 - val_recall_3: 0.7350\n",
      "Epoch 5/100\n",
      "100/100 [==============================] - 15s 144ms/step - loss: 0.3667 - accuracy: 0.8860 - precision_3: 0.8996 - recall_3: 0.8721 - val_loss: 0.6263 - val_accuracy: 0.8078 - val_precision_3: 0.8332 - val_recall_3: 0.7663\n",
      "Epoch 6/100\n",
      "100/100 [==============================] - 14s 141ms/step - loss: 0.3365 - accuracy: 0.8955 - precision_3: 0.9073 - recall_3: 0.8843 - val_loss: 0.6456 - val_accuracy: 0.8159 - val_precision_3: 0.8266 - val_recall_3: 0.7937\n",
      "Epoch 7/100\n",
      "100/100 [==============================] - 14s 144ms/step - loss: 0.2944 - accuracy: 0.9084 - precision_3: 0.9171 - recall_3: 0.8994 - val_loss: 0.6486 - val_accuracy: 0.8156 - val_precision_3: 0.8265 - val_recall_3: 0.8053\n",
      "Epoch 8/100\n",
      "100/100 [==============================] - 14s 143ms/step - loss: 0.2713 - accuracy: 0.9124 - precision_3: 0.9204 - recall_3: 0.9044 - val_loss: 0.6734 - val_accuracy: 0.7934 - val_precision_3: 0.8057 - val_recall_3: 0.7750\n",
      "Epoch 9/100\n",
      "100/100 [==============================] - 14s 143ms/step - loss: 0.2350 - accuracy: 0.9255 - precision_3: 0.9315 - recall_3: 0.9195 - val_loss: 0.7096 - val_accuracy: 0.8169 - val_precision_3: 0.8260 - val_recall_3: 0.8087\n",
      "Epoch 10/100\n",
      "100/100 [==============================] - 14s 142ms/step - loss: 0.1895 - accuracy: 0.9397 - precision_3: 0.9427 - recall_3: 0.9354 - val_loss: 0.6648 - val_accuracy: 0.8247 - val_precision_3: 0.8328 - val_recall_3: 0.8200\n",
      "Epoch 11/100\n",
      "100/100 [==============================] - 15s 144ms/step - loss: 0.1517 - accuracy: 0.9506 - precision_3: 0.9538 - recall_3: 0.9480 - val_loss: 0.6807 - val_accuracy: 0.8375 - val_precision_3: 0.8408 - val_recall_3: 0.8338\n",
      "Epoch 12/100\n",
      "100/100 [==============================] - 14s 144ms/step - loss: 0.1455 - accuracy: 0.9539 - precision_3: 0.9559 - recall_3: 0.9514 - val_loss: 0.7220 - val_accuracy: 0.8172 - val_precision_3: 0.8210 - val_recall_3: 0.8100\n",
      "Epoch 13/100\n",
      "100/100 [==============================] - 15s 144ms/step - loss: 0.1111 - accuracy: 0.9646 - precision_3: 0.9657 - recall_3: 0.9636 - val_loss: 0.7836 - val_accuracy: 0.8388 - val_precision_3: 0.8417 - val_recall_3: 0.8359\n",
      "Epoch 14/100\n",
      "100/100 [==============================] - 14s 142ms/step - loss: 0.0891 - accuracy: 0.9715 - precision_3: 0.9724 - recall_3: 0.9706 - val_loss: 0.7956 - val_accuracy: 0.8263 - val_precision_3: 0.8324 - val_recall_3: 0.8228\n",
      "Epoch 15/100\n",
      "100/100 [==============================] - ETA: 0s - loss: 0.0699 - accuracy: 0.9781 - precision_3: 0.9792 - recall_3: 0.9770Restoring model weights from the end of the best epoch: 5.\n",
      "100/100 [==============================] - 14s 144ms/step - loss: 0.0699 - accuracy: 0.9781 - precision_3: 0.9792 - recall_3: 0.9770 - val_loss: 0.7978 - val_accuracy: 0.8241 - val_precision_3: 0.8283 - val_recall_3: 0.8188\n",
      "Epoch 15: early stopping\n"
     ]
    }
   ],
   "source": [
    "results = model.fit(train_generator,\n",
    "                    callbacks=early_stop,\n",
    "                    steps_per_epoch=100,  # Number of training samples to pull per epoch\n",
    "                    epochs=epochs_to_train,  # Number of epochs\n",
    "                    validation_data=val_generator,\n",
    "                    validation_steps=50,  # Number of validation samples to run validation on\n",
    "                    verbose=1\n",
    "                    )"
   ]
  },
  {
   "cell_type": "code",
   "execution_count": 23,
   "id": "8083da37",
   "metadata": {
    "ExecuteTime": {
     "end_time": "2022-05-22T08:05:44.829893Z",
     "start_time": "2022-05-22T08:05:44.640851Z"
    },
    "scrolled": true
   },
   "outputs": [
    {
     "data": {
      "image/png": "[encoded data removed]",
      "text/plain": [
       "<Figure size 720x360 with 2 Axes>"
      ]
     },
     "metadata": {
      "needs_background": "light"
     },
     "output_type": "display_data"
    }
   ],
   "source": [
    "display_model_trainTestGraphs(results)"
   ]
  },
  {
   "cell_type": "code",
   "execution_count": 24,
   "id": "6bef0536",
   "metadata": {
    "ExecuteTime": {
     "end_time": "2022-05-22T08:05:45.765981Z",
     "start_time": "2022-05-22T08:05:44.830893Z"
    },
    "scrolled": true
   },
   "outputs": [
    {
     "name": "stderr",
     "output_type": "stream",
     "text": [
      "WARNING:absl:Found untraced functions such as _jit_compiled_convolution_op, _jit_compiled_convolution_op, _jit_compiled_convolution_op, _jit_compiled_convolution_op while saving (showing 4 of 4). These functions will not be directly callable after loading.\n"
     ]
    },
    {
     "name": "stdout",
     "output_type": "stream",
     "text": [
      "INFO:tensorflow:Assets written to: tf_Adam_checkpoints/Model_4\\assets\n"
     ]
    },
    {
     "name": "stderr",
     "output_type": "stream",
     "text": [
      "INFO:tensorflow:Assets written to: tf_Adam_checkpoints/Model_4\\assets\n"
     ]
    }
   ],
   "source": [
    "results.model.save(tf_chkpt_path+'Model_4')"
   ]
  },
  {
   "cell_type": "markdown",
   "id": "e7bb4732",
   "metadata": {
    "ExecuteTime": {
     "end_time": "2022-05-20T07:04:08.582816Z",
     "start_time": "2022-05-20T07:04:08.573814Z"
    }
   },
   "source": [
    "In terms of validation loss, this is our best performing model so far, despite again overfitting setting in early. Increasing convolutions definitely seems to be the right direction to go in. \n",
    "However, something to keep in mind, our Dummy Classifier can perform with an accuracy of about 81%, this model is barely crossing 83.5%.   \n",
    "One way we can help prevent overfitting is to employ dropout layers."
   ]
  },
  {
   "cell_type": "markdown",
   "id": "0176022e",
   "metadata": {},
   "source": [
    "## Model 4a: Adding a dropout layer and furthering depth"
   ]
  },
  {
   "cell_type": "markdown",
   "id": "b8ce5a61",
   "metadata": {
    "ExecuteTime": {
     "end_time": "2022-05-20T07:05:05.762350Z",
     "start_time": "2022-05-20T07:05:05.749348Z"
    }
   },
   "source": [
    "To help reduce overfitting adding a dropout layer at dense layer level and increasing the number of convolutions before pooling. I also increase the number of neurons on the fully connected layers."
   ]
  },
  {
   "cell_type": "code",
   "execution_count": 25,
   "id": "a8a13d97",
   "metadata": {
    "ExecuteTime": {
     "end_time": "2022-05-22T08:05:45.861003Z",
     "start_time": "2022-05-22T08:05:45.766983Z"
    }
   },
   "outputs": [
    {
     "name": "stdout",
     "output_type": "stream",
     "text": [
      "Model: \"sequential_4\"\n",
      "_________________________________________________________________\n",
      " Layer (type)                Output Shape              Param #   \n",
      "=================================================================\n",
      " conv2d_11 (Conv2D)          (None, 225, 225, 16)      160       \n",
      "                                                                 \n",
      " max_pooling2d_11 (MaxPoolin  (None, 112, 112, 16)     0         \n",
      " g2D)                                                            \n",
      "                                                                 \n",
      " conv2d_12 (Conv2D)          (None, 110, 110, 32)      4640      \n",
      "                                                                 \n",
      " max_pooling2d_12 (MaxPoolin  (None, 55, 55, 32)       0         \n",
      " g2D)                                                            \n",
      "                                                                 \n",
      " conv2d_13 (Conv2D)          (None, 53, 53, 64)        18496     \n",
      "                                                                 \n",
      " conv2d_14 (Conv2D)          (None, 51, 51, 64)        36928     \n",
      "                                                                 \n",
      " max_pooling2d_13 (MaxPoolin  (None, 25, 25, 64)       0         \n",
      " g2D)                                                            \n",
      "                                                                 \n",
      " conv2d_15 (Conv2D)          (None, 23, 23, 128)       73856     \n",
      "                                                                 \n",
      " conv2d_16 (Conv2D)          (None, 21, 21, 128)       147584    \n",
      "                                                                 \n",
      " max_pooling2d_14 (MaxPoolin  (None, 10, 10, 128)      0         \n",
      " g2D)                                                            \n",
      "                                                                 \n",
      " flatten_4 (Flatten)         (None, 12800)             0         \n",
      "                                                                 \n",
      " dense_9 (Dense)             (None, 1024)              13108224  \n",
      "                                                                 \n",
      " dense_10 (Dense)            (None, 512)               524800    \n",
      "                                                                 \n",
      " dropout (Dropout)           (None, 512)               0         \n",
      "                                                                 \n",
      " dense_11 (Dense)            (None, 8)                 4104      \n",
      "                                                                 \n",
      "=================================================================\n",
      "Total params: 13,918,792\n",
      "Trainable params: 13,918,792\n",
      "Non-trainable params: 0\n",
      "_________________________________________________________________\n"
     ]
    }
   ],
   "source": [
    "model = models.Sequential()\n",
    "\n",
    "model.add(layers.Conv2D(filters=16,\n",
    "                       kernel_size=3,\n",
    "                       activation='relu',\n",
    "                       input_shape=(227,227,1)))\n",
    "model.add(layers.MaxPooling2D(2,2))\n",
    "\n",
    "model.add(layers.Conv2D(32, 3, activation='relu'))\n",
    "model.add(layers.MaxPooling2D(2,2))\n",
    "\n",
    "model.add(layers.Conv2D(64, 3, activation='relu'))\n",
    "model.add(layers.Conv2D(64, 3, activation='relu'))\n",
    "model.add(layers.MaxPooling2D(2,2))\n",
    "\n",
    "model.add(layers.Conv2D(128, 3, activation='relu'))\n",
    "model.add(layers.Conv2D(128, 3, activation='relu'))\n",
    "model.add(layers.MaxPooling2D(2,2))\n",
    "\n",
    "model.add(layers.Flatten())\n",
    "model.add(layers.Dense(1024, activation='relu'))\n",
    "model.add(layers.Dense(512, activation='relu'))\n",
    "model.add(layers.Dropout(rate=0.2))\n",
    "model.add(layers.Dense(8, activation='softmax'))\n",
    "\n",
    "\n",
    "model.compile(optimizer=optimizers.Adam(learning_rate=0.001),\n",
    "              loss=losses.CategoricalCrossentropy(),\n",
    "              metrics=['accuracy', Precision(), Recall()])\n",
    "\n",
    "\n",
    "model.summary()"
   ]
  },
  {
   "cell_type": "code",
   "execution_count": 26,
   "id": "3db3c531",
   "metadata": {
    "ExecuteTime": {
     "end_time": "2022-05-22T08:10:44.393250Z",
     "start_time": "2022-05-22T08:05:45.862005Z"
    }
   },
   "outputs": [
    {
     "name": "stdout",
     "output_type": "stream",
     "text": [
      "Epoch 1/100\n",
      "100/100 [==============================] - 18s 166ms/step - loss: 0.8088 - accuracy: 0.8148 - precision_4: 0.8225 - recall_4: 0.7845 - val_loss: 0.8491 - val_accuracy: 0.7872 - val_precision_4: 0.8088 - val_recall_4: 0.7481\n",
      "Epoch 2/100\n",
      "100/100 [==============================] - 17s 167ms/step - loss: 0.6012 - accuracy: 0.8331 - precision_4: 0.8595 - recall_4: 0.8068 - val_loss: 0.7567 - val_accuracy: 0.7925 - val_precision_4: 0.8072 - val_recall_4: 0.7706\n",
      "Epoch 3/100\n",
      "100/100 [==============================] - 16s 164ms/step - loss: 0.5236 - accuracy: 0.8559 - precision_4: 0.8738 - recall_4: 0.8365 - val_loss: 0.7533 - val_accuracy: 0.7684 - val_precision_4: 0.8145 - val_recall_4: 0.7150\n",
      "Epoch 4/100\n",
      "100/100 [==============================] - 16s 163ms/step - loss: 0.4444 - accuracy: 0.8725 - precision_4: 0.8883 - recall_4: 0.8548 - val_loss: 0.6616 - val_accuracy: 0.8000 - val_precision_4: 0.8291 - val_recall_4: 0.7641\n",
      "Epoch 5/100\n",
      "100/100 [==============================] - 16s 164ms/step - loss: 0.3864 - accuracy: 0.8856 - precision_4: 0.8983 - recall_4: 0.8708 - val_loss: 0.6834 - val_accuracy: 0.7997 - val_precision_4: 0.8214 - val_recall_4: 0.7791\n",
      "Epoch 6/100\n",
      "100/100 [==============================] - 16s 164ms/step - loss: 0.3500 - accuracy: 0.8940 - precision_4: 0.9055 - recall_4: 0.8823 - val_loss: 0.6134 - val_accuracy: 0.8203 - val_precision_4: 0.8438 - val_recall_4: 0.7969\n",
      "Epoch 7/100\n",
      "100/100 [==============================] - 17s 164ms/step - loss: 0.3054 - accuracy: 0.9063 - precision_4: 0.9145 - recall_4: 0.8975 - val_loss: 0.6393 - val_accuracy: 0.8072 - val_precision_4: 0.8257 - val_recall_4: 0.7878\n",
      "Epoch 8/100\n",
      "100/100 [==============================] - 16s 163ms/step - loss: 0.2670 - accuracy: 0.9167 - precision_4: 0.9238 - recall_4: 0.9100 - val_loss: 0.5924 - val_accuracy: 0.8263 - val_precision_4: 0.8345 - val_recall_4: 0.8194\n",
      "Epoch 9/100\n",
      "100/100 [==============================] - 16s 164ms/step - loss: 0.2246 - accuracy: 0.9295 - precision_4: 0.9348 - recall_4: 0.9236 - val_loss: 0.6149 - val_accuracy: 0.8341 - val_precision_4: 0.8436 - val_recall_4: 0.8294\n",
      "Epoch 10/100\n",
      "100/100 [==============================] - 16s 163ms/step - loss: 0.1990 - accuracy: 0.9383 - precision_4: 0.9427 - recall_4: 0.9350 - val_loss: 0.6214 - val_accuracy: 0.8394 - val_precision_4: 0.8517 - val_recall_4: 0.8313\n",
      "Epoch 11/100\n",
      "100/100 [==============================] - 16s 163ms/step - loss: 0.1735 - accuracy: 0.9457 - precision_4: 0.9488 - recall_4: 0.9423 - val_loss: 0.6389 - val_accuracy: 0.8525 - val_precision_4: 0.8570 - val_recall_4: 0.8500\n",
      "Epoch 12/100\n",
      "100/100 [==============================] - 16s 163ms/step - loss: 0.1469 - accuracy: 0.9527 - precision_4: 0.9555 - recall_4: 0.9502 - val_loss: 0.6791 - val_accuracy: 0.8428 - val_precision_4: 0.8511 - val_recall_4: 0.8394\n",
      "Epoch 13/100\n",
      "100/100 [==============================] - 16s 163ms/step - loss: 0.1136 - accuracy: 0.9650 - precision_4: 0.9667 - recall_4: 0.9638 - val_loss: 0.7593 - val_accuracy: 0.8531 - val_precision_4: 0.8551 - val_recall_4: 0.8519\n",
      "Epoch 14/100\n",
      "100/100 [==============================] - 16s 163ms/step - loss: 0.0900 - accuracy: 0.9712 - precision_4: 0.9717 - recall_4: 0.9702 - val_loss: 0.8385 - val_accuracy: 0.8537 - val_precision_4: 0.8547 - val_recall_4: 0.8528\n",
      "Epoch 15/100\n",
      "100/100 [==============================] - 16s 164ms/step - loss: 0.0832 - accuracy: 0.9716 - precision_4: 0.9723 - recall_4: 0.9704 - val_loss: 0.7716 - val_accuracy: 0.8625 - val_precision_4: 0.8655 - val_recall_4: 0.8603\n",
      "Epoch 16/100\n",
      "100/100 [==============================] - 16s 163ms/step - loss: 0.0556 - accuracy: 0.9833 - precision_4: 0.9835 - recall_4: 0.9828 - val_loss: 0.8613 - val_accuracy: 0.8509 - val_precision_4: 0.8530 - val_recall_4: 0.8503\n",
      "Epoch 17/100\n",
      "100/100 [==============================] - 16s 164ms/step - loss: 0.0540 - accuracy: 0.9827 - precision_4: 0.9832 - recall_4: 0.9823 - val_loss: 0.8302 - val_accuracy: 0.8706 - val_precision_4: 0.8719 - val_recall_4: 0.8703\n",
      "Epoch 18/100\n",
      "100/100 [==============================] - ETA: 0s - loss: 0.0334 - accuracy: 0.9891 - precision_4: 0.9893 - recall_4: 0.9888Restoring model weights from the end of the best epoch: 8.\n",
      "100/100 [==============================] - 16s 164ms/step - loss: 0.0334 - accuracy: 0.9891 - precision_4: 0.9893 - recall_4: 0.9888 - val_loss: 0.9769 - val_accuracy: 0.8503 - val_precision_4: 0.8528 - val_recall_4: 0.8494\n",
      "Epoch 18: early stopping\n"
     ]
    }
   ],
   "source": [
    "results = model.fit(train_generator,\n",
    "                    callbacks=early_stop,\n",
    "                    steps_per_epoch=100,  # Number of training samples to pull per epoch\n",
    "                    epochs=epochs_to_train,  # Number of epochs\n",
    "                    validation_data=val_generator,\n",
    "                    validation_steps=50,  # Number of validation samples to run validation on\n",
    "                    verbose=1\n",
    "                    )"
   ]
  },
  {
   "cell_type": "code",
   "execution_count": 27,
   "id": "49329162",
   "metadata": {
    "ExecuteTime": {
     "end_time": "2022-05-22T08:10:44.583892Z",
     "start_time": "2022-05-22T08:10:44.395251Z"
    }
   },
   "outputs": [
    {
     "data": {
      "image/png": "[encoded data removed]",
      "text/plain": [
       "<Figure size 720x360 with 2 Axes>"
      ]
     },
     "metadata": {
      "needs_background": "light"
     },
     "output_type": "display_data"
    }
   ],
   "source": [
    "display_model_trainTestGraphs(results)"
   ]
  },
  {
   "cell_type": "code",
   "execution_count": 28,
   "id": "c2967bd7",
   "metadata": {
    "ExecuteTime": {
     "end_time": "2022-05-22T08:10:45.995328Z",
     "start_time": "2022-05-22T08:10:44.586892Z"
    },
    "scrolled": false
   },
   "outputs": [
    {
     "name": "stderr",
     "output_type": "stream",
     "text": [
      "WARNING:absl:Found untraced functions such as _jit_compiled_convolution_op, _jit_compiled_convolution_op, _jit_compiled_convolution_op, _jit_compiled_convolution_op, _jit_compiled_convolution_op while saving (showing 5 of 6). These functions will not be directly callable after loading.\n"
     ]
    },
    {
     "name": "stdout",
     "output_type": "stream",
     "text": [
      "INFO:tensorflow:Assets written to: tf_Adam_checkpoints/Model_5_Dropout_02\\assets\n"
     ]
    },
    {
     "name": "stderr",
     "output_type": "stream",
     "text": [
      "INFO:tensorflow:Assets written to: tf_Adam_checkpoints/Model_5_Dropout_02\\assets\n"
     ]
    }
   ],
   "source": [
    "results.model.save(tf_chkpt_path+'Model_5_Dropout_02')"
   ]
  },
  {
   "cell_type": "markdown",
   "id": "8f2baae2",
   "metadata": {
    "ExecuteTime": {
     "end_time": "2022-05-31T07:01:42.604758Z",
     "start_time": "2022-05-31T07:01:42.580753Z"
    }
   },
   "source": [
    "Validation loss for the first time dipped below 0.6 and the model's best recorded accuracy crossed 85%. The dropout layer definitely helped. Lets see if increasing the strength of our dropout layer makes an improvement."
   ]
  },
  {
   "cell_type": "markdown",
   "id": "a99ac010",
   "metadata": {},
   "source": [
    "## Model 5b: Adding a dropout layer and furthering depth"
   ]
  },
  {
   "cell_type": "code",
   "execution_count": 29,
   "id": "c963e7db",
   "metadata": {
    "ExecuteTime": {
     "end_time": "2022-05-22T08:10:46.089349Z",
     "start_time": "2022-05-22T08:10:45.996328Z"
    }
   },
   "outputs": [
    {
     "name": "stdout",
     "output_type": "stream",
     "text": [
      "Model: \"sequential_5\"\n",
      "_________________________________________________________________\n",
      " Layer (type)                Output Shape              Param #   \n",
      "=================================================================\n",
      " conv2d_17 (Conv2D)          (None, 225, 225, 16)      160       \n",
      "                                                                 \n",
      " max_pooling2d_15 (MaxPoolin  (None, 112, 112, 16)     0         \n",
      " g2D)                                                            \n",
      "                                                                 \n",
      " conv2d_18 (Conv2D)          (None, 110, 110, 32)      4640      \n",
      "                                                                 \n",
      " max_pooling2d_16 (MaxPoolin  (None, 55, 55, 32)       0         \n",
      " g2D)                                                            \n",
      "                                                                 \n",
      " conv2d_19 (Conv2D)          (None, 53, 53, 64)        18496     \n",
      "                                                                 \n",
      " conv2d_20 (Conv2D)          (None, 51, 51, 64)        36928     \n",
      "                                                                 \n",
      " max_pooling2d_17 (MaxPoolin  (None, 25, 25, 64)       0         \n",
      " g2D)                                                            \n",
      "                                                                 \n",
      " conv2d_21 (Conv2D)          (None, 23, 23, 128)       73856     \n",
      "                                                                 \n",
      " conv2d_22 (Conv2D)          (None, 21, 21, 128)       147584    \n",
      "                                                                 \n",
      " max_pooling2d_18 (MaxPoolin  (None, 10, 10, 128)      0         \n",
      " g2D)                                                            \n",
      "                                                                 \n",
      " flatten_5 (Flatten)         (None, 12800)             0         \n",
      "                                                                 \n",
      " dense_12 (Dense)            (None, 1024)              13108224  \n",
      "                                                                 \n",
      " dense_13 (Dense)            (None, 512)               524800    \n",
      "                                                                 \n",
      " dropout_1 (Dropout)         (None, 512)               0         \n",
      "                                                                 \n",
      " dense_14 (Dense)            (None, 8)                 4104      \n",
      "                                                                 \n",
      "=================================================================\n",
      "Total params: 13,918,792\n",
      "Trainable params: 13,918,792\n",
      "Non-trainable params: 0\n",
      "_________________________________________________________________\n"
     ]
    }
   ],
   "source": [
    "# Increasing dropout rate\n",
    "model = models.Sequential()\n",
    "\n",
    "model.add(layers.Conv2D(filters=16,\n",
    "                       kernel_size=(3,3),\n",
    "                       activation='relu',\n",
    "                       input_shape=(227,227,1)))\n",
    "model.add(layers.MaxPooling2D(2,2))\n",
    "\n",
    "model.add(layers.Conv2D(32, (3,3), activation='relu'))\n",
    "model.add(layers.MaxPooling2D(2,2))\n",
    "\n",
    "model.add(layers.Conv2D(64, (3,3), activation='relu'))\n",
    "model.add(layers.Conv2D(64, (3,3), activation='relu'))\n",
    "model.add(layers.MaxPooling2D(2,2))\n",
    "\n",
    "model.add(layers.Conv2D(128, (3,3), activation='relu'))\n",
    "model.add(layers.Conv2D(128, (3,3), activation='relu'))\n",
    "model.add(layers.MaxPooling2D(2,2))\n",
    "\n",
    "model.add(layers.Flatten())\n",
    "model.add(layers.Dense(1024, activation='relu'))\n",
    "model.add(layers.Dense(512, activation='relu'))\n",
    "model.add(layers.Dropout(rate=0.5))\n",
    "model.add(layers.Dense(8, activation='softmax'))\n",
    "\n",
    "\n",
    "model.compile(optimizer=optimizers.Adam(learning_rate=0.001),\n",
    "              loss=losses.CategoricalCrossentropy(),\n",
    "              metrics=['accuracy', Precision(), Recall()])\n",
    "\n",
    "model.summary()"
   ]
  },
  {
   "cell_type": "code",
   "execution_count": 30,
   "id": "a1845d37",
   "metadata": {
    "ExecuteTime": {
     "end_time": "2022-05-22T08:15:43.419833Z",
     "start_time": "2022-05-22T08:10:46.090349Z"
    }
   },
   "outputs": [
    {
     "name": "stdout",
     "output_type": "stream",
     "text": [
      "Epoch 1/100\n",
      "100/100 [==============================] - 17s 167ms/step - loss: 0.8624 - accuracy: 0.8112 - precision_5: 0.8187 - recall_5: 0.7765 - val_loss: 0.8499 - val_accuracy: 0.7931 - val_precision_5: 0.7931 - val_recall_5: 0.7931\n",
      "Epoch 2/100\n",
      "100/100 [==============================] - 16s 163ms/step - loss: 0.7165 - accuracy: 0.8207 - precision_5: 0.8359 - recall_5: 0.8033 - val_loss: 1.0086 - val_accuracy: 0.7356 - val_precision_5: 0.8172 - val_recall_5: 0.4666\n",
      "Epoch 3/100\n",
      "100/100 [==============================] - 16s 163ms/step - loss: 0.6017 - accuracy: 0.8364 - precision_5: 0.8613 - recall_5: 0.8077 - val_loss: 0.8009 - val_accuracy: 0.7772 - val_precision_5: 0.7999 - val_recall_5: 0.7169\n",
      "Epoch 4/100\n",
      "100/100 [==============================] - 16s 163ms/step - loss: 0.5092 - accuracy: 0.8555 - precision_5: 0.8760 - recall_5: 0.8346 - val_loss: 0.6503 - val_accuracy: 0.8037 - val_precision_5: 0.8274 - val_recall_5: 0.7775\n",
      "Epoch 5/100\n",
      "100/100 [==============================] - 16s 163ms/step - loss: 0.4429 - accuracy: 0.8704 - precision_5: 0.8878 - recall_5: 0.8520 - val_loss: 0.6779 - val_accuracy: 0.8116 - val_precision_5: 0.8248 - val_recall_5: 0.7841\n",
      "Epoch 6/100\n",
      "100/100 [==============================] - 16s 164ms/step - loss: 0.3870 - accuracy: 0.8849 - precision_5: 0.8976 - recall_5: 0.8708 - val_loss: 0.6293 - val_accuracy: 0.8172 - val_precision_5: 0.8385 - val_recall_5: 0.7850\n",
      "Epoch 7/100\n",
      "100/100 [==============================] - 16s 163ms/step - loss: 0.3589 - accuracy: 0.8923 - precision_5: 0.9029 - recall_5: 0.8800 - val_loss: 0.7315 - val_accuracy: 0.8106 - val_precision_5: 0.8209 - val_recall_5: 0.8019\n",
      "Epoch 8/100\n",
      "100/100 [==============================] - 16s 163ms/step - loss: 0.3188 - accuracy: 0.9024 - precision_5: 0.9108 - recall_5: 0.8929 - val_loss: 0.6083 - val_accuracy: 0.8188 - val_precision_5: 0.8301 - val_recall_5: 0.8078\n",
      "Epoch 9/100\n",
      "100/100 [==============================] - 16s 163ms/step - loss: 0.2897 - accuracy: 0.9107 - precision_5: 0.9186 - recall_5: 0.9022 - val_loss: 0.6157 - val_accuracy: 0.8122 - val_precision_5: 0.8281 - val_recall_5: 0.7978\n",
      "Epoch 10/100\n",
      "100/100 [==============================] - 16s 163ms/step - loss: 0.2581 - accuracy: 0.9209 - precision_5: 0.9282 - recall_5: 0.9148 - val_loss: 0.6404 - val_accuracy: 0.8259 - val_precision_5: 0.8363 - val_recall_5: 0.8128\n",
      "Epoch 11/100\n",
      "100/100 [==============================] - 16s 163ms/step - loss: 0.2182 - accuracy: 0.9305 - precision_5: 0.9358 - recall_5: 0.9249 - val_loss: 0.7260 - val_accuracy: 0.8428 - val_precision_5: 0.8484 - val_recall_5: 0.8397\n",
      "Epoch 12/100\n",
      "100/100 [==============================] - 16s 163ms/step - loss: 0.1849 - accuracy: 0.9420 - precision_5: 0.9462 - recall_5: 0.9386 - val_loss: 0.7213 - val_accuracy: 0.8341 - val_precision_5: 0.8398 - val_recall_5: 0.8275\n",
      "Epoch 13/100\n",
      "100/100 [==============================] - 16s 164ms/step - loss: 0.1602 - accuracy: 0.9516 - precision_5: 0.9548 - recall_5: 0.9493 - val_loss: 0.6224 - val_accuracy: 0.8516 - val_precision_5: 0.8574 - val_recall_5: 0.8456\n",
      "Epoch 14/100\n",
      "100/100 [==============================] - 16s 164ms/step - loss: 0.1276 - accuracy: 0.9604 - precision_5: 0.9634 - recall_5: 0.9580 - val_loss: 0.7303 - val_accuracy: 0.8512 - val_precision_5: 0.8525 - val_recall_5: 0.8487\n",
      "Epoch 15/100\n",
      "100/100 [==============================] - 16s 164ms/step - loss: 0.1021 - accuracy: 0.9675 - precision_5: 0.9691 - recall_5: 0.9661 - val_loss: 0.7163 - val_accuracy: 0.8516 - val_precision_5: 0.8546 - val_recall_5: 0.8503\n",
      "Epoch 16/100\n",
      "100/100 [==============================] - 16s 164ms/step - loss: 0.0821 - accuracy: 0.9744 - precision_5: 0.9753 - recall_5: 0.9732 - val_loss: 0.7472 - val_accuracy: 0.8616 - val_precision_5: 0.8646 - val_recall_5: 0.8600\n",
      "Epoch 17/100\n",
      "100/100 [==============================] - 16s 163ms/step - loss: 0.0666 - accuracy: 0.9783 - precision_5: 0.9792 - recall_5: 0.9775 - val_loss: 0.7396 - val_accuracy: 0.8653 - val_precision_5: 0.8660 - val_recall_5: 0.8644\n",
      "Epoch 18/100\n",
      "100/100 [==============================] - ETA: 0s - loss: 0.0558 - accuracy: 0.9826 - precision_5: 0.9830 - recall_5: 0.9817Restoring model weights from the end of the best epoch: 8.\n",
      "100/100 [==============================] - 17s 164ms/step - loss: 0.0558 - accuracy: 0.9826 - precision_5: 0.9830 - recall_5: 0.9817 - val_loss: 0.8604 - val_accuracy: 0.8403 - val_precision_5: 0.8433 - val_recall_5: 0.8356\n",
      "Epoch 18: early stopping\n"
     ]
    }
   ],
   "source": [
    "results = model.fit(train_generator,\n",
    "                    steps_per_epoch=100,  # Number of training samples to pull per epoch\n",
    "                    epochs=epochs_to_train,  # Number of epochs\n",
    "                    validation_data=val_generator,\n",
    "                    validation_steps=50,  # Number of validation samples to run validation on\n",
    "                    verbose=1,\n",
    "                    callbacks = [early_stop]\n",
    "                    )"
   ]
  },
  {
   "cell_type": "code",
   "execution_count": 31,
   "id": "119a7997",
   "metadata": {
    "ExecuteTime": {
     "end_time": "2022-05-22T08:15:43.626883Z",
     "start_time": "2022-05-22T08:15:43.423834Z"
    }
   },
   "outputs": [
    {
     "data": {
      "image/png": "[encoded data removed]",
      "text/plain": [
       "<Figure size 720x360 with 2 Axes>"
      ]
     },
     "metadata": {
      "needs_background": "light"
     },
     "output_type": "display_data"
    }
   ],
   "source": [
    "display_model_trainTestGraphs(results)"
   ]
  },
  {
   "cell_type": "code",
   "execution_count": 32,
   "id": "ad244f6a",
   "metadata": {
    "ExecuteTime": {
     "end_time": "2022-05-22T08:15:44.829757Z",
     "start_time": "2022-05-22T08:15:43.627884Z"
    }
   },
   "outputs": [
    {
     "name": "stderr",
     "output_type": "stream",
     "text": [
      "WARNING:absl:Found untraced functions such as _jit_compiled_convolution_op, _jit_compiled_convolution_op, _jit_compiled_convolution_op, _jit_compiled_convolution_op, _jit_compiled_convolution_op while saving (showing 5 of 6). These functions will not be directly callable after loading.\n"
     ]
    },
    {
     "name": "stdout",
     "output_type": "stream",
     "text": [
      "INFO:tensorflow:Assets written to: tf_Adam_checkpoints/Model_5_Dropout_05\\assets\n"
     ]
    },
    {
     "name": "stderr",
     "output_type": "stream",
     "text": [
      "INFO:tensorflow:Assets written to: tf_Adam_checkpoints/Model_5_Dropout_05\\assets\n"
     ]
    }
   ],
   "source": [
    "results.model.save(tf_chkpt_path+'Model_5_Dropout_05')"
   ]
  },
  {
   "cell_type": "markdown",
   "id": "4e123d1d",
   "metadata": {
    "ExecuteTime": {
     "end_time": "2022-05-20T07:15:03.819516Z",
     "start_time": "2022-05-20T07:15:03.806512Z"
    }
   },
   "source": [
    "The higher level of dropout has made a pretty discernable improvement in our validation loss. After epoch 13, loss started to increase again.\n",
    "\n",
    "Still with a validation loss of about 0.61, the model at epoch 9 is our best performing model yet."
   ]
  },
  {
   "cell_type": "markdown",
   "id": "5193ff54",
   "metadata": {},
   "source": [
    "## Model 6 - VGG-esque"
   ]
  },
  {
   "cell_type": "markdown",
   "id": "74128b8d",
   "metadata": {},
   "source": [
    "In 2014, Karen Simonyan, Andrew Zissermanren wrote a paper on _Very Deep Convolutional Networks for Large-Scale Image Recognition_ using 16/19 layer variations of the same architecture called [VGG](https://arxiv.org/abs/1409.1556). This architecture has seen tremendous success in a variety of different arenas.\\\n",
    "Taking a leaf from their book and convolutional layers."
   ]
  },
  {
   "cell_type": "code",
   "execution_count": 33,
   "id": "d4dad1d4",
   "metadata": {
    "ExecuteTime": {
     "end_time": "2022-05-22T08:15:44.924780Z",
     "start_time": "2022-05-22T08:15:44.830761Z"
    }
   },
   "outputs": [
    {
     "name": "stdout",
     "output_type": "stream",
     "text": [
      "Model: \"sequential_6\"\n",
      "_________________________________________________________________\n",
      " Layer (type)                Output Shape              Param #   \n",
      "=================================================================\n",
      " conv2d_23 (Conv2D)          (None, 225, 225, 16)      160       \n",
      "                                                                 \n",
      " max_pooling2d_19 (MaxPoolin  (None, 112, 112, 16)     0         \n",
      " g2D)                                                            \n",
      "                                                                 \n",
      " conv2d_24 (Conv2D)          (None, 110, 110, 64)      9280      \n",
      "                                                                 \n",
      " conv2d_25 (Conv2D)          (None, 108, 108, 64)      36928     \n",
      "                                                                 \n",
      " max_pooling2d_20 (MaxPoolin  (None, 54, 54, 64)       0         \n",
      " g2D)                                                            \n",
      "                                                                 \n",
      " conv2d_26 (Conv2D)          (None, 52, 52, 128)       73856     \n",
      "                                                                 \n",
      " conv2d_27 (Conv2D)          (None, 50, 50, 128)       147584    \n",
      "                                                                 \n",
      " max_pooling2d_21 (MaxPoolin  (None, 25, 25, 128)      0         \n",
      " g2D)                                                            \n",
      "                                                                 \n",
      " conv2d_28 (Conv2D)          (None, 23, 23, 256)       295168    \n",
      "                                                                 \n",
      " conv2d_29 (Conv2D)          (None, 21, 21, 256)       590080    \n",
      "                                                                 \n",
      " conv2d_30 (Conv2D)          (None, 19, 19, 256)       590080    \n",
      "                                                                 \n",
      " max_pooling2d_22 (MaxPoolin  (None, 9, 9, 256)        0         \n",
      " g2D)                                                            \n",
      "                                                                 \n",
      " flatten_6 (Flatten)         (None, 20736)             0         \n",
      "                                                                 \n",
      " dense_15 (Dense)            (None, 1024)              21234688  \n",
      "                                                                 \n",
      " dense_16 (Dense)            (None, 1024)              1049600   \n",
      "                                                                 \n",
      " dense_17 (Dense)            (None, 8)                 8200      \n",
      "                                                                 \n",
      "=================================================================\n",
      "Total params: 24,035,624\n",
      "Trainable params: 24,035,624\n",
      "Non-trainable params: 0\n",
      "_________________________________________________________________\n"
     ]
    }
   ],
   "source": [
    "model = models.Sequential()\n",
    "\n",
    "model.add(layers.Conv2D(filters=16,\n",
    "                       kernel_size=3,\n",
    "                       activation='relu',\n",
    "                       input_shape=(227,227,1)))\n",
    "model.add(layers.MaxPooling2D(2,2))\n",
    "\n",
    "model.add(layers.Conv2D(64, 3, activation='relu'))\n",
    "model.add(layers.Conv2D(64, 3, activation='relu'))\n",
    "model.add(layers.MaxPooling2D(2,2))\n",
    "\n",
    "model.add(layers.Conv2D(128, 3, activation='relu'))\n",
    "model.add(layers.Conv2D(128, 3, activation='relu'))\n",
    "model.add(layers.MaxPooling2D(2,2))\n",
    "\n",
    "model.add(layers.Conv2D(256, 3, activation='relu'))\n",
    "model.add(layers.Conv2D(256, 3, activation='relu'))\n",
    "model.add(layers.Conv2D(256, 3, activation='relu'))\n",
    "model.add(layers.MaxPooling2D(2,2))\n",
    "\n",
    "model.add(layers.Flatten())\n",
    "model.add(layers.Dense(1024, activation='relu'))\n",
    "model.add(layers.Dense(1024, activation='relu'))\n",
    "# model.add(layers.Dropout(rate=0.5))\n",
    "model.add(layers.Dense(8, activation='softmax'))\n",
    "\n",
    "model.compile(optimizer=optimizers.Adam(learning_rate=0.001),\n",
    "              loss=losses.CategoricalCrossentropy(),\n",
    "              metrics=['accuracy', Precision(), Recall()])\n",
    "\n",
    "model.summary()"
   ]
  },
  {
   "cell_type": "code",
   "execution_count": 34,
   "id": "dc69dfaa",
   "metadata": {
    "ExecuteTime": {
     "end_time": "2022-05-22T08:27:48.401849Z",
     "start_time": "2022-05-22T08:15:44.925781Z"
    }
   },
   "outputs": [
    {
     "name": "stdout",
     "output_type": "stream",
     "text": [
      "Epoch 1/100\n",
      "100/100 [==============================] - 43s 384ms/step - loss: 0.9079 - accuracy: 0.8157 - precision_6: 0.8152 - recall_6: 0.7497 - val_loss: 0.8804 - val_accuracy: 0.7909 - val_precision_6: 0.7909 - val_recall_6: 0.7909\n",
      "Epoch 2/100\n",
      "100/100 [==============================] - 41s 408ms/step - loss: 0.7849 - accuracy: 0.8183 - precision_6: 0.8184 - recall_6: 0.8169 - val_loss: 0.9133 - val_accuracy: 0.7828 - val_precision_6: 0.7828 - val_recall_6: 0.7828\n",
      "Epoch 3/100\n",
      "100/100 [==============================] - 38s 376ms/step - loss: 0.7926 - accuracy: 0.8157 - precision_6: 0.8157 - recall_6: 0.8157 - val_loss: 0.8418 - val_accuracy: 0.7947 - val_precision_6: 0.7947 - val_recall_6: 0.7947\n",
      "Epoch 4/100\n",
      "100/100 [==============================] - 37s 372ms/step - loss: 0.7525 - accuracy: 0.8209 - precision_6: 0.8210 - recall_6: 0.8184 - val_loss: 0.8920 - val_accuracy: 0.7916 - val_precision_6: 0.7916 - val_recall_6: 0.7916\n",
      "Epoch 5/100\n",
      "100/100 [==============================] - 38s 374ms/step - loss: 0.7323 - accuracy: 0.8152 - precision_6: 0.8187 - recall_6: 0.8109 - val_loss: 0.8338 - val_accuracy: 0.7916 - val_precision_6: 0.8007 - val_recall_6: 0.7681\n",
      "Epoch 6/100\n",
      "100/100 [==============================] - 37s 373ms/step - loss: 0.6338 - accuracy: 0.8309 - precision_6: 0.8462 - recall_6: 0.8149 - val_loss: 0.8438 - val_accuracy: 0.7862 - val_precision_6: 0.7975 - val_recall_6: 0.7716\n",
      "Epoch 7/100\n",
      "100/100 [==============================] - 37s 374ms/step - loss: 0.5208 - accuracy: 0.8540 - precision_6: 0.8717 - recall_6: 0.8352 - val_loss: 0.7262 - val_accuracy: 0.8134 - val_precision_6: 0.8250 - val_recall_6: 0.7881\n",
      "Epoch 8/100\n",
      "100/100 [==============================] - 38s 374ms/step - loss: 0.4384 - accuracy: 0.8718 - precision_6: 0.8890 - recall_6: 0.8527 - val_loss: 0.6586 - val_accuracy: 0.8006 - val_precision_6: 0.8339 - val_recall_6: 0.7578\n",
      "Epoch 9/100\n",
      "100/100 [==============================] - 38s 376ms/step - loss: 0.3748 - accuracy: 0.8884 - precision_6: 0.9021 - recall_6: 0.8743 - val_loss: 0.6076 - val_accuracy: 0.8125 - val_precision_6: 0.8327 - val_recall_6: 0.7919\n",
      "Epoch 10/100\n",
      "100/100 [==============================] - 38s 375ms/step - loss: 0.3591 - accuracy: 0.8902 - precision_6: 0.9018 - recall_6: 0.8766 - val_loss: 0.6108 - val_accuracy: 0.8184 - val_precision_6: 0.8338 - val_recall_6: 0.7978\n",
      "Epoch 11/100\n",
      "100/100 [==============================] - 38s 375ms/step - loss: 0.3041 - accuracy: 0.9068 - precision_6: 0.9165 - recall_6: 0.8957 - val_loss: 0.6329 - val_accuracy: 0.8191 - val_precision_6: 0.8339 - val_recall_6: 0.8066\n",
      "Epoch 12/100\n",
      "100/100 [==============================] - 38s 374ms/step - loss: 0.2645 - accuracy: 0.9181 - precision_6: 0.9245 - recall_6: 0.9108 - val_loss: 0.6431 - val_accuracy: 0.8225 - val_precision_6: 0.8356 - val_recall_6: 0.8084\n",
      "Epoch 13/100\n",
      "100/100 [==============================] - 38s 375ms/step - loss: 0.2447 - accuracy: 0.9240 - precision_6: 0.9304 - recall_6: 0.9186 - val_loss: 0.6929 - val_accuracy: 0.8475 - val_precision_6: 0.8516 - val_recall_6: 0.8391\n",
      "Epoch 14/100\n",
      "100/100 [==============================] - 38s 375ms/step - loss: 0.2053 - accuracy: 0.9346 - precision_6: 0.9387 - recall_6: 0.9302 - val_loss: 0.6532 - val_accuracy: 0.8231 - val_precision_6: 0.8337 - val_recall_6: 0.8128\n",
      "Epoch 15/100\n",
      "100/100 [==============================] - 38s 376ms/step - loss: 0.1737 - accuracy: 0.9456 - precision_6: 0.9490 - recall_6: 0.9419 - val_loss: 0.6849 - val_accuracy: 0.8241 - val_precision_6: 0.8372 - val_recall_6: 0.8181\n",
      "Epoch 16/100\n",
      "100/100 [==============================] - 38s 375ms/step - loss: 0.1462 - accuracy: 0.9545 - precision_6: 0.9572 - recall_6: 0.9525 - val_loss: 0.6451 - val_accuracy: 0.8506 - val_precision_6: 0.8550 - val_recall_6: 0.8478\n",
      "Epoch 17/100\n",
      "100/100 [==============================] - 38s 374ms/step - loss: 0.1280 - accuracy: 0.9585 - precision_6: 0.9604 - recall_6: 0.9568 - val_loss: 0.7538 - val_accuracy: 0.8431 - val_precision_6: 0.8480 - val_recall_6: 0.8403\n",
      "Epoch 18/100\n",
      "100/100 [==============================] - 38s 376ms/step - loss: 0.1069 - accuracy: 0.9654 - precision_6: 0.9670 - recall_6: 0.9635 - val_loss: 0.7461 - val_accuracy: 0.8459 - val_precision_6: 0.8487 - val_recall_6: 0.8431\n",
      "Epoch 19/100\n",
      "100/100 [==============================] - ETA: 0s - loss: 0.0794 - accuracy: 0.9748 - precision_6: 0.9754 - recall_6: 0.9741Restoring model weights from the end of the best epoch: 9.\n",
      "100/100 [==============================] - 38s 374ms/step - loss: 0.0794 - accuracy: 0.9748 - precision_6: 0.9754 - recall_6: 0.9741 - val_loss: 0.7733 - val_accuracy: 0.8397 - val_precision_6: 0.8447 - val_recall_6: 0.8378\n",
      "Epoch 19: early stopping\n"
     ]
    }
   ],
   "source": [
    "results = model.fit(train_generator,\n",
    "                    steps_per_epoch=100,  # Number of training samples to pull per epoch\n",
    "                    epochs=epochs_to_train,  # Number of epochs\n",
    "                    validation_data=val_generator,\n",
    "                    validation_steps=50,  # Number of validation samples to run validation on\n",
    "                    verbose=1,\n",
    "                    callbacks = [early_stop]\n",
    "                    )"
   ]
  },
  {
   "cell_type": "code",
   "execution_count": 35,
   "id": "13169d60",
   "metadata": {
    "ExecuteTime": {
     "end_time": "2022-05-22T08:27:48.607895Z",
     "start_time": "2022-05-22T08:27:48.402849Z"
    }
   },
   "outputs": [
    {
     "data": {
      "image/png": "[encoded data removed]",
      "text/plain": [
       "<Figure size 720x360 with 2 Axes>"
      ]
     },
     "metadata": {
      "needs_background": "light"
     },
     "output_type": "display_data"
    }
   ],
   "source": [
    "display_model_trainTestGraphs(results)"
   ]
  },
  {
   "cell_type": "code",
   "execution_count": 36,
   "id": "a0618880",
   "metadata": {
    "ExecuteTime": {
     "end_time": "2022-05-22T08:27:50.138567Z",
     "start_time": "2022-05-22T08:27:48.608895Z"
    }
   },
   "outputs": [
    {
     "name": "stderr",
     "output_type": "stream",
     "text": [
      "WARNING:absl:Found untraced functions such as _jit_compiled_convolution_op, _jit_compiled_convolution_op, _jit_compiled_convolution_op, _jit_compiled_convolution_op, _jit_compiled_convolution_op while saving (showing 5 of 8). These functions will not be directly callable after loading.\n"
     ]
    },
    {
     "name": "stdout",
     "output_type": "stream",
     "text": [
      "INFO:tensorflow:Assets written to: tf_Adam_checkpoints/Model_6_VGG_prototype\\assets\n"
     ]
    },
    {
     "name": "stderr",
     "output_type": "stream",
     "text": [
      "INFO:tensorflow:Assets written to: tf_Adam_checkpoints/Model_6_VGG_prototype\\assets\n"
     ]
    }
   ],
   "source": [
    "results.model.save(tf_chkpt_path+'Model_6_VGG_prototype')"
   ]
  },
  {
   "cell_type": "markdown",
   "id": "00c90198",
   "metadata": {},
   "source": [
    "Severe overfitting with no discernable improvement in validaiton losses or accuracy. Maybe "
   ]
  },
  {
   "cell_type": "markdown",
   "id": "59926f42",
   "metadata": {},
   "source": [
    "## Model 7: Reducing conv layers per set"
   ]
  },
  {
   "cell_type": "code",
   "execution_count": 41,
   "id": "5ca2db9d",
   "metadata": {
    "ExecuteTime": {
     "end_time": "2022-05-22T08:45:11.433977Z",
     "start_time": "2022-05-22T08:45:11.343958Z"
    }
   },
   "outputs": [
    {
     "name": "stdout",
     "output_type": "stream",
     "text": [
      "Model: \"sequential_8\"\n",
      "_________________________________________________________________\n",
      " Layer (type)                Output Shape              Param #   \n",
      "=================================================================\n",
      " conv2d_39 (Conv2D)          (None, 225, 225, 16)      160       \n",
      "                                                                 \n",
      " max_pooling2d_27 (MaxPoolin  (None, 112, 112, 16)     0         \n",
      " g2D)                                                            \n",
      "                                                                 \n",
      " conv2d_40 (Conv2D)          (None, 110, 110, 64)      9280      \n",
      "                                                                 \n",
      " max_pooling2d_28 (MaxPoolin  (None, 55, 55, 64)       0         \n",
      " g2D)                                                            \n",
      "                                                                 \n",
      " conv2d_41 (Conv2D)          (None, 53, 53, 128)       73856     \n",
      "                                                                 \n",
      " max_pooling2d_29 (MaxPoolin  (None, 26, 26, 128)      0         \n",
      " g2D)                                                            \n",
      "                                                                 \n",
      " conv2d_42 (Conv2D)          (None, 24, 24, 256)       295168    \n",
      "                                                                 \n",
      " max_pooling2d_30 (MaxPoolin  (None, 12, 12, 256)      0         \n",
      " g2D)                                                            \n",
      "                                                                 \n",
      " conv2d_43 (Conv2D)          (None, 10, 10, 512)       1180160   \n",
      "                                                                 \n",
      " max_pooling2d_31 (MaxPoolin  (None, 5, 5, 512)        0         \n",
      " g2D)                                                            \n",
      "                                                                 \n",
      " flatten_8 (Flatten)         (None, 12800)             0         \n",
      "                                                                 \n",
      " dense_21 (Dense)            (None, 1024)              13108224  \n",
      "                                                                 \n",
      " dense_22 (Dense)            (None, 512)               524800    \n",
      "                                                                 \n",
      " dropout_3 (Dropout)         (None, 512)               0         \n",
      "                                                                 \n",
      " dense_23 (Dense)            (None, 8)                 4104      \n",
      "                                                                 \n",
      "=================================================================\n",
      "Total params: 15,195,752\n",
      "Trainable params: 15,195,752\n",
      "Non-trainable params: 0\n",
      "_________________________________________________________________\n"
     ]
    }
   ],
   "source": [
    "model = models.Sequential()\n",
    "\n",
    "model.add(layers.Conv2D(filters=16,\n",
    "                       kernel_size=3,\n",
    "                       activation='relu',\n",
    "                       input_shape=(227,227,1)))\n",
    "model.add(layers.MaxPooling2D(2,2))\n",
    "\n",
    "model.add(layers.Conv2D(64, 3, activation='relu'))\n",
    "model.add(layers.MaxPooling2D(2,2))\n",
    "\n",
    "model.add(layers.Conv2D(128, 3, activation='relu'))\n",
    "model.add(layers.MaxPooling2D(2,2))\n",
    "\n",
    "model.add(layers.Conv2D(256, 3, activation='relu'))\n",
    "model.add(layers.MaxPooling2D(2,2))\n",
    "\n",
    "model.add(layers.Conv2D(512, 3, activation='relu'))\n",
    "model.add(layers.MaxPooling2D(2,2))\n",
    "\n",
    "model.add(layers.Flatten())\n",
    "model.add(layers.Dense(1024, activation='relu'))\n",
    "model.add(layers.Dense(512, activation='relu'))\n",
    "model.add(layers.Dropout(rate=0.5))\n",
    "model.add(layers.Dense(8, activation='softmax'))\n",
    "\n",
    "\n",
    "model.compile(optimizer=optimizers.Adam(learning_rate=0.001),\n",
    "              loss=losses.CategoricalCrossentropy(),\n",
    "              metrics=['accuracy', Precision(), Recall()])\n",
    "\n",
    "\n",
    "model.summary()"
   ]
  },
  {
   "cell_type": "code",
   "execution_count": 42,
   "id": "a5fe2bdb",
   "metadata": {
    "ExecuteTime": {
     "end_time": "2022-05-22T08:53:48.904699Z",
     "start_time": "2022-05-22T08:45:11.434978Z"
    }
   },
   "outputs": [
    {
     "name": "stdout",
     "output_type": "stream",
     "text": [
      "Epoch 1/100\n",
      "100/100 [==============================] - 24s 215ms/step - loss: 0.9011 - accuracy: 0.8101 - precision_8: 0.8181 - recall_8: 0.7551 - val_loss: 0.8619 - val_accuracy: 0.7912 - val_precision_8: 0.7912 - val_recall_8: 0.7912\n",
      "Epoch 2/100\n",
      "100/100 [==============================] - 20s 203ms/step - loss: 0.7551 - accuracy: 0.8187 - precision_8: 0.8295 - recall_8: 0.8079 - val_loss: 0.8846 - val_accuracy: 0.7828 - val_precision_8: 0.7904 - val_recall_8: 0.7544\n",
      "Epoch 3/100\n",
      "100/100 [==============================] - 20s 203ms/step - loss: 0.5845 - accuracy: 0.8374 - precision_8: 0.8679 - recall_8: 0.8096 - val_loss: 0.7323 - val_accuracy: 0.8025 - val_precision_8: 0.8194 - val_recall_8: 0.7856\n",
      "Epoch 4/100\n",
      "100/100 [==============================] - 21s 205ms/step - loss: 0.4737 - accuracy: 0.8646 - precision_8: 0.8858 - recall_8: 0.8428 - val_loss: 0.6503 - val_accuracy: 0.7934 - val_precision_8: 0.8192 - val_recall_8: 0.7703\n",
      "Epoch 5/100\n",
      "100/100 [==============================] - 20s 204ms/step - loss: 0.4013 - accuracy: 0.8839 - precision_8: 0.8986 - recall_8: 0.8670 - val_loss: 0.6097 - val_accuracy: 0.8138 - val_precision_8: 0.8285 - val_recall_8: 0.8016\n",
      "Epoch 6/100\n",
      "100/100 [==============================] - 20s 204ms/step - loss: 0.3588 - accuracy: 0.8940 - precision_8: 0.9038 - recall_8: 0.8813 - val_loss: 0.6461 - val_accuracy: 0.8256 - val_precision_8: 0.8336 - val_recall_8: 0.8219\n",
      "Epoch 7/100\n",
      "100/100 [==============================] - 21s 205ms/step - loss: 0.3340 - accuracy: 0.9002 - precision_8: 0.9100 - recall_8: 0.8898 - val_loss: 0.5870 - val_accuracy: 0.8209 - val_precision_8: 0.8345 - val_recall_8: 0.8050\n",
      "Epoch 8/100\n",
      "100/100 [==============================] - 21s 205ms/step - loss: 0.2925 - accuracy: 0.9126 - precision_8: 0.9197 - recall_8: 0.9054 - val_loss: 0.5289 - val_accuracy: 0.8350 - val_precision_8: 0.8530 - val_recall_8: 0.8272\n",
      "Epoch 9/100\n",
      "100/100 [==============================] - 20s 204ms/step - loss: 0.2528 - accuracy: 0.9247 - precision_8: 0.9318 - recall_8: 0.9183 - val_loss: 0.5630 - val_accuracy: 0.8331 - val_precision_8: 0.8459 - val_recall_8: 0.8250\n",
      "Epoch 10/100\n",
      "100/100 [==============================] - 21s 205ms/step - loss: 0.2239 - accuracy: 0.9309 - precision_8: 0.9373 - recall_8: 0.9253 - val_loss: 0.5352 - val_accuracy: 0.8581 - val_precision_8: 0.8619 - val_recall_8: 0.8544\n",
      "Epoch 11/100\n",
      "100/100 [==============================] - 21s 204ms/step - loss: 0.1992 - accuracy: 0.9389 - precision_8: 0.9438 - recall_8: 0.9352 - val_loss: 0.5433 - val_accuracy: 0.8475 - val_precision_8: 0.8560 - val_recall_8: 0.8431\n",
      "Epoch 12/100\n",
      "100/100 [==============================] - 21s 205ms/step - loss: 0.1685 - accuracy: 0.9469 - precision_8: 0.9508 - recall_8: 0.9435 - val_loss: 0.5915 - val_accuracy: 0.8516 - val_precision_8: 0.8575 - val_recall_8: 0.8459\n",
      "Epoch 13/100\n",
      "100/100 [==============================] - 21s 206ms/step - loss: 0.1539 - accuracy: 0.9525 - precision_8: 0.9553 - recall_8: 0.9492 - val_loss: 0.5042 - val_accuracy: 0.8741 - val_precision_8: 0.8783 - val_recall_8: 0.8709\n",
      "Epoch 14/100\n",
      "100/100 [==============================] - 21s 204ms/step - loss: 0.1309 - accuracy: 0.9584 - precision_8: 0.9612 - recall_8: 0.9556 - val_loss: 0.5924 - val_accuracy: 0.8331 - val_precision_8: 0.8409 - val_recall_8: 0.8272\n",
      "Epoch 15/100\n",
      "100/100 [==============================] - 21s 205ms/step - loss: 0.1194 - accuracy: 0.9638 - precision_8: 0.9662 - recall_8: 0.9618 - val_loss: 0.4887 - val_accuracy: 0.8872 - val_precision_8: 0.8881 - val_recall_8: 0.8856\n",
      "Epoch 16/100\n",
      "100/100 [==============================] - 21s 205ms/step - loss: 0.0876 - accuracy: 0.9725 - precision_8: 0.9740 - recall_8: 0.9712 - val_loss: 0.6600 - val_accuracy: 0.8634 - val_precision_8: 0.8657 - val_recall_8: 0.8619\n",
      "Epoch 17/100\n",
      "100/100 [==============================] - 21s 204ms/step - loss: 0.0837 - accuracy: 0.9734 - precision_8: 0.9747 - recall_8: 0.9721 - val_loss: 0.6366 - val_accuracy: 0.8716 - val_precision_8: 0.8734 - val_recall_8: 0.8684\n",
      "Epoch 18/100\n",
      "100/100 [==============================] - 21s 205ms/step - loss: 0.0768 - accuracy: 0.9759 - precision_8: 0.9770 - recall_8: 0.9750 - val_loss: 0.5782 - val_accuracy: 0.8606 - val_precision_8: 0.8651 - val_recall_8: 0.8594\n",
      "Epoch 19/100\n",
      "100/100 [==============================] - 21s 204ms/step - loss: 0.0562 - accuracy: 0.9812 - precision_8: 0.9817 - recall_8: 0.9804 - val_loss: 0.7192 - val_accuracy: 0.8669 - val_precision_8: 0.8695 - val_recall_8: 0.8641\n",
      "Epoch 20/100\n",
      "100/100 [==============================] - 21s 205ms/step - loss: 0.0593 - accuracy: 0.9806 - precision_8: 0.9815 - recall_8: 0.9796 - val_loss: 0.6143 - val_accuracy: 0.8650 - val_precision_8: 0.8695 - val_recall_8: 0.8619\n",
      "Epoch 21/100\n",
      "100/100 [==============================] - 21s 204ms/step - loss: 0.0485 - accuracy: 0.9851 - precision_8: 0.9857 - recall_8: 0.9844 - val_loss: 0.7819 - val_accuracy: 0.8897 - val_precision_8: 0.8905 - val_recall_8: 0.8891\n",
      "Epoch 22/100\n",
      "100/100 [==============================] - 21s 204ms/step - loss: 0.0440 - accuracy: 0.9848 - precision_8: 0.9856 - recall_8: 0.9842 - val_loss: 0.8173 - val_accuracy: 0.8813 - val_precision_8: 0.8822 - val_recall_8: 0.8800\n",
      "Epoch 23/100\n",
      "100/100 [==============================] - 21s 205ms/step - loss: 0.0457 - accuracy: 0.9856 - precision_8: 0.9861 - recall_8: 0.9849 - val_loss: 0.7540 - val_accuracy: 0.8725 - val_precision_8: 0.8747 - val_recall_8: 0.8706\n",
      "Epoch 24/100\n",
      "100/100 [==============================] - 21s 205ms/step - loss: 0.0277 - accuracy: 0.9913 - precision_8: 0.9915 - recall_8: 0.9910 - val_loss: 0.8631 - val_accuracy: 0.8741 - val_precision_8: 0.8756 - val_recall_8: 0.8731\n",
      "Epoch 25/100\n",
      "100/100 [==============================] - ETA: 0s - loss: 0.0252 - accuracy: 0.9913 - precision_8: 0.9916 - recall_8: 0.9910Restoring model weights from the end of the best epoch: 15.\n",
      "100/100 [==============================] - 21s 205ms/step - loss: 0.0252 - accuracy: 0.9913 - precision_8: 0.9916 - recall_8: 0.9910 - val_loss: 0.6947 - val_accuracy: 0.8781 - val_precision_8: 0.8800 - val_recall_8: 0.8778\n",
      "Epoch 25: early stopping\n"
     ]
    }
   ],
   "source": [
    "results = model.fit(train_generator,\n",
    "                    steps_per_epoch=100,  # Number of training samples to pull per epoch\n",
    "                    epochs=epochs_to_train,  # Number of epochs\n",
    "                    validation_data=val_generator,\n",
    "                    validation_steps=50,  # Number of validation samples to run validation on\n",
    "                    verbose=1,\n",
    "                    callbacks = [early_stop]\n",
    "                    )"
   ]
  },
  {
   "cell_type": "code",
   "execution_count": 43,
   "id": "6b2708c1",
   "metadata": {
    "ExecuteTime": {
     "end_time": "2022-05-22T08:53:49.093742Z",
     "start_time": "2022-05-22T08:53:48.905699Z"
    }
   },
   "outputs": [
    {
     "data": {
      "image/png": "[encoded data removed]",
      "text/plain": [
       "<Figure size 720x360 with 2 Axes>"
      ]
     },
     "metadata": {
      "needs_background": "light"
     },
     "output_type": "display_data"
    }
   ],
   "source": [
    "display_model_trainTestGraphs(results)"
   ]
  },
  {
   "cell_type": "code",
   "execution_count": 44,
   "id": "b92e79a1",
   "metadata": {
    "ExecuteTime": {
     "end_time": "2022-05-22T08:53:50.316156Z",
     "start_time": "2022-05-22T08:53:49.094742Z"
    },
    "scrolled": false
   },
   "outputs": [
    {
     "name": "stderr",
     "output_type": "stream",
     "text": [
      "WARNING:absl:Found untraced functions such as _jit_compiled_convolution_op, _jit_compiled_convolution_op, _jit_compiled_convolution_op, _jit_compiled_convolution_op, _jit_compiled_convolution_op while saving (showing 5 of 5). These functions will not be directly callable after loading.\n"
     ]
    },
    {
     "name": "stdout",
     "output_type": "stream",
     "text": [
      "INFO:tensorflow:Assets written to: tf_Adam_checkpoints/Model_7a_VGG_1convPer\\assets\n"
     ]
    },
    {
     "name": "stderr",
     "output_type": "stream",
     "text": [
      "INFO:tensorflow:Assets written to: tf_Adam_checkpoints/Model_7a_VGG_1convPer\\assets\n"
     ]
    }
   ],
   "source": [
    "results.model.save(tf_chkpt_path+'Model_7a_VGG_1convPer')"
   ]
  },
  {
   "cell_type": "markdown",
   "id": "64fdab4f",
   "metadata": {},
   "source": [
    "Validation loss further reduced, with the lowest recorded 0.5598. And more importantly its holding and not drastically increasing again again."
   ]
  },
  {
   "cell_type": "code",
   "execution_count": null,
   "id": "b1a8cca0",
   "metadata": {},
   "outputs": [],
   "source": []
  },
  {
   "cell_type": "markdown",
   "id": "d38a2845",
   "metadata": {},
   "source": [
    "### Reducing learning rate"
   ]
  },
  {
   "cell_type": "markdown",
   "id": "fe0e1f90",
   "metadata": {},
   "source": [
    "Going to rerun the previous model, but reducing learning rate. Intuition being a more granular descent might help with the erratic validation scores."
   ]
  },
  {
   "cell_type": "code",
   "execution_count": 45,
   "id": "07f773a4",
   "metadata": {
    "ExecuteTime": {
     "end_time": "2022-05-22T08:53:50.395175Z",
     "start_time": "2022-05-22T08:53:50.317174Z"
    }
   },
   "outputs": [
    {
     "name": "stdout",
     "output_type": "stream",
     "text": [
      "Model: \"sequential_9\"\n",
      "_________________________________________________________________\n",
      " Layer (type)                Output Shape              Param #   \n",
      "=================================================================\n",
      " conv2d_44 (Conv2D)          (None, 225, 225, 16)      160       \n",
      "                                                                 \n",
      " max_pooling2d_32 (MaxPoolin  (None, 112, 112, 16)     0         \n",
      " g2D)                                                            \n",
      "                                                                 \n",
      " conv2d_45 (Conv2D)          (None, 110, 110, 64)      9280      \n",
      "                                                                 \n",
      " max_pooling2d_33 (MaxPoolin  (None, 55, 55, 64)       0         \n",
      " g2D)                                                            \n",
      "                                                                 \n",
      " conv2d_46 (Conv2D)          (None, 53, 53, 128)       73856     \n",
      "                                                                 \n",
      " max_pooling2d_34 (MaxPoolin  (None, 26, 26, 128)      0         \n",
      " g2D)                                                            \n",
      "                                                                 \n",
      " conv2d_47 (Conv2D)          (None, 24, 24, 256)       295168    \n",
      "                                                                 \n",
      " max_pooling2d_35 (MaxPoolin  (None, 12, 12, 256)      0         \n",
      " g2D)                                                            \n",
      "                                                                 \n",
      " conv2d_48 (Conv2D)          (None, 10, 10, 512)       1180160   \n",
      "                                                                 \n",
      " max_pooling2d_36 (MaxPoolin  (None, 5, 5, 512)        0         \n",
      " g2D)                                                            \n",
      "                                                                 \n",
      " flatten_9 (Flatten)         (None, 12800)             0         \n",
      "                                                                 \n",
      " dense_24 (Dense)            (None, 1024)              13108224  \n",
      "                                                                 \n",
      " dense_25 (Dense)            (None, 512)               524800    \n",
      "                                                                 \n",
      " dropout_4 (Dropout)         (None, 512)               0         \n",
      "                                                                 \n",
      " dense_26 (Dense)            (None, 8)                 4104      \n",
      "                                                                 \n",
      "=================================================================\n",
      "Total params: 15,195,752\n",
      "Trainable params: 15,195,752\n",
      "Non-trainable params: 0\n",
      "_________________________________________________________________\n"
     ]
    }
   ],
   "source": [
    "model = models.Sequential()\n",
    "\n",
    "model.add(layers.Conv2D(filters=16,\n",
    "                       kernel_size=3,\n",
    "                       activation='relu',\n",
    "                       input_shape=(227,227,1)))\n",
    "model.add(layers.MaxPooling2D(2,2))\n",
    "\n",
    "model.add(layers.Conv2D(64, 3, activation='relu'))\n",
    "model.add(layers.MaxPooling2D(2,2))\n",
    "\n",
    "model.add(layers.Conv2D(128, 3, activation='relu'))\n",
    "model.add(layers.MaxPooling2D(2,2))\n",
    "\n",
    "model.add(layers.Conv2D(256, 3, activation='relu'))\n",
    "model.add(layers.MaxPooling2D(2,2))\n",
    "\n",
    "model.add(layers.Conv2D(512, 3, activation='relu'))\n",
    "model.add(layers.MaxPooling2D(2,2))\n",
    "\n",
    "model.add(layers.Flatten())\n",
    "model.add(layers.Dense(1024, activation='relu'))\n",
    "model.add(layers.Dense(512, activation='relu'))\n",
    "model.add(layers.Dropout(rate=0.5))\n",
    "model.add(layers.Dense(8, activation='softmax'))\n",
    "\n",
    "\n",
    "model.compile(optimizer=optimizers.Adam(learning_rate=0.0001),\n",
    "              loss=losses.CategoricalCrossentropy(),\n",
    "              metrics=['accuracy', Precision(), Recall()])\n",
    "\n",
    "\n",
    "model.summary()"
   ]
  },
  {
   "cell_type": "code",
   "execution_count": 46,
   "id": "5ba6c809",
   "metadata": {
    "ExecuteTime": {
     "end_time": "2022-05-22T09:07:21.896034Z",
     "start_time": "2022-05-22T08:53:50.396176Z"
    }
   },
   "outputs": [
    {
     "name": "stdout",
     "output_type": "stream",
     "text": [
      "Epoch 1/100\n",
      "100/100 [==============================] - 23s 227ms/step - loss: 0.9053 - accuracy: 0.8094 - precision_9: 0.8185 - recall_9: 0.7443 - val_loss: 0.8773 - val_accuracy: 0.7872 - val_precision_9: 0.7874 - val_recall_9: 0.7872\n",
      "Epoch 2/100\n",
      "100/100 [==============================] - 22s 223ms/step - loss: 0.7249 - accuracy: 0.8194 - precision_9: 0.8322 - recall_9: 0.8069 - val_loss: 0.8154 - val_accuracy: 0.7773 - val_precision_9: 0.7913 - val_recall_9: 0.7670\n",
      "Epoch 3/100\n",
      "100/100 [==============================] - 22s 223ms/step - loss: 0.6296 - accuracy: 0.8350 - precision_9: 0.8577 - recall_9: 0.8104 - val_loss: 0.7752 - val_accuracy: 0.7859 - val_precision_9: 0.8075 - val_recall_9: 0.7661\n",
      "Epoch 4/100\n",
      "100/100 [==============================] - 23s 232ms/step - loss: 0.5655 - accuracy: 0.8497 - precision_9: 0.8692 - recall_9: 0.8277 - val_loss: 0.7598 - val_accuracy: 0.7853 - val_precision_9: 0.8081 - val_recall_9: 0.7586\n",
      "Epoch 5/100\n",
      "100/100 [==============================] - 23s 224ms/step - loss: 0.5320 - accuracy: 0.8558 - precision_9: 0.8762 - recall_9: 0.8357 - val_loss: 0.7486 - val_accuracy: 0.7758 - val_precision_9: 0.8155 - val_recall_9: 0.7230\n",
      "Epoch 6/100\n",
      "100/100 [==============================] - 22s 224ms/step - loss: 0.4885 - accuracy: 0.8636 - precision_9: 0.8809 - recall_9: 0.8468 - val_loss: 0.6847 - val_accuracy: 0.7953 - val_precision_9: 0.8271 - val_recall_9: 0.7641\n",
      "Epoch 7/100\n",
      "100/100 [==============================] - 22s 224ms/step - loss: 0.4499 - accuracy: 0.8715 - precision_9: 0.8885 - recall_9: 0.8539 - val_loss: 0.6772 - val_accuracy: 0.8055 - val_precision_9: 0.8182 - val_recall_9: 0.7864\n",
      "Epoch 8/100\n",
      "100/100 [==============================] - 23s 226ms/step - loss: 0.4234 - accuracy: 0.8776 - precision_9: 0.8938 - recall_9: 0.8577 - val_loss: 0.6276 - val_accuracy: 0.8177 - val_precision_9: 0.8326 - val_recall_9: 0.8027\n",
      "Epoch 9/100\n",
      "100/100 [==============================] - 23s 225ms/step - loss: 0.4116 - accuracy: 0.8793 - precision_9: 0.8976 - recall_9: 0.8602 - val_loss: 0.5970 - val_accuracy: 0.8225 - val_precision_9: 0.8346 - val_recall_9: 0.8067\n",
      "Epoch 10/100\n",
      "100/100 [==============================] - 23s 225ms/step - loss: 0.3962 - accuracy: 0.8821 - precision_9: 0.8974 - recall_9: 0.8648 - val_loss: 0.6170 - val_accuracy: 0.8195 - val_precision_9: 0.8328 - val_recall_9: 0.7962\n",
      "Epoch 11/100\n",
      "100/100 [==============================] - 22s 222ms/step - loss: 0.3681 - accuracy: 0.8871 - precision_9: 0.9026 - recall_9: 0.8714 - val_loss: 0.6178 - val_accuracy: 0.8170 - val_precision_9: 0.8404 - val_recall_9: 0.7892\n",
      "Epoch 12/100\n",
      "100/100 [==============================] - 22s 224ms/step - loss: 0.3463 - accuracy: 0.8940 - precision_9: 0.9084 - recall_9: 0.8806 - val_loss: 0.6175 - val_accuracy: 0.8306 - val_precision_9: 0.8400 - val_recall_9: 0.8220\n",
      "Epoch 13/100\n",
      "100/100 [==============================] - 22s 223ms/step - loss: 0.3388 - accuracy: 0.8962 - precision_9: 0.9082 - recall_9: 0.8836 - val_loss: 0.6103 - val_accuracy: 0.8314 - val_precision_9: 0.8370 - val_recall_9: 0.8230\n",
      "Epoch 14/100\n",
      "100/100 [==============================] - 22s 224ms/step - loss: 0.3249 - accuracy: 0.9014 - precision_9: 0.9130 - recall_9: 0.8896 - val_loss: 0.6136 - val_accuracy: 0.8189 - val_precision_9: 0.8347 - val_recall_9: 0.8055\n",
      "Epoch 15/100\n",
      "100/100 [==============================] - 22s 223ms/step - loss: 0.3081 - accuracy: 0.9044 - precision_9: 0.9166 - recall_9: 0.8923 - val_loss: 0.6227 - val_accuracy: 0.8141 - val_precision_9: 0.8269 - val_recall_9: 0.8030\n",
      "Epoch 16/100\n",
      "100/100 [==============================] - 22s 224ms/step - loss: 0.2975 - accuracy: 0.9095 - precision_9: 0.9203 - recall_9: 0.8976 - val_loss: 0.6155 - val_accuracy: 0.8292 - val_precision_9: 0.8387 - val_recall_9: 0.8216\n",
      "Epoch 17/100\n",
      "100/100 [==============================] - 22s 223ms/step - loss: 0.2837 - accuracy: 0.9121 - precision_9: 0.9220 - recall_9: 0.9021 - val_loss: 0.5657 - val_accuracy: 0.8236 - val_precision_9: 0.8421 - val_recall_9: 0.8031\n",
      "Epoch 18/100\n",
      "100/100 [==============================] - 22s 224ms/step - loss: 0.2768 - accuracy: 0.9129 - precision_9: 0.9219 - recall_9: 0.9036 - val_loss: 0.5801 - val_accuracy: 0.8358 - val_precision_9: 0.8408 - val_recall_9: 0.8286\n",
      "Epoch 19/100\n",
      "100/100 [==============================] - 23s 224ms/step - loss: 0.2644 - accuracy: 0.9193 - precision_9: 0.9276 - recall_9: 0.9100 - val_loss: 0.5916 - val_accuracy: 0.8402 - val_precision_9: 0.8499 - val_recall_9: 0.8353\n",
      "Epoch 20/100\n",
      "100/100 [==============================] - 22s 224ms/step - loss: 0.2575 - accuracy: 0.9188 - precision_9: 0.9271 - recall_9: 0.9103 - val_loss: 0.5626 - val_accuracy: 0.8448 - val_precision_9: 0.8558 - val_recall_9: 0.8355\n",
      "Epoch 21/100\n",
      "100/100 [==============================] - 23s 224ms/step - loss: 0.2600 - accuracy: 0.9171 - precision_9: 0.9257 - recall_9: 0.9089 - val_loss: 0.5520 - val_accuracy: 0.8367 - val_precision_9: 0.8508 - val_recall_9: 0.8233\n",
      "Epoch 22/100\n",
      "100/100 [==============================] - 23s 225ms/step - loss: 0.2330 - accuracy: 0.9270 - precision_9: 0.9339 - recall_9: 0.9200 - val_loss: 0.5790 - val_accuracy: 0.8498 - val_precision_9: 0.8589 - val_recall_9: 0.8428\n",
      "Epoch 23/100\n",
      "100/100 [==============================] - 22s 222ms/step - loss: 0.2244 - accuracy: 0.9276 - precision_9: 0.9339 - recall_9: 0.9205 - val_loss: 0.5745 - val_accuracy: 0.8330 - val_precision_9: 0.8454 - val_recall_9: 0.8239\n",
      "Epoch 24/100\n",
      "100/100 [==============================] - 22s 222ms/step - loss: 0.2078 - accuracy: 0.9334 - precision_9: 0.9391 - recall_9: 0.9264 - val_loss: 0.5657 - val_accuracy: 0.8495 - val_precision_9: 0.8598 - val_recall_9: 0.8388\n",
      "Epoch 25/100\n",
      "100/100 [==============================] - 22s 224ms/step - loss: 0.2051 - accuracy: 0.9353 - precision_9: 0.9412 - recall_9: 0.9293 - val_loss: 0.5335 - val_accuracy: 0.8523 - val_precision_9: 0.8624 - val_recall_9: 0.8448\n",
      "Epoch 26/100\n",
      "100/100 [==============================] - 22s 223ms/step - loss: 0.2012 - accuracy: 0.9349 - precision_9: 0.9402 - recall_9: 0.9288 - val_loss: 0.5153 - val_accuracy: 0.8572 - val_precision_9: 0.8690 - val_recall_9: 0.8517\n",
      "Epoch 27/100\n",
      "100/100 [==============================] - 22s 224ms/step - loss: 0.1770 - accuracy: 0.9433 - precision_9: 0.9481 - recall_9: 0.9391 - val_loss: 0.5807 - val_accuracy: 0.8434 - val_precision_9: 0.8529 - val_recall_9: 0.8370\n",
      "Epoch 28/100\n",
      "100/100 [==============================] - 22s 224ms/step - loss: 0.1708 - accuracy: 0.9459 - precision_9: 0.9504 - recall_9: 0.9415 - val_loss: 0.5634 - val_accuracy: 0.8497 - val_precision_9: 0.8581 - val_recall_9: 0.8420\n",
      "Epoch 29/100\n",
      "100/100 [==============================] - 23s 225ms/step - loss: 0.1817 - accuracy: 0.9425 - precision_9: 0.9469 - recall_9: 0.9367 - val_loss: 0.5650 - val_accuracy: 0.8333 - val_precision_9: 0.8431 - val_recall_9: 0.8197\n",
      "Epoch 30/100\n",
      "100/100 [==============================] - 23s 224ms/step - loss: 0.1561 - accuracy: 0.9516 - precision_9: 0.9555 - recall_9: 0.9473 - val_loss: 0.5851 - val_accuracy: 0.8453 - val_precision_9: 0.8512 - val_recall_9: 0.8411\n",
      "Epoch 31/100\n",
      "100/100 [==============================] - 22s 224ms/step - loss: 0.1468 - accuracy: 0.9560 - precision_9: 0.9587 - recall_9: 0.9516 - val_loss: 0.5740 - val_accuracy: 0.8517 - val_precision_9: 0.8589 - val_recall_9: 0.8464\n",
      "Epoch 32/100\n",
      "100/100 [==============================] - 23s 224ms/step - loss: 0.1408 - accuracy: 0.9536 - precision_9: 0.9570 - recall_9: 0.9502 - val_loss: 0.5953 - val_accuracy: 0.8550 - val_precision_9: 0.8617 - val_recall_9: 0.8506\n",
      "Epoch 33/100\n",
      "100/100 [==============================] - 22s 224ms/step - loss: 0.1386 - accuracy: 0.9568 - precision_9: 0.9599 - recall_9: 0.9543 - val_loss: 0.5342 - val_accuracy: 0.8506 - val_precision_9: 0.8586 - val_recall_9: 0.8434\n",
      "Epoch 34/100\n",
      "100/100 [==============================] - 23s 224ms/step - loss: 0.1301 - accuracy: 0.9573 - precision_9: 0.9607 - recall_9: 0.9548 - val_loss: 0.6227 - val_accuracy: 0.8545 - val_precision_9: 0.8601 - val_recall_9: 0.8511\n",
      "Epoch 35/100\n",
      "100/100 [==============================] - 22s 224ms/step - loss: 0.1164 - accuracy: 0.9632 - precision_9: 0.9655 - recall_9: 0.9605 - val_loss: 0.5578 - val_accuracy: 0.8447 - val_precision_9: 0.8547 - val_recall_9: 0.8375\n"
     ]
    },
    {
     "name": "stdout",
     "output_type": "stream",
     "text": [
      "Epoch 36/100\n",
      "100/100 [==============================] - ETA: 0s - loss: 0.1135 - accuracy: 0.9640 - precision_9: 0.9658 - recall_9: 0.9616Restoring model weights from the end of the best epoch: 26.\n",
      "100/100 [==============================] - 22s 224ms/step - loss: 0.1135 - accuracy: 0.9640 - precision_9: 0.9658 - recall_9: 0.9616 - val_loss: 0.6185 - val_accuracy: 0.8478 - val_precision_9: 0.8520 - val_recall_9: 0.8445\n",
      "Epoch 36: early stopping\n"
     ]
    }
   ],
   "source": [
    "results = model.fit(train_generator,\n",
    "                    steps_per_epoch=100,  # Number of training samples to pull per epoch\n",
    "                    epochs=epochs_to_train,  # Number of epochs\n",
    "                    validation_data=val_generator,\n",
    "                    validation_steps=100,  # Number of validation samples to run validation on\n",
    "                    verbose=1,\n",
    "                    callbacks = [early_stop]\n",
    "                    )"
   ]
  },
  {
   "cell_type": "code",
   "execution_count": 47,
   "id": "e35d7139",
   "metadata": {
    "ExecuteTime": {
     "end_time": "2022-05-22T09:07:22.325823Z",
     "start_time": "2022-05-22T09:07:21.897038Z"
    }
   },
   "outputs": [
    {
     "data": {
      "image/png": "[encoded data removed]",
      "text/plain": [
       "<Figure size 720x360 with 2 Axes>"
      ]
     },
     "metadata": {
      "needs_background": "light"
     },
     "output_type": "display_data"
    }
   ],
   "source": [
    "display_model_trainTestGraphs(results)"
   ]
  },
  {
   "cell_type": "code",
   "execution_count": 48,
   "id": "e03b7e7b",
   "metadata": {
    "ExecuteTime": {
     "end_time": "2022-05-22T09:07:23.530451Z",
     "start_time": "2022-05-22T09:07:22.326827Z"
    },
    "scrolled": false
   },
   "outputs": [
    {
     "name": "stderr",
     "output_type": "stream",
     "text": [
      "WARNING:absl:Found untraced functions such as _jit_compiled_convolution_op, _jit_compiled_convolution_op, _jit_compiled_convolution_op, _jit_compiled_convolution_op, _jit_compiled_convolution_op while saving (showing 5 of 5). These functions will not be directly callable after loading.\n"
     ]
    },
    {
     "name": "stdout",
     "output_type": "stream",
     "text": [
      "INFO:tensorflow:Assets written to: tf_Adam_checkpoints/Model_7a_VGG_1convPer\\assets\n"
     ]
    },
    {
     "name": "stderr",
     "output_type": "stream",
     "text": [
      "INFO:tensorflow:Assets written to: tf_Adam_checkpoints/Model_7a_VGG_1convPer\\assets\n"
     ]
    }
   ],
   "source": [
    "results.model.save(tf_chkpt_path+'Model_7a_VGG_1convPer')"
   ]
  },
  {
   "cell_type": "markdown",
   "id": "b4e8773b",
   "metadata": {},
   "source": [
    "Learning rate didn't have the desired/expected outcome. Althought validation losses seem to have a smoother descent"
   ]
  },
  {
   "cell_type": "code",
   "execution_count": null,
   "id": "bb7e404b",
   "metadata": {},
   "outputs": [],
   "source": []
  },
  {
   "cell_type": "code",
   "execution_count": null,
   "id": "04e0480b",
   "metadata": {},
   "outputs": [],
   "source": []
  },
  {
   "cell_type": "code",
   "execution_count": null,
   "id": "4730a484",
   "metadata": {},
   "outputs": [],
   "source": []
  },
  {
   "cell_type": "code",
   "execution_count": null,
   "id": "db6eb468",
   "metadata": {},
   "outputs": [],
   "source": []
  },
  {
   "cell_type": "markdown",
   "id": "1e58a499",
   "metadata": {},
   "source": [
    "### Increasing steps per epoch"
   ]
  },
  {
   "cell_type": "markdown",
   "id": "4b31d54c",
   "metadata": {},
   "source": [
    "Keeping the same reduced learning rate but increasing the number of training steps per epoch"
   ]
  },
  {
   "cell_type": "code",
   "execution_count": 49,
   "id": "06dd9ae4",
   "metadata": {
    "ExecuteTime": {
     "end_time": "2022-05-22T09:25:15.466193Z",
     "start_time": "2022-05-22T09:07:23.531466Z"
    },
    "scrolled": false
   },
   "outputs": [
    {
     "name": "stdout",
     "output_type": "stream",
     "text": [
      "Model: \"sequential_10\"\n",
      "_________________________________________________________________\n",
      " Layer (type)                Output Shape              Param #   \n",
      "=================================================================\n",
      " conv2d_49 (Conv2D)          (None, 225, 225, 16)      160       \n",
      "                                                                 \n",
      " max_pooling2d_37 (MaxPoolin  (None, 112, 112, 16)     0         \n",
      " g2D)                                                            \n",
      "                                                                 \n",
      " conv2d_50 (Conv2D)          (None, 110, 110, 64)      9280      \n",
      "                                                                 \n",
      " max_pooling2d_38 (MaxPoolin  (None, 55, 55, 64)       0         \n",
      " g2D)                                                            \n",
      "                                                                 \n",
      " conv2d_51 (Conv2D)          (None, 53, 53, 128)       73856     \n",
      "                                                                 \n",
      " max_pooling2d_39 (MaxPoolin  (None, 26, 26, 128)      0         \n",
      " g2D)                                                            \n",
      "                                                                 \n",
      " conv2d_52 (Conv2D)          (None, 24, 24, 256)       295168    \n",
      "                                                                 \n",
      " max_pooling2d_40 (MaxPoolin  (None, 12, 12, 256)      0         \n",
      " g2D)                                                            \n",
      "                                                                 \n",
      " conv2d_53 (Conv2D)          (None, 10, 10, 512)       1180160   \n",
      "                                                                 \n",
      " max_pooling2d_41 (MaxPoolin  (None, 5, 5, 512)        0         \n",
      " g2D)                                                            \n",
      "                                                                 \n",
      " flatten_10 (Flatten)        (None, 12800)             0         \n",
      "                                                                 \n",
      " dense_27 (Dense)            (None, 1024)              13108224  \n",
      "                                                                 \n",
      " dense_28 (Dense)            (None, 512)               524800    \n",
      "                                                                 \n",
      " dropout_5 (Dropout)         (None, 512)               0         \n",
      "                                                                 \n",
      " dense_29 (Dense)            (None, 8)                 4104      \n",
      "                                                                 \n",
      "=================================================================\n",
      "Total params: 15,195,752\n",
      "Trainable params: 15,195,752\n",
      "Non-trainable params: 0\n",
      "_________________________________________________________________\n",
      "Epoch 1/100\n",
      "200/200 [==============================] - 42s 205ms/step - loss: 0.8111 - accuracy: 0.8154 - precision_10: 0.8258 - recall_10: 0.7756 - val_loss: 0.8020 - val_accuracy: 0.7800 - val_precision_10: 0.8043 - val_recall_10: 0.7494\n",
      "Epoch 2/100\n",
      "200/200 [==============================] - 41s 204ms/step - loss: 0.5887 - accuracy: 0.8401 - precision_10: 0.8655 - recall_10: 0.8156 - val_loss: 0.7639 - val_accuracy: 0.7802 - val_precision_10: 0.8109 - val_recall_10: 0.7456\n",
      "Epoch 3/100\n",
      "200/200 [==============================] - 41s 204ms/step - loss: 0.5056 - accuracy: 0.8583 - precision_10: 0.8796 - recall_10: 0.8353 - val_loss: 0.7000 - val_accuracy: 0.7919 - val_precision_10: 0.8194 - val_recall_10: 0.7634\n",
      "Epoch 4/100\n",
      "200/200 [==============================] - 41s 205ms/step - loss: 0.4355 - accuracy: 0.8720 - precision_10: 0.8911 - recall_10: 0.8529 - val_loss: 0.6818 - val_accuracy: 0.7912 - val_precision_10: 0.8266 - val_recall_10: 0.7433\n",
      "Epoch 5/100\n",
      "200/200 [==============================] - 41s 205ms/step - loss: 0.3936 - accuracy: 0.8805 - precision_10: 0.8979 - recall_10: 0.8630 - val_loss: 0.6582 - val_accuracy: 0.8041 - val_precision_10: 0.8197 - val_recall_10: 0.7848\n",
      "Epoch 6/100\n",
      "200/200 [==============================] - 41s 205ms/step - loss: 0.3585 - accuracy: 0.8902 - precision_10: 0.9051 - recall_10: 0.8742 - val_loss: 0.6612 - val_accuracy: 0.8269 - val_precision_10: 0.8338 - val_recall_10: 0.8208\n",
      "Epoch 7/100\n",
      "200/200 [==============================] - 41s 204ms/step - loss: 0.3301 - accuracy: 0.8981 - precision_10: 0.9105 - recall_10: 0.8848 - val_loss: 0.6274 - val_accuracy: 0.8134 - val_precision_10: 0.8290 - val_recall_10: 0.7978\n",
      "Epoch 8/100\n",
      "200/200 [==============================] - 41s 206ms/step - loss: 0.3065 - accuracy: 0.9054 - precision_10: 0.9161 - recall_10: 0.8943 - val_loss: 0.6024 - val_accuracy: 0.8195 - val_precision_10: 0.8298 - val_recall_10: 0.8095\n",
      "Epoch 9/100\n",
      "200/200 [==============================] - 41s 205ms/step - loss: 0.2873 - accuracy: 0.9104 - precision_10: 0.9205 - recall_10: 0.9004 - val_loss: 0.5911 - val_accuracy: 0.8086 - val_precision_10: 0.8345 - val_recall_10: 0.7841\n",
      "Epoch 10/100\n",
      "200/200 [==============================] - 41s 205ms/step - loss: 0.2702 - accuracy: 0.9151 - precision_10: 0.9242 - recall_10: 0.9060 - val_loss: 0.6045 - val_accuracy: 0.8139 - val_precision_10: 0.8489 - val_recall_10: 0.7706\n",
      "Epoch 11/100\n",
      "200/200 [==============================] - 41s 205ms/step - loss: 0.2492 - accuracy: 0.9218 - precision_10: 0.9293 - recall_10: 0.9137 - val_loss: 0.5695 - val_accuracy: 0.8258 - val_precision_10: 0.8419 - val_recall_10: 0.8056\n",
      "Epoch 12/100\n",
      "200/200 [==============================] - 41s 206ms/step - loss: 0.2364 - accuracy: 0.9251 - precision_10: 0.9325 - recall_10: 0.9178 - val_loss: 0.5679 - val_accuracy: 0.8411 - val_precision_10: 0.8520 - val_recall_10: 0.8323\n",
      "Epoch 13/100\n",
      "200/200 [==============================] - 41s 205ms/step - loss: 0.2136 - accuracy: 0.9320 - precision_10: 0.9381 - recall_10: 0.9259 - val_loss: 0.5659 - val_accuracy: 0.8300 - val_precision_10: 0.8428 - val_recall_10: 0.8152\n",
      "Epoch 14/100\n",
      "200/200 [==============================] - 41s 205ms/step - loss: 0.1954 - accuracy: 0.9375 - precision_10: 0.9432 - recall_10: 0.9322 - val_loss: 0.5976 - val_accuracy: 0.8459 - val_precision_10: 0.8556 - val_recall_10: 0.8405\n",
      "Epoch 15/100\n",
      "200/200 [==============================] - 41s 205ms/step - loss: 0.1822 - accuracy: 0.9419 - precision_10: 0.9469 - recall_10: 0.9371 - val_loss: 0.5899 - val_accuracy: 0.8452 - val_precision_10: 0.8520 - val_recall_10: 0.8389\n",
      "Epoch 16/100\n",
      "200/200 [==============================] - 41s 206ms/step - loss: 0.1625 - accuracy: 0.9486 - precision_10: 0.9523 - recall_10: 0.9442 - val_loss: 0.5230 - val_accuracy: 0.8558 - val_precision_10: 0.8681 - val_recall_10: 0.8483\n",
      "Epoch 17/100\n",
      "200/200 [==============================] - 41s 206ms/step - loss: 0.1505 - accuracy: 0.9524 - precision_10: 0.9558 - recall_10: 0.9491 - val_loss: 0.5732 - val_accuracy: 0.8495 - val_precision_10: 0.8582 - val_recall_10: 0.8409\n",
      "Epoch 18/100\n",
      "200/200 [==============================] - 41s 206ms/step - loss: 0.1361 - accuracy: 0.9569 - precision_10: 0.9599 - recall_10: 0.9537 - val_loss: 0.6033 - val_accuracy: 0.8445 - val_precision_10: 0.8518 - val_recall_10: 0.8391\n",
      "Epoch 19/100\n",
      "200/200 [==============================] - 41s 205ms/step - loss: 0.1232 - accuracy: 0.9605 - precision_10: 0.9632 - recall_10: 0.9581 - val_loss: 0.5283 - val_accuracy: 0.8573 - val_precision_10: 0.8661 - val_recall_10: 0.8508\n",
      "Epoch 20/100\n",
      "200/200 [==============================] - 41s 206ms/step - loss: 0.1050 - accuracy: 0.9659 - precision_10: 0.9682 - recall_10: 0.9638 - val_loss: 0.5621 - val_accuracy: 0.8464 - val_precision_10: 0.8541 - val_recall_10: 0.8400\n",
      "Epoch 21/100\n",
      "200/200 [==============================] - 41s 205ms/step - loss: 0.0934 - accuracy: 0.9692 - precision_10: 0.9710 - recall_10: 0.9675 - val_loss: 0.5877 - val_accuracy: 0.8605 - val_precision_10: 0.8658 - val_recall_10: 0.8577\n",
      "Epoch 22/100\n",
      "200/200 [==============================] - 41s 206ms/step - loss: 0.0755 - accuracy: 0.9759 - precision_10: 0.9774 - recall_10: 0.9746 - val_loss: 0.6383 - val_accuracy: 0.8589 - val_precision_10: 0.8636 - val_recall_10: 0.8564\n",
      "Epoch 23/100\n",
      "200/200 [==============================] - 41s 205ms/step - loss: 0.0667 - accuracy: 0.9784 - precision_10: 0.9793 - recall_10: 0.9774 - val_loss: 0.6775 - val_accuracy: 0.8648 - val_precision_10: 0.8669 - val_recall_10: 0.8628\n"
     ]
    },
    {
     "name": "stdout",
     "output_type": "stream",
     "text": [
      "Epoch 24/100\n",
      "200/200 [==============================] - 41s 207ms/step - loss: 0.0585 - accuracy: 0.9815 - precision_10: 0.9826 - recall_10: 0.9805 - val_loss: 0.6416 - val_accuracy: 0.8498 - val_precision_10: 0.8542 - val_recall_10: 0.8456\n",
      "Epoch 25/100\n",
      "200/200 [==============================] - 41s 205ms/step - loss: 0.0461 - accuracy: 0.9856 - precision_10: 0.9863 - recall_10: 0.9849 - val_loss: 0.7193 - val_accuracy: 0.8567 - val_precision_10: 0.8619 - val_recall_10: 0.8534\n",
      "Epoch 26/100\n",
      "200/200 [==============================] - ETA: 0s - loss: 0.0416 - accuracy: 0.9866 - precision_10: 0.9872 - recall_10: 0.9859Restoring model weights from the end of the best epoch: 16.\n",
      "200/200 [==============================] - 41s 206ms/step - loss: 0.0416 - accuracy: 0.9866 - precision_10: 0.9872 - recall_10: 0.9859 - val_loss: 0.7752 - val_accuracy: 0.8573 - val_precision_10: 0.8602 - val_recall_10: 0.8550\n",
      "Epoch 26: early stopping\n"
     ]
    },
    {
     "data": {
      "image/png": "[encoded data removed]",
      "text/plain": [
       "<Figure size 720x360 with 2 Axes>"
      ]
     },
     "metadata": {
      "needs_background": "light"
     },
     "output_type": "display_data"
    }
   ],
   "source": [
    "model = models.Sequential()\n",
    "\n",
    "model.add(layers.Conv2D(filters=16,\n",
    "                       kernel_size=(3,3),\n",
    "                       activation='relu',\n",
    "                       input_shape=(227,227,1)))\n",
    "model.add(layers.MaxPooling2D(2,2))\n",
    "\n",
    "model.add(layers.Conv2D(64, (3,3), activation='relu'))\n",
    "model.add(layers.MaxPooling2D(2,2))\n",
    "\n",
    "model.add(layers.Conv2D(128, (3,3), activation='relu'))\n",
    "model.add(layers.MaxPooling2D(2,2))\n",
    "\n",
    "model.add(layers.Conv2D(256, (3,3), activation='relu'))\n",
    "model.add(layers.MaxPooling2D(2,2))\n",
    "\n",
    "model.add(layers.Conv2D(512, (3,3), activation='relu'))\n",
    "model.add(layers.MaxPooling2D(2,2))\n",
    "\n",
    "model.add(layers.Flatten())\n",
    "model.add(layers.Dense(1024, activation='relu'))\n",
    "model.add(layers.Dense(512, activation='relu'))\n",
    "model.add(layers.Dropout(rate=0.5))\n",
    "model.add(layers.Dense(8, activation='softmax'))\n",
    "\n",
    "\n",
    "model.compile(optimizer=optimizers.Adam(learning_rate=0.0001),\n",
    "              loss=losses.CategoricalCrossentropy(),\n",
    "              metrics=['accuracy', Precision(), Recall()])\n",
    "\n",
    "model.summary()\n",
    "\n",
    "results = model.fit(train_generator,\n",
    "                    steps_per_epoch=200,  # Number of training samples to pull per epoch\n",
    "                    epochs=epochs_to_train,  # Number of epochs\n",
    "                    validation_data=val_generator,\n",
    "                    validation_steps=100,  # Number of validation samples to run validation on\n",
    "                    verbose=1,\n",
    "                    callbacks = [early_stop]\n",
    "                    )\n",
    "\n",
    "\n",
    "display_model_trainTestGraphs(results)"
   ]
  },
  {
   "cell_type": "markdown",
   "id": "365a8f04",
   "metadata": {},
   "source": [
    "Increasing the number of training samples has had a positive impact. More training examples per epoch makes for a more informed update on the weights. Overall validation loss has shown a smoother descent but also maintains around 0.55.\n",
    "\n",
    "Lowest recorded val_loss of 0.5434"
   ]
  },
  {
   "cell_type": "markdown",
   "id": "499ba43d",
   "metadata": {},
   "source": [
    "## Model 8 - Adding 1 additional convolution at a time"
   ]
  },
  {
   "cell_type": "code",
   "execution_count": 50,
   "id": "9db95000",
   "metadata": {
    "ExecuteTime": {
     "end_time": "2022-05-22T09:46:56.725279Z",
     "start_time": "2022-05-22T09:25:15.467193Z"
    },
    "scrolled": false
   },
   "outputs": [
    {
     "name": "stdout",
     "output_type": "stream",
     "text": [
      "Model: \"sequential_11\"\n",
      "_________________________________________________________________\n",
      " Layer (type)                Output Shape              Param #   \n",
      "=================================================================\n",
      " conv2d_54 (Conv2D)          (None, 225, 225, 16)      160       \n",
      "                                                                 \n",
      " max_pooling2d_42 (MaxPoolin  (None, 112, 112, 16)     0         \n",
      " g2D)                                                            \n",
      "                                                                 \n",
      " conv2d_55 (Conv2D)          (None, 110, 110, 64)      9280      \n",
      "                                                                 \n",
      " max_pooling2d_43 (MaxPoolin  (None, 55, 55, 64)       0         \n",
      " g2D)                                                            \n",
      "                                                                 \n",
      " conv2d_56 (Conv2D)          (None, 53, 53, 128)       73856     \n",
      "                                                                 \n",
      " max_pooling2d_44 (MaxPoolin  (None, 26, 26, 128)      0         \n",
      " g2D)                                                            \n",
      "                                                                 \n",
      " conv2d_57 (Conv2D)          (None, 24, 24, 256)       295168    \n",
      "                                                                 \n",
      " max_pooling2d_45 (MaxPoolin  (None, 12, 12, 256)      0         \n",
      " g2D)                                                            \n",
      "                                                                 \n",
      " conv2d_58 (Conv2D)          (None, 10, 10, 512)       1180160   \n",
      "                                                                 \n",
      " conv2d_59 (Conv2D)          (None, 8, 8, 512)         2359808   \n",
      "                                                                 \n",
      " max_pooling2d_46 (MaxPoolin  (None, 4, 4, 512)        0         \n",
      " g2D)                                                            \n",
      "                                                                 \n",
      " flatten_11 (Flatten)        (None, 8192)              0         \n",
      "                                                                 \n",
      " dense_30 (Dense)            (None, 1024)              8389632   \n",
      "                                                                 \n",
      " dense_31 (Dense)            (None, 512)               524800    \n",
      "                                                                 \n",
      " dropout_6 (Dropout)         (None, 512)               0         \n",
      "                                                                 \n",
      " dense_32 (Dense)            (None, 8)                 4104      \n",
      "                                                                 \n",
      "=================================================================\n",
      "Total params: 12,836,968\n",
      "Trainable params: 12,836,968\n",
      "Non-trainable params: 0\n",
      "_________________________________________________________________\n",
      "Epoch 1/100\n",
      "218/218 [==============================] - 53s 240ms/step - loss: 0.8395 - accuracy: 0.8144 - precision_11: 0.8198 - recall_11: 0.7804 - val_loss: 0.8323 - val_accuracy: 0.7810 - val_precision_11: 0.7952 - val_recall_11: 0.7575\n",
      "Epoch 2/100\n",
      "218/218 [==============================] - 52s 236ms/step - loss: 0.6020 - accuracy: 0.8345 - precision_11: 0.8656 - recall_11: 0.8063 - val_loss: 0.7810 - val_accuracy: 0.7880 - val_precision_11: 0.7995 - val_recall_11: 0.7725\n",
      "Epoch 3/100\n",
      "218/218 [==============================] - 52s 236ms/step - loss: 0.5108 - accuracy: 0.8560 - precision_11: 0.8772 - recall_11: 0.8335 - val_loss: 0.7184 - val_accuracy: 0.7874 - val_precision_11: 0.8281 - val_recall_11: 0.7105\n",
      "Epoch 4/100\n",
      "218/218 [==============================] - 52s 236ms/step - loss: 0.4363 - accuracy: 0.8728 - precision_11: 0.8921 - recall_11: 0.8506 - val_loss: 0.6675 - val_accuracy: 0.8068 - val_precision_11: 0.8271 - val_recall_11: 0.7887\n",
      "Epoch 5/100\n",
      "218/218 [==============================] - 52s 237ms/step - loss: 0.3889 - accuracy: 0.8829 - precision_11: 0.8981 - recall_11: 0.8667 - val_loss: 0.6094 - val_accuracy: 0.8190 - val_precision_11: 0.8385 - val_recall_11: 0.7978\n",
      "Epoch 6/100\n",
      "218/218 [==============================] - 52s 236ms/step - loss: 0.3463 - accuracy: 0.8930 - precision_11: 0.9068 - recall_11: 0.8796 - val_loss: 0.6219 - val_accuracy: 0.8101 - val_precision_11: 0.8310 - val_recall_11: 0.7851\n",
      "Epoch 7/100\n",
      "218/218 [==============================] - 52s 237ms/step - loss: 0.3163 - accuracy: 0.9032 - precision_11: 0.9140 - recall_11: 0.8910 - val_loss: 0.5872 - val_accuracy: 0.8222 - val_precision_11: 0.8371 - val_recall_11: 0.8082\n",
      "Epoch 8/100\n",
      "218/218 [==============================] - 52s 236ms/step - loss: 0.2920 - accuracy: 0.9095 - precision_11: 0.9191 - recall_11: 0.8989 - val_loss: 0.6043 - val_accuracy: 0.8082 - val_precision_11: 0.8263 - val_recall_11: 0.7844\n",
      "Epoch 9/100\n",
      "218/218 [==============================] - 52s 237ms/step - loss: 0.2729 - accuracy: 0.9152 - precision_11: 0.9242 - recall_11: 0.9064 - val_loss: 0.5847 - val_accuracy: 0.8268 - val_precision_11: 0.8369 - val_recall_11: 0.8200\n",
      "Epoch 10/100\n",
      "218/218 [==============================] - 52s 237ms/step - loss: 0.2507 - accuracy: 0.9220 - precision_11: 0.9290 - recall_11: 0.9138 - val_loss: 0.5757 - val_accuracy: 0.8351 - val_precision_11: 0.8460 - val_recall_11: 0.8236\n",
      "Epoch 11/100\n",
      "218/218 [==============================] - 52s 237ms/step - loss: 0.2194 - accuracy: 0.9307 - precision_11: 0.9366 - recall_11: 0.9246 - val_loss: 0.5496 - val_accuracy: 0.8485 - val_precision_11: 0.8595 - val_recall_11: 0.8401\n",
      "Epoch 12/100\n",
      "218/218 [==============================] - 52s 236ms/step - loss: 0.2040 - accuracy: 0.9353 - precision_11: 0.9408 - recall_11: 0.9297 - val_loss: 0.5029 - val_accuracy: 0.8535 - val_precision_11: 0.8659 - val_recall_11: 0.8400\n",
      "Epoch 13/100\n",
      "218/218 [==============================] - 52s 239ms/step - loss: 0.1801 - accuracy: 0.9426 - precision_11: 0.9472 - recall_11: 0.9375 - val_loss: 0.5627 - val_accuracy: 0.8568 - val_precision_11: 0.8611 - val_recall_11: 0.8531\n",
      "Epoch 14/100\n",
      "218/218 [==============================] - 52s 238ms/step - loss: 0.1630 - accuracy: 0.9479 - precision_11: 0.9519 - recall_11: 0.9442 - val_loss: 0.5437 - val_accuracy: 0.8593 - val_precision_11: 0.8692 - val_recall_11: 0.8543\n",
      "Epoch 15/100\n",
      "218/218 [==============================] - 52s 238ms/step - loss: 0.1521 - accuracy: 0.9510 - precision_11: 0.9547 - recall_11: 0.9473 - val_loss: 0.4971 - val_accuracy: 0.8701 - val_precision_11: 0.8758 - val_recall_11: 0.8667\n",
      "Epoch 16/100\n",
      "218/218 [==============================] - 52s 238ms/step - loss: 0.1263 - accuracy: 0.9590 - precision_11: 0.9613 - recall_11: 0.9558 - val_loss: 0.5208 - val_accuracy: 0.8583 - val_precision_11: 0.8674 - val_recall_11: 0.8513\n",
      "Epoch 17/100\n",
      "218/218 [==============================] - 52s 238ms/step - loss: 0.1187 - accuracy: 0.9609 - precision_11: 0.9632 - recall_11: 0.9584 - val_loss: 0.5269 - val_accuracy: 0.8602 - val_precision_11: 0.8675 - val_recall_11: 0.8569\n",
      "Epoch 18/100\n",
      "218/218 [==============================] - 52s 239ms/step - loss: 0.1007 - accuracy: 0.9667 - precision_11: 0.9685 - recall_11: 0.9648 - val_loss: 0.5163 - val_accuracy: 0.8738 - val_precision_11: 0.8788 - val_recall_11: 0.8703\n",
      "Epoch 19/100\n",
      "218/218 [==============================] - 52s 239ms/step - loss: 0.0940 - accuracy: 0.9677 - precision_11: 0.9696 - recall_11: 0.9660 - val_loss: 0.5665 - val_accuracy: 0.8715 - val_precision_11: 0.8750 - val_recall_11: 0.8698\n",
      "Epoch 20/100\n",
      "218/218 [==============================] - 52s 238ms/step - loss: 0.0780 - accuracy: 0.9741 - precision_11: 0.9752 - recall_11: 0.9727 - val_loss: 0.5967 - val_accuracy: 0.8636 - val_precision_11: 0.8681 - val_recall_11: 0.8595\n",
      "Epoch 21/100\n",
      "218/218 [==============================] - 52s 239ms/step - loss: 0.0684 - accuracy: 0.9766 - precision_11: 0.9778 - recall_11: 0.9756 - val_loss: 0.5784 - val_accuracy: 0.8767 - val_precision_11: 0.8793 - val_recall_11: 0.8749\n",
      "Epoch 22/100\n",
      "218/218 [==============================] - 52s 239ms/step - loss: 0.0547 - accuracy: 0.9818 - precision_11: 0.9824 - recall_11: 0.9811 - val_loss: 0.6713 - val_accuracy: 0.8605 - val_precision_11: 0.8646 - val_recall_11: 0.8584\n",
      "Epoch 23/100\n",
      "218/218 [==============================] - 52s 240ms/step - loss: 0.0523 - accuracy: 0.9824 - precision_11: 0.9831 - recall_11: 0.9813 - val_loss: 0.6353 - val_accuracy: 0.8744 - val_precision_11: 0.8774 - val_recall_11: 0.8732\n",
      "Epoch 24/100\n",
      "218/218 [==============================] - 53s 243ms/step - loss: 0.0429 - accuracy: 0.9853 - precision_11: 0.9858 - recall_11: 0.9847 - val_loss: 0.7330 - val_accuracy: 0.8758 - val_precision_11: 0.8774 - val_recall_11: 0.8746\n",
      "Epoch 25/100\n",
      "218/218 [==============================] - ETA: 0s - loss: 0.0377 - accuracy: 0.9872 - precision_11: 0.9877 - recall_11: 0.9868Restoring model weights from the end of the best epoch: 15.\n",
      "218/218 [==============================] - 52s 240ms/step - loss: 0.0377 - accuracy: 0.9872 - precision_11: 0.9877 - recall_11: 0.9868 - val_loss: 0.6895 - val_accuracy: 0.8681 - val_precision_11: 0.8715 - val_recall_11: 0.8667\n",
      "Epoch 25: early stopping\n"
     ]
    },
    {
     "data": {
      "image/png": "[encoded data removed]",
      "text/plain": [
       "<Figure size 720x360 with 2 Axes>"
      ]
     },
     "metadata": {
      "needs_background": "light"
     },
     "output_type": "display_data"
    }
   ],
   "source": [
    "# one additional convolution at 512 layer\n",
    "model = models.Sequential()\n",
    "\n",
    "model.add(layers.Conv2D(filters=16,\n",
    "                       kernel_size=3,\n",
    "                       activation='relu',\n",
    "                       input_shape=(227,227,1)))\n",
    "model.add(layers.MaxPooling2D(2,2))\n",
    "\n",
    "model.add(layers.Conv2D(64, 3, activation='relu'))\n",
    "model.add(layers.MaxPooling2D(2,2))\n",
    "\n",
    "model.add(layers.Conv2D(128, 3, activation='relu'))\n",
    "model.add(layers.MaxPooling2D(2,2))\n",
    "\n",
    "model.add(layers.Conv2D(256, 3, activation='relu'))\n",
    "model.add(layers.MaxPooling2D(2,2))\n",
    "\n",
    "model.add(layers.Conv2D(512, 3, activation='relu'))\n",
    "model.add(layers.Conv2D(512, 3, activation='relu'))\n",
    "model.add(layers.MaxPooling2D(2,2))\n",
    "\n",
    "model.add(layers.Flatten())\n",
    "model.add(layers.Dense(1024, activation='relu'))\n",
    "model.add(layers.Dense(512, activation='relu'))\n",
    "model.add(layers.Dropout(rate=0.5))\n",
    "model.add(layers.Dense(8, activation='softmax'))\n",
    "\n",
    "\n",
    "model.compile(optimizer=optimizers.Adam(learning_rate=0.0001),\n",
    "              loss=losses.CategoricalCrossentropy(),\n",
    "              metrics=['accuracy', Precision(), Recall()])\n",
    "\n",
    "model.summary()\n",
    "\n",
    "results = model.fit(train_generator,\n",
    "                    epochs=epochs_to_train,  # Number of epochs\n",
    "                    validation_data=val_generator,\n",
    "                    verbose=1,\n",
    "                    callbacks = [early_stop]\n",
    "                    )\n",
    "\n",
    "display_model_trainTestGraphs(results)"
   ]
  },
  {
   "cell_type": "code",
   "execution_count": 51,
   "id": "5f2865c2",
   "metadata": {
    "ExecuteTime": {
     "end_time": "2022-05-22T09:46:58.122987Z",
     "start_time": "2022-05-22T09:46:56.727280Z"
    },
    "scrolled": false
   },
   "outputs": [
    {
     "name": "stderr",
     "output_type": "stream",
     "text": [
      "WARNING:absl:Found untraced functions such as _jit_compiled_convolution_op, _jit_compiled_convolution_op, _jit_compiled_convolution_op, _jit_compiled_convolution_op, _jit_compiled_convolution_op while saving (showing 5 of 6). These functions will not be directly callable after loading.\n"
     ]
    },
    {
     "name": "stdout",
     "output_type": "stream",
     "text": [
      "INFO:tensorflow:Assets written to: tf_Adam_checkpoints/Model_8\\assets\n"
     ]
    },
    {
     "name": "stderr",
     "output_type": "stream",
     "text": [
      "INFO:tensorflow:Assets written to: tf_Adam_checkpoints/Model_8\\assets\n"
     ]
    }
   ],
   "source": [
    "results.model.save(tf_chkpt_path+'Model_8')"
   ]
  },
  {
   "cell_type": "markdown",
   "id": "e09515d3",
   "metadata": {},
   "source": [
    "Best performing model yet. Val loss was hovering around 0.5"
   ]
  },
  {
   "cell_type": "code",
   "execution_count": null,
   "id": "239a1d58",
   "metadata": {},
   "outputs": [],
   "source": []
  },
  {
   "cell_type": "code",
   "execution_count": null,
   "id": "ca1598b3",
   "metadata": {},
   "outputs": [],
   "source": []
  },
  {
   "cell_type": "code",
   "execution_count": null,
   "id": "28dea52a",
   "metadata": {},
   "outputs": [],
   "source": []
  },
  {
   "cell_type": "code",
   "execution_count": 52,
   "id": "d054a95e",
   "metadata": {
    "ExecuteTime": {
     "end_time": "2022-05-22T09:47:55.686823Z",
     "start_time": "2022-05-22T09:46:58.123988Z"
    },
    "scrolled": false
   },
   "outputs": [
    {
     "name": "stdout",
     "output_type": "stream",
     "text": [
      "Model: \"sequential_12\"\n",
      "_________________________________________________________________\n",
      " Layer (type)                Output Shape              Param #   \n",
      "=================================================================\n",
      " conv2d_60 (Conv2D)          (None, 225, 225, 16)      160       \n",
      "                                                                 \n",
      " max_pooling2d_47 (MaxPoolin  (None, 112, 112, 16)     0         \n",
      " g2D)                                                            \n",
      "                                                                 \n",
      " conv2d_61 (Conv2D)          (None, 110, 110, 64)      9280      \n",
      "                                                                 \n",
      " max_pooling2d_48 (MaxPoolin  (None, 55, 55, 64)       0         \n",
      " g2D)                                                            \n",
      "                                                                 \n",
      " conv2d_62 (Conv2D)          (None, 53, 53, 128)       73856     \n",
      "                                                                 \n",
      " max_pooling2d_49 (MaxPoolin  (None, 26, 26, 128)      0         \n",
      " g2D)                                                            \n",
      "                                                                 \n",
      " conv2d_63 (Conv2D)          (None, 24, 24, 256)       295168    \n",
      "                                                                 \n",
      " conv2d_64 (Conv2D)          (None, 22, 22, 256)       590080    \n",
      "                                                                 \n",
      " max_pooling2d_50 (MaxPoolin  (None, 11, 11, 256)      0         \n",
      " g2D)                                                            \n",
      "                                                                 \n",
      " conv2d_65 (Conv2D)          (None, 9, 9, 512)         1180160   \n",
      "                                                                 \n",
      " conv2d_66 (Conv2D)          (None, 7, 7, 512)         2359808   \n",
      "                                                                 \n",
      " max_pooling2d_51 (MaxPoolin  (None, 3, 3, 512)        0         \n",
      " g2D)                                                            \n",
      "                                                                 \n",
      " flatten_12 (Flatten)        (None, 4608)              0         \n",
      "                                                                 \n",
      " dense_33 (Dense)            (None, 1024)              4719616   \n",
      "                                                                 \n",
      " dense_34 (Dense)            (None, 512)               524800    \n",
      "                                                                 \n",
      " dropout_7 (Dropout)         (None, 512)               0         \n",
      "                                                                 \n",
      " dense_35 (Dense)            (None, 8)                 4104      \n",
      "                                                                 \n",
      "=================================================================\n",
      "Total params: 9,757,032\n",
      "Trainable params: 9,757,032\n",
      "Non-trainable params: 0\n",
      "_________________________________________________________________\n",
      "Epoch 1/100\n",
      "218/300 [====================>.........] - ETA: 18s - loss: 0.8349 - accuracy: 0.8140 - precision_12: 0.8214 - recall_12: 0.7756WARNING:tensorflow:Your input ran out of data; interrupting training. Make sure that your dataset or generator can generate at least `steps_per_epoch * epochs` batches (in this case, 30000 batches). You may need to use the repeat() function when building your dataset.\n"
     ]
    },
    {
     "name": "stderr",
     "output_type": "stream",
     "text": [
      "WARNING:tensorflow:Your input ran out of data; interrupting training. Make sure that your dataset or generator can generate at least `steps_per_epoch * epochs` batches (in this case, 30000 batches). You may need to use the repeat() function when building your dataset.\n"
     ]
    },
    {
     "name": "stdout",
     "output_type": "stream",
     "text": [
      "\b\b\b\b\b\b\b\b\b\b\b\b\b\b\b\b\b\b\b\b\b\b\b\b\b\b\b\b\b\b\b\b\b\b\b\b\b\b\b\b\b\b\b\b\b\b\b\b\b\b\b\b\b\b\b\b\b\b\b\b\b\b\b\b\b\b\b\b\b\b\b\b\b\b\b\b\b\b\b\b\b\b\b\b\b\b\b\b\b\b\b\b\b\b\b\b\b\b\b\b\b\b\b\b\b\b\b\b\b\b\b\b\b\b\b\b\b\b\b\b\b\b\b\b\b\b\b\b\r",
      "300/300 [==============================] - 57s 183ms/step - loss: 0.8349 - accuracy: 0.8140 - precision_12: 0.8214 - recall_12: 0.7756 - val_loss: 0.8376 - val_accuracy: 0.7812 - val_precision_12: 0.7896 - val_recall_12: 0.7619\n"
     ]
    },
    {
     "data": {
      "image/png": "[encoded data removed]",
      "text/plain": [
       "<Figure size 720x360 with 2 Axes>"
      ]
     },
     "metadata": {
      "needs_background": "light"
     },
     "output_type": "display_data"
    }
   ],
   "source": [
    "# one additional convolution at 512, 256 layer\n",
    "model = models.Sequential()\n",
    "\n",
    "model.add(layers.Conv2D(filters=16,\n",
    "                       kernel_size=3,\n",
    "                       activation='relu',\n",
    "                       input_shape=(227,227,1)))\n",
    "model.add(layers.MaxPooling2D(2,2))\n",
    "\n",
    "model.add(layers.Conv2D(64, 3, activation='relu'))\n",
    "model.add(layers.MaxPooling2D(2,2))\n",
    "\n",
    "model.add(layers.Conv2D(128, 3, activation='relu'))\n",
    "model.add(layers.MaxPooling2D(2,2))\n",
    "\n",
    "model.add(layers.Conv2D(256, 3, activation='relu'))\n",
    "model.add(layers.Conv2D(256, 3, activation='relu'))\n",
    "model.add(layers.MaxPooling2D(2,2))\n",
    "\n",
    "model.add(layers.Conv2D(512, 3, activation='relu'))\n",
    "model.add(layers.Conv2D(512, 3, activation='relu'))\n",
    "model.add(layers.MaxPooling2D(2,2))\n",
    "\n",
    "model.add(layers.Flatten())\n",
    "model.add(layers.Dense(1024, activation='relu'))\n",
    "model.add(layers.Dense(512, activation='relu'))\n",
    "model.add(layers.Dropout(rate=0.5))\n",
    "model.add(layers.Dense(8, activation='softmax'))\n",
    "\n",
    "\n",
    "model.compile(optimizer=optimizers.Adam(learning_rate=0.0001),\n",
    "              loss=losses.CategoricalCrossentropy(),\n",
    "              metrics=['accuracy', Precision(), Recall()])\n",
    "\n",
    "model.summary()\n",
    "\n",
    "results = model.fit(train_generator,\n",
    "                    steps_per_epoch=300,  # Number of training samples to pull per epoch\n",
    "                    epochs=epochs_to_train,  # Number of epochs\n",
    "                    validation_data=val_generator,\n",
    "                    validation_steps=100,  # Number of validation samples to run validation on\n",
    "                    verbose=1,\n",
    "                    callbacks = [early_stop]\n",
    "                    )\n",
    "\n",
    "display_model_trainTestGraphs(results)"
   ]
  },
  {
   "cell_type": "code",
   "execution_count": 53,
   "id": "4755eddb",
   "metadata": {
    "ExecuteTime": {
     "end_time": "2022-05-22T09:47:57.053168Z",
     "start_time": "2022-05-22T09:47:55.687827Z"
    }
   },
   "outputs": [
    {
     "name": "stderr",
     "output_type": "stream",
     "text": [
      "WARNING:absl:Found untraced functions such as _jit_compiled_convolution_op, _jit_compiled_convolution_op, _jit_compiled_convolution_op, _jit_compiled_convolution_op, _jit_compiled_convolution_op while saving (showing 5 of 7). These functions will not be directly callable after loading.\n"
     ]
    },
    {
     "name": "stdout",
     "output_type": "stream",
     "text": [
      "INFO:tensorflow:Assets written to: tf_Adam_checkpoints/Model_8\\assets\n"
     ]
    },
    {
     "name": "stderr",
     "output_type": "stream",
     "text": [
      "INFO:tensorflow:Assets written to: tf_Adam_checkpoints/Model_8\\assets\n"
     ]
    }
   ],
   "source": [
    "results.model.save(tf_chkpt_path+'Model_8')"
   ]
  },
  {
   "cell_type": "code",
   "execution_count": null,
   "id": "22cff1e1",
   "metadata": {},
   "outputs": [],
   "source": []
  },
  {
   "cell_type": "markdown",
   "id": "d3efadfa",
   "metadata": {},
   "source": [
    "## Model 9"
   ]
  },
  {
   "cell_type": "code",
   "execution_count": 54,
   "id": "a8930f81",
   "metadata": {
    "ExecuteTime": {
     "end_time": "2022-05-22T10:13:57.510440Z",
     "start_time": "2022-05-22T09:47:57.054169Z"
    },
    "scrolled": false
   },
   "outputs": [
    {
     "name": "stdout",
     "output_type": "stream",
     "text": [
      "Model: \"sequential_13\"\n",
      "_________________________________________________________________\n",
      " Layer (type)                Output Shape              Param #   \n",
      "=================================================================\n",
      " conv2d_67 (Conv2D)          (None, 225, 225, 16)      160       \n",
      "                                                                 \n",
      " max_pooling2d_52 (MaxPoolin  (None, 112, 112, 16)     0         \n",
      " g2D)                                                            \n",
      "                                                                 \n",
      " conv2d_68 (Conv2D)          (None, 110, 110, 64)      9280      \n",
      "                                                                 \n",
      " max_pooling2d_53 (MaxPoolin  (None, 55, 55, 64)       0         \n",
      " g2D)                                                            \n",
      "                                                                 \n",
      " conv2d_69 (Conv2D)          (None, 53, 53, 128)       73856     \n",
      "                                                                 \n",
      " max_pooling2d_54 (MaxPoolin  (None, 26, 26, 128)      0         \n",
      " g2D)                                                            \n",
      "                                                                 \n",
      " conv2d_70 (Conv2D)          (None, 24, 24, 256)       295168    \n",
      "                                                                 \n",
      " conv2d_71 (Conv2D)          (None, 22, 22, 256)       590080    \n",
      "                                                                 \n",
      " max_pooling2d_55 (MaxPoolin  (None, 11, 11, 256)      0         \n",
      " g2D)                                                            \n",
      "                                                                 \n",
      " conv2d_72 (Conv2D)          (None, 9, 9, 512)         1180160   \n",
      "                                                                 \n",
      " conv2d_73 (Conv2D)          (None, 7, 7, 512)         2359808   \n",
      "                                                                 \n",
      " max_pooling2d_56 (MaxPoolin  (None, 3, 3, 512)        0         \n",
      " g2D)                                                            \n",
      "                                                                 \n",
      " dropout_8 (Dropout)         (None, 3, 3, 512)         0         \n",
      "                                                                 \n",
      " flatten_13 (Flatten)        (None, 4608)              0         \n",
      "                                                                 \n",
      " dense_36 (Dense)            (None, 1024)              4719616   \n",
      "                                                                 \n",
      " dense_37 (Dense)            (None, 512)               524800    \n",
      "                                                                 \n",
      " dropout_9 (Dropout)         (None, 512)               0         \n",
      "                                                                 \n",
      " dense_38 (Dense)            (None, 8)                 4104      \n",
      "                                                                 \n",
      "=================================================================\n",
      "Total params: 9,757,032\n",
      "Trainable params: 9,757,032\n",
      "Non-trainable params: 0\n",
      "_________________________________________________________________\n",
      "Epoch 1/100\n",
      "218/218 [==============================] - 58s 264ms/step - loss: 0.8330 - accuracy: 0.8150 - precision_13: 0.8242 - recall_13: 0.7728 - val_loss: 0.8704 - val_accuracy: 0.7893 - val_precision_13: 0.7948 - val_recall_13: 0.7778\n",
      "Epoch 2/100\n",
      "218/218 [==============================] - 57s 263ms/step - loss: 0.5940 - accuracy: 0.8403 - precision_13: 0.8676 - recall_13: 0.8128 - val_loss: 0.7868 - val_accuracy: 0.7800 - val_precision_13: 0.8002 - val_recall_13: 0.7563\n",
      "Epoch 3/100\n",
      "218/218 [==============================] - 58s 264ms/step - loss: 0.4974 - accuracy: 0.8601 - precision_13: 0.8797 - recall_13: 0.8389 - val_loss: 0.6961 - val_accuracy: 0.8035 - val_precision_13: 0.8132 - val_recall_13: 0.7919\n",
      "Epoch 4/100\n",
      "218/218 [==============================] - 58s 264ms/step - loss: 0.4340 - accuracy: 0.8730 - precision_13: 0.8902 - recall_13: 0.8539 - val_loss: 0.7004 - val_accuracy: 0.7726 - val_precision_13: 0.8162 - val_recall_13: 0.7113\n",
      "Epoch 5/100\n",
      "218/218 [==============================] - 58s 264ms/step - loss: 0.3815 - accuracy: 0.8851 - precision_13: 0.8995 - recall_13: 0.8687 - val_loss: 0.6078 - val_accuracy: 0.8162 - val_precision_13: 0.8400 - val_recall_13: 0.7891\n",
      "Epoch 6/100\n",
      "218/218 [==============================] - 58s 264ms/step - loss: 0.3417 - accuracy: 0.8954 - precision_13: 0.9068 - recall_13: 0.8826 - val_loss: 0.5859 - val_accuracy: 0.8234 - val_precision_13: 0.8454 - val_recall_13: 0.8007\n",
      "Epoch 7/100\n",
      "218/218 [==============================] - 58s 265ms/step - loss: 0.3147 - accuracy: 0.9036 - precision_13: 0.9137 - recall_13: 0.8932 - val_loss: 0.5353 - val_accuracy: 0.8382 - val_precision_13: 0.8500 - val_recall_13: 0.8293\n",
      "Epoch 8/100\n",
      "218/218 [==============================] - 58s 264ms/step - loss: 0.2920 - accuracy: 0.9089 - precision_13: 0.9183 - recall_13: 0.8999 - val_loss: 0.5617 - val_accuracy: 0.8388 - val_precision_13: 0.8526 - val_recall_13: 0.8308\n",
      "Epoch 9/100\n",
      "218/218 [==============================] - 58s 264ms/step - loss: 0.2622 - accuracy: 0.9189 - precision_13: 0.9264 - recall_13: 0.9117 - val_loss: 0.4893 - val_accuracy: 0.8470 - val_precision_13: 0.8630 - val_recall_13: 0.8330\n",
      "Epoch 10/100\n",
      "218/218 [==============================] - 58s 264ms/step - loss: 0.2400 - accuracy: 0.9248 - precision_13: 0.9314 - recall_13: 0.9182 - val_loss: 0.5065 - val_accuracy: 0.8509 - val_precision_13: 0.8691 - val_recall_13: 0.8377\n",
      "Epoch 11/100\n",
      "218/218 [==============================] - 58s 265ms/step - loss: 0.2208 - accuracy: 0.9312 - precision_13: 0.9370 - recall_13: 0.9254 - val_loss: 0.5011 - val_accuracy: 0.8410 - val_precision_13: 0.8683 - val_recall_13: 0.8176\n",
      "Epoch 12/100\n",
      "218/218 [==============================] - 58s 264ms/step - loss: 0.2022 - accuracy: 0.9356 - precision_13: 0.9404 - recall_13: 0.9307 - val_loss: 0.4749 - val_accuracy: 0.8675 - val_precision_13: 0.8775 - val_recall_13: 0.8635\n",
      "Epoch 13/100\n",
      "218/218 [==============================] - 58s 264ms/step - loss: 0.1863 - accuracy: 0.9405 - precision_13: 0.9450 - recall_13: 0.9358 - val_loss: 0.4984 - val_accuracy: 0.8517 - val_precision_13: 0.8629 - val_recall_13: 0.8464\n",
      "Epoch 14/100\n",
      "218/218 [==============================] - 58s 265ms/step - loss: 0.1725 - accuracy: 0.9459 - precision_13: 0.9500 - recall_13: 0.9422 - val_loss: 0.4659 - val_accuracy: 0.8593 - val_precision_13: 0.8749 - val_recall_13: 0.8531\n",
      "Epoch 15/100\n",
      "218/218 [==============================] - 58s 265ms/step - loss: 0.1506 - accuracy: 0.9515 - precision_13: 0.9545 - recall_13: 0.9485 - val_loss: 0.4926 - val_accuracy: 0.8567 - val_precision_13: 0.8673 - val_recall_13: 0.8500\n",
      "Epoch 16/100\n",
      "218/218 [==============================] - 58s 265ms/step - loss: 0.1432 - accuracy: 0.9539 - precision_13: 0.9567 - recall_13: 0.9514 - val_loss: 0.5149 - val_accuracy: 0.8686 - val_precision_13: 0.8721 - val_recall_13: 0.8669\n",
      "Epoch 17/100\n",
      "218/218 [==============================] - 58s 264ms/step - loss: 0.1315 - accuracy: 0.9573 - precision_13: 0.9593 - recall_13: 0.9551 - val_loss: 0.4452 - val_accuracy: 0.8787 - val_precision_13: 0.8845 - val_recall_13: 0.8760\n",
      "Epoch 18/100\n",
      "218/218 [==============================] - 58s 265ms/step - loss: 0.1176 - accuracy: 0.9620 - precision_13: 0.9639 - recall_13: 0.9602 - val_loss: 0.5274 - val_accuracy: 0.8705 - val_precision_13: 0.8747 - val_recall_13: 0.8686\n",
      "Epoch 19/100\n",
      "218/218 [==============================] - 58s 265ms/step - loss: 0.1022 - accuracy: 0.9662 - precision_13: 0.9676 - recall_13: 0.9645 - val_loss: 0.4854 - val_accuracy: 0.8775 - val_precision_13: 0.8825 - val_recall_13: 0.8752\n",
      "Epoch 20/100\n",
      "218/218 [==============================] - 58s 265ms/step - loss: 0.0974 - accuracy: 0.9674 - precision_13: 0.9687 - recall_13: 0.9659 - val_loss: 0.5037 - val_accuracy: 0.8672 - val_precision_13: 0.8717 - val_recall_13: 0.8639\n",
      "Epoch 21/100\n",
      "218/218 [==============================] - 58s 265ms/step - loss: 0.0824 - accuracy: 0.9725 - precision_13: 0.9734 - recall_13: 0.9716 - val_loss: 0.5385 - val_accuracy: 0.8798 - val_precision_13: 0.8825 - val_recall_13: 0.8792\n",
      "Epoch 22/100\n"
     ]
    },
    {
     "name": "stdout",
     "output_type": "stream",
     "text": [
      "218/218 [==============================] - 58s 265ms/step - loss: 0.0752 - accuracy: 0.9748 - precision_13: 0.9758 - recall_13: 0.9737 - val_loss: 0.5965 - val_accuracy: 0.8754 - val_precision_13: 0.8782 - val_recall_13: 0.8738\n",
      "Epoch 23/100\n",
      "218/218 [==============================] - 58s 265ms/step - loss: 0.0651 - accuracy: 0.9779 - precision_13: 0.9789 - recall_13: 0.9768 - val_loss: 0.5205 - val_accuracy: 0.8782 - val_precision_13: 0.8816 - val_recall_13: 0.8756\n",
      "Epoch 24/100\n",
      "218/218 [==============================] - 58s 265ms/step - loss: 0.0607 - accuracy: 0.9793 - precision_13: 0.9802 - recall_13: 0.9787 - val_loss: 0.4997 - val_accuracy: 0.8811 - val_precision_13: 0.8850 - val_recall_13: 0.8791\n",
      "Epoch 25/100\n",
      "218/218 [==============================] - 58s 265ms/step - loss: 0.0540 - accuracy: 0.9807 - precision_13: 0.9816 - recall_13: 0.9800 - val_loss: 0.6360 - val_accuracy: 0.8787 - val_precision_13: 0.8803 - val_recall_13: 0.8783\n",
      "Epoch 26/100\n",
      "218/218 [==============================] - 58s 265ms/step - loss: 0.0506 - accuracy: 0.9827 - precision_13: 0.9832 - recall_13: 0.9820 - val_loss: 0.5894 - val_accuracy: 0.8722 - val_precision_13: 0.8752 - val_recall_13: 0.8701\n",
      "Epoch 27/100\n",
      "218/218 [==============================] - ETA: 0s - loss: 0.0471 - accuracy: 0.9835 - precision_13: 0.9841 - recall_13: 0.9827Restoring model weights from the end of the best epoch: 17.\n",
      "218/218 [==============================] - 58s 266ms/step - loss: 0.0471 - accuracy: 0.9835 - precision_13: 0.9841 - recall_13: 0.9827 - val_loss: 0.6476 - val_accuracy: 0.8550 - val_precision_13: 0.8592 - val_recall_13: 0.8525\n",
      "Epoch 27: early stopping\n"
     ]
    },
    {
     "data": {
      "image/png": "[encoded data removed]",
      "text/plain": [
       "<Figure size 720x360 with 2 Axes>"
      ]
     },
     "metadata": {
      "needs_background": "light"
     },
     "output_type": "display_data"
    }
   ],
   "source": [
    "model = models.Sequential()\n",
    "\n",
    "model.add(layers.Conv2D(filters=16,\n",
    "                       kernel_size=3,\n",
    "                       activation='relu',\n",
    "                       input_shape=(227,227,1)))\n",
    "model.add(layers.MaxPooling2D(2,2))\n",
    "\n",
    "model.add(layers.Conv2D(64, 3, activation='relu'))\n",
    "model.add(layers.MaxPooling2D(2,2))\n",
    "\n",
    "model.add(layers.Conv2D(128, 3, activation='relu'))\n",
    "model.add(layers.MaxPooling2D(2,2))\n",
    "\n",
    "model.add(layers.Conv2D(256, 3, activation='relu'))\n",
    "model.add(layers.Conv2D(256, 3, activation='relu'))\n",
    "model.add(layers.MaxPooling2D(2,2))\n",
    "\n",
    "model.add(layers.Conv2D(512, 3, activation='relu'))\n",
    "model.add(layers.Conv2D(512, 3, activation='relu'))\n",
    "model.add(layers.MaxPooling2D(2,2))\n",
    "\n",
    "model.add(layers.Dropout(rate=0.3))\n",
    "\n",
    "model.add(layers.Flatten())\n",
    "model.add(layers.Dense(1024, activation='relu'))\n",
    "model.add(layers.Dense(512, activation='relu'))\n",
    "model.add(layers.Dropout(rate=0.5))\n",
    "model.add(layers.Dense(8, activation='softmax'))\n",
    "\n",
    "\n",
    "model.compile(optimizer=optimizers.Adam(learning_rate=0.0001),\n",
    "              loss=losses.CategoricalCrossentropy(),\n",
    "              metrics=['accuracy', Precision(), Recall()])\n",
    "\n",
    "model.summary()\n",
    "\n",
    "results = model.fit(train_generator,\n",
    "                    epochs=epochs_to_train,  # Number of epochs\n",
    "                    validation_data=val_generator,\n",
    "                    verbose=1,\n",
    "                    callbacks = [early_stop]\n",
    "                    )\n",
    "\n",
    "display_model_trainTestGraphs(results)"
   ]
  },
  {
   "cell_type": "code",
   "execution_count": 55,
   "id": "f8581d50",
   "metadata": {
    "ExecuteTime": {
     "end_time": "2022-05-22T10:13:58.727801Z",
     "start_time": "2022-05-22T10:13:57.511440Z"
    },
    "scrolled": true
   },
   "outputs": [
    {
     "name": "stderr",
     "output_type": "stream",
     "text": [
      "WARNING:absl:Found untraced functions such as _jit_compiled_convolution_op, _jit_compiled_convolution_op, _jit_compiled_convolution_op, _jit_compiled_convolution_op, _jit_compiled_convolution_op while saving (showing 5 of 7). These functions will not be directly callable after loading.\n"
     ]
    },
    {
     "name": "stdout",
     "output_type": "stream",
     "text": [
      "INFO:tensorflow:Assets written to: tf_Adam_checkpoints/Model_9\\assets\n"
     ]
    },
    {
     "name": "stderr",
     "output_type": "stream",
     "text": [
      "INFO:tensorflow:Assets written to: tf_Adam_checkpoints/Model_9\\assets\n"
     ]
    }
   ],
   "source": [
    "results.model.save(tf_chkpt_path+'Model_9')"
   ]
  },
  {
   "cell_type": "markdown",
   "id": "5daa53d1",
   "metadata": {
    "ExecuteTime": {
     "end_time": "2022-05-20T09:09:21.062027Z",
     "start_time": "2022-05-20T09:09:21.046023Z"
    }
   },
   "source": [
    "Best numbers yet. Val_loss of 0.42"
   ]
  },
  {
   "cell_type": "code",
   "execution_count": null,
   "id": "4a2f77a5",
   "metadata": {},
   "outputs": [],
   "source": []
  },
  {
   "cell_type": "code",
   "execution_count": null,
   "id": "5e5434e6",
   "metadata": {},
   "outputs": [],
   "source": []
  },
  {
   "cell_type": "markdown",
   "id": "bf5df3e3",
   "metadata": {},
   "source": [
    "## Model 10"
   ]
  },
  {
   "cell_type": "code",
   "execution_count": 56,
   "id": "109f3c96",
   "metadata": {
    "ExecuteTime": {
     "end_time": "2022-05-22T10:38:17.722888Z",
     "start_time": "2022-05-22T10:13:58.728802Z"
    },
    "scrolled": false
   },
   "outputs": [
    {
     "name": "stdout",
     "output_type": "stream",
     "text": [
      "Model: \"sequential_14\"\n",
      "_________________________________________________________________\n",
      " Layer (type)                Output Shape              Param #   \n",
      "=================================================================\n",
      " conv2d_74 (Conv2D)          (None, 225, 225, 16)      160       \n",
      "                                                                 \n",
      " max_pooling2d_57 (MaxPoolin  (None, 112, 112, 16)     0         \n",
      " g2D)                                                            \n",
      "                                                                 \n",
      " conv2d_75 (Conv2D)          (None, 110, 110, 64)      9280      \n",
      "                                                                 \n",
      " max_pooling2d_58 (MaxPoolin  (None, 55, 55, 64)       0         \n",
      " g2D)                                                            \n",
      "                                                                 \n",
      " conv2d_76 (Conv2D)          (None, 53, 53, 128)       73856     \n",
      "                                                                 \n",
      " conv2d_77 (Conv2D)          (None, 51, 51, 128)       147584    \n",
      "                                                                 \n",
      " max_pooling2d_59 (MaxPoolin  (None, 25, 25, 128)      0         \n",
      " g2D)                                                            \n",
      "                                                                 \n",
      " conv2d_78 (Conv2D)          (None, 23, 23, 256)       295168    \n",
      "                                                                 \n",
      " conv2d_79 (Conv2D)          (None, 21, 21, 256)       590080    \n",
      "                                                                 \n",
      " max_pooling2d_60 (MaxPoolin  (None, 10, 10, 256)      0         \n",
      " g2D)                                                            \n",
      "                                                                 \n",
      " conv2d_80 (Conv2D)          (None, 8, 8, 512)         1180160   \n",
      "                                                                 \n",
      " conv2d_81 (Conv2D)          (None, 6, 6, 512)         2359808   \n",
      "                                                                 \n",
      " max_pooling2d_61 (MaxPoolin  (None, 3, 3, 512)        0         \n",
      " g2D)                                                            \n",
      "                                                                 \n",
      " dropout_10 (Dropout)        (None, 3, 3, 512)         0         \n",
      "                                                                 \n",
      " flatten_14 (Flatten)        (None, 4608)              0         \n",
      "                                                                 \n",
      " dense_39 (Dense)            (None, 1024)              4719616   \n",
      "                                                                 \n",
      " dense_40 (Dense)            (None, 1024)              1049600   \n",
      "                                                                 \n",
      " dropout_11 (Dropout)        (None, 1024)              0         \n",
      "                                                                 \n",
      " dense_41 (Dense)            (None, 8)                 8200      \n",
      "                                                                 \n",
      "=================================================================\n",
      "Total params: 10,433,512\n",
      "Trainable params: 10,433,512\n",
      "Non-trainable params: 0\n",
      "_________________________________________________________________\n",
      "Epoch 1/100\n",
      "218/218 [==============================] - 70s 309ms/step - loss: 0.8394 - accuracy: 0.8139 - precision_14: 0.8196 - recall_14: 0.7776 - val_loss: 0.8859 - val_accuracy: 0.7920 - val_precision_14: 0.7940 - val_recall_14: 0.7686\n",
      "Epoch 2/100\n",
      "218/218 [==============================] - 66s 301ms/step - loss: 0.6353 - accuracy: 0.8285 - precision_14: 0.8690 - recall_14: 0.7912 - val_loss: 0.8033 - val_accuracy: 0.7735 - val_precision_14: 0.8099 - val_recall_14: 0.7259\n",
      "Epoch 3/100\n",
      "218/218 [==============================] - 66s 303ms/step - loss: 0.5429 - accuracy: 0.8529 - precision_14: 0.8749 - recall_14: 0.8267 - val_loss: 0.7469 - val_accuracy: 0.7862 - val_precision_14: 0.8281 - val_recall_14: 0.7218\n",
      "Epoch 4/100\n",
      "218/218 [==============================] - 66s 302ms/step - loss: 0.4683 - accuracy: 0.8669 - precision_14: 0.8843 - recall_14: 0.8462 - val_loss: 0.6644 - val_accuracy: 0.8014 - val_precision_14: 0.8276 - val_recall_14: 0.7702\n",
      "Epoch 5/100\n",
      "218/218 [==============================] - 66s 303ms/step - loss: 0.4106 - accuracy: 0.8764 - precision_14: 0.8921 - recall_14: 0.8594 - val_loss: 0.6790 - val_accuracy: 0.7987 - val_precision_14: 0.8333 - val_recall_14: 0.7486\n",
      "Epoch 6/100\n",
      "218/218 [==============================] - 66s 302ms/step - loss: 0.3702 - accuracy: 0.8868 - precision_14: 0.9000 - recall_14: 0.8731 - val_loss: 0.6308 - val_accuracy: 0.8090 - val_precision_14: 0.8263 - val_recall_14: 0.7912\n",
      "Epoch 7/100\n",
      "218/218 [==============================] - 66s 303ms/step - loss: 0.3334 - accuracy: 0.8968 - precision_14: 0.9077 - recall_14: 0.8866 - val_loss: 0.6517 - val_accuracy: 0.8121 - val_precision_14: 0.8266 - val_recall_14: 0.8011\n",
      "Epoch 8/100\n",
      "218/218 [==============================] - 66s 302ms/step - loss: 0.3015 - accuracy: 0.9046 - precision_14: 0.9127 - recall_14: 0.8958 - val_loss: 0.5785 - val_accuracy: 0.8322 - val_precision_14: 0.8454 - val_recall_14: 0.8208\n",
      "Epoch 9/100\n",
      "218/218 [==============================] - 66s 303ms/step - loss: 0.2846 - accuracy: 0.9114 - precision_14: 0.9186 - recall_14: 0.9044 - val_loss: 0.5758 - val_accuracy: 0.8413 - val_precision_14: 0.8524 - val_recall_14: 0.8305\n",
      "Epoch 10/100\n",
      "218/218 [==============================] - 66s 303ms/step - loss: 0.2508 - accuracy: 0.9225 - precision_14: 0.9289 - recall_14: 0.9161 - val_loss: 0.6313 - val_accuracy: 0.8135 - val_precision_14: 0.8229 - val_recall_14: 0.8039\n",
      "Epoch 11/100\n",
      "218/218 [==============================] - 66s 305ms/step - loss: 0.2308 - accuracy: 0.9278 - precision_14: 0.9338 - recall_14: 0.9218 - val_loss: 0.5198 - val_accuracy: 0.8449 - val_precision_14: 0.8578 - val_recall_14: 0.8370\n",
      "Epoch 12/100\n",
      "218/218 [==============================] - 66s 303ms/step - loss: 0.2117 - accuracy: 0.9344 - precision_14: 0.9397 - recall_14: 0.9297 - val_loss: 0.4846 - val_accuracy: 0.8545 - val_precision_14: 0.8714 - val_recall_14: 0.8450\n",
      "Epoch 13/100\n",
      "218/218 [==============================] - 66s 304ms/step - loss: 0.1927 - accuracy: 0.9402 - precision_14: 0.9444 - recall_14: 0.9357 - val_loss: 0.6036 - val_accuracy: 0.8459 - val_precision_14: 0.8519 - val_recall_14: 0.8421\n",
      "Epoch 14/100\n",
      "218/218 [==============================] - 66s 303ms/step - loss: 0.1748 - accuracy: 0.9454 - precision_14: 0.9488 - recall_14: 0.9414 - val_loss: 0.4904 - val_accuracy: 0.8709 - val_precision_14: 0.8789 - val_recall_14: 0.8672\n",
      "Epoch 15/100\n",
      "218/218 [==============================] - 66s 304ms/step - loss: 0.1588 - accuracy: 0.9505 - precision_14: 0.9535 - recall_14: 0.9470 - val_loss: 0.5746 - val_accuracy: 0.8522 - val_precision_14: 0.8595 - val_recall_14: 0.8464\n",
      "Epoch 16/100\n",
      "218/218 [==============================] - 66s 303ms/step - loss: 0.1493 - accuracy: 0.9522 - precision_14: 0.9549 - recall_14: 0.9493 - val_loss: 0.5391 - val_accuracy: 0.8796 - val_precision_14: 0.8829 - val_recall_14: 0.8784\n",
      "Epoch 17/100\n",
      "218/218 [==============================] - 66s 303ms/step - loss: 0.1365 - accuracy: 0.9560 - precision_14: 0.9577 - recall_14: 0.9537 - val_loss: 0.5072 - val_accuracy: 0.8511 - val_precision_14: 0.8616 - val_recall_14: 0.8444\n",
      "Epoch 18/100\n",
      "218/218 [==============================] - 66s 303ms/step - loss: 0.1236 - accuracy: 0.9595 - precision_14: 0.9609 - recall_14: 0.9579 - val_loss: 0.5403 - val_accuracy: 0.8626 - val_precision_14: 0.8686 - val_recall_14: 0.8593\n",
      "Epoch 19/100\n",
      "218/218 [==============================] - 66s 303ms/step - loss: 0.1105 - accuracy: 0.9641 - precision_14: 0.9656 - recall_14: 0.9628 - val_loss: 0.5475 - val_accuracy: 0.8712 - val_precision_14: 0.8760 - val_recall_14: 0.8684\n",
      "Epoch 20/100\n",
      "218/218 [==============================] - 66s 303ms/step - loss: 0.1087 - accuracy: 0.9635 - precision_14: 0.9650 - recall_14: 0.9621 - val_loss: 0.5452 - val_accuracy: 0.8576 - val_precision_14: 0.8644 - val_recall_14: 0.8537\n",
      "Epoch 21/100\n",
      "218/218 [==============================] - 66s 304ms/step - loss: 0.0918 - accuracy: 0.9696 - precision_14: 0.9707 - recall_14: 0.9685 - val_loss: 0.5058 - val_accuracy: 0.8783 - val_precision_14: 0.8833 - val_recall_14: 0.8758\n",
      "Epoch 22/100\n",
      "218/218 [==============================] - ETA: 0s - loss: 0.0877 - accuracy: 0.9708 - precision_14: 0.9718 - recall_14: 0.9698Restoring model weights from the end of the best epoch: 12.\n",
      "218/218 [==============================] - 66s 303ms/step - loss: 0.0877 - accuracy: 0.9708 - precision_14: 0.9718 - recall_14: 0.9698 - val_loss: 0.5454 - val_accuracy: 0.8720 - val_precision_14: 0.8754 - val_recall_14: 0.8696\n",
      "Epoch 22: early stopping\n"
     ]
    },
    {
     "data": {
      "image/png": "[encoded data removed]",
      "text/plain": [
       "<Figure size 720x360 with 2 Axes>"
      ]
     },
     "metadata": {
      "needs_background": "light"
     },
     "output_type": "display_data"
    }
   ],
   "source": [
    "model = models.Sequential()\n",
    "\n",
    "model.add(layers.Conv2D(filters=16,\n",
    "                       kernel_size=3,\n",
    "                       activation='relu',\n",
    "                       input_shape=(227,227,1)))\n",
    "model.add(layers.MaxPooling2D(2,2))\n",
    "\n",
    "model.add(layers.Conv2D(64, 3, activation='relu'))\n",
    "model.add(layers.MaxPooling2D(2,2))\n",
    "\n",
    "model.add(layers.Conv2D(128, 3, activation='relu'))\n",
    "model.add(layers.Conv2D(128, 3, activation='relu'))\n",
    "model.add(layers.MaxPooling2D(2,2))\n",
    "\n",
    "model.add(layers.Conv2D(256, 3, activation='relu'))\n",
    "model.add(layers.Conv2D(256, 3, activation='relu'))\n",
    "model.add(layers.MaxPooling2D(2,2))\n",
    "\n",
    "model.add(layers.Conv2D(512, 3, activation='relu'))\n",
    "model.add(layers.Conv2D(512, 3, activation='relu'))\n",
    "model.add(layers.MaxPooling2D(2,2))\n",
    "\n",
    "model.add(layers.Dropout(rate=0.5))\n",
    "\n",
    "model.add(layers.Flatten())\n",
    "model.add(layers.Dense(1024, activation='relu'))\n",
    "model.add(layers.Dense(1024, activation='relu'))\n",
    "model.add(layers.Dropout(rate=0.5))\n",
    "\n",
    "model.add(layers.Dense(8, activation='softmax'))\n",
    "\n",
    "\n",
    "model.compile(optimizer=optimizers.Adam(learning_rate=0.0001),\n",
    "              loss=losses.CategoricalCrossentropy(),\n",
    "              metrics=['accuracy', Precision(), Recall()])\n",
    "\n",
    "model.summary()\n",
    "\n",
    "results = model.fit(train_generator,\n",
    "                    epochs=epochs_to_train,  # Number of epochs\n",
    "                    validation_data=val_generator,\n",
    "                    verbose=1,\n",
    "                    callbacks = [early_stop]\n",
    "                    )\n",
    "\n",
    "display_model_trainTestGraphs(results)"
   ]
  },
  {
   "cell_type": "code",
   "execution_count": 57,
   "id": "80768f6c",
   "metadata": {
    "ExecuteTime": {
     "end_time": "2022-05-22T10:38:19.232650Z",
     "start_time": "2022-05-22T10:38:17.723889Z"
    },
    "scrolled": false
   },
   "outputs": [
    {
     "name": "stderr",
     "output_type": "stream",
     "text": [
      "WARNING:absl:Found untraced functions such as _jit_compiled_convolution_op, _jit_compiled_convolution_op, _jit_compiled_convolution_op, _jit_compiled_convolution_op, _jit_compiled_convolution_op while saving (showing 5 of 8). These functions will not be directly callable after loading.\n"
     ]
    },
    {
     "name": "stdout",
     "output_type": "stream",
     "text": [
      "INFO:tensorflow:Assets written to: tf_Adam_checkpoints/Model_10\\assets\n"
     ]
    },
    {
     "name": "stderr",
     "output_type": "stream",
     "text": [
      "INFO:tensorflow:Assets written to: tf_Adam_checkpoints/Model_10\\assets\n"
     ]
    }
   ],
   "source": [
    "results.model.save(tf_chkpt_path+'Model_10')"
   ]
  },
  {
   "cell_type": "markdown",
   "id": "20d3e5cc",
   "metadata": {
    "ExecuteTime": {
     "end_time": "2022-05-20T09:09:21.062027Z",
     "start_time": "2022-05-20T09:09:21.046023Z"
    }
   },
   "source": [
    "Best numbers yet. Val_loss of 0.40"
   ]
  },
  {
   "cell_type": "markdown",
   "id": "98692bc0",
   "metadata": {},
   "source": [
    "## Model 11 - one more 512 conv - bad"
   ]
  },
  {
   "cell_type": "code",
   "execution_count": 58,
   "id": "e796c49a",
   "metadata": {
    "ExecuteTime": {
     "end_time": "2022-05-22T11:07:33.750148Z",
     "start_time": "2022-05-22T10:38:19.233652Z"
    },
    "scrolled": false
   },
   "outputs": [
    {
     "name": "stdout",
     "output_type": "stream",
     "text": [
      "Model: \"sequential_15\"\n",
      "_________________________________________________________________\n",
      " Layer (type)                Output Shape              Param #   \n",
      "=================================================================\n",
      " conv2d_82 (Conv2D)          (None, 225, 225, 16)      160       \n",
      "                                                                 \n",
      " max_pooling2d_62 (MaxPoolin  (None, 112, 112, 16)     0         \n",
      " g2D)                                                            \n",
      "                                                                 \n",
      " conv2d_83 (Conv2D)          (None, 110, 110, 64)      9280      \n",
      "                                                                 \n",
      " max_pooling2d_63 (MaxPoolin  (None, 55, 55, 64)       0         \n",
      " g2D)                                                            \n",
      "                                                                 \n",
      " conv2d_84 (Conv2D)          (None, 53, 53, 128)       73856     \n",
      "                                                                 \n",
      " conv2d_85 (Conv2D)          (None, 51, 51, 128)       147584    \n",
      "                                                                 \n",
      " max_pooling2d_64 (MaxPoolin  (None, 25, 25, 128)      0         \n",
      " g2D)                                                            \n",
      "                                                                 \n",
      " conv2d_86 (Conv2D)          (None, 23, 23, 256)       295168    \n",
      "                                                                 \n",
      " conv2d_87 (Conv2D)          (None, 21, 21, 256)       590080    \n",
      "                                                                 \n",
      " max_pooling2d_65 (MaxPoolin  (None, 10, 10, 256)      0         \n",
      " g2D)                                                            \n",
      "                                                                 \n",
      " conv2d_88 (Conv2D)          (None, 8, 8, 512)         1180160   \n",
      "                                                                 \n",
      " conv2d_89 (Conv2D)          (None, 6, 6, 512)         2359808   \n",
      "                                                                 \n",
      " conv2d_90 (Conv2D)          (None, 4, 4, 512)         2359808   \n",
      "                                                                 \n",
      " max_pooling2d_66 (MaxPoolin  (None, 2, 2, 512)        0         \n",
      " g2D)                                                            \n",
      "                                                                 \n",
      " dropout_12 (Dropout)        (None, 2, 2, 512)         0         \n",
      "                                                                 \n",
      " flatten_15 (Flatten)        (None, 2048)              0         \n",
      "                                                                 \n",
      " dense_42 (Dense)            (None, 1024)              2098176   \n",
      "                                                                 \n",
      " dense_43 (Dense)            (None, 1024)              1049600   \n",
      "                                                                 \n",
      " dense_44 (Dense)            (None, 512)               524800    \n",
      "                                                                 \n",
      " dropout_13 (Dropout)        (None, 512)               0         \n",
      "                                                                 \n",
      " dense_45 (Dense)            (None, 8)                 4104      \n",
      "                                                                 \n",
      "=================================================================\n",
      "Total params: 10,692,584\n",
      "Trainable params: 10,692,584\n",
      "Non-trainable params: 0\n",
      "_________________________________________________________________\n",
      "Epoch 1/100\n",
      "218/218 [==============================] - 69s 311ms/step - loss: 2.0106 - accuracy: 0.6518 - precision_15: 0.0000e+00 - recall_15: 0.0000e+00 - val_loss: 1.7501 - val_accuracy: 0.7916 - val_precision_15: 0.0000e+00 - val_recall_15: 0.0000e+00\n",
      "Epoch 2/100\n",
      "218/218 [==============================] - 67s 308ms/step - loss: 1.0737 - accuracy: 0.8171 - precision_15: 0.8148 - recall_15: 0.5271 - val_loss: 0.9341 - val_accuracy: 0.7916 - val_precision_15: 0.7898 - val_recall_15: 0.7597\n",
      "Epoch 3/100\n",
      "218/218 [==============================] - 67s 308ms/step - loss: 0.8771 - accuracy: 0.8171 - precision_15: 0.8188 - recall_15: 0.7779 - val_loss: 0.9233 - val_accuracy: 0.7916 - val_precision_15: 0.7899 - val_recall_15: 0.7585\n",
      "Epoch 4/100\n",
      "218/218 [==============================] - 67s 308ms/step - loss: 0.8699 - accuracy: 0.8171 - precision_15: 0.8185 - recall_15: 0.7801 - val_loss: 0.9201 - val_accuracy: 0.7916 - val_precision_15: 0.7898 - val_recall_15: 0.7603\n",
      "Epoch 5/100\n",
      "218/218 [==============================] - 67s 308ms/step - loss: 0.8652 - accuracy: 0.8171 - precision_15: 0.8186 - recall_15: 0.7815 - val_loss: 0.9198 - val_accuracy: 0.7916 - val_precision_15: 0.7903 - val_recall_15: 0.7661\n",
      "Epoch 6/100\n",
      "218/218 [==============================] - 67s 308ms/step - loss: 0.8616 - accuracy: 0.8171 - precision_15: 0.8190 - recall_15: 0.7852 - val_loss: 0.9142 - val_accuracy: 0.7916 - val_precision_15: 0.7901 - val_recall_15: 0.7635\n",
      "Epoch 7/100\n",
      "218/218 [==============================] - 67s 308ms/step - loss: 0.8588 - accuracy: 0.8171 - precision_15: 0.8190 - recall_15: 0.7859 - val_loss: 0.9123 - val_accuracy: 0.7916 - val_precision_15: 0.7902 - val_recall_15: 0.7675\n",
      "Epoch 8/100\n",
      "218/218 [==============================] - 67s 308ms/step - loss: 0.8527 - accuracy: 0.8171 - precision_15: 0.8195 - recall_15: 0.7900 - val_loss: 0.9077 - val_accuracy: 0.7916 - val_precision_15: 0.7902 - val_recall_15: 0.7692\n",
      "Epoch 9/100\n",
      "218/218 [==============================] - 67s 308ms/step - loss: 0.8486 - accuracy: 0.8171 - precision_15: 0.8194 - recall_15: 0.7929 - val_loss: 0.9011 - val_accuracy: 0.7916 - val_precision_15: 0.7907 - val_recall_15: 0.7714\n",
      "Epoch 10/100\n",
      "218/218 [==============================] - 67s 308ms/step - loss: 0.8449 - accuracy: 0.8171 - precision_15: 0.8190 - recall_15: 0.7957 - val_loss: 0.8954 - val_accuracy: 0.7916 - val_precision_15: 0.7907 - val_recall_15: 0.7762\n",
      "Epoch 11/100\n",
      "218/218 [==============================] - 67s 308ms/step - loss: 0.8357 - accuracy: 0.8171 - precision_15: 0.8191 - recall_15: 0.8020 - val_loss: 0.8838 - val_accuracy: 0.7916 - val_precision_15: 0.7912 - val_recall_15: 0.7795\n",
      "Epoch 12/100\n",
      "218/218 [==============================] - 67s 308ms/step - loss: 0.8251 - accuracy: 0.8171 - precision_15: 0.8184 - recall_15: 0.8085 - val_loss: 0.8695 - val_accuracy: 0.7916 - val_precision_15: 0.7917 - val_recall_15: 0.7893\n",
      "Epoch 13/100\n",
      "218/218 [==============================] - 68s 313ms/step - loss: 0.8065 - accuracy: 0.8171 - precision_15: 0.8176 - recall_15: 0.8139 - val_loss: 0.8543 - val_accuracy: 0.7916 - val_precision_15: 0.7917 - val_recall_15: 0.7916\n",
      "Epoch 14/100\n",
      "218/218 [==============================] - 67s 308ms/step - loss: 0.7889 - accuracy: 0.8171 - precision_15: 0.8171 - recall_15: 0.8164 - val_loss: 0.8412 - val_accuracy: 0.7916 - val_precision_15: 0.7916 - val_recall_15: 0.7916\n",
      "Epoch 15/100\n",
      "218/218 [==============================] - 68s 309ms/step - loss: 0.7728 - accuracy: 0.8171 - precision_15: 0.8172 - recall_15: 0.8168 - val_loss: 0.8364 - val_accuracy: 0.7916 - val_precision_15: 0.7916 - val_recall_15: 0.7916\n",
      "Epoch 16/100\n",
      "218/218 [==============================] - 67s 309ms/step - loss: 0.7572 - accuracy: 0.8171 - precision_15: 0.8184 - recall_15: 0.8157 - val_loss: 0.8352 - val_accuracy: 0.7916 - val_precision_15: 0.7924 - val_recall_15: 0.7896\n",
      "Epoch 17/100\n",
      "218/218 [==============================] - 67s 309ms/step - loss: 0.7448 - accuracy: 0.8171 - precision_15: 0.8221 - recall_15: 0.8133 - val_loss: 0.8383 - val_accuracy: 0.7916 - val_precision_15: 0.7940 - val_recall_15: 0.7778\n",
      "Epoch 18/100\n",
      "218/218 [==============================] - 67s 309ms/step - loss: 0.7350 - accuracy: 0.8171 - precision_15: 0.8288 - recall_15: 0.8099 - val_loss: 0.8401 - val_accuracy: 0.7916 - val_precision_15: 0.7956 - val_recall_15: 0.7646\n",
      "Epoch 19/100\n",
      "218/218 [==============================] - 67s 309ms/step - loss: 0.7275 - accuracy: 0.8171 - precision_15: 0.8340 - recall_15: 0.8069 - val_loss: 0.8387 - val_accuracy: 0.7916 - val_precision_15: 0.7956 - val_recall_15: 0.7635\n",
      "Epoch 20/100\n",
      "218/218 [==============================] - 67s 309ms/step - loss: 0.7207 - accuracy: 0.8172 - precision_15: 0.8402 - recall_15: 0.8032 - val_loss: 0.8558 - val_accuracy: 0.7908 - val_precision_15: 0.8080 - val_recall_15: 0.7164\n",
      "Epoch 21/100\n",
      "218/218 [==============================] - 68s 309ms/step - loss: 0.7141 - accuracy: 0.8178 - precision_15: 0.8445 - recall_15: 0.8009 - val_loss: 0.8420 - val_accuracy: 0.7910 - val_precision_15: 0.8039 - val_recall_15: 0.7415\n",
      "Epoch 22/100\n",
      "218/218 [==============================] - 67s 309ms/step - loss: 0.7046 - accuracy: 0.8193 - precision_15: 0.8499 - recall_15: 0.7988 - val_loss: 0.8374 - val_accuracy: 0.7889 - val_precision_15: 0.7982 - val_recall_15: 0.7605\n",
      "Epoch 23/100\n",
      "218/218 [==============================] - 67s 309ms/step - loss: 0.6945 - accuracy: 0.8208 - precision_15: 0.8550 - recall_15: 0.7959 - val_loss: 0.8361 - val_accuracy: 0.7837 - val_precision_15: 0.8039 - val_recall_15: 0.7482\n",
      "Epoch 24/100\n",
      "218/218 [==============================] - 67s 309ms/step - loss: 0.6843 - accuracy: 0.8234 - precision_15: 0.8589 - recall_15: 0.7934 - val_loss: 0.8352 - val_accuracy: 0.7810 - val_precision_15: 0.8043 - val_recall_15: 0.7493\n",
      "Epoch 25/100\n",
      "218/218 [==============================] - 67s 309ms/step - loss: 0.6748 - accuracy: 0.8252 - precision_15: 0.8643 - recall_15: 0.7912 - val_loss: 0.8378 - val_accuracy: 0.7747 - val_precision_15: 0.8128 - val_recall_15: 0.7257\n",
      "Epoch 26/100\n",
      "218/218 [==============================] - ETA: 0s - loss: 0.6651 - accuracy: 0.8263 - precision_15: 0.8656 - recall_15: 0.7914Restoring model weights from the end of the best epoch: 16.\n",
      "218/218 [==============================] - 68s 309ms/step - loss: 0.6651 - accuracy: 0.8263 - precision_15: 0.8656 - recall_15: 0.7914 - val_loss: 0.8430 - val_accuracy: 0.7683 - val_precision_15: 0.8167 - val_recall_15: 0.7117\n",
      "Epoch 26: early stopping\n"
     ]
    },
    {
     "data": {
      "image/png": "[encoded data removed]",
      "text/plain": [
       "<Figure size 720x360 with 2 Axes>"
      ]
     },
     "metadata": {
      "needs_background": "light"
     },
     "output_type": "display_data"
    }
   ],
   "source": [
    "model = models.Sequential()\n",
    "\n",
    "model.add(layers.Conv2D(filters=16,\n",
    "                       kernel_size=3,\n",
    "                       activation='relu',\n",
    "                       input_shape=(227,227,1)))\n",
    "model.add(layers.MaxPooling2D(2,2))\n",
    "\n",
    "model.add(layers.Conv2D(64, 3, activation='relu'))\n",
    "model.add(layers.MaxPooling2D(2,2))\n",
    "\n",
    "model.add(layers.Conv2D(128, 3, activation='relu'))\n",
    "model.add(layers.Conv2D(128, 3, activation='relu'))\n",
    "model.add(layers.MaxPooling2D(2,2))\n",
    "\n",
    "model.add(layers.Conv2D(256, 3, activation='relu'))\n",
    "model.add(layers.Conv2D(256, 3, activation='relu'))\n",
    "model.add(layers.MaxPooling2D(2,2))\n",
    "\n",
    "model.add(layers.Conv2D(512, 3, activation='relu'))\n",
    "model.add(layers.Conv2D(512, 3, activation='relu'))\n",
    "model.add(layers.Conv2D(512, 3, activation='relu'))\n",
    "model.add(layers.MaxPooling2D(2,2))\n",
    "\n",
    "model.add(layers.Dropout(rate=0.5))\n",
    "\n",
    "model.add(layers.Flatten())\n",
    "model.add(layers.Dense(1024, activation='relu'))\n",
    "model.add(layers.Dense(1024, activation='relu'))\n",
    "model.add(layers.Dense(512, activation='relu'))\n",
    "model.add(layers.Dropout(rate=0.5))\n",
    "\n",
    "model.add(layers.Dense(8, activation='softmax'))\n",
    "\n",
    "\n",
    "model.compile(optimizer=optimizers.Adam(learning_rate=1e-6),\n",
    "              loss=losses.CategoricalCrossentropy(),\n",
    "              metrics=['accuracy', Precision(), Recall()])\n",
    "\n",
    "model.summary()\n",
    "\n",
    "results = model.fit(train_generator,\n",
    "                    epochs=epochs_to_train,  # Number of epochs\n",
    "                    validation_data=val_generator,\n",
    "                    verbose=1,\n",
    "                    callbacks = [early_stop]\n",
    "                    )\n",
    "\n",
    "display_model_trainTestGraphs(results)"
   ]
  },
  {
   "cell_type": "code",
   "execution_count": 59,
   "id": "9a3f0420",
   "metadata": {
    "ExecuteTime": {
     "end_time": "2022-05-22T11:07:35.373951Z",
     "start_time": "2022-05-22T11:07:33.751148Z"
    },
    "scrolled": true
   },
   "outputs": [
    {
     "name": "stderr",
     "output_type": "stream",
     "text": [
      "WARNING:absl:Found untraced functions such as _jit_compiled_convolution_op, _jit_compiled_convolution_op, _jit_compiled_convolution_op, _jit_compiled_convolution_op, _jit_compiled_convolution_op while saving (showing 5 of 9). These functions will not be directly callable after loading.\n"
     ]
    },
    {
     "name": "stdout",
     "output_type": "stream",
     "text": [
      "INFO:tensorflow:Assets written to: tf_Adam_checkpoints/Model_11\\assets\n"
     ]
    },
    {
     "name": "stderr",
     "output_type": "stream",
     "text": [
      "INFO:tensorflow:Assets written to: tf_Adam_checkpoints/Model_11\\assets\n"
     ]
    }
   ],
   "source": [
    "results.model.save(tf_chkpt_path+'Model_11')"
   ]
  },
  {
   "cell_type": "markdown",
   "id": "95b08029",
   "metadata": {},
   "source": [
    "## Model 12"
   ]
  },
  {
   "cell_type": "code",
   "execution_count": 60,
   "id": "5356af82",
   "metadata": {
    "ExecuteTime": {
     "end_time": "2022-05-22T11:28:52.872598Z",
     "start_time": "2022-05-22T11:07:35.374457Z"
    },
    "scrolled": false
   },
   "outputs": [
    {
     "name": "stdout",
     "output_type": "stream",
     "text": [
      "Model: \"sequential_16\"\n",
      "_________________________________________________________________\n",
      " Layer (type)                Output Shape              Param #   \n",
      "=================================================================\n",
      " conv2d_91 (Conv2D)          (None, 225, 225, 16)      160       \n",
      "                                                                 \n",
      " max_pooling2d_67 (MaxPoolin  (None, 112, 112, 16)     0         \n",
      " g2D)                                                            \n",
      "                                                                 \n",
      " conv2d_92 (Conv2D)          (None, 110, 110, 64)      9280      \n",
      "                                                                 \n",
      " max_pooling2d_68 (MaxPoolin  (None, 55, 55, 64)       0         \n",
      " g2D)                                                            \n",
      "                                                                 \n",
      " conv2d_93 (Conv2D)          (None, 53, 53, 128)       73856     \n",
      "                                                                 \n",
      " conv2d_94 (Conv2D)          (None, 51, 51, 128)       147584    \n",
      "                                                                 \n",
      " max_pooling2d_69 (MaxPoolin  (None, 25, 25, 128)      0         \n",
      " g2D)                                                            \n",
      "                                                                 \n",
      " conv2d_95 (Conv2D)          (None, 23, 23, 256)       295168    \n",
      "                                                                 \n",
      " conv2d_96 (Conv2D)          (None, 21, 21, 256)       590080    \n",
      "                                                                 \n",
      " max_pooling2d_70 (MaxPoolin  (None, 10, 10, 256)      0         \n",
      " g2D)                                                            \n",
      "                                                                 \n",
      " conv2d_97 (Conv2D)          (None, 8, 8, 512)         1180160   \n",
      "                                                                 \n",
      " conv2d_98 (Conv2D)          (None, 6, 6, 512)         2359808   \n",
      "                                                                 \n",
      " max_pooling2d_71 (MaxPoolin  (None, 3, 3, 512)        0         \n",
      " g2D)                                                            \n",
      "                                                                 \n",
      " flatten_16 (Flatten)        (None, 4608)              0         \n",
      "                                                                 \n",
      " dense_46 (Dense)            (None, 4096)              18878464  \n",
      "                                                                 \n",
      " dropout_14 (Dropout)        (None, 4096)              0         \n",
      "                                                                 \n",
      " dense_47 (Dense)            (None, 1024)              4195328   \n",
      "                                                                 \n",
      " dropout_15 (Dropout)        (None, 1024)              0         \n",
      "                                                                 \n",
      " dense_48 (Dense)            (None, 8)                 8200      \n",
      "                                                                 \n",
      "=================================================================\n",
      "Total params: 27,738,088\n",
      "Trainable params: 27,738,088\n",
      "Non-trainable params: 0\n",
      "_________________________________________________________________\n",
      "Epoch 1/100\n",
      "218/218 [==============================] - 68s 307ms/step - loss: 0.8165 - accuracy: 0.8145 - precision_16: 0.8249 - recall_16: 0.7809 - val_loss: 0.8522 - val_accuracy: 0.7745 - val_precision_16: 0.7915 - val_recall_16: 0.7458\n",
      "Epoch 2/100\n",
      "218/218 [==============================] - 67s 306ms/step - loss: 0.6109 - accuracy: 0.8343 - precision_16: 0.8670 - recall_16: 0.8015 - val_loss: 0.8306 - val_accuracy: 0.7906 - val_precision_16: 0.8008 - val_recall_16: 0.7690\n",
      "Epoch 3/100\n",
      "218/218 [==============================] - 67s 307ms/step - loss: 0.5020 - accuracy: 0.8588 - precision_16: 0.8791 - recall_16: 0.8370 - val_loss: 0.6676 - val_accuracy: 0.7970 - val_precision_16: 0.8141 - val_recall_16: 0.7749\n",
      "Epoch 4/100\n",
      "218/218 [==============================] - 67s 308ms/step - loss: 0.4246 - accuracy: 0.8747 - precision_16: 0.8922 - recall_16: 0.8571 - val_loss: 0.6264 - val_accuracy: 0.8181 - val_precision_16: 0.8280 - val_recall_16: 0.8075\n",
      "Epoch 5/100\n",
      "218/218 [==============================] - 67s 307ms/step - loss: 0.3787 - accuracy: 0.8881 - precision_16: 0.9006 - recall_16: 0.8729 - val_loss: 0.5792 - val_accuracy: 0.8149 - val_precision_16: 0.8306 - val_recall_16: 0.7985\n",
      "Epoch 6/100\n",
      "218/218 [==============================] - 67s 308ms/step - loss: 0.3167 - accuracy: 0.9032 - precision_16: 0.9123 - recall_16: 0.8937 - val_loss: 0.5715 - val_accuracy: 0.8335 - val_precision_16: 0.8455 - val_recall_16: 0.8187\n",
      "Epoch 7/100\n",
      "218/218 [==============================] - 67s 308ms/step - loss: 0.2796 - accuracy: 0.9133 - precision_16: 0.9202 - recall_16: 0.9053 - val_loss: 0.5681 - val_accuracy: 0.8510 - val_precision_16: 0.8591 - val_recall_16: 0.8466\n",
      "Epoch 8/100\n",
      "218/218 [==============================] - 67s 308ms/step - loss: 0.2445 - accuracy: 0.9234 - precision_16: 0.9296 - recall_16: 0.9173 - val_loss: 0.5121 - val_accuracy: 0.8554 - val_precision_16: 0.8652 - val_recall_16: 0.8499\n",
      "Epoch 9/100\n",
      "218/218 [==============================] - 67s 308ms/step - loss: 0.2119 - accuracy: 0.9335 - precision_16: 0.9393 - recall_16: 0.9284 - val_loss: 0.4558 - val_accuracy: 0.8682 - val_precision_16: 0.8759 - val_recall_16: 0.8646\n",
      "Epoch 10/100\n",
      "218/218 [==============================] - 67s 308ms/step - loss: 0.1909 - accuracy: 0.9406 - precision_16: 0.9456 - recall_16: 0.9360 - val_loss: 0.5192 - val_accuracy: 0.8499 - val_precision_16: 0.8609 - val_recall_16: 0.8413\n",
      "Epoch 11/100\n",
      "218/218 [==============================] - 67s 307ms/step - loss: 0.1659 - accuracy: 0.9480 - precision_16: 0.9521 - recall_16: 0.9442 - val_loss: 0.5429 - val_accuracy: 0.8679 - val_precision_16: 0.8730 - val_recall_16: 0.8659\n",
      "Epoch 12/100\n",
      "218/218 [==============================] - 67s 308ms/step - loss: 0.1433 - accuracy: 0.9552 - precision_16: 0.9578 - recall_16: 0.9520 - val_loss: 0.4942 - val_accuracy: 0.8678 - val_precision_16: 0.8737 - val_recall_16: 0.8629\n",
      "Epoch 13/100\n",
      "218/218 [==============================] - 67s 308ms/step - loss: 0.1202 - accuracy: 0.9615 - precision_16: 0.9641 - recall_16: 0.9592 - val_loss: 0.5665 - val_accuracy: 0.8537 - val_precision_16: 0.8608 - val_recall_16: 0.8480\n",
      "Epoch 14/100\n",
      "218/218 [==============================] - 67s 308ms/step - loss: 0.1017 - accuracy: 0.9671 - precision_16: 0.9688 - recall_16: 0.9656 - val_loss: 0.5345 - val_accuracy: 0.8703 - val_precision_16: 0.8768 - val_recall_16: 0.8667\n",
      "Epoch 15/100\n",
      "218/218 [==============================] - 67s 307ms/step - loss: 0.0824 - accuracy: 0.9731 - precision_16: 0.9742 - recall_16: 0.9719 - val_loss: 0.5970 - val_accuracy: 0.8453 - val_precision_16: 0.8529 - val_recall_16: 0.8412\n",
      "Epoch 16/100\n",
      "218/218 [==============================] - 67s 308ms/step - loss: 0.0720 - accuracy: 0.9762 - precision_16: 0.9774 - recall_16: 0.9746 - val_loss: 0.5909 - val_accuracy: 0.8740 - val_precision_16: 0.8775 - val_recall_16: 0.8713\n",
      "Epoch 17/100\n",
      "218/218 [==============================] - 67s 308ms/step - loss: 0.0516 - accuracy: 0.9824 - precision_16: 0.9831 - recall_16: 0.9817 - val_loss: 0.7002 - val_accuracy: 0.8729 - val_precision_16: 0.8746 - val_recall_16: 0.8715\n",
      "Epoch 18/100\n",
      "218/218 [==============================] - 67s 309ms/step - loss: 0.0539 - accuracy: 0.9814 - precision_16: 0.9823 - recall_16: 0.9805 - val_loss: 0.7050 - val_accuracy: 0.8523 - val_precision_16: 0.8553 - val_recall_16: 0.8492\n",
      "Epoch 19/100\n",
      "218/218 [==============================] - ETA: 0s - loss: 0.0338 - accuracy: 0.9885 - precision_16: 0.9891 - recall_16: 0.9879Restoring model weights from the end of the best epoch: 9.\n",
      "218/218 [==============================] - 67s 308ms/step - loss: 0.0338 - accuracy: 0.9885 - precision_16: 0.9891 - recall_16: 0.9879 - val_loss: 0.7986 - val_accuracy: 0.8634 - val_precision_16: 0.8657 - val_recall_16: 0.8621\n",
      "Epoch 19: early stopping\n"
     ]
    },
    {
     "data": {
      "image/png": "[encoded data removed]",
      "text/plain": [
       "<Figure size 720x360 with 2 Axes>"
      ]
     },
     "metadata": {
      "needs_background": "light"
     },
     "output_type": "display_data"
    }
   ],
   "source": [
    "model = models.Sequential()\n",
    "\n",
    "model.add(layers.Conv2D(filters=16,\n",
    "                       kernel_size=3,\n",
    "                       activation='relu',\n",
    "                       input_shape=(227,227,1)))\n",
    "model.add(layers.MaxPooling2D(2,2))\n",
    "\n",
    "model.add(layers.Conv2D(64, 3, activation='relu'))\n",
    "model.add(layers.MaxPooling2D(2,2))\n",
    "\n",
    "model.add(layers.Conv2D(128, 3, activation='relu'))\n",
    "model.add(layers.Conv2D(128, 3, activation='relu'))\n",
    "model.add(layers.MaxPooling2D(2,2))\n",
    "\n",
    "model.add(layers.Conv2D(256, 3, activation='relu'))\n",
    "model.add(layers.Conv2D(256, 3, activation='relu'))\n",
    "model.add(layers.MaxPooling2D(2,2))\n",
    "\n",
    "model.add(layers.Conv2D(512, 3, activation='relu'))\n",
    "model.add(layers.Conv2D(512, 3, activation='relu'))\n",
    "model.add(layers.MaxPooling2D(2,2))\n",
    "\n",
    "\n",
    "\n",
    "model.add(layers.Flatten())\n",
    "model.add(layers.Dense(4096, activation='relu'))\n",
    "model.add(layers.Dropout(rate=0.5))\n",
    "model.add(layers.Dense(1024, activation='relu'))\n",
    "model.add(layers.Dropout(rate=0.5))\n",
    "\n",
    "model.add(layers.Dense(8, activation='softmax'))\n",
    "\n",
    "\n",
    "model.compile(optimizer=optimizers.Adam(learning_rate=0.0001),\n",
    "              loss=losses.CategoricalCrossentropy(),\n",
    "              metrics=['accuracy', Precision(), Recall()])\n",
    "\n",
    "model.summary()\n",
    "\n",
    "results = model.fit(train_generator,\n",
    "                    epochs=epochs_to_train,  # Number of epochs\n",
    "                    validation_data=val_generator,\n",
    "                    verbose=1,\n",
    "                    callbacks = [early_stop]\n",
    "                    )\n",
    "\n",
    "display_model_trainTestGraphs(results)"
   ]
  },
  {
   "cell_type": "code",
   "execution_count": 61,
   "id": "b679c84e",
   "metadata": {
    "ExecuteTime": {
     "end_time": "2022-05-22T11:28:54.606884Z",
     "start_time": "2022-05-22T11:28:52.873598Z"
    },
    "scrolled": true
   },
   "outputs": [
    {
     "name": "stderr",
     "output_type": "stream",
     "text": [
      "WARNING:absl:Found untraced functions such as _jit_compiled_convolution_op, _jit_compiled_convolution_op, _jit_compiled_convolution_op, _jit_compiled_convolution_op, _jit_compiled_convolution_op while saving (showing 5 of 8). These functions will not be directly callable after loading.\n"
     ]
    },
    {
     "name": "stdout",
     "output_type": "stream",
     "text": [
      "INFO:tensorflow:Assets written to: tf_Adam_checkpoints/Model_12\\assets\n"
     ]
    },
    {
     "name": "stderr",
     "output_type": "stream",
     "text": [
      "INFO:tensorflow:Assets written to: tf_Adam_checkpoints/Model_12\\assets\n"
     ]
    }
   ],
   "source": [
    "results.model.save(tf_chkpt_path+'Model_12')"
   ]
  },
  {
   "cell_type": "code",
   "execution_count": null,
   "id": "e27f511b",
   "metadata": {},
   "outputs": [],
   "source": []
  },
  {
   "cell_type": "markdown",
   "id": "f1684a0e",
   "metadata": {},
   "source": [
    "## Model 14 - MOAR COMPLEXITY!"
   ]
  },
  {
   "cell_type": "markdown",
   "id": "bc335c1d",
   "metadata": {},
   "source": [
    "changed first layers filter to 32\n",
    "3 dropout layers\n",
    "- after of all convolution sets\n",
    "- on first dense layer\n",
    "- on second dense layer"
   ]
  },
  {
   "cell_type": "code",
   "execution_count": 11,
   "id": "3d559da8",
   "metadata": {
    "ExecuteTime": {
     "end_time": "2022-05-22T11:34:56.732946Z",
     "start_time": "2022-05-22T11:34:44.428858Z"
    },
    "scrolled": false
   },
   "outputs": [
    {
     "name": "stdout",
     "output_type": "stream",
     "text": [
      "Model: \"sequential_1\"\n",
      "_________________________________________________________________\n",
      " Layer (type)                Output Shape              Param #   \n",
      "=================================================================\n",
      " conv2d_8 (Conv2D)           (None, 225, 225, 32)      320       \n",
      "                                                                 \n",
      " batch_normalization_8 (Batc  (None, 225, 225, 32)     128       \n",
      " hNormalization)                                                 \n",
      "                                                                 \n",
      " max_pooling2d_5 (MaxPooling  (None, 112, 112, 32)     0         \n",
      " 2D)                                                             \n",
      "                                                                 \n",
      " conv2d_9 (Conv2D)           (None, 110, 110, 64)      18496     \n",
      "                                                                 \n",
      " batch_normalization_9 (Batc  (None, 110, 110, 64)     256       \n",
      " hNormalization)                                                 \n",
      "                                                                 \n",
      " max_pooling2d_6 (MaxPooling  (None, 55, 55, 64)       0         \n",
      " 2D)                                                             \n",
      "                                                                 \n",
      " conv2d_10 (Conv2D)          (None, 53, 53, 128)       73856     \n",
      "                                                                 \n",
      " batch_normalization_10 (Bat  (None, 53, 53, 128)      512       \n",
      " chNormalization)                                                \n",
      "                                                                 \n",
      " conv2d_11 (Conv2D)          (None, 51, 51, 128)       147584    \n",
      "                                                                 \n",
      " batch_normalization_11 (Bat  (None, 51, 51, 128)      512       \n",
      " chNormalization)                                                \n",
      "                                                                 \n",
      " max_pooling2d_7 (MaxPooling  (None, 25, 25, 128)      0         \n",
      " 2D)                                                             \n",
      "                                                                 \n",
      " conv2d_12 (Conv2D)          (None, 23, 23, 256)       295168    \n",
      "                                                                 \n",
      " batch_normalization_12 (Bat  (None, 23, 23, 256)      1024      \n",
      " chNormalization)                                                \n",
      "                                                                 \n",
      " conv2d_13 (Conv2D)          (None, 21, 21, 256)       590080    \n",
      "                                                                 \n",
      " batch_normalization_13 (Bat  (None, 21, 21, 256)      1024      \n",
      " chNormalization)                                                \n",
      "                                                                 \n",
      " max_pooling2d_8 (MaxPooling  (None, 10, 10, 256)      0         \n",
      " 2D)                                                             \n",
      "                                                                 \n",
      " conv2d_14 (Conv2D)          (None, 8, 8, 512)         1180160   \n",
      "                                                                 \n",
      " batch_normalization_14 (Bat  (None, 8, 8, 512)        2048      \n",
      " chNormalization)                                                \n",
      "                                                                 \n",
      " conv2d_15 (Conv2D)          (None, 6, 6, 512)         2359808   \n",
      "                                                                 \n",
      " batch_normalization_15 (Bat  (None, 6, 6, 512)        2048      \n",
      " chNormalization)                                                \n",
      "                                                                 \n",
      " max_pooling2d_9 (MaxPooling  (None, 3, 3, 512)        0         \n",
      " 2D)                                                             \n",
      "                                                                 \n",
      " dropout_2 (Dropout)         (None, 3, 3, 512)         0         \n",
      "                                                                 \n",
      " flatten_1 (Flatten)         (None, 4608)              0         \n",
      "                                                                 \n",
      " dense_3 (Dense)             (None, 4096)              18878464  \n",
      "                                                                 \n",
      " dropout_3 (Dropout)         (None, 4096)              0         \n",
      "                                                                 \n",
      " dense_4 (Dense)             (None, 1024)              4195328   \n",
      "                                                                 \n",
      " dropout_4 (Dropout)         (None, 1024)              0         \n",
      "                                                                 \n",
      " dense_5 (Dense)             (None, 8)                 8200      \n",
      "                                                                 \n",
      "=================================================================\n",
      "Total params: 27,755,016\n",
      "Trainable params: 27,751,240\n",
      "Non-trainable params: 3,776\n",
      "_________________________________________________________________\n",
      "Epoch 1/100\n"
     ]
    },
    {
     "ename": "ResourceExhaustedError",
     "evalue": "Graph execution error:\n\nDetected at node 'sequential_1/batch_normalization_9/FusedBatchNormV3' defined at (most recent call last):\n    File \"C:\\Users\\saads\\anaconda3\\envs\\tfGPU\\lib\\runpy.py\", line 197, in _run_module_as_main\n      return _run_code(code, main_globals, None,\n    File \"C:\\Users\\saads\\anaconda3\\envs\\tfGPU\\lib\\runpy.py\", line 87, in _run_code\n      exec(code, run_globals)\n    File \"C:\\Users\\saads\\anaconda3\\envs\\tfGPU\\lib\\site-packages\\ipykernel_launcher.py\", line 17, in <module>\n      app.launch_new_instance()\n    File \"C:\\Users\\saads\\anaconda3\\envs\\tfGPU\\lib\\site-packages\\traitlets\\config\\application.py\", line 846, in launch_instance\n      app.start()\n    File \"C:\\Users\\saads\\anaconda3\\envs\\tfGPU\\lib\\site-packages\\ipykernel\\kernelapp.py\", line 712, in start\n      self.io_loop.start()\n    File \"C:\\Users\\saads\\anaconda3\\envs\\tfGPU\\lib\\site-packages\\tornado\\platform\\asyncio.py\", line 199, in start\n      self.asyncio_loop.run_forever()\n    File \"C:\\Users\\saads\\anaconda3\\envs\\tfGPU\\lib\\asyncio\\base_events.py\", line 601, in run_forever\n      self._run_once()\n    File \"C:\\Users\\saads\\anaconda3\\envs\\tfGPU\\lib\\asyncio\\base_events.py\", line 1905, in _run_once\n      handle._run()\n    File \"C:\\Users\\saads\\anaconda3\\envs\\tfGPU\\lib\\asyncio\\events.py\", line 80, in _run\n      self._context.run(self._callback, *self._args)\n    File \"C:\\Users\\saads\\anaconda3\\envs\\tfGPU\\lib\\site-packages\\ipykernel\\kernelbase.py\", line 504, in dispatch_queue\n      await self.process_one()\n    File \"C:\\Users\\saads\\anaconda3\\envs\\tfGPU\\lib\\site-packages\\ipykernel\\kernelbase.py\", line 493, in process_one\n      await dispatch(*args)\n    File \"C:\\Users\\saads\\anaconda3\\envs\\tfGPU\\lib\\site-packages\\ipykernel\\kernelbase.py\", line 400, in dispatch_shell\n      await result\n    File \"C:\\Users\\saads\\anaconda3\\envs\\tfGPU\\lib\\site-packages\\ipykernel\\kernelbase.py\", line 724, in execute_request\n      reply_content = await reply_content\n    File \"C:\\Users\\saads\\anaconda3\\envs\\tfGPU\\lib\\site-packages\\ipykernel\\ipkernel.py\", line 383, in do_execute\n      res = shell.run_cell(\n    File \"C:\\Users\\saads\\anaconda3\\envs\\tfGPU\\lib\\site-packages\\ipykernel\\zmqshell.py\", line 528, in run_cell\n      return super().run_cell(*args, **kwargs)\n    File \"C:\\Users\\saads\\anaconda3\\envs\\tfGPU\\lib\\site-packages\\IPython\\core\\interactiveshell.py\", line 2880, in run_cell\n      result = self._run_cell(\n    File \"C:\\Users\\saads\\anaconda3\\envs\\tfGPU\\lib\\site-packages\\IPython\\core\\interactiveshell.py\", line 2935, in _run_cell\n      return runner(coro)\n    File \"C:\\Users\\saads\\anaconda3\\envs\\tfGPU\\lib\\site-packages\\IPython\\core\\async_helpers.py\", line 129, in _pseudo_sync_runner\n      coro.send(None)\n    File \"C:\\Users\\saads\\anaconda3\\envs\\tfGPU\\lib\\site-packages\\IPython\\core\\interactiveshell.py\", line 3134, in run_cell_async\n      has_raised = await self.run_ast_nodes(code_ast.body, cell_name,\n    File \"C:\\Users\\saads\\anaconda3\\envs\\tfGPU\\lib\\site-packages\\IPython\\core\\interactiveshell.py\", line 3337, in run_ast_nodes\n      if await self.run_code(code, result, async_=asy):\n    File \"C:\\Users\\saads\\anaconda3\\envs\\tfGPU\\lib\\site-packages\\IPython\\core\\interactiveshell.py\", line 3397, in run_code\n      exec(code_obj, self.user_global_ns, self.user_ns)\n    File \"C:\\Users\\saads\\AppData\\Local\\Temp\\ipykernel_17196\\1325078344.py\", line 49, in <cell line: 49>\n      results = model.fit(train_generator,\n    File \"C:\\Users\\saads\\anaconda3\\envs\\tfGPU\\lib\\site-packages\\keras\\utils\\traceback_utils.py\", line 64, in error_handler\n      return fn(*args, **kwargs)\n    File \"C:\\Users\\saads\\anaconda3\\envs\\tfGPU\\lib\\site-packages\\keras\\engine\\training.py\", line 1409, in fit\n      tmp_logs = self.train_function(iterator)\n    File \"C:\\Users\\saads\\anaconda3\\envs\\tfGPU\\lib\\site-packages\\keras\\engine\\training.py\", line 1051, in train_function\n      return step_function(self, iterator)\n    File \"C:\\Users\\saads\\anaconda3\\envs\\tfGPU\\lib\\site-packages\\keras\\engine\\training.py\", line 1040, in step_function\n      outputs = model.distribute_strategy.run(run_step, args=(data,))\n    File \"C:\\Users\\saads\\anaconda3\\envs\\tfGPU\\lib\\site-packages\\keras\\engine\\training.py\", line 1030, in run_step\n      outputs = model.train_step(data)\n    File \"C:\\Users\\saads\\anaconda3\\envs\\tfGPU\\lib\\site-packages\\keras\\engine\\training.py\", line 889, in train_step\n      y_pred = self(x, training=True)\n    File \"C:\\Users\\saads\\anaconda3\\envs\\tfGPU\\lib\\site-packages\\keras\\utils\\traceback_utils.py\", line 64, in error_handler\n      return fn(*args, **kwargs)\n    File \"C:\\Users\\saads\\anaconda3\\envs\\tfGPU\\lib\\site-packages\\keras\\engine\\training.py\", line 490, in __call__\n      return super().__call__(*args, **kwargs)\n    File \"C:\\Users\\saads\\anaconda3\\envs\\tfGPU\\lib\\site-packages\\keras\\utils\\traceback_utils.py\", line 64, in error_handler\n      return fn(*args, **kwargs)\n    File \"C:\\Users\\saads\\anaconda3\\envs\\tfGPU\\lib\\site-packages\\keras\\engine\\base_layer.py\", line 1014, in __call__\n      outputs = call_fn(inputs, *args, **kwargs)\n    File \"C:\\Users\\saads\\anaconda3\\envs\\tfGPU\\lib\\site-packages\\keras\\utils\\traceback_utils.py\", line 92, in error_handler\n      return fn(*args, **kwargs)\n    File \"C:\\Users\\saads\\anaconda3\\envs\\tfGPU\\lib\\site-packages\\keras\\engine\\sequential.py\", line 374, in call\n      return super(Sequential, self).call(inputs, training=training, mask=mask)\n    File \"C:\\Users\\saads\\anaconda3\\envs\\tfGPU\\lib\\site-packages\\keras\\engine\\functional.py\", line 458, in call\n      return self._run_internal_graph(\n    File \"C:\\Users\\saads\\anaconda3\\envs\\tfGPU\\lib\\site-packages\\keras\\engine\\functional.py\", line 596, in _run_internal_graph\n      outputs = node.layer(*args, **kwargs)\n    File \"C:\\Users\\saads\\anaconda3\\envs\\tfGPU\\lib\\site-packages\\keras\\utils\\traceback_utils.py\", line 64, in error_handler\n      return fn(*args, **kwargs)\n    File \"C:\\Users\\saads\\anaconda3\\envs\\tfGPU\\lib\\site-packages\\keras\\engine\\base_layer.py\", line 1014, in __call__\n      outputs = call_fn(inputs, *args, **kwargs)\n    File \"C:\\Users\\saads\\anaconda3\\envs\\tfGPU\\lib\\site-packages\\keras\\utils\\traceback_utils.py\", line 92, in error_handler\n      return fn(*args, **kwargs)\n    File \"C:\\Users\\saads\\anaconda3\\envs\\tfGPU\\lib\\site-packages\\keras\\layers\\normalization\\batch_normalization.py\", line 750, in call\n      outputs = self._fused_batch_norm(inputs, training=training)\n    File \"C:\\Users\\saads\\anaconda3\\envs\\tfGPU\\lib\\site-packages\\keras\\layers\\normalization\\batch_normalization.py\", line 594, in _fused_batch_norm\n      output, mean, variance = control_flow_util.smart_cond(\n    File \"C:\\Users\\saads\\anaconda3\\envs\\tfGPU\\lib\\site-packages\\keras\\utils\\control_flow_util.py\", line 105, in smart_cond\n      return tf.__internal__.smart_cond.smart_cond(\n    File \"C:\\Users\\saads\\anaconda3\\envs\\tfGPU\\lib\\site-packages\\keras\\layers\\normalization\\batch_normalization.py\", line 571, in _fused_batch_norm_training\n      return tf.compat.v1.nn.fused_batch_norm(\nNode: 'sequential_1/batch_normalization_9/FusedBatchNormV3'\nDetected at node 'sequential_1/batch_normalization_9/FusedBatchNormV3' defined at (most recent call last):\n    File \"C:\\Users\\saads\\anaconda3\\envs\\tfGPU\\lib\\runpy.py\", line 197, in _run_module_as_main\n      return _run_code(code, main_globals, None,\n    File \"C:\\Users\\saads\\anaconda3\\envs\\tfGPU\\lib\\runpy.py\", line 87, in _run_code\n      exec(code, run_globals)\n    File \"C:\\Users\\saads\\anaconda3\\envs\\tfGPU\\lib\\site-packages\\ipykernel_launcher.py\", line 17, in <module>\n      app.launch_new_instance()\n    File \"C:\\Users\\saads\\anaconda3\\envs\\tfGPU\\lib\\site-packages\\traitlets\\config\\application.py\", line 846, in launch_instance\n      app.start()\n    File \"C:\\Users\\saads\\anaconda3\\envs\\tfGPU\\lib\\site-packages\\ipykernel\\kernelapp.py\", line 712, in start\n      self.io_loop.start()\n    File \"C:\\Users\\saads\\anaconda3\\envs\\tfGPU\\lib\\site-packages\\tornado\\platform\\asyncio.py\", line 199, in start\n      self.asyncio_loop.run_forever()\n    File \"C:\\Users\\saads\\anaconda3\\envs\\tfGPU\\lib\\asyncio\\base_events.py\", line 601, in run_forever\n      self._run_once()\n    File \"C:\\Users\\saads\\anaconda3\\envs\\tfGPU\\lib\\asyncio\\base_events.py\", line 1905, in _run_once\n      handle._run()\n    File \"C:\\Users\\saads\\anaconda3\\envs\\tfGPU\\lib\\asyncio\\events.py\", line 80, in _run\n      self._context.run(self._callback, *self._args)\n    File \"C:\\Users\\saads\\anaconda3\\envs\\tfGPU\\lib\\site-packages\\ipykernel\\kernelbase.py\", line 504, in dispatch_queue\n      await self.process_one()\n    File \"C:\\Users\\saads\\anaconda3\\envs\\tfGPU\\lib\\site-packages\\ipykernel\\kernelbase.py\", line 493, in process_one\n      await dispatch(*args)\n    File \"C:\\Users\\saads\\anaconda3\\envs\\tfGPU\\lib\\site-packages\\ipykernel\\kernelbase.py\", line 400, in dispatch_shell\n      await result\n    File \"C:\\Users\\saads\\anaconda3\\envs\\tfGPU\\lib\\site-packages\\ipykernel\\kernelbase.py\", line 724, in execute_request\n      reply_content = await reply_content\n    File \"C:\\Users\\saads\\anaconda3\\envs\\tfGPU\\lib\\site-packages\\ipykernel\\ipkernel.py\", line 383, in do_execute\n      res = shell.run_cell(\n    File \"C:\\Users\\saads\\anaconda3\\envs\\tfGPU\\lib\\site-packages\\ipykernel\\zmqshell.py\", line 528, in run_cell\n      return super().run_cell(*args, **kwargs)\n    File \"C:\\Users\\saads\\anaconda3\\envs\\tfGPU\\lib\\site-packages\\IPython\\core\\interactiveshell.py\", line 2880, in run_cell\n      result = self._run_cell(\n    File \"C:\\Users\\saads\\anaconda3\\envs\\tfGPU\\lib\\site-packages\\IPython\\core\\interactiveshell.py\", line 2935, in _run_cell\n      return runner(coro)\n    File \"C:\\Users\\saads\\anaconda3\\envs\\tfGPU\\lib\\site-packages\\IPython\\core\\async_helpers.py\", line 129, in _pseudo_sync_runner\n      coro.send(None)\n    File \"C:\\Users\\saads\\anaconda3\\envs\\tfGPU\\lib\\site-packages\\IPython\\core\\interactiveshell.py\", line 3134, in run_cell_async\n      has_raised = await self.run_ast_nodes(code_ast.body, cell_name,\n    File \"C:\\Users\\saads\\anaconda3\\envs\\tfGPU\\lib\\site-packages\\IPython\\core\\interactiveshell.py\", line 3337, in run_ast_nodes\n      if await self.run_code(code, result, async_=asy):\n    File \"C:\\Users\\saads\\anaconda3\\envs\\tfGPU\\lib\\site-packages\\IPython\\core\\interactiveshell.py\", line 3397, in run_code\n      exec(code_obj, self.user_global_ns, self.user_ns)\n    File \"C:\\Users\\saads\\AppData\\Local\\Temp\\ipykernel_17196\\1325078344.py\", line 49, in <cell line: 49>\n      results = model.fit(train_generator,\n    File \"C:\\Users\\saads\\anaconda3\\envs\\tfGPU\\lib\\site-packages\\keras\\utils\\traceback_utils.py\", line 64, in error_handler\n      return fn(*args, **kwargs)\n    File \"C:\\Users\\saads\\anaconda3\\envs\\tfGPU\\lib\\site-packages\\keras\\engine\\training.py\", line 1409, in fit\n      tmp_logs = self.train_function(iterator)\n    File \"C:\\Users\\saads\\anaconda3\\envs\\tfGPU\\lib\\site-packages\\keras\\engine\\training.py\", line 1051, in train_function\n      return step_function(self, iterator)\n    File \"C:\\Users\\saads\\anaconda3\\envs\\tfGPU\\lib\\site-packages\\keras\\engine\\training.py\", line 1040, in step_function\n      outputs = model.distribute_strategy.run(run_step, args=(data,))\n    File \"C:\\Users\\saads\\anaconda3\\envs\\tfGPU\\lib\\site-packages\\keras\\engine\\training.py\", line 1030, in run_step\n      outputs = model.train_step(data)\n    File \"C:\\Users\\saads\\anaconda3\\envs\\tfGPU\\lib\\site-packages\\keras\\engine\\training.py\", line 889, in train_step\n      y_pred = self(x, training=True)\n    File \"C:\\Users\\saads\\anaconda3\\envs\\tfGPU\\lib\\site-packages\\keras\\utils\\traceback_utils.py\", line 64, in error_handler\n      return fn(*args, **kwargs)\n    File \"C:\\Users\\saads\\anaconda3\\envs\\tfGPU\\lib\\site-packages\\keras\\engine\\training.py\", line 490, in __call__\n      return super().__call__(*args, **kwargs)\n    File \"C:\\Users\\saads\\anaconda3\\envs\\tfGPU\\lib\\site-packages\\keras\\utils\\traceback_utils.py\", line 64, in error_handler\n      return fn(*args, **kwargs)\n    File \"C:\\Users\\saads\\anaconda3\\envs\\tfGPU\\lib\\site-packages\\keras\\engine\\base_layer.py\", line 1014, in __call__\n      outputs = call_fn(inputs, *args, **kwargs)\n    File \"C:\\Users\\saads\\anaconda3\\envs\\tfGPU\\lib\\site-packages\\keras\\utils\\traceback_utils.py\", line 92, in error_handler\n      return fn(*args, **kwargs)\n    File \"C:\\Users\\saads\\anaconda3\\envs\\tfGPU\\lib\\site-packages\\keras\\engine\\sequential.py\", line 374, in call\n      return super(Sequential, self).call(inputs, training=training, mask=mask)\n    File \"C:\\Users\\saads\\anaconda3\\envs\\tfGPU\\lib\\site-packages\\keras\\engine\\functional.py\", line 458, in call\n      return self._run_internal_graph(\n    File \"C:\\Users\\saads\\anaconda3\\envs\\tfGPU\\lib\\site-packages\\keras\\engine\\functional.py\", line 596, in _run_internal_graph\n      outputs = node.layer(*args, **kwargs)\n    File \"C:\\Users\\saads\\anaconda3\\envs\\tfGPU\\lib\\site-packages\\keras\\utils\\traceback_utils.py\", line 64, in error_handler\n      return fn(*args, **kwargs)\n    File \"C:\\Users\\saads\\anaconda3\\envs\\tfGPU\\lib\\site-packages\\keras\\engine\\base_layer.py\", line 1014, in __call__\n      outputs = call_fn(inputs, *args, **kwargs)\n    File \"C:\\Users\\saads\\anaconda3\\envs\\tfGPU\\lib\\site-packages\\keras\\utils\\traceback_utils.py\", line 92, in error_handler\n      return fn(*args, **kwargs)\n    File \"C:\\Users\\saads\\anaconda3\\envs\\tfGPU\\lib\\site-packages\\keras\\layers\\normalization\\batch_normalization.py\", line 750, in call\n      outputs = self._fused_batch_norm(inputs, training=training)\n    File \"C:\\Users\\saads\\anaconda3\\envs\\tfGPU\\lib\\site-packages\\keras\\layers\\normalization\\batch_normalization.py\", line 594, in _fused_batch_norm\n      output, mean, variance = control_flow_util.smart_cond(\n    File \"C:\\Users\\saads\\anaconda3\\envs\\tfGPU\\lib\\site-packages\\keras\\utils\\control_flow_util.py\", line 105, in smart_cond\n      return tf.__internal__.smart_cond.smart_cond(\n    File \"C:\\Users\\saads\\anaconda3\\envs\\tfGPU\\lib\\site-packages\\keras\\layers\\normalization\\batch_normalization.py\", line 571, in _fused_batch_norm_training\n      return tf.compat.v1.nn.fused_batch_norm(\nNode: 'sequential_1/batch_normalization_9/FusedBatchNormV3'\n2 root error(s) found.\n  (0) RESOURCE_EXHAUSTED:  OOM when allocating tensor with shape[225,64,110,110] and type float on /job:localhost/replica:0/task:0/device:GPU:0 by allocator GPU_0_bfc\n\t [[{{node sequential_1/batch_normalization_9/FusedBatchNormV3}}]]\nHint: If you want to see a list of allocated tensors when OOM happens, add report_tensor_allocations_upon_oom to RunOptions for current allocation info. This isn't available when running in Eager mode.\n\n\t [[assert_less_equal/Assert/AssertGuard/pivot_f/_13/_45]]\nHint: If you want to see a list of allocated tensors when OOM happens, add report_tensor_allocations_upon_oom to RunOptions for current allocation info. This isn't available when running in Eager mode.\n\n  (1) RESOURCE_EXHAUSTED:  OOM when allocating tensor with shape[225,64,110,110] and type float on /job:localhost/replica:0/task:0/device:GPU:0 by allocator GPU_0_bfc\n\t [[{{node sequential_1/batch_normalization_9/FusedBatchNormV3}}]]\nHint: If you want to see a list of allocated tensors when OOM happens, add report_tensor_allocations_upon_oom to RunOptions for current allocation info. This isn't available when running in Eager mode.\n\n0 successful operations.\n0 derived errors ignored. [Op:__inference_train_function_6076]",
     "output_type": "error",
     "traceback": [
      "\u001b[1;31m---------------------------------------------------------------------------\u001b[0m",
      "\u001b[1;31mResourceExhaustedError\u001b[0m                    Traceback (most recent call last)",
      "Input \u001b[1;32mIn [11]\u001b[0m, in \u001b[0;36m<cell line: 49>\u001b[1;34m()\u001b[0m\n\u001b[0;32m     43\u001b[0m model\u001b[38;5;241m.\u001b[39mcompile(optimizer\u001b[38;5;241m=\u001b[39moptimizers\u001b[38;5;241m.\u001b[39mAdam(learning_rate\u001b[38;5;241m=\u001b[39m\u001b[38;5;241m0.0001\u001b[39m),\n\u001b[0;32m     44\u001b[0m               loss\u001b[38;5;241m=\u001b[39mlosses\u001b[38;5;241m.\u001b[39mCategoricalCrossentropy(),\n\u001b[0;32m     45\u001b[0m               metrics\u001b[38;5;241m=\u001b[39m[\u001b[38;5;124m'\u001b[39m\u001b[38;5;124maccuracy\u001b[39m\u001b[38;5;124m'\u001b[39m, Precision(), Recall()])\n\u001b[0;32m     47\u001b[0m model\u001b[38;5;241m.\u001b[39msummary()\n\u001b[1;32m---> 49\u001b[0m results \u001b[38;5;241m=\u001b[39m \u001b[43mmodel\u001b[49m\u001b[38;5;241;43m.\u001b[39;49m\u001b[43mfit\u001b[49m\u001b[43m(\u001b[49m\u001b[43mtrain_generator\u001b[49m\u001b[43m,\u001b[49m\n\u001b[0;32m     50\u001b[0m \u001b[43m                    \u001b[49m\u001b[43mepochs\u001b[49m\u001b[38;5;241;43m=\u001b[39;49m\u001b[43mepochs_to_train\u001b[49m\u001b[43m,\u001b[49m\u001b[43m  \u001b[49m\u001b[38;5;66;43;03m# Number of epochs\u001b[39;49;00m\n\u001b[0;32m     51\u001b[0m \u001b[43m                    \u001b[49m\u001b[43mvalidation_data\u001b[49m\u001b[38;5;241;43m=\u001b[39;49m\u001b[43mval_generator\u001b[49m\u001b[43m,\u001b[49m\n\u001b[0;32m     52\u001b[0m \u001b[43m                    \u001b[49m\u001b[43mverbose\u001b[49m\u001b[38;5;241;43m=\u001b[39;49m\u001b[38;5;241;43m1\u001b[39;49m\u001b[43m,\u001b[49m\n\u001b[0;32m     53\u001b[0m \u001b[43m                    \u001b[49m\u001b[43mcallbacks\u001b[49m\u001b[43m \u001b[49m\u001b[38;5;241;43m=\u001b[39;49m\u001b[43m \u001b[49m\u001b[43m[\u001b[49m\u001b[43mearly_stop\u001b[49m\u001b[43m]\u001b[49m\n\u001b[0;32m     54\u001b[0m \u001b[43m                    \u001b[49m\u001b[43m)\u001b[49m\n\u001b[0;32m     56\u001b[0m display_model_trainTestGraphs(results)\n",
      "File \u001b[1;32m~\\anaconda3\\envs\\tfGPU\\lib\\site-packages\\keras\\utils\\traceback_utils.py:67\u001b[0m, in \u001b[0;36mfilter_traceback.<locals>.error_handler\u001b[1;34m(*args, **kwargs)\u001b[0m\n\u001b[0;32m     65\u001b[0m \u001b[38;5;28;01mexcept\u001b[39;00m \u001b[38;5;167;01mException\u001b[39;00m \u001b[38;5;28;01mas\u001b[39;00m e:  \u001b[38;5;66;03m# pylint: disable=broad-except\u001b[39;00m\n\u001b[0;32m     66\u001b[0m   filtered_tb \u001b[38;5;241m=\u001b[39m _process_traceback_frames(e\u001b[38;5;241m.\u001b[39m__traceback__)\n\u001b[1;32m---> 67\u001b[0m   \u001b[38;5;28;01mraise\u001b[39;00m e\u001b[38;5;241m.\u001b[39mwith_traceback(filtered_tb) \u001b[38;5;28;01mfrom\u001b[39;00m \u001b[38;5;28mNone\u001b[39m\n\u001b[0;32m     68\u001b[0m \u001b[38;5;28;01mfinally\u001b[39;00m:\n\u001b[0;32m     69\u001b[0m   \u001b[38;5;28;01mdel\u001b[39;00m filtered_tb\n",
      "File \u001b[1;32m~\\anaconda3\\envs\\tfGPU\\lib\\site-packages\\tensorflow\\python\\eager\\execute.py:54\u001b[0m, in \u001b[0;36mquick_execute\u001b[1;34m(op_name, num_outputs, inputs, attrs, ctx, name)\u001b[0m\n\u001b[0;32m     52\u001b[0m \u001b[38;5;28;01mtry\u001b[39;00m:\n\u001b[0;32m     53\u001b[0m   ctx\u001b[38;5;241m.\u001b[39mensure_initialized()\n\u001b[1;32m---> 54\u001b[0m   tensors \u001b[38;5;241m=\u001b[39m pywrap_tfe\u001b[38;5;241m.\u001b[39mTFE_Py_Execute(ctx\u001b[38;5;241m.\u001b[39m_handle, device_name, op_name,\n\u001b[0;32m     55\u001b[0m                                       inputs, attrs, num_outputs)\n\u001b[0;32m     56\u001b[0m \u001b[38;5;28;01mexcept\u001b[39;00m core\u001b[38;5;241m.\u001b[39m_NotOkStatusException \u001b[38;5;28;01mas\u001b[39;00m e:\n\u001b[0;32m     57\u001b[0m   \u001b[38;5;28;01mif\u001b[39;00m name \u001b[38;5;129;01mis\u001b[39;00m \u001b[38;5;129;01mnot\u001b[39;00m \u001b[38;5;28;01mNone\u001b[39;00m:\n",
      "\u001b[1;31mResourceExhaustedError\u001b[0m: Graph execution error:\n\nDetected at node 'sequential_1/batch_normalization_9/FusedBatchNormV3' defined at (most recent call last):\n    File \"C:\\Users\\saads\\anaconda3\\envs\\tfGPU\\lib\\runpy.py\", line 197, in _run_module_as_main\n      return _run_code(code, main_globals, None,\n    File \"C:\\Users\\saads\\anaconda3\\envs\\tfGPU\\lib\\runpy.py\", line 87, in _run_code\n      exec(code, run_globals)\n    File \"C:\\Users\\saads\\anaconda3\\envs\\tfGPU\\lib\\site-packages\\ipykernel_launcher.py\", line 17, in <module>\n      app.launch_new_instance()\n    File \"C:\\Users\\saads\\anaconda3\\envs\\tfGPU\\lib\\site-packages\\traitlets\\config\\application.py\", line 846, in launch_instance\n      app.start()\n    File \"C:\\Users\\saads\\anaconda3\\envs\\tfGPU\\lib\\site-packages\\ipykernel\\kernelapp.py\", line 712, in start\n      self.io_loop.start()\n    File \"C:\\Users\\saads\\anaconda3\\envs\\tfGPU\\lib\\site-packages\\tornado\\platform\\asyncio.py\", line 199, in start\n      self.asyncio_loop.run_forever()\n    File \"C:\\Users\\saads\\anaconda3\\envs\\tfGPU\\lib\\asyncio\\base_events.py\", line 601, in run_forever\n      self._run_once()\n    File \"C:\\Users\\saads\\anaconda3\\envs\\tfGPU\\lib\\asyncio\\base_events.py\", line 1905, in _run_once\n      handle._run()\n    File \"C:\\Users\\saads\\anaconda3\\envs\\tfGPU\\lib\\asyncio\\events.py\", line 80, in _run\n      self._context.run(self._callback, *self._args)\n    File \"C:\\Users\\saads\\anaconda3\\envs\\tfGPU\\lib\\site-packages\\ipykernel\\kernelbase.py\", line 504, in dispatch_queue\n      await self.process_one()\n    File \"C:\\Users\\saads\\anaconda3\\envs\\tfGPU\\lib\\site-packages\\ipykernel\\kernelbase.py\", line 493, in process_one\n      await dispatch(*args)\n    File \"C:\\Users\\saads\\anaconda3\\envs\\tfGPU\\lib\\site-packages\\ipykernel\\kernelbase.py\", line 400, in dispatch_shell\n      await result\n    File \"C:\\Users\\saads\\anaconda3\\envs\\tfGPU\\lib\\site-packages\\ipykernel\\kernelbase.py\", line 724, in execute_request\n      reply_content = await reply_content\n    File \"C:\\Users\\saads\\anaconda3\\envs\\tfGPU\\lib\\site-packages\\ipykernel\\ipkernel.py\", line 383, in do_execute\n      res = shell.run_cell(\n    File \"C:\\Users\\saads\\anaconda3\\envs\\tfGPU\\lib\\site-packages\\ipykernel\\zmqshell.py\", line 528, in run_cell\n      return super().run_cell(*args, **kwargs)\n    File \"C:\\Users\\saads\\anaconda3\\envs\\tfGPU\\lib\\site-packages\\IPython\\core\\interactiveshell.py\", line 2880, in run_cell\n      result = self._run_cell(\n    File \"C:\\Users\\saads\\anaconda3\\envs\\tfGPU\\lib\\site-packages\\IPython\\core\\interactiveshell.py\", line 2935, in _run_cell\n      return runner(coro)\n    File \"C:\\Users\\saads\\anaconda3\\envs\\tfGPU\\lib\\site-packages\\IPython\\core\\async_helpers.py\", line 129, in _pseudo_sync_runner\n      coro.send(None)\n    File \"C:\\Users\\saads\\anaconda3\\envs\\tfGPU\\lib\\site-packages\\IPython\\core\\interactiveshell.py\", line 3134, in run_cell_async\n      has_raised = await self.run_ast_nodes(code_ast.body, cell_name,\n    File \"C:\\Users\\saads\\anaconda3\\envs\\tfGPU\\lib\\site-packages\\IPython\\core\\interactiveshell.py\", line 3337, in run_ast_nodes\n      if await self.run_code(code, result, async_=asy):\n    File \"C:\\Users\\saads\\anaconda3\\envs\\tfGPU\\lib\\site-packages\\IPython\\core\\interactiveshell.py\", line 3397, in run_code\n      exec(code_obj, self.user_global_ns, self.user_ns)\n    File \"C:\\Users\\saads\\AppData\\Local\\Temp\\ipykernel_17196\\1325078344.py\", line 49, in <cell line: 49>\n      results = model.fit(train_generator,\n    File \"C:\\Users\\saads\\anaconda3\\envs\\tfGPU\\lib\\site-packages\\keras\\utils\\traceback_utils.py\", line 64, in error_handler\n      return fn(*args, **kwargs)\n    File \"C:\\Users\\saads\\anaconda3\\envs\\tfGPU\\lib\\site-packages\\keras\\engine\\training.py\", line 1409, in fit\n      tmp_logs = self.train_function(iterator)\n    File \"C:\\Users\\saads\\anaconda3\\envs\\tfGPU\\lib\\site-packages\\keras\\engine\\training.py\", line 1051, in train_function\n      return step_function(self, iterator)\n    File \"C:\\Users\\saads\\anaconda3\\envs\\tfGPU\\lib\\site-packages\\keras\\engine\\training.py\", line 1040, in step_function\n      outputs = model.distribute_strategy.run(run_step, args=(data,))\n    File \"C:\\Users\\saads\\anaconda3\\envs\\tfGPU\\lib\\site-packages\\keras\\engine\\training.py\", line 1030, in run_step\n      outputs = model.train_step(data)\n    File \"C:\\Users\\saads\\anaconda3\\envs\\tfGPU\\lib\\site-packages\\keras\\engine\\training.py\", line 889, in train_step\n      y_pred = self(x, training=True)\n    File \"C:\\Users\\saads\\anaconda3\\envs\\tfGPU\\lib\\site-packages\\keras\\utils\\traceback_utils.py\", line 64, in error_handler\n      return fn(*args, **kwargs)\n    File \"C:\\Users\\saads\\anaconda3\\envs\\tfGPU\\lib\\site-packages\\keras\\engine\\training.py\", line 490, in __call__\n      return super().__call__(*args, **kwargs)\n    File \"C:\\Users\\saads\\anaconda3\\envs\\tfGPU\\lib\\site-packages\\keras\\utils\\traceback_utils.py\", line 64, in error_handler\n      return fn(*args, **kwargs)\n    File \"C:\\Users\\saads\\anaconda3\\envs\\tfGPU\\lib\\site-packages\\keras\\engine\\base_layer.py\", line 1014, in __call__\n      outputs = call_fn(inputs, *args, **kwargs)\n    File \"C:\\Users\\saads\\anaconda3\\envs\\tfGPU\\lib\\site-packages\\keras\\utils\\traceback_utils.py\", line 92, in error_handler\n      return fn(*args, **kwargs)\n    File \"C:\\Users\\saads\\anaconda3\\envs\\tfGPU\\lib\\site-packages\\keras\\engine\\sequential.py\", line 374, in call\n      return super(Sequential, self).call(inputs, training=training, mask=mask)\n    File \"C:\\Users\\saads\\anaconda3\\envs\\tfGPU\\lib\\site-packages\\keras\\engine\\functional.py\", line 458, in call\n      return self._run_internal_graph(\n    File \"C:\\Users\\saads\\anaconda3\\envs\\tfGPU\\lib\\site-packages\\keras\\engine\\functional.py\", line 596, in _run_internal_graph\n      outputs = node.layer(*args, **kwargs)\n    File \"C:\\Users\\saads\\anaconda3\\envs\\tfGPU\\lib\\site-packages\\keras\\utils\\traceback_utils.py\", line 64, in error_handler\n      return fn(*args, **kwargs)\n    File \"C:\\Users\\saads\\anaconda3\\envs\\tfGPU\\lib\\site-packages\\keras\\engine\\base_layer.py\", line 1014, in __call__\n      outputs = call_fn(inputs, *args, **kwargs)\n    File \"C:\\Users\\saads\\anaconda3\\envs\\tfGPU\\lib\\site-packages\\keras\\utils\\traceback_utils.py\", line 92, in error_handler\n      return fn(*args, **kwargs)\n    File \"C:\\Users\\saads\\anaconda3\\envs\\tfGPU\\lib\\site-packages\\keras\\layers\\normalization\\batch_normalization.py\", line 750, in call\n      outputs = self._fused_batch_norm(inputs, training=training)\n    File \"C:\\Users\\saads\\anaconda3\\envs\\tfGPU\\lib\\site-packages\\keras\\layers\\normalization\\batch_normalization.py\", line 594, in _fused_batch_norm\n      output, mean, variance = control_flow_util.smart_cond(\n    File \"C:\\Users\\saads\\anaconda3\\envs\\tfGPU\\lib\\site-packages\\keras\\utils\\control_flow_util.py\", line 105, in smart_cond\n      return tf.__internal__.smart_cond.smart_cond(\n    File \"C:\\Users\\saads\\anaconda3\\envs\\tfGPU\\lib\\site-packages\\keras\\layers\\normalization\\batch_normalization.py\", line 571, in _fused_batch_norm_training\n      return tf.compat.v1.nn.fused_batch_norm(\nNode: 'sequential_1/batch_normalization_9/FusedBatchNormV3'\nDetected at node 'sequential_1/batch_normalization_9/FusedBatchNormV3' defined at (most recent call last):\n    File \"C:\\Users\\saads\\anaconda3\\envs\\tfGPU\\lib\\runpy.py\", line 197, in _run_module_as_main\n      return _run_code(code, main_globals, None,\n    File \"C:\\Users\\saads\\anaconda3\\envs\\tfGPU\\lib\\runpy.py\", line 87, in _run_code\n      exec(code, run_globals)\n    File \"C:\\Users\\saads\\anaconda3\\envs\\tfGPU\\lib\\site-packages\\ipykernel_launcher.py\", line 17, in <module>\n      app.launch_new_instance()\n    File \"C:\\Users\\saads\\anaconda3\\envs\\tfGPU\\lib\\site-packages\\traitlets\\config\\application.py\", line 846, in launch_instance\n      app.start()\n    File \"C:\\Users\\saads\\anaconda3\\envs\\tfGPU\\lib\\site-packages\\ipykernel\\kernelapp.py\", line 712, in start\n      self.io_loop.start()\n    File \"C:\\Users\\saads\\anaconda3\\envs\\tfGPU\\lib\\site-packages\\tornado\\platform\\asyncio.py\", line 199, in start\n      self.asyncio_loop.run_forever()\n    File \"C:\\Users\\saads\\anaconda3\\envs\\tfGPU\\lib\\asyncio\\base_events.py\", line 601, in run_forever\n      self._run_once()\n    File \"C:\\Users\\saads\\anaconda3\\envs\\tfGPU\\lib\\asyncio\\base_events.py\", line 1905, in _run_once\n      handle._run()\n    File \"C:\\Users\\saads\\anaconda3\\envs\\tfGPU\\lib\\asyncio\\events.py\", line 80, in _run\n      self._context.run(self._callback, *self._args)\n    File \"C:\\Users\\saads\\anaconda3\\envs\\tfGPU\\lib\\site-packages\\ipykernel\\kernelbase.py\", line 504, in dispatch_queue\n      await self.process_one()\n    File \"C:\\Users\\saads\\anaconda3\\envs\\tfGPU\\lib\\site-packages\\ipykernel\\kernelbase.py\", line 493, in process_one\n      await dispatch(*args)\n    File \"C:\\Users\\saads\\anaconda3\\envs\\tfGPU\\lib\\site-packages\\ipykernel\\kernelbase.py\", line 400, in dispatch_shell\n      await result\n    File \"C:\\Users\\saads\\anaconda3\\envs\\tfGPU\\lib\\site-packages\\ipykernel\\kernelbase.py\", line 724, in execute_request\n      reply_content = await reply_content\n    File \"C:\\Users\\saads\\anaconda3\\envs\\tfGPU\\lib\\site-packages\\ipykernel\\ipkernel.py\", line 383, in do_execute\n      res = shell.run_cell(\n    File \"C:\\Users\\saads\\anaconda3\\envs\\tfGPU\\lib\\site-packages\\ipykernel\\zmqshell.py\", line 528, in run_cell\n      return super().run_cell(*args, **kwargs)\n    File \"C:\\Users\\saads\\anaconda3\\envs\\tfGPU\\lib\\site-packages\\IPython\\core\\interactiveshell.py\", line 2880, in run_cell\n      result = self._run_cell(\n    File \"C:\\Users\\saads\\anaconda3\\envs\\tfGPU\\lib\\site-packages\\IPython\\core\\interactiveshell.py\", line 2935, in _run_cell\n      return runner(coro)\n    File \"C:\\Users\\saads\\anaconda3\\envs\\tfGPU\\lib\\site-packages\\IPython\\core\\async_helpers.py\", line 129, in _pseudo_sync_runner\n      coro.send(None)\n    File \"C:\\Users\\saads\\anaconda3\\envs\\tfGPU\\lib\\site-packages\\IPython\\core\\interactiveshell.py\", line 3134, in run_cell_async\n      has_raised = await self.run_ast_nodes(code_ast.body, cell_name,\n    File \"C:\\Users\\saads\\anaconda3\\envs\\tfGPU\\lib\\site-packages\\IPython\\core\\interactiveshell.py\", line 3337, in run_ast_nodes\n      if await self.run_code(code, result, async_=asy):\n    File \"C:\\Users\\saads\\anaconda3\\envs\\tfGPU\\lib\\site-packages\\IPython\\core\\interactiveshell.py\", line 3397, in run_code\n      exec(code_obj, self.user_global_ns, self.user_ns)\n    File \"C:\\Users\\saads\\AppData\\Local\\Temp\\ipykernel_17196\\1325078344.py\", line 49, in <cell line: 49>\n      results = model.fit(train_generator,\n    File \"C:\\Users\\saads\\anaconda3\\envs\\tfGPU\\lib\\site-packages\\keras\\utils\\traceback_utils.py\", line 64, in error_handler\n      return fn(*args, **kwargs)\n    File \"C:\\Users\\saads\\anaconda3\\envs\\tfGPU\\lib\\site-packages\\keras\\engine\\training.py\", line 1409, in fit\n      tmp_logs = self.train_function(iterator)\n    File \"C:\\Users\\saads\\anaconda3\\envs\\tfGPU\\lib\\site-packages\\keras\\engine\\training.py\", line 1051, in train_function\n      return step_function(self, iterator)\n    File \"C:\\Users\\saads\\anaconda3\\envs\\tfGPU\\lib\\site-packages\\keras\\engine\\training.py\", line 1040, in step_function\n      outputs = model.distribute_strategy.run(run_step, args=(data,))\n    File \"C:\\Users\\saads\\anaconda3\\envs\\tfGPU\\lib\\site-packages\\keras\\engine\\training.py\", line 1030, in run_step\n      outputs = model.train_step(data)\n    File \"C:\\Users\\saads\\anaconda3\\envs\\tfGPU\\lib\\site-packages\\keras\\engine\\training.py\", line 889, in train_step\n      y_pred = self(x, training=True)\n    File \"C:\\Users\\saads\\anaconda3\\envs\\tfGPU\\lib\\site-packages\\keras\\utils\\traceback_utils.py\", line 64, in error_handler\n      return fn(*args, **kwargs)\n    File \"C:\\Users\\saads\\anaconda3\\envs\\tfGPU\\lib\\site-packages\\keras\\engine\\training.py\", line 490, in __call__\n      return super().__call__(*args, **kwargs)\n    File \"C:\\Users\\saads\\anaconda3\\envs\\tfGPU\\lib\\site-packages\\keras\\utils\\traceback_utils.py\", line 64, in error_handler\n      return fn(*args, **kwargs)\n    File \"C:\\Users\\saads\\anaconda3\\envs\\tfGPU\\lib\\site-packages\\keras\\engine\\base_layer.py\", line 1014, in __call__\n      outputs = call_fn(inputs, *args, **kwargs)\n    File \"C:\\Users\\saads\\anaconda3\\envs\\tfGPU\\lib\\site-packages\\keras\\utils\\traceback_utils.py\", line 92, in error_handler\n      return fn(*args, **kwargs)\n    File \"C:\\Users\\saads\\anaconda3\\envs\\tfGPU\\lib\\site-packages\\keras\\engine\\sequential.py\", line 374, in call\n      return super(Sequential, self).call(inputs, training=training, mask=mask)\n    File \"C:\\Users\\saads\\anaconda3\\envs\\tfGPU\\lib\\site-packages\\keras\\engine\\functional.py\", line 458, in call\n      return self._run_internal_graph(\n    File \"C:\\Users\\saads\\anaconda3\\envs\\tfGPU\\lib\\site-packages\\keras\\engine\\functional.py\", line 596, in _run_internal_graph\n      outputs = node.layer(*args, **kwargs)\n    File \"C:\\Users\\saads\\anaconda3\\envs\\tfGPU\\lib\\site-packages\\keras\\utils\\traceback_utils.py\", line 64, in error_handler\n      return fn(*args, **kwargs)\n    File \"C:\\Users\\saads\\anaconda3\\envs\\tfGPU\\lib\\site-packages\\keras\\engine\\base_layer.py\", line 1014, in __call__\n      outputs = call_fn(inputs, *args, **kwargs)\n    File \"C:\\Users\\saads\\anaconda3\\envs\\tfGPU\\lib\\site-packages\\keras\\utils\\traceback_utils.py\", line 92, in error_handler\n      return fn(*args, **kwargs)\n    File \"C:\\Users\\saads\\anaconda3\\envs\\tfGPU\\lib\\site-packages\\keras\\layers\\normalization\\batch_normalization.py\", line 750, in call\n      outputs = self._fused_batch_norm(inputs, training=training)\n    File \"C:\\Users\\saads\\anaconda3\\envs\\tfGPU\\lib\\site-packages\\keras\\layers\\normalization\\batch_normalization.py\", line 594, in _fused_batch_norm\n      output, mean, variance = control_flow_util.smart_cond(\n    File \"C:\\Users\\saads\\anaconda3\\envs\\tfGPU\\lib\\site-packages\\keras\\utils\\control_flow_util.py\", line 105, in smart_cond\n      return tf.__internal__.smart_cond.smart_cond(\n    File \"C:\\Users\\saads\\anaconda3\\envs\\tfGPU\\lib\\site-packages\\keras\\layers\\normalization\\batch_normalization.py\", line 571, in _fused_batch_norm_training\n      return tf.compat.v1.nn.fused_batch_norm(\nNode: 'sequential_1/batch_normalization_9/FusedBatchNormV3'\n2 root error(s) found.\n  (0) RESOURCE_EXHAUSTED:  OOM when allocating tensor with shape[225,64,110,110] and type float on /job:localhost/replica:0/task:0/device:GPU:0 by allocator GPU_0_bfc\n\t [[{{node sequential_1/batch_normalization_9/FusedBatchNormV3}}]]\nHint: If you want to see a list of allocated tensors when OOM happens, add report_tensor_allocations_upon_oom to RunOptions for current allocation info. This isn't available when running in Eager mode.\n\n\t [[assert_less_equal/Assert/AssertGuard/pivot_f/_13/_45]]\nHint: If you want to see a list of allocated tensors when OOM happens, add report_tensor_allocations_upon_oom to RunOptions for current allocation info. This isn't available when running in Eager mode.\n\n  (1) RESOURCE_EXHAUSTED:  OOM when allocating tensor with shape[225,64,110,110] and type float on /job:localhost/replica:0/task:0/device:GPU:0 by allocator GPU_0_bfc\n\t [[{{node sequential_1/batch_normalization_9/FusedBatchNormV3}}]]\nHint: If you want to see a list of allocated tensors when OOM happens, add report_tensor_allocations_upon_oom to RunOptions for current allocation info. This isn't available when running in Eager mode.\n\n0 successful operations.\n0 derived errors ignored. [Op:__inference_train_function_6076]"
     ]
    }
   ],
   "source": [
    "model = models.Sequential()\n",
    "\n",
    "model.add(layers.Conv2D(filters=32,\n",
    "                       kernel_size=3,\n",
    "                       activation='relu',\n",
    "                       input_shape=(227,227,1)))\n",
    "model.add(layers.BatchNormalization())\n",
    "model.add(layers.MaxPooling2D(2,2))\n",
    "\n",
    "model.add(layers.Conv2D(64, 3, activation='relu'))\n",
    "model.add(layers.BatchNormalization())\n",
    "model.add(layers.MaxPooling2D(2,2))\n",
    "\n",
    "model.add(layers.Conv2D(128, 3, activation='relu'))\n",
    "model.add(layers.BatchNormalization())\n",
    "model.add(layers.Conv2D(128, 3, activation='relu'))\n",
    "model.add(layers.BatchNormalization())\n",
    "model.add(layers.MaxPooling2D(2,2))\n",
    "\n",
    "model.add(layers.Conv2D(256, 3, activation='relu'))\n",
    "model.add(layers.BatchNormalization())\n",
    "model.add(layers.Conv2D(256, 3, activation='relu'))\n",
    "model.add(layers.BatchNormalization())\n",
    "model.add(layers.MaxPooling2D(2,2))\n",
    "\n",
    "model.add(layers.Conv2D(512, 3, activation='relu'))\n",
    "model.add(layers.BatchNormalization())\n",
    "model.add(layers.Conv2D(512, 3, activation='relu'))\n",
    "model.add(layers.BatchNormalization())\n",
    "model.add(layers.MaxPooling2D(2,2))\n",
    "\n",
    "model.add(layers.Dropout(rate=0.5))\n",
    "\n",
    "model.add(layers.Flatten())\n",
    "model.add(layers.Dense(4096, activation='relu'))\n",
    "model.add(layers.Dropout(rate=0.5))\n",
    "model.add(layers.Dense(1024, activation='relu'))\n",
    "model.add(layers.Dropout(rate=0.5))\n",
    "\n",
    "model.add(layers.Dense(8, activation='softmax'))\n",
    "\n",
    "\n",
    "model.compile(optimizer=optimizers.Adam(learning_rate=0.0001),\n",
    "              loss=losses.CategoricalCrossentropy(),\n",
    "              metrics=['accuracy', Precision(), Recall()])\n",
    "\n",
    "model.summary()\n",
    "\n",
    "results = model.fit(train_generator,\n",
    "                    epochs=epochs_to_train,  # Number of epochs\n",
    "                    validation_data=val_generator,\n",
    "                    verbose=1,\n",
    "                    callbacks = [early_stop]\n",
    "                    )\n",
    "\n",
    "display_model_trainTestGraphs(results)"
   ]
  },
  {
   "cell_type": "code",
   "execution_count": null,
   "id": "3f1514f7",
   "metadata": {
    "ExecuteTime": {
     "end_time": "2022-05-22T11:34:56.737952Z",
     "start_time": "2022-05-22T11:34:56.737952Z"
    },
    "scrolled": true
   },
   "outputs": [],
   "source": [
    "results.model.save(tf_chkpt_path+'Model_14')"
   ]
  },
  {
   "cell_type": "markdown",
   "id": "f558ec14",
   "metadata": {
    "ExecuteTime": {
     "end_time": "2022-05-20T19:49:59.676516Z",
     "start_time": "2022-05-20T19:49:59.663513Z"
    }
   },
   "source": [
    "Removing batch normalization layers"
   ]
  },
  {
   "cell_type": "code",
   "execution_count": 12,
   "id": "ef5d6ceb",
   "metadata": {
    "ExecuteTime": {
     "end_time": "2022-05-22T11:35:15.669240Z",
     "start_time": "2022-05-22T11:35:03.293824Z"
    },
    "scrolled": false
   },
   "outputs": [
    {
     "name": "stdout",
     "output_type": "stream",
     "text": [
      "Model: \"sequential_2\"\n",
      "_________________________________________________________________\n",
      " Layer (type)                Output Shape              Param #   \n",
      "=================================================================\n",
      " conv2d_16 (Conv2D)          (None, 225, 225, 32)      320       \n",
      "                                                                 \n",
      " max_pooling2d_10 (MaxPoolin  (None, 112, 112, 32)     0         \n",
      " g2D)                                                            \n",
      "                                                                 \n",
      " conv2d_17 (Conv2D)          (None, 110, 110, 64)      18496     \n",
      "                                                                 \n",
      " max_pooling2d_11 (MaxPoolin  (None, 55, 55, 64)       0         \n",
      " g2D)                                                            \n",
      "                                                                 \n",
      " conv2d_18 (Conv2D)          (None, 53, 53, 128)       73856     \n",
      "                                                                 \n",
      " conv2d_19 (Conv2D)          (None, 51, 51, 128)       147584    \n",
      "                                                                 \n",
      " max_pooling2d_12 (MaxPoolin  (None, 25, 25, 128)      0         \n",
      " g2D)                                                            \n",
      "                                                                 \n",
      " conv2d_20 (Conv2D)          (None, 23, 23, 256)       295168    \n",
      "                                                                 \n",
      " conv2d_21 (Conv2D)          (None, 21, 21, 256)       590080    \n",
      "                                                                 \n",
      " max_pooling2d_13 (MaxPoolin  (None, 10, 10, 256)      0         \n",
      " g2D)                                                            \n",
      "                                                                 \n",
      " conv2d_22 (Conv2D)          (None, 8, 8, 512)         1180160   \n",
      "                                                                 \n",
      " conv2d_23 (Conv2D)          (None, 6, 6, 512)         2359808   \n",
      "                                                                 \n",
      " max_pooling2d_14 (MaxPoolin  (None, 3, 3, 512)        0         \n",
      " g2D)                                                            \n",
      "                                                                 \n",
      " dropout_5 (Dropout)         (None, 3, 3, 512)         0         \n",
      "                                                                 \n",
      " flatten_2 (Flatten)         (None, 4608)              0         \n",
      "                                                                 \n",
      " dense_6 (Dense)             (None, 4096)              18878464  \n",
      "                                                                 \n",
      " dropout_6 (Dropout)         (None, 4096)              0         \n",
      "                                                                 \n",
      " dense_7 (Dense)             (None, 1024)              4195328   \n",
      "                                                                 \n",
      " dropout_7 (Dropout)         (None, 1024)              0         \n",
      "                                                                 \n",
      " dense_8 (Dense)             (None, 8)                 8200      \n",
      "                                                                 \n",
      "=================================================================\n",
      "Total params: 27,747,464\n",
      "Trainable params: 27,747,464\n",
      "Non-trainable params: 0\n",
      "_________________________________________________________________\n",
      "Epoch 1/100\n"
     ]
    },
    {
     "ename": "ResourceExhaustedError",
     "evalue": "Graph execution error:\n\nDetected at node 'gradient_tape/sequential_2/max_pooling2d_10/MaxPool/MaxPoolGrad' defined at (most recent call last):\n    File \"C:\\Users\\saads\\anaconda3\\envs\\tfGPU\\lib\\runpy.py\", line 197, in _run_module_as_main\n      return _run_code(code, main_globals, None,\n    File \"C:\\Users\\saads\\anaconda3\\envs\\tfGPU\\lib\\runpy.py\", line 87, in _run_code\n      exec(code, run_globals)\n    File \"C:\\Users\\saads\\anaconda3\\envs\\tfGPU\\lib\\site-packages\\ipykernel_launcher.py\", line 17, in <module>\n      app.launch_new_instance()\n    File \"C:\\Users\\saads\\anaconda3\\envs\\tfGPU\\lib\\site-packages\\traitlets\\config\\application.py\", line 846, in launch_instance\n      app.start()\n    File \"C:\\Users\\saads\\anaconda3\\envs\\tfGPU\\lib\\site-packages\\ipykernel\\kernelapp.py\", line 712, in start\n      self.io_loop.start()\n    File \"C:\\Users\\saads\\anaconda3\\envs\\tfGPU\\lib\\site-packages\\tornado\\platform\\asyncio.py\", line 199, in start\n      self.asyncio_loop.run_forever()\n    File \"C:\\Users\\saads\\anaconda3\\envs\\tfGPU\\lib\\asyncio\\base_events.py\", line 601, in run_forever\n      self._run_once()\n    File \"C:\\Users\\saads\\anaconda3\\envs\\tfGPU\\lib\\asyncio\\base_events.py\", line 1905, in _run_once\n      handle._run()\n    File \"C:\\Users\\saads\\anaconda3\\envs\\tfGPU\\lib\\asyncio\\events.py\", line 80, in _run\n      self._context.run(self._callback, *self._args)\n    File \"C:\\Users\\saads\\anaconda3\\envs\\tfGPU\\lib\\site-packages\\ipykernel\\kernelbase.py\", line 504, in dispatch_queue\n      await self.process_one()\n    File \"C:\\Users\\saads\\anaconda3\\envs\\tfGPU\\lib\\site-packages\\ipykernel\\kernelbase.py\", line 493, in process_one\n      await dispatch(*args)\n    File \"C:\\Users\\saads\\anaconda3\\envs\\tfGPU\\lib\\site-packages\\ipykernel\\kernelbase.py\", line 400, in dispatch_shell\n      await result\n    File \"C:\\Users\\saads\\anaconda3\\envs\\tfGPU\\lib\\site-packages\\ipykernel\\kernelbase.py\", line 724, in execute_request\n      reply_content = await reply_content\n    File \"C:\\Users\\saads\\anaconda3\\envs\\tfGPU\\lib\\site-packages\\ipykernel\\ipkernel.py\", line 383, in do_execute\n      res = shell.run_cell(\n    File \"C:\\Users\\saads\\anaconda3\\envs\\tfGPU\\lib\\site-packages\\ipykernel\\zmqshell.py\", line 528, in run_cell\n      return super().run_cell(*args, **kwargs)\n    File \"C:\\Users\\saads\\anaconda3\\envs\\tfGPU\\lib\\site-packages\\IPython\\core\\interactiveshell.py\", line 2880, in run_cell\n      result = self._run_cell(\n    File \"C:\\Users\\saads\\anaconda3\\envs\\tfGPU\\lib\\site-packages\\IPython\\core\\interactiveshell.py\", line 2935, in _run_cell\n      return runner(coro)\n    File \"C:\\Users\\saads\\anaconda3\\envs\\tfGPU\\lib\\site-packages\\IPython\\core\\async_helpers.py\", line 129, in _pseudo_sync_runner\n      coro.send(None)\n    File \"C:\\Users\\saads\\anaconda3\\envs\\tfGPU\\lib\\site-packages\\IPython\\core\\interactiveshell.py\", line 3134, in run_cell_async\n      has_raised = await self.run_ast_nodes(code_ast.body, cell_name,\n    File \"C:\\Users\\saads\\anaconda3\\envs\\tfGPU\\lib\\site-packages\\IPython\\core\\interactiveshell.py\", line 3337, in run_ast_nodes\n      if await self.run_code(code, result, async_=asy):\n    File \"C:\\Users\\saads\\anaconda3\\envs\\tfGPU\\lib\\site-packages\\IPython\\core\\interactiveshell.py\", line 3397, in run_code\n      exec(code_obj, self.user_global_ns, self.user_ns)\n    File \"C:\\Users\\saads\\AppData\\Local\\Temp\\ipykernel_17196\\3283301896.py\", line 49, in <cell line: 49>\n      results = model.fit(train_generator,\n    File \"C:\\Users\\saads\\anaconda3\\envs\\tfGPU\\lib\\site-packages\\keras\\utils\\traceback_utils.py\", line 64, in error_handler\n      return fn(*args, **kwargs)\n    File \"C:\\Users\\saads\\anaconda3\\envs\\tfGPU\\lib\\site-packages\\keras\\engine\\training.py\", line 1409, in fit\n      tmp_logs = self.train_function(iterator)\n    File \"C:\\Users\\saads\\anaconda3\\envs\\tfGPU\\lib\\site-packages\\keras\\engine\\training.py\", line 1051, in train_function\n      return step_function(self, iterator)\n    File \"C:\\Users\\saads\\anaconda3\\envs\\tfGPU\\lib\\site-packages\\keras\\engine\\training.py\", line 1040, in step_function\n      outputs = model.distribute_strategy.run(run_step, args=(data,))\n    File \"C:\\Users\\saads\\anaconda3\\envs\\tfGPU\\lib\\site-packages\\keras\\engine\\training.py\", line 1030, in run_step\n      outputs = model.train_step(data)\n    File \"C:\\Users\\saads\\anaconda3\\envs\\tfGPU\\lib\\site-packages\\keras\\engine\\training.py\", line 893, in train_step\n      self.optimizer.minimize(loss, self.trainable_variables, tape=tape)\n    File \"C:\\Users\\saads\\anaconda3\\envs\\tfGPU\\lib\\site-packages\\keras\\optimizers\\optimizer_v2\\optimizer_v2.py\", line 537, in minimize\n      grads_and_vars = self._compute_gradients(\n    File \"C:\\Users\\saads\\anaconda3\\envs\\tfGPU\\lib\\site-packages\\keras\\optimizers\\optimizer_v2\\optimizer_v2.py\", line 590, in _compute_gradients\n      grads_and_vars = self._get_gradients(tape, loss, var_list, grad_loss)\n    File \"C:\\Users\\saads\\anaconda3\\envs\\tfGPU\\lib\\site-packages\\keras\\optimizers\\optimizer_v2\\optimizer_v2.py\", line 471, in _get_gradients\n      grads = tape.gradient(loss, var_list, grad_loss)\nNode: 'gradient_tape/sequential_2/max_pooling2d_10/MaxPool/MaxPoolGrad'\nOOM when allocating tensor with shape[225,32,225,225] and type float on /job:localhost/replica:0/task:0/device:GPU:0 by allocator GPU_0_bfc\n\t [[{{node gradient_tape/sequential_2/max_pooling2d_10/MaxPool/MaxPoolGrad}}]]\nHint: If you want to see a list of allocated tensors when OOM happens, add report_tensor_allocations_upon_oom to RunOptions for current allocation info. This isn't available when running in Eager mode.\n [Op:__inference_train_function_8107]",
     "output_type": "error",
     "traceback": [
      "\u001b[1;31m---------------------------------------------------------------------------\u001b[0m",
      "\u001b[1;31mResourceExhaustedError\u001b[0m                    Traceback (most recent call last)",
      "Input \u001b[1;32mIn [12]\u001b[0m, in \u001b[0;36m<cell line: 49>\u001b[1;34m()\u001b[0m\n\u001b[0;32m     43\u001b[0m model\u001b[38;5;241m.\u001b[39mcompile(optimizer\u001b[38;5;241m=\u001b[39moptimizers\u001b[38;5;241m.\u001b[39mAdam(learning_rate\u001b[38;5;241m=\u001b[39m\u001b[38;5;241m0.0001\u001b[39m),\n\u001b[0;32m     44\u001b[0m               loss\u001b[38;5;241m=\u001b[39mlosses\u001b[38;5;241m.\u001b[39mCategoricalCrossentropy(),\n\u001b[0;32m     45\u001b[0m               metrics\u001b[38;5;241m=\u001b[39m[\u001b[38;5;124m'\u001b[39m\u001b[38;5;124maccuracy\u001b[39m\u001b[38;5;124m'\u001b[39m, Precision(), Recall()])\n\u001b[0;32m     47\u001b[0m model\u001b[38;5;241m.\u001b[39msummary()\n\u001b[1;32m---> 49\u001b[0m results \u001b[38;5;241m=\u001b[39m \u001b[43mmodel\u001b[49m\u001b[38;5;241;43m.\u001b[39;49m\u001b[43mfit\u001b[49m\u001b[43m(\u001b[49m\u001b[43mtrain_generator\u001b[49m\u001b[43m,\u001b[49m\n\u001b[0;32m     50\u001b[0m \u001b[43m                    \u001b[49m\u001b[43mepochs\u001b[49m\u001b[38;5;241;43m=\u001b[39;49m\u001b[43mepochs_to_train\u001b[49m\u001b[43m,\u001b[49m\u001b[43m  \u001b[49m\u001b[38;5;66;43;03m# Number of epochs\u001b[39;49;00m\n\u001b[0;32m     51\u001b[0m \u001b[43m                    \u001b[49m\u001b[43mvalidation_data\u001b[49m\u001b[38;5;241;43m=\u001b[39;49m\u001b[43mval_generator\u001b[49m\u001b[43m,\u001b[49m\n\u001b[0;32m     52\u001b[0m \u001b[43m                    \u001b[49m\u001b[43mverbose\u001b[49m\u001b[38;5;241;43m=\u001b[39;49m\u001b[38;5;241;43m1\u001b[39;49m\u001b[43m,\u001b[49m\n\u001b[0;32m     53\u001b[0m \u001b[43m                    \u001b[49m\u001b[43mcallbacks\u001b[49m\u001b[43m \u001b[49m\u001b[38;5;241;43m=\u001b[39;49m\u001b[43m \u001b[49m\u001b[43m[\u001b[49m\u001b[43mearly_stop\u001b[49m\u001b[43m]\u001b[49m\n\u001b[0;32m     54\u001b[0m \u001b[43m                    \u001b[49m\u001b[43m)\u001b[49m\n\u001b[0;32m     56\u001b[0m display_model_trainTestGraphs(results)\n",
      "File \u001b[1;32m~\\anaconda3\\envs\\tfGPU\\lib\\site-packages\\keras\\utils\\traceback_utils.py:67\u001b[0m, in \u001b[0;36mfilter_traceback.<locals>.error_handler\u001b[1;34m(*args, **kwargs)\u001b[0m\n\u001b[0;32m     65\u001b[0m \u001b[38;5;28;01mexcept\u001b[39;00m \u001b[38;5;167;01mException\u001b[39;00m \u001b[38;5;28;01mas\u001b[39;00m e:  \u001b[38;5;66;03m# pylint: disable=broad-except\u001b[39;00m\n\u001b[0;32m     66\u001b[0m   filtered_tb \u001b[38;5;241m=\u001b[39m _process_traceback_frames(e\u001b[38;5;241m.\u001b[39m__traceback__)\n\u001b[1;32m---> 67\u001b[0m   \u001b[38;5;28;01mraise\u001b[39;00m e\u001b[38;5;241m.\u001b[39mwith_traceback(filtered_tb) \u001b[38;5;28;01mfrom\u001b[39;00m \u001b[38;5;28mNone\u001b[39m\n\u001b[0;32m     68\u001b[0m \u001b[38;5;28;01mfinally\u001b[39;00m:\n\u001b[0;32m     69\u001b[0m   \u001b[38;5;28;01mdel\u001b[39;00m filtered_tb\n",
      "File \u001b[1;32m~\\anaconda3\\envs\\tfGPU\\lib\\site-packages\\tensorflow\\python\\eager\\execute.py:54\u001b[0m, in \u001b[0;36mquick_execute\u001b[1;34m(op_name, num_outputs, inputs, attrs, ctx, name)\u001b[0m\n\u001b[0;32m     52\u001b[0m \u001b[38;5;28;01mtry\u001b[39;00m:\n\u001b[0;32m     53\u001b[0m   ctx\u001b[38;5;241m.\u001b[39mensure_initialized()\n\u001b[1;32m---> 54\u001b[0m   tensors \u001b[38;5;241m=\u001b[39m pywrap_tfe\u001b[38;5;241m.\u001b[39mTFE_Py_Execute(ctx\u001b[38;5;241m.\u001b[39m_handle, device_name, op_name,\n\u001b[0;32m     55\u001b[0m                                       inputs, attrs, num_outputs)\n\u001b[0;32m     56\u001b[0m \u001b[38;5;28;01mexcept\u001b[39;00m core\u001b[38;5;241m.\u001b[39m_NotOkStatusException \u001b[38;5;28;01mas\u001b[39;00m e:\n\u001b[0;32m     57\u001b[0m   \u001b[38;5;28;01mif\u001b[39;00m name \u001b[38;5;129;01mis\u001b[39;00m \u001b[38;5;129;01mnot\u001b[39;00m \u001b[38;5;28;01mNone\u001b[39;00m:\n",
      "\u001b[1;31mResourceExhaustedError\u001b[0m: Graph execution error:\n\nDetected at node 'gradient_tape/sequential_2/max_pooling2d_10/MaxPool/MaxPoolGrad' defined at (most recent call last):\n    File \"C:\\Users\\saads\\anaconda3\\envs\\tfGPU\\lib\\runpy.py\", line 197, in _run_module_as_main\n      return _run_code(code, main_globals, None,\n    File \"C:\\Users\\saads\\anaconda3\\envs\\tfGPU\\lib\\runpy.py\", line 87, in _run_code\n      exec(code, run_globals)\n    File \"C:\\Users\\saads\\anaconda3\\envs\\tfGPU\\lib\\site-packages\\ipykernel_launcher.py\", line 17, in <module>\n      app.launch_new_instance()\n    File \"C:\\Users\\saads\\anaconda3\\envs\\tfGPU\\lib\\site-packages\\traitlets\\config\\application.py\", line 846, in launch_instance\n      app.start()\n    File \"C:\\Users\\saads\\anaconda3\\envs\\tfGPU\\lib\\site-packages\\ipykernel\\kernelapp.py\", line 712, in start\n      self.io_loop.start()\n    File \"C:\\Users\\saads\\anaconda3\\envs\\tfGPU\\lib\\site-packages\\tornado\\platform\\asyncio.py\", line 199, in start\n      self.asyncio_loop.run_forever()\n    File \"C:\\Users\\saads\\anaconda3\\envs\\tfGPU\\lib\\asyncio\\base_events.py\", line 601, in run_forever\n      self._run_once()\n    File \"C:\\Users\\saads\\anaconda3\\envs\\tfGPU\\lib\\asyncio\\base_events.py\", line 1905, in _run_once\n      handle._run()\n    File \"C:\\Users\\saads\\anaconda3\\envs\\tfGPU\\lib\\asyncio\\events.py\", line 80, in _run\n      self._context.run(self._callback, *self._args)\n    File \"C:\\Users\\saads\\anaconda3\\envs\\tfGPU\\lib\\site-packages\\ipykernel\\kernelbase.py\", line 504, in dispatch_queue\n      await self.process_one()\n    File \"C:\\Users\\saads\\anaconda3\\envs\\tfGPU\\lib\\site-packages\\ipykernel\\kernelbase.py\", line 493, in process_one\n      await dispatch(*args)\n    File \"C:\\Users\\saads\\anaconda3\\envs\\tfGPU\\lib\\site-packages\\ipykernel\\kernelbase.py\", line 400, in dispatch_shell\n      await result\n    File \"C:\\Users\\saads\\anaconda3\\envs\\tfGPU\\lib\\site-packages\\ipykernel\\kernelbase.py\", line 724, in execute_request\n      reply_content = await reply_content\n    File \"C:\\Users\\saads\\anaconda3\\envs\\tfGPU\\lib\\site-packages\\ipykernel\\ipkernel.py\", line 383, in do_execute\n      res = shell.run_cell(\n    File \"C:\\Users\\saads\\anaconda3\\envs\\tfGPU\\lib\\site-packages\\ipykernel\\zmqshell.py\", line 528, in run_cell\n      return super().run_cell(*args, **kwargs)\n    File \"C:\\Users\\saads\\anaconda3\\envs\\tfGPU\\lib\\site-packages\\IPython\\core\\interactiveshell.py\", line 2880, in run_cell\n      result = self._run_cell(\n    File \"C:\\Users\\saads\\anaconda3\\envs\\tfGPU\\lib\\site-packages\\IPython\\core\\interactiveshell.py\", line 2935, in _run_cell\n      return runner(coro)\n    File \"C:\\Users\\saads\\anaconda3\\envs\\tfGPU\\lib\\site-packages\\IPython\\core\\async_helpers.py\", line 129, in _pseudo_sync_runner\n      coro.send(None)\n    File \"C:\\Users\\saads\\anaconda3\\envs\\tfGPU\\lib\\site-packages\\IPython\\core\\interactiveshell.py\", line 3134, in run_cell_async\n      has_raised = await self.run_ast_nodes(code_ast.body, cell_name,\n    File \"C:\\Users\\saads\\anaconda3\\envs\\tfGPU\\lib\\site-packages\\IPython\\core\\interactiveshell.py\", line 3337, in run_ast_nodes\n      if await self.run_code(code, result, async_=asy):\n    File \"C:\\Users\\saads\\anaconda3\\envs\\tfGPU\\lib\\site-packages\\IPython\\core\\interactiveshell.py\", line 3397, in run_code\n      exec(code_obj, self.user_global_ns, self.user_ns)\n    File \"C:\\Users\\saads\\AppData\\Local\\Temp\\ipykernel_17196\\3283301896.py\", line 49, in <cell line: 49>\n      results = model.fit(train_generator,\n    File \"C:\\Users\\saads\\anaconda3\\envs\\tfGPU\\lib\\site-packages\\keras\\utils\\traceback_utils.py\", line 64, in error_handler\n      return fn(*args, **kwargs)\n    File \"C:\\Users\\saads\\anaconda3\\envs\\tfGPU\\lib\\site-packages\\keras\\engine\\training.py\", line 1409, in fit\n      tmp_logs = self.train_function(iterator)\n    File \"C:\\Users\\saads\\anaconda3\\envs\\tfGPU\\lib\\site-packages\\keras\\engine\\training.py\", line 1051, in train_function\n      return step_function(self, iterator)\n    File \"C:\\Users\\saads\\anaconda3\\envs\\tfGPU\\lib\\site-packages\\keras\\engine\\training.py\", line 1040, in step_function\n      outputs = model.distribute_strategy.run(run_step, args=(data,))\n    File \"C:\\Users\\saads\\anaconda3\\envs\\tfGPU\\lib\\site-packages\\keras\\engine\\training.py\", line 1030, in run_step\n      outputs = model.train_step(data)\n    File \"C:\\Users\\saads\\anaconda3\\envs\\tfGPU\\lib\\site-packages\\keras\\engine\\training.py\", line 893, in train_step\n      self.optimizer.minimize(loss, self.trainable_variables, tape=tape)\n    File \"C:\\Users\\saads\\anaconda3\\envs\\tfGPU\\lib\\site-packages\\keras\\optimizers\\optimizer_v2\\optimizer_v2.py\", line 537, in minimize\n      grads_and_vars = self._compute_gradients(\n    File \"C:\\Users\\saads\\anaconda3\\envs\\tfGPU\\lib\\site-packages\\keras\\optimizers\\optimizer_v2\\optimizer_v2.py\", line 590, in _compute_gradients\n      grads_and_vars = self._get_gradients(tape, loss, var_list, grad_loss)\n    File \"C:\\Users\\saads\\anaconda3\\envs\\tfGPU\\lib\\site-packages\\keras\\optimizers\\optimizer_v2\\optimizer_v2.py\", line 471, in _get_gradients\n      grads = tape.gradient(loss, var_list, grad_loss)\nNode: 'gradient_tape/sequential_2/max_pooling2d_10/MaxPool/MaxPoolGrad'\nOOM when allocating tensor with shape[225,32,225,225] and type float on /job:localhost/replica:0/task:0/device:GPU:0 by allocator GPU_0_bfc\n\t [[{{node gradient_tape/sequential_2/max_pooling2d_10/MaxPool/MaxPoolGrad}}]]\nHint: If you want to see a list of allocated tensors when OOM happens, add report_tensor_allocations_upon_oom to RunOptions for current allocation info. This isn't available when running in Eager mode.\n [Op:__inference_train_function_8107]"
     ]
    }
   ],
   "source": [
    "model = models.Sequential()\n",
    "\n",
    "model.add(layers.Conv2D(filters=32,\n",
    "                       kernel_size=3,\n",
    "                       activation='relu',\n",
    "                       input_shape=(227,227,1)))\n",
    "# model.add(layers.BatchNormalization())\n",
    "model.add(layers.MaxPooling2D(2,2))\n",
    "\n",
    "model.add(layers.Conv2D(64, 3, activation='relu'))\n",
    "# model.add(layers.BatchNormalization())\n",
    "model.add(layers.MaxPooling2D(2,2))\n",
    "\n",
    "model.add(layers.Conv2D(128, 3, activation='relu'))\n",
    "# model.add(layers.BatchNormalization())\n",
    "model.add(layers.Conv2D(128, 3, activation='relu'))\n",
    "# model.add(layers.BatchNormalization())\n",
    "model.add(layers.MaxPooling2D(2,2))\n",
    "\n",
    "model.add(layers.Conv2D(256, 3, activation='relu'))\n",
    "# model.add(layers.BatchNormalization())\n",
    "model.add(layers.Conv2D(256, 3, activation='relu'))\n",
    "# model.add(layers.BatchNormalization())\n",
    "model.add(layers.MaxPooling2D(2,2))\n",
    "\n",
    "model.add(layers.Conv2D(512, 3, activation='relu'))\n",
    "# model.add(layers.BatchNormalization())\n",
    "model.add(layers.Conv2D(512, 3, activation='relu'))\n",
    "# model.add(layers.BatchNormalization())\n",
    "model.add(layers.MaxPooling2D(2,2))\n",
    "\n",
    "model.add(layers.Dropout(rate=0.5))\n",
    "\n",
    "model.add(layers.Flatten())\n",
    "model.add(layers.Dense(4096, activation='relu'))\n",
    "model.add(layers.Dropout(rate=0.5))\n",
    "model.add(layers.Dense(1024, activation='relu'))\n",
    "model.add(layers.Dropout(rate=0.5))\n",
    "\n",
    "model.add(layers.Dense(8, activation='softmax'))\n",
    "\n",
    "\n",
    "model.compile(optimizer=optimizers.Adam(learning_rate=0.0001),\n",
    "              loss=losses.CategoricalCrossentropy(),\n",
    "              metrics=['accuracy', Precision(), Recall()])\n",
    "\n",
    "model.summary()\n",
    "\n",
    "results = model.fit(train_generator,\n",
    "                    epochs=epochs_to_train,  # Number of epochs\n",
    "                    validation_data=val_generator,\n",
    "                    verbose=1,\n",
    "                    callbacks = [early_stop]\n",
    "                    )\n",
    "\n",
    "display_model_trainTestGraphs(results)"
   ]
  },
  {
   "cell_type": "code",
   "execution_count": null,
   "id": "16e18cf7",
   "metadata": {
    "ExecuteTime": {
     "end_time": "2022-05-22T11:35:15.673241Z",
     "start_time": "2022-05-22T11:35:15.673241Z"
    },
    "scrolled": true
   },
   "outputs": [],
   "source": [
    "results.model.save(tf_chkpt_path+'Model_14b')"
   ]
  },
  {
   "cell_type": "code",
   "execution_count": null,
   "id": "472926bf",
   "metadata": {},
   "outputs": [],
   "source": []
  },
  {
   "cell_type": "code",
   "execution_count": null,
   "id": "a93660e0",
   "metadata": {},
   "outputs": [],
   "source": []
  },
  {
   "cell_type": "code",
   "execution_count": null,
   "id": "63640e9d",
   "metadata": {},
   "outputs": [],
   "source": []
  },
  {
   "cell_type": "code",
   "execution_count": null,
   "id": "c059044b",
   "metadata": {},
   "outputs": [],
   "source": []
  },
  {
   "cell_type": "code",
   "execution_count": null,
   "id": "0f130491",
   "metadata": {},
   "outputs": [],
   "source": []
  },
  {
   "cell_type": "code",
   "execution_count": null,
   "id": "3dc01061",
   "metadata": {},
   "outputs": [],
   "source": []
  },
  {
   "cell_type": "code",
   "execution_count": null,
   "id": "e8054ead",
   "metadata": {},
   "outputs": [],
   "source": []
  },
  {
   "cell_type": "code",
   "execution_count": null,
   "id": "66077b01",
   "metadata": {},
   "outputs": [],
   "source": []
  },
  {
   "cell_type": "code",
   "execution_count": null,
   "id": "2a79bcb1",
   "metadata": {},
   "outputs": [],
   "source": []
  },
  {
   "cell_type": "markdown",
   "id": "76d0e87c",
   "metadata": {},
   "source": [
    "## Model 16 - More regularization. Reducing complexity to combat overfitting"
   ]
  },
  {
   "cell_type": "code",
   "execution_count": 10,
   "id": "3cdabe36",
   "metadata": {
    "ExecuteTime": {
     "end_time": "2022-05-22T23:32:38.381877Z",
     "start_time": "2022-05-22T23:12:25.506816Z"
    },
    "scrolled": false
   },
   "outputs": [
    {
     "name": "stdout",
     "output_type": "stream",
     "text": [
      "Model: \"sequential\"\n",
      "_________________________________________________________________\n",
      " Layer (type)                Output Shape              Param #   \n",
      "=================================================================\n",
      " conv2d (Conv2D)             (None, 225, 225, 32)      320       \n",
      "                                                                 \n",
      " max_pooling2d (MaxPooling2D  (None, 75, 75, 32)       0         \n",
      " )                                                               \n",
      "                                                                 \n",
      " conv2d_1 (Conv2D)           (None, 73, 73, 64)        18496     \n",
      "                                                                 \n",
      " max_pooling2d_1 (MaxPooling  (None, 36, 36, 64)       0         \n",
      " 2D)                                                             \n",
      "                                                                 \n",
      " conv2d_2 (Conv2D)           (None, 34, 34, 128)       73856     \n",
      "                                                                 \n",
      " max_pooling2d_2 (MaxPooling  (None, 17, 17, 128)      0         \n",
      " 2D)                                                             \n",
      "                                                                 \n",
      " conv2d_3 (Conv2D)           (None, 15, 15, 256)       295168    \n",
      "                                                                 \n",
      " max_pooling2d_3 (MaxPooling  (None, 7, 7, 256)        0         \n",
      " 2D)                                                             \n",
      "                                                                 \n",
      " conv2d_4 (Conv2D)           (None, 5, 5, 512)         1180160   \n",
      "                                                                 \n",
      " conv2d_5 (Conv2D)           (None, 3, 3, 512)         2359808   \n",
      "                                                                 \n",
      " max_pooling2d_4 (MaxPooling  (None, 1, 1, 512)        0         \n",
      " 2D)                                                             \n",
      "                                                                 \n",
      " dropout (Dropout)           (None, 1, 1, 512)         0         \n",
      "                                                                 \n",
      " flatten (Flatten)           (None, 512)               0         \n",
      "                                                                 \n",
      " dense (Dense)               (None, 4096)              2101248   \n",
      "                                                                 \n",
      " dropout_1 (Dropout)         (None, 4096)              0         \n",
      "                                                                 \n",
      " dense_1 (Dense)             (None, 1024)              4195328   \n",
      "                                                                 \n",
      " dropout_2 (Dropout)         (None, 1024)              0         \n",
      "                                                                 \n",
      " dense_2 (Dense)             (None, 8)                 8200      \n",
      "                                                                 \n",
      "=================================================================\n",
      "Total params: 10,232,584\n",
      "Trainable params: 10,232,584\n",
      "Non-trainable params: 0\n",
      "_________________________________________________________________\n",
      "Epoch 1/100\n",
      "218/218 [==============================] - 59s 247ms/step - loss: 0.8476 - accuracy: 0.8134 - precision: 0.8194 - recall: 0.7750 - val_loss: 0.8484 - val_accuracy: 0.7916 - val_precision: 0.7985 - val_recall: 0.7346\n",
      "Epoch 2/100\n",
      "218/218 [==============================] - 42s 193ms/step - loss: 0.6589 - accuracy: 0.8262 - precision: 0.8618 - recall: 0.7961 - val_loss: 0.7888 - val_accuracy: 0.7836 - val_precision: 0.8124 - val_recall: 0.7511\n",
      "Epoch 3/100\n",
      "218/218 [==============================] - 43s 195ms/step - loss: 0.5434 - accuracy: 0.8530 - precision: 0.8802 - recall: 0.8254 - val_loss: 0.7134 - val_accuracy: 0.7993 - val_precision: 0.8265 - val_recall: 0.7680\n",
      "Epoch 4/100\n",
      "218/218 [==============================] - 42s 194ms/step - loss: 0.4697 - accuracy: 0.8706 - precision: 0.8886 - recall: 0.8522 - val_loss: 0.6325 - val_accuracy: 0.8177 - val_precision: 0.8384 - val_recall: 0.7883\n",
      "Epoch 5/100\n",
      "218/218 [==============================] - 42s 194ms/step - loss: 0.4197 - accuracy: 0.8799 - precision: 0.8958 - recall: 0.8633 - val_loss: 0.6613 - val_accuracy: 0.8026 - val_precision: 0.8474 - val_recall: 0.7313\n",
      "Epoch 6/100\n",
      "218/218 [==============================] - 43s 195ms/step - loss: 0.3901 - accuracy: 0.8851 - precision: 0.9006 - recall: 0.8695 - val_loss: 0.5810 - val_accuracy: 0.8236 - val_precision: 0.8565 - val_recall: 0.7792\n",
      "Epoch 7/100\n",
      "218/218 [==============================] - 42s 194ms/step - loss: 0.3562 - accuracy: 0.8915 - precision: 0.9064 - recall: 0.8749 - val_loss: 0.5503 - val_accuracy: 0.8289 - val_precision: 0.8473 - val_recall: 0.8136\n",
      "Epoch 8/100\n",
      "218/218 [==============================] - 43s 195ms/step - loss: 0.3205 - accuracy: 0.9023 - precision: 0.9155 - recall: 0.8890 - val_loss: 0.5408 - val_accuracy: 0.8367 - val_precision: 0.8512 - val_recall: 0.8236\n",
      "Epoch 9/100\n",
      "218/218 [==============================] - 43s 195ms/step - loss: 0.2970 - accuracy: 0.9093 - precision: 0.9204 - recall: 0.8975 - val_loss: 0.5340 - val_accuracy: 0.8360 - val_precision: 0.8511 - val_recall: 0.8242\n",
      "Epoch 10/100\n",
      "218/218 [==============================] - 43s 195ms/step - loss: 0.2714 - accuracy: 0.9170 - precision: 0.9265 - recall: 0.9077 - val_loss: 0.5083 - val_accuracy: 0.8519 - val_precision: 0.8721 - val_recall: 0.8390\n",
      "Epoch 11/100\n",
      "218/218 [==============================] - 43s 195ms/step - loss: 0.2446 - accuracy: 0.9261 - precision: 0.9337 - recall: 0.9176 - val_loss: 0.5661 - val_accuracy: 0.8315 - val_precision: 0.8477 - val_recall: 0.8193\n",
      "Epoch 12/100\n",
      "218/218 [==============================] - 43s 195ms/step - loss: 0.2247 - accuracy: 0.9320 - precision: 0.9390 - recall: 0.9247 - val_loss: 0.4916 - val_accuracy: 0.8628 - val_precision: 0.8745 - val_recall: 0.8559\n",
      "Epoch 13/100\n",
      "218/218 [==============================] - 43s 195ms/step - loss: 0.2067 - accuracy: 0.9355 - precision: 0.9419 - recall: 0.9293 - val_loss: 0.5146 - val_accuracy: 0.8496 - val_precision: 0.8669 - val_recall: 0.8405\n",
      "Epoch 14/100\n",
      "218/218 [==============================] - 43s 196ms/step - loss: 0.1891 - accuracy: 0.9406 - precision: 0.9466 - recall: 0.9350 - val_loss: 0.4737 - val_accuracy: 0.8683 - val_precision: 0.8784 - val_recall: 0.8604\n",
      "Epoch 15/100\n",
      "218/218 [==============================] - 42s 195ms/step - loss: 0.1751 - accuracy: 0.9457 - precision: 0.9511 - recall: 0.9404 - val_loss: 0.5344 - val_accuracy: 0.8430 - val_precision: 0.8543 - val_recall: 0.8358\n",
      "Epoch 16/100\n",
      "218/218 [==============================] - 43s 195ms/step - loss: 0.1531 - accuracy: 0.9522 - precision: 0.9563 - recall: 0.9481 - val_loss: 0.4795 - val_accuracy: 0.8637 - val_precision: 0.8734 - val_recall: 0.8571\n",
      "Epoch 17/100\n",
      "218/218 [==============================] - 43s 195ms/step - loss: 0.1407 - accuracy: 0.9558 - precision: 0.9589 - recall: 0.9524 - val_loss: 0.4836 - val_accuracy: 0.8745 - val_precision: 0.8804 - val_recall: 0.8702\n",
      "Epoch 18/100\n",
      "218/218 [==============================] - 43s 195ms/step - loss: 0.1311 - accuracy: 0.9582 - precision: 0.9614 - recall: 0.9547 - val_loss: 0.4678 - val_accuracy: 0.8738 - val_precision: 0.8810 - val_recall: 0.8705\n",
      "Epoch 19/100\n",
      "218/218 [==============================] - 43s 197ms/step - loss: 0.1099 - accuracy: 0.9656 - precision: 0.9680 - recall: 0.9629 - val_loss: 0.5446 - val_accuracy: 0.8714 - val_precision: 0.8763 - val_recall: 0.8687\n",
      "Epoch 20/100\n",
      "218/218 [==============================] - 43s 197ms/step - loss: 0.0970 - accuracy: 0.9688 - precision: 0.9707 - recall: 0.9669 - val_loss: 0.5451 - val_accuracy: 0.8727 - val_precision: 0.8768 - val_recall: 0.8697\n",
      "Epoch 21/100\n",
      "218/218 [==============================] - 43s 196ms/step - loss: 0.0893 - accuracy: 0.9709 - precision: 0.9728 - recall: 0.9693 - val_loss: 0.5318 - val_accuracy: 0.8663 - val_precision: 0.8718 - val_recall: 0.8629\n",
      "Epoch 22/100\n",
      "218/218 [==============================] - 43s 197ms/step - loss: 0.0755 - accuracy: 0.9761 - precision: 0.9773 - recall: 0.9742 - val_loss: 0.6026 - val_accuracy: 0.8778 - val_precision: 0.8796 - val_recall: 0.8760\n",
      "Epoch 23/100\n",
      "218/218 [==============================] - 43s 195ms/step - loss: 0.0734 - accuracy: 0.9759 - precision: 0.9772 - recall: 0.9744 - val_loss: 0.5530 - val_accuracy: 0.8739 - val_precision: 0.8787 - val_recall: 0.8713\n",
      "Epoch 24/100\n",
      "218/218 [==============================] - 43s 196ms/step - loss: 0.0593 - accuracy: 0.9801 - precision: 0.9813 - recall: 0.9791 - val_loss: 0.5808 - val_accuracy: 0.8735 - val_precision: 0.8786 - val_recall: 0.8713\n",
      "Epoch 25/100\n",
      "218/218 [==============================] - 43s 195ms/step - loss: 0.0545 - accuracy: 0.9819 - precision: 0.9827 - recall: 0.9811 - val_loss: 0.5690 - val_accuracy: 0.8793 - val_precision: 0.8822 - val_recall: 0.8775\n",
      "Epoch 26/100\n",
      "218/218 [==============================] - 43s 196ms/step - loss: 0.0507 - accuracy: 0.9831 - precision: 0.9841 - recall: 0.9823 - val_loss: 0.6698 - val_accuracy: 0.8586 - val_precision: 0.8630 - val_recall: 0.8561\n",
      "Epoch 27/100\n",
      "218/218 [==============================] - 43s 195ms/step - loss: 0.0394 - accuracy: 0.9868 - precision: 0.9876 - recall: 0.9861 - val_loss: 0.8327 - val_accuracy: 0.8695 - val_precision: 0.8710 - val_recall: 0.8687\n",
      "Epoch 28/100\n",
      "218/218 [==============================] - ETA: 0s - loss: 0.0443 - accuracy: 0.9857 - precision: 0.9864 - recall: 0.9848Restoring model weights from the end of the best epoch: 18.\n",
      "218/218 [==============================] - 43s 196ms/step - loss: 0.0443 - accuracy: 0.9857 - precision: 0.9864 - recall: 0.9848 - val_loss: 0.6823 - val_accuracy: 0.8741 - val_precision: 0.8775 - val_recall: 0.8731\n",
      "Epoch 28: early stopping\n"
     ]
    },
    {
     "data": {
      "image/png": "[encoded data removed]",
      "text/plain": [
       "<Figure size 720x360 with 2 Axes>"
      ]
     },
     "metadata": {
      "needs_background": "light"
     },
     "output_type": "display_data"
    }
   ],
   "source": [
    "model = models.Sequential()\n",
    "\n",
    "model.add(layers.Conv2D(filters=32,\n",
    "                       kernel_size=3,\n",
    "                       activation='relu',\n",
    "                       input_shape=(227,227,1)))\n",
    "model.add(layers.MaxPooling2D(3,3))\n",
    "\n",
    "model.add(layers.Conv2D(64, 3, activation='relu'))\n",
    "model.add(layers.MaxPooling2D(2,2))\n",
    "\n",
    "# model.add(layers.Conv2D(128, 3, activation='relu'))\n",
    "model.add(layers.Conv2D(128, 3, activation='relu'))\n",
    "model.add(layers.MaxPooling2D(2,2))\n",
    "\n",
    "# model.add(layers.Conv2D(256, 3, activation='relu'))\n",
    "model.add(layers.Conv2D(256, 3, activation='relu'))\n",
    "model.add(layers.MaxPooling2D(2,2))\n",
    "\n",
    "model.add(layers.Conv2D(512, 3, activation='relu'))\n",
    "model.add(layers.Conv2D(512, 3, activation='relu'))\n",
    "# model.add(layers.BatchNormalization())\n",
    "model.add(layers.MaxPooling2D(2,2))\n",
    "\n",
    "\n",
    "model.add(layers.Dropout(rate=0.5))\n",
    "\n",
    "model.add(layers.Flatten())\n",
    "model.add(layers.Dense(4096, activation='relu'))\n",
    "model.add(layers.Dropout(rate=0.5))\n",
    "model.add(layers.Dense(1024, activation='relu'))\n",
    "model.add(layers.Dropout(rate=0.5))\n",
    "\n",
    "model.add(layers.Dense(8, activation='softmax'))\n",
    "\n",
    "\n",
    "model.compile(optimizer=optimizers.Adam(learning_rate=0.0001),\n",
    "              loss=losses.CategoricalCrossentropy(),\n",
    "              metrics=['accuracy', Precision(), Recall()])\n",
    "\n",
    "model.summary()\n",
    "\n",
    "results = model.fit(train_generator,\n",
    "                    epochs=epochs_to_train,  # Number of epochs\n",
    "                    validation_data=val_generator,\n",
    "                    verbose=1,\n",
    "                    callbacks = [early_stop]\n",
    "                    )\n",
    "\n",
    "display_model_trainTestGraphs(results)"
   ]
  },
  {
   "cell_type": "code",
   "execution_count": 11,
   "id": "7f3937e5",
   "metadata": {
    "ExecuteTime": {
     "end_time": "2022-05-22T23:32:39.803230Z",
     "start_time": "2022-05-22T23:32:38.493185Z"
    },
    "scrolled": true
   },
   "outputs": [
    {
     "name": "stderr",
     "output_type": "stream",
     "text": [
      "WARNING:absl:Found untraced functions such as _jit_compiled_convolution_op, _jit_compiled_convolution_op, _jit_compiled_convolution_op, _jit_compiled_convolution_op, _jit_compiled_convolution_op while saving (showing 5 of 6). These functions will not be directly callable after loading.\n"
     ]
    },
    {
     "name": "stdout",
     "output_type": "stream",
     "text": [
      "INFO:tensorflow:Assets written to: tf_Adam_checkpoints/Model_16\\assets\n"
     ]
    },
    {
     "name": "stderr",
     "output_type": "stream",
     "text": [
      "INFO:tensorflow:Assets written to: tf_Adam_checkpoints/Model_16\\assets\n"
     ]
    }
   ],
   "source": [
    "results.model.save(tf_chkpt_path+'Model_16')"
   ]
  },
  {
   "cell_type": "code",
   "execution_count": 14,
   "id": "10129f20",
   "metadata": {
    "ExecuteTime": {
     "end_time": "2022-05-22T23:35:26.212316Z",
     "start_time": "2022-05-22T23:35:17.818422Z"
    }
   },
   "outputs": [
    {
     "name": "stdout",
     "output_type": "stream",
     "text": [
      "222/222 [==============================] - 8s 36ms/step - loss: 0.4678 - accuracy: 0.8738 - precision: 0.8810 - recall: 0.8705\n"
     ]
    },
    {
     "data": {
      "text/plain": [
       "[0.46777644753456116, 0.8737918734550476, 0.88104248046875, 0.8704761862754822]"
      ]
     },
     "execution_count": 14,
     "metadata": {},
     "output_type": "execute_result"
    }
   ],
   "source": [
    "model.evaluate(val_generator)"
   ]
  },
  {
   "cell_type": "code",
   "execution_count": null,
   "id": "f3c32595",
   "metadata": {},
   "outputs": [],
   "source": []
  },
  {
   "cell_type": "code",
   "execution_count": null,
   "id": "26e66b1a",
   "metadata": {},
   "outputs": [],
   "source": []
  }
 ],
 "metadata": {
  "kernelspec": {
   "display_name": "tfGPU",
   "language": "python",
   "name": "tfgpu"
  },
  "language_info": {
   "codemirror_mode": {
    "name": "ipython",
    "version": 3
   },
   "file_extension": ".py",
   "mimetype": "text/x-python",
   "name": "python",
   "nbconvert_exporter": "python",
   "pygments_lexer": "ipython3",
   "version": "3.9.12"
  },
  "toc": {
   "base_numbering": 1,
   "nav_menu": {},
   "number_sections": true,
   "sideBar": true,
   "skip_h1_title": false,
   "title_cell": "Table of Contents",
   "title_sidebar": "Contents",
   "toc_cell": false,
   "toc_position": {
    "height": "calc(100% - 180px)",
    "left": "10px",
    "top": "150px",
    "width": "293px"
   },
   "toc_section_display": true,
   "toc_window_display": true
  },
  "varInspector": {
   "cols": {
    "lenName": 16,
    "lenType": 16,
    "lenVar": 40
   },
   "kernels_config": {
    "python": {
     "delete_cmd_postfix": "",
     "delete_cmd_prefix": "del ",
     "library": "var_list.py",
     "varRefreshCmd": "print(var_dic_list())"
    },
    "r": {
     "delete_cmd_postfix": ") ",
     "delete_cmd_prefix": "rm(",
     "library": "var_list.r",
     "varRefreshCmd": "cat(var_dic_list()) "
    }
   },
   "types_to_exclude": [
    "module",
    "function",
    "builtin_function_or_method",
    "instance",
    "_Feature"
   ],
   "window_display": false
  }
 },
 "nbformat": 4,
 "nbformat_minor": 5
}
