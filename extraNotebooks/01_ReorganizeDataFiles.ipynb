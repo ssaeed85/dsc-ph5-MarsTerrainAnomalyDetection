{
 "cells": [
  {
   "cell_type": "markdown",
   "id": "cf830726",
   "metadata": {
    "ExecuteTime": {
     "end_time": "2022-05-31T04:34:19.085923Z",
     "start_time": "2022-05-31T04:34:19.023909Z"
    }
   },
   "source": [
    "# OBSOLETE"
   ]
  },
  {
   "cell_type": "markdown",
   "id": "2dad8c40",
   "metadata": {},
   "source": [
    "# Abstract\n",
    "We are going to reorganize our dataset's files to allow for easier importing and organizing when working with tensorflow. "
   ]
  },
  {
   "cell_type": "markdown",
   "id": "023ab9be",
   "metadata": {},
   "source": [
    "# Import and helper functions"
   ]
  },
  {
   "cell_type": "code",
   "execution_count": 1,
   "id": "244027f3",
   "metadata": {
    "ExecuteTime": {
     "end_time": "2022-05-30T23:21:12.573256Z",
     "start_time": "2022-05-30T23:21:12.030270Z"
    }
   },
   "outputs": [],
   "source": [
    "import os\n",
    "import pandas as pd\n",
    "import zipfile\n",
    "import shutil"
   ]
  },
  {
   "cell_type": "code",
   "execution_count": 2,
   "id": "9a63678a",
   "metadata": {
    "ExecuteTime": {
     "end_time": "2022-05-30T23:21:14.899722Z",
     "start_time": "2022-05-30T23:21:12.575257Z"
    }
   },
   "outputs": [],
   "source": [
    "from src.helperFunctions import createDir"
   ]
  },
  {
   "cell_type": "markdown",
   "id": "5bacce2d",
   "metadata": {},
   "source": [
    "# Extract our compressed data"
   ]
  },
  {
   "cell_type": "code",
   "execution_count": 3,
   "id": "545cbc96",
   "metadata": {
    "ExecuteTime": {
     "end_time": "2022-05-30T23:22:29.014898Z",
     "start_time": "2022-05-30T23:21:14.900722Z"
    }
   },
   "outputs": [],
   "source": [
    "# This cell extracts the compressed files into a dedicated directory\n",
    "# NOTE: Expected runtime for this cell 1-2 min\n",
    "\n",
    "extractedDirectory = 'extractedData'\n",
    "with zipfile.ZipFile('hirise-map-proj-v3_2.zip', 'r') as zippedData:\n",
    "    zippedData.extractall(path=extractedDirectory)"
   ]
  },
  {
   "cell_type": "markdown",
   "id": "d3ad4c56",
   "metadata": {},
   "source": [
    "# Read the data map files\n",
    "As part of the extracted raw data, mapping data as `.txt` files are also provided which define what class each image belongs to as well as which subset (training/validation/testing) they belong to.\n",
    "\n",
    "This section reads these files to create a data frame which provides context for images in the dataset."
   ]
  },
  {
   "cell_type": "code",
   "execution_count": 4,
   "id": "2e4dfd4d",
   "metadata": {
    "ExecuteTime": {
     "end_time": "2022-05-30T23:22:29.029905Z",
     "start_time": "2022-05-30T23:22:29.015901Z"
    }
   },
   "outputs": [
    {
     "name": "stdout",
     "output_type": "stream",
     "text": [
      "extractedData/hirise-map-proj-v3_2\n",
      "images\n"
     ]
    }
   ],
   "source": [
    "# Define our raw data path and the main images folder\n",
    "rawDataDir = '/'.join([extractedDirectory,'hirise-map-proj-v3_2'])\n",
    "imagesDir = 'images'\n",
    "\n",
    "print(rawDataDir)\n",
    "print(imagesDir)"
   ]
  },
  {
   "cell_type": "code",
   "execution_count": 5,
   "id": "c313228f",
   "metadata": {
    "ExecuteTime": {
     "end_time": "2022-05-30T23:22:29.060910Z",
     "start_time": "2022-05-30T23:22:29.032904Z"
    }
   },
   "outputs": [
    {
     "data": {
      "text/html": [
       "<div>\n",
       "<style scoped>\n",
       "    .dataframe tbody tr th:only-of-type {\n",
       "        vertical-align: middle;\n",
       "    }\n",
       "\n",
       "    .dataframe tbody tr th {\n",
       "        vertical-align: top;\n",
       "    }\n",
       "\n",
       "    .dataframe thead th {\n",
       "        text-align: right;\n",
       "    }\n",
       "</style>\n",
       "<table border=\"1\" class=\"dataframe\">\n",
       "  <thead>\n",
       "    <tr style=\"text-align: right;\">\n",
       "      <th></th>\n",
       "      <th>class</th>\n",
       "      <th>className</th>\n",
       "    </tr>\n",
       "  </thead>\n",
       "  <tbody>\n",
       "    <tr>\n",
       "      <th>0</th>\n",
       "      <td>0</td>\n",
       "      <td>other</td>\n",
       "    </tr>\n",
       "    <tr>\n",
       "      <th>1</th>\n",
       "      <td>1</td>\n",
       "      <td>crater</td>\n",
       "    </tr>\n",
       "    <tr>\n",
       "      <th>2</th>\n",
       "      <td>2</td>\n",
       "      <td>dark dune</td>\n",
       "    </tr>\n",
       "    <tr>\n",
       "      <th>3</th>\n",
       "      <td>3</td>\n",
       "      <td>slope streak</td>\n",
       "    </tr>\n",
       "    <tr>\n",
       "      <th>4</th>\n",
       "      <td>4</td>\n",
       "      <td>bright dune</td>\n",
       "    </tr>\n",
       "    <tr>\n",
       "      <th>5</th>\n",
       "      <td>5</td>\n",
       "      <td>impact ejecta</td>\n",
       "    </tr>\n",
       "    <tr>\n",
       "      <th>6</th>\n",
       "      <td>6</td>\n",
       "      <td>swiss cheese</td>\n",
       "    </tr>\n",
       "    <tr>\n",
       "      <th>7</th>\n",
       "      <td>7</td>\n",
       "      <td>spider</td>\n",
       "    </tr>\n",
       "  </tbody>\n",
       "</table>\n",
       "</div>"
      ],
      "text/plain": [
       "   class      className\n",
       "0      0          other\n",
       "1      1         crater\n",
       "2      2      dark dune\n",
       "3      3   slope streak\n",
       "4      4    bright dune\n",
       "5      5  impact ejecta\n",
       "6      6   swiss cheese\n",
       "7      7         spider"
      ]
     },
     "execution_count": 5,
     "metadata": {},
     "output_type": "execute_result"
    }
   ],
   "source": [
    "classDecoder = pd.read_csv(\n",
    "    '/'.join([rawDataDir,'landmarks_map-proj-v3_2_classmap.csv']),\n",
    "    header= None,\n",
    "    names = ['class','className']\n",
    ")\n",
    "classDecoder"
   ]
  },
  {
   "cell_type": "markdown",
   "id": "2622dded",
   "metadata": {},
   "source": [
    "This dataframe will act as a decoder by giving us the relation between the numerical label assigned to every image and the associated human readable text for it."
   ]
  },
  {
   "cell_type": "code",
   "execution_count": 6,
   "id": "a9392c5e",
   "metadata": {
    "ExecuteTime": {
     "end_time": "2022-05-30T23:22:29.140457Z",
     "start_time": "2022-05-30T23:22:29.061912Z"
    },
    "scrolled": false
   },
   "outputs": [
    {
     "data": {
      "text/html": [
       "<div>\n",
       "<style scoped>\n",
       "    .dataframe tbody tr th:only-of-type {\n",
       "        vertical-align: middle;\n",
       "    }\n",
       "\n",
       "    .dataframe tbody tr th {\n",
       "        vertical-align: top;\n",
       "    }\n",
       "\n",
       "    .dataframe thead th {\n",
       "        text-align: right;\n",
       "    }\n",
       "</style>\n",
       "<table border=\"1\" class=\"dataframe\">\n",
       "  <thead>\n",
       "    <tr style=\"text-align: right;\">\n",
       "      <th></th>\n",
       "      <th>imageName</th>\n",
       "      <th>class</th>\n",
       "      <th>imageSet</th>\n",
       "    </tr>\n",
       "  </thead>\n",
       "  <tbody>\n",
       "    <tr>\n",
       "      <th>0</th>\n",
       "      <td>ESP_013049_0950_RED-0067.jpg</td>\n",
       "      <td>7</td>\n",
       "      <td>train</td>\n",
       "    </tr>\n",
       "    <tr>\n",
       "      <th>1</th>\n",
       "      <td>ESP_013049_0950_RED-0067-fv.jpg</td>\n",
       "      <td>7</td>\n",
       "      <td>train</td>\n",
       "    </tr>\n",
       "    <tr>\n",
       "      <th>2</th>\n",
       "      <td>ESP_013049_0950_RED-0067-brt.jpg</td>\n",
       "      <td>7</td>\n",
       "      <td>train</td>\n",
       "    </tr>\n",
       "    <tr>\n",
       "      <th>3</th>\n",
       "      <td>ESP_013049_0950_RED-0067-r90.jpg</td>\n",
       "      <td>7</td>\n",
       "      <td>train</td>\n",
       "    </tr>\n",
       "    <tr>\n",
       "      <th>4</th>\n",
       "      <td>ESP_013049_0950_RED-0067-r180.jpg</td>\n",
       "      <td>7</td>\n",
       "      <td>train</td>\n",
       "    </tr>\n",
       "    <tr>\n",
       "      <th>...</th>\n",
       "      <td>...</td>\n",
       "      <td>...</td>\n",
       "      <td>...</td>\n",
       "    </tr>\n",
       "    <tr>\n",
       "      <th>67805</th>\n",
       "      <td>ESP_018707_2205_RED-0041.jpg</td>\n",
       "      <td>0</td>\n",
       "      <td>test</td>\n",
       "    </tr>\n",
       "    <tr>\n",
       "      <th>67806</th>\n",
       "      <td>ESP_018707_2205_RED-0062.jpg</td>\n",
       "      <td>0</td>\n",
       "      <td>test</td>\n",
       "    </tr>\n",
       "    <tr>\n",
       "      <th>67807</th>\n",
       "      <td>ESP_018707_2205_RED-0105.jpg</td>\n",
       "      <td>0</td>\n",
       "      <td>test</td>\n",
       "    </tr>\n",
       "    <tr>\n",
       "      <th>67808</th>\n",
       "      <td>ESP_018707_2205_RED-0058.jpg</td>\n",
       "      <td>0</td>\n",
       "      <td>test</td>\n",
       "    </tr>\n",
       "    <tr>\n",
       "      <th>67809</th>\n",
       "      <td>ESP_018707_2205_RED-0051.jpg</td>\n",
       "      <td>0</td>\n",
       "      <td>test</td>\n",
       "    </tr>\n",
       "  </tbody>\n",
       "</table>\n",
       "<p>67810 rows × 3 columns</p>\n",
       "</div>"
      ],
      "text/plain": [
       "                               imageName  class imageSet\n",
       "0           ESP_013049_0950_RED-0067.jpg      7    train\n",
       "1        ESP_013049_0950_RED-0067-fv.jpg      7    train\n",
       "2       ESP_013049_0950_RED-0067-brt.jpg      7    train\n",
       "3       ESP_013049_0950_RED-0067-r90.jpg      7    train\n",
       "4      ESP_013049_0950_RED-0067-r180.jpg      7    train\n",
       "...                                  ...    ...      ...\n",
       "67805       ESP_018707_2205_RED-0041.jpg      0     test\n",
       "67806       ESP_018707_2205_RED-0062.jpg      0     test\n",
       "67807       ESP_018707_2205_RED-0105.jpg      0     test\n",
       "67808       ESP_018707_2205_RED-0058.jpg      0     test\n",
       "67809       ESP_018707_2205_RED-0051.jpg      0     test\n",
       "\n",
       "[67810 rows x 3 columns]"
      ]
     },
     "execution_count": 6,
     "metadata": {},
     "output_type": "execute_result"
    }
   ],
   "source": [
    "imageMap = pd.read_csv(\n",
    "    '/'.join([rawDataDir,\"labels-map-proj_v3_2_train_val_test.txt\"]), \n",
    "    header = None,\n",
    "    names = ['imageName','class','imageSet'],\n",
    "    delimiter = ' '    \n",
    ")\n",
    "imageMap"
   ]
  },
  {
   "cell_type": "markdown",
   "id": "5f6c72d4",
   "metadata": {},
   "source": [
    "This dataframe shows us the label assigned to each image (as a number). This dataframe has a few duplicate records. Accounting for this and referencing our `classDecoder`, we get the following dataframe"
   ]
  },
  {
   "cell_type": "code",
   "execution_count": 7,
   "id": "e6e17c53",
   "metadata": {
    "ExecuteTime": {
     "end_time": "2022-05-30T23:22:29.217453Z",
     "start_time": "2022-05-30T23:22:29.143458Z"
    },
    "scrolled": false
   },
   "outputs": [
    {
     "data": {
      "text/html": [
       "<div>\n",
       "<style scoped>\n",
       "    .dataframe tbody tr th:only-of-type {\n",
       "        vertical-align: middle;\n",
       "    }\n",
       "\n",
       "    .dataframe tbody tr th {\n",
       "        vertical-align: top;\n",
       "    }\n",
       "\n",
       "    .dataframe thead th {\n",
       "        text-align: right;\n",
       "    }\n",
       "</style>\n",
       "<table border=\"1\" class=\"dataframe\">\n",
       "  <thead>\n",
       "    <tr style=\"text-align: right;\">\n",
       "      <th></th>\n",
       "      <th>imageName</th>\n",
       "      <th>class</th>\n",
       "      <th>imageSet</th>\n",
       "      <th>className</th>\n",
       "    </tr>\n",
       "  </thead>\n",
       "  <tbody>\n",
       "    <tr>\n",
       "      <th>0</th>\n",
       "      <td>ESP_013049_0950_RED-0067.jpg</td>\n",
       "      <td>7</td>\n",
       "      <td>train</td>\n",
       "      <td>spider</td>\n",
       "    </tr>\n",
       "    <tr>\n",
       "      <th>1</th>\n",
       "      <td>ESP_013049_0950_RED-0067-fv.jpg</td>\n",
       "      <td>7</td>\n",
       "      <td>train</td>\n",
       "      <td>spider</td>\n",
       "    </tr>\n",
       "    <tr>\n",
       "      <th>2</th>\n",
       "      <td>ESP_013049_0950_RED-0067-brt.jpg</td>\n",
       "      <td>7</td>\n",
       "      <td>train</td>\n",
       "      <td>spider</td>\n",
       "    </tr>\n",
       "    <tr>\n",
       "      <th>3</th>\n",
       "      <td>ESP_013049_0950_RED-0067-r90.jpg</td>\n",
       "      <td>7</td>\n",
       "      <td>train</td>\n",
       "      <td>spider</td>\n",
       "    </tr>\n",
       "    <tr>\n",
       "      <th>4</th>\n",
       "      <td>ESP_013049_0950_RED-0067-r180.jpg</td>\n",
       "      <td>7</td>\n",
       "      <td>train</td>\n",
       "      <td>spider</td>\n",
       "    </tr>\n",
       "    <tr>\n",
       "      <th>...</th>\n",
       "      <td>...</td>\n",
       "      <td>...</td>\n",
       "      <td>...</td>\n",
       "      <td>...</td>\n",
       "    </tr>\n",
       "    <tr>\n",
       "      <th>67805</th>\n",
       "      <td>ESP_016613_2570_RED-0038.jpg</td>\n",
       "      <td>4</td>\n",
       "      <td>test</td>\n",
       "      <td>bright dune</td>\n",
       "    </tr>\n",
       "    <tr>\n",
       "      <th>67806</th>\n",
       "      <td>ESP_016613_2570_RED-0006.jpg</td>\n",
       "      <td>4</td>\n",
       "      <td>test</td>\n",
       "      <td>bright dune</td>\n",
       "    </tr>\n",
       "    <tr>\n",
       "      <th>67807</th>\n",
       "      <td>ESP_016613_2570_RED-0043.jpg</td>\n",
       "      <td>4</td>\n",
       "      <td>test</td>\n",
       "      <td>bright dune</td>\n",
       "    </tr>\n",
       "    <tr>\n",
       "      <th>67808</th>\n",
       "      <td>ESP_016613_2570_RED-0044.jpg</td>\n",
       "      <td>4</td>\n",
       "      <td>test</td>\n",
       "      <td>bright dune</td>\n",
       "    </tr>\n",
       "    <tr>\n",
       "      <th>67809</th>\n",
       "      <td>ESP_016613_2570_RED-0001.jpg</td>\n",
       "      <td>4</td>\n",
       "      <td>test</td>\n",
       "      <td>bright dune</td>\n",
       "    </tr>\n",
       "  </tbody>\n",
       "</table>\n",
       "<p>64947 rows × 4 columns</p>\n",
       "</div>"
      ],
      "text/plain": [
       "                               imageName  class imageSet    className\n",
       "0           ESP_013049_0950_RED-0067.jpg      7    train       spider\n",
       "1        ESP_013049_0950_RED-0067-fv.jpg      7    train       spider\n",
       "2       ESP_013049_0950_RED-0067-brt.jpg      7    train       spider\n",
       "3       ESP_013049_0950_RED-0067-r90.jpg      7    train       spider\n",
       "4      ESP_013049_0950_RED-0067-r180.jpg      7    train       spider\n",
       "...                                  ...    ...      ...          ...\n",
       "67805       ESP_016613_2570_RED-0038.jpg      4     test  bright dune\n",
       "67806       ESP_016613_2570_RED-0006.jpg      4     test  bright dune\n",
       "67807       ESP_016613_2570_RED-0043.jpg      4     test  bright dune\n",
       "67808       ESP_016613_2570_RED-0044.jpg      4     test  bright dune\n",
       "67809       ESP_016613_2570_RED-0001.jpg      4     test  bright dune\n",
       "\n",
       "[64947 rows x 4 columns]"
      ]
     },
     "execution_count": 7,
     "metadata": {},
     "output_type": "execute_result"
    }
   ],
   "source": [
    "imageMap = imageMap.merge(classDecoder,on='class').drop_duplicates()\n",
    "imageMap"
   ]
  },
  {
   "cell_type": "markdown",
   "id": "4d05f076",
   "metadata": {
    "ExecuteTime": {
     "end_time": "2022-05-18T19:24:16.911039Z",
     "start_time": "2022-05-18T19:24:16.894035Z"
    }
   },
   "source": [
    "This dataframe now shows, what label as well as which part of the data split each image is assigned to. Using this we can reorganize our image data accordingly. We will now create the following folder structure:  "
   ]
  },
  {
   "cell_type": "markdown",
   "id": "b1cc545d",
   "metadata": {},
   "source": [
    "images\n",
    "- test  \n",
    " - bright dune  \n",
    " - crater  \n",
    " - dark dune  \n",
    " - impact ejecta  \n",
    " - other  \n",
    " - slope streak  \n",
    " - spider  \n",
    " - swiss cheese  \n",
    " \n",
    "- train  \n",
    " - bright dune  \n",
    " - crater  \n",
    " - dark dune  \n",
    " - impact ejecta  \n",
    " - other  \n",
    " - slope streak  \n",
    " - spider  \n",
    " - swiss cheese  \n",
    "- val  \n",
    " - bright dune  \n",
    " - crater  \n",
    " - dark dune  \n",
    " - impact ejecta  \n",
    " - other  \n",
    " - slope streak  \n",
    " - spider  \n",
    " - swiss cheese  "
   ]
  },
  {
   "cell_type": "code",
   "execution_count": 8,
   "id": "0542780d",
   "metadata": {
    "ExecuteTime": {
     "end_time": "2022-05-30T23:22:29.232457Z",
     "start_time": "2022-05-30T23:22:29.218454Z"
    }
   },
   "outputs": [
    {
     "name": "stdout",
     "output_type": "stream",
     "text": [
      "images directory already exists\n"
     ]
    }
   ],
   "source": [
    "# Create Folder structure for image data\n",
    "createDir(imagesDir)\n",
    "\n",
    "for imageFolder in set(imageMap.imageSet):\n",
    "    createDir('/'.join([imagesDir,imageFolder]))\n",
    "    for classFolder in set(classDecoder.className):       \n",
    "        createDir('/'.join([imagesDir,imageFolder,classFolder]))"
   ]
  },
  {
   "cell_type": "code",
   "execution_count": 9,
   "id": "94abb8ab",
   "metadata": {
    "ExecuteTime": {
     "end_time": "2022-05-30T23:30:14.114382Z",
     "start_time": "2022-05-30T23:22:29.233458Z"
    }
   },
   "outputs": [],
   "source": [
    "# Move all extracted images into the appropriate folder location\n",
    "# Expected runtime for this operation 6-10 min\n",
    "for file in os.listdir('/'.join([rawDataDir,'map-proj-v3_2'])):\n",
    "    \n",
    "    setFolder = imageMap[imageMap.imageName == file].iloc[0]['imageSet']\n",
    "    classFolder = imageMap[imageMap.imageName == file].iloc[0]['className'] \n",
    "    \n",
    "    srcPath  = '/'.join([rawDataDir,'map-proj-v3_2',file])\n",
    "    destPath = str('images/' +setFolder + \"/\" + classFolder + \"/\" + file)\n",
    "    \n",
    "    shutil.move(srcPath, \n",
    "                    destPath)"
   ]
  }
 ],
 "metadata": {
  "kernelspec": {
   "display_name": "Python 3",
   "language": "python",
   "name": "python3"
  },
  "language_info": {
   "codemirror_mode": {
    "name": "ipython",
    "version": 3
   },
   "file_extension": ".py",
   "mimetype": "text/x-python",
   "name": "python",
   "nbconvert_exporter": "python",
   "pygments_lexer": "ipython3",
   "version": "3.8.5"
  },
  "toc": {
   "base_numbering": 1,
   "nav_menu": {},
   "number_sections": true,
   "sideBar": true,
   "skip_h1_title": false,
   "title_cell": "Table of Contents",
   "title_sidebar": "Contents",
   "toc_cell": false,
   "toc_position": {},
   "toc_section_display": true,
   "toc_window_display": false
  },
  "varInspector": {
   "cols": {
    "lenName": 16,
    "lenType": 16,
    "lenVar": 40
   },
   "kernels_config": {
    "python": {
     "delete_cmd_postfix": "",
     "delete_cmd_prefix": "del ",
     "library": "var_list.py",
     "varRefreshCmd": "print(var_dic_list())"
    },
    "r": {
     "delete_cmd_postfix": ") ",
     "delete_cmd_prefix": "rm(",
     "library": "var_list.r",
     "varRefreshCmd": "cat(var_dic_list()) "
    }
   },
   "position": {
    "height": "642.844px",
    "left": "1550px",
    "right": "20px",
    "top": "120px",
    "width": "350px"
   },
   "types_to_exclude": [
    "module",
    "function",
    "builtin_function_or_method",
    "instance",
    "_Feature"
   ],
   "window_display": false
  }
 },
 "nbformat": 4,
 "nbformat_minor": 5
}
