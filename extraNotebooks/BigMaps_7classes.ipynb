{
 "cells": [
  {
   "cell_type": "code",
   "execution_count": null,
   "id": "39cc5aba",
   "metadata": {
    "ExecuteTime": {
     "end_time": "2022-05-28T08:28:52.098815Z",
     "start_time": "2022-05-28T08:28:52.083813Z"
    }
   },
   "outputs": [],
   "source": [
    "from IPython.display import display, HTML\n",
    "display(HTML(\"<style>.container { width:80% !important; }</style>\"))"
   ]
  },
  {
   "cell_type": "code",
   "execution_count": null,
   "id": "5eabbafb",
   "metadata": {
    "ExecuteTime": {
     "end_time": "2022-05-28T08:28:54.508398Z",
     "start_time": "2022-05-28T08:28:52.099816Z"
    }
   },
   "outputs": [],
   "source": [
    "from PIL import Image, ImageDraw\n",
    "import math\n",
    "import pandas as pd\n",
    "import numpy as np\n",
    "import tensorflow as tf\n",
    "from tensorflow.keras.preprocessing.image import ImageDataGenerator\n",
    "import os\n",
    "import shutil\n",
    "import random"
   ]
  },
  {
   "cell_type": "code",
   "execution_count": null,
   "id": "3467b177",
   "metadata": {
    "ExecuteTime": {
     "end_time": "2022-05-28T08:48:06.742628Z",
     "start_time": "2022-05-28T08:48:06.728624Z"
    }
   },
   "outputs": [],
   "source": [
    "def drawBoundingRectangle(coordsTup , ImgObj, color='#ff0000', width=5, alpha=1.0):\n",
    "    \"\"\"\n",
    "    Creates a box to highligt a location on the image object\n",
    "\n",
    "    coordsTup = tuple of bbox corners. \n",
    "        top left coords = first 2 elements\n",
    "        bottom right coords = last 2 elements\n",
    "    width: width of outline\n",
    "    color: hex value of color. Default red\n",
    "    alpha: opacity. Range: 0,1\n",
    "    \"\"\"\n",
    "    #Checking for transparency\n",
    "    if alpha > 1 or alpha < 0: \n",
    "        alpha =1\n",
    "    \n",
    "    color_with_opacity = color + hex(int(alpha*255))[-2:]\n",
    "    \n",
    "    # Draw a rectangle\n",
    "    draw = ImageDraw.Draw(ImgObj,'RGBA')\n",
    "    \n",
    "    p1_coord = coordsTup[0:2]\n",
    "    p2_coord = coordsTup[2:4]\n",
    "    draw.rectangle([p1_coord, p2_coord], outline=color_with_opacity, width=width)\n",
    "    \n",
    "    \n",
    "def createNewPotentialBboxes(imgObj):\n",
    "    img_width,  img_height = imgObj.size\n",
    "    overlap = 0.4\n",
    "    stride = 277*(1-overlap)\n",
    "\n",
    "    df_list = []\n",
    "    \n",
    "#     (277,277*1.25,277*1.5)\n",
    "    for winsize in [(277*0.5), (277*0.75) , (277)]:\n",
    "        winsize = round(winsize)\n",
    "        if (winsize > img_width) or (winsize > img_height):\n",
    "            break\n",
    "            \n",
    "            \n",
    "        #if winsize odd, increase by 1 pixel. Just easier\n",
    "        if (winsize % 2) != 0:\n",
    "            winsize+=1\n",
    "        xvals = np.arange((winsize/2), (img_width-winsize/2),stride)\n",
    "        yvals = np.arange((winsize/2), (img_height-winsize/2),stride)\n",
    "        list_centroids = [(x,y) for x in xvals for y in yvals]\n",
    "\n",
    "        list_coordTuples = [get_bboxCoords(x_cnt,y_cnt,winsize) for x_cnt,y_cnt in list_centroids]\n",
    "\n",
    "        #Appends new records for current winsize and bbox\n",
    "        df_list.append(pd.DataFrame([list_coordTuples,[winsize]*len(list_coordTuples)]).T)\n",
    "\n",
    "    df_bboxPotentials = pd.concat(df_list,ignore_index=True,axis=0)\n",
    "    df_bboxPotentials.columns = ['bbox_bounds','winsize']\n",
    "    df_bboxPotentials.to_csv(f'mass_maps/bboxPotentials_{img_width}_{img_height}.csv',index = False)\n",
    "    return df_bboxPotentials\n",
    "\n",
    "def get_bboxCoords(x_cnt,y_cnt,winsize):\n",
    "    return int(x_cnt - winsize/2),int(y_cnt - winsize/2),int(x_cnt + winsize/2),int(y_cnt + winsize/2)\n",
    "\n",
    "def getPotentialBboxes(imgObj,forceCreateNew = False):\n",
    "    \n",
    "    img_width,  img_height = imgObj.size\n",
    "    \n",
    "    if forceCreateNew:\n",
    "        print('force creating new')\n",
    "        df_bboxPotentials = createNewPotentialBboxes(imgObj)\n",
    "    else:\n",
    "        try:\n",
    "            print('reading current')\n",
    "            df_bboxPotentials = pd.read_csv(f'mass_maps/bboxPotentials_{img_width}_{img_height}.csv')\n",
    "        except FileNotFoundError:\n",
    "            print('no existing doc. creating')\n",
    "            df_bboxPotentials = createNewPotentialBboxes(imgObj)\n",
    "        \n",
    "        \n",
    "    return df_bboxPotentials\n",
    "\n",
    "def getClassFromPred(pred,threshold):\n",
    "    if max(pred)>threshold: # and pred.argmax()!=4 :\n",
    "        return pred.argmax()\n",
    "    return -1\n",
    "\n",
    "\n",
    "def getRandomColor():\n",
    "    #Shamelessly stolen from one of the references above\n",
    "    #Returns a random hex color value\n",
    "    return str([\"#\"+''.join([random.choice('ABCDEF0123456789') for i in range(6)])][0])\n",
    "\n",
    "\n",
    "colorMap = {n:getRandomColor() for n in range(0,8)}"
   ]
  },
  {
   "cell_type": "code",
   "execution_count": null,
   "id": "b5a328f9",
   "metadata": {
    "ExecuteTime": {
     "end_time": "2022-05-28T08:48:13.815037Z",
     "start_time": "2022-05-28T08:48:13.799042Z"
    }
   },
   "outputs": [],
   "source": [
    "im1 = Image.open('mass_maps/ESP_073483_1580_RED.NOMAP.browse.jpg')\n",
    "img_width,  img_height = im1.size"
   ]
  },
  {
   "cell_type": "code",
   "execution_count": null,
   "id": "69a274fb",
   "metadata": {
    "ExecuteTime": {
     "end_time": "2022-05-28T08:48:13.862057Z",
     "start_time": "2022-05-28T08:48:13.816037Z"
    }
   },
   "outputs": [],
   "source": [
    "df_bbox = getPotentialBboxes(im1,forceCreateNew=True)"
   ]
  },
  {
   "cell_type": "code",
   "execution_count": null,
   "id": "68d57ff5",
   "metadata": {
    "ExecuteTime": {
     "end_time": "2022-05-28T08:48:13.878062Z",
     "start_time": "2022-05-28T08:48:13.863059Z"
    }
   },
   "outputs": [],
   "source": [
    "df_bbox"
   ]
  },
  {
   "cell_type": "code",
   "execution_count": null,
   "id": "44a9c1ff",
   "metadata": {
    "ExecuteTime": {
     "end_time": "2022-05-28T08:48:14.082475Z",
     "start_time": "2022-05-28T08:48:13.879063Z"
    }
   },
   "outputs": [],
   "source": [
    "list_imagesToClassify = [im1.crop(df_bbox.iloc[rowNum]['bbox_bounds']) \n",
    "                         for rowNum in range(0,df_bbox.shape[0])]"
   ]
  },
  {
   "cell_type": "code",
   "execution_count": null,
   "id": "31154c86",
   "metadata": {
    "ExecuteTime": {
     "end_time": "2022-05-28T08:48:14.098484Z",
     "start_time": "2022-05-28T08:48:14.083480Z"
    },
    "scrolled": false
   },
   "outputs": [],
   "source": [
    "for each in list_imagesToClassify[157:158]:\n",
    "    display(each)"
   ]
  },
  {
   "cell_type": "code",
   "execution_count": null,
   "id": "4358fb5a",
   "metadata": {
    "ExecuteTime": {
     "end_time": "2022-05-28T08:48:14.814407Z",
     "start_time": "2022-05-28T08:48:14.099484Z"
    }
   },
   "outputs": [],
   "source": [
    "final_model = tf.keras.models.load_model('tf_TransferLearningbest_model.hdf5')"
   ]
  },
  {
   "cell_type": "code",
   "execution_count": null,
   "id": "38b04ccf",
   "metadata": {
    "ExecuteTime": {
     "end_time": "2022-05-28T08:48:16.364864Z",
     "start_time": "2022-05-28T08:48:14.815410Z"
    }
   },
   "outputs": [],
   "source": [
    "# Fresh start on sliced output folder\n",
    "slicePath = f\"{'/'.join(im1.filename.split('/')[:-1])}/_slices_{im1.filename.split('/')[-1]}/\"\n",
    "slicePath = slicePath.replace('.','_')\n",
    "\n",
    "if (os.path.exists(slicePath) and os.path.isdir(slicePath)):\n",
    "    shutil.rmtree(slicePath)\n",
    "os.makedirs(slicePath)\n",
    "\n",
    "for count, img in enumerate(list_imagesToClassify):\n",
    "    img.save(''.join([slicePath,str(count),'_',(im1.filename.split('/')[-1])]))"
   ]
  },
  {
   "cell_type": "code",
   "execution_count": null,
   "id": "7efb195d",
   "metadata": {
    "ExecuteTime": {
     "end_time": "2022-05-28T08:48:16.427874Z",
     "start_time": "2022-05-28T08:48:16.365865Z"
    }
   },
   "outputs": [],
   "source": [
    "# Normalizing data for 8 bit\n",
    "predict_datagen = ImageDataGenerator(rescale=1./255)\n",
    "\n",
    "print(slicePath)\n",
    "predict_generator = predict_datagen.flow_from_directory(\n",
    "    'mass_maps/',\n",
    "    target_size = (227,227),\n",
    "    batch_size=1,\n",
    "    color_mode='rgb',\n",
    "    class_mode=None\n",
    ")\n",
    "predict_generator.reset()\n",
    "\n",
    "# preds = final_model.predict(predict_generator)"
   ]
  },
  {
   "cell_type": "code",
   "execution_count": null,
   "id": "3841dd43",
   "metadata": {
    "ExecuteTime": {
     "end_time": "2022-05-28T08:48:28.200278Z",
     "start_time": "2022-05-28T08:48:16.428875Z"
    }
   },
   "outputs": [],
   "source": [
    "preds = final_model.predict(predict_generator)"
   ]
  },
  {
   "cell_type": "code",
   "execution_count": null,
   "id": "bf0dd850",
   "metadata": {
    "ExecuteTime": {
     "end_time": "2022-05-28T08:48:28.215661Z",
     "start_time": "2022-05-28T08:48:28.202290Z"
    }
   },
   "outputs": [],
   "source": [
    "dict_class = { 0:'bright dune',\n",
    "  1:'crater',\n",
    "  2:'dark dune',\n",
    "  3:'impact ejecta',\n",
    "  4:'slope streak',\n",
    "  5:'spider',\n",
    "  6:'swiss cheese'}"
   ]
  },
  {
   "cell_type": "code",
   "execution_count": null,
   "id": "eb41fc15",
   "metadata": {
    "ExecuteTime": {
     "end_time": "2022-05-28T08:48:28.263672Z",
     "start_time": "2022-05-28T08:48:28.216662Z"
    },
    "scrolled": false
   },
   "outputs": [],
   "source": [
    "df_bbox['predClass'] = [getClassFromPred(pred,0.99) for pred in preds]\n",
    "df_final_bbox = df_bbox[df_bbox.predClass>-1]\n",
    "df_final_bbox['classNames'] = df_final_bbox.predClass.map(dict_class)\n",
    "df_final_bbox"
   ]
  },
  {
   "cell_type": "code",
   "execution_count": null,
   "id": "f347bb68",
   "metadata": {
    "ExecuteTime": {
     "end_time": "2022-05-28T08:48:48.470113Z",
     "start_time": "2022-05-28T08:48:45.014583Z"
    },
    "scrolled": false
   },
   "outputs": [],
   "source": [
    "mask_img = Image.new(\"RGBA\", (img_width, img_height), (0, 0, 0, 0))\n",
    "df_validBbox = df_bbox[df_bbox.predClass>-1][['bbox_bounds','predClass']]\n",
    "\n",
    "for idx in range(0, df_validBbox.shape[0]):\n",
    "    \n",
    "    drawBoundingRectangle(df_validBbox.iloc[idx]['bbox_bounds'],\n",
    "                          mask_img,\n",
    "                          color=colorMap[df_validBbox.iloc[idx]['predClass']]\n",
    "                                         )\n",
    "\n",
    "im2 = im1.convert('RGB')\n",
    "\n",
    "im2.paste(mask_img,(0,0),mask_img)\n",
    "im2"
   ]
  },
  {
   "cell_type": "code",
   "execution_count": null,
   "id": "c20c0014",
   "metadata": {
    "ExecuteTime": {
     "end_time": "2022-05-26T19:06:39.001662Z",
     "start_time": "2022-05-26T19:06:38.986656Z"
    }
   },
   "outputs": [],
   "source": [
    "df_bbox.iloc[157]"
   ]
  },
  {
   "cell_type": "code",
   "execution_count": null,
   "id": "6aee6c3c",
   "metadata": {
    "ExecuteTime": {
     "end_time": "2022-05-28T08:37:06.989641Z",
     "start_time": "2022-05-28T08:37:06.976637Z"
    }
   },
   "outputs": [],
   "source": [
    "for each in list_imagesToClassify[157:158]:\n",
    "    display(each)"
   ]
  },
  {
   "cell_type": "code",
   "execution_count": null,
   "id": "eed8e8e4",
   "metadata": {
    "ExecuteTime": {
     "end_time": "2022-05-28T08:37:07.644259Z",
     "start_time": "2022-05-28T08:37:07.633264Z"
    }
   },
   "outputs": [],
   "source": [
    "preds[157].argmax()"
   ]
  },
  {
   "cell_type": "code",
   "execution_count": null,
   "id": "2ad1b4c2",
   "metadata": {
    "ExecuteTime": {
     "end_time": "2022-05-28T08:37:08.286339Z",
     "start_time": "2022-05-28T08:37:08.280345Z"
    }
   },
   "outputs": [],
   "source": [
    "max(preds[157])"
   ]
  },
  {
   "cell_type": "code",
   "execution_count": null,
   "id": "1e3aff2b",
   "metadata": {
    "ExecuteTime": {
     "end_time": "2022-05-26T21:36:34.330128Z",
     "start_time": "2022-05-26T21:36:34.288699Z"
    }
   },
   "outputs": [],
   "source": [
    "[getClassFromPred(pred,0.7) for pred in preds]"
   ]
  },
  {
   "cell_type": "code",
   "execution_count": null,
   "id": "8c4a5f94",
   "metadata": {
    "ExecuteTime": {
     "end_time": "2022-05-26T19:07:47.472520Z",
     "start_time": "2022-05-26T19:07:47.458516Z"
    }
   },
   "outputs": [],
   "source": [
    "for each in preds:\n",
    "    print((each))\n",
    "    print(len(each))\n",
    "    print(each.argmax())\n",
    "    print(max(each))\n",
    "    break"
   ]
  },
  {
   "cell_type": "code",
   "execution_count": null,
   "id": "89367009",
   "metadata": {
    "ExecuteTime": {
     "end_time": "2022-05-26T19:06:39.204704Z",
     "start_time": "2022-05-26T19:06:39.191703Z"
    }
   },
   "outputs": [],
   "source": [
    "preds[0]"
   ]
  },
  {
   "cell_type": "code",
   "execution_count": null,
   "id": "0be69c78",
   "metadata": {},
   "outputs": [],
   "source": []
  }
 ],
 "metadata": {
  "kernelspec": {
   "display_name": "tfGPU",
   "language": "python",
   "name": "tfgpu"
  },
  "language_info": {
   "codemirror_mode": {
    "name": "ipython",
    "version": 3
   },
   "file_extension": ".py",
   "mimetype": "text/x-python",
   "name": "python",
   "nbconvert_exporter": "python",
   "pygments_lexer": "ipython3",
   "version": "3.9.12"
  },
  "toc": {
   "base_numbering": 1,
   "nav_menu": {},
   "number_sections": true,
   "sideBar": true,
   "skip_h1_title": false,
   "title_cell": "Table of Contents",
   "title_sidebar": "Contents",
   "toc_cell": false,
   "toc_position": {},
   "toc_section_display": true,
   "toc_window_display": false
  },
  "varInspector": {
   "cols": {
    "lenName": 16,
    "lenType": 16,
    "lenVar": 40
   },
   "kernels_config": {
    "python": {
     "delete_cmd_postfix": "",
     "delete_cmd_prefix": "del ",
     "library": "var_list.py",
     "varRefreshCmd": "print(var_dic_list())"
    },
    "r": {
     "delete_cmd_postfix": ") ",
     "delete_cmd_prefix": "rm(",
     "library": "var_list.r",
     "varRefreshCmd": "cat(var_dic_list()) "
    }
   },
   "position": {
    "height": "395.844px",
    "left": "1187px",
    "right": "20px",
    "top": "120px",
    "width": "713px"
   },
   "types_to_exclude": [
    "module",
    "function",
    "builtin_function_or_method",
    "instance",
    "_Feature"
   ],
   "window_display": false
  }
 },
 "nbformat": 4,
 "nbformat_minor": 5
}
