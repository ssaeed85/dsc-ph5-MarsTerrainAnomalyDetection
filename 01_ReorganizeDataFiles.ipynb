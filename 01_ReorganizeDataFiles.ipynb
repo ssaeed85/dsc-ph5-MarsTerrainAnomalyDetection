{
 "cells": [
  {
   "cell_type": "markdown",
   "id": "04a7819e",
   "metadata": {},
   "source": [
    "# Abstract\n",
    "We are going to reorganize our dataset's files to allow for easier importing and organizing when working with tensorflow. "
   ]
  },
  {
   "cell_type": "markdown",
   "id": "9f1e3d24",
   "metadata": {},
   "source": [
    "# Import and helper functions"
   ]
  },
  {
   "cell_type": "code",
   "execution_count": 13,
   "id": "4c3c4a9f",
   "metadata": {
    "ExecuteTime": {
     "end_time": "2022-05-18T19:13:13.544728Z",
     "start_time": "2022-05-18T19:13:13.527723Z"
    }
   },
   "outputs": [],
   "source": [
    "import os\n",
    "import pandas as pd\n",
    "import zipfile\n",
    "import shutil"
   ]
  },
  {
   "cell_type": "code",
   "execution_count": 14,
   "id": "ca723c9d",
   "metadata": {
    "ExecuteTime": {
     "end_time": "2022-05-18T19:13:13.966883Z",
     "start_time": "2022-05-18T19:13:13.958881Z"
    }
   },
   "outputs": [],
   "source": [
    "def createDir(path):\n",
    "    try:\n",
    "        os.mkdir(path)\n",
    "    except:\n",
    "        print(path, 'directory already exists')"
   ]
  },
  {
   "cell_type": "markdown",
   "id": "adbe68b2",
   "metadata": {},
   "source": [
    "# Extract our compressed data"
   ]
  },
  {
   "cell_type": "code",
   "execution_count": 4,
   "id": "5a35f497",
   "metadata": {
    "ExecuteTime": {
     "end_time": "2022-05-18T18:48:35.897359Z",
     "start_time": "2022-05-18T18:47:37.032418Z"
    }
   },
   "outputs": [],
   "source": [
    "# This cell extracts the compressed files into a dedicated directory\n",
    "# NOTE: Expected runtime for this cell 1-2 min\n",
    "\n",
    "extractedDirectory = 'extractedData'\n",
    "with zipfile.ZipFile('hirise-map-proj-v3_2.zip', 'r') as zippedData:\n",
    "    zippedData.extractall(path=extractedDirectory)"
   ]
  },
  {
   "cell_type": "markdown",
   "id": "5905167a",
   "metadata": {},
   "source": [
    "# Read the data map files\n",
    "As part of the extracted raw data, mapping data as `.txt` files are also provided which define what class each image belongs to as well as which subset (training/validation/testing) they belong to.\n",
    "\n",
    "This section reads these files to create a data frame which provides context for images in the dataset."
   ]
  },
  {
   "cell_type": "code",
   "execution_count": 5,
   "id": "729fdfe5",
   "metadata": {
    "ExecuteTime": {
     "end_time": "2022-05-18T18:48:35.912362Z",
     "start_time": "2022-05-18T18:48:35.898360Z"
    }
   },
   "outputs": [
    {
     "name": "stdout",
     "output_type": "stream",
     "text": [
      "extractedData/hirise-map-proj-v3_2\n",
      "images\n"
     ]
    }
   ],
   "source": [
    "# Define our raw data path and the main images folder\n",
    "rawDataDir = '/'.join([extractedDirectory,'hirise-map-proj-v3_2'])\n",
    "imagesDir = 'images'\n",
    "\n",
    "print(rawDataDir)\n",
    "print(imagesDir)"
   ]
  },
  {
   "cell_type": "code",
   "execution_count": 16,
   "id": "4baa3fe1",
   "metadata": {
    "ExecuteTime": {
     "end_time": "2022-05-18T19:21:28.032939Z",
     "start_time": "2022-05-18T19:21:28.017272Z"
    }
   },
   "outputs": [
    {
     "data": {
      "text/html": [
       "<div>\n",
       "<style scoped>\n",
       "    .dataframe tbody tr th:only-of-type {\n",
       "        vertical-align: middle;\n",
       "    }\n",
       "\n",
       "    .dataframe tbody tr th {\n",
       "        vertical-align: top;\n",
       "    }\n",
       "\n",
       "    .dataframe thead th {\n",
       "        text-align: right;\n",
       "    }\n",
       "</style>\n",
       "<table border=\"1\" class=\"dataframe\">\n",
       "  <thead>\n",
       "    <tr style=\"text-align: right;\">\n",
       "      <th></th>\n",
       "      <th>class</th>\n",
       "      <th>className</th>\n",
       "    </tr>\n",
       "  </thead>\n",
       "  <tbody>\n",
       "    <tr>\n",
       "      <th>0</th>\n",
       "      <td>0</td>\n",
       "      <td>other</td>\n",
       "    </tr>\n",
       "    <tr>\n",
       "      <th>1</th>\n",
       "      <td>1</td>\n",
       "      <td>crater</td>\n",
       "    </tr>\n",
       "    <tr>\n",
       "      <th>2</th>\n",
       "      <td>2</td>\n",
       "      <td>dark dune</td>\n",
       "    </tr>\n",
       "    <tr>\n",
       "      <th>3</th>\n",
       "      <td>3</td>\n",
       "      <td>slope streak</td>\n",
       "    </tr>\n",
       "    <tr>\n",
       "      <th>4</th>\n",
       "      <td>4</td>\n",
       "      <td>bright dune</td>\n",
       "    </tr>\n",
       "    <tr>\n",
       "      <th>5</th>\n",
       "      <td>5</td>\n",
       "      <td>impact ejecta</td>\n",
       "    </tr>\n",
       "    <tr>\n",
       "      <th>6</th>\n",
       "      <td>6</td>\n",
       "      <td>swiss cheese</td>\n",
       "    </tr>\n",
       "    <tr>\n",
       "      <th>7</th>\n",
       "      <td>7</td>\n",
       "      <td>spider</td>\n",
       "    </tr>\n",
       "  </tbody>\n",
       "</table>\n",
       "</div>"
      ],
      "text/plain": [
       "   class      className\n",
       "0      0          other\n",
       "1      1         crater\n",
       "2      2      dark dune\n",
       "3      3   slope streak\n",
       "4      4    bright dune\n",
       "5      5  impact ejecta\n",
       "6      6   swiss cheese\n",
       "7      7         spider"
      ]
     },
     "execution_count": 16,
     "metadata": {},
     "output_type": "execute_result"
    }
   ],
   "source": [
    "classDecoder = pd.read_csv(\n",
    "    '/'.join([rawDataDir,'landmarks_map-proj-v3_2_classmap.csv']),\n",
    "    header= None,\n",
    "    names = ['class','className']\n",
    ")\n",
    "classDecoder"
   ]
  },
  {
   "cell_type": "markdown",
   "id": "d1abd518",
   "metadata": {},
   "source": [
    "This dataframe will act as a decoder by giving us the relation between the numerical label assigned to every image and the associated human readable text for it."
   ]
  },
  {
   "cell_type": "code",
   "execution_count": 15,
   "id": "af303590",
   "metadata": {
    "ExecuteTime": {
     "end_time": "2022-05-18T19:20:39.758355Z",
     "start_time": "2022-05-18T19:20:39.702342Z"
    },
    "scrolled": false
   },
   "outputs": [
    {
     "data": {
      "text/html": [
       "<div>\n",
       "<style scoped>\n",
       "    .dataframe tbody tr th:only-of-type {\n",
       "        vertical-align: middle;\n",
       "    }\n",
       "\n",
       "    .dataframe tbody tr th {\n",
       "        vertical-align: top;\n",
       "    }\n",
       "\n",
       "    .dataframe thead th {\n",
       "        text-align: right;\n",
       "    }\n",
       "</style>\n",
       "<table border=\"1\" class=\"dataframe\">\n",
       "  <thead>\n",
       "    <tr style=\"text-align: right;\">\n",
       "      <th></th>\n",
       "      <th>imageName</th>\n",
       "      <th>class</th>\n",
       "      <th>imageSet</th>\n",
       "    </tr>\n",
       "  </thead>\n",
       "  <tbody>\n",
       "    <tr>\n",
       "      <th>0</th>\n",
       "      <td>ESP_013049_0950_RED-0067.jpg</td>\n",
       "      <td>7</td>\n",
       "      <td>train</td>\n",
       "    </tr>\n",
       "    <tr>\n",
       "      <th>1</th>\n",
       "      <td>ESP_013049_0950_RED-0067-fv.jpg</td>\n",
       "      <td>7</td>\n",
       "      <td>train</td>\n",
       "    </tr>\n",
       "    <tr>\n",
       "      <th>2</th>\n",
       "      <td>ESP_013049_0950_RED-0067-brt.jpg</td>\n",
       "      <td>7</td>\n",
       "      <td>train</td>\n",
       "    </tr>\n",
       "    <tr>\n",
       "      <th>3</th>\n",
       "      <td>ESP_013049_0950_RED-0067-r90.jpg</td>\n",
       "      <td>7</td>\n",
       "      <td>train</td>\n",
       "    </tr>\n",
       "    <tr>\n",
       "      <th>4</th>\n",
       "      <td>ESP_013049_0950_RED-0067-r180.jpg</td>\n",
       "      <td>7</td>\n",
       "      <td>train</td>\n",
       "    </tr>\n",
       "    <tr>\n",
       "      <th>...</th>\n",
       "      <td>...</td>\n",
       "      <td>...</td>\n",
       "      <td>...</td>\n",
       "    </tr>\n",
       "    <tr>\n",
       "      <th>67805</th>\n",
       "      <td>ESP_018707_2205_RED-0041.jpg</td>\n",
       "      <td>0</td>\n",
       "      <td>test</td>\n",
       "    </tr>\n",
       "    <tr>\n",
       "      <th>67806</th>\n",
       "      <td>ESP_018707_2205_RED-0062.jpg</td>\n",
       "      <td>0</td>\n",
       "      <td>test</td>\n",
       "    </tr>\n",
       "    <tr>\n",
       "      <th>67807</th>\n",
       "      <td>ESP_018707_2205_RED-0105.jpg</td>\n",
       "      <td>0</td>\n",
       "      <td>test</td>\n",
       "    </tr>\n",
       "    <tr>\n",
       "      <th>67808</th>\n",
       "      <td>ESP_018707_2205_RED-0058.jpg</td>\n",
       "      <td>0</td>\n",
       "      <td>test</td>\n",
       "    </tr>\n",
       "    <tr>\n",
       "      <th>67809</th>\n",
       "      <td>ESP_018707_2205_RED-0051.jpg</td>\n",
       "      <td>0</td>\n",
       "      <td>test</td>\n",
       "    </tr>\n",
       "  </tbody>\n",
       "</table>\n",
       "<p>67810 rows × 3 columns</p>\n",
       "</div>"
      ],
      "text/plain": [
       "                               imageName  class imageSet\n",
       "0           ESP_013049_0950_RED-0067.jpg      7    train\n",
       "1        ESP_013049_0950_RED-0067-fv.jpg      7    train\n",
       "2       ESP_013049_0950_RED-0067-brt.jpg      7    train\n",
       "3       ESP_013049_0950_RED-0067-r90.jpg      7    train\n",
       "4      ESP_013049_0950_RED-0067-r180.jpg      7    train\n",
       "...                                  ...    ...      ...\n",
       "67805       ESP_018707_2205_RED-0041.jpg      0     test\n",
       "67806       ESP_018707_2205_RED-0062.jpg      0     test\n",
       "67807       ESP_018707_2205_RED-0105.jpg      0     test\n",
       "67808       ESP_018707_2205_RED-0058.jpg      0     test\n",
       "67809       ESP_018707_2205_RED-0051.jpg      0     test\n",
       "\n",
       "[67810 rows x 3 columns]"
      ]
     },
     "execution_count": 15,
     "metadata": {},
     "output_type": "execute_result"
    }
   ],
   "source": [
    "imageMap = pd.read_csv(\n",
    "    '/'.join([rawDataDir,\"labels-map-proj_v3_2_train_val_test.txt\"]), \n",
    "    header = None,\n",
    "    names = ['imageName','class','imageSet'],\n",
    "    delimiter = ' '    \n",
    ")\n",
    "imageMap"
   ]
  },
  {
   "cell_type": "markdown",
   "id": "d345f0b2",
   "metadata": {},
   "source": [
    "This dataframe shows us the label assigned to each image (as a number). This dataframe has a few duplicate records. Accounting for this and referencing our `classDecoder`, we get the following dataframe"
   ]
  },
  {
   "cell_type": "code",
   "execution_count": 19,
   "id": "77706801",
   "metadata": {
    "ExecuteTime": {
     "end_time": "2022-05-18T19:23:24.474889Z",
     "start_time": "2022-05-18T19:23:24.424878Z"
    },
    "scrolled": false
   },
   "outputs": [
    {
     "data": {
      "text/html": [
       "<div>\n",
       "<style scoped>\n",
       "    .dataframe tbody tr th:only-of-type {\n",
       "        vertical-align: middle;\n",
       "    }\n",
       "\n",
       "    .dataframe tbody tr th {\n",
       "        vertical-align: top;\n",
       "    }\n",
       "\n",
       "    .dataframe thead th {\n",
       "        text-align: right;\n",
       "    }\n",
       "</style>\n",
       "<table border=\"1\" class=\"dataframe\">\n",
       "  <thead>\n",
       "    <tr style=\"text-align: right;\">\n",
       "      <th></th>\n",
       "      <th>imageName</th>\n",
       "      <th>class</th>\n",
       "      <th>imageSet</th>\n",
       "      <th>className_x</th>\n",
       "      <th>className_y</th>\n",
       "    </tr>\n",
       "  </thead>\n",
       "  <tbody>\n",
       "    <tr>\n",
       "      <th>0</th>\n",
       "      <td>ESP_013049_0950_RED-0067.jpg</td>\n",
       "      <td>7</td>\n",
       "      <td>train</td>\n",
       "      <td>spider</td>\n",
       "      <td>spider</td>\n",
       "    </tr>\n",
       "    <tr>\n",
       "      <th>1</th>\n",
       "      <td>ESP_013049_0950_RED-0067-fv.jpg</td>\n",
       "      <td>7</td>\n",
       "      <td>train</td>\n",
       "      <td>spider</td>\n",
       "      <td>spider</td>\n",
       "    </tr>\n",
       "    <tr>\n",
       "      <th>2</th>\n",
       "      <td>ESP_013049_0950_RED-0067-brt.jpg</td>\n",
       "      <td>7</td>\n",
       "      <td>train</td>\n",
       "      <td>spider</td>\n",
       "      <td>spider</td>\n",
       "    </tr>\n",
       "    <tr>\n",
       "      <th>3</th>\n",
       "      <td>ESP_013049_0950_RED-0067-r90.jpg</td>\n",
       "      <td>7</td>\n",
       "      <td>train</td>\n",
       "      <td>spider</td>\n",
       "      <td>spider</td>\n",
       "    </tr>\n",
       "    <tr>\n",
       "      <th>4</th>\n",
       "      <td>ESP_013049_0950_RED-0067-r180.jpg</td>\n",
       "      <td>7</td>\n",
       "      <td>train</td>\n",
       "      <td>spider</td>\n",
       "      <td>spider</td>\n",
       "    </tr>\n",
       "    <tr>\n",
       "      <th>...</th>\n",
       "      <td>...</td>\n",
       "      <td>...</td>\n",
       "      <td>...</td>\n",
       "      <td>...</td>\n",
       "      <td>...</td>\n",
       "    </tr>\n",
       "    <tr>\n",
       "      <th>64942</th>\n",
       "      <td>ESP_016613_2570_RED-0038.jpg</td>\n",
       "      <td>4</td>\n",
       "      <td>test</td>\n",
       "      <td>bright dune</td>\n",
       "      <td>bright dune</td>\n",
       "    </tr>\n",
       "    <tr>\n",
       "      <th>64943</th>\n",
       "      <td>ESP_016613_2570_RED-0006.jpg</td>\n",
       "      <td>4</td>\n",
       "      <td>test</td>\n",
       "      <td>bright dune</td>\n",
       "      <td>bright dune</td>\n",
       "    </tr>\n",
       "    <tr>\n",
       "      <th>64944</th>\n",
       "      <td>ESP_016613_2570_RED-0043.jpg</td>\n",
       "      <td>4</td>\n",
       "      <td>test</td>\n",
       "      <td>bright dune</td>\n",
       "      <td>bright dune</td>\n",
       "    </tr>\n",
       "    <tr>\n",
       "      <th>64945</th>\n",
       "      <td>ESP_016613_2570_RED-0044.jpg</td>\n",
       "      <td>4</td>\n",
       "      <td>test</td>\n",
       "      <td>bright dune</td>\n",
       "      <td>bright dune</td>\n",
       "    </tr>\n",
       "    <tr>\n",
       "      <th>64946</th>\n",
       "      <td>ESP_016613_2570_RED-0001.jpg</td>\n",
       "      <td>4</td>\n",
       "      <td>test</td>\n",
       "      <td>bright dune</td>\n",
       "      <td>bright dune</td>\n",
       "    </tr>\n",
       "  </tbody>\n",
       "</table>\n",
       "<p>64947 rows × 5 columns</p>\n",
       "</div>"
      ],
      "text/plain": [
       "                               imageName  class imageSet  className_x  \\\n",
       "0           ESP_013049_0950_RED-0067.jpg      7    train       spider   \n",
       "1        ESP_013049_0950_RED-0067-fv.jpg      7    train       spider   \n",
       "2       ESP_013049_0950_RED-0067-brt.jpg      7    train       spider   \n",
       "3       ESP_013049_0950_RED-0067-r90.jpg      7    train       spider   \n",
       "4      ESP_013049_0950_RED-0067-r180.jpg      7    train       spider   \n",
       "...                                  ...    ...      ...          ...   \n",
       "64942       ESP_016613_2570_RED-0038.jpg      4     test  bright dune   \n",
       "64943       ESP_016613_2570_RED-0006.jpg      4     test  bright dune   \n",
       "64944       ESP_016613_2570_RED-0043.jpg      4     test  bright dune   \n",
       "64945       ESP_016613_2570_RED-0044.jpg      4     test  bright dune   \n",
       "64946       ESP_016613_2570_RED-0001.jpg      4     test  bright dune   \n",
       "\n",
       "       className_y  \n",
       "0           spider  \n",
       "1           spider  \n",
       "2           spider  \n",
       "3           spider  \n",
       "4           spider  \n",
       "...            ...  \n",
       "64942  bright dune  \n",
       "64943  bright dune  \n",
       "64944  bright dune  \n",
       "64945  bright dune  \n",
       "64946  bright dune  \n",
       "\n",
       "[64947 rows x 5 columns]"
      ]
     },
     "execution_count": 19,
     "metadata": {},
     "output_type": "execute_result"
    }
   ],
   "source": [
    "imageMap = imageMap.merge(classMap,on='class').drop_duplicates()\n",
    "imageMap"
   ]
  },
  {
   "cell_type": "markdown",
   "id": "4e3ee05c",
   "metadata": {
    "ExecuteTime": {
     "end_time": "2022-05-18T19:24:16.911039Z",
     "start_time": "2022-05-18T19:24:16.894035Z"
    }
   },
   "source": [
    "This dataframe now shows, what label as well as which part of the data split each image is assigned to. Using this we can reorganize our image data accordingly."
   ]
  },
  {
   "cell_type": "markdown",
   "id": "146aa98f",
   "metadata": {},
   "source": [
    "We will now create the following folder structure:\n"
   ]
  },
  {
   "cell_type": "code",
   "execution_count": 8,
   "id": "4751dc08",
   "metadata": {
    "ExecuteTime": {
     "end_time": "2022-05-18T18:48:36.069398Z",
     "start_time": "2022-05-18T18:48:36.055395Z"
    }
   },
   "outputs": [],
   "source": [
    "# Create Folder structure for image data\n",
    "for imageFolder in set(imageMap.imageSet):\n",
    "    createDir('/'.join([imagesDir,imageFolder]))\n",
    "    for classFolder in set(classMap.className):       \n",
    "        createDir('/'.join([imagesDir,imageFolder,classFolder]))"
   ]
  },
  {
   "cell_type": "code",
   "execution_count": 11,
   "id": "a41a7dc8",
   "metadata": {
    "ExecuteTime": {
     "end_time": "2022-05-18T18:54:47.354978Z",
     "start_time": "2022-05-18T18:48:51.437062Z"
    }
   },
   "outputs": [],
   "source": [
    "# Move all extracted images into the appropriate folder location\n",
    "# Expected runtime for this operation 6-10 min\n",
    "for file in os.listdir('/'.join([rawDataDir,'map-proj-v3_2'])):\n",
    "    \n",
    "    setFolder = imageMap[imageMap.imageName == file].iloc[0]['imageSet']\n",
    "    classFolder = imageMap[imageMap.imageName == file].iloc[0]['className'] \n",
    "    \n",
    "    srcPath  = '/'.join([rawDataDir,'map-proj-v3_2',file])\n",
    "    destPath = str('images/' +setFolder + \"/\" + classFolder + \"/\" + file)\n",
    "    \n",
    "    shutil.move(srcPath, \n",
    "                    destPath)\n",
    "#     os.rename(srcPath,\n",
    "#              destPath)"
   ]
  },
  {
   "cell_type": "code",
   "execution_count": null,
   "id": "dfea1be1",
   "metadata": {},
   "outputs": [],
   "source": []
  }
 ],
 "metadata": {
  "kernelspec": {
   "display_name": "Python 3 (ipykernel)",
   "language": "python",
   "name": "python3"
  },
  "language_info": {
   "codemirror_mode": {
    "name": "ipython",
    "version": 3
   },
   "file_extension": ".py",
   "mimetype": "text/x-python",
   "name": "python",
   "nbconvert_exporter": "python",
   "pygments_lexer": "ipython3",
   "version": "3.9.12"
  },
  "toc": {
   "base_numbering": 1,
   "nav_menu": {},
   "number_sections": true,
   "sideBar": true,
   "skip_h1_title": false,
   "title_cell": "Table of Contents",
   "title_sidebar": "Contents",
   "toc_cell": false,
   "toc_position": {},
   "toc_section_display": true,
   "toc_window_display": false
  },
  "varInspector": {
   "cols": {
    "lenName": 16,
    "lenType": 16,
    "lenVar": 40
   },
   "kernels_config": {
    "python": {
     "delete_cmd_postfix": "",
     "delete_cmd_prefix": "del ",
     "library": "var_list.py",
     "varRefreshCmd": "print(var_dic_list())"
    },
    "r": {
     "delete_cmd_postfix": ") ",
     "delete_cmd_prefix": "rm(",
     "library": "var_list.r",
     "varRefreshCmd": "cat(var_dic_list()) "
    }
   },
   "position": {
    "height": "642.844px",
    "left": "1550px",
    "right": "20px",
    "top": "120px",
    "width": "350px"
   },
   "types_to_exclude": [
    "module",
    "function",
    "builtin_function_or_method",
    "instance",
    "_Feature"
   ],
   "window_display": false
  }
 },
 "nbformat": 4,
 "nbformat_minor": 5
}
