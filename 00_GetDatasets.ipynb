{
 "cells": [
  {
   "cell_type": "markdown",
   "id": "7c124293",
   "metadata": {
    "ExecuteTime": {
     "end_time": "2022-05-30T23:44:57.065449Z",
     "start_time": "2022-05-30T23:44:57.057448Z"
    }
   },
   "source": [
    "# The Data\n",
    "\n",
    "The work performed herein was built off of the shoulders of giants, the original project that created the dataset and labeled the images. Here follows an excerpt from their site describing the data.\n",
    "\n",
    "> [![DOI](https://zenodo.org/badge/DOI/10.5281/zenodo.4002935.svg)](https://doi.org/10.5281/zenodo.4002935)\n",
    ">__Project member(s)__:\\\n",
    ">Topher Allen; Zach Anderson; Berlin Chen; Ameya Daigavane; Annie Didier; Marko Green; Paul Horton; Hannah Kerner; Lauren Klein; Benjamin Kolber; Ellie Kuang; Kyle Kung; Jake Lee; Justin Martia; Brian Milch; James Montgomery; Kyle Pearson; Sanjna Ravichandar; Arun Viswanathan; Caleb Wagner; Amruta Yelamanchili; Brandon Zhao\n",
    ">\n",
    ">__Abstract__:\\\n",
    ">This dataset contains a total of 64,947 landmark images that were detected and extracted from HiRISE browse images, spanning 232 separate source images.\n",
    ">\n",
    ">This set was formed from 10,815 original landmarks. Each original landmark was cropped to a square bounding box that included the full extent of the landmark plus a 30-pixel margin to the left, right, top, and bottom. Each landmark was then resized to 227x227 pixels. 9,022 of these images were then augmented to generate 6 additional landmarks using the following methods:\n",
    ">\n",
    ">90 degrees clockwise rotation\n",
    ">180 degrees clockwise rotation\n",
    ">270 degrees clockwise rotation\n",
    ">Horizontal flip\n",
    ">Vertical flip\n",
    ">Random brightness adjustment\n",
    ">The remaining 1,793 images were not augmented. Combining these with the 7*9,022 images, gives a total of 64,947 separate images.\n",
    ">\n",
    "> __Contents__:\n",
    ">- map-proj-v3_2/: Directory containing individual cropped landmark images\n",
    ">- labels-map-proj-v3_2.txt: Class labels (ids) for each landmark image. File includes two columns separated by a space: filename, class_id\n",
    ">- labels-map-proj-v3_2_train_val_test.txt: Includes train/test/val labels and upsampling used for trained model. File includes three columns separated by a space: filename, class_id, set\n",
    ">- landmarks_map-proj-v3_2_classmap.csv: Dictionary that maps class ids to semantic names\n",
    ">\n",
    "> __Class Discussion__:\\\n",
    ">We give a discussion of the various landmarks that make up our classes.\n",
    ">\n",
    ">Bright dune and dark dune are two sand dune classes found on Mars. Dark dunes are completely defrosted, whereas bright dunes are not. Bright dunes are generally bright due to overlying frost and can exhibit black spots where parts of the dune are defrosting.\n",
    ">\n",
    ">The crater class consists of crater images in which the diameter of the crater is greater than or equal to 1/5 the width of the image and the circular rim is visible for at least half the crater's circumference.\n",
    ">\n",
    ">The slope streak class consists of images of dark flow-like features on slopes. These features are believed to be formed by a dry process in which overlying (bright) dust slides down a slope and reveals a darker sub-surface.\n",
    ">\n",
    ">Impact ejecta refers to material that is blasted out from the impact of a meteorite or the eruption of a volcano. We also include cases in which the impact cleared away overlying dust, exposing the underlying surface. In some cases, the associated crater may be too small to see. Impact ejecta can also include lava that spilled out from the impact (blobby (\"lobate\") instead of blast-like), more like an eruption (triggered by the impact). Impact ejecta can be isolated, or they can form in clusters when the impactor breaks up into multiple fragments.\n",
    ">\n",
    ">Spiders and Swiss cheese are phenomena that occur in the south polar region of Mars. Spiders have a central pit with radial troughs, and they are believed to form as a result of sublimation of carbon dioxide ice. This process can produce mineral deposits on top, which look like dark or light dust that highlights cracks in the CO2 ice. Spiders can resemble impact ejecta due to their radial troughs, but impact ejecta tends to have straight radial jets that fade as they get farther from the center. The spider class also includes fan-like features that form when a geyser erupts through the CO2 layer and the material is blown by the wind away from the cracks. Fans are typically unidirectional (following the wind direction), whereas impact ejecta often extends in multiple directions. Swiss cheese is a terrain type that consists of pits that are formed when the sun heats the ice making it sublimate (change solid to gas).\n",
    ">\n",
    ">Other is a catch-all class that contains images that fit none of the defined classes of interest. This class makes up the majority of our data set.\n"
   ]
  },
  {
   "cell_type": "markdown",
   "id": "8ece299d",
   "metadata": {},
   "source": [
    "# Business Understanding\n",
    "\n",
    "Space exploration and understanding has been growing over the last few decades with the spark being lit during the space race during the latter half of the 20th century. After the end of the Apollo space program, man's venture into space has been relegated to low earth orbit missions.  \n",
    "\n",
    "Unmanned missions have since had many a success story such as the Voyager 2 going interstellar in 2018, over 40 years after its launch. The future of space exploration is going to be handled by such manned missions for the foreseeable future. However, being physically on site isn't the only way to explore space.  \n",
    "\n",
    "For centuries, man has looked up at the night sky to find out more about our celestial neighbors. With improvements in technologies our ability to gather data through telescopes and cameras has improved significantly and the value provided by telescopes in space has been immeasurable. The James Webb (infrared) telescope was launched in December 2021 and hopes to view objects too old, distant, and faint for the Hubble Space Telescope.\n",
    "\n",
    "Pointing the telescope and gathering data is only the first step. Being able to parse terabytes, petabytes or even yottabytes of data manually is a nigh impossible task, a task computer vision is especially suited for. Being able to identify interesting features can help us whittle down potential candidates to explore 'in-person' and in the long run help mitigate losses.\n",
    "\n",
    "Interest in space exploration has seen a resurgence with private enterprise taking an interest. Although this project specifically looks at the Mars topography, similar techniques can be applied to any celestial body, or even to our home planet."
   ]
  },
  {
   "cell_type": "markdown",
   "id": "1555fa9f",
   "metadata": {},
   "source": [
    "# Overview\n",
    "We shall be using images captured from the HiRISE camera system on board the Mars Reconnaisance Orbiter which was built under direction from University of Arizona's Lunar and Planetary Laboratory. Following is an excerpt from the [University of Arizona website](https://www.lpl.arizona.edu/missions/hirise-mro).\n",
    "\n",
    ">The __Hi__gh __R__esolution __I__maging __S__cience __E__xperiment (HiRISE) onboard the Mars Reconnaissance Orbiter, is the most powerful camera ever sent to another planet. The resolution of the camera allows us to see the Red Planet in amazing detail, and lets other missions, like the Mars Science Laboratory, find a safe place to land and carry out amazing science. The operations center, which includes not only observation planning, but the execution of commands sent to the spacecraft along with actual image processing, is located within LPL at the University of Arizona.\n",
    "\n",
    "We shall be building off of the work performed by the original team. The dataset comes pre-augmented and segmented into training, validation and test sets. The test side will be set aside to ascertain effectiveness of our final model. The training set will be used to train the model and the validation scores on the validation set will be used as a metric to pick our model, specifically our validation loss."
   ]
  },
  {
   "cell_type": "markdown",
   "id": "bddd479c",
   "metadata": {
    "ExecuteTime": {
     "end_time": "2022-05-31T04:19:08.842951Z",
     "start_time": "2022-05-31T04:19:08.825947Z"
    }
   },
   "source": [
    "# Imports"
   ]
  },
  {
   "cell_type": "code",
   "execution_count": 1,
   "id": "476d39d4",
   "metadata": {
    "ExecuteTime": {
     "end_time": "2022-05-30T23:21:12.573256Z",
     "start_time": "2022-05-30T23:21:12.030270Z"
    }
   },
   "outputs": [],
   "source": [
    "import os\n",
    "import pandas as pd\n",
    "import zipfile\n",
    "import shutil\n",
    "import pandas as pd\n",
    "import matplotlib.pyplot as plt"
   ]
  },
  {
   "cell_type": "code",
   "execution_count": 2,
   "id": "8be9891c",
   "metadata": {
    "ExecuteTime": {
     "end_time": "2022-05-30T23:21:14.899722Z",
     "start_time": "2022-05-30T23:21:12.575257Z"
    }
   },
   "outputs": [],
   "source": [
    "from src.helperFunctions import createDir"
   ]
  },
  {
   "cell_type": "markdown",
   "id": "ed54ee1b",
   "metadata": {},
   "source": [
    "# The Dataset\n",
    "We shall go through steps on getting the dataset and reorganizing the data to allow for easier importing and working with tensorflow"
   ]
  },
  {
   "cell_type": "markdown",
   "id": "f64c88ac",
   "metadata": {},
   "source": [
    "## Get the Dataset\n",
    "\n",
    "The very first step we will need to perform is get the required dataset. \n",
    "If the [1-click-download](https://zenodo.org/record/4002935/files/hirise-map-proj-v3.zip?download=1) doesn't work, please download the archive manually from the [webpage](https://zenodo.org/record/4002935#.YoVABujMKUl \"Mars orbital image (HiRISE) labeled data set version 3.2\")\n",
    "\n",
    "\n",
    "Please move the downloaded archive into the project's root folder"
   ]
  },
  {
   "cell_type": "markdown",
   "id": "6ce99044",
   "metadata": {},
   "source": [
    "## Extract our compressed data"
   ]
  },
  {
   "cell_type": "code",
   "execution_count": 3,
   "id": "78aada81",
   "metadata": {
    "ExecuteTime": {
     "end_time": "2022-05-30T23:22:29.014898Z",
     "start_time": "2022-05-30T23:21:14.900722Z"
    }
   },
   "outputs": [],
   "source": [
    "# This cell extracts the compressed files into a dedicated directory\n",
    "# NOTE: Expected runtime for this cell 1-2 min\n",
    "\n",
    "extractedDirectory = 'extractedData'\n",
    "with zipfile.ZipFile('hirise-map-proj-v3_2.zip', 'r') as zippedData:\n",
    "    zippedData.extractall(path=extractedDirectory)"
   ]
  },
  {
   "cell_type": "markdown",
   "id": "c08250ef",
   "metadata": {},
   "source": [
    "## Reorganize the \n",
    "Next, we shall reorganize the archived data in a format that would allow easy import into our neural network models. To do this we shall be looking at the `labels-map-proj_v3_2_train_val_test.txt` to figure out which set does a particular image it belongs to as well as what class it belongs to.\\\n"
   ]
  },
  {
   "cell_type": "code",
   "execution_count": 54,
   "id": "a444aa65",
   "metadata": {
    "ExecuteTime": {
     "end_time": "2022-05-31T04:21:13.832423Z",
     "start_time": "2022-05-31T04:21:13.824422Z"
    },
    "scrolled": false
   },
   "outputs": [
    {
     "name": "stdout",
     "output_type": "stream",
     "text": [
      "extractedData/hirise-map-proj-v3_2\n",
      "images\n"
     ]
    }
   ],
   "source": [
    "# Define our raw data path and the main images folder\n",
    "rawDataDir = '/'.join([extractedDirectory,'hirise-map-proj-v3_2'])\n",
    "imagesDir = 'images'\n",
    "\n",
    "print(rawDataDir)\n",
    "print(imagesDir)"
   ]
  },
  {
   "cell_type": "code",
   "execution_count": 4,
   "id": "e30ccf30",
   "metadata": {
    "ExecuteTime": {
     "end_time": "2022-05-31T03:05:48.260880Z",
     "start_time": "2022-05-31T03:05:48.197866Z"
    },
    "scrolled": false
   },
   "outputs": [
    {
     "data": {
      "text/html": [
       "<div>\n",
       "<style scoped>\n",
       "    .dataframe tbody tr th:only-of-type {\n",
       "        vertical-align: middle;\n",
       "    }\n",
       "\n",
       "    .dataframe tbody tr th {\n",
       "        vertical-align: top;\n",
       "    }\n",
       "\n",
       "    .dataframe thead th {\n",
       "        text-align: right;\n",
       "    }\n",
       "</style>\n",
       "<table border=\"1\" class=\"dataframe\">\n",
       "  <thead>\n",
       "    <tr style=\"text-align: right;\">\n",
       "      <th></th>\n",
       "      <th>imageName</th>\n",
       "      <th>class</th>\n",
       "      <th>imageSet</th>\n",
       "    </tr>\n",
       "  </thead>\n",
       "  <tbody>\n",
       "    <tr>\n",
       "      <th>0</th>\n",
       "      <td>ESP_013049_0950_RED-0067.jpg</td>\n",
       "      <td>7</td>\n",
       "      <td>train</td>\n",
       "    </tr>\n",
       "    <tr>\n",
       "      <th>1</th>\n",
       "      <td>ESP_013049_0950_RED-0067-fv.jpg</td>\n",
       "      <td>7</td>\n",
       "      <td>train</td>\n",
       "    </tr>\n",
       "    <tr>\n",
       "      <th>2</th>\n",
       "      <td>ESP_013049_0950_RED-0067-brt.jpg</td>\n",
       "      <td>7</td>\n",
       "      <td>train</td>\n",
       "    </tr>\n",
       "    <tr>\n",
       "      <th>3</th>\n",
       "      <td>ESP_013049_0950_RED-0067-r90.jpg</td>\n",
       "      <td>7</td>\n",
       "      <td>train</td>\n",
       "    </tr>\n",
       "    <tr>\n",
       "      <th>4</th>\n",
       "      <td>ESP_013049_0950_RED-0067-r180.jpg</td>\n",
       "      <td>7</td>\n",
       "      <td>train</td>\n",
       "    </tr>\n",
       "    <tr>\n",
       "      <th>...</th>\n",
       "      <td>...</td>\n",
       "      <td>...</td>\n",
       "      <td>...</td>\n",
       "    </tr>\n",
       "    <tr>\n",
       "      <th>67805</th>\n",
       "      <td>ESP_018707_2205_RED-0041.jpg</td>\n",
       "      <td>0</td>\n",
       "      <td>test</td>\n",
       "    </tr>\n",
       "    <tr>\n",
       "      <th>67806</th>\n",
       "      <td>ESP_018707_2205_RED-0062.jpg</td>\n",
       "      <td>0</td>\n",
       "      <td>test</td>\n",
       "    </tr>\n",
       "    <tr>\n",
       "      <th>67807</th>\n",
       "      <td>ESP_018707_2205_RED-0105.jpg</td>\n",
       "      <td>0</td>\n",
       "      <td>test</td>\n",
       "    </tr>\n",
       "    <tr>\n",
       "      <th>67808</th>\n",
       "      <td>ESP_018707_2205_RED-0058.jpg</td>\n",
       "      <td>0</td>\n",
       "      <td>test</td>\n",
       "    </tr>\n",
       "    <tr>\n",
       "      <th>67809</th>\n",
       "      <td>ESP_018707_2205_RED-0051.jpg</td>\n",
       "      <td>0</td>\n",
       "      <td>test</td>\n",
       "    </tr>\n",
       "  </tbody>\n",
       "</table>\n",
       "<p>67810 rows × 3 columns</p>\n",
       "</div>"
      ],
      "text/plain": [
       "                               imageName  class imageSet\n",
       "0           ESP_013049_0950_RED-0067.jpg      7    train\n",
       "1        ESP_013049_0950_RED-0067-fv.jpg      7    train\n",
       "2       ESP_013049_0950_RED-0067-brt.jpg      7    train\n",
       "3       ESP_013049_0950_RED-0067-r90.jpg      7    train\n",
       "4      ESP_013049_0950_RED-0067-r180.jpg      7    train\n",
       "...                                  ...    ...      ...\n",
       "67805       ESP_018707_2205_RED-0041.jpg      0     test\n",
       "67806       ESP_018707_2205_RED-0062.jpg      0     test\n",
       "67807       ESP_018707_2205_RED-0105.jpg      0     test\n",
       "67808       ESP_018707_2205_RED-0058.jpg      0     test\n",
       "67809       ESP_018707_2205_RED-0051.jpg      0     test\n",
       "\n",
       "[67810 rows x 3 columns]"
      ]
     },
     "execution_count": 4,
     "metadata": {},
     "output_type": "execute_result"
    }
   ],
   "source": [
    "# Reading the image map text file\n",
    "imageMap = pd.read_csv(\n",
    "    '/'.join([rawDataDir,\"labels-map-proj_v3_2_train_val_test.txt\"]), \n",
    "    header = None,\n",
    "    names = ['imageName','class','imageSet'],\n",
    "    delimiter = ' '    \n",
    ")\n",
    "imageMap"
   ]
  },
  {
   "cell_type": "markdown",
   "id": "288a90af",
   "metadata": {},
   "source": [
    "We shall use the `landmarks_map-proj-v3_2_classmap.csv` as a \"decoder ring\" to assign class 'semantic names' to each image in our `imageMap` data frame"
   ]
  },
  {
   "cell_type": "code",
   "execution_count": null,
   "id": "95a73f3b",
   "metadata": {},
   "outputs": [],
   "source": [
    "classDecoder = pd.read_csv(\n",
    "    '/'.join([rawDataDir,'landmarks_map-proj-v3_2_classmap.csv']),\n",
    "    header= None,\n",
    "    names = ['class','className']\n",
    ")\n",
    "classDecoder"
   ]
  },
  {
   "cell_type": "markdown",
   "id": "649df558",
   "metadata": {},
   "source": [
    "This `imageMap` is our final dataframe that shows us each image in our dataset, the class it belongs to as well as the training, validation, and test set breakdown. Lets have a look at the breakdown of the data"
   ]
  },
  {
   "cell_type": "code",
   "execution_count": 6,
   "id": "d55cd502",
   "metadata": {
    "ExecuteTime": {
     "end_time": "2022-05-31T03:05:48.324895Z",
     "start_time": "2022-05-31T03:05:48.277884Z"
    },
    "scrolled": false
   },
   "outputs": [
    {
     "data": {
      "text/html": [
       "<div>\n",
       "<style scoped>\n",
       "    .dataframe tbody tr th:only-of-type {\n",
       "        vertical-align: middle;\n",
       "    }\n",
       "\n",
       "    .dataframe tbody tr th {\n",
       "        vertical-align: top;\n",
       "    }\n",
       "\n",
       "    .dataframe thead th {\n",
       "        text-align: right;\n",
       "    }\n",
       "</style>\n",
       "<table border=\"1\" class=\"dataframe\">\n",
       "  <thead>\n",
       "    <tr style=\"text-align: right;\">\n",
       "      <th></th>\n",
       "      <th>imageName</th>\n",
       "      <th>class</th>\n",
       "      <th>imageSet</th>\n",
       "      <th>className</th>\n",
       "    </tr>\n",
       "  </thead>\n",
       "  <tbody>\n",
       "    <tr>\n",
       "      <th>0</th>\n",
       "      <td>ESP_013049_0950_RED-0067.jpg</td>\n",
       "      <td>7</td>\n",
       "      <td>train</td>\n",
       "      <td>spider</td>\n",
       "    </tr>\n",
       "    <tr>\n",
       "      <th>1</th>\n",
       "      <td>ESP_013049_0950_RED-0067-fv.jpg</td>\n",
       "      <td>7</td>\n",
       "      <td>train</td>\n",
       "      <td>spider</td>\n",
       "    </tr>\n",
       "    <tr>\n",
       "      <th>2</th>\n",
       "      <td>ESP_013049_0950_RED-0067-brt.jpg</td>\n",
       "      <td>7</td>\n",
       "      <td>train</td>\n",
       "      <td>spider</td>\n",
       "    </tr>\n",
       "    <tr>\n",
       "      <th>3</th>\n",
       "      <td>ESP_013049_0950_RED-0067-r90.jpg</td>\n",
       "      <td>7</td>\n",
       "      <td>train</td>\n",
       "      <td>spider</td>\n",
       "    </tr>\n",
       "    <tr>\n",
       "      <th>4</th>\n",
       "      <td>ESP_013049_0950_RED-0067-r180.jpg</td>\n",
       "      <td>7</td>\n",
       "      <td>train</td>\n",
       "      <td>spider</td>\n",
       "    </tr>\n",
       "    <tr>\n",
       "      <th>...</th>\n",
       "      <td>...</td>\n",
       "      <td>...</td>\n",
       "      <td>...</td>\n",
       "      <td>...</td>\n",
       "    </tr>\n",
       "    <tr>\n",
       "      <th>67805</th>\n",
       "      <td>ESP_016613_2570_RED-0038.jpg</td>\n",
       "      <td>4</td>\n",
       "      <td>test</td>\n",
       "      <td>bright dune</td>\n",
       "    </tr>\n",
       "    <tr>\n",
       "      <th>67806</th>\n",
       "      <td>ESP_016613_2570_RED-0006.jpg</td>\n",
       "      <td>4</td>\n",
       "      <td>test</td>\n",
       "      <td>bright dune</td>\n",
       "    </tr>\n",
       "    <tr>\n",
       "      <th>67807</th>\n",
       "      <td>ESP_016613_2570_RED-0043.jpg</td>\n",
       "      <td>4</td>\n",
       "      <td>test</td>\n",
       "      <td>bright dune</td>\n",
       "    </tr>\n",
       "    <tr>\n",
       "      <th>67808</th>\n",
       "      <td>ESP_016613_2570_RED-0044.jpg</td>\n",
       "      <td>4</td>\n",
       "      <td>test</td>\n",
       "      <td>bright dune</td>\n",
       "    </tr>\n",
       "    <tr>\n",
       "      <th>67809</th>\n",
       "      <td>ESP_016613_2570_RED-0001.jpg</td>\n",
       "      <td>4</td>\n",
       "      <td>test</td>\n",
       "      <td>bright dune</td>\n",
       "    </tr>\n",
       "  </tbody>\n",
       "</table>\n",
       "<p>64947 rows × 4 columns</p>\n",
       "</div>"
      ],
      "text/plain": [
       "                               imageName  class imageSet    className\n",
       "0           ESP_013049_0950_RED-0067.jpg      7    train       spider\n",
       "1        ESP_013049_0950_RED-0067-fv.jpg      7    train       spider\n",
       "2       ESP_013049_0950_RED-0067-brt.jpg      7    train       spider\n",
       "3       ESP_013049_0950_RED-0067-r90.jpg      7    train       spider\n",
       "4      ESP_013049_0950_RED-0067-r180.jpg      7    train       spider\n",
       "...                                  ...    ...      ...          ...\n",
       "67805       ESP_016613_2570_RED-0038.jpg      4     test  bright dune\n",
       "67806       ESP_016613_2570_RED-0006.jpg      4     test  bright dune\n",
       "67807       ESP_016613_2570_RED-0043.jpg      4     test  bright dune\n",
       "67808       ESP_016613_2570_RED-0044.jpg      4     test  bright dune\n",
       "67809       ESP_016613_2570_RED-0001.jpg      4     test  bright dune\n",
       "\n",
       "[64947 rows x 4 columns]"
      ]
     },
     "execution_count": 6,
     "metadata": {},
     "output_type": "execute_result"
    }
   ],
   "source": [
    "imageMap = imageMap.merge(classDecoder,on='class').drop_duplicates()\n",
    "imageMap"
   ]
  },
  {
   "cell_type": "markdown",
   "id": "b5eb3f88",
   "metadata": {
    "ExecuteTime": {
     "end_time": "2022-05-18T19:24:16.911039Z",
     "start_time": "2022-05-18T19:24:16.894035Z"
    }
   },
   "source": [
    "This data frame now shows, what label as well as which part of the data split each image is assigned to. Using this we can reorganize our image data accordingly. We will have to create the folder structure to hold the images. This particular folder structure ensures an easier time loading the data into our neural network model using `tensorflow`'s `flow_from_directory` method. The folder structure is as follows"
   ]
  },
  {
   "cell_type": "markdown",
   "id": "4d5feb3e",
   "metadata": {},
   "source": [
    "images\n",
    "- test  \n",
    " - bright dune  \n",
    " - crater  \n",
    " - dark dune  \n",
    " - impact ejecta  \n",
    " - other  \n",
    " - slope streak  \n",
    " - spider  \n",
    " - swiss cheese  \n",
    " \n",
    "- train  \n",
    " - bright dune  \n",
    " - crater  \n",
    " - dark dune  \n",
    " - impact ejecta  \n",
    " - other  \n",
    " - slope streak  \n",
    " - spider  \n",
    " - swiss cheese  \n",
    "- val  \n",
    " - bright dune  \n",
    " - crater  \n",
    " - dark dune  \n",
    " - impact ejecta  \n",
    " - other  \n",
    " - slope streak  \n",
    " - spider  \n",
    " - swiss cheese  "
   ]
  },
  {
   "cell_type": "markdown",
   "id": "6b881341",
   "metadata": {
    "ExecuteTime": {
     "end_time": "2022-05-31T02:38:07.195545Z",
     "start_time": "2022-05-31T02:38:07.181541Z"
    }
   },
   "source": [
    "# Data Exploration\n",
    "We shall next look at the breakdown of the dataset by class to get a feel for its distribution"
   ]
  },
  {
   "cell_type": "code",
   "execution_count": 31,
   "id": "94d30d0a",
   "metadata": {
    "ExecuteTime": {
     "end_time": "2022-05-31T03:13:59.272619Z",
     "start_time": "2022-05-31T03:13:59.262618Z"
    },
    "scrolled": true
   },
   "outputs": [
    {
     "data": {
      "text/plain": [
       "other            0.811770\n",
       "crater           0.077355\n",
       "swiss cheese     0.028238\n",
       "bright dune      0.025467\n",
       "slope streak     0.024251\n",
       "spider           0.013796\n",
       "dark dune        0.011794\n",
       "impact ejecta    0.007329\n",
       "Name: className, dtype: float64"
      ]
     },
     "execution_count": 31,
     "metadata": {},
     "output_type": "execute_result"
    }
   ],
   "source": [
    "imageMap.className.value_counts(normalize=True)"
   ]
  },
  {
   "cell_type": "code",
   "execution_count": 44,
   "id": "36cb84ad",
   "metadata": {
    "ExecuteTime": {
     "end_time": "2022-05-31T03:23:12.244694Z",
     "start_time": "2022-05-31T03:23:12.051651Z"
    },
    "scrolled": false
   },
   "outputs": [
    {
     "data": {
      "image/png": "[encoded data removed]",
      "text/plain": [
       "<Figure size 1080x720 with 1 Axes>"
      ]
     },
     "metadata": {
      "needs_background": "light"
     },
     "output_type": "display_data"
    }
   ],
   "source": [
    "fig,ax = plt.subplots(figsize = (15,10))\n",
    "\n",
    "r = '#a33931'\n",
    "b = '#638dad'\n",
    "\n",
    "plt.bar(x = imageMap.className.value_counts().index,\n",
    "       height = imageMap.className.value_counts().values,\n",
    "        color=[r, b,b,b,b,b,b,b]\n",
    "       )\n",
    "ax.set_title('Image distribution by Class - Entire Dataset')\n",
    "ax.set_ylabel('Image Count')\n",
    "ax.set_xlabel('Class');\n",
    "# plt.savefig('./savedFigs/ImageDist_EntireDataset.jpg', dpi='figure', \n",
    "# #             format=None, metadata=None,\n",
    "#           bbox_inches='tight', pad_inches=0.1,\n",
    "#           facecolor='auto', edgecolor='auto',\n",
    "#          )"
   ]
  },
  {
   "cell_type": "markdown",
   "id": "71edf78a",
   "metadata": {},
   "source": [
    "The dataset is quite heavily imbalanced. 81% of the dataset is 'other' with 'crater' taking up another sizeable of chunk of the rest. Lets have a quick look at the breakdown by each train/val/test set"
   ]
  },
  {
   "cell_type": "code",
   "execution_count": 45,
   "id": "448b421e",
   "metadata": {
    "ExecuteTime": {
     "end_time": "2022-05-31T03:23:12.260699Z",
     "start_time": "2022-05-31T03:23:12.245695Z"
    },
    "scrolled": false
   },
   "outputs": [
    {
     "data": {
      "text/plain": [
       "other            0.817064\n",
       "crater           0.073460\n",
       "bright dune      0.031871\n",
       "swiss cheese     0.026154\n",
       "slope streak     0.018865\n",
       "spider           0.013006\n",
       "dark dune        0.012577\n",
       "impact ejecta    0.007003\n",
       "Name: className, dtype: float64"
      ]
     },
     "execution_count": 45,
     "metadata": {},
     "output_type": "execute_result"
    }
   ],
   "source": [
    "imageMap[imageMap.imageSet =='train'].className.value_counts(normalize=True)"
   ]
  },
  {
   "cell_type": "code",
   "execution_count": 46,
   "id": "0c910265",
   "metadata": {
    "ExecuteTime": {
     "end_time": "2022-05-31T03:23:12.468745Z",
     "start_time": "2022-05-31T03:23:12.261699Z"
    }
   },
   "outputs": [
    {
     "data": {
      "image/png": "[encoded data removed]",
      "text/plain": [
       "<Figure size 1080x720 with 1 Axes>"
      ]
     },
     "metadata": {
      "needs_background": "light"
     },
     "output_type": "display_data"
    }
   ],
   "source": [
    "fig,ax = plt.subplots(figsize = (15,10))\n",
    "\n",
    "r = '#a33931'\n",
    "b = '#638dad'\n",
    "\n",
    "plt.bar(x = imageMap[imageMap.imageSet =='train'].className.value_counts().index,\n",
    "       height = imageMap[imageMap.imageSet =='train'].className.value_counts().values,\n",
    "        color=[r, b,b,b,b,b,b,b]\n",
    "       )\n",
    "ax.set_title('Image distribution by Class - Training Dataset')\n",
    "ax.set_ylabel('Image Count')\n",
    "ax.set_xlabel('Class');\n",
    "# plt.savefig('./savedFigs/ImageDist_TrainingSet.jpg', dpi='figure', \n",
    "# #             format=None, metadata=None,\n",
    "#           bbox_inches='tight', pad_inches=0.1,\n",
    "#           facecolor='auto', edgecolor='auto',\n",
    "#          )"
   ]
  },
  {
   "cell_type": "code",
   "execution_count": 47,
   "id": "e18bde7c",
   "metadata": {
    "ExecuteTime": {
     "end_time": "2022-05-31T03:23:12.484748Z",
     "start_time": "2022-05-31T03:23:12.469745Z"
    }
   },
   "outputs": [
    {
     "data": {
      "text/plain": [
       "other            0.791605\n",
       "crater           0.094321\n",
       "slope streak     0.042469\n",
       "swiss cheese     0.036049\n",
       "spider           0.015309\n",
       "impact ejecta    0.008889\n",
       "dark dune        0.005926\n",
       "bright dune      0.005432\n",
       "Name: className, dtype: float64"
      ]
     },
     "execution_count": 47,
     "metadata": {},
     "output_type": "execute_result"
    }
   ],
   "source": [
    "imageMap[imageMap.imageSet =='val'].className.value_counts(normalize=True)"
   ]
  },
  {
   "cell_type": "code",
   "execution_count": 48,
   "id": "871f6466",
   "metadata": {
    "ExecuteTime": {
     "end_time": "2022-05-31T03:23:12.675791Z",
     "start_time": "2022-05-31T03:23:12.485749Z"
    }
   },
   "outputs": [
    {
     "data": {
      "image/png": "[encoded data removed]",
      "text/plain": [
       "<Figure size 1080x720 with 1 Axes>"
      ]
     },
     "metadata": {
      "needs_background": "light"
     },
     "output_type": "display_data"
    }
   ],
   "source": [
    "fig,ax = plt.subplots(figsize = (15,10))\n",
    "\n",
    "r = '#a33931'\n",
    "b = '#638dad'\n",
    "\n",
    "plt.bar(x = imageMap[imageMap.imageSet =='val'].className.value_counts().index,\n",
    "       height = imageMap[imageMap.imageSet =='val'].className.value_counts().values,\n",
    "        color=[r, b,b,b,b,b,b,b]\n",
    "       )\n",
    "ax.set_title('Image distribution by Class - Validation Dataset')\n",
    "ax.set_ylabel('Image Count')\n",
    "ax.set_xlabel('Class');\n",
    "# plt.savefig('./savedFigs/ImageDist_ValSet.jpg', dpi='figure',\n",
    "#           bbox_inches='tight', pad_inches=0.1,\n",
    "#           facecolor='auto', edgecolor='auto',\n",
    "#          )"
   ]
  },
  {
   "cell_type": "code",
   "execution_count": 49,
   "id": "4de20343",
   "metadata": {
    "ExecuteTime": {
     "end_time": "2022-05-31T03:23:12.691794Z",
     "start_time": "2022-05-31T03:23:12.676791Z"
    },
    "scrolled": true
   },
   "outputs": [
    {
     "data": {
      "text/plain": [
       "other            0.826548\n",
       "crater           0.049637\n",
       "dark dune        0.036810\n",
       "slope streak     0.027328\n",
       "spider           0.023424\n",
       "swiss cheese     0.023424\n",
       "bright dune      0.008924\n",
       "impact ejecta    0.003904\n",
       "Name: className, dtype: float64"
      ]
     },
     "execution_count": 49,
     "metadata": {},
     "output_type": "execute_result"
    }
   ],
   "source": [
    "imageMap[imageMap.imageSet =='test'].className.value_counts(normalize=True)"
   ]
  },
  {
   "cell_type": "code",
   "execution_count": 50,
   "id": "7a86d2fc",
   "metadata": {
    "ExecuteTime": {
     "end_time": "2022-05-31T03:23:13.122891Z",
     "start_time": "2022-05-31T03:23:12.692796Z"
    }
   },
   "outputs": [
    {
     "data": {
      "image/png": "[encoded data removed]",
      "text/plain": [
       "<Figure size 1080x720 with 1 Axes>"
      ]
     },
     "metadata": {
      "needs_background": "light"
     },
     "output_type": "display_data"
    }
   ],
   "source": [
    "fig,ax = plt.subplots(figsize = (15,10))\n",
    "\n",
    "r = '#a33931'\n",
    "b = '#638dad'\n",
    "\n",
    "plt.bar(x = imageMap[imageMap.imageSet =='test'].className.value_counts().index,\n",
    "       height = imageMap[imageMap.imageSet =='test'].className.value_counts().values,\n",
    "        color=[r, b,b,b,b,b,b,b]\n",
    "       )\n",
    "ax.set_title('Image distribution by Class - Test Dataset')\n",
    "ax.set_ylabel('Image Count')\n",
    "ax.set_xlabel('Class');\n",
    "# plt.savefig('./savedFigs/ImageDist_TestSet.jpg', dpi='figure', \n",
    "#           bbox_inches='tight', pad_inches=0.1,\n",
    "#           facecolor='auto', edgecolor='auto',\n",
    "#          )"
   ]
  },
  {
   "cell_type": "markdown",
   "id": "ba8889c0",
   "metadata": {
    "ExecuteTime": {
     "end_time": "2022-05-31T03:24:32.729547Z",
     "start_time": "2022-05-31T03:24:32.717544Z"
    }
   },
   "source": [
    "Regardless of which dataset you look at, our final model will have to try and overcome this massive class imbalance of about 80% of the data belonging to the same class: `other`. Even a classifier that picks the most frequent class will have an accuracy of about 80%.\n",
    "\n",
    "It is therefore important that we look at other metrics besides validation accuracy. Validation loss is a great candidate."
   ]
  }
 ],
 "metadata": {
  "kernelspec": {
   "display_name": "tfGPU",
   "language": "python",
   "name": "tfgpu"
  },
  "language_info": {
   "codemirror_mode": {
    "name": "ipython",
    "version": 3
   },
   "file_extension": ".py",
   "mimetype": "text/x-python",
   "name": "python",
   "nbconvert_exporter": "python",
   "pygments_lexer": "ipython3",
   "version": "3.9.12"
  },
  "toc": {
   "base_numbering": 1,
   "nav_menu": {},
   "number_sections": true,
   "sideBar": true,
   "skip_h1_title": false,
   "title_cell": "Table of Contents",
   "title_sidebar": "Contents",
   "toc_cell": false,
   "toc_position": {},
   "toc_section_display": true,
   "toc_window_display": true
  },
  "varInspector": {
   "cols": {
    "lenName": 16,
    "lenType": 16,
    "lenVar": 40
   },
   "kernels_config": {
    "python": {
     "delete_cmd_postfix": "",
     "delete_cmd_prefix": "del ",
     "library": "var_list.py",
     "varRefreshCmd": "print(var_dic_list())"
    },
    "r": {
     "delete_cmd_postfix": ") ",
     "delete_cmd_prefix": "rm(",
     "library": "var_list.r",
     "varRefreshCmd": "cat(var_dic_list()) "
    }
   },
   "types_to_exclude": [
    "module",
    "function",
    "builtin_function_or_method",
    "instance",
    "_Feature"
   ],
   "window_display": false
  }
 },
 "nbformat": 4,
 "nbformat_minor": 5
}
