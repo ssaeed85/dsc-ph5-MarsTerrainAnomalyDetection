{
 "cells": [
  {
   "cell_type": "markdown",
   "id": "1a1d3106",
   "metadata": {
    "ExecuteTime": {
     "end_time": "2022-05-30T23:44:57.065449Z",
     "start_time": "2022-05-30T23:44:57.057448Z"
    }
   },
   "source": [
    "# The Data\n",
    "\n",
    "The work performed herein was built off of the shoulders of giants, the original project that created the dataset and labeled the images. Here follows an excerpt from their site describing the data.\n",
    "\n",
    "> [![DOI](https://zenodo.org/badge/DOI/10.5281/zenodo.4002935.svg)](https://doi.org/10.5281/zenodo.4002935)\n",
    ">__Project member(s)__:\\\n",
    ">Topher Allen; Zach Anderson; Berlin Chen; Ameya Daigavane; Annie Didier; Marko Green; Paul Horton; Hannah Kerner; Lauren Klein; Benjamin Kolber; Ellie Kuang; Kyle Kung; Jake Lee; Justin Martia; Brian Milch; James Montgomery; Kyle Pearson; Sanjna Ravichandar; Arun Viswanathan; Caleb Wagner; Amruta Yelamanchili; Brandon Zhao\n",
    ">\n",
    ">__Abstract__:\\\n",
    ">This dataset contains a total of 64,947 landmark images that were detected and extracted from HiRISE browse images, spanning 232 separate source images.\n",
    ">\n",
    ">This set was formed from 10,815 original landmarks. Each original landmark was cropped to a square bounding box that included the full extent of the landmark plus a 30-pixel margin to the left, right, top, and bottom. Each landmark was then resized to 227x227 pixels. 9,022 of these images were then augmented to generate 6 additional landmarks using the following methods:\n",
    ">\n",
    ">90 degrees clockwise rotation\n",
    ">180 degrees clockwise rotation\n",
    ">270 degrees clockwise rotation\n",
    ">Horizontal flip\n",
    ">Vertical flip\n",
    ">Random brightness adjustment\n",
    ">The remaining 1,793 images were not augmented. Combining these with the 7*9,022 images, gives a total of 64,947 separate images.\n",
    ">\n",
    "> __Contents__:\n",
    ">- map-proj-v3_2/: Directory containing individual cropped landmark images\n",
    ">- labels-map-proj-v3_2.txt: Class labels (ids) for each landmark image. File includes two columns separated by a space: filename, class_id\n",
    ">- labels-map-proj-v3_2_train_val_test.txt: Includes train/test/val labels and upsampling used for trained model. File includes three columns separated by a space: filename, class_id, set\n",
    ">- landmarks_map-proj-v3_2_classmap.csv: Dictionary that maps class ids to semantic names\n",
    ">\n",
    "> __Class Discussion__:\\\n",
    ">We give a discussion of the various landmarks that make up our classes.\n",
    ">\n",
    ">Bright dune and dark dune are two sand dune classes found on Mars. Dark dunes are completely defrosted, whereas bright dunes are not. Bright dunes are generally bright due to overlying frost and can exhibit black spots where parts of the dune are defrosting.\n",
    ">\n",
    ">The crater class consists of crater images in which the diameter of the crater is greater than or equal to 1/5 the width of the image and the circular rim is visible for at least half the crater's circumference.\n",
    ">\n",
    ">The slope streak class consists of images of dark flow-like features on slopes. These features are believed to be formed by a dry process in which overlying (bright) dust slides down a slope and reveals a darker sub-surface.\n",
    ">\n",
    ">Impact ejecta refers to material that is blasted out from the impact of a meteorite or the eruption of a volcano. We also include cases in which the impact cleared away overlying dust, exposing the underlying surface. In some cases, the associated crater may be too small to see. Impact ejecta can also include lava that spilled out from the impact (blobby (\"lobate\") instead of blast-like), more like an eruption (triggered by the impact). Impact ejecta can be isolated, or they can form in clusters when the impactor breaks up into multiple fragments.\n",
    ">\n",
    ">Spiders and Swiss cheese are phenomena that occur in the south polar region of Mars. Spiders have a central pit with radial troughs, and they are believed to form as a result of sublimation of carbon dioxide ice. This process can produce mineral deposits on top, which look like dark or light dust that highlights cracks in the CO2 ice. Spiders can resemble impact ejecta due to their radial troughs, but impact ejecta tends to have straight radial jets that fade as they get farther from the center. The spider class also includes fan-like features that form when a geyser erupts through the CO2 layer and the material is blown by the wind away from the cracks. Fans are typically unidirectional (following the wind direction), whereas impact ejecta often extends in multiple directions. Swiss cheese is a terrain type that consists of pits that are formed when the sun heats the ice making it sublimate (change solid to gas).\n",
    ">\n",
    ">Other is a catch-all class that contains images that fit none of the defined classes of interest. This class makes up the majority of our data set.\n"
   ]
  },
  {
   "cell_type": "markdown",
   "id": "fa3d778c",
   "metadata": {},
   "source": [
    "# Business Understanding\n",
    "\n",
    "Space exploration and understanding has been growing over the last few decades with the spark being lit during the space race during the latter half of the 20th century. After the end of the Apollo space program, man's venture into space has been relegated to low earth orbit missions.  \n",
    "\n",
    "Unmanned missions have since had many a success story such as the Voyager 2 going interstellar in 2018, over 40 years after its launch. The future of space exploration is going to be handled by such manned missions for the foreseeable future. However, being physically on site isn't the only way to explore space.  \n",
    "\n",
    "For centuries, man has looked up at the night sky to find out more about our celestial neighbors. With improvements in technologies our ability to gather data through telescopes and cameras has improved significantly and the value provided by telescopes in space has been immeasurable. The James Webb (infrared) telescope was launched in December 2021 and hopes to view objects too old, distant, and faint for the Hubble Space Telescope.\n",
    "\n",
    "Pointing the telescope and gathering data is only the first step. Being able to parse terabytes, petabytes or even yottabytes of data manually is a nigh impossible task, a task computer vision is especially suited for. Being able to identify interesting features can help us whittle down potential candidates to explore 'in-person' and in the long run help mitigate losses.\n",
    "\n",
    "Interest in space exploration has seen a resurgence with private enterprise taking an interest. Although this project specifically looks at the Mars topography, similar techniques can be applied to any celestial body, or even to our home planet."
   ]
  },
  {
   "cell_type": "markdown",
   "id": "e0ad6c71",
   "metadata": {},
   "source": [
    "# Overview\n",
    "We shall be using images captured from the HiRISE camera system on board the Mars Reconnaisance Orbiter which was built under direction from University of Arizona's Lunar and Planetary Laboratory. Following is an excerpt from the [University of Arizona website](https://www.lpl.arizona.edu/missions/hirise-mro).\n",
    "\n",
    ">The __Hi__gh __R__esolution __I__maging __S__cience __E__xperiment (HiRISE) onboard the Mars Reconnaissance Orbiter, is the most powerful camera ever sent to another planet. The resolution of the camera allows us to see the Red Planet in amazing detail, and lets other missions, like the Mars Science Laboratory, find a safe place to land and carry out amazing science. The operations center, which includes not only observation planning, but the execution of commands sent to the spacecraft along with actual image processing, is located within LPL at the University of Arizona.\n",
    "\n",
    "We shall be building off of the work performed by the original team. The dataset comes pre-augmented and segmented into training, validation and test sets. The test side will be set aside to ascertain effectiveness of our final model. The training set will be used to train the model and the validation scores on the validation set will be used as a metric to pick our model, specifically our validation loss."
   ]
  },
  {
   "cell_type": "markdown",
   "id": "4a641e81",
   "metadata": {
    "ExecuteTime": {
     "end_time": "2022-05-31T04:19:08.842951Z",
     "start_time": "2022-05-31T04:19:08.825947Z"
    }
   },
   "source": [
    "# Imports"
   ]
  },
  {
   "cell_type": "code",
   "execution_count": 14,
   "id": "59bebcc0",
   "metadata": {
    "ExecuteTime": {
     "end_time": "2022-06-02T03:38:41.068984Z",
     "start_time": "2022-06-02T03:38:41.063983Z"
    }
   },
   "outputs": [],
   "source": [
    "import os\n",
    "import pandas as pd\n",
    "import zipfile\n",
    "import shutil\n",
    "import pandas as pd\n",
    "import matplotlib.pyplot as plt\n",
    "import matplotlib\n",
    "%matplotlib inline"
   ]
  },
  {
   "cell_type": "code",
   "execution_count": 3,
   "id": "9313e2c2",
   "metadata": {
    "ExecuteTime": {
     "end_time": "2022-06-02T03:34:15.301335Z",
     "start_time": "2022-06-02T03:34:14.676708Z"
    }
   },
   "outputs": [],
   "source": [
    "from src.helperFunctions import createDir"
   ]
  },
  {
   "cell_type": "markdown",
   "id": "6f8ba057",
   "metadata": {},
   "source": [
    "# The Dataset\n",
    "We shall go through steps on getting the dataset and reorganizing the data to allow for easier importing and working with tensorflow"
   ]
  },
  {
   "cell_type": "markdown",
   "id": "4535e6ff",
   "metadata": {},
   "source": [
    "## Get the Dataset\n",
    "\n",
    "The very first step we will need to perform is get the required dataset. \n",
    "If the [1-click-download](https://zenodo.org/record/4002935/files/hirise-map-proj-v3.zip?download=1) doesn't work, please download the archive manually from the [webpage](https://zenodo.org/record/4002935#.YoVABujMKUl \"Mars orbital image (HiRISE) labeled data set version 3.2\")\n",
    "\n",
    "\n",
    "Please move the downloaded archive into the project's root folder"
   ]
  },
  {
   "cell_type": "markdown",
   "id": "f14e8bea",
   "metadata": {},
   "source": [
    "## Extract our compressed data"
   ]
  },
  {
   "cell_type": "code",
   "execution_count": 17,
   "id": "2117ff14",
   "metadata": {
    "ExecuteTime": {
     "end_time": "2022-06-02T03:39:28.886050Z",
     "start_time": "2022-06-02T03:39:28.872046Z"
    }
   },
   "outputs": [],
   "source": [
    "extractedDirectory = 'extractedData'"
   ]
  },
  {
   "cell_type": "code",
   "execution_count": null,
   "id": "895e8691",
   "metadata": {},
   "outputs": [],
   "source": [
    "# This cell extracts the compressed files into a dedicated directory\n",
    "# NOTE: Expected runtime for this cell 1-2 min\n",
    "\n",
    "with zipfile.ZipFile('hirise-map-proj-v3_2.zip', 'r') as zippedData:\n",
    "    zippedData.extractall(path=extractedDirectory)"
   ]
  },
  {
   "cell_type": "markdown",
   "id": "113347e3",
   "metadata": {},
   "source": [
    "## Reorganize the Data\n",
    "Next, we shall reorganize the archived data in a format that would allow easy import into our neural network models. To do this we shall be looking at the `labels-map-proj_v3_2_train_val_test.txt` to figure out which set does a particular image it belongs to as well as what class it belongs to."
   ]
  },
  {
   "cell_type": "markdown",
   "id": "984c82dc",
   "metadata": {},
   "source": [
    "### Create our Mapping DataFrame"
   ]
  },
  {
   "cell_type": "code",
   "execution_count": 5,
   "id": "827e4d2f",
   "metadata": {
    "ExecuteTime": {
     "end_time": "2022-06-02T03:34:17.335243Z",
     "start_time": "2022-06-02T03:34:17.321240Z"
    },
    "scrolled": false
   },
   "outputs": [
    {
     "name": "stdout",
     "output_type": "stream",
     "text": [
      "extractedData/hirise-map-proj-v3_2\n",
      "images\n"
     ]
    }
   ],
   "source": [
    "# Define our raw data path and the main images folder\n",
    "rawDataDir = '/'.join([extractedDirectory,'hirise-map-proj-v3_2'])\n",
    "imagesDir = 'images'\n",
    "\n",
    "print(rawDataDir)\n",
    "print(imagesDir)"
   ]
  },
  {
   "cell_type": "code",
   "execution_count": 6,
   "id": "eeeaa1ea",
   "metadata": {
    "ExecuteTime": {
     "end_time": "2022-06-02T03:34:20.667897Z",
     "start_time": "2022-06-02T03:34:20.599276Z"
    },
    "scrolled": false
   },
   "outputs": [
    {
     "data": {
      "text/html": [
       "<div>\n",
       "<style scoped>\n",
       "    .dataframe tbody tr th:only-of-type {\n",
       "        vertical-align: middle;\n",
       "    }\n",
       "\n",
       "    .dataframe tbody tr th {\n",
       "        vertical-align: top;\n",
       "    }\n",
       "\n",
       "    .dataframe thead th {\n",
       "        text-align: right;\n",
       "    }\n",
       "</style>\n",
       "<table border=\"1\" class=\"dataframe\">\n",
       "  <thead>\n",
       "    <tr style=\"text-align: right;\">\n",
       "      <th></th>\n",
       "      <th>imageName</th>\n",
       "      <th>class</th>\n",
       "      <th>imageSet</th>\n",
       "    </tr>\n",
       "  </thead>\n",
       "  <tbody>\n",
       "    <tr>\n",
       "      <th>0</th>\n",
       "      <td>ESP_013049_0950_RED-0067.jpg</td>\n",
       "      <td>7</td>\n",
       "      <td>train</td>\n",
       "    </tr>\n",
       "    <tr>\n",
       "      <th>1</th>\n",
       "      <td>ESP_013049_0950_RED-0067-fv.jpg</td>\n",
       "      <td>7</td>\n",
       "      <td>train</td>\n",
       "    </tr>\n",
       "    <tr>\n",
       "      <th>2</th>\n",
       "      <td>ESP_013049_0950_RED-0067-brt.jpg</td>\n",
       "      <td>7</td>\n",
       "      <td>train</td>\n",
       "    </tr>\n",
       "    <tr>\n",
       "      <th>3</th>\n",
       "      <td>ESP_013049_0950_RED-0067-r90.jpg</td>\n",
       "      <td>7</td>\n",
       "      <td>train</td>\n",
       "    </tr>\n",
       "    <tr>\n",
       "      <th>4</th>\n",
       "      <td>ESP_013049_0950_RED-0067-r180.jpg</td>\n",
       "      <td>7</td>\n",
       "      <td>train</td>\n",
       "    </tr>\n",
       "    <tr>\n",
       "      <th>...</th>\n",
       "      <td>...</td>\n",
       "      <td>...</td>\n",
       "      <td>...</td>\n",
       "    </tr>\n",
       "    <tr>\n",
       "      <th>67805</th>\n",
       "      <td>ESP_018707_2205_RED-0041.jpg</td>\n",
       "      <td>0</td>\n",
       "      <td>test</td>\n",
       "    </tr>\n",
       "    <tr>\n",
       "      <th>67806</th>\n",
       "      <td>ESP_018707_2205_RED-0062.jpg</td>\n",
       "      <td>0</td>\n",
       "      <td>test</td>\n",
       "    </tr>\n",
       "    <tr>\n",
       "      <th>67807</th>\n",
       "      <td>ESP_018707_2205_RED-0105.jpg</td>\n",
       "      <td>0</td>\n",
       "      <td>test</td>\n",
       "    </tr>\n",
       "    <tr>\n",
       "      <th>67808</th>\n",
       "      <td>ESP_018707_2205_RED-0058.jpg</td>\n",
       "      <td>0</td>\n",
       "      <td>test</td>\n",
       "    </tr>\n",
       "    <tr>\n",
       "      <th>67809</th>\n",
       "      <td>ESP_018707_2205_RED-0051.jpg</td>\n",
       "      <td>0</td>\n",
       "      <td>test</td>\n",
       "    </tr>\n",
       "  </tbody>\n",
       "</table>\n",
       "<p>67810 rows × 3 columns</p>\n",
       "</div>"
      ],
      "text/plain": [
       "                               imageName  class imageSet\n",
       "0           ESP_013049_0950_RED-0067.jpg      7    train\n",
       "1        ESP_013049_0950_RED-0067-fv.jpg      7    train\n",
       "2       ESP_013049_0950_RED-0067-brt.jpg      7    train\n",
       "3       ESP_013049_0950_RED-0067-r90.jpg      7    train\n",
       "4      ESP_013049_0950_RED-0067-r180.jpg      7    train\n",
       "...                                  ...    ...      ...\n",
       "67805       ESP_018707_2205_RED-0041.jpg      0     test\n",
       "67806       ESP_018707_2205_RED-0062.jpg      0     test\n",
       "67807       ESP_018707_2205_RED-0105.jpg      0     test\n",
       "67808       ESP_018707_2205_RED-0058.jpg      0     test\n",
       "67809       ESP_018707_2205_RED-0051.jpg      0     test\n",
       "\n",
       "[67810 rows x 3 columns]"
      ]
     },
     "execution_count": 6,
     "metadata": {},
     "output_type": "execute_result"
    }
   ],
   "source": [
    "# Reading the image map text file\n",
    "imageMap = pd.read_csv(\n",
    "    '/'.join([rawDataDir,\"labels-map-proj_v3_2_train_val_test.txt\"]), \n",
    "    header = None,\n",
    "    names = ['imageName','class','imageSet'],\n",
    "    delimiter = ' '    \n",
    ")\n",
    "imageMap"
   ]
  },
  {
   "cell_type": "markdown",
   "id": "57737e91",
   "metadata": {},
   "source": [
    "We shall use the `landmarks_map-proj-v3_2_classmap.csv` as a \"decoder ring\" to assign class 'semantic names' to each image in our `imageMap` data frame"
   ]
  },
  {
   "cell_type": "code",
   "execution_count": 7,
   "id": "135bba9b",
   "metadata": {
    "ExecuteTime": {
     "end_time": "2022-06-02T03:34:20.683900Z",
     "start_time": "2022-06-02T03:34:20.668897Z"
    }
   },
   "outputs": [
    {
     "data": {
      "text/html": [
       "<div>\n",
       "<style scoped>\n",
       "    .dataframe tbody tr th:only-of-type {\n",
       "        vertical-align: middle;\n",
       "    }\n",
       "\n",
       "    .dataframe tbody tr th {\n",
       "        vertical-align: top;\n",
       "    }\n",
       "\n",
       "    .dataframe thead th {\n",
       "        text-align: right;\n",
       "    }\n",
       "</style>\n",
       "<table border=\"1\" class=\"dataframe\">\n",
       "  <thead>\n",
       "    <tr style=\"text-align: right;\">\n",
       "      <th></th>\n",
       "      <th>class</th>\n",
       "      <th>className</th>\n",
       "    </tr>\n",
       "  </thead>\n",
       "  <tbody>\n",
       "    <tr>\n",
       "      <th>0</th>\n",
       "      <td>0</td>\n",
       "      <td>other</td>\n",
       "    </tr>\n",
       "    <tr>\n",
       "      <th>1</th>\n",
       "      <td>1</td>\n",
       "      <td>crater</td>\n",
       "    </tr>\n",
       "    <tr>\n",
       "      <th>2</th>\n",
       "      <td>2</td>\n",
       "      <td>dark dune</td>\n",
       "    </tr>\n",
       "    <tr>\n",
       "      <th>3</th>\n",
       "      <td>3</td>\n",
       "      <td>slope streak</td>\n",
       "    </tr>\n",
       "    <tr>\n",
       "      <th>4</th>\n",
       "      <td>4</td>\n",
       "      <td>bright dune</td>\n",
       "    </tr>\n",
       "    <tr>\n",
       "      <th>5</th>\n",
       "      <td>5</td>\n",
       "      <td>impact ejecta</td>\n",
       "    </tr>\n",
       "    <tr>\n",
       "      <th>6</th>\n",
       "      <td>6</td>\n",
       "      <td>swiss cheese</td>\n",
       "    </tr>\n",
       "    <tr>\n",
       "      <th>7</th>\n",
       "      <td>7</td>\n",
       "      <td>spider</td>\n",
       "    </tr>\n",
       "  </tbody>\n",
       "</table>\n",
       "</div>"
      ],
      "text/plain": [
       "   class      className\n",
       "0      0          other\n",
       "1      1         crater\n",
       "2      2      dark dune\n",
       "3      3   slope streak\n",
       "4      4    bright dune\n",
       "5      5  impact ejecta\n",
       "6      6   swiss cheese\n",
       "7      7         spider"
      ]
     },
     "execution_count": 7,
     "metadata": {},
     "output_type": "execute_result"
    }
   ],
   "source": [
    "classDecoder = pd.read_csv(\n",
    "    '/'.join([rawDataDir,'landmarks_map-proj-v3_2_classmap.csv']),\n",
    "    header= None,\n",
    "    names = ['class','className']\n",
    ")\n",
    "classDecoder"
   ]
  },
  {
   "cell_type": "markdown",
   "id": "741dc2af",
   "metadata": {},
   "source": [
    "This `imageMap` is our final dataframe that shows us each image in our dataset, the class it belongs to as well as the training, validation, and test set breakdown. Lets have a look at the breakdown of the data"
   ]
  },
  {
   "cell_type": "code",
   "execution_count": 8,
   "id": "c5a1a4a6",
   "metadata": {
    "ExecuteTime": {
     "end_time": "2022-06-02T03:34:25.151099Z",
     "start_time": "2022-06-02T03:34:25.104104Z"
    },
    "scrolled": false
   },
   "outputs": [
    {
     "data": {
      "text/html": [
       "<div>\n",
       "<style scoped>\n",
       "    .dataframe tbody tr th:only-of-type {\n",
       "        vertical-align: middle;\n",
       "    }\n",
       "\n",
       "    .dataframe tbody tr th {\n",
       "        vertical-align: top;\n",
       "    }\n",
       "\n",
       "    .dataframe thead th {\n",
       "        text-align: right;\n",
       "    }\n",
       "</style>\n",
       "<table border=\"1\" class=\"dataframe\">\n",
       "  <thead>\n",
       "    <tr style=\"text-align: right;\">\n",
       "      <th></th>\n",
       "      <th>imageName</th>\n",
       "      <th>class</th>\n",
       "      <th>imageSet</th>\n",
       "      <th>className</th>\n",
       "    </tr>\n",
       "  </thead>\n",
       "  <tbody>\n",
       "    <tr>\n",
       "      <th>0</th>\n",
       "      <td>ESP_013049_0950_RED-0067.jpg</td>\n",
       "      <td>7</td>\n",
       "      <td>train</td>\n",
       "      <td>spider</td>\n",
       "    </tr>\n",
       "    <tr>\n",
       "      <th>1</th>\n",
       "      <td>ESP_013049_0950_RED-0067-fv.jpg</td>\n",
       "      <td>7</td>\n",
       "      <td>train</td>\n",
       "      <td>spider</td>\n",
       "    </tr>\n",
       "    <tr>\n",
       "      <th>2</th>\n",
       "      <td>ESP_013049_0950_RED-0067-brt.jpg</td>\n",
       "      <td>7</td>\n",
       "      <td>train</td>\n",
       "      <td>spider</td>\n",
       "    </tr>\n",
       "    <tr>\n",
       "      <th>3</th>\n",
       "      <td>ESP_013049_0950_RED-0067-r90.jpg</td>\n",
       "      <td>7</td>\n",
       "      <td>train</td>\n",
       "      <td>spider</td>\n",
       "    </tr>\n",
       "    <tr>\n",
       "      <th>4</th>\n",
       "      <td>ESP_013049_0950_RED-0067-r180.jpg</td>\n",
       "      <td>7</td>\n",
       "      <td>train</td>\n",
       "      <td>spider</td>\n",
       "    </tr>\n",
       "    <tr>\n",
       "      <th>...</th>\n",
       "      <td>...</td>\n",
       "      <td>...</td>\n",
       "      <td>...</td>\n",
       "      <td>...</td>\n",
       "    </tr>\n",
       "    <tr>\n",
       "      <th>67805</th>\n",
       "      <td>ESP_016613_2570_RED-0038.jpg</td>\n",
       "      <td>4</td>\n",
       "      <td>test</td>\n",
       "      <td>bright dune</td>\n",
       "    </tr>\n",
       "    <tr>\n",
       "      <th>67806</th>\n",
       "      <td>ESP_016613_2570_RED-0006.jpg</td>\n",
       "      <td>4</td>\n",
       "      <td>test</td>\n",
       "      <td>bright dune</td>\n",
       "    </tr>\n",
       "    <tr>\n",
       "      <th>67807</th>\n",
       "      <td>ESP_016613_2570_RED-0043.jpg</td>\n",
       "      <td>4</td>\n",
       "      <td>test</td>\n",
       "      <td>bright dune</td>\n",
       "    </tr>\n",
       "    <tr>\n",
       "      <th>67808</th>\n",
       "      <td>ESP_016613_2570_RED-0044.jpg</td>\n",
       "      <td>4</td>\n",
       "      <td>test</td>\n",
       "      <td>bright dune</td>\n",
       "    </tr>\n",
       "    <tr>\n",
       "      <th>67809</th>\n",
       "      <td>ESP_016613_2570_RED-0001.jpg</td>\n",
       "      <td>4</td>\n",
       "      <td>test</td>\n",
       "      <td>bright dune</td>\n",
       "    </tr>\n",
       "  </tbody>\n",
       "</table>\n",
       "<p>64947 rows × 4 columns</p>\n",
       "</div>"
      ],
      "text/plain": [
       "                               imageName  class imageSet    className\n",
       "0           ESP_013049_0950_RED-0067.jpg      7    train       spider\n",
       "1        ESP_013049_0950_RED-0067-fv.jpg      7    train       spider\n",
       "2       ESP_013049_0950_RED-0067-brt.jpg      7    train       spider\n",
       "3       ESP_013049_0950_RED-0067-r90.jpg      7    train       spider\n",
       "4      ESP_013049_0950_RED-0067-r180.jpg      7    train       spider\n",
       "...                                  ...    ...      ...          ...\n",
       "67805       ESP_016613_2570_RED-0038.jpg      4     test  bright dune\n",
       "67806       ESP_016613_2570_RED-0006.jpg      4     test  bright dune\n",
       "67807       ESP_016613_2570_RED-0043.jpg      4     test  bright dune\n",
       "67808       ESP_016613_2570_RED-0044.jpg      4     test  bright dune\n",
       "67809       ESP_016613_2570_RED-0001.jpg      4     test  bright dune\n",
       "\n",
       "[64947 rows x 4 columns]"
      ]
     },
     "execution_count": 8,
     "metadata": {},
     "output_type": "execute_result"
    }
   ],
   "source": [
    "imageMap = imageMap.merge(classDecoder,on='class').drop_duplicates()\n",
    "imageMap"
   ]
  },
  {
   "cell_type": "markdown",
   "id": "ff646486",
   "metadata": {},
   "source": [
    "### Create Folder Structure"
   ]
  },
  {
   "cell_type": "markdown",
   "id": "22c6c940",
   "metadata": {
    "ExecuteTime": {
     "end_time": "2022-05-18T19:24:16.911039Z",
     "start_time": "2022-05-18T19:24:16.894035Z"
    }
   },
   "source": [
    "This data frame now shows, what label as well as which part of the data split each image is assigned to. Using this we can reorganize our image data accordingly. We will have to create the folder structure to hold the images. This particular folder structure ensures an easier time loading the data into our neural network model using `tensorflow`'s `flow_from_directory` method. The folder structure is as follows"
   ]
  },
  {
   "cell_type": "markdown",
   "id": "9b9230f1",
   "metadata": {},
   "source": [
    "images\n",
    "- test  \n",
    " - bright dune  \n",
    " - crater  \n",
    " - dark dune  \n",
    " - impact ejecta  \n",
    " - other  \n",
    " - slope streak  \n",
    " - spider  \n",
    " - swiss cheese  \n",
    " \n",
    "- train  \n",
    " - bright dune  \n",
    " - crater  \n",
    " - dark dune  \n",
    " - impact ejecta  \n",
    " - other  \n",
    " - slope streak  \n",
    " - spider  \n",
    " - swiss cheese  \n",
    "- val  \n",
    " - bright dune  \n",
    " - crater  \n",
    " - dark dune  \n",
    " - impact ejecta  \n",
    " - other  \n",
    " - slope streak  \n",
    " - spider  \n",
    " - swiss cheese  "
   ]
  },
  {
   "cell_type": "markdown",
   "id": "d1792380",
   "metadata": {},
   "source": [
    "### Relocate Images"
   ]
  },
  {
   "cell_type": "code",
   "execution_count": null,
   "id": "3e523953",
   "metadata": {},
   "outputs": [],
   "source": [
    "# Create Folder structure for image data\n",
    "createDir(imagesDir)\n",
    "\n",
    "for imageFolder in set(imageMap.imageSet):\n",
    "    createDir('/'.join([imagesDir,imageFolder]))\n",
    "    for classFolder in set(classMap.className):       \n",
    "    for classFolder in set(classDecoder.className):       \n",
    "        createDir('/'.join([imagesDir,imageFolder,classFolder]))"
   ]
  },
  {
   "cell_type": "code",
   "execution_count": null,
   "id": "99c136ad",
   "metadata": {},
   "outputs": [],
   "source": [
    "# Move all extracted images into the appropriate folder location\n",
    "# Expected runtime for this operation 6-10 min\n",
    "for file in os.listdir('/'.join([rawDataDir,'map-proj-v3_2'])):\n",
    "    \n",
    "    setFolder = imageMap[imageMap.imageName == file].iloc[0]['imageSet']\n",
    "    classFolder = imageMap[imageMap.imageName == file].iloc[0]['className'] \n",
    "    \n",
    "    srcPath  = '/'.join([rawDataDir,'map-proj-v3_2',file])\n",
    "    destPath = str('images/' +setFolder + \"/\" + classFolder + \"/\" + file)\n",
    "    \n",
    "    shutil.move(srcPath, \n",
    "                    destPath)"
   ]
  },
  {
   "cell_type": "markdown",
   "id": "16f2068f",
   "metadata": {
    "ExecuteTime": {
     "end_time": "2022-05-31T02:38:07.195545Z",
     "start_time": "2022-05-31T02:38:07.181541Z"
    }
   },
   "source": [
    "# Data Exploration\n",
    "We shall next look at the breakdown of the dataset by class to get a feel for its distribution"
   ]
  },
  {
   "cell_type": "code",
   "execution_count": 31,
   "id": "227185fc",
   "metadata": {
    "ExecuteTime": {
     "end_time": "2022-05-31T03:13:59.272619Z",
     "start_time": "2022-05-31T03:13:59.262618Z"
    },
    "scrolled": true
   },
   "outputs": [
    {
     "data": {
      "text/plain": [
       "other            0.811770\n",
       "crater           0.077355\n",
       "swiss cheese     0.028238\n",
       "bright dune      0.025467\n",
       "slope streak     0.024251\n",
       "spider           0.013796\n",
       "dark dune        0.011794\n",
       "impact ejecta    0.007329\n",
       "Name: className, dtype: float64"
      ]
     },
     "execution_count": 31,
     "metadata": {},
     "output_type": "execute_result"
    }
   ],
   "source": [
    "imageMap.className.value_counts(normalize=True)"
   ]
  },
  {
   "cell_type": "code",
   "execution_count": 44,
   "id": "d66fd77f",
   "metadata": {
    "ExecuteTime": {
     "end_time": "2022-05-31T03:23:12.244694Z",
     "start_time": "2022-05-31T03:23:12.051651Z"
    },
    "scrolled": false
   },
   "outputs": [
    {
     "data": {
      "image/png": "[encoded data removed]",
      "text/plain": [
       "<Figure size 1080x720 with 1 Axes>"
      ]
     },
     "metadata": {
      "needs_background": "light"
     },
     "output_type": "display_data"
    }
   ],
   "source": [
    "fig,ax = plt.subplots(figsize = (15,10))\n",
    "\n",
    "r = '#a33931'\n",
    "b = '#638dad'\n",
    "\n",
    "plt.bar(x = imageMap.className.value_counts().index,\n",
    "       height = imageMap.className.value_counts().values,\n",
    "        color=[r, b,b,b,b,b,b,b]\n",
    "       )\n",
    "ax.set_title('Image distribution by Class - Entire Dataset')\n",
    "ax.set_ylabel('Image Count')\n",
    "ax.set_xlabel('Class');\n",
    "# plt.savefig('./savedFigs/ImageDist_EntireDataset.jpg', dpi='figure', \n",
    "# #             format=None, metadata=None,\n",
    "#           bbox_inches='tight', pad_inches=0.1,\n",
    "#           facecolor='auto', edgecolor='auto',\n",
    "#          )"
   ]
  },
  {
   "cell_type": "markdown",
   "id": "62988f36",
   "metadata": {},
   "source": [
    "The dataset is quite heavily imbalanced. 81% of the dataset is 'other' with 'crater' taking up another sizeable of chunk of the rest. Lets have a quick look at the breakdown by each train/val/test set"
   ]
  },
  {
   "cell_type": "code",
   "execution_count": 45,
   "id": "8343b1ad",
   "metadata": {
    "ExecuteTime": {
     "end_time": "2022-05-31T03:23:12.260699Z",
     "start_time": "2022-05-31T03:23:12.245695Z"
    },
    "scrolled": false
   },
   "outputs": [
    {
     "data": {
      "text/plain": [
       "other            0.817064\n",
       "crater           0.073460\n",
       "bright dune      0.031871\n",
       "swiss cheese     0.026154\n",
       "slope streak     0.018865\n",
       "spider           0.013006\n",
       "dark dune        0.012577\n",
       "impact ejecta    0.007003\n",
       "Name: className, dtype: float64"
      ]
     },
     "execution_count": 45,
     "metadata": {},
     "output_type": "execute_result"
    }
   ],
   "source": [
    "imageMap[imageMap.imageSet =='train'].className.value_counts(normalize=True)"
   ]
  },
  {
   "cell_type": "code",
   "execution_count": 47,
   "id": "8f09f88d",
   "metadata": {
    "ExecuteTime": {
     "end_time": "2022-05-31T03:23:12.484748Z",
     "start_time": "2022-05-31T03:23:12.469745Z"
    }
   },
   "outputs": [
    {
     "data": {
      "text/plain": [
       "other            0.791605\n",
       "crater           0.094321\n",
       "slope streak     0.042469\n",
       "swiss cheese     0.036049\n",
       "spider           0.015309\n",
       "impact ejecta    0.008889\n",
       "dark dune        0.005926\n",
       "bright dune      0.005432\n",
       "Name: className, dtype: float64"
      ]
     },
     "execution_count": 47,
     "metadata": {},
     "output_type": "execute_result"
    }
   ],
   "source": [
    "imageMap[imageMap.imageSet =='val'].className.value_counts(normalize=True)"
   ]
  },
  {
   "cell_type": "code",
   "execution_count": 49,
   "id": "fd9883ab",
   "metadata": {
    "ExecuteTime": {
     "end_time": "2022-05-31T03:23:12.691794Z",
     "start_time": "2022-05-31T03:23:12.676791Z"
    },
    "scrolled": true
   },
   "outputs": [
    {
     "data": {
      "text/plain": [
       "other            0.826548\n",
       "crater           0.049637\n",
       "dark dune        0.036810\n",
       "slope streak     0.027328\n",
       "spider           0.023424\n",
       "swiss cheese     0.023424\n",
       "bright dune      0.008924\n",
       "impact ejecta    0.003904\n",
       "Name: className, dtype: float64"
      ]
     },
     "execution_count": 49,
     "metadata": {},
     "output_type": "execute_result"
    }
   ],
   "source": [
    "imageMap[imageMap.imageSet =='test'].className.value_counts(normalize=True)"
   ]
  },
  {
   "cell_type": "markdown",
   "id": "b75f20e0",
   "metadata": {
    "ExecuteTime": {
     "end_time": "2022-05-31T03:24:32.729547Z",
     "start_time": "2022-05-31T03:24:32.717544Z"
    }
   },
   "source": [
    "Regardless of which dataset you look at, our final model will have to try and overcome this massive class imbalance of about 80% of the data belonging to the same class: `other`. Even a classifier that picks the most frequent class will have an accuracy of about 80%.\n",
    "\n",
    "It is therefore important that we look at other metrics besides validation accuracy. Validation loss is a great candidate."
   ]
  },
  {
   "cell_type": "code",
   "execution_count": 16,
   "id": "b315b3b1",
   "metadata": {
    "ExecuteTime": {
     "end_time": "2022-06-02T03:38:51.073982Z",
     "start_time": "2022-06-02T03:38:50.832738Z"
    }
   },
   "outputs": [
    {
     "data": {
      "image/png": "[encoded data removed]",
      "text/plain": [
       "<Figure size 1080x720 with 1 Axes>"
      ]
     },
     "metadata": {
      "needs_background": "light"
     },
     "output_type": "display_data"
    }
   ],
   "source": [
    "xlabels= imageMap[imageMap.imageSet =='train'].className.value_counts(normalize=True).index\n",
    "train = imageMap[imageMap.imageSet =='train'].className.value_counts(normalize=True).values\n",
    "val = imageMap[imageMap.imageSet =='val'].className.value_counts(normalize=True).values\n",
    "test = imageMap[imageMap.imageSet =='test'].className.value_counts(normalize=True).values\n",
    "\n",
    "\n",
    "fig, ax = plt.subplots(figsize = (15,10))\n",
    "\n",
    "xticks=np.arange(len(xlabels))\n",
    "width=0.3\n",
    "\n",
    "ax.bar(x=xticks-width,height = train, width = width, color='seagreen')\n",
    "ax.bar(x=xticks      ,height = val,   width = width, color='royalblue')\n",
    "ax.bar(x=xticks+width,height = test,  width = width, color='indianred')\n",
    "\n",
    "ax.set_ylabel('Percent of Dataset')\n",
    "ax.set_title('Data breakdown by class')\n",
    "ax.set_xticks(np.arange(len(xlabels)))\n",
    "ax.set_xticklabels(xlabels)\n",
    "ax.legend(('Training Set', 'Validation Set','Test Set'))\n",
    "\n",
    "ax.get_yaxis().set_major_formatter(\n",
    "    matplotlib.ticker.FuncFormatter(lambda x, p: format(f'{round(x*100)}%'))\n",
    ")\n",
    "\n",
    "plt.savefig('./savedFigs/ImageDist_BySet.jpg', dpi='figure', \n",
    "          bbox_inches='tight', pad_inches=0.1,\n",
    "          facecolor='auto', edgecolor='auto',\n",
    "         )\n",
    "\n",
    "plt.show()"
   ]
  },
  {
   "cell_type": "markdown",
   "id": "216cb84c",
   "metadata": {},
   "source": [
    "The imbalance is even higher in the testing dataset with `other` comprising of about 82% of the dataset. Any chosen model would have to perform significantly better than 82% accuracy. Therefore, I chose to use categorical cross entropy as a validation loss metric as a primary metric on which to select my final model, in conjunction with validation accuracy."
   ]
  },
  {
   "cell_type": "markdown",
   "id": "d2eedb94",
   "metadata": {},
   "source": [
    "# Modeling Methodology"
   ]
  },
  {
   "cell_type": "markdown",
   "id": "6577e440",
   "metadata": {},
   "source": [
    "We can now start the modeling process. I attempted a 3 pronged approach to modeling:\n",
    "- Training models from scratch trying a variety of different architectures.\n",
    "> [01_TensorflowModeling_CNN](./01_TensorflowModeling_CNN.ipynb) details the variety of different of models with increasing and decreasing complexity/regularization. \n",
    ">[02_TensorflowModeling_FinalModels](./02_TensorflowModeling_FinalModels.ipynb) takes a subset of promising models from above and further refines them to get the most out of them\n",
    "- Training models on pre-established Convolutional Neural Net model architectures with a random weight initialization., namely:\n",
    " - AlexNet\n",
    " >[03_TensorflowModeling_AlexNet](./03_TensorflowModeling_AlexNet.ipynb) details the AlexNet training\n",
    " - LeNet-5\n",
    " >[04_TensorflowModeling_LeNet](./04_TensorflowModeling_LeNet.ipynb) details the LeNet-5 training\n",
    "- Training on pre-trained models using transfer learning. The model of choice is VGG-16.\n",
    ">[05_TensorflowModeling_VGG16_TransferLearning](./05_TensorflowModeling_VGG16_TransferLearning.ipynb) details transfer learning on the VGG16 architecture\n",
    "\n",
    "Finally, in [06_AnomalyDetection](./06_AnomalyDetection.ipynb), the best performing model is loaded and used to predict features on satellite images of Martian topography."
   ]
  },
  {
   "cell_type": "code",
   "execution_count": null,
   "id": "a57aad35",
   "metadata": {},
   "outputs": [],
   "source": []
  }
 ],
 "metadata": {
  "kernelspec": {
   "display_name": "tfGPU",
   "language": "python",
   "name": "tfgpu"
  },
  "language_info": {
   "codemirror_mode": {
    "name": "ipython",
    "version": 3
   },
   "file_extension": ".py",
   "mimetype": "text/x-python",
   "name": "python",
   "nbconvert_exporter": "python",
   "pygments_lexer": "ipython3",
   "version": "3.9.12"
  },
  "toc": {
   "base_numbering": 1,
   "nav_menu": {},
   "number_sections": true,
   "sideBar": true,
   "skip_h1_title": false,
   "title_cell": "Table of Contents",
   "title_sidebar": "Contents",
   "toc_cell": false,
   "toc_position": {
    "height": "calc(100% - 180px)",
    "left": "10px",
    "top": "150px",
    "width": "384px"
   },
   "toc_section_display": true,
   "toc_window_display": true
  },
  "varInspector": {
   "cols": {
    "lenName": 16,
    "lenType": 16,
    "lenVar": 40
   },
   "kernels_config": {
    "python": {
     "delete_cmd_postfix": "",
     "delete_cmd_prefix": "del ",
     "library": "var_list.py",
     "varRefreshCmd": "print(var_dic_list())"
    },
    "r": {
     "delete_cmd_postfix": ") ",
     "delete_cmd_prefix": "rm(",
     "library": "var_list.r",
     "varRefreshCmd": "cat(var_dic_list()) "
    }
   },
   "types_to_exclude": [
    "module",
    "function",
    "builtin_function_or_method",
    "instance",
    "_Feature"
   ],
   "window_display": false
  }
 },
 "nbformat": 4,
 "nbformat_minor": 5
}
