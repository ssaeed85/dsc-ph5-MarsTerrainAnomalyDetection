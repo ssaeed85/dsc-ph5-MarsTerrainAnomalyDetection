{
 "cells": [
  {
   "cell_type": "code",
   "execution_count": 1,
   "id": "a6d1befe",
   "metadata": {
    "ExecuteTime": {
     "end_time": "2022-05-24T08:02:38.561949Z",
     "start_time": "2022-05-24T08:02:38.547945Z"
    },
    "scrolled": true
   },
   "outputs": [
    {
     "data": {
      "text/html": [
       "<style>.container { width:80% !important; }</style>"
      ],
      "text/plain": [
       "<IPython.core.display.HTML object>"
      ]
     },
     "metadata": {},
     "output_type": "display_data"
    }
   ],
   "source": [
    "from IPython.display import display, HTML\n",
    "display(HTML(\"<style>.container { width:80% !important; }</style>\"))"
   ]
  },
  {
   "cell_type": "code",
   "execution_count": 2,
   "id": "4c16c13c",
   "metadata": {
    "ExecuteTime": {
     "end_time": "2022-05-24T08:02:39.275134Z",
     "start_time": "2022-05-24T08:02:38.562949Z"
    }
   },
   "outputs": [],
   "source": [
    "import numpy as np\n",
    "import pandas as pd\n",
    "import matplotlib.pyplot as plt\n",
    "from PIL import Image"
   ]
  },
  {
   "cell_type": "code",
   "execution_count": 3,
   "id": "9280caa1",
   "metadata": {
    "ExecuteTime": {
     "end_time": "2022-05-24T08:02:41.844737Z",
     "start_time": "2022-05-24T08:02:39.276139Z"
    }
   },
   "outputs": [],
   "source": [
    "from tensorflow.keras.preprocessing.image import ImageDataGenerator\n",
    "from tensorflow.keras import layers, models, optimizers, losses\n",
    "from tensorflow.keras.callbacks import EarlyStopping, CSVLogger\n",
    "from tensorflow.keras.metrics import Precision, Recall\n",
    "\n",
    "import tensorflow as tf\n",
    "tf.random.set_seed(\n",
    "    42\n",
    ")\n",
    "import seaborn as sns\n",
    "\n",
    "tf_chkpt_path = 'tf_Adam_new_checkpoints/'"
   ]
  },
  {
   "cell_type": "code",
   "execution_count": 4,
   "id": "3133259c",
   "metadata": {
    "ExecuteTime": {
     "end_time": "2022-05-24T08:02:41.860737Z",
     "start_time": "2022-05-24T08:02:41.845737Z"
    }
   },
   "outputs": [],
   "source": [
    "from src.helperFunctions import display_model_trainTestGraphs"
   ]
  },
  {
   "cell_type": "code",
   "execution_count": 5,
   "id": "d8606505",
   "metadata": {
    "ExecuteTime": {
     "end_time": "2022-05-24T08:02:41.876464Z",
     "start_time": "2022-05-24T08:02:41.861737Z"
    }
   },
   "outputs": [],
   "source": [
    "# import tensorflow as tf\n",
    "# tf.config.list_physical_devices()"
   ]
  },
  {
   "cell_type": "markdown",
   "id": "55921c69",
   "metadata": {},
   "source": [
    "# Training Set"
   ]
  },
  {
   "cell_type": "code",
   "execution_count": 6,
   "id": "2ebd32ca",
   "metadata": {
    "ExecuteTime": {
     "end_time": "2022-05-24T08:02:43.146748Z",
     "start_time": "2022-05-24T08:02:41.877464Z"
    }
   },
   "outputs": [
    {
     "name": "stdout",
     "output_type": "stream",
     "text": [
      "Found 48979 images belonging to 8 classes.\n"
     ]
    }
   ],
   "source": [
    "# Normalizing data for 8 bit\n",
    "train_datagen = ImageDataGenerator(rescale=1./255)\n",
    "\n",
    "train_generator = train_datagen.flow_from_directory(\n",
    "    'images/train/',\n",
    "    target_size = (227,227),\n",
    "    batch_size=75,\n",
    "    color_mode='grayscale',\n",
    "    class_mode='categorical'\n",
    ")"
   ]
  },
  {
   "cell_type": "markdown",
   "id": "13dd3546",
   "metadata": {},
   "source": [
    "# Validation Set"
   ]
  },
  {
   "cell_type": "code",
   "execution_count": 7,
   "id": "d0df457e",
   "metadata": {
    "ExecuteTime": {
     "end_time": "2022-05-24T08:02:43.523509Z",
     "start_time": "2022-05-24T08:02:43.147749Z"
    }
   },
   "outputs": [
    {
     "name": "stdout",
     "output_type": "stream",
     "text": [
      "Found 14175 images belonging to 8 classes.\n"
     ]
    }
   ],
   "source": [
    "# Normalizing data for 8 bit\n",
    "val_datagen = ImageDataGenerator(rescale=1./255)\n",
    "\n",
    "val_generator = val_datagen.flow_from_directory(\n",
    "    'images/val/',\n",
    "    target_size = (227,227),\n",
    "    batch_size=150,\n",
    "    color_mode='grayscale',\n",
    "    class_mode='categorical'\n",
    ")"
   ]
  },
  {
   "cell_type": "markdown",
   "id": "fd84b13c",
   "metadata": {},
   "source": [
    "# Test Set"
   ]
  },
  {
   "cell_type": "code",
   "execution_count": 8,
   "id": "c77be659",
   "metadata": {
    "ExecuteTime": {
     "end_time": "2022-05-24T08:02:43.586246Z",
     "start_time": "2022-05-24T08:02:43.524509Z"
    }
   },
   "outputs": [
    {
     "name": "stdout",
     "output_type": "stream",
     "text": [
      "Found 1793 images belonging to 8 classes.\n"
     ]
    }
   ],
   "source": [
    "# Normalizing data for 8 bit\n",
    "test_datagen = ImageDataGenerator(rescale=1./255)\n",
    "\n",
    "test_generator = test_datagen.flow_from_directory(\n",
    "    'images/test/',\n",
    "    target_size = (227,227),\n",
    "    batch_size=8,\n",
    "    color_mode='grayscale',\n",
    "    class_mode='categorical'\n",
    ")"
   ]
  },
  {
   "cell_type": "markdown",
   "id": "48c8e3a2",
   "metadata": {},
   "source": [
    "# Modeling"
   ]
  },
  {
   "cell_type": "code",
   "execution_count": 9,
   "id": "f09bd642",
   "metadata": {
    "ExecuteTime": {
     "end_time": "2022-05-24T08:02:43.601519Z",
     "start_time": "2022-05-24T08:02:43.587247Z"
    }
   },
   "outputs": [],
   "source": [
    "epochs_to_train = 500"
   ]
  },
  {
   "cell_type": "code",
   "execution_count": 10,
   "id": "b5ee88db",
   "metadata": {
    "ExecuteTime": {
     "end_time": "2022-05-24T08:02:43.617657Z",
     "start_time": "2022-05-24T08:02:43.602260Z"
    }
   },
   "outputs": [],
   "source": [
    "early_stop = EarlyStopping(monitor='val_loss', \n",
    "                           min_delta=1e-8,\n",
    "                           verbose=1,\n",
    "                           patience = 100,\n",
    "                           restore_best_weights=True,\n",
    "                           mode='min')"
   ]
  },
  {
   "cell_type": "code",
   "execution_count": 18,
   "id": "ebe4ebfe",
   "metadata": {
    "ExecuteTime": {
     "end_time": "2022-05-24T09:23:01.010317Z",
     "start_time": "2022-05-24T09:23:00.993314Z"
    }
   },
   "outputs": [],
   "source": [
    "def scheduler(epoch, lr):\n",
    "    if epoch < 10:\n",
    "        return lr\n",
    "    else:\n",
    "        return lr * tf.math.exp(-0.01)\n",
    "    \n",
    "lr_schd_cb = tf.keras.callbacks.LearningRateScheduler(scheduler)"
   ]
  },
  {
   "cell_type": "code",
   "execution_count": null,
   "id": "3f906f0b",
   "metadata": {},
   "outputs": [],
   "source": []
  },
  {
   "cell_type": "markdown",
   "id": "424010fc",
   "metadata": {
    "ExecuteTime": {
     "end_time": "2022-05-22T07:22:14.669568Z",
     "start_time": "2022-05-22T07:22:14.667567Z"
    }
   },
   "source": [
    "## Model 12 - 1"
   ]
  },
  {
   "cell_type": "code",
   "execution_count": 19,
   "id": "bb506ea4",
   "metadata": {
    "ExecuteTime": {
     "end_time": "2022-05-24T09:23:08.856136Z",
     "start_time": "2022-05-24T09:23:08.765116Z"
    },
    "scrolled": false
   },
   "outputs": [
    {
     "name": "stdout",
     "output_type": "stream",
     "text": [
      "Model: \"sequential_3\"\n",
      "_________________________________________________________________\n",
      " Layer (type)                Output Shape              Param #   \n",
      "=================================================================\n",
      " conv2d_16 (Conv2D)          (None, 225, 225, 16)      160       \n",
      "                                                                 \n",
      " max_pooling2d_12 (MaxPoolin  (None, 75, 75, 16)       0         \n",
      " g2D)                                                            \n",
      "                                                                 \n",
      " conv2d_17 (Conv2D)          (None, 73, 73, 64)        9280      \n",
      "                                                                 \n",
      " max_pooling2d_13 (MaxPoolin  (None, 36, 36, 64)       0         \n",
      " g2D)                                                            \n",
      "                                                                 \n",
      " conv2d_18 (Conv2D)          (None, 34, 34, 128)       73856     \n",
      "                                                                 \n",
      " max_pooling2d_14 (MaxPoolin  (None, 17, 17, 128)      0         \n",
      " g2D)                                                            \n",
      "                                                                 \n",
      " conv2d_19 (Conv2D)          (None, 15, 15, 256)       295168    \n",
      "                                                                 \n",
      " conv2d_20 (Conv2D)          (None, 13, 13, 256)       590080    \n",
      "                                                                 \n",
      " max_pooling2d_15 (MaxPoolin  (None, 6, 6, 256)        0         \n",
      " g2D)                                                            \n",
      "                                                                 \n",
      " conv2d_21 (Conv2D)          (None, 4, 4, 512)         1180160   \n",
      "                                                                 \n",
      " conv2d_22 (Conv2D)          (None, 2, 2, 512)         2359808   \n",
      "                                                                 \n",
      " max_pooling2d_16 (MaxPoolin  (None, 1, 1, 512)        0         \n",
      " g2D)                                                            \n",
      "                                                                 \n",
      " flatten_3 (Flatten)         (None, 512)               0         \n",
      "                                                                 \n",
      " dense_9 (Dense)             (None, 4096)              2101248   \n",
      "                                                                 \n",
      " dropout_6 (Dropout)         (None, 4096)              0         \n",
      "                                                                 \n",
      " dense_10 (Dense)            (None, 4096)              16781312  \n",
      "                                                                 \n",
      " dropout_7 (Dropout)         (None, 4096)              0         \n",
      "                                                                 \n",
      " dense_11 (Dense)            (None, 8)                 32776     \n",
      "                                                                 \n",
      "=================================================================\n",
      "Total params: 23,423,848\n",
      "Trainable params: 23,423,848\n",
      "Non-trainable params: 0\n",
      "_________________________________________________________________\n"
     ]
    }
   ],
   "source": [
    "model = models.Sequential()\n",
    "\n",
    "model.add(layers.Conv2D(16, 3, activation='relu',\n",
    "                        input_shape=(227, 227, 1)\n",
    "                        ))\n",
    "model.add(layers.MaxPooling2D(3, 3))\n",
    "\n",
    "model.add(layers.Conv2D(64, 3, activation='relu'))\n",
    "model.add(layers.MaxPooling2D(2,2))\n",
    "\n",
    "model.add(layers.Conv2D(128, 3, activation='relu'))\n",
    "model.add(layers.MaxPooling2D(2,2))\n",
    "\n",
    "model.add(layers.Conv2D(256, 3, activation='relu'))\n",
    "model.add(layers.Conv2D(256, 3, activation='relu'))\n",
    "model.add(layers.MaxPooling2D(2,2))\n",
    "\n",
    "model.add(layers.Conv2D(512, 3, activation='relu'))\n",
    "model.add(layers.Conv2D(512, 3, activation='relu'))\n",
    "model.add(layers.MaxPooling2D(2,2))\n",
    "\n",
    "\n",
    "model.add(layers.Flatten())\n",
    "model.add(layers.Dense(4096, activation='relu'))\n",
    "model.add(layers.Dropout(rate=0.5))\n",
    "model.add(layers.Dense(4096, activation='relu'))\n",
    "model.add(layers.Dropout(rate=0.5))\n",
    "\n",
    "\n",
    "model.add(layers.Dense(8, activation='softmax'))\n",
    "\n",
    "\n",
    "model.summary()"
   ]
  },
  {
   "cell_type": "code",
   "execution_count": 21,
   "id": "8eb7e223",
   "metadata": {
    "ExecuteTime": {
     "end_time": "2022-05-24T09:52:43.818967Z",
     "start_time": "2022-05-24T09:23:24.885440Z"
    },
    "scrolled": false
   },
   "outputs": [
    {
     "name": "stdout",
     "output_type": "stream",
     "text": [
      "Epoch 1/500\n",
      "100/100 [==============================] - 14s 136ms/step - loss: 0.8751 - accuracy: 0.8107 - precision_3: 0.8121 - recall_3: 0.7905 - val_loss: 0.8898 - val_accuracy: 0.7916 - val_precision_3: 0.7916 - val_recall_3: 0.7916 - lr: 1.0000e-04\n",
      "Epoch 2/500\n",
      "100/100 [==============================] - 13s 132ms/step - loss: 0.7905 - accuracy: 0.8141 - precision_3: 0.8180 - recall_3: 0.8118 - val_loss: 0.8454 - val_accuracy: 0.7690 - val_precision_3: 0.7898 - val_recall_3: 0.7387 - lr: 1.0000e-04\n",
      "Epoch 3/500\n",
      "100/100 [==============================] - 13s 130ms/step - loss: 0.7137 - accuracy: 0.8199 - precision_3: 0.8466 - recall_3: 0.7931 - val_loss: 0.8061 - val_accuracy: 0.7917 - val_precision_3: 0.8142 - val_recall_3: 0.7411 - lr: 1.0000e-04\n",
      "Epoch 4/500\n",
      "100/100 [==============================] - 13s 128ms/step - loss: 0.6274 - accuracy: 0.8317 - precision_3: 0.8706 - recall_3: 0.8031 - val_loss: 0.7938 - val_accuracy: 0.7838 - val_precision_3: 0.8163 - val_recall_3: 0.7369 - lr: 1.0000e-04\n",
      "Epoch 5/500\n",
      "100/100 [==============================] - 13s 129ms/step - loss: 0.6152 - accuracy: 0.8364 - precision_3: 0.8760 - recall_3: 0.8060 - val_loss: 0.7647 - val_accuracy: 0.8007 - val_precision_3: 0.8182 - val_recall_3: 0.7796 - lr: 1.0000e-04\n",
      "Epoch 6/500\n",
      "100/100 [==============================] - 13s 129ms/step - loss: 0.5932 - accuracy: 0.8412 - precision_3: 0.8773 - recall_3: 0.8084 - val_loss: 0.7316 - val_accuracy: 0.8115 - val_precision_3: 0.8220 - val_recall_3: 0.8003 - lr: 1.0000e-04\n",
      "Epoch 7/500\n",
      "100/100 [==============================] - 13s 129ms/step - loss: 0.5329 - accuracy: 0.8617 - precision_3: 0.8856 - recall_3: 0.8373 - val_loss: 0.6764 - val_accuracy: 0.8160 - val_precision_3: 0.8298 - val_recall_3: 0.8011 - lr: 1.0000e-04\n",
      "Epoch 8/500\n",
      "100/100 [==============================] - 13s 128ms/step - loss: 0.4984 - accuracy: 0.8671 - precision_3: 0.8833 - recall_3: 0.8519 - val_loss: 0.7224 - val_accuracy: 0.7846 - val_precision_3: 0.8143 - val_recall_3: 0.7375 - lr: 1.0000e-04\n",
      "Epoch 9/500\n",
      "100/100 [==============================] - 13s 129ms/step - loss: 0.4617 - accuracy: 0.8706 - precision_3: 0.8894 - recall_3: 0.8553 - val_loss: 0.6167 - val_accuracy: 0.8205 - val_precision_3: 0.8419 - val_recall_3: 0.7852 - lr: 1.0000e-04\n",
      "Epoch 10/500\n",
      "100/100 [==============================] - 13s 129ms/step - loss: 0.4306 - accuracy: 0.8827 - precision_3: 0.8984 - recall_3: 0.8676 - val_loss: 0.6930 - val_accuracy: 0.8231 - val_precision_3: 0.8290 - val_recall_3: 0.8177 - lr: 1.0000e-04\n",
      "Epoch 11/500\n",
      "100/100 [==============================] - 13s 128ms/step - loss: 0.4137 - accuracy: 0.8834 - precision_3: 0.8987 - recall_3: 0.8694 - val_loss: 0.6577 - val_accuracy: 0.8142 - val_precision_3: 0.8310 - val_recall_3: 0.7959 - lr: 9.9005e-05\n",
      "Epoch 12/500\n",
      "100/100 [==============================] - 13s 129ms/step - loss: 0.4062 - accuracy: 0.8808 - precision_3: 0.8968 - recall_3: 0.8665 - val_loss: 0.6610 - val_accuracy: 0.7989 - val_precision_3: 0.8199 - val_recall_3: 0.7723 - lr: 9.8020e-05\n",
      "Epoch 13/500\n",
      "100/100 [==============================] - 13s 130ms/step - loss: 0.3808 - accuracy: 0.8908 - precision_3: 0.9066 - recall_3: 0.8788 - val_loss: 0.5816 - val_accuracy: 0.8343 - val_precision_3: 0.8479 - val_recall_3: 0.8237 - lr: 9.7045e-05\n",
      "Epoch 14/500\n",
      "100/100 [==============================] - 13s 129ms/step - loss: 0.3722 - accuracy: 0.8921 - precision_3: 0.9079 - recall_3: 0.8816 - val_loss: 0.5663 - val_accuracy: 0.8328 - val_precision_3: 0.8583 - val_recall_3: 0.8111 - lr: 9.6079e-05\n",
      "Epoch 15/500\n",
      "100/100 [==============================] - 13s 129ms/step - loss: 0.3709 - accuracy: 0.8843 - precision_3: 0.9002 - recall_3: 0.8683 - val_loss: 0.5867 - val_accuracy: 0.8338 - val_precision_3: 0.8456 - val_recall_3: 0.8244 - lr: 9.5123e-05\n",
      "Epoch 16/500\n",
      "100/100 [==============================] - 13s 129ms/step - loss: 0.3535 - accuracy: 0.8896 - precision_3: 0.9057 - recall_3: 0.8749 - val_loss: 0.5589 - val_accuracy: 0.8169 - val_precision_3: 0.8507 - val_recall_3: 0.7820 - lr: 9.4176e-05\n",
      "Epoch 17/500\n",
      "100/100 [==============================] - 13s 129ms/step - loss: 0.3336 - accuracy: 0.8960 - precision_3: 0.9098 - recall_3: 0.8836 - val_loss: 0.5726 - val_accuracy: 0.8271 - val_precision_3: 0.8477 - val_recall_3: 0.8032 - lr: 9.3239e-05\n",
      "Epoch 18/500\n",
      "100/100 [==============================] - 13s 129ms/step - loss: 0.3108 - accuracy: 0.9043 - precision_3: 0.9149 - recall_3: 0.8903 - val_loss: 0.5300 - val_accuracy: 0.8316 - val_precision_3: 0.8459 - val_recall_3: 0.8173 - lr: 9.2312e-05\n",
      "Epoch 19/500\n",
      "100/100 [==============================] - 13s 130ms/step - loss: 0.3122 - accuracy: 0.9072 - precision_3: 0.9169 - recall_3: 0.8955 - val_loss: 0.5496 - val_accuracy: 0.8349 - val_precision_3: 0.8555 - val_recall_3: 0.8215 - lr: 9.1393e-05\n",
      "Epoch 20/500\n",
      "100/100 [==============================] - 13s 130ms/step - loss: 0.3051 - accuracy: 0.9079 - precision_3: 0.9173 - recall_3: 0.8976 - val_loss: 0.4900 - val_accuracy: 0.8528 - val_precision_3: 0.8663 - val_recall_3: 0.8432 - lr: 9.0484e-05\n",
      "Epoch 21/500\n",
      "100/100 [==============================] - 13s 129ms/step - loss: 0.2857 - accuracy: 0.9133 - precision_3: 0.9219 - recall_3: 0.9035 - val_loss: 0.5175 - val_accuracy: 0.8521 - val_precision_3: 0.8632 - val_recall_3: 0.8452 - lr: 8.9583e-05\n",
      "Epoch 22/500\n",
      "100/100 [==============================] - 13s 129ms/step - loss: 0.3167 - accuracy: 0.9051 - precision_3: 0.9152 - recall_3: 0.8922 - val_loss: 0.5144 - val_accuracy: 0.8494 - val_precision_3: 0.8677 - val_recall_3: 0.8312 - lr: 8.8692e-05\n",
      "Epoch 23/500\n",
      "100/100 [==============================] - 13s 129ms/step - loss: 0.2784 - accuracy: 0.9179 - precision_3: 0.9256 - recall_3: 0.9092 - val_loss: 0.5345 - val_accuracy: 0.8565 - val_precision_3: 0.8656 - val_recall_3: 0.8507 - lr: 8.7810e-05\n",
      "Epoch 24/500\n",
      "100/100 [==============================] - 13s 129ms/step - loss: 0.2490 - accuracy: 0.9255 - precision_3: 0.9331 - recall_3: 0.9187 - val_loss: 0.5121 - val_accuracy: 0.8528 - val_precision_3: 0.8642 - val_recall_3: 0.8463 - lr: 8.6936e-05\n",
      "Epoch 25/500\n",
      "100/100 [==============================] - 13s 129ms/step - loss: 0.2490 - accuracy: 0.9237 - precision_3: 0.9302 - recall_3: 0.9164 - val_loss: 0.5051 - val_accuracy: 0.8473 - val_precision_3: 0.8683 - val_recall_3: 0.8313 - lr: 8.6071e-05\n",
      "Epoch 26/500\n",
      "100/100 [==============================] - 13s 129ms/step - loss: 0.2202 - accuracy: 0.9345 - precision_3: 0.9406 - recall_3: 0.9289 - val_loss: 0.5531 - val_accuracy: 0.8564 - val_precision_3: 0.8697 - val_recall_3: 0.8492 - lr: 8.5214e-05\n",
      "Epoch 27/500\n",
      "100/100 [==============================] - 13s 129ms/step - loss: 0.2300 - accuracy: 0.9328 - precision_3: 0.9387 - recall_3: 0.9260 - val_loss: 0.5151 - val_accuracy: 0.8597 - val_precision_3: 0.8744 - val_recall_3: 0.8514 - lr: 8.4366e-05\n",
      "Epoch 28/500\n",
      "100/100 [==============================] - 13s 130ms/step - loss: 0.2327 - accuracy: 0.9307 - precision_3: 0.9367 - recall_3: 0.9267 - val_loss: 0.4864 - val_accuracy: 0.8413 - val_precision_3: 0.8569 - val_recall_3: 0.8294 - lr: 8.3527e-05\n",
      "Epoch 29/500\n",
      "100/100 [==============================] - 13s 129ms/step - loss: 0.2288 - accuracy: 0.9325 - precision_3: 0.9388 - recall_3: 0.9260 - val_loss: 0.5150 - val_accuracy: 0.8624 - val_precision_3: 0.8754 - val_recall_3: 0.8564 - lr: 8.2696e-05\n",
      "Epoch 30/500\n",
      "100/100 [==============================] - 13s 130ms/step - loss: 0.2028 - accuracy: 0.9397 - precision_3: 0.9437 - recall_3: 0.9341 - val_loss: 0.4757 - val_accuracy: 0.8588 - val_precision_3: 0.8691 - val_recall_3: 0.8533 - lr: 8.1873e-05\n",
      "Epoch 31/500\n",
      "100/100 [==============================] - 13s 130ms/step - loss: 0.1830 - accuracy: 0.9465 - precision_3: 0.9514 - recall_3: 0.9425 - val_loss: 0.4908 - val_accuracy: 0.8650 - val_precision_3: 0.8712 - val_recall_3: 0.8601 - lr: 8.1058e-05\n",
      "Epoch 32/500\n",
      "100/100 [==============================] - 13s 129ms/step - loss: 0.1998 - accuracy: 0.9408 - precision_3: 0.9454 - recall_3: 0.9359 - val_loss: 0.5128 - val_accuracy: 0.8549 - val_precision_3: 0.8680 - val_recall_3: 0.8458 - lr: 8.0252e-05\n",
      "Epoch 33/500\n"
     ]
    },
    {
     "name": "stdout",
     "output_type": "stream",
     "text": [
      "100/100 [==============================] - 13s 130ms/step - loss: 0.1726 - accuracy: 0.9489 - precision_3: 0.9533 - recall_3: 0.9451 - val_loss: 0.5352 - val_accuracy: 0.8562 - val_precision_3: 0.8654 - val_recall_3: 0.8505 - lr: 7.9453e-05\n",
      "Epoch 34/500\n",
      "100/100 [==============================] - 13s 129ms/step - loss: 0.1888 - accuracy: 0.9420 - precision_3: 0.9477 - recall_3: 0.9353 - val_loss: 0.5099 - val_accuracy: 0.8667 - val_precision_3: 0.8750 - val_recall_3: 0.8604 - lr: 7.8663e-05\n",
      "Epoch 35/500\n",
      "100/100 [==============================] - 13s 130ms/step - loss: 0.1713 - accuracy: 0.9461 - precision_3: 0.9507 - recall_3: 0.9401 - val_loss: 0.4916 - val_accuracy: 0.8720 - val_precision_3: 0.8802 - val_recall_3: 0.8682 - lr: 7.7880e-05\n",
      "Epoch 36/500\n",
      "100/100 [==============================] - 13s 130ms/step - loss: 0.1602 - accuracy: 0.9529 - precision_3: 0.9574 - recall_3: 0.9491 - val_loss: 0.4632 - val_accuracy: 0.8614 - val_precision_3: 0.8689 - val_recall_3: 0.8562 - lr: 7.7105e-05\n",
      "Epoch 37/500\n",
      "100/100 [==============================] - 13s 129ms/step - loss: 0.1565 - accuracy: 0.9528 - precision_3: 0.9567 - recall_3: 0.9493 - val_loss: 0.5726 - val_accuracy: 0.8710 - val_precision_3: 0.8746 - val_recall_3: 0.8675 - lr: 7.6338e-05\n",
      "Epoch 38/500\n",
      "100/100 [==============================] - 13s 129ms/step - loss: 0.1439 - accuracy: 0.9552 - precision_3: 0.9588 - recall_3: 0.9518 - val_loss: 0.5139 - val_accuracy: 0.8557 - val_precision_3: 0.8632 - val_recall_3: 0.8512 - lr: 7.5578e-05\n",
      "Epoch 39/500\n",
      "100/100 [==============================] - 13s 129ms/step - loss: 0.1947 - accuracy: 0.9412 - precision_3: 0.9463 - recall_3: 0.9367 - val_loss: 0.5348 - val_accuracy: 0.8629 - val_precision_3: 0.8683 - val_recall_3: 0.8602 - lr: 7.4826e-05\n",
      "Epoch 40/500\n",
      "100/100 [==============================] - 13s 128ms/step - loss: 0.1584 - accuracy: 0.9503 - precision_3: 0.9547 - recall_3: 0.9471 - val_loss: 0.5122 - val_accuracy: 0.8609 - val_precision_3: 0.8685 - val_recall_3: 0.8558 - lr: 7.4082e-05\n",
      "Epoch 41/500\n",
      "100/100 [==============================] - 13s 129ms/step - loss: 0.1430 - accuracy: 0.9571 - precision_3: 0.9605 - recall_3: 0.9536 - val_loss: 0.5269 - val_accuracy: 0.8540 - val_precision_3: 0.8626 - val_recall_3: 0.8492 - lr: 7.3345e-05\n",
      "Epoch 42/500\n",
      "100/100 [==============================] - 13s 129ms/step - loss: 0.1411 - accuracy: 0.9572 - precision_3: 0.9602 - recall_3: 0.9543 - val_loss: 0.5296 - val_accuracy: 0.8657 - val_precision_3: 0.8710 - val_recall_3: 0.8627 - lr: 7.2615e-05\n",
      "Epoch 43/500\n",
      "100/100 [==============================] - 13s 129ms/step - loss: 0.1344 - accuracy: 0.9592 - precision_3: 0.9622 - recall_3: 0.9549 - val_loss: 0.5325 - val_accuracy: 0.8625 - val_precision_3: 0.8684 - val_recall_3: 0.8590 - lr: 7.1892e-05\n",
      "Epoch 44/500\n",
      "100/100 [==============================] - 13s 128ms/step - loss: 0.1214 - accuracy: 0.9635 - precision_3: 0.9664 - recall_3: 0.9612 - val_loss: 0.5996 - val_accuracy: 0.8301 - val_precision_3: 0.8396 - val_recall_3: 0.8223 - lr: 7.1177e-05\n",
      "Epoch 45/500\n",
      "100/100 [==============================] - 13s 129ms/step - loss: 0.1095 - accuracy: 0.9676 - precision_3: 0.9700 - recall_3: 0.9647 - val_loss: 0.5108 - val_accuracy: 0.8665 - val_precision_3: 0.8717 - val_recall_3: 0.8638 - lr: 7.0469e-05\n",
      "Epoch 46/500\n",
      "100/100 [==============================] - 13s 129ms/step - loss: 0.1119 - accuracy: 0.9659 - precision_3: 0.9693 - recall_3: 0.9643 - val_loss: 0.5057 - val_accuracy: 0.8667 - val_precision_3: 0.8735 - val_recall_3: 0.8619 - lr: 6.9768e-05\n",
      "Epoch 47/500\n",
      "100/100 [==============================] - 13s 129ms/step - loss: 0.1039 - accuracy: 0.9687 - precision_3: 0.9716 - recall_3: 0.9656 - val_loss: 0.4963 - val_accuracy: 0.8660 - val_precision_3: 0.8729 - val_recall_3: 0.8620 - lr: 6.9073e-05\n",
      "Epoch 48/500\n",
      "100/100 [==============================] - 13s 129ms/step - loss: 0.0941 - accuracy: 0.9733 - precision_3: 0.9746 - recall_3: 0.9715 - val_loss: 0.5301 - val_accuracy: 0.8693 - val_precision_3: 0.8736 - val_recall_3: 0.8666 - lr: 6.8386e-05\n",
      "Epoch 49/500\n",
      "100/100 [==============================] - 13s 129ms/step - loss: 0.1178 - accuracy: 0.9641 - precision_3: 0.9656 - recall_3: 0.9615 - val_loss: 0.5323 - val_accuracy: 0.8510 - val_precision_3: 0.8601 - val_recall_3: 0.8435 - lr: 6.7706e-05\n",
      "Epoch 50/500\n",
      "100/100 [==============================] - 13s 129ms/step - loss: 0.0830 - accuracy: 0.9745 - precision_3: 0.9764 - recall_3: 0.9729 - val_loss: 0.5714 - val_accuracy: 0.8614 - val_precision_3: 0.8660 - val_recall_3: 0.8574 - lr: 6.7032e-05\n",
      "Epoch 51/500\n",
      "100/100 [==============================] - 13s 129ms/step - loss: 0.0976 - accuracy: 0.9717 - precision_3: 0.9731 - recall_3: 0.9701 - val_loss: 0.5340 - val_accuracy: 0.8658 - val_precision_3: 0.8709 - val_recall_3: 0.8609 - lr: 6.6365e-05\n",
      "Epoch 52/500\n",
      "100/100 [==============================] - 13s 128ms/step - loss: 0.0940 - accuracy: 0.9713 - precision_3: 0.9724 - recall_3: 0.9695 - val_loss: 0.5723 - val_accuracy: 0.8652 - val_precision_3: 0.8691 - val_recall_3: 0.8621 - lr: 6.5705e-05\n",
      "Epoch 53/500\n",
      "100/100 [==============================] - 13s 128ms/step - loss: 0.0908 - accuracy: 0.9724 - precision_3: 0.9733 - recall_3: 0.9715 - val_loss: 0.5467 - val_accuracy: 0.8732 - val_precision_3: 0.8783 - val_recall_3: 0.8711 - lr: 6.5051e-05\n",
      "Epoch 54/500\n",
      "100/100 [==============================] - 13s 128ms/step - loss: 0.0725 - accuracy: 0.9769 - precision_3: 0.9782 - recall_3: 0.9761 - val_loss: 0.5673 - val_accuracy: 0.8554 - val_precision_3: 0.8614 - val_recall_3: 0.8511 - lr: 6.4404e-05\n",
      "Epoch 55/500\n",
      "100/100 [==============================] - 13s 129ms/step - loss: 0.0937 - accuracy: 0.9696 - precision_3: 0.9716 - recall_3: 0.9681 - val_loss: 0.5232 - val_accuracy: 0.8734 - val_precision_3: 0.8789 - val_recall_3: 0.8696 - lr: 6.3763e-05\n",
      "Epoch 56/500\n",
      "100/100 [==============================] - 13s 129ms/step - loss: 0.0774 - accuracy: 0.9763 - precision_3: 0.9777 - recall_3: 0.9744 - val_loss: 0.5579 - val_accuracy: 0.8644 - val_precision_3: 0.8710 - val_recall_3: 0.8608 - lr: 6.3128e-05\n",
      "Epoch 57/500\n",
      "100/100 [==============================] - 13s 129ms/step - loss: 0.0625 - accuracy: 0.9807 - precision_3: 0.9826 - recall_3: 0.9797 - val_loss: 0.6286 - val_accuracy: 0.8488 - val_precision_3: 0.8536 - val_recall_3: 0.8449 - lr: 6.2500e-05\n",
      "Epoch 58/500\n",
      "100/100 [==============================] - 13s 129ms/step - loss: 0.0715 - accuracy: 0.9770 - precision_3: 0.9779 - recall_3: 0.9758 - val_loss: 0.5319 - val_accuracy: 0.8736 - val_precision_3: 0.8794 - val_recall_3: 0.8705 - lr: 6.1878e-05\n",
      "Epoch 59/500\n",
      "100/100 [==============================] - 13s 130ms/step - loss: 0.0658 - accuracy: 0.9788 - precision_3: 0.9796 - recall_3: 0.9773 - val_loss: 0.5657 - val_accuracy: 0.8710 - val_precision_3: 0.8753 - val_recall_3: 0.8679 - lr: 6.1263e-05\n",
      "Epoch 60/500\n",
      "100/100 [==============================] - 13s 129ms/step - loss: 0.0601 - accuracy: 0.9810 - precision_3: 0.9817 - recall_3: 0.9802 - val_loss: 0.6075 - val_accuracy: 0.8626 - val_precision_3: 0.8667 - val_recall_3: 0.8588 - lr: 6.0653e-05\n",
      "Epoch 61/500\n",
      "100/100 [==============================] - 13s 129ms/step - loss: 0.0572 - accuracy: 0.9825 - precision_3: 0.9832 - recall_3: 0.9819 - val_loss: 0.6901 - val_accuracy: 0.8577 - val_precision_3: 0.8617 - val_recall_3: 0.8547 - lr: 6.0050e-05\n",
      "Epoch 62/500\n",
      "100/100 [==============================] - 13s 128ms/step - loss: 0.0521 - accuracy: 0.9826 - precision_3: 0.9833 - recall_3: 0.9821 - val_loss: 0.5992 - val_accuracy: 0.8729 - val_precision_3: 0.8760 - val_recall_3: 0.8705 - lr: 5.9452e-05\n",
      "Epoch 63/500\n",
      "100/100 [==============================] - 13s 129ms/step - loss: 0.0447 - accuracy: 0.9863 - precision_3: 0.9867 - recall_3: 0.9855 - val_loss: 0.6074 - val_accuracy: 0.8641 - val_precision_3: 0.8706 - val_recall_3: 0.8602 - lr: 5.8860e-05\n",
      "Epoch 64/500\n",
      "100/100 [==============================] - 13s 128ms/step - loss: 0.0451 - accuracy: 0.9851 - precision_3: 0.9861 - recall_3: 0.9845 - val_loss: 0.6447 - val_accuracy: 0.8709 - val_precision_3: 0.8742 - val_recall_3: 0.8691 - lr: 5.8275e-05\n",
      "Epoch 65/500\n"
     ]
    },
    {
     "name": "stdout",
     "output_type": "stream",
     "text": [
      "100/100 [==============================] - 13s 129ms/step - loss: 0.0357 - accuracy: 0.9887 - precision_3: 0.9889 - recall_3: 0.9883 - val_loss: 0.7895 - val_accuracy: 0.8676 - val_precision_3: 0.8702 - val_recall_3: 0.8663 - lr: 5.7695e-05\n",
      "Epoch 66/500\n",
      "100/100 [==============================] - 13s 129ms/step - loss: 0.0536 - accuracy: 0.9835 - precision_3: 0.9846 - recall_3: 0.9828 - val_loss: 0.7292 - val_accuracy: 0.8643 - val_precision_3: 0.8670 - val_recall_3: 0.8624 - lr: 5.7121e-05\n",
      "Epoch 67/500\n",
      "100/100 [==============================] - 13s 130ms/step - loss: 0.0407 - accuracy: 0.9887 - precision_3: 0.9889 - recall_3: 0.9881 - val_loss: 0.6360 - val_accuracy: 0.8594 - val_precision_3: 0.8644 - val_recall_3: 0.8565 - lr: 5.6553e-05\n",
      "Epoch 68/500\n",
      "100/100 [==============================] - 13s 129ms/step - loss: 0.0331 - accuracy: 0.9900 - precision_3: 0.9905 - recall_3: 0.9895 - val_loss: 0.6505 - val_accuracy: 0.8798 - val_precision_3: 0.8823 - val_recall_3: 0.8785 - lr: 5.5990e-05\n",
      "Epoch 69/500\n",
      "100/100 [==============================] - 13s 129ms/step - loss: 0.0438 - accuracy: 0.9863 - precision_3: 0.9872 - recall_3: 0.9856 - val_loss: 0.7359 - val_accuracy: 0.8737 - val_precision_3: 0.8763 - val_recall_3: 0.8728 - lr: 5.5433e-05\n",
      "Epoch 70/500\n",
      "100/100 [==============================] - 13s 129ms/step - loss: 0.0345 - accuracy: 0.9893 - precision_3: 0.9900 - recall_3: 0.9885 - val_loss: 0.6851 - val_accuracy: 0.8703 - val_precision_3: 0.8734 - val_recall_3: 0.8682 - lr: 5.4881e-05\n",
      "Epoch 71/500\n",
      "100/100 [==============================] - 13s 131ms/step - loss: 0.0352 - accuracy: 0.9889 - precision_3: 0.9892 - recall_3: 0.9885 - val_loss: 0.7468 - val_accuracy: 0.8678 - val_precision_3: 0.8705 - val_recall_3: 0.8657 - lr: 5.4335e-05\n",
      "Epoch 72/500\n",
      "100/100 [==============================] - 13s 129ms/step - loss: 0.0320 - accuracy: 0.9897 - precision_3: 0.9901 - recall_3: 0.9892 - val_loss: 0.7258 - val_accuracy: 0.8379 - val_precision_3: 0.8425 - val_recall_3: 0.8344 - lr: 5.3794e-05\n",
      "Epoch 73/500\n",
      "100/100 [==============================] - 13s 129ms/step - loss: 0.0336 - accuracy: 0.9897 - precision_3: 0.9903 - recall_3: 0.9889 - val_loss: 0.7737 - val_accuracy: 0.8794 - val_precision_3: 0.8816 - val_recall_3: 0.8784 - lr: 5.3259e-05\n",
      "Epoch 74/500\n",
      "100/100 [==============================] - 13s 130ms/step - loss: 0.0255 - accuracy: 0.9919 - precision_3: 0.9927 - recall_3: 0.9919 - val_loss: 0.7507 - val_accuracy: 0.8737 - val_precision_3: 0.8763 - val_recall_3: 0.8724 - lr: 5.2729e-05\n",
      "Epoch 75/500\n",
      "100/100 [==============================] - 13s 129ms/step - loss: 0.0276 - accuracy: 0.9913 - precision_3: 0.9916 - recall_3: 0.9912 - val_loss: 0.7095 - val_accuracy: 0.8727 - val_precision_3: 0.8751 - val_recall_3: 0.8712 - lr: 5.2205e-05\n",
      "Epoch 76/500\n",
      "100/100 [==============================] - 13s 129ms/step - loss: 0.0320 - accuracy: 0.9905 - precision_3: 0.9907 - recall_3: 0.9899 - val_loss: 0.6983 - val_accuracy: 0.8606 - val_precision_3: 0.8648 - val_recall_3: 0.8572 - lr: 5.1685e-05\n",
      "Epoch 77/500\n",
      "100/100 [==============================] - 13s 129ms/step - loss: 0.0211 - accuracy: 0.9938 - precision_3: 0.9941 - recall_3: 0.9937 - val_loss: 0.7689 - val_accuracy: 0.8713 - val_precision_3: 0.8740 - val_recall_3: 0.8697 - lr: 5.1171e-05\n",
      "Epoch 78/500\n",
      "100/100 [==============================] - 13s 129ms/step - loss: 0.0261 - accuracy: 0.9920 - precision_3: 0.9929 - recall_3: 0.9917 - val_loss: 0.6901 - val_accuracy: 0.8693 - val_precision_3: 0.8731 - val_recall_3: 0.8666 - lr: 5.0662e-05\n",
      "Epoch 79/500\n",
      "100/100 [==============================] - 13s 130ms/step - loss: 0.0207 - accuracy: 0.9939 - precision_3: 0.9943 - recall_3: 0.9937 - val_loss: 0.7438 - val_accuracy: 0.8796 - val_precision_3: 0.8815 - val_recall_3: 0.8783 - lr: 5.0158e-05\n",
      "Epoch 80/500\n",
      "100/100 [==============================] - 13s 129ms/step - loss: 0.0240 - accuracy: 0.9928 - precision_3: 0.9932 - recall_3: 0.9927 - val_loss: 0.8386 - val_accuracy: 0.8732 - val_precision_3: 0.8752 - val_recall_3: 0.8720 - lr: 4.9659e-05\n",
      "Epoch 81/500\n",
      "100/100 [==============================] - 13s 129ms/step - loss: 0.0210 - accuracy: 0.9935 - precision_3: 0.9935 - recall_3: 0.9933 - val_loss: 0.7834 - val_accuracy: 0.8741 - val_precision_3: 0.8760 - val_recall_3: 0.8722 - lr: 4.9164e-05\n",
      "Epoch 82/500\n",
      "100/100 [==============================] - 13s 129ms/step - loss: 0.0196 - accuracy: 0.9941 - precision_3: 0.9941 - recall_3: 0.9935 - val_loss: 0.7777 - val_accuracy: 0.8734 - val_precision_3: 0.8757 - val_recall_3: 0.8720 - lr: 4.8675e-05\n",
      "Epoch 83/500\n",
      "100/100 [==============================] - 13s 129ms/step - loss: 0.0300 - accuracy: 0.9904 - precision_3: 0.9904 - recall_3: 0.9900 - val_loss: 0.8486 - val_accuracy: 0.8763 - val_precision_3: 0.8780 - val_recall_3: 0.8751 - lr: 4.8191e-05\n",
      "Epoch 84/500\n",
      "100/100 [==============================] - 13s 130ms/step - loss: 0.0189 - accuracy: 0.9947 - precision_3: 0.9947 - recall_3: 0.9945 - val_loss: 0.7630 - val_accuracy: 0.8763 - val_precision_3: 0.8787 - val_recall_3: 0.8748 - lr: 4.7711e-05\n",
      "Epoch 85/500\n",
      "100/100 [==============================] - 13s 129ms/step - loss: 0.0177 - accuracy: 0.9941 - precision_3: 0.9945 - recall_3: 0.9935 - val_loss: 0.7887 - val_accuracy: 0.8695 - val_precision_3: 0.8727 - val_recall_3: 0.8676 - lr: 4.7237e-05\n",
      "Epoch 86/500\n",
      "100/100 [==============================] - 13s 129ms/step - loss: 0.0098 - accuracy: 0.9972 - precision_3: 0.9973 - recall_3: 0.9969 - val_loss: 0.8130 - val_accuracy: 0.8672 - val_precision_3: 0.8692 - val_recall_3: 0.8660 - lr: 4.6767e-05\n",
      "Epoch 87/500\n",
      "100/100 [==============================] - 13s 129ms/step - loss: 0.0209 - accuracy: 0.9931 - precision_3: 0.9933 - recall_3: 0.9929 - val_loss: 0.8890 - val_accuracy: 0.8670 - val_precision_3: 0.8689 - val_recall_3: 0.8660 - lr: 4.6301e-05\n",
      "Epoch 88/500\n",
      "100/100 [==============================] - 13s 129ms/step - loss: 0.0227 - accuracy: 0.9923 - precision_3: 0.9927 - recall_3: 0.9923 - val_loss: 0.9034 - val_accuracy: 0.8590 - val_precision_3: 0.8626 - val_recall_3: 0.8564 - lr: 4.5841e-05\n",
      "Epoch 89/500\n",
      "100/100 [==============================] - 13s 129ms/step - loss: 0.0142 - accuracy: 0.9953 - precision_3: 0.9957 - recall_3: 0.9949 - val_loss: 0.8497 - val_accuracy: 0.8711 - val_precision_3: 0.8732 - val_recall_3: 0.8699 - lr: 4.5384e-05\n",
      "Epoch 90/500\n",
      "100/100 [==============================] - 13s 129ms/step - loss: 0.0415 - accuracy: 0.9872 - precision_3: 0.9879 - recall_3: 0.9867 - val_loss: 0.8057 - val_accuracy: 0.8634 - val_precision_3: 0.8659 - val_recall_3: 0.8622 - lr: 4.4933e-05\n",
      "Epoch 91/500\n",
      "100/100 [==============================] - 13s 130ms/step - loss: 0.0154 - accuracy: 0.9960 - precision_3: 0.9963 - recall_3: 0.9957 - val_loss: 0.8229 - val_accuracy: 0.8762 - val_precision_3: 0.8781 - val_recall_3: 0.8751 - lr: 4.4486e-05\n",
      "Epoch 92/500\n",
      "100/100 [==============================] - 13s 129ms/step - loss: 0.0142 - accuracy: 0.9961 - precision_3: 0.9963 - recall_3: 0.9960 - val_loss: 0.7969 - val_accuracy: 0.8744 - val_precision_3: 0.8758 - val_recall_3: 0.8727 - lr: 4.4043e-05\n",
      "Epoch 93/500\n",
      "100/100 [==============================] - 13s 129ms/step - loss: 0.0137 - accuracy: 0.9959 - precision_3: 0.9960 - recall_3: 0.9956 - val_loss: 0.8701 - val_accuracy: 0.8786 - val_precision_3: 0.8800 - val_recall_3: 0.8780 - lr: 4.3605e-05\n",
      "Epoch 94/500\n",
      "100/100 [==============================] - 13s 130ms/step - loss: 0.0131 - accuracy: 0.9961 - precision_3: 0.9963 - recall_3: 0.9960 - val_loss: 0.8166 - val_accuracy: 0.8799 - val_precision_3: 0.8817 - val_recall_3: 0.8790 - lr: 4.3171e-05\n",
      "Epoch 95/500\n",
      "100/100 [==============================] - 13s 129ms/step - loss: 0.0100 - accuracy: 0.9979 - precision_3: 0.9979 - recall_3: 0.9979 - val_loss: 0.8096 - val_accuracy: 0.8791 - val_precision_3: 0.8809 - val_recall_3: 0.8780 - lr: 4.2741e-05\n",
      "Epoch 96/500\n",
      "100/100 [==============================] - 13s 129ms/step - loss: 0.0136 - accuracy: 0.9955 - precision_3: 0.9955 - recall_3: 0.9955 - val_loss: 0.8169 - val_accuracy: 0.8665 - val_precision_3: 0.8691 - val_recall_3: 0.8645 - lr: 4.2316e-05\n",
      "Epoch 97/500\n"
     ]
    },
    {
     "name": "stdout",
     "output_type": "stream",
     "text": [
      "100/100 [==============================] - 13s 129ms/step - loss: 0.0089 - accuracy: 0.9972 - precision_3: 0.9973 - recall_3: 0.9972 - val_loss: 0.8447 - val_accuracy: 0.8688 - val_precision_3: 0.8711 - val_recall_3: 0.8675 - lr: 4.1895e-05\n",
      "Epoch 98/500\n",
      "100/100 [==============================] - 13s 129ms/step - loss: 0.0089 - accuracy: 0.9969 - precision_3: 0.9969 - recall_3: 0.9969 - val_loss: 0.8274 - val_accuracy: 0.8727 - val_precision_3: 0.8744 - val_recall_3: 0.8713 - lr: 4.1478e-05\n",
      "Epoch 99/500\n",
      "100/100 [==============================] - 13s 129ms/step - loss: 0.0093 - accuracy: 0.9971 - precision_3: 0.9971 - recall_3: 0.9971 - val_loss: 0.9119 - val_accuracy: 0.8784 - val_precision_3: 0.8796 - val_recall_3: 0.8776 - lr: 4.1066e-05\n",
      "Epoch 100/500\n",
      "100/100 [==============================] - 13s 129ms/step - loss: 0.0157 - accuracy: 0.9952 - precision_3: 0.9952 - recall_3: 0.9952 - val_loss: 0.9522 - val_accuracy: 0.8735 - val_precision_3: 0.8754 - val_recall_3: 0.8725 - lr: 4.0657e-05\n",
      "Epoch 101/500\n",
      "100/100 [==============================] - 13s 128ms/step - loss: 0.0110 - accuracy: 0.9963 - precision_3: 0.9967 - recall_3: 0.9961 - val_loss: 0.8990 - val_accuracy: 0.8780 - val_precision_3: 0.8794 - val_recall_3: 0.8768 - lr: 4.0252e-05\n",
      "Epoch 102/500\n",
      "100/100 [==============================] - 13s 129ms/step - loss: 0.0068 - accuracy: 0.9981 - precision_3: 0.9983 - recall_3: 0.9981 - val_loss: 0.8819 - val_accuracy: 0.8689 - val_precision_3: 0.8712 - val_recall_3: 0.8668 - lr: 3.9852e-05\n",
      "Epoch 103/500\n",
      "100/100 [==============================] - 13s 129ms/step - loss: 0.0152 - accuracy: 0.9952 - precision_3: 0.9952 - recall_3: 0.9952 - val_loss: 1.0704 - val_accuracy: 0.8677 - val_precision_3: 0.8693 - val_recall_3: 0.8670 - lr: 3.9455e-05\n",
      "Epoch 104/500\n",
      "100/100 [==============================] - 13s 129ms/step - loss: 0.0277 - accuracy: 0.9925 - precision_3: 0.9928 - recall_3: 0.9923 - val_loss: 0.8790 - val_accuracy: 0.8738 - val_precision_3: 0.8756 - val_recall_3: 0.8729 - lr: 3.9063e-05\n",
      "Epoch 105/500\n",
      "100/100 [==============================] - 13s 129ms/step - loss: 0.0115 - accuracy: 0.9956 - precision_3: 0.9959 - recall_3: 0.9956 - val_loss: 0.8127 - val_accuracy: 0.8734 - val_precision_3: 0.8760 - val_recall_3: 0.8720 - lr: 3.8674e-05\n",
      "Epoch 106/500\n",
      "100/100 [==============================] - 13s 129ms/step - loss: 0.0041 - accuracy: 0.9991 - precision_3: 0.9991 - recall_3: 0.9991 - val_loss: 0.8190 - val_accuracy: 0.8777 - val_precision_3: 0.8800 - val_recall_3: 0.8763 - lr: 3.8289e-05\n",
      "Epoch 107/500\n",
      "100/100 [==============================] - 13s 129ms/step - loss: 0.0045 - accuracy: 0.9992 - precision_3: 0.9992 - recall_3: 0.9991 - val_loss: 0.9383 - val_accuracy: 0.8787 - val_precision_3: 0.8804 - val_recall_3: 0.8780 - lr: 3.7908e-05\n",
      "Epoch 108/500\n",
      "100/100 [==============================] - 13s 128ms/step - loss: 0.0047 - accuracy: 0.9987 - precision_3: 0.9988 - recall_3: 0.9987 - val_loss: 0.8868 - val_accuracy: 0.8792 - val_precision_3: 0.8806 - val_recall_3: 0.8780 - lr: 3.7531e-05\n",
      "Epoch 109/500\n",
      "100/100 [==============================] - 13s 129ms/step - loss: 0.0052 - accuracy: 0.9980 - precision_3: 0.9981 - recall_3: 0.9980 - val_loss: 0.9515 - val_accuracy: 0.8745 - val_precision_3: 0.8761 - val_recall_3: 0.8734 - lr: 3.7158e-05\n",
      "Epoch 110/500\n",
      "100/100 [==============================] - 13s 128ms/step - loss: 0.0073 - accuracy: 0.9975 - precision_3: 0.9976 - recall_3: 0.9975 - val_loss: 0.9552 - val_accuracy: 0.8772 - val_precision_3: 0.8781 - val_recall_3: 0.8763 - lr: 3.6788e-05\n",
      "Epoch 111/500\n",
      "100/100 [==============================] - 13s 128ms/step - loss: 0.0044 - accuracy: 0.9991 - precision_3: 0.9991 - recall_3: 0.9989 - val_loss: 0.9495 - val_accuracy: 0.8760 - val_precision_3: 0.8778 - val_recall_3: 0.8747 - lr: 3.6422e-05\n",
      "Epoch 112/500\n",
      "100/100 [==============================] - 13s 128ms/step - loss: 0.0017 - accuracy: 0.9997 - precision_3: 0.9997 - recall_3: 0.9997 - val_loss: 0.9279 - val_accuracy: 0.8792 - val_precision_3: 0.8806 - val_recall_3: 0.8780 - lr: 3.6059e-05\n",
      "Epoch 113/500\n",
      "100/100 [==============================] - 13s 128ms/step - loss: 0.0017 - accuracy: 0.9996 - precision_3: 0.9996 - recall_3: 0.9996 - val_loss: 1.0858 - val_accuracy: 0.8821 - val_precision_3: 0.8830 - val_recall_3: 0.8818 - lr: 3.5701e-05\n",
      "Epoch 114/500\n",
      "100/100 [==============================] - 13s 128ms/step - loss: 0.0065 - accuracy: 0.9979 - precision_3: 0.9980 - recall_3: 0.9977 - val_loss: 0.9153 - val_accuracy: 0.8719 - val_precision_3: 0.8736 - val_recall_3: 0.8707 - lr: 3.5345e-05\n",
      "Epoch 115/500\n",
      "100/100 [==============================] - 13s 129ms/step - loss: 0.0126 - accuracy: 0.9949 - precision_3: 0.9951 - recall_3: 0.9948 - val_loss: 0.9971 - val_accuracy: 0.8792 - val_precision_3: 0.8810 - val_recall_3: 0.8783 - lr: 3.4994e-05\n",
      "Epoch 116/500\n",
      "100/100 [==============================] - 13s 128ms/step - loss: 0.0155 - accuracy: 0.9960 - precision_3: 0.9960 - recall_3: 0.9959 - val_loss: 0.9064 - val_accuracy: 0.8698 - val_precision_3: 0.8717 - val_recall_3: 0.8682 - lr: 3.4646e-05\n",
      "Epoch 117/500\n",
      "100/100 [==============================] - 13s 129ms/step - loss: 0.0114 - accuracy: 0.9961 - precision_3: 0.9965 - recall_3: 0.9960 - val_loss: 1.0070 - val_accuracy: 0.8758 - val_precision_3: 0.8775 - val_recall_3: 0.8749 - lr: 3.4301e-05\n",
      "Epoch 118/500\n",
      "100/100 [==============================] - 13s 128ms/step - loss: 0.0097 - accuracy: 0.9974 - precision_3: 0.9976 - recall_3: 0.9974 - val_loss: 0.9140 - val_accuracy: 0.8760 - val_precision_3: 0.8771 - val_recall_3: 0.8745 - lr: 3.3960e-05\n",
      "Epoch 119/500\n",
      "100/100 [==============================] - 13s 129ms/step - loss: 0.0056 - accuracy: 0.9985 - precision_3: 0.9985 - recall_3: 0.9985 - val_loss: 1.0133 - val_accuracy: 0.8803 - val_precision_3: 0.8816 - val_recall_3: 0.8796 - lr: 3.3622e-05\n",
      "Epoch 120/500\n",
      "100/100 [==============================] - 13s 128ms/step - loss: 0.0043 - accuracy: 0.9989 - precision_3: 0.9989 - recall_3: 0.9989 - val_loss: 0.9692 - val_accuracy: 0.8751 - val_precision_3: 0.8768 - val_recall_3: 0.8742 - lr: 3.3287e-05\n",
      "Epoch 121/500\n",
      "100/100 [==============================] - 13s 128ms/step - loss: 0.0033 - accuracy: 0.9991 - precision_3: 0.9991 - recall_3: 0.9989 - val_loss: 0.9364 - val_accuracy: 0.8780 - val_precision_3: 0.8799 - val_recall_3: 0.8772 - lr: 3.2956e-05\n",
      "Epoch 122/500\n",
      "100/100 [==============================] - 13s 128ms/step - loss: 0.0022 - accuracy: 0.9995 - precision_3: 0.9995 - recall_3: 0.9995 - val_loss: 0.9974 - val_accuracy: 0.8814 - val_precision_3: 0.8828 - val_recall_3: 0.8806 - lr: 3.2628e-05\n",
      "Epoch 123/500\n",
      "100/100 [==============================] - 13s 132ms/step - loss: 0.0028 - accuracy: 0.9992 - precision_3: 0.9992 - recall_3: 0.9992 - val_loss: 1.0706 - val_accuracy: 0.8809 - val_precision_3: 0.8822 - val_recall_3: 0.8806 - lr: 3.2303e-05\n",
      "Epoch 124/500\n",
      "100/100 [==============================] - 13s 134ms/step - loss: 0.0063 - accuracy: 0.9980 - precision_3: 0.9980 - recall_3: 0.9980 - val_loss: 0.9310 - val_accuracy: 0.8708 - val_precision_3: 0.8734 - val_recall_3: 0.8693 - lr: 3.1982e-05\n",
      "Epoch 125/500\n",
      "100/100 [==============================] - 13s 134ms/step - loss: 0.0039 - accuracy: 0.9988 - precision_3: 0.9988 - recall_3: 0.9988 - val_loss: 0.9630 - val_accuracy: 0.8742 - val_precision_3: 0.8763 - val_recall_3: 0.8732 - lr: 3.1664e-05\n",
      "Epoch 126/500\n",
      "100/100 [==============================] - 14s 138ms/step - loss: 0.0049 - accuracy: 0.9987 - precision_3: 0.9987 - recall_3: 0.9987 - val_loss: 0.9661 - val_accuracy: 0.8799 - val_precision_3: 0.8813 - val_recall_3: 0.8787 - lr: 3.1349e-05\n",
      "Epoch 127/500\n",
      "100/100 [==============================] - 13s 133ms/step - loss: 0.0028 - accuracy: 0.9993 - precision_3: 0.9995 - recall_3: 0.9993 - val_loss: 1.1055 - val_accuracy: 0.8808 - val_precision_3: 0.8815 - val_recall_3: 0.8799 - lr: 3.1037e-05\n",
      "Epoch 128/500\n",
      "100/100 [==============================] - 13s 131ms/step - loss: 0.0110 - accuracy: 0.9960 - precision_3: 0.9961 - recall_3: 0.9957 - val_loss: 1.0755 - val_accuracy: 0.8662 - val_precision_3: 0.8678 - val_recall_3: 0.8655 - lr: 3.0728e-05\n",
      "Epoch 129/500\n"
     ]
    },
    {
     "name": "stdout",
     "output_type": "stream",
     "text": [
      "100/100 [==============================] - 13s 130ms/step - loss: 0.0156 - accuracy: 0.9956 - precision_3: 0.9956 - recall_3: 0.9956 - val_loss: 1.0753 - val_accuracy: 0.8713 - val_precision_3: 0.8730 - val_recall_3: 0.8703 - lr: 3.0422e-05\n",
      "Epoch 130/500\n",
      "100/100 [==============================] - 13s 131ms/step - loss: 0.0075 - accuracy: 0.9979 - precision_3: 0.9979 - recall_3: 0.9979 - val_loss: 0.9229 - val_accuracy: 0.8758 - val_precision_3: 0.8783 - val_recall_3: 0.8746 - lr: 3.0119e-05\n",
      "Epoch 131/500\n",
      "100/100 [==============================] - 13s 131ms/step - loss: 0.0077 - accuracy: 0.9973 - precision_3: 0.9973 - recall_3: 0.9973 - val_loss: 1.0749 - val_accuracy: 0.8780 - val_precision_3: 0.8789 - val_recall_3: 0.8775 - lr: 2.9820e-05\n",
      "Epoch 132/500\n",
      "100/100 [==============================] - 13s 130ms/step - loss: 0.0044 - accuracy: 0.9991 - precision_3: 0.9991 - recall_3: 0.9989 - val_loss: 0.9339 - val_accuracy: 0.8693 - val_precision_3: 0.8712 - val_recall_3: 0.8684 - lr: 2.9523e-05\n",
      "Epoch 133/500\n",
      "100/100 [==============================] - 13s 130ms/step - loss: 0.0018 - accuracy: 0.9997 - precision_3: 0.9997 - recall_3: 0.9997 - val_loss: 0.9745 - val_accuracy: 0.8782 - val_precision_3: 0.8798 - val_recall_3: 0.8773 - lr: 2.9229e-05\n",
      "Epoch 134/500\n",
      "100/100 [==============================] - 13s 130ms/step - loss: 0.0022 - accuracy: 0.9992 - precision_3: 0.9992 - recall_3: 0.9992 - val_loss: 0.9525 - val_accuracy: 0.8717 - val_precision_3: 0.8731 - val_recall_3: 0.8708 - lr: 2.8938e-05\n",
      "Epoch 135/500\n",
      "100/100 [==============================] - 13s 130ms/step - loss: 0.0020 - accuracy: 0.9996 - precision_3: 0.9996 - recall_3: 0.9996 - val_loss: 0.9926 - val_accuracy: 0.8792 - val_precision_3: 0.8808 - val_recall_3: 0.8781 - lr: 2.8650e-05\n",
      "Epoch 136/500\n",
      "100/100 [==============================] - ETA: 0s - loss: 7.1701e-04 - accuracy: 1.0000 - precision_3: 1.0000 - recall_3: 1.0000Restoring model weights from the end of the best epoch: 36.\n",
      "100/100 [==============================] - 13s 130ms/step - loss: 7.1701e-04 - accuracy: 1.0000 - precision_3: 1.0000 - recall_3: 1.0000 - val_loss: 0.9982 - val_accuracy: 0.8800 - val_precision_3: 0.8818 - val_recall_3: 0.8793 - lr: 2.8365e-05\n",
      "Epoch 136: early stopping\n"
     ]
    },
    {
     "name": "stderr",
     "output_type": "stream",
     "text": [
      "WARNING:absl:Found untraced functions such as _jit_compiled_convolution_op, _jit_compiled_convolution_op, _jit_compiled_convolution_op, _jit_compiled_convolution_op, _jit_compiled_convolution_op while saving (showing 5 of 7). These functions will not be directly callable after loading.\n"
     ]
    },
    {
     "name": "stdout",
     "output_type": "stream",
     "text": [
      "INFO:tensorflow:Assets written to: tf_Adam_new_checkpoints/Model_final\\assets\n"
     ]
    },
    {
     "name": "stderr",
     "output_type": "stream",
     "text": [
      "INFO:tensorflow:Assets written to: tf_Adam_new_checkpoints/Model_final\\assets\n"
     ]
    },
    {
     "data": {
      "image/png": "[encoded data removed]",
      "text/plain": [
       "<Figure size 720x360 with 2 Axes>"
      ]
     },
     "metadata": {
      "needs_background": "light"
     },
     "output_type": "display_data"
    }
   ],
   "source": [
    "model.compile(optimizer=optimizers.Adam(learning_rate=0.0001),\n",
    "              loss=losses.CategoricalCrossentropy(),\n",
    "              metrics=['accuracy',\n",
    "                       Precision(),\n",
    "                       Recall()\n",
    "                       ])\n",
    "\n",
    "\n",
    "csv_logger = CSVLogger('Model_final.log', separator=',', append=False)\n",
    "\n",
    "results = model.fit(train_generator,\n",
    "                    steps_per_epoch=100,\n",
    "                    epochs=epochs_to_train,  # Number of epochs\n",
    "                    validation_data=val_generator,\n",
    "                    verbose=1,\n",
    "                    callbacks=[\n",
    "                        lr_schd_cb,\n",
    "                        csv_logger,\n",
    "                        early_stop\n",
    "                    ]\n",
    "                    )\n",
    "\n",
    "\n",
    "results.model.save(tf_chkpt_path+'Model_final')\n",
    "\n",
    "display_model_trainTestGraphs(results)"
   ]
  },
  {
   "cell_type": "code",
   "execution_count": null,
   "id": "b6a061f4",
   "metadata": {
    "ExecuteTime": {
     "end_time": "2022-05-24T06:29:13.782518Z",
     "start_time": "2022-05-24T06:29:13.782518Z"
    }
   },
   "outputs": [],
   "source": [
    "# test = models.load_model(tf_chkpt_path+'Model_12_LR1')"
   ]
  },
  {
   "cell_type": "code",
   "execution_count": null,
   "id": "65c0622e",
   "metadata": {
    "ExecuteTime": {
     "end_time": "2022-05-24T06:29:13.783519Z",
     "start_time": "2022-05-24T06:29:13.783519Z"
    }
   },
   "outputs": [],
   "source": [
    "model.evaluate(val_generator)"
   ]
  },
  {
   "cell_type": "markdown",
   "id": "91bec278",
   "metadata": {},
   "source": [
    "## Model 12 -2 "
   ]
  },
  {
   "cell_type": "code",
   "execution_count": 22,
   "id": "fc680fe2",
   "metadata": {
    "ExecuteTime": {
     "end_time": "2022-05-24T16:31:20.196291Z",
     "start_time": "2022-05-24T15:43:22.702729Z"
    },
    "scrolled": false
   },
   "outputs": [
    {
     "name": "stdout",
     "output_type": "stream",
     "text": [
      "Model: \"sequential_4\"\n",
      "_________________________________________________________________\n",
      " Layer (type)                Output Shape              Param #   \n",
      "=================================================================\n",
      " conv2d_23 (Conv2D)          (None, 225, 225, 16)      160       \n",
      "                                                                 \n",
      " max_pooling2d_17 (MaxPoolin  (None, 112, 112, 16)     0         \n",
      " g2D)                                                            \n",
      "                                                                 \n",
      " conv2d_24 (Conv2D)          (None, 110, 110, 64)      9280      \n",
      "                                                                 \n",
      " conv2d_25 (Conv2D)          (None, 108, 108, 64)      36928     \n",
      "                                                                 \n",
      " max_pooling2d_18 (MaxPoolin  (None, 54, 54, 64)       0         \n",
      " g2D)                                                            \n",
      "                                                                 \n",
      " conv2d_26 (Conv2D)          (None, 52, 52, 128)       73856     \n",
      "                                                                 \n",
      " conv2d_27 (Conv2D)          (None, 50, 50, 128)       147584    \n",
      "                                                                 \n",
      " max_pooling2d_19 (MaxPoolin  (None, 25, 25, 128)      0         \n",
      " g2D)                                                            \n",
      "                                                                 \n",
      " conv2d_28 (Conv2D)          (None, 23, 23, 256)       295168    \n",
      "                                                                 \n",
      " conv2d_29 (Conv2D)          (None, 21, 21, 256)       590080    \n",
      "                                                                 \n",
      " max_pooling2d_20 (MaxPoolin  (None, 10, 10, 256)      0         \n",
      " g2D)                                                            \n",
      "                                                                 \n",
      " conv2d_30 (Conv2D)          (None, 8, 8, 512)         1180160   \n",
      "                                                                 \n",
      " conv2d_31 (Conv2D)          (None, 6, 6, 512)         2359808   \n",
      "                                                                 \n",
      " max_pooling2d_21 (MaxPoolin  (None, 3, 3, 512)        0         \n",
      " g2D)                                                            \n",
      "                                                                 \n",
      " flatten_4 (Flatten)         (None, 4608)              0         \n",
      "                                                                 \n",
      " dense_12 (Dense)            (None, 4096)              18878464  \n",
      "                                                                 \n",
      " dropout_8 (Dropout)         (None, 4096)              0         \n",
      "                                                                 \n",
      " dense_13 (Dense)            (None, 4096)              16781312  \n",
      "                                                                 \n",
      " dropout_9 (Dropout)         (None, 4096)              0         \n",
      "                                                                 \n",
      " dense_14 (Dense)            (None, 8)                 32776     \n",
      "                                                                 \n",
      "=================================================================\n",
      "Total params: 40,385,576\n",
      "Trainable params: 40,385,576\n",
      "Non-trainable params: 0\n",
      "_________________________________________________________________\n",
      "Epoch 1/500\n",
      "100/100 [==============================] - 28s 252ms/step - loss: 0.9298 - accuracy: 0.8051 - precision_4: 0.8140 - recall_4: 0.7448 - val_loss: 0.8728 - val_accuracy: 0.7916 - val_precision_4: 0.7917 - val_recall_4: 0.7912 - lr: 1.0000e-04\n",
      "Epoch 2/500\n",
      "100/100 [==============================] - 22s 225ms/step - loss: 0.8009 - accuracy: 0.8159 - precision_4: 0.8160 - recall_4: 0.8159 - val_loss: 0.8525 - val_accuracy: 0.7916 - val_precision_4: 0.7916 - val_recall_4: 0.7916 - lr: 1.0000e-04\n",
      "Epoch 3/500\n",
      "100/100 [==============================] - 22s 224ms/step - loss: 0.7384 - accuracy: 0.8185 - precision_4: 0.8363 - recall_4: 0.7968 - val_loss: 0.8687 - val_accuracy: 0.7858 - val_precision_4: 0.7997 - val_recall_4: 0.7519 - lr: 1.0000e-04\n",
      "Epoch 4/500\n",
      "100/100 [==============================] - 23s 230ms/step - loss: 0.6677 - accuracy: 0.8204 - precision_4: 0.8647 - recall_4: 0.7786 - val_loss: 0.8563 - val_accuracy: 0.7679 - val_precision_4: 0.8057 - val_recall_4: 0.7145 - lr: 1.0000e-04\n",
      "Epoch 5/500\n",
      "100/100 [==============================] - 22s 221ms/step - loss: 0.6495 - accuracy: 0.8200 - precision_4: 0.8637 - recall_4: 0.7800 - val_loss: 0.9129 - val_accuracy: 0.7278 - val_precision_4: 0.8045 - val_recall_4: 0.6195 - lr: 1.0000e-04\n",
      "Epoch 6/500\n",
      "100/100 [==============================] - 22s 220ms/step - loss: 0.6098 - accuracy: 0.8271 - precision_4: 0.8710 - recall_4: 0.7871 - val_loss: 0.8015 - val_accuracy: 0.7790 - val_precision_4: 0.8043 - val_recall_4: 0.7470 - lr: 1.0000e-04\n",
      "Epoch 7/500\n",
      "100/100 [==============================] - 23s 228ms/step - loss: 0.5814 - accuracy: 0.8395 - precision_4: 0.8808 - recall_4: 0.7957 - val_loss: 0.8372 - val_accuracy: 0.7505 - val_precision_4: 0.8062 - val_recall_4: 0.6990 - lr: 1.0000e-04\n",
      "Epoch 8/500\n",
      "100/100 [==============================] - 23s 228ms/step - loss: 0.5165 - accuracy: 0.8625 - precision_4: 0.8887 - recall_4: 0.8368 - val_loss: 0.7095 - val_accuracy: 0.8009 - val_precision_4: 0.8238 - val_recall_4: 0.7604 - lr: 1.0000e-04\n",
      "Epoch 9/500\n",
      "100/100 [==============================] - 22s 224ms/step - loss: 0.5015 - accuracy: 0.8625 - precision_4: 0.8863 - recall_4: 0.8387 - val_loss: 0.6841 - val_accuracy: 0.8051 - val_precision_4: 0.8266 - val_recall_4: 0.7649 - lr: 1.0000e-04\n",
      "Epoch 10/500\n",
      "100/100 [==============================] - 23s 228ms/step - loss: 0.4689 - accuracy: 0.8703 - precision_4: 0.8917 - recall_4: 0.8495 - val_loss: 0.7142 - val_accuracy: 0.8097 - val_precision_4: 0.8274 - val_recall_4: 0.7866 - lr: 1.0000e-04\n",
      "Epoch 11/500\n",
      "100/100 [==============================] - 23s 229ms/step - loss: 0.4376 - accuracy: 0.8764 - precision_4: 0.8937 - recall_4: 0.8564 - val_loss: 0.7118 - val_accuracy: 0.7866 - val_precision_4: 0.8188 - val_recall_4: 0.7494 - lr: 9.9005e-05\n",
      "Epoch 12/500\n",
      "100/100 [==============================] - 24s 244ms/step - loss: 0.4237 - accuracy: 0.8765 - precision_4: 0.8925 - recall_4: 0.8623 - val_loss: 0.6582 - val_accuracy: 0.8034 - val_precision_4: 0.8269 - val_recall_4: 0.7743 - lr: 9.8020e-05\n",
      "Epoch 13/500\n",
      "100/100 [==============================] - 23s 229ms/step - loss: 0.3958 - accuracy: 0.8820 - precision_4: 0.8968 - recall_4: 0.8648 - val_loss: 0.6306 - val_accuracy: 0.8141 - val_precision_4: 0.8335 - val_recall_4: 0.7833 - lr: 9.7045e-05\n",
      "Epoch 14/500\n",
      "100/100 [==============================] - 23s 228ms/step - loss: 0.3795 - accuracy: 0.8853 - precision_4: 0.9006 - recall_4: 0.8708 - val_loss: 0.6647 - val_accuracy: 0.7977 - val_precision_4: 0.8253 - val_recall_4: 0.7709 - lr: 9.6079e-05\n",
      "Epoch 15/500\n",
      "100/100 [==============================] - 22s 224ms/step - loss: 0.3804 - accuracy: 0.8861 - precision_4: 0.8996 - recall_4: 0.8707 - val_loss: 0.6177 - val_accuracy: 0.8028 - val_precision_4: 0.8371 - val_recall_4: 0.7651 - lr: 9.5123e-05\n",
      "Epoch 16/500\n",
      "100/100 [==============================] - 23s 228ms/step - loss: 0.3501 - accuracy: 0.8913 - precision_4: 0.9071 - recall_4: 0.8771 - val_loss: 0.5825 - val_accuracy: 0.8222 - val_precision_4: 0.8399 - val_recall_4: 0.8040 - lr: 9.4176e-05\n",
      "Epoch 17/500\n",
      "100/100 [==============================] - 23s 229ms/step - loss: 0.3301 - accuracy: 0.8989 - precision_4: 0.9106 - recall_4: 0.8873 - val_loss: 0.5726 - val_accuracy: 0.8267 - val_precision_4: 0.8481 - val_recall_4: 0.8067 - lr: 9.3239e-05\n",
      "Epoch 18/500\n",
      "100/100 [==============================] - 24s 245ms/step - loss: 0.3054 - accuracy: 0.9069 - precision_4: 0.9195 - recall_4: 0.8976 - val_loss: 0.5838 - val_accuracy: 0.8416 - val_precision_4: 0.8510 - val_recall_4: 0.8338 - lr: 9.2312e-05\n",
      "Epoch 19/500\n",
      "100/100 [==============================] - 24s 241ms/step - loss: 0.2890 - accuracy: 0.9141 - precision_4: 0.9241 - recall_4: 0.9044 - val_loss: 0.6219 - val_accuracy: 0.8278 - val_precision_4: 0.8396 - val_recall_4: 0.8177 - lr: 9.1393e-05\n"
     ]
    },
    {
     "name": "stdout",
     "output_type": "stream",
     "text": [
      "Epoch 20/500\n",
      "100/100 [==============================] - 23s 230ms/step - loss: 0.3014 - accuracy: 0.9105 - precision_4: 0.9197 - recall_4: 0.9029 - val_loss: 0.5399 - val_accuracy: 0.8373 - val_precision_4: 0.8557 - val_recall_4: 0.8176 - lr: 9.0484e-05\n",
      "Epoch 21/500\n",
      "100/100 [==============================] - 24s 237ms/step - loss: 0.2776 - accuracy: 0.9123 - precision_4: 0.9213 - recall_4: 0.9033 - val_loss: 0.5003 - val_accuracy: 0.8513 - val_precision_4: 0.8664 - val_recall_4: 0.8382 - lr: 8.9583e-05\n",
      "Epoch 22/500\n",
      "100/100 [==============================] - 24s 241ms/step - loss: 0.2461 - accuracy: 0.9240 - precision_4: 0.9292 - recall_4: 0.9181 - val_loss: 0.5447 - val_accuracy: 0.8430 - val_precision_4: 0.8519 - val_recall_4: 0.8360 - lr: 8.8692e-05\n",
      "Epoch 23/500\n",
      "100/100 [==============================] - 22s 223ms/step - loss: 0.2661 - accuracy: 0.9165 - precision_4: 0.9255 - recall_4: 0.9095 - val_loss: 0.5723 - val_accuracy: 0.8505 - val_precision_4: 0.8601 - val_recall_4: 0.8438 - lr: 8.7810e-05\n",
      "Epoch 24/500\n",
      "100/100 [==============================] - 22s 224ms/step - loss: 0.2340 - accuracy: 0.9271 - precision_4: 0.9329 - recall_4: 0.9217 - val_loss: 0.5802 - val_accuracy: 0.8045 - val_precision_4: 0.8289 - val_recall_4: 0.7787 - lr: 8.6936e-05\n",
      "Epoch 25/500\n",
      "100/100 [==============================] - 22s 221ms/step - loss: 0.2358 - accuracy: 0.9284 - precision_4: 0.9350 - recall_4: 0.9221 - val_loss: 0.5674 - val_accuracy: 0.8365 - val_precision_4: 0.8496 - val_recall_4: 0.8268 - lr: 8.6071e-05\n",
      "Epoch 26/500\n",
      "100/100 [==============================] - 22s 225ms/step - loss: 0.2140 - accuracy: 0.9355 - precision_4: 0.9425 - recall_4: 0.9314 - val_loss: 0.5141 - val_accuracy: 0.8563 - val_precision_4: 0.8679 - val_recall_4: 0.8485 - lr: 8.5214e-05\n",
      "Epoch 27/500\n",
      "100/100 [==============================] - 23s 230ms/step - loss: 0.2109 - accuracy: 0.9353 - precision_4: 0.9407 - recall_4: 0.9309 - val_loss: 0.5564 - val_accuracy: 0.8619 - val_precision_4: 0.8686 - val_recall_4: 0.8580 - lr: 8.4366e-05\n",
      "Epoch 28/500\n",
      "100/100 [==============================] - 23s 226ms/step - loss: 0.2019 - accuracy: 0.9387 - precision_4: 0.9449 - recall_4: 0.9324 - val_loss: 0.5453 - val_accuracy: 0.8423 - val_precision_4: 0.8577 - val_recall_4: 0.8314 - lr: 8.3527e-05\n",
      "Epoch 29/500\n",
      "100/100 [==============================] - 21s 215ms/step - loss: 0.1927 - accuracy: 0.9388 - precision_4: 0.9436 - recall_4: 0.9340 - val_loss: 0.5268 - val_accuracy: 0.8479 - val_precision_4: 0.8612 - val_recall_4: 0.8410 - lr: 8.2696e-05\n",
      "Epoch 30/500\n",
      "100/100 [==============================] - 22s 216ms/step - loss: 0.2060 - accuracy: 0.9363 - precision_4: 0.9414 - recall_4: 0.9304 - val_loss: 0.5411 - val_accuracy: 0.8609 - val_precision_4: 0.8679 - val_recall_4: 0.8571 - lr: 8.1873e-05\n",
      "Epoch 31/500\n",
      "100/100 [==============================] - 22s 216ms/step - loss: 0.1858 - accuracy: 0.9397 - precision_4: 0.9442 - recall_4: 0.9349 - val_loss: 0.4865 - val_accuracy: 0.8594 - val_precision_4: 0.8694 - val_recall_4: 0.8505 - lr: 8.1058e-05\n",
      "Epoch 32/500\n",
      "100/100 [==============================] - 22s 216ms/step - loss: 0.1838 - accuracy: 0.9463 - precision_4: 0.9497 - recall_4: 0.9420 - val_loss: 0.4784 - val_accuracy: 0.8619 - val_precision_4: 0.8697 - val_recall_4: 0.8554 - lr: 8.0252e-05\n",
      "Epoch 33/500\n",
      "100/100 [==============================] - 21s 215ms/step - loss: 0.1720 - accuracy: 0.9453 - precision_4: 0.9508 - recall_4: 0.9421 - val_loss: 0.5009 - val_accuracy: 0.8571 - val_precision_4: 0.8667 - val_recall_4: 0.8497 - lr: 7.9453e-05\n",
      "Epoch 34/500\n",
      "100/100 [==============================] - 21s 215ms/step - loss: 0.1515 - accuracy: 0.9532 - precision_4: 0.9565 - recall_4: 0.9507 - val_loss: 0.5090 - val_accuracy: 0.8628 - val_precision_4: 0.8687 - val_recall_4: 0.8571 - lr: 7.8663e-05\n",
      "Epoch 35/500\n",
      "100/100 [==============================] - 21s 214ms/step - loss: 0.1865 - accuracy: 0.9433 - precision_4: 0.9475 - recall_4: 0.9382 - val_loss: 0.5226 - val_accuracy: 0.8607 - val_precision_4: 0.8675 - val_recall_4: 0.8565 - lr: 7.7880e-05\n",
      "Epoch 36/500\n",
      "100/100 [==============================] - 21s 215ms/step - loss: 0.1637 - accuracy: 0.9493 - precision_4: 0.9525 - recall_4: 0.9441 - val_loss: 0.5630 - val_accuracy: 0.8549 - val_precision_4: 0.8637 - val_recall_4: 0.8494 - lr: 7.7105e-05\n",
      "Epoch 37/500\n",
      "100/100 [==============================] - 21s 213ms/step - loss: 0.1465 - accuracy: 0.9541 - precision_4: 0.9575 - recall_4: 0.9514 - val_loss: 0.4808 - val_accuracy: 0.8684 - val_precision_4: 0.8735 - val_recall_4: 0.8642 - lr: 7.6338e-05\n",
      "Epoch 38/500\n",
      "100/100 [==============================] - 21s 215ms/step - loss: 0.1364 - accuracy: 0.9564 - precision_4: 0.9604 - recall_4: 0.9531 - val_loss: 0.5570 - val_accuracy: 0.8516 - val_precision_4: 0.8579 - val_recall_4: 0.8464 - lr: 7.5578e-05\n",
      "Epoch 39/500\n",
      "100/100 [==============================] - 21s 214ms/step - loss: 0.1402 - accuracy: 0.9560 - precision_4: 0.9585 - recall_4: 0.9536 - val_loss: 0.5495 - val_accuracy: 0.8622 - val_precision_4: 0.8678 - val_recall_4: 0.8586 - lr: 7.4826e-05\n",
      "Epoch 40/500\n",
      "100/100 [==============================] - 22s 216ms/step - loss: 0.1149 - accuracy: 0.9632 - precision_4: 0.9658 - recall_4: 0.9609 - val_loss: 0.6349 - val_accuracy: 0.8643 - val_precision_4: 0.8683 - val_recall_4: 0.8618 - lr: 7.4082e-05\n",
      "Epoch 41/500\n",
      "100/100 [==============================] - 22s 216ms/step - loss: 0.1165 - accuracy: 0.9632 - precision_4: 0.9660 - recall_4: 0.9611 - val_loss: 0.6215 - val_accuracy: 0.8675 - val_precision_4: 0.8710 - val_recall_4: 0.8649 - lr: 7.3345e-05\n",
      "Epoch 42/500\n",
      "100/100 [==============================] - 21s 215ms/step - loss: 0.1107 - accuracy: 0.9664 - precision_4: 0.9688 - recall_4: 0.9635 - val_loss: 0.5712 - val_accuracy: 0.8684 - val_precision_4: 0.8733 - val_recall_4: 0.8662 - lr: 7.2615e-05\n",
      "Epoch 43/500\n",
      "100/100 [==============================] - 21s 214ms/step - loss: 0.1015 - accuracy: 0.9681 - precision_4: 0.9697 - recall_4: 0.9651 - val_loss: 0.5532 - val_accuracy: 0.8662 - val_precision_4: 0.8690 - val_recall_4: 0.8638 - lr: 7.1892e-05\n",
      "Epoch 44/500\n",
      "100/100 [==============================] - 21s 215ms/step - loss: 0.0879 - accuracy: 0.9720 - precision_4: 0.9743 - recall_4: 0.9700 - val_loss: 0.6546 - val_accuracy: 0.8499 - val_precision_4: 0.8556 - val_recall_4: 0.8460 - lr: 7.1177e-05\n",
      "Epoch 45/500\n",
      "100/100 [==============================] - 21s 214ms/step - loss: 0.0995 - accuracy: 0.9692 - precision_4: 0.9707 - recall_4: 0.9676 - val_loss: 0.5971 - val_accuracy: 0.8730 - val_precision_4: 0.8761 - val_recall_4: 0.8710 - lr: 7.0469e-05\n",
      "Epoch 46/500\n",
      "100/100 [==============================] - 21s 215ms/step - loss: 0.0860 - accuracy: 0.9743 - precision_4: 0.9755 - recall_4: 0.9724 - val_loss: 0.6165 - val_accuracy: 0.8450 - val_precision_4: 0.8523 - val_recall_4: 0.8398 - lr: 6.9768e-05\n",
      "Epoch 47/500\n",
      "100/100 [==============================] - 21s 214ms/step - loss: 0.0790 - accuracy: 0.9747 - precision_4: 0.9762 - recall_4: 0.9736 - val_loss: 0.6082 - val_accuracy: 0.8713 - val_precision_4: 0.8748 - val_recall_4: 0.8687 - lr: 6.9073e-05\n",
      "Epoch 48/500\n",
      "100/100 [==============================] - 21s 215ms/step - loss: 0.0812 - accuracy: 0.9743 - precision_4: 0.9758 - recall_4: 0.9725 - val_loss: 0.5952 - val_accuracy: 0.8600 - val_precision_4: 0.8658 - val_recall_4: 0.8554 - lr: 6.8386e-05\n",
      "Epoch 49/500\n",
      "100/100 [==============================] - 21s 214ms/step - loss: 0.0746 - accuracy: 0.9769 - precision_4: 0.9782 - recall_4: 0.9747 - val_loss: 0.6413 - val_accuracy: 0.8459 - val_precision_4: 0.8516 - val_recall_4: 0.8416 - lr: 6.7706e-05\n",
      "Epoch 50/500\n",
      "100/100 [==============================] - 21s 215ms/step - loss: 0.0809 - accuracy: 0.9749 - precision_4: 0.9763 - recall_4: 0.9735 - val_loss: 0.6283 - val_accuracy: 0.8412 - val_precision_4: 0.8490 - val_recall_4: 0.8344 - lr: 6.7032e-05\n",
      "Epoch 51/500\n",
      "100/100 [==============================] - 21s 214ms/step - loss: 0.0701 - accuracy: 0.9785 - precision_4: 0.9797 - recall_4: 0.9764 - val_loss: 0.6248 - val_accuracy: 0.8597 - val_precision_4: 0.8647 - val_recall_4: 0.8563 - lr: 6.6365e-05\n",
      "Epoch 52/500\n"
     ]
    },
    {
     "name": "stdout",
     "output_type": "stream",
     "text": [
      "100/100 [==============================] - 21s 215ms/step - loss: 0.0550 - accuracy: 0.9815 - precision_4: 0.9824 - recall_4: 0.9804 - val_loss: 0.7038 - val_accuracy: 0.8631 - val_precision_4: 0.8658 - val_recall_4: 0.8608 - lr: 6.5705e-05\n",
      "Epoch 53/500\n",
      "100/100 [==============================] - 21s 214ms/step - loss: 0.0625 - accuracy: 0.9815 - precision_4: 0.9820 - recall_4: 0.9811 - val_loss: 0.6317 - val_accuracy: 0.8614 - val_precision_4: 0.8659 - val_recall_4: 0.8580 - lr: 6.5051e-05\n",
      "Epoch 54/500\n",
      "100/100 [==============================] - 21s 215ms/step - loss: 0.0546 - accuracy: 0.9824 - precision_4: 0.9832 - recall_4: 0.9819 - val_loss: 0.7094 - val_accuracy: 0.8688 - val_precision_4: 0.8709 - val_recall_4: 0.8667 - lr: 6.4404e-05\n",
      "Epoch 55/500\n",
      "100/100 [==============================] - 21s 215ms/step - loss: 0.0497 - accuracy: 0.9848 - precision_4: 0.9858 - recall_4: 0.9844 - val_loss: 0.7028 - val_accuracy: 0.8507 - val_precision_4: 0.8550 - val_recall_4: 0.8471 - lr: 6.3763e-05\n",
      "Epoch 56/500\n",
      "100/100 [==============================] - 21s 215ms/step - loss: 0.0489 - accuracy: 0.9836 - precision_4: 0.9845 - recall_4: 0.9829 - val_loss: 0.8277 - val_accuracy: 0.8743 - val_precision_4: 0.8756 - val_recall_4: 0.8741 - lr: 6.3128e-05\n",
      "Epoch 57/500\n",
      "100/100 [==============================] - 21s 214ms/step - loss: 0.0534 - accuracy: 0.9831 - precision_4: 0.9845 - recall_4: 0.9820 - val_loss: 0.7212 - val_accuracy: 0.8711 - val_precision_4: 0.8735 - val_recall_4: 0.8692 - lr: 6.2500e-05\n",
      "Epoch 58/500\n",
      "100/100 [==============================] - 21s 215ms/step - loss: 0.0414 - accuracy: 0.9861 - precision_4: 0.9873 - recall_4: 0.9855 - val_loss: 0.7932 - val_accuracy: 0.8727 - val_precision_4: 0.8747 - val_recall_4: 0.8718 - lr: 6.1878e-05\n",
      "Epoch 59/500\n",
      "100/100 [==============================] - 21s 214ms/step - loss: 0.0343 - accuracy: 0.9885 - precision_4: 0.9887 - recall_4: 0.9884 - val_loss: 0.6704 - val_accuracy: 0.8689 - val_precision_4: 0.8724 - val_recall_4: 0.8672 - lr: 6.1263e-05\n",
      "Epoch 60/500\n",
      "100/100 [==============================] - 21s 215ms/step - loss: 0.0286 - accuracy: 0.9916 - precision_4: 0.9921 - recall_4: 0.9911 - val_loss: 0.8271 - val_accuracy: 0.8710 - val_precision_4: 0.8730 - val_recall_4: 0.8703 - lr: 6.0653e-05\n",
      "Epoch 61/500\n",
      "100/100 [==============================] - 21s 215ms/step - loss: 0.0397 - accuracy: 0.9867 - precision_4: 0.9868 - recall_4: 0.9863 - val_loss: 0.7681 - val_accuracy: 0.8739 - val_precision_4: 0.8758 - val_recall_4: 0.8724 - lr: 6.0050e-05\n",
      "Epoch 62/500\n",
      "100/100 [==============================] - 21s 215ms/step - loss: 0.0383 - accuracy: 0.9880 - precision_4: 0.9890 - recall_4: 0.9869 - val_loss: 0.7009 - val_accuracy: 0.8514 - val_precision_4: 0.8560 - val_recall_4: 0.8485 - lr: 5.9452e-05\n",
      "Epoch 63/500\n",
      "100/100 [==============================] - 21s 215ms/step - loss: 0.0334 - accuracy: 0.9893 - precision_4: 0.9900 - recall_4: 0.9887 - val_loss: 0.7965 - val_accuracy: 0.8764 - val_precision_4: 0.8787 - val_recall_4: 0.8756 - lr: 5.8860e-05\n",
      "Epoch 64/500\n",
      "100/100 [==============================] - 21s 215ms/step - loss: 0.0310 - accuracy: 0.9905 - precision_4: 0.9905 - recall_4: 0.9899 - val_loss: 0.8862 - val_accuracy: 0.8736 - val_precision_4: 0.8755 - val_recall_4: 0.8731 - lr: 5.8275e-05\n",
      "Epoch 65/500\n",
      "100/100 [==============================] - 21s 214ms/step - loss: 0.0372 - accuracy: 0.9892 - precision_4: 0.9901 - recall_4: 0.9887 - val_loss: 0.8542 - val_accuracy: 0.8782 - val_precision_4: 0.8796 - val_recall_4: 0.8766 - lr: 5.7695e-05\n",
      "Epoch 66/500\n",
      "100/100 [==============================] - 21s 215ms/step - loss: 0.0316 - accuracy: 0.9887 - precision_4: 0.9889 - recall_4: 0.9880 - val_loss: 0.8040 - val_accuracy: 0.8717 - val_precision_4: 0.8738 - val_recall_4: 0.8706 - lr: 5.7121e-05\n",
      "Epoch 67/500\n",
      "100/100 [==============================] - 21s 214ms/step - loss: 0.0258 - accuracy: 0.9913 - precision_4: 0.9916 - recall_4: 0.9909 - val_loss: 0.8825 - val_accuracy: 0.8731 - val_precision_4: 0.8742 - val_recall_4: 0.8721 - lr: 5.6553e-05\n",
      "Epoch 68/500\n",
      "100/100 [==============================] - 21s 215ms/step - loss: 0.0240 - accuracy: 0.9923 - precision_4: 0.9928 - recall_4: 0.9919 - val_loss: 0.7879 - val_accuracy: 0.8735 - val_precision_4: 0.8752 - val_recall_4: 0.8726 - lr: 5.5990e-05\n",
      "Epoch 69/500\n",
      "100/100 [==============================] - 21s 214ms/step - loss: 0.0279 - accuracy: 0.9916 - precision_4: 0.9920 - recall_4: 0.9912 - val_loss: 0.9175 - val_accuracy: 0.8688 - val_precision_4: 0.8702 - val_recall_4: 0.8675 - lr: 5.5433e-05\n",
      "Epoch 70/500\n",
      "100/100 [==============================] - 21s 214ms/step - loss: 0.0224 - accuracy: 0.9937 - precision_4: 0.9937 - recall_4: 0.9933 - val_loss: 0.7909 - val_accuracy: 0.8475 - val_precision_4: 0.8525 - val_recall_4: 0.8439 - lr: 5.4881e-05\n",
      "Epoch 71/500\n",
      "100/100 [==============================] - 21s 215ms/step - loss: 0.0224 - accuracy: 0.9936 - precision_4: 0.9937 - recall_4: 0.9933 - val_loss: 0.8301 - val_accuracy: 0.8692 - val_precision_4: 0.8712 - val_recall_4: 0.8681 - lr: 5.4335e-05\n",
      "Epoch 72/500\n",
      "100/100 [==============================] - 21s 215ms/step - loss: 0.0132 - accuracy: 0.9961 - precision_4: 0.9961 - recall_4: 0.9959 - val_loss: 0.8842 - val_accuracy: 0.8738 - val_precision_4: 0.8755 - val_recall_4: 0.8734 - lr: 5.3794e-05\n",
      "Epoch 73/500\n",
      "100/100 [==============================] - 21s 214ms/step - loss: 0.0210 - accuracy: 0.9932 - precision_4: 0.9933 - recall_4: 0.9925 - val_loss: 0.8170 - val_accuracy: 0.8732 - val_precision_4: 0.8750 - val_recall_4: 0.8720 - lr: 5.3259e-05\n",
      "Epoch 74/500\n",
      "100/100 [==============================] - 21s 214ms/step - loss: 0.0442 - accuracy: 0.9878 - precision_4: 0.9884 - recall_4: 0.9873 - val_loss: 1.1943 - val_accuracy: 0.8595 - val_precision_4: 0.8601 - val_recall_4: 0.8588 - lr: 5.2729e-05\n",
      "Epoch 75/500\n",
      "100/100 [==============================] - 21s 214ms/step - loss: 0.0562 - accuracy: 0.9816 - precision_4: 0.9822 - recall_4: 0.9803 - val_loss: 0.7352 - val_accuracy: 0.8646 - val_precision_4: 0.8671 - val_recall_4: 0.8621 - lr: 5.2205e-05\n",
      "Epoch 76/500\n",
      "100/100 [==============================] - 21s 215ms/step - loss: 0.0259 - accuracy: 0.9921 - precision_4: 0.9924 - recall_4: 0.9919 - val_loss: 0.8537 - val_accuracy: 0.8617 - val_precision_4: 0.8641 - val_recall_4: 0.8601 - lr: 5.1685e-05\n",
      "Epoch 77/500\n",
      "100/100 [==============================] - 21s 214ms/step - loss: 0.0238 - accuracy: 0.9919 - precision_4: 0.9920 - recall_4: 0.9915 - val_loss: 0.8929 - val_accuracy: 0.8734 - val_precision_4: 0.8751 - val_recall_4: 0.8722 - lr: 5.1171e-05\n",
      "Epoch 78/500\n",
      "100/100 [==============================] - 21s 214ms/step - loss: 0.0159 - accuracy: 0.9958 - precision_4: 0.9962 - recall_4: 0.9954 - val_loss: 0.9649 - val_accuracy: 0.8709 - val_precision_4: 0.8727 - val_recall_4: 0.8703 - lr: 5.0662e-05\n",
      "Epoch 79/500\n",
      "100/100 [==============================] - 21s 214ms/step - loss: 0.0118 - accuracy: 0.9961 - precision_4: 0.9967 - recall_4: 0.9960 - val_loss: 1.1654 - val_accuracy: 0.8735 - val_precision_4: 0.8747 - val_recall_4: 0.8730 - lr: 5.0158e-05\n",
      "Epoch 80/500\n",
      "100/100 [==============================] - 22s 215ms/step - loss: 0.0163 - accuracy: 0.9947 - precision_4: 0.9948 - recall_4: 0.9945 - val_loss: 1.0524 - val_accuracy: 0.8564 - val_precision_4: 0.8584 - val_recall_4: 0.8557 - lr: 4.9659e-05\n",
      "Epoch 81/500\n",
      "100/100 [==============================] - 21s 215ms/step - loss: 0.0156 - accuracy: 0.9944 - precision_4: 0.9948 - recall_4: 0.9943 - val_loss: 0.8336 - val_accuracy: 0.8731 - val_precision_4: 0.8746 - val_recall_4: 0.8720 - lr: 4.9164e-05\n",
      "Epoch 82/500\n",
      "100/100 [==============================] - 21s 215ms/step - loss: 0.0119 - accuracy: 0.9972 - precision_4: 0.9973 - recall_4: 0.9968 - val_loss: 0.9823 - val_accuracy: 0.8691 - val_precision_4: 0.8705 - val_recall_4: 0.8682 - lr: 4.8675e-05\n",
      "Epoch 83/500\n",
      "100/100 [==============================] - 21s 214ms/step - loss: 0.0106 - accuracy: 0.9966 - precision_4: 0.9968 - recall_4: 0.9965 - val_loss: 1.0566 - val_accuracy: 0.8746 - val_precision_4: 0.8757 - val_recall_4: 0.8742 - lr: 4.8191e-05\n",
      "Epoch 84/500\n"
     ]
    },
    {
     "name": "stdout",
     "output_type": "stream",
     "text": [
      "100/100 [==============================] - 21s 215ms/step - loss: 0.0113 - accuracy: 0.9968 - precision_4: 0.9969 - recall_4: 0.9964 - val_loss: 0.9485 - val_accuracy: 0.8799 - val_precision_4: 0.8809 - val_recall_4: 0.8790 - lr: 4.7711e-05\n",
      "Epoch 85/500\n",
      "100/100 [==============================] - 21s 214ms/step - loss: 0.0169 - accuracy: 0.9952 - precision_4: 0.9953 - recall_4: 0.9949 - val_loss: 1.0296 - val_accuracy: 0.8768 - val_precision_4: 0.8779 - val_recall_4: 0.8762 - lr: 4.7237e-05\n",
      "Epoch 86/500\n",
      "100/100 [==============================] - 21s 215ms/step - loss: 0.0098 - accuracy: 0.9968 - precision_4: 0.9971 - recall_4: 0.9965 - val_loss: 0.9470 - val_accuracy: 0.8693 - val_precision_4: 0.8711 - val_recall_4: 0.8691 - lr: 4.6767e-05\n",
      "Epoch 87/500\n",
      "100/100 [==============================] - 21s 215ms/step - loss: 0.0081 - accuracy: 0.9973 - precision_4: 0.9975 - recall_4: 0.9971 - val_loss: 1.2268 - val_accuracy: 0.8737 - val_precision_4: 0.8744 - val_recall_4: 0.8732 - lr: 4.6301e-05\n",
      "Epoch 88/500\n",
      "100/100 [==============================] - 22s 216ms/step - loss: 0.0088 - accuracy: 0.9972 - precision_4: 0.9973 - recall_4: 0.9972 - val_loss: 1.1283 - val_accuracy: 0.8744 - val_precision_4: 0.8758 - val_recall_4: 0.8742 - lr: 4.5841e-05\n",
      "Epoch 89/500\n",
      "100/100 [==============================] - 21s 214ms/step - loss: 0.0087 - accuracy: 0.9965 - precision_4: 0.9965 - recall_4: 0.9964 - val_loss: 1.1168 - val_accuracy: 0.8644 - val_precision_4: 0.8662 - val_recall_4: 0.8636 - lr: 4.5384e-05\n",
      "Epoch 90/500\n",
      "100/100 [==============================] - 21s 215ms/step - loss: 0.0140 - accuracy: 0.9956 - precision_4: 0.9957 - recall_4: 0.9953 - val_loss: 0.9487 - val_accuracy: 0.8753 - val_precision_4: 0.8762 - val_recall_4: 0.8746 - lr: 4.4933e-05\n",
      "Epoch 91/500\n",
      "100/100 [==============================] - 21s 214ms/step - loss: 0.0109 - accuracy: 0.9963 - precision_4: 0.9965 - recall_4: 0.9961 - val_loss: 1.0676 - val_accuracy: 0.8742 - val_precision_4: 0.8750 - val_recall_4: 0.8734 - lr: 4.4486e-05\n",
      "Epoch 92/500\n",
      "100/100 [==============================] - 22s 215ms/step - loss: 0.0061 - accuracy: 0.9980 - precision_4: 0.9984 - recall_4: 0.9980 - val_loss: 1.1332 - val_accuracy: 0.8746 - val_precision_4: 0.8755 - val_recall_4: 0.8739 - lr: 4.4043e-05\n",
      "Epoch 93/500\n",
      "100/100 [==============================] - 21s 214ms/step - loss: 0.0081 - accuracy: 0.9975 - precision_4: 0.9975 - recall_4: 0.9975 - val_loss: 1.0866 - val_accuracy: 0.8634 - val_precision_4: 0.8643 - val_recall_4: 0.8626 - lr: 4.3605e-05\n",
      "Epoch 94/500\n",
      "100/100 [==============================] - 21s 215ms/step - loss: 0.0237 - accuracy: 0.9931 - precision_4: 0.9932 - recall_4: 0.9929 - val_loss: 0.8792 - val_accuracy: 0.8710 - val_precision_4: 0.8728 - val_recall_4: 0.8700 - lr: 4.3171e-05\n",
      "Epoch 95/500\n",
      "100/100 [==============================] - 21s 214ms/step - loss: 0.0124 - accuracy: 0.9957 - precision_4: 0.9959 - recall_4: 0.9955 - val_loss: 1.0180 - val_accuracy: 0.8798 - val_precision_4: 0.8810 - val_recall_4: 0.8784 - lr: 4.2741e-05\n",
      "Epoch 96/500\n",
      "100/100 [==============================] - 21s 214ms/step - loss: 0.0144 - accuracy: 0.9953 - precision_4: 0.9956 - recall_4: 0.9951 - val_loss: 1.0572 - val_accuracy: 0.8780 - val_precision_4: 0.8788 - val_recall_4: 0.8775 - lr: 4.2316e-05\n",
      "Epoch 97/500\n",
      "100/100 [==============================] - 21s 214ms/step - loss: 0.0075 - accuracy: 0.9967 - precision_4: 0.9969 - recall_4: 0.9967 - val_loss: 0.9735 - val_accuracy: 0.8803 - val_precision_4: 0.8811 - val_recall_4: 0.8797 - lr: 4.1895e-05\n",
      "Epoch 98/500\n",
      "100/100 [==============================] - 21s 215ms/step - loss: 0.0029 - accuracy: 0.9996 - precision_4: 0.9996 - recall_4: 0.9996 - val_loss: 1.0871 - val_accuracy: 0.8806 - val_precision_4: 0.8821 - val_recall_4: 0.8802 - lr: 4.1478e-05\n",
      "Epoch 99/500\n",
      "100/100 [==============================] - 21s 214ms/step - loss: 0.0105 - accuracy: 0.9976 - precision_4: 0.9976 - recall_4: 0.9976 - val_loss: 1.0078 - val_accuracy: 0.8719 - val_precision_4: 0.8734 - val_recall_4: 0.8714 - lr: 4.1066e-05\n",
      "Epoch 100/500\n",
      "100/100 [==============================] - 21s 213ms/step - loss: 0.0047 - accuracy: 0.9987 - precision_4: 0.9989 - recall_4: 0.9987 - val_loss: 1.1613 - val_accuracy: 0.8796 - val_precision_4: 0.8801 - val_recall_4: 0.8791 - lr: 4.0657e-05\n",
      "Epoch 101/500\n",
      "100/100 [==============================] - 21s 214ms/step - loss: 0.0058 - accuracy: 0.9981 - precision_4: 0.9983 - recall_4: 0.9981 - val_loss: 1.0572 - val_accuracy: 0.8753 - val_precision_4: 0.8767 - val_recall_4: 0.8748 - lr: 4.0252e-05\n",
      "Epoch 102/500\n",
      "100/100 [==============================] - 22s 216ms/step - loss: 0.0077 - accuracy: 0.9973 - precision_4: 0.9973 - recall_4: 0.9973 - val_loss: 1.1595 - val_accuracy: 0.8687 - val_precision_4: 0.8699 - val_recall_4: 0.8673 - lr: 3.9852e-05\n",
      "Epoch 103/500\n",
      "100/100 [==============================] - 21s 215ms/step - loss: 0.0075 - accuracy: 0.9981 - precision_4: 0.9981 - recall_4: 0.9981 - val_loss: 1.0702 - val_accuracy: 0.8777 - val_precision_4: 0.8789 - val_recall_4: 0.8773 - lr: 3.9455e-05\n",
      "Epoch 104/500\n",
      "100/100 [==============================] - 22s 216ms/step - loss: 0.0049 - accuracy: 0.9988 - precision_4: 0.9988 - recall_4: 0.9988 - val_loss: 1.1377 - val_accuracy: 0.8806 - val_precision_4: 0.8815 - val_recall_4: 0.8803 - lr: 3.9063e-05\n",
      "Epoch 105/500\n",
      "100/100 [==============================] - 21s 214ms/step - loss: 0.0022 - accuracy: 0.9995 - precision_4: 0.9995 - recall_4: 0.9992 - val_loss: 1.1832 - val_accuracy: 0.8728 - val_precision_4: 0.8740 - val_recall_4: 0.8725 - lr: 3.8674e-05\n",
      "Epoch 106/500\n",
      "100/100 [==============================] - 21s 215ms/step - loss: 0.0035 - accuracy: 0.9988 - precision_4: 0.9989 - recall_4: 0.9988 - val_loss: 1.0591 - val_accuracy: 0.8749 - val_precision_4: 0.8764 - val_recall_4: 0.8743 - lr: 3.8289e-05\n",
      "Epoch 107/500\n",
      "100/100 [==============================] - 21s 214ms/step - loss: 0.0021 - accuracy: 0.9995 - precision_4: 0.9995 - recall_4: 0.9995 - val_loss: 1.1869 - val_accuracy: 0.8741 - val_precision_4: 0.8750 - val_recall_4: 0.8738 - lr: 3.7908e-05\n",
      "Epoch 108/500\n",
      "100/100 [==============================] - 21s 215ms/step - loss: 0.0051 - accuracy: 0.9984 - precision_4: 0.9987 - recall_4: 0.9984 - val_loss: 1.3624 - val_accuracy: 0.8768 - val_precision_4: 0.8777 - val_recall_4: 0.8763 - lr: 3.7531e-05\n",
      "Epoch 109/500\n",
      "100/100 [==============================] - 21s 214ms/step - loss: 0.0023 - accuracy: 0.9993 - precision_4: 0.9993 - recall_4: 0.9993 - val_loss: 1.2918 - val_accuracy: 0.8758 - val_precision_4: 0.8767 - val_recall_4: 0.8755 - lr: 3.7158e-05\n",
      "Epoch 110/500\n",
      "100/100 [==============================] - 21s 214ms/step - loss: 0.0125 - accuracy: 0.9968 - precision_4: 0.9969 - recall_4: 0.9965 - val_loss: 1.2102 - val_accuracy: 0.8753 - val_precision_4: 0.8763 - val_recall_4: 0.8749 - lr: 3.6788e-05\n",
      "Epoch 111/500\n",
      "100/100 [==============================] - 21s 214ms/step - loss: 0.0026 - accuracy: 0.9993 - precision_4: 0.9995 - recall_4: 0.9993 - val_loss: 1.2302 - val_accuracy: 0.8738 - val_precision_4: 0.8748 - val_recall_4: 0.8731 - lr: 3.6422e-05\n",
      "Epoch 112/500\n",
      "100/100 [==============================] - 21s 215ms/step - loss: 0.0032 - accuracy: 0.9995 - precision_4: 0.9995 - recall_4: 0.9993 - val_loss: 1.2291 - val_accuracy: 0.8745 - val_precision_4: 0.8754 - val_recall_4: 0.8741 - lr: 3.6059e-05\n",
      "Epoch 113/500\n",
      "100/100 [==============================] - 21s 213ms/step - loss: 0.0075 - accuracy: 0.9973 - precision_4: 0.9974 - recall_4: 0.9973 - val_loss: 1.1250 - val_accuracy: 0.8652 - val_precision_4: 0.8663 - val_recall_4: 0.8643 - lr: 3.5701e-05\n",
      "Epoch 114/500\n",
      "100/100 [==============================] - 21s 215ms/step - loss: 0.0045 - accuracy: 0.9984 - precision_4: 0.9984 - recall_4: 0.9983 - val_loss: 1.2306 - val_accuracy: 0.8769 - val_precision_4: 0.8778 - val_recall_4: 0.8764 - lr: 3.5345e-05\n",
      "Epoch 115/500\n",
      "100/100 [==============================] - 21s 213ms/step - loss: 0.0015 - accuracy: 0.9995 - precision_4: 0.9995 - recall_4: 0.9993 - val_loss: 1.1694 - val_accuracy: 0.8801 - val_precision_4: 0.8810 - val_recall_4: 0.8796 - lr: 3.4994e-05\n",
      "Epoch 116/500\n"
     ]
    },
    {
     "name": "stdout",
     "output_type": "stream",
     "text": [
      "100/100 [==============================] - 21s 215ms/step - loss: 0.0068 - accuracy: 0.9989 - precision_4: 0.9991 - recall_4: 0.9989 - val_loss: 1.2007 - val_accuracy: 0.8654 - val_precision_4: 0.8666 - val_recall_4: 0.8649 - lr: 3.4646e-05\n",
      "Epoch 117/500\n",
      "100/100 [==============================] - 21s 215ms/step - loss: 0.0022 - accuracy: 0.9996 - precision_4: 0.9996 - recall_4: 0.9996 - val_loss: 1.3760 - val_accuracy: 0.8751 - val_precision_4: 0.8756 - val_recall_4: 0.8748 - lr: 3.4301e-05\n",
      "Epoch 118/500\n",
      "100/100 [==============================] - 21s 215ms/step - loss: 0.0054 - accuracy: 0.9983 - precision_4: 0.9983 - recall_4: 0.9983 - val_loss: 1.2133 - val_accuracy: 0.8779 - val_precision_4: 0.8786 - val_recall_4: 0.8775 - lr: 3.3960e-05\n",
      "Epoch 119/500\n",
      "100/100 [==============================] - 21s 215ms/step - loss: 0.0050 - accuracy: 0.9985 - precision_4: 0.9985 - recall_4: 0.9985 - val_loss: 1.1627 - val_accuracy: 0.8721 - val_precision_4: 0.8731 - val_recall_4: 0.8714 - lr: 3.3622e-05\n",
      "Epoch 120/500\n",
      "100/100 [==============================] - 21s 214ms/step - loss: 0.0119 - accuracy: 0.9969 - precision_4: 0.9969 - recall_4: 0.9968 - val_loss: 1.1091 - val_accuracy: 0.8722 - val_precision_4: 0.8729 - val_recall_4: 0.8717 - lr: 3.3287e-05\n",
      "Epoch 121/500\n",
      "100/100 [==============================] - 21s 214ms/step - loss: 0.0040 - accuracy: 0.9989 - precision_4: 0.9989 - recall_4: 0.9989 - val_loss: 1.3174 - val_accuracy: 0.8646 - val_precision_4: 0.8656 - val_recall_4: 0.8636 - lr: 3.2956e-05\n",
      "Epoch 122/500\n",
      "100/100 [==============================] - 21s 214ms/step - loss: 0.0068 - accuracy: 0.9978 - precision_4: 0.9980 - recall_4: 0.9978 - val_loss: 1.1379 - val_accuracy: 0.8713 - val_precision_4: 0.8725 - val_recall_4: 0.8708 - lr: 3.2628e-05\n",
      "Epoch 123/500\n",
      "100/100 [==============================] - 21s 214ms/step - loss: 0.0014 - accuracy: 0.9995 - precision_4: 0.9995 - recall_4: 0.9995 - val_loss: 1.2630 - val_accuracy: 0.8778 - val_precision_4: 0.8788 - val_recall_4: 0.8770 - lr: 3.2303e-05\n",
      "Epoch 124/500\n",
      "100/100 [==============================] - 21s 215ms/step - loss: 0.0038 - accuracy: 0.9984 - precision_4: 0.9984 - recall_4: 0.9983 - val_loss: 1.2738 - val_accuracy: 0.8760 - val_precision_4: 0.8771 - val_recall_4: 0.8757 - lr: 3.1982e-05\n",
      "Epoch 125/500\n",
      "100/100 [==============================] - 21s 214ms/step - loss: 0.0011 - accuracy: 0.9997 - precision_4: 0.9997 - recall_4: 0.9997 - val_loss: 1.2249 - val_accuracy: 0.8759 - val_precision_4: 0.8767 - val_recall_4: 0.8751 - lr: 3.1664e-05\n",
      "Epoch 126/500\n",
      "100/100 [==============================] - 21s 215ms/step - loss: 0.0019 - accuracy: 0.9993 - precision_4: 0.9993 - recall_4: 0.9993 - val_loss: 1.4250 - val_accuracy: 0.8765 - val_precision_4: 0.8771 - val_recall_4: 0.8762 - lr: 3.1349e-05\n",
      "Epoch 127/500\n",
      "100/100 [==============================] - 21s 215ms/step - loss: 0.0030 - accuracy: 0.9993 - precision_4: 0.9993 - recall_4: 0.9993 - val_loss: 1.2821 - val_accuracy: 0.8804 - val_precision_4: 0.8812 - val_recall_4: 0.8800 - lr: 3.1037e-05\n",
      "Epoch 128/500\n",
      "100/100 [==============================] - 21s 215ms/step - loss: 0.0018 - accuracy: 0.9995 - precision_4: 0.9996 - recall_4: 0.9995 - val_loss: 1.2835 - val_accuracy: 0.8747 - val_precision_4: 0.8760 - val_recall_4: 0.8742 - lr: 3.0728e-05\n",
      "Epoch 129/500\n",
      "100/100 [==============================] - 21s 214ms/step - loss: 0.0011 - accuracy: 0.9999 - precision_4: 0.9999 - recall_4: 0.9997 - val_loss: 1.3759 - val_accuracy: 0.8778 - val_precision_4: 0.8785 - val_recall_4: 0.8774 - lr: 3.0422e-05\n",
      "Epoch 130/500\n",
      "100/100 [==============================] - 22s 217ms/step - loss: 0.0128 - accuracy: 0.9956 - precision_4: 0.9956 - recall_4: 0.9955 - val_loss: 1.1830 - val_accuracy: 0.8742 - val_precision_4: 0.8746 - val_recall_4: 0.8737 - lr: 3.0119e-05\n",
      "Epoch 131/500\n",
      "100/100 [==============================] - 21s 215ms/step - loss: 0.0079 - accuracy: 0.9975 - precision_4: 0.9975 - recall_4: 0.9972 - val_loss: 1.2899 - val_accuracy: 0.8649 - val_precision_4: 0.8656 - val_recall_4: 0.8644 - lr: 2.9820e-05\n",
      "Epoch 132/500\n",
      "100/100 [==============================] - ETA: 0s - loss: 0.0087 - accuracy: 0.9977 - precision_4: 0.9979 - recall_4: 0.9977Restoring model weights from the end of the best epoch: 32.\n",
      "100/100 [==============================] - 22s 216ms/step - loss: 0.0087 - accuracy: 0.9977 - precision_4: 0.9979 - recall_4: 0.9977 - val_loss: 1.2959 - val_accuracy: 0.8690 - val_precision_4: 0.8700 - val_recall_4: 0.8686 - lr: 2.9523e-05\n",
      "Epoch 132: early stopping\n"
     ]
    },
    {
     "name": "stderr",
     "output_type": "stream",
     "text": [
      "WARNING:absl:Found untraced functions such as _jit_compiled_convolution_op, _jit_compiled_convolution_op, _jit_compiled_convolution_op, _jit_compiled_convolution_op, _jit_compiled_convolution_op while saving (showing 5 of 9). These functions will not be directly callable after loading.\n"
     ]
    },
    {
     "name": "stdout",
     "output_type": "stream",
     "text": [
      "INFO:tensorflow:Assets written to: tf_Adam_new_checkpoints/Model_final2\\assets\n"
     ]
    },
    {
     "name": "stderr",
     "output_type": "stream",
     "text": [
      "INFO:tensorflow:Assets written to: tf_Adam_new_checkpoints/Model_final2\\assets\n"
     ]
    },
    {
     "data": {
      "image/png": "[encoded data removed]",
      "text/plain": [
       "<Figure size 720x360 with 2 Axes>"
      ]
     },
     "metadata": {
      "needs_background": "light"
     },
     "output_type": "display_data"
    }
   ],
   "source": [
    "model = models.Sequential()\n",
    "\n",
    "model.add(layers.Conv2D(16, 3, activation='relu',\n",
    "                        input_shape=(227, 227, 1)\n",
    "                        ))\n",
    "model.add(layers.MaxPooling2D(2, 2))\n",
    "\n",
    "model.add(layers.Conv2D(64, 3, activation='relu'))\n",
    "model.add(layers.Conv2D(64, 3, activation='relu'))\n",
    "model.add(layers.MaxPooling2D(2,2))\n",
    "\n",
    "model.add(layers.Conv2D(128, 3, activation='relu'))\n",
    "model.add(layers.Conv2D(128, 3, activation='relu'))\n",
    "model.add(layers.MaxPooling2D(2,2))\n",
    "\n",
    "model.add(layers.Conv2D(256, 3, activation='relu'))\n",
    "model.add(layers.Conv2D(256, 3, activation='relu'))\n",
    "model.add(layers.MaxPooling2D(2,2))\n",
    "\n",
    "model.add(layers.Conv2D(512, 3, activation='relu'))\n",
    "model.add(layers.Conv2D(512, 3, activation='relu'))\n",
    "model.add(layers.MaxPooling2D(2,2))\n",
    "\n",
    "\n",
    "model.add(layers.Flatten())\n",
    "model.add(layers.Dense(4096, activation='relu'))\n",
    "model.add(layers.Dropout(rate=0.5))\n",
    "model.add(layers.Dense(4096, activation='relu'))\n",
    "model.add(layers.Dropout(rate=0.5))\n",
    "\n",
    "\n",
    "model.add(layers.Dense(8, activation='softmax'))\n",
    "\n",
    "\n",
    "model.summary()\n",
    "\n",
    "model.compile(optimizer=optimizers.Adam(learning_rate=0.0001),\n",
    "              loss=losses.CategoricalCrossentropy(),\n",
    "              metrics=['accuracy',\n",
    "                       Precision(),\n",
    "                       Recall()\n",
    "                       ])\n",
    "\n",
    "\n",
    "csv_logger = CSVLogger('Model_final2.log', separator=',', append=False)\n",
    "\n",
    "results = model.fit(train_generator,\n",
    "                    steps_per_epoch=100,\n",
    "                    epochs=epochs_to_train,  # Number of epochs\n",
    "                    validation_data=val_generator,\n",
    "                    verbose=1,\n",
    "                    callbacks=[\n",
    "                        lr_schd_cb,\n",
    "                        csv_logger,\n",
    "                        early_stop\n",
    "                    ]\n",
    "                    )\n",
    "\n",
    "\n",
    "results.model.save(tf_chkpt_path+'Model_final2')\n",
    "\n",
    "display_model_trainTestGraphs(results)"
   ]
  },
  {
   "cell_type": "markdown",
   "id": "df440775",
   "metadata": {},
   "source": [
    "# Model 9 -1 "
   ]
  },
  {
   "cell_type": "code",
   "execution_count": 32,
   "id": "3c4fea23",
   "metadata": {
    "ExecuteTime": {
     "end_time": "2022-05-24T21:32:09.469831Z",
     "start_time": "2022-05-24T21:32:09.462830Z"
    }
   },
   "outputs": [],
   "source": [
    "def scheduler(epoch, lr):\n",
    "    if epoch < 20:\n",
    "        return lr\n",
    "    else:\n",
    "        return lr*0.8\n",
    "    \n",
    "lr_schd_third_cb = tf.keras.callbacks.LearningRateScheduler(scheduler)"
   ]
  },
  {
   "cell_type": "code",
   "execution_count": 33,
   "id": "a98c32ea",
   "metadata": {
    "ExecuteTime": {
     "end_time": "2022-05-24T22:28:21.699832Z",
     "start_time": "2022-05-24T21:32:09.902349Z"
    },
    "scrolled": false
   },
   "outputs": [
    {
     "name": "stdout",
     "output_type": "stream",
     "text": [
      "Model: \"sequential_10\"\n",
      "_________________________________________________________________\n",
      " Layer (type)                Output Shape              Param #   \n",
      "=================================================================\n",
      " conv2d_67 (Conv2D)          (None, 225, 225, 16)      160       \n",
      "                                                                 \n",
      " max_pooling2d_47 (MaxPoolin  (None, 112, 112, 16)     0         \n",
      " g2D)                                                            \n",
      "                                                                 \n",
      " conv2d_68 (Conv2D)          (None, 110, 110, 64)      9280      \n",
      "                                                                 \n",
      " max_pooling2d_48 (MaxPoolin  (None, 55, 55, 64)       0         \n",
      " g2D)                                                            \n",
      "                                                                 \n",
      " conv2d_69 (Conv2D)          (None, 53, 53, 128)       73856     \n",
      "                                                                 \n",
      " max_pooling2d_49 (MaxPoolin  (None, 26, 26, 128)      0         \n",
      " g2D)                                                            \n",
      "                                                                 \n",
      " conv2d_70 (Conv2D)          (None, 24, 24, 256)       295168    \n",
      "                                                                 \n",
      " conv2d_71 (Conv2D)          (None, 22, 22, 256)       590080    \n",
      "                                                                 \n",
      " max_pooling2d_50 (MaxPoolin  (None, 11, 11, 256)      0         \n",
      " g2D)                                                            \n",
      "                                                                 \n",
      " conv2d_72 (Conv2D)          (None, 9, 9, 512)         1180160   \n",
      "                                                                 \n",
      " conv2d_73 (Conv2D)          (None, 7, 7, 512)         2359808   \n",
      "                                                                 \n",
      " max_pooling2d_51 (MaxPoolin  (None, 3, 3, 512)        0         \n",
      " g2D)                                                            \n",
      "                                                                 \n",
      " dropout_23 (Dropout)        (None, 3, 3, 512)         0         \n",
      "                                                                 \n",
      " flatten_10 (Flatten)        (None, 4608)              0         \n",
      "                                                                 \n",
      " dense_30 (Dense)            (None, 1024)              4719616   \n",
      "                                                                 \n",
      " dense_31 (Dense)            (None, 512)               524800    \n",
      "                                                                 \n",
      " dropout_24 (Dropout)        (None, 512)               0         \n",
      "                                                                 \n",
      " dense_32 (Dense)            (None, 8)                 4104      \n",
      "                                                                 \n",
      "=================================================================\n",
      "Total params: 9,757,032\n",
      "Trainable params: 9,757,032\n",
      "Non-trainable params: 0\n",
      "_________________________________________________________________\n",
      "Epoch 1/500\n",
      "200/200 [==============================] - 27s 131ms/step - loss: 0.8788 - accuracy: 0.8171 - precision_10: 0.8207 - recall_10: 0.7689 - val_loss: 0.8458 - val_accuracy: 0.7916 - val_precision_10: 0.7916 - val_recall_10: 0.7916 - lr: 1.0000e-04\n",
      "Epoch 2/500\n",
      "200/200 [==============================] - 27s 133ms/step - loss: 0.7432 - accuracy: 0.8173 - precision_10: 0.8344 - recall_10: 0.7999 - val_loss: 0.8465 - val_accuracy: 0.7842 - val_precision_10: 0.7931 - val_recall_10: 0.7689 - lr: 1.0000e-04\n",
      "Epoch 3/500\n",
      "200/200 [==============================] - 26s 132ms/step - loss: 0.6637 - accuracy: 0.8226 - precision_10: 0.8631 - recall_10: 0.7841 - val_loss: 0.9053 - val_accuracy: 0.7867 - val_precision_10: 0.7901 - val_recall_10: 0.7811 - lr: 1.0000e-04\n",
      "Epoch 4/500\n",
      "200/200 [==============================] - 26s 132ms/step - loss: 0.5877 - accuracy: 0.8413 - precision_10: 0.8675 - recall_10: 0.8063 - val_loss: 0.8499 - val_accuracy: 0.7468 - val_precision_10: 0.7804 - val_recall_10: 0.7007 - lr: 1.0000e-04\n",
      "Epoch 5/500\n",
      "200/200 [==============================] - 26s 133ms/step - loss: 0.5350 - accuracy: 0.8516 - precision_10: 0.8746 - recall_10: 0.8259 - val_loss: 0.7548 - val_accuracy: 0.7891 - val_precision_10: 0.8042 - val_recall_10: 0.7631 - lr: 1.0000e-04\n",
      "Epoch 6/500\n",
      "200/200 [==============================] - 26s 132ms/step - loss: 0.5055 - accuracy: 0.8591 - precision_10: 0.8792 - recall_10: 0.8368 - val_loss: 0.7047 - val_accuracy: 0.7924 - val_precision_10: 0.8126 - val_recall_10: 0.7549 - lr: 1.0000e-04\n",
      "Epoch 7/500\n",
      "200/200 [==============================] - 26s 131ms/step - loss: 0.4634 - accuracy: 0.8681 - precision_10: 0.8878 - recall_10: 0.8471 - val_loss: 0.6923 - val_accuracy: 0.8064 - val_precision_10: 0.8174 - val_recall_10: 0.7853 - lr: 1.0000e-04\n",
      "Epoch 8/500\n",
      "200/200 [==============================] - 27s 133ms/step - loss: 0.4399 - accuracy: 0.8745 - precision_10: 0.8928 - recall_10: 0.8527 - val_loss: 0.6964 - val_accuracy: 0.7852 - val_precision_10: 0.8204 - val_recall_10: 0.7198 - lr: 1.0000e-04\n",
      "Epoch 9/500\n",
      "200/200 [==============================] - 26s 131ms/step - loss: 0.4085 - accuracy: 0.8793 - precision_10: 0.8959 - recall_10: 0.8599 - val_loss: 0.6261 - val_accuracy: 0.8206 - val_precision_10: 0.8357 - val_recall_10: 0.8058 - lr: 1.0000e-04\n",
      "Epoch 10/500\n",
      "200/200 [==============================] - 26s 132ms/step - loss: 0.3765 - accuracy: 0.8900 - precision_10: 0.9055 - recall_10: 0.8721 - val_loss: 0.6260 - val_accuracy: 0.8209 - val_precision_10: 0.8352 - val_recall_10: 0.8049 - lr: 1.0000e-04\n",
      "Epoch 11/500\n",
      "200/200 [==============================] - 26s 130ms/step - loss: 0.3672 - accuracy: 0.8911 - precision_10: 0.9027 - recall_10: 0.8773 - val_loss: 0.6281 - val_accuracy: 0.8030 - val_precision_10: 0.8242 - val_recall_10: 0.7755 - lr: 1.0000e-04\n",
      "Epoch 12/500\n",
      "200/200 [==============================] - 26s 131ms/step - loss: 0.3507 - accuracy: 0.8947 - precision_10: 0.9054 - recall_10: 0.8829 - val_loss: 0.5921 - val_accuracy: 0.8270 - val_precision_10: 0.8484 - val_recall_10: 0.7929 - lr: 1.0000e-04\n",
      "Epoch 13/500\n",
      "200/200 [==============================] - 26s 131ms/step - loss: 0.3251 - accuracy: 0.8992 - precision_10: 0.9104 - recall_10: 0.8883 - val_loss: 0.5480 - val_accuracy: 0.8332 - val_precision_10: 0.8501 - val_recall_10: 0.8168 - lr: 1.0000e-04\n",
      "Epoch 14/500\n",
      "200/200 [==============================] - 27s 133ms/step - loss: 0.3076 - accuracy: 0.9079 - precision_10: 0.9179 - recall_10: 0.8985 - val_loss: 0.5648 - val_accuracy: 0.8435 - val_precision_10: 0.8509 - val_recall_10: 0.8381 - lr: 1.0000e-04\n",
      "Epoch 15/500\n",
      "200/200 [==============================] - 27s 133ms/step - loss: 0.2993 - accuracy: 0.9091 - precision_10: 0.9179 - recall_10: 0.8992 - val_loss: 0.5350 - val_accuracy: 0.8430 - val_precision_10: 0.8579 - val_recall_10: 0.8315 - lr: 1.0000e-04\n",
      "Epoch 16/500\n",
      "200/200 [==============================] - 27s 134ms/step - loss: 0.2808 - accuracy: 0.9133 - precision_10: 0.9200 - recall_10: 0.9065 - val_loss: 0.5124 - val_accuracy: 0.8452 - val_precision_10: 0.8632 - val_recall_10: 0.8310 - lr: 1.0000e-04\n",
      "Epoch 17/500\n",
      "200/200 [==============================] - 27s 134ms/step - loss: 0.2700 - accuracy: 0.9159 - precision_10: 0.9236 - recall_10: 0.9082 - val_loss: 0.5608 - val_accuracy: 0.8326 - val_precision_10: 0.8576 - val_recall_10: 0.8001 - lr: 1.0000e-04\n",
      "Epoch 18/500\n",
      "200/200 [==============================] - 27s 134ms/step - loss: 0.2538 - accuracy: 0.9213 - precision_10: 0.9286 - recall_10: 0.9141 - val_loss: 0.4943 - val_accuracy: 0.8576 - val_precision_10: 0.8663 - val_recall_10: 0.8519 - lr: 1.0000e-04\n",
      "Epoch 19/500\n",
      "200/200 [==============================] - 27s 133ms/step - loss: 0.2462 - accuracy: 0.9240 - precision_10: 0.9306 - recall_10: 0.9186 - val_loss: 0.4898 - val_accuracy: 0.8631 - val_precision_10: 0.8700 - val_recall_10: 0.8583 - lr: 1.0000e-04\n",
      "Epoch 20/500\n",
      "200/200 [==============================] - 26s 131ms/step - loss: 0.2308 - accuracy: 0.9264 - precision_10: 0.9326 - recall_10: 0.9203 - val_loss: 0.4762 - val_accuracy: 0.8646 - val_precision_10: 0.8740 - val_recall_10: 0.8576 - lr: 1.0000e-04\n"
     ]
    },
    {
     "name": "stdout",
     "output_type": "stream",
     "text": [
      "Epoch 21/500\n",
      "200/200 [==============================] - 26s 129ms/step - loss: 0.2065 - accuracy: 0.9366 - precision_10: 0.9422 - recall_10: 0.9309 - val_loss: 0.4776 - val_accuracy: 0.8633 - val_precision_10: 0.8762 - val_recall_10: 0.8575 - lr: 8.0000e-05\n",
      "Epoch 22/500\n",
      "200/200 [==============================] - 26s 131ms/step - loss: 0.1951 - accuracy: 0.9403 - precision_10: 0.9444 - recall_10: 0.9361 - val_loss: 0.4958 - val_accuracy: 0.8577 - val_precision_10: 0.8664 - val_recall_10: 0.8513 - lr: 6.4000e-05\n",
      "Epoch 23/500\n",
      "200/200 [==============================] - 26s 131ms/step - loss: 0.1742 - accuracy: 0.9455 - precision_10: 0.9489 - recall_10: 0.9413 - val_loss: 0.5096 - val_accuracy: 0.8621 - val_precision_10: 0.8734 - val_recall_10: 0.8561 - lr: 5.1200e-05\n",
      "Epoch 24/500\n",
      "200/200 [==============================] - 26s 130ms/step - loss: 0.1677 - accuracy: 0.9476 - precision_10: 0.9512 - recall_10: 0.9438 - val_loss: 0.4866 - val_accuracy: 0.8726 - val_precision_10: 0.8817 - val_recall_10: 0.8693 - lr: 4.0960e-05\n",
      "Epoch 25/500\n",
      "200/200 [==============================] - 26s 130ms/step - loss: 0.1566 - accuracy: 0.9493 - precision_10: 0.9526 - recall_10: 0.9456 - val_loss: 0.4930 - val_accuracy: 0.8672 - val_precision_10: 0.8760 - val_recall_10: 0.8629 - lr: 3.2768e-05\n",
      "Epoch 26/500\n",
      "200/200 [==============================] - 26s 131ms/step - loss: 0.1402 - accuracy: 0.9543 - precision_10: 0.9579 - recall_10: 0.9515 - val_loss: 0.4893 - val_accuracy: 0.8614 - val_precision_10: 0.8729 - val_recall_10: 0.8543 - lr: 2.6214e-05\n",
      "Epoch 27/500\n",
      "200/200 [==============================] - 26s 130ms/step - loss: 0.1449 - accuracy: 0.9544 - precision_10: 0.9575 - recall_10: 0.9516 - val_loss: 0.4779 - val_accuracy: 0.8694 - val_precision_10: 0.8784 - val_recall_10: 0.8651 - lr: 2.0972e-05\n",
      "Epoch 28/500\n",
      "200/200 [==============================] - 26s 131ms/step - loss: 0.1403 - accuracy: 0.9569 - precision_10: 0.9598 - recall_10: 0.9542 - val_loss: 0.4659 - val_accuracy: 0.8730 - val_precision_10: 0.8790 - val_recall_10: 0.8698 - lr: 1.6777e-05\n",
      "Epoch 29/500\n",
      "200/200 [==============================] - 26s 130ms/step - loss: 0.1303 - accuracy: 0.9577 - precision_10: 0.9603 - recall_10: 0.9553 - val_loss: 0.4775 - val_accuracy: 0.8742 - val_precision_10: 0.8802 - val_recall_10: 0.8720 - lr: 1.3422e-05\n",
      "Epoch 30/500\n",
      "200/200 [==============================] - 26s 131ms/step - loss: 0.1244 - accuracy: 0.9603 - precision_10: 0.9627 - recall_10: 0.9582 - val_loss: 0.4832 - val_accuracy: 0.8753 - val_precision_10: 0.8806 - val_recall_10: 0.8725 - lr: 1.0737e-05\n",
      "Epoch 31/500\n",
      "200/200 [==============================] - 26s 130ms/step - loss: 0.1254 - accuracy: 0.9613 - precision_10: 0.9632 - recall_10: 0.9591 - val_loss: 0.4742 - val_accuracy: 0.8731 - val_precision_10: 0.8800 - val_recall_10: 0.8694 - lr: 8.5899e-06\n",
      "Epoch 32/500\n",
      "200/200 [==============================] - 26s 130ms/step - loss: 0.1182 - accuracy: 0.9635 - precision_10: 0.9654 - recall_10: 0.9613 - val_loss: 0.4825 - val_accuracy: 0.8732 - val_precision_10: 0.8797 - val_recall_10: 0.8699 - lr: 6.8719e-06\n",
      "Epoch 33/500\n",
      "200/200 [==============================] - 26s 130ms/step - loss: 0.1169 - accuracy: 0.9629 - precision_10: 0.9656 - recall_10: 0.9605 - val_loss: 0.4726 - val_accuracy: 0.8712 - val_precision_10: 0.8790 - val_recall_10: 0.8678 - lr: 5.4976e-06\n",
      "Epoch 34/500\n",
      "200/200 [==============================] - 26s 132ms/step - loss: 0.1227 - accuracy: 0.9615 - precision_10: 0.9637 - recall_10: 0.9585 - val_loss: 0.4816 - val_accuracy: 0.8716 - val_precision_10: 0.8785 - val_recall_10: 0.8686 - lr: 4.3980e-06\n",
      "Epoch 35/500\n",
      "200/200 [==============================] - 26s 131ms/step - loss: 0.1201 - accuracy: 0.9630 - precision_10: 0.9649 - recall_10: 0.9606 - val_loss: 0.4722 - val_accuracy: 0.8739 - val_precision_10: 0.8803 - val_recall_10: 0.8704 - lr: 3.5184e-06\n",
      "Epoch 36/500\n",
      "200/200 [==============================] - 26s 130ms/step - loss: 0.1169 - accuracy: 0.9624 - precision_10: 0.9646 - recall_10: 0.9602 - val_loss: 0.4722 - val_accuracy: 0.8739 - val_precision_10: 0.8797 - val_recall_10: 0.8708 - lr: 2.8147e-06\n",
      "Epoch 37/500\n",
      "200/200 [==============================] - 26s 129ms/step - loss: 0.1171 - accuracy: 0.9631 - precision_10: 0.9654 - recall_10: 0.9613 - val_loss: 0.4688 - val_accuracy: 0.8733 - val_precision_10: 0.8797 - val_recall_10: 0.8699 - lr: 2.2518e-06\n",
      "Epoch 38/500\n",
      "200/200 [==============================] - 26s 131ms/step - loss: 0.1149 - accuracy: 0.9637 - precision_10: 0.9652 - recall_10: 0.9620 - val_loss: 0.4702 - val_accuracy: 0.8734 - val_precision_10: 0.8799 - val_recall_10: 0.8701 - lr: 1.8014e-06\n",
      "Epoch 39/500\n",
      "200/200 [==============================] - 26s 129ms/step - loss: 0.1214 - accuracy: 0.9621 - precision_10: 0.9642 - recall_10: 0.9598 - val_loss: 0.4760 - val_accuracy: 0.8729 - val_precision_10: 0.8794 - val_recall_10: 0.8698 - lr: 1.4412e-06\n",
      "Epoch 40/500\n",
      "200/200 [==============================] - 26s 129ms/step - loss: 0.1113 - accuracy: 0.9654 - precision_10: 0.9677 - recall_10: 0.9636 - val_loss: 0.4802 - val_accuracy: 0.8738 - val_precision_10: 0.8804 - val_recall_10: 0.8706 - lr: 1.1529e-06\n",
      "Epoch 41/500\n",
      "200/200 [==============================] - 26s 129ms/step - loss: 0.1137 - accuracy: 0.9647 - precision_10: 0.9665 - recall_10: 0.9627 - val_loss: 0.4734 - val_accuracy: 0.8750 - val_precision_10: 0.8807 - val_recall_10: 0.8716 - lr: 9.2234e-07\n",
      "Epoch 42/500\n",
      "200/200 [==============================] - 26s 132ms/step - loss: 0.1150 - accuracy: 0.9645 - precision_10: 0.9664 - recall_10: 0.9629 - val_loss: 0.4782 - val_accuracy: 0.8740 - val_precision_10: 0.8799 - val_recall_10: 0.8709 - lr: 7.3787e-07\n",
      "Epoch 43/500\n",
      "200/200 [==============================] - 26s 130ms/step - loss: 0.1133 - accuracy: 0.9640 - precision_10: 0.9664 - recall_10: 0.9623 - val_loss: 0.4798 - val_accuracy: 0.8748 - val_precision_10: 0.8799 - val_recall_10: 0.8715 - lr: 5.9030e-07\n",
      "Epoch 44/500\n",
      "200/200 [==============================] - 26s 130ms/step - loss: 0.1120 - accuracy: 0.9649 - precision_10: 0.9673 - recall_10: 0.9622 - val_loss: 0.4770 - val_accuracy: 0.8740 - val_precision_10: 0.8797 - val_recall_10: 0.8706 - lr: 4.7224e-07\n",
      "Epoch 45/500\n",
      "200/200 [==============================] - 27s 135ms/step - loss: 0.1139 - accuracy: 0.9650 - precision_10: 0.9672 - recall_10: 0.9628 - val_loss: 0.4786 - val_accuracy: 0.8738 - val_precision_10: 0.8799 - val_recall_10: 0.8705 - lr: 3.7779e-07\n",
      "Epoch 46/500\n",
      "200/200 [==============================] - 27s 134ms/step - loss: 0.1153 - accuracy: 0.9635 - precision_10: 0.9658 - recall_10: 0.9617 - val_loss: 0.4793 - val_accuracy: 0.8734 - val_precision_10: 0.8792 - val_recall_10: 0.8703 - lr: 3.0223e-07\n",
      "Epoch 47/500\n",
      "200/200 [==============================] - 26s 132ms/step - loss: 0.1181 - accuracy: 0.9631 - precision_10: 0.9649 - recall_10: 0.9615 - val_loss: 0.4765 - val_accuracy: 0.8739 - val_precision_10: 0.8798 - val_recall_10: 0.8708 - lr: 2.4179e-07\n",
      "Epoch 48/500\n",
      "200/200 [==============================] - 27s 133ms/step - loss: 0.1146 - accuracy: 0.9648 - precision_10: 0.9666 - recall_10: 0.9633 - val_loss: 0.4758 - val_accuracy: 0.8737 - val_precision_10: 0.8796 - val_recall_10: 0.8707 - lr: 1.9343e-07\n",
      "Epoch 49/500\n",
      "200/200 [==============================] - 27s 133ms/step - loss: 0.1101 - accuracy: 0.9645 - precision_10: 0.9667 - recall_10: 0.9621 - val_loss: 0.4761 - val_accuracy: 0.8739 - val_precision_10: 0.8798 - val_recall_10: 0.8709 - lr: 1.5474e-07\n",
      "Epoch 50/500\n",
      "200/200 [==============================] - 26s 132ms/step - loss: 0.1102 - accuracy: 0.9664 - precision_10: 0.9684 - recall_10: 0.9643 - val_loss: 0.4768 - val_accuracy: 0.8737 - val_precision_10: 0.8799 - val_recall_10: 0.8706 - lr: 1.2379e-07\n",
      "Epoch 51/500\n",
      "200/200 [==============================] - 26s 131ms/step - loss: 0.1107 - accuracy: 0.9655 - precision_10: 0.9668 - recall_10: 0.9638 - val_loss: 0.4765 - val_accuracy: 0.8740 - val_precision_10: 0.8800 - val_recall_10: 0.8710 - lr: 9.9035e-08\n",
      "Epoch 52/500\n",
      "200/200 [==============================] - 26s 132ms/step - loss: 0.1096 - accuracy: 0.9657 - precision_10: 0.9676 - recall_10: 0.9643 - val_loss: 0.4768 - val_accuracy: 0.8742 - val_precision_10: 0.8802 - val_recall_10: 0.8710 - lr: 7.9228e-08\n"
     ]
    },
    {
     "name": "stdout",
     "output_type": "stream",
     "text": [
      "Epoch 53/500\n",
      "200/200 [==============================] - 26s 130ms/step - loss: 0.1141 - accuracy: 0.9635 - precision_10: 0.9652 - recall_10: 0.9617 - val_loss: 0.4772 - val_accuracy: 0.8742 - val_precision_10: 0.8802 - val_recall_10: 0.8710 - lr: 6.3383e-08\n",
      "Epoch 54/500\n",
      "200/200 [==============================] - 26s 131ms/step - loss: 0.1133 - accuracy: 0.9640 - precision_10: 0.9665 - recall_10: 0.9617 - val_loss: 0.4770 - val_accuracy: 0.8744 - val_precision_10: 0.8802 - val_recall_10: 0.8710 - lr: 5.0706e-08\n",
      "Epoch 55/500\n",
      "200/200 [==============================] - 26s 130ms/step - loss: 0.1213 - accuracy: 0.9615 - precision_10: 0.9635 - recall_10: 0.9591 - val_loss: 0.4769 - val_accuracy: 0.8741 - val_precision_10: 0.8802 - val_recall_10: 0.8710 - lr: 4.0565e-08\n",
      "Epoch 56/500\n",
      "200/200 [==============================] - 26s 131ms/step - loss: 0.1168 - accuracy: 0.9620 - precision_10: 0.9643 - recall_10: 0.9597 - val_loss: 0.4768 - val_accuracy: 0.8740 - val_precision_10: 0.8804 - val_recall_10: 0.8709 - lr: 3.2452e-08\n",
      "Epoch 57/500\n",
      "200/200 [==============================] - 26s 132ms/step - loss: 0.1119 - accuracy: 0.9657 - precision_10: 0.9675 - recall_10: 0.9635 - val_loss: 0.4768 - val_accuracy: 0.8744 - val_precision_10: 0.8805 - val_recall_10: 0.8711 - lr: 2.5961e-08\n",
      "Epoch 58/500\n",
      "200/200 [==============================] - 26s 132ms/step - loss: 0.1096 - accuracy: 0.9662 - precision_10: 0.9679 - recall_10: 0.9634 - val_loss: 0.4770 - val_accuracy: 0.8745 - val_precision_10: 0.8802 - val_recall_10: 0.8710 - lr: 2.0769e-08\n",
      "Epoch 59/500\n",
      "200/200 [==============================] - 26s 131ms/step - loss: 0.1092 - accuracy: 0.9664 - precision_10: 0.9677 - recall_10: 0.9644 - val_loss: 0.4770 - val_accuracy: 0.8744 - val_precision_10: 0.8802 - val_recall_10: 0.8710 - lr: 1.6615e-08\n",
      "Epoch 60/500\n",
      "200/200 [==============================] - 26s 130ms/step - loss: 0.1073 - accuracy: 0.9675 - precision_10: 0.9694 - recall_10: 0.9660 - val_loss: 0.4770 - val_accuracy: 0.8744 - val_precision_10: 0.8802 - val_recall_10: 0.8710 - lr: 1.3292e-08\n",
      "Epoch 61/500\n",
      "200/200 [==============================] - 26s 130ms/step - loss: 0.1152 - accuracy: 0.9648 - precision_10: 0.9662 - recall_10: 0.9621 - val_loss: 0.4770 - val_accuracy: 0.8744 - val_precision_10: 0.8803 - val_recall_10: 0.8710 - lr: 1.0634e-08\n",
      "Epoch 62/500\n",
      "200/200 [==============================] - 26s 131ms/step - loss: 0.1102 - accuracy: 0.9653 - precision_10: 0.9673 - recall_10: 0.9638 - val_loss: 0.4770 - val_accuracy: 0.8744 - val_precision_10: 0.8803 - val_recall_10: 0.8709 - lr: 8.5071e-09\n",
      "Epoch 63/500\n",
      "200/200 [==============================] - 26s 132ms/step - loss: 0.1105 - accuracy: 0.9647 - precision_10: 0.9662 - recall_10: 0.9631 - val_loss: 0.4770 - val_accuracy: 0.8744 - val_precision_10: 0.8802 - val_recall_10: 0.8709 - lr: 6.8056e-09\n",
      "Epoch 64/500\n",
      "200/200 [==============================] - 27s 135ms/step - loss: 0.1209 - accuracy: 0.9634 - precision_10: 0.9649 - recall_10: 0.9617 - val_loss: 0.4770 - val_accuracy: 0.8744 - val_precision_10: 0.8802 - val_recall_10: 0.8710 - lr: 5.4445e-09\n",
      "Epoch 65/500\n",
      "200/200 [==============================] - 27s 136ms/step - loss: 0.1136 - accuracy: 0.9641 - precision_10: 0.9660 - recall_10: 0.9620 - val_loss: 0.4770 - val_accuracy: 0.8744 - val_precision_10: 0.8802 - val_recall_10: 0.8710 - lr: 4.3556e-09\n",
      "Epoch 66/500\n",
      "200/200 [==============================] - 26s 131ms/step - loss: 0.1146 - accuracy: 0.9636 - precision_10: 0.9658 - recall_10: 0.9616 - val_loss: 0.4770 - val_accuracy: 0.8744 - val_precision_10: 0.8803 - val_recall_10: 0.8710 - lr: 3.4845e-09\n",
      "Epoch 67/500\n",
      "200/200 [==============================] - 26s 131ms/step - loss: 0.1098 - accuracy: 0.9644 - precision_10: 0.9667 - recall_10: 0.9622 - val_loss: 0.4770 - val_accuracy: 0.8744 - val_precision_10: 0.8803 - val_recall_10: 0.8710 - lr: 2.7876e-09\n",
      "Epoch 68/500\n",
      "200/200 [==============================] - 27s 134ms/step - loss: 0.1074 - accuracy: 0.9654 - precision_10: 0.9674 - recall_10: 0.9635 - val_loss: 0.4770 - val_accuracy: 0.8744 - val_precision_10: 0.8802 - val_recall_10: 0.8710 - lr: 2.2301e-09\n",
      "Epoch 69/500\n",
      "200/200 [==============================] - 27s 134ms/step - loss: 0.1138 - accuracy: 0.9645 - precision_10: 0.9660 - recall_10: 0.9620 - val_loss: 0.4770 - val_accuracy: 0.8744 - val_precision_10: 0.8802 - val_recall_10: 0.8710 - lr: 1.7841e-09\n",
      "Epoch 70/500\n",
      "200/200 [==============================] - 27s 133ms/step - loss: 0.1145 - accuracy: 0.9635 - precision_10: 0.9655 - recall_10: 0.9610 - val_loss: 0.4770 - val_accuracy: 0.8744 - val_precision_10: 0.8802 - val_recall_10: 0.8710 - lr: 1.4272e-09\n",
      "Epoch 71/500\n",
      "200/200 [==============================] - 27s 133ms/step - loss: 0.1169 - accuracy: 0.9627 - precision_10: 0.9649 - recall_10: 0.9602 - val_loss: 0.4770 - val_accuracy: 0.8744 - val_precision_10: 0.8802 - val_recall_10: 0.8710 - lr: 1.1418e-09\n",
      "Epoch 72/500\n",
      "200/200 [==============================] - 26s 130ms/step - loss: 0.1084 - accuracy: 0.9651 - precision_10: 0.9671 - recall_10: 0.9632 - val_loss: 0.4770 - val_accuracy: 0.8744 - val_precision_10: 0.8802 - val_recall_10: 0.8710 - lr: 9.1344e-10\n",
      "Epoch 73/500\n",
      "200/200 [==============================] - 26s 131ms/step - loss: 0.1156 - accuracy: 0.9637 - precision_10: 0.9649 - recall_10: 0.9621 - val_loss: 0.4770 - val_accuracy: 0.8744 - val_precision_10: 0.8802 - val_recall_10: 0.8710 - lr: 7.3075e-10\n",
      "Epoch 74/500\n",
      "200/200 [==============================] - 27s 134ms/step - loss: 0.1116 - accuracy: 0.9644 - precision_10: 0.9665 - recall_10: 0.9624 - val_loss: 0.4770 - val_accuracy: 0.8744 - val_precision_10: 0.8802 - val_recall_10: 0.8710 - lr: 5.8460e-10\n",
      "Epoch 75/500\n",
      "200/200 [==============================] - 26s 132ms/step - loss: 0.1154 - accuracy: 0.9635 - precision_10: 0.9650 - recall_10: 0.9609 - val_loss: 0.4770 - val_accuracy: 0.8744 - val_precision_10: 0.8802 - val_recall_10: 0.8710 - lr: 4.6768e-10\n",
      "Epoch 76/500\n",
      "200/200 [==============================] - 27s 134ms/step - loss: 0.1097 - accuracy: 0.9657 - precision_10: 0.9676 - recall_10: 0.9637 - val_loss: 0.4770 - val_accuracy: 0.8744 - val_precision_10: 0.8802 - val_recall_10: 0.8710 - lr: 3.7414e-10\n",
      "Epoch 77/500\n",
      "200/200 [==============================] - 27s 133ms/step - loss: 0.1108 - accuracy: 0.9651 - precision_10: 0.9668 - recall_10: 0.9636 - val_loss: 0.4770 - val_accuracy: 0.8744 - val_precision_10: 0.8802 - val_recall_10: 0.8710 - lr: 2.9932e-10\n",
      "Epoch 78/500\n",
      "200/200 [==============================] - 27s 133ms/step - loss: 0.1172 - accuracy: 0.9643 - precision_10: 0.9655 - recall_10: 0.9624 - val_loss: 0.4770 - val_accuracy: 0.8744 - val_precision_10: 0.8802 - val_recall_10: 0.8710 - lr: 2.3945e-10\n",
      "Epoch 79/500\n",
      "200/200 [==============================] - 27s 133ms/step - loss: 0.1104 - accuracy: 0.9651 - precision_10: 0.9669 - recall_10: 0.9627 - val_loss: 0.4770 - val_accuracy: 0.8744 - val_precision_10: 0.8802 - val_recall_10: 0.8710 - lr: 1.9156e-10\n",
      "Epoch 80/500\n",
      "200/200 [==============================] - 27s 134ms/step - loss: 0.1150 - accuracy: 0.9644 - precision_10: 0.9664 - recall_10: 0.9624 - val_loss: 0.4770 - val_accuracy: 0.8744 - val_precision_10: 0.8802 - val_recall_10: 0.8710 - lr: 1.5325e-10\n",
      "Epoch 81/500\n",
      "200/200 [==============================] - 27s 133ms/step - loss: 0.1175 - accuracy: 0.9644 - precision_10: 0.9659 - recall_10: 0.9625 - val_loss: 0.4770 - val_accuracy: 0.8744 - val_precision_10: 0.8802 - val_recall_10: 0.8710 - lr: 1.2260e-10\n",
      "Epoch 82/500\n",
      "200/200 [==============================] - 27s 133ms/step - loss: 0.1101 - accuracy: 0.9655 - precision_10: 0.9672 - recall_10: 0.9639 - val_loss: 0.4770 - val_accuracy: 0.8744 - val_precision_10: 0.8802 - val_recall_10: 0.8710 - lr: 9.8080e-11\n",
      "Epoch 83/500\n",
      "200/200 [==============================] - 26s 132ms/step - loss: 0.1166 - accuracy: 0.9626 - precision_10: 0.9650 - recall_10: 0.9606 - val_loss: 0.4770 - val_accuracy: 0.8744 - val_precision_10: 0.8802 - val_recall_10: 0.8710 - lr: 7.8464e-11\n",
      "Epoch 84/500\n",
      "200/200 [==============================] - 27s 133ms/step - loss: 0.1125 - accuracy: 0.9661 - precision_10: 0.9675 - recall_10: 0.9635 - val_loss: 0.4770 - val_accuracy: 0.8744 - val_precision_10: 0.8802 - val_recall_10: 0.8710 - lr: 6.2771e-11\n"
     ]
    },
    {
     "name": "stdout",
     "output_type": "stream",
     "text": [
      "Epoch 85/500\n",
      "200/200 [==============================] - 27s 133ms/step - loss: 0.1166 - accuracy: 0.9630 - precision_10: 0.9646 - recall_10: 0.9612 - val_loss: 0.4770 - val_accuracy: 0.8744 - val_precision_10: 0.8802 - val_recall_10: 0.8710 - lr: 5.0217e-11\n",
      "Epoch 86/500\n",
      "200/200 [==============================] - 26s 131ms/step - loss: 0.1101 - accuracy: 0.9659 - precision_10: 0.9670 - recall_10: 0.9641 - val_loss: 0.4770 - val_accuracy: 0.8744 - val_precision_10: 0.8802 - val_recall_10: 0.8710 - lr: 4.0173e-11\n",
      "Epoch 87/500\n",
      "200/200 [==============================] - 26s 130ms/step - loss: 0.1106 - accuracy: 0.9651 - precision_10: 0.9666 - recall_10: 0.9633 - val_loss: 0.4770 - val_accuracy: 0.8744 - val_precision_10: 0.8802 - val_recall_10: 0.8710 - lr: 3.2139e-11\n",
      "Epoch 88/500\n",
      "200/200 [==============================] - 27s 133ms/step - loss: 0.1149 - accuracy: 0.9629 - precision_10: 0.9650 - recall_10: 0.9608 - val_loss: 0.4770 - val_accuracy: 0.8744 - val_precision_10: 0.8802 - val_recall_10: 0.8710 - lr: 2.5711e-11\n",
      "Epoch 89/500\n",
      "200/200 [==============================] - 26s 132ms/step - loss: 0.1128 - accuracy: 0.9631 - precision_10: 0.9650 - recall_10: 0.9613 - val_loss: 0.4770 - val_accuracy: 0.8744 - val_precision_10: 0.8802 - val_recall_10: 0.8710 - lr: 2.0569e-11\n",
      "Epoch 90/500\n",
      "200/200 [==============================] - 26s 132ms/step - loss: 0.1092 - accuracy: 0.9642 - precision_10: 0.9661 - recall_10: 0.9628 - val_loss: 0.4770 - val_accuracy: 0.8744 - val_precision_10: 0.8802 - val_recall_10: 0.8710 - lr: 1.6455e-11\n",
      "Epoch 91/500\n",
      "200/200 [==============================] - 26s 131ms/step - loss: 0.1100 - accuracy: 0.9655 - precision_10: 0.9674 - recall_10: 0.9643 - val_loss: 0.4770 - val_accuracy: 0.8744 - val_precision_10: 0.8802 - val_recall_10: 0.8710 - lr: 1.3164e-11\n",
      "Epoch 92/500\n",
      "200/200 [==============================] - 26s 132ms/step - loss: 0.1167 - accuracy: 0.9630 - precision_10: 0.9646 - recall_10: 0.9606 - val_loss: 0.4770 - val_accuracy: 0.8744 - val_precision_10: 0.8802 - val_recall_10: 0.8710 - lr: 1.0531e-11\n",
      "Epoch 93/500\n",
      "200/200 [==============================] - 26s 131ms/step - loss: 0.1126 - accuracy: 0.9640 - precision_10: 0.9656 - recall_10: 0.9620 - val_loss: 0.4770 - val_accuracy: 0.8744 - val_precision_10: 0.8802 - val_recall_10: 0.8710 - lr: 8.4250e-12\n",
      "Epoch 94/500\n",
      "200/200 [==============================] - 27s 133ms/step - loss: 0.1140 - accuracy: 0.9647 - precision_10: 0.9663 - recall_10: 0.9622 - val_loss: 0.4770 - val_accuracy: 0.8744 - val_precision_10: 0.8802 - val_recall_10: 0.8710 - lr: 6.7400e-12\n",
      "Epoch 95/500\n",
      "200/200 [==============================] - 26s 132ms/step - loss: 0.1138 - accuracy: 0.9626 - precision_10: 0.9643 - recall_10: 0.9599 - val_loss: 0.4770 - val_accuracy: 0.8744 - val_precision_10: 0.8802 - val_recall_10: 0.8710 - lr: 5.3920e-12\n",
      "Epoch 96/500\n",
      "200/200 [==============================] - 26s 132ms/step - loss: 0.1081 - accuracy: 0.9650 - precision_10: 0.9674 - recall_10: 0.9626 - val_loss: 0.4770 - val_accuracy: 0.8744 - val_precision_10: 0.8802 - val_recall_10: 0.8710 - lr: 4.3136e-12\n",
      "Epoch 97/500\n",
      "200/200 [==============================] - 26s 129ms/step - loss: 0.1151 - accuracy: 0.9647 - precision_10: 0.9665 - recall_10: 0.9628 - val_loss: 0.4770 - val_accuracy: 0.8744 - val_precision_10: 0.8802 - val_recall_10: 0.8710 - lr: 3.4509e-12\n",
      "Epoch 98/500\n",
      "200/200 [==============================] - 26s 131ms/step - loss: 0.1121 - accuracy: 0.9646 - precision_10: 0.9664 - recall_10: 0.9620 - val_loss: 0.4770 - val_accuracy: 0.8744 - val_precision_10: 0.8802 - val_recall_10: 0.8710 - lr: 2.7607e-12\n",
      "Epoch 99/500\n",
      "200/200 [==============================] - 26s 130ms/step - loss: 0.1240 - accuracy: 0.9611 - precision_10: 0.9626 - recall_10: 0.9591 - val_loss: 0.4770 - val_accuracy: 0.8744 - val_precision_10: 0.8802 - val_recall_10: 0.8710 - lr: 2.2086e-12\n",
      "Epoch 100/500\n",
      "200/200 [==============================] - 26s 130ms/step - loss: 0.1061 - accuracy: 0.9660 - precision_10: 0.9678 - recall_10: 0.9640 - val_loss: 0.4770 - val_accuracy: 0.8744 - val_precision_10: 0.8802 - val_recall_10: 0.8710 - lr: 1.7668e-12\n",
      "Epoch 101/500\n",
      "200/200 [==============================] - 26s 129ms/step - loss: 0.1071 - accuracy: 0.9669 - precision_10: 0.9695 - recall_10: 0.9643 - val_loss: 0.4770 - val_accuracy: 0.8744 - val_precision_10: 0.8802 - val_recall_10: 0.8710 - lr: 1.4135e-12\n",
      "Epoch 102/500\n",
      "200/200 [==============================] - 26s 130ms/step - loss: 0.1110 - accuracy: 0.9665 - precision_10: 0.9681 - recall_10: 0.9641 - val_loss: 0.4770 - val_accuracy: 0.8744 - val_precision_10: 0.8802 - val_recall_10: 0.8710 - lr: 1.1308e-12\n",
      "Epoch 103/500\n",
      "200/200 [==============================] - 26s 132ms/step - loss: 0.1085 - accuracy: 0.9650 - precision_10: 0.9681 - recall_10: 0.9633 - val_loss: 0.4770 - val_accuracy: 0.8744 - val_precision_10: 0.8802 - val_recall_10: 0.8710 - lr: 9.0463e-13\n",
      "Epoch 104/500\n",
      "200/200 [==============================] - 27s 134ms/step - loss: 0.1103 - accuracy: 0.9658 - precision_10: 0.9677 - recall_10: 0.9634 - val_loss: 0.4770 - val_accuracy: 0.8744 - val_precision_10: 0.8802 - val_recall_10: 0.8710 - lr: 7.2370e-13\n",
      "Epoch 105/500\n",
      "200/200 [==============================] - 26s 130ms/step - loss: 0.1099 - accuracy: 0.9652 - precision_10: 0.9672 - recall_10: 0.9628 - val_loss: 0.4770 - val_accuracy: 0.8744 - val_precision_10: 0.8802 - val_recall_10: 0.8710 - lr: 5.7896e-13\n",
      "Epoch 106/500\n",
      "200/200 [==============================] - 26s 132ms/step - loss: 0.1129 - accuracy: 0.9643 - precision_10: 0.9665 - recall_10: 0.9621 - val_loss: 0.4770 - val_accuracy: 0.8744 - val_precision_10: 0.8802 - val_recall_10: 0.8710 - lr: 4.6317e-13\n",
      "Epoch 107/500\n",
      "200/200 [==============================] - 26s 131ms/step - loss: 0.1119 - accuracy: 0.9661 - precision_10: 0.9676 - recall_10: 0.9644 - val_loss: 0.4770 - val_accuracy: 0.8744 - val_precision_10: 0.8802 - val_recall_10: 0.8710 - lr: 3.7053e-13\n",
      "Epoch 108/500\n",
      "200/200 [==============================] - 26s 130ms/step - loss: 0.1133 - accuracy: 0.9638 - precision_10: 0.9657 - recall_10: 0.9621 - val_loss: 0.4770 - val_accuracy: 0.8744 - val_precision_10: 0.8802 - val_recall_10: 0.8710 - lr: 2.9643e-13\n",
      "Epoch 109/500\n",
      "200/200 [==============================] - 26s 128ms/step - loss: 0.1185 - accuracy: 0.9613 - precision_10: 0.9634 - recall_10: 0.9591 - val_loss: 0.4770 - val_accuracy: 0.8744 - val_precision_10: 0.8802 - val_recall_10: 0.8710 - lr: 2.3714e-13\n",
      "Epoch 110/500\n",
      "200/200 [==============================] - 26s 130ms/step - loss: 0.1122 - accuracy: 0.9635 - precision_10: 0.9656 - recall_10: 0.9617 - val_loss: 0.4770 - val_accuracy: 0.8744 - val_precision_10: 0.8802 - val_recall_10: 0.8710 - lr: 1.8971e-13\n",
      "Epoch 111/500\n",
      "200/200 [==============================] - 26s 130ms/step - loss: 0.1110 - accuracy: 0.9648 - precision_10: 0.9668 - recall_10: 0.9630 - val_loss: 0.4770 - val_accuracy: 0.8744 - val_precision_10: 0.8802 - val_recall_10: 0.8710 - lr: 1.5177e-13\n",
      "Epoch 112/500\n",
      "200/200 [==============================] - 26s 130ms/step - loss: 0.1147 - accuracy: 0.9634 - precision_10: 0.9657 - recall_10: 0.9615 - val_loss: 0.4770 - val_accuracy: 0.8744 - val_precision_10: 0.8802 - val_recall_10: 0.8710 - lr: 1.2142e-13\n",
      "Epoch 113/500\n",
      "200/200 [==============================] - 26s 129ms/step - loss: 0.1145 - accuracy: 0.9637 - precision_10: 0.9657 - recall_10: 0.9620 - val_loss: 0.4770 - val_accuracy: 0.8744 - val_precision_10: 0.8802 - val_recall_10: 0.8710 - lr: 9.7133e-14\n",
      "Epoch 114/500\n",
      "200/200 [==============================] - 26s 131ms/step - loss: 0.1111 - accuracy: 0.9644 - precision_10: 0.9667 - recall_10: 0.9621 - val_loss: 0.4770 - val_accuracy: 0.8744 - val_precision_10: 0.8802 - val_recall_10: 0.8710 - lr: 7.7707e-14\n",
      "Epoch 115/500\n",
      "200/200 [==============================] - 26s 132ms/step - loss: 0.1060 - accuracy: 0.9664 - precision_10: 0.9685 - recall_10: 0.9647 - val_loss: 0.4770 - val_accuracy: 0.8744 - val_precision_10: 0.8802 - val_recall_10: 0.8710 - lr: 6.2165e-14\n",
      "Epoch 116/500\n",
      "200/200 [==============================] - 26s 131ms/step - loss: 0.1230 - accuracy: 0.9621 - precision_10: 0.9644 - recall_10: 0.9599 - val_loss: 0.4770 - val_accuracy: 0.8744 - val_precision_10: 0.8802 - val_recall_10: 0.8710 - lr: 4.9732e-14\n"
     ]
    },
    {
     "name": "stdout",
     "output_type": "stream",
     "text": [
      "Epoch 117/500\n",
      "200/200 [==============================] - 26s 130ms/step - loss: 0.1086 - accuracy: 0.9668 - precision_10: 0.9687 - recall_10: 0.9654 - val_loss: 0.4770 - val_accuracy: 0.8744 - val_precision_10: 0.8802 - val_recall_10: 0.8710 - lr: 3.9786e-14\n",
      "Epoch 118/500\n",
      "200/200 [==============================] - 26s 131ms/step - loss: 0.1147 - accuracy: 0.9649 - precision_10: 0.9667 - recall_10: 0.9627 - val_loss: 0.4770 - val_accuracy: 0.8744 - val_precision_10: 0.8802 - val_recall_10: 0.8710 - lr: 3.1829e-14\n",
      "Epoch 119/500\n",
      "200/200 [==============================] - 26s 131ms/step - loss: 0.1111 - accuracy: 0.9656 - precision_10: 0.9672 - recall_10: 0.9643 - val_loss: 0.4770 - val_accuracy: 0.8744 - val_precision_10: 0.8802 - val_recall_10: 0.8710 - lr: 2.5463e-14\n",
      "Epoch 120/500\n",
      "200/200 [==============================] - 26s 131ms/step - loss: 0.1121 - accuracy: 0.9634 - precision_10: 0.9659 - recall_10: 0.9617 - val_loss: 0.4770 - val_accuracy: 0.8744 - val_precision_10: 0.8802 - val_recall_10: 0.8710 - lr: 2.0370e-14\n",
      "Epoch 121/500\n",
      "200/200 [==============================] - 26s 131ms/step - loss: 0.1072 - accuracy: 0.9663 - precision_10: 0.9687 - recall_10: 0.9649 - val_loss: 0.4770 - val_accuracy: 0.8744 - val_precision_10: 0.8802 - val_recall_10: 0.8710 - lr: 1.6296e-14\n",
      "Epoch 122/500\n",
      "200/200 [==============================] - 26s 132ms/step - loss: 0.1147 - accuracy: 0.9637 - precision_10: 0.9655 - recall_10: 0.9616 - val_loss: 0.4770 - val_accuracy: 0.8744 - val_precision_10: 0.8802 - val_recall_10: 0.8710 - lr: 1.3037e-14\n",
      "Epoch 123/500\n",
      "200/200 [==============================] - 26s 131ms/step - loss: 0.1138 - accuracy: 0.9652 - precision_10: 0.9668 - recall_10: 0.9630 - val_loss: 0.4770 - val_accuracy: 0.8744 - val_precision_10: 0.8802 - val_recall_10: 0.8710 - lr: 1.0430e-14\n",
      "Epoch 124/500\n",
      "200/200 [==============================] - 27s 133ms/step - loss: 0.1141 - accuracy: 0.9630 - precision_10: 0.9657 - recall_10: 0.9616 - val_loss: 0.4770 - val_accuracy: 0.8744 - val_precision_10: 0.8802 - val_recall_10: 0.8710 - lr: 8.3437e-15\n",
      "Epoch 125/500\n",
      "200/200 [==============================] - 26s 130ms/step - loss: 0.1141 - accuracy: 0.9658 - precision_10: 0.9679 - recall_10: 0.9640 - val_loss: 0.4770 - val_accuracy: 0.8744 - val_precision_10: 0.8802 - val_recall_10: 0.8710 - lr: 6.6750e-15\n",
      "Epoch 126/500\n",
      "200/200 [==============================] - 27s 133ms/step - loss: 0.1036 - accuracy: 0.9682 - precision_10: 0.9701 - recall_10: 0.9662 - val_loss: 0.4770 - val_accuracy: 0.8744 - val_precision_10: 0.8802 - val_recall_10: 0.8710 - lr: 5.3400e-15\n",
      "Epoch 127/500\n",
      "200/200 [==============================] - 26s 131ms/step - loss: 0.1112 - accuracy: 0.9639 - precision_10: 0.9662 - recall_10: 0.9619 - val_loss: 0.4770 - val_accuracy: 0.8744 - val_precision_10: 0.8802 - val_recall_10: 0.8710 - lr: 4.2720e-15\n",
      "Epoch 128/500\n",
      "200/200 [==============================] - ETA: 0s - loss: 0.1178 - accuracy: 0.9618 - precision_10: 0.9643 - recall_10: 0.9597Restoring model weights from the end of the best epoch: 28.\n",
      "200/200 [==============================] - 26s 131ms/step - loss: 0.1178 - accuracy: 0.9618 - precision_10: 0.9643 - recall_10: 0.9597 - val_loss: 0.4770 - val_accuracy: 0.8744 - val_precision_10: 0.8802 - val_recall_10: 0.8710 - lr: 3.4176e-15\n",
      "Epoch 128: early stopping\n"
     ]
    },
    {
     "name": "stderr",
     "output_type": "stream",
     "text": [
      "WARNING:absl:Found untraced functions such as _jit_compiled_convolution_op, _jit_compiled_convolution_op, _jit_compiled_convolution_op, _jit_compiled_convolution_op, _jit_compiled_convolution_op while saving (showing 5 of 7). These functions will not be directly callable after loading.\n"
     ]
    },
    {
     "name": "stdout",
     "output_type": "stream",
     "text": [
      "INFO:tensorflow:Assets written to: tf_Adam_new_checkpoints/Model_final3\\assets\n"
     ]
    },
    {
     "name": "stderr",
     "output_type": "stream",
     "text": [
      "INFO:tensorflow:Assets written to: tf_Adam_new_checkpoints/Model_final3\\assets\n"
     ]
    }
   ],
   "source": [
    "model = models.Sequential()\n",
    "\n",
    "model.add(layers.Conv2D(filters=16,\n",
    "                       kernel_size=3,\n",
    "                       activation='relu',\n",
    "                       input_shape=(227,227,1)))\n",
    "model.add(layers.MaxPooling2D(2,2))\n",
    "\n",
    "model.add(layers.Conv2D(64, 3, activation='relu'))\n",
    "model.add(layers.MaxPooling2D(2,2))\n",
    "\n",
    "model.add(layers.Conv2D(128, 3, activation='relu'))\n",
    "model.add(layers.MaxPooling2D(2,2))\n",
    "\n",
    "model.add(layers.Conv2D(256, 3, activation='relu'))\n",
    "model.add(layers.Conv2D(256, 3, activation='relu'))\n",
    "model.add(layers.MaxPooling2D(2,2))\n",
    "\n",
    "model.add(layers.Conv2D(512, 3, activation='relu'))\n",
    "model.add(layers.Conv2D(512, 3, activation='relu'))\n",
    "model.add(layers.MaxPooling2D(2,2))\n",
    "\n",
    "model.add(layers.Dropout(rate=0.3))\n",
    "\n",
    "model.add(layers.Flatten())\n",
    "model.add(layers.Dense(1024, activation='relu'))\n",
    "model.add(layers.Dense(512, activation='relu'))\n",
    "model.add(layers.Dropout(rate=0.5))\n",
    "model.add(layers.Dense(8, activation='softmax'))\n",
    "\n",
    "\n",
    "model.summary()\n",
    "\n",
    "\n",
    "model.compile(optimizer=optimizers.Adam(learning_rate=0.0001),\n",
    "              loss=losses.CategoricalCrossentropy(),\n",
    "              metrics=['accuracy',\n",
    "                       Precision(),\n",
    "                       Recall()\n",
    "                       ])\n",
    "\n",
    "csv_logger = CSVLogger('Model_final3.log', separator=',', append=False)\n",
    "\n",
    "results = model.fit(train_generator,\n",
    "                    steps_per_epoch=200,\n",
    "                    epochs=epochs_to_train,  # Number of epochs\n",
    "                    validation_data=val_generator,\n",
    "                    verbose=1,\n",
    "                    callbacks=[\n",
    "                        lr_schd_third_cb,\n",
    "                        csv_logger,\n",
    "                        early_stop\n",
    "                    ]\n",
    "                    )\n",
    "\n",
    "\n",
    "results.model.save(tf_chkpt_path+'Model_final3')"
   ]
  },
  {
   "cell_type": "code",
   "execution_count": 34,
   "id": "71e410d4",
   "metadata": {
    "ExecuteTime": {
     "end_time": "2022-05-24T22:33:28.237557Z",
     "start_time": "2022-05-24T22:33:28.031969Z"
    }
   },
   "outputs": [
    {
     "data": {
      "image/png": "[encoded data removed]",
      "text/plain": [
       "<Figure size 720x360 with 2 Axes>"
      ]
     },
     "metadata": {
      "needs_background": "light"
     },
     "output_type": "display_data"
    }
   ],
   "source": [
    "display_model_trainTestGraphs(results)"
   ]
  },
  {
   "cell_type": "code",
   "execution_count": 35,
   "id": "ed82f864",
   "metadata": {
    "ExecuteTime": {
     "end_time": "2022-05-24T22:36:32.189650Z",
     "start_time": "2022-05-24T22:36:23.024307Z"
    }
   },
   "outputs": [
    {
     "name": "stdout",
     "output_type": "stream",
     "text": [
      "225/225 [==============================] - 9s 38ms/step - loss: 0.4923 - accuracy: 0.8896 - precision_10: 0.8931 - recall_10: 0.8851\n"
     ]
    },
    {
     "data": {
      "text/plain": [
       "[0.49226462841033936,\n",
       " 0.8895705342292786,\n",
       " 0.8930782079696655,\n",
       " 0.8851087689399719]"
      ]
     },
     "execution_count": 35,
     "metadata": {},
     "output_type": "execute_result"
    }
   ],
   "source": [
    "model.evaluate(test_generator)"
   ]
  },
  {
   "cell_type": "code",
   "execution_count": null,
   "id": "2e8abef5",
   "metadata": {},
   "outputs": [],
   "source": []
  }
 ],
 "metadata": {
  "kernelspec": {
   "display_name": "tfGPU",
   "language": "python",
   "name": "tfgpu"
  },
  "language_info": {
   "codemirror_mode": {
    "name": "ipython",
    "version": 3
   },
   "file_extension": ".py",
   "mimetype": "text/x-python",
   "name": "python",
   "nbconvert_exporter": "python",
   "pygments_lexer": "ipython3",
   "version": "3.9.12"
  },
  "toc": {
   "base_numbering": 1,
   "nav_menu": {},
   "number_sections": true,
   "sideBar": true,
   "skip_h1_title": false,
   "title_cell": "Table of Contents",
   "title_sidebar": "Contents",
   "toc_cell": false,
   "toc_position": {
    "height": "calc(100% - 180px)",
    "left": "10px",
    "top": "150px",
    "width": "331px"
   },
   "toc_section_display": true,
   "toc_window_display": false
  },
  "varInspector": {
   "cols": {
    "lenName": 16,
    "lenType": 16,
    "lenVar": 40
   },
   "kernels_config": {
    "python": {
     "delete_cmd_postfix": "",
     "delete_cmd_prefix": "del ",
     "library": "var_list.py",
     "varRefreshCmd": "print(var_dic_list())"
    },
    "r": {
     "delete_cmd_postfix": ") ",
     "delete_cmd_prefix": "rm(",
     "library": "var_list.r",
     "varRefreshCmd": "cat(var_dic_list()) "
    }
   },
   "types_to_exclude": [
    "module",
    "function",
    "builtin_function_or_method",
    "instance",
    "_Feature"
   ],
   "window_display": false
  }
 },
 "nbformat": 4,
 "nbformat_minor": 5
}
