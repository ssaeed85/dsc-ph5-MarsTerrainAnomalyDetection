{
 "cells": [
  {
   "cell_type": "markdown",
   "id": "40f34cee",
   "metadata": {
    "ExecuteTime": {
     "end_time": "2022-05-30T23:44:57.065449Z",
     "start_time": "2022-05-30T23:44:57.057448Z"
    }
   },
   "source": [
    "# The Data\n",
    "\n",
    "The work performed herein was built off of the shoulders of giants, the original project that created the dataset and labeled the images. Here follows an excerpt from their site describing the data.\n",
    "\n",
    "> [![DOI](https://zenodo.org/badge/DOI/10.5281/zenodo.4002935.svg)](https://doi.org/10.5281/zenodo.4002935)\n",
    ">__Project member(s)__:\\\n",
    ">Topher Allen; Zach Anderson; Berlin Chen; Ameya Daigavane; Annie Didier; Marko Green; Paul Horton; Hannah Kerner; Lauren Klein; Benjamin Kolber; Ellie Kuang; Kyle Kung; Jake Lee; Justin Martia; Brian Milch; James Montgomery; Kyle Pearson; Sanjna Ravichandar; Arun Viswanathan; Caleb Wagner; Amruta Yelamanchili; Brandon Zhao\n",
    ">\n",
    ">__Abstract__:\\\n",
    ">This dataset contains a total of 64,947 landmark images that were detected and extracted from HiRISE browse images, spanning 232 separate source images.\n",
    ">\n",
    ">This set was formed from 10,815 original landmarks. Each original landmark was cropped to a square bounding box that included the full extent of the landmark plus a 30-pixel margin to the left, right, top, and bottom. Each landmark was then resized to 227x227 pixels. 9,022 of these images were then augmented to generate 6 additional landmarks using the following methods:\n",
    ">\n",
    ">90 degrees clockwise rotation\n",
    ">180 degrees clockwise rotation\n",
    ">270 degrees clockwise rotation\n",
    ">Horizontal flip\n",
    ">Vertical flip\n",
    ">Random brightness adjustment\n",
    ">The remaining 1,793 images were not augmented. Combining these with the 7*9,022 images, gives a total of 64,947 separate images.\n",
    ">\n",
    "> __Contents__:\n",
    ">- map-proj-v3_2/: Directory containing individual cropped landmark images\n",
    ">- labels-map-proj-v3_2.txt: Class labels (ids) for each landmark image. File includes two columns separated by a space: filename, class_id\n",
    ">- labels-map-proj-v3_2_train_val_test.txt: Includes train/test/val labels and upsampling used for trained model. File includes three columns separated by a space: filename, class_id, set\n",
    ">- landmarks_map-proj-v3_2_classmap.csv: Dictionary that maps class ids to semantic names\n",
    ">\n",
    "> __Class Discussion__:\\\n",
    ">We give a discussion of the various landmarks that make up our classes.\n",
    ">\n",
    ">Bright dune and dark dune are two sand dune classes found on Mars. Dark dunes are completely defrosted, whereas bright dunes are not. Bright dunes are generally bright due to overlying frost and can exhibit black spots where parts of the dune are defrosting.\n",
    ">\n",
    ">The crater class consists of crater images in which the diameter of the crater is greater than or equal to 1/5 the width of the image and the circular rim is visible for at least half the crater's circumference.\n",
    ">\n",
    ">The slope streak class consists of images of dark flow-like features on slopes. These features are believed to be formed by a dry process in which overlying (bright) dust slides down a slope and reveals a darker sub-surface.\n",
    ">\n",
    ">Impact ejecta refers to material that is blasted out from the impact of a meteorite or the eruption of a volcano. We also include cases in which the impact cleared away overlying dust, exposing the underlying surface. In some cases, the associated crater may be too small to see. Impact ejecta can also include lava that spilled out from the impact (blobby (\"lobate\") instead of blast-like), more like an eruption (triggered by the impact). Impact ejecta can be isolated, or they can form in clusters when the impactor breaks up into multiple fragments.\n",
    ">\n",
    ">Spiders and Swiss cheese are phenomena that occur in the south polar region of Mars. Spiders have a central pit with radial troughs, and they are believed to form as a result of sublimation of carbon dioxide ice. This process can produce mineral deposits on top, which look like dark or light dust that highlights cracks in the CO2 ice. Spiders can resemble impact ejecta due to their radial troughs, but impact ejecta tends to have straight radial jets that fade as they get farther from the center. The spider class also includes fan-like features that form when a geyser erupts through the CO2 layer and the material is blown by the wind away from the cracks. Fans are typically unidirectional (following the wind direction), whereas impact ejecta often extends in multiple directions. Swiss cheese is a terrain type that consists of pits that are formed when the sun heats the ice making it sublimate (change solid to gas).\n",
    ">\n",
    ">Other is a catch-all class that contains images that fit none of the defined classes of interest. This class makes up the majority of our data set.\n"
   ]
  },
  {
   "cell_type": "markdown",
   "id": "24d8cf67",
   "metadata": {},
   "source": [
    "# Business Understanding\n",
    "\n",
    "Space exploration and understanding has been growing over the last few decades with the spark being lit during the space race during the latter half of the 20th century. After the end of the Apollo space program, man's venture into space has been relegated to low earth orbit missions.  \n",
    "\n",
    "Unmanned missions have since had many a success story such as the Voyager 2 going interstellar in 2018, over 40 years after its launch. The future of space exploration is going to be handled by such manned missions for the foreseeable future. However, being physically on site isn't the only way to explore space.  \n",
    "\n",
    "For centuries, man has looked up at the night sky to find out more about our celestial neighbors. With improvements in technologies our ability to gather data through telescopes and cameras has improved significantly and the value provided by telescopes in space has been immeasurable. The James Webb (infrared) telescope was launched in December 2021 and hopes to view objects too old, distant, and faint for the Hubble Space Telescope.\n",
    "\n",
    "Pointing the telescope and gathering data is only the first step. Being able to parse terabytes, petabytes or even yottabytes of data manually is a nigh impossible task, a task computer vision is especially suited for. Being able to identify interesting features can help us whittle down potential candidates to explore 'in-person' and in the long run help mitigate losses.\n",
    "\n",
    "Interest in space exploration has seen a resurgence with private enterprise taking an interest. Although this project specifically looks at the Mars topography, similar techniques can be applied to any celestial body, or even to our home planet."
   ]
  },
  {
   "cell_type": "markdown",
   "id": "bab04b5b",
   "metadata": {},
   "source": [
    "# Overview\n",
    "We shall be using images captured from the HiRISE camera system on board the Mars Reconnaisance Orbiter which was built under direction from University of Arizona's Lunar and Planetary Laboratory. Following is an excerpt from the [University of Arizona website](https://www.lpl.arizona.edu/missions/hirise-mro).\n",
    "\n",
    ">The __Hi__gh __R__esolution __I__maging __S__cience __E__xperiment (HiRISE) onboard the Mars Reconnaissance Orbiter, is the most powerful camera ever sent to another planet. The resolution of the camera allows us to see the Red Planet in amazing detail, and lets other missions, like the Mars Science Laboratory, find a safe place to land and carry out amazing science. The operations center, which includes not only observation planning, but the execution of commands sent to the spacecraft along with actual image processing, is located within LPL at the University of Arizona.\n",
    "\n",
    "We shall be building off of the work performed by the original team. The dataset comes pre-augmented and segmented into training, validation and test sets. The test side will be set aside to ascertain effectiveness of our final model. The training set will be used to train the model and the validation scores on the validation set will be used as a metric to pick our model, specifically our validation loss."
   ]
  },
  {
   "cell_type": "markdown",
   "id": "cc548628",
   "metadata": {},
   "source": [
    "# Imports"
   ]
  },
  {
   "cell_type": "code",
   "execution_count": 3,
   "id": "90d5d553",
   "metadata": {
    "ExecuteTime": {
     "end_time": "2022-05-31T08:56:17.010087Z",
     "start_time": "2022-05-31T08:56:15.948850Z"
    }
   },
   "outputs": [],
   "source": [
    "import numpy as np\n",
    "import pandas as pd\n",
    "import matplotlib.pyplot as plt\n",
    "from PIL import Image"
   ]
  },
  {
   "cell_type": "code",
   "execution_count": 4,
   "id": "4fcb3d5b",
   "metadata": {
    "ExecuteTime": {
     "end_time": "2022-05-31T08:56:21.338054Z",
     "start_time": "2022-05-31T08:56:17.011087Z"
    }
   },
   "outputs": [],
   "source": [
    "from tensorflow.keras.preprocessing.image import ImageDataGenerator\n",
    "from tensorflow.keras import layers, models, optimizers, losses\n",
    "from tensorflow.keras.callbacks import EarlyStopping,ModelCheckpoint\n",
    "from tensorflow.keras.metrics import Precision, Recall\n",
    "import tensorflow as tf\n",
    "tf.random.set_seed(\n",
    "    42\n",
    ")\n",
    "import seaborn as sns\n",
    "\n",
    "tf_chkpt_path = 'tf_AlexNet_checkpoints/'"
   ]
  },
  {
   "cell_type": "code",
   "execution_count": 5,
   "id": "5fc35d71",
   "metadata": {
    "ExecuteTime": {
     "end_time": "2022-05-31T08:56:21.353058Z",
     "start_time": "2022-05-31T08:56:21.339055Z"
    }
   },
   "outputs": [],
   "source": [
    "from src.helperFunctions import display_model_trainTestGraphs"
   ]
  },
  {
   "cell_type": "markdown",
   "id": "be5f126a",
   "metadata": {},
   "source": [
    "## Training Set"
   ]
  },
  {
   "cell_type": "code",
   "execution_count": 6,
   "id": "9fbbce51",
   "metadata": {
    "ExecuteTime": {
     "end_time": "2022-05-31T08:56:22.884060Z",
     "start_time": "2022-05-31T08:56:21.355058Z"
    }
   },
   "outputs": [
    {
     "name": "stdout",
     "output_type": "stream",
     "text": [
      "Found 48979 images belonging to 8 classes.\n"
     ]
    }
   ],
   "source": [
    "# Normalizing data for 8 bit\n",
    "train_datagen = ImageDataGenerator(rescale=1./255)\n",
    "\n",
    "train_generator = train_datagen.flow_from_directory(\n",
    "    'images/train/',\n",
    "    target_size = (227,227),\n",
    "    batch_size=225,\n",
    "    color_mode='grayscale',\n",
    "    class_mode='categorical'\n",
    ")"
   ]
  },
  {
   "cell_type": "markdown",
   "id": "76c16aa5",
   "metadata": {},
   "source": [
    "## Validation Set"
   ]
  },
  {
   "cell_type": "code",
   "execution_count": 7,
   "id": "52a5582d",
   "metadata": {
    "ExecuteTime": {
     "end_time": "2022-05-31T08:56:23.329159Z",
     "start_time": "2022-05-31T08:56:22.886061Z"
    }
   },
   "outputs": [
    {
     "name": "stdout",
     "output_type": "stream",
     "text": [
      "Found 14175 images belonging to 8 classes.\n"
     ]
    }
   ],
   "source": [
    "# Normalizing data for 8 bit\n",
    "val_datagen = ImageDataGenerator(rescale=1./255)\n",
    "\n",
    "val_generator = val_datagen.flow_from_directory(\n",
    "    'images/val/',\n",
    "    target_size = (227,227),\n",
    "    batch_size=64,\n",
    "    color_mode='grayscale',\n",
    "    class_mode='categorical'\n",
    ")"
   ]
  },
  {
   "cell_type": "markdown",
   "id": "c138cf19",
   "metadata": {},
   "source": [
    "## Test Set"
   ]
  },
  {
   "cell_type": "code",
   "execution_count": 8,
   "id": "130e70f2",
   "metadata": {
    "ExecuteTime": {
     "end_time": "2022-05-31T08:56:23.393175Z",
     "start_time": "2022-05-31T08:56:23.330159Z"
    },
    "scrolled": true
   },
   "outputs": [
    {
     "name": "stdout",
     "output_type": "stream",
     "text": [
      "Found 1793 images belonging to 8 classes.\n"
     ]
    }
   ],
   "source": [
    "# Normalizing data for 8 bit\n",
    "test_datagen = ImageDataGenerator(rescale=1./255)\n",
    "\n",
    "test_generator = test_datagen.flow_from_directory(\n",
    "    'images/test/',\n",
    "    target_size = (227,227),\n",
    "    batch_size=8,\n",
    "    color_mode='grayscale',\n",
    "    class_mode='categorical'\n",
    ")"
   ]
  },
  {
   "cell_type": "markdown",
   "id": "85303447",
   "metadata": {},
   "source": [
    "# Modeling"
   ]
  },
  {
   "cell_type": "markdown",
   "id": "659cd6e8",
   "metadata": {},
   "source": [
    "## Modeling Callbacks\n",
    "Tensorflow's neural networks employs callbacks which allow for additional features. EarlyStop is one such feature which allows us to quit the modeling process early especially if the model has started to diverge. Since the metric to watch is validation loss, we shall employ an early stop which will kill the modeling process if validation loss does not decrease for 10 epochs. As an added bonus, the models best epoch weights will be retained instead of the final epoch scores"
   ]
  },
  {
   "cell_type": "code",
   "execution_count": 7,
   "id": "92e5a106",
   "metadata": {
    "ExecuteTime": {
     "end_time": "2022-05-21T22:25:41.577419Z",
     "start_time": "2022-05-21T22:25:41.562408Z"
    }
   },
   "outputs": [],
   "source": [
    "early_stop = EarlyStopping(monitor='val_loss', \n",
    "                           min_delta=1e-8,\n",
    "                           verbose=1,\n",
    "                           patience = 5,\n",
    "                           restore_best_weights=True,\n",
    "                           mode='min')"
   ]
  },
  {
   "cell_type": "markdown",
   "id": "000bd010",
   "metadata": {},
   "source": [
    "## Model - AlexNet"
   ]
  },
  {
   "cell_type": "markdown",
   "id": "b21585c3",
   "metadata": {},
   "source": [
    "The [AlexNet](https://proceedings.neurips.cc/paper/2012/file/c399862d3b9d6b76c8436e924a68c45b-Paper.pdf) Convolutional Neural Network architecture won the 2012 ImageNet ILSVRC competition. The original paper was written by Alex Krizhevsky, Ilya Sutskever, and Geoffrey Hinton. It is an evolution of LeNet-5.\n",
    "\n",
    "This is an exact replication of the AlexNet architecture."
   ]
  },
  {
   "cell_type": "code",
   "execution_count": 8,
   "id": "5f929c5c",
   "metadata": {
    "ExecuteTime": {
     "end_time": "2022-05-21T23:43:09.536830Z",
     "start_time": "2022-05-21T22:25:41.578420Z"
    },
    "scrolled": false
   },
   "outputs": [
    {
     "name": "stdout",
     "output_type": "stream",
     "text": [
      "Model: \"sequential\"\n",
      "_________________________________________________________________\n",
      " Layer (type)                Output Shape              Param #   \n",
      "=================================================================\n",
      " conv2d (Conv2D)             (None, 55, 55, 96)        34944     \n",
      "                                                                 \n",
      " batch_normalization (BatchN  (None, 55, 55, 96)       384       \n",
      " ormalization)                                                   \n",
      "                                                                 \n",
      " max_pooling2d (MaxPooling2D  (None, 27, 27, 96)       0         \n",
      " )                                                               \n",
      "                                                                 \n",
      " conv2d_1 (Conv2D)           (None, 27, 27, 256)       614656    \n",
      "                                                                 \n",
      " batch_normalization_1 (Batc  (None, 27, 27, 256)      1024      \n",
      " hNormalization)                                                 \n",
      "                                                                 \n",
      " max_pooling2d_1 (MaxPooling  (None, 13, 13, 256)      0         \n",
      " 2D)                                                             \n",
      "                                                                 \n",
      " conv2d_2 (Conv2D)           (None, 13, 13, 384)       885120    \n",
      "                                                                 \n",
      " batch_normalization_2 (Batc  (None, 13, 13, 384)      1536      \n",
      " hNormalization)                                                 \n",
      "                                                                 \n",
      " conv2d_3 (Conv2D)           (None, 13, 13, 384)       1327488   \n",
      "                                                                 \n",
      " batch_normalization_3 (Batc  (None, 13, 13, 384)      1536      \n",
      " hNormalization)                                                 \n",
      "                                                                 \n",
      " conv2d_4 (Conv2D)           (None, 13, 13, 256)       884992    \n",
      "                                                                 \n",
      " flatten (Flatten)           (None, 43264)             0         \n",
      "                                                                 \n",
      " dense (Dense)               (None, 4096)              177213440 \n",
      "                                                                 \n",
      " dropout (Dropout)           (None, 4096)              0         \n",
      "                                                                 \n",
      " dense_1 (Dense)             (None, 4096)              16781312  \n",
      "                                                                 \n",
      " dropout_1 (Dropout)         (None, 4096)              0         \n",
      "                                                                 \n",
      " dense_2 (Dense)             (None, 8)                 32776     \n",
      "                                                                 \n",
      "=================================================================\n",
      "Total params: 197,779,208\n",
      "Trainable params: 197,776,968\n",
      "Non-trainable params: 2,240\n",
      "_________________________________________________________________\n",
      "Epoch 1/90\n",
      "200/200 [==============================] - 58s 268ms/step - loss: 0.6944 - accuracy: 0.8371 - precision: 0.8603 - recall: 0.8120 - val_loss: 0.9145 - val_accuracy: 0.7902 - val_precision: 0.7902 - val_recall: 0.7902\n",
      "Epoch 2/90\n",
      "200/200 [==============================] - 51s 256ms/step - loss: 0.3880 - accuracy: 0.8825 - precision: 0.8976 - recall: 0.8647 - val_loss: 1.4518 - val_accuracy: 0.5891 - val_precision: 0.5958 - val_recall: 0.5785\n",
      "Epoch 3/90\n",
      "200/200 [==============================] - 51s 257ms/step - loss: 0.3280 - accuracy: 0.9007 - precision: 0.9111 - recall: 0.8884 - val_loss: 3.7813 - val_accuracy: 0.5148 - val_precision: 0.5164 - val_recall: 0.5107\n",
      "Epoch 4/90\n",
      "200/200 [==============================] - 51s 256ms/step - loss: 0.2819 - accuracy: 0.9136 - precision: 0.9216 - recall: 0.9043 - val_loss: 1.2749 - val_accuracy: 0.6273 - val_precision: 0.6524 - val_recall: 0.5320\n",
      "Epoch 5/90\n",
      "200/200 [==============================] - 52s 259ms/step - loss: 0.2410 - accuracy: 0.9253 - precision: 0.9307 - recall: 0.9193 - val_loss: 1.1122 - val_accuracy: 0.8062 - val_precision: 0.8096 - val_recall: 0.8053\n",
      "Epoch 6/90\n",
      "200/200 [==============================] - 51s 255ms/step - loss: 0.2060 - accuracy: 0.9359 - precision: 0.9401 - recall: 0.9314 - val_loss: 5.8810 - val_accuracy: 0.3407 - val_precision: 0.3405 - val_recall: 0.3319\n",
      "Epoch 7/90\n",
      "200/200 [==============================] - 51s 254ms/step - loss: 0.1737 - accuracy: 0.9441 - precision: 0.9467 - recall: 0.9409 - val_loss: 0.8581 - val_accuracy: 0.7643 - val_precision: 0.7855 - val_recall: 0.7314\n",
      "Epoch 8/90\n",
      "200/200 [==============================] - 51s 255ms/step - loss: 0.1499 - accuracy: 0.9522 - precision: 0.9542 - recall: 0.9496 - val_loss: 0.9613 - val_accuracy: 0.8372 - val_precision: 0.8386 - val_recall: 0.8365\n",
      "Epoch 9/90\n",
      "200/200 [==============================] - 51s 256ms/step - loss: 0.1312 - accuracy: 0.9560 - precision: 0.9576 - recall: 0.9545 - val_loss: 1.3939 - val_accuracy: 0.7850 - val_precision: 0.7895 - val_recall: 0.7831\n",
      "Epoch 10/90\n",
      "200/200 [==============================] - 51s 252ms/step - loss: 0.1081 - accuracy: 0.9640 - precision: 0.9656 - recall: 0.9629 - val_loss: 0.9336 - val_accuracy: 0.8284 - val_precision: 0.8305 - val_recall: 0.8258\n",
      "Epoch 11/90\n",
      "200/200 [==============================] - 51s 256ms/step - loss: 0.0867 - accuracy: 0.9708 - precision: 0.9717 - recall: 0.9696 - val_loss: 0.8290 - val_accuracy: 0.8255 - val_precision: 0.8280 - val_recall: 0.8241\n",
      "Epoch 12/90\n",
      "200/200 [==============================] - 51s 256ms/step - loss: 0.0761 - accuracy: 0.9743 - precision: 0.9749 - recall: 0.9734 - val_loss: 0.7604 - val_accuracy: 0.8065 - val_precision: 0.8239 - val_recall: 0.7900\n",
      "Epoch 13/90\n",
      "200/200 [==============================] - 51s 255ms/step - loss: 0.0642 - accuracy: 0.9785 - precision: 0.9792 - recall: 0.9779 - val_loss: 0.9335 - val_accuracy: 0.7817 - val_precision: 0.7852 - val_recall: 0.7784\n",
      "Epoch 14/90\n",
      "200/200 [==============================] - 51s 256ms/step - loss: 0.0633 - accuracy: 0.9791 - precision: 0.9798 - recall: 0.9785 - val_loss: 1.1827 - val_accuracy: 0.8389 - val_precision: 0.8409 - val_recall: 0.8384\n",
      "Epoch 15/90\n",
      "200/200 [==============================] - 51s 256ms/step - loss: 0.0509 - accuracy: 0.9836 - precision: 0.9839 - recall: 0.9831 - val_loss: 1.0049 - val_accuracy: 0.7973 - val_precision: 0.7984 - val_recall: 0.7963\n",
      "Epoch 16/90\n",
      "200/200 [==============================] - 51s 254ms/step - loss: 0.0477 - accuracy: 0.9844 - precision: 0.9849 - recall: 0.9842 - val_loss: 2.2481 - val_accuracy: 0.4776 - val_precision: 0.4864 - val_recall: 0.4456\n",
      "Epoch 17/90\n",
      "200/200 [==============================] - 51s 257ms/step - loss: 0.0513 - accuracy: 0.9840 - precision: 0.9844 - recall: 0.9834 - val_loss: 2.4767 - val_accuracy: 0.8251 - val_precision: 0.8259 - val_recall: 0.8236\n",
      "Epoch 18/90\n",
      "200/200 [==============================] - 52s 258ms/step - loss: 0.0357 - accuracy: 0.9885 - precision: 0.9888 - recall: 0.9881 - val_loss: 1.4926 - val_accuracy: 0.6944 - val_precision: 0.6967 - val_recall: 0.6925\n",
      "Epoch 19/90\n",
      "200/200 [==============================] - 51s 256ms/step - loss: 0.0352 - accuracy: 0.9888 - precision: 0.9891 - recall: 0.9885 - val_loss: 1.5757 - val_accuracy: 0.7549 - val_precision: 0.7580 - val_recall: 0.7518\n",
      "Epoch 20/90\n",
      "200/200 [==============================] - 51s 255ms/step - loss: 0.0264 - accuracy: 0.9917 - precision: 0.9918 - recall: 0.9914 - val_loss: 1.1296 - val_accuracy: 0.8255 - val_precision: 0.8294 - val_recall: 0.8233\n",
      "Epoch 21/90\n",
      "200/200 [==============================] - 51s 256ms/step - loss: 0.0295 - accuracy: 0.9907 - precision: 0.9909 - recall: 0.9905 - val_loss: 1.5875 - val_accuracy: 0.8392 - val_precision: 0.8398 - val_recall: 0.8390\n",
      "Epoch 22/90\n",
      "200/200 [==============================] - 52s 257ms/step - loss: 0.0366 - accuracy: 0.9889 - precision: 0.9892 - recall: 0.9886 - val_loss: 1.6255 - val_accuracy: 0.8279 - val_precision: 0.8285 - val_recall: 0.8273\n",
      "Epoch 23/90\n",
      "200/200 [==============================] - 52s 257ms/step - loss: 0.0301 - accuracy: 0.9908 - precision: 0.9912 - recall: 0.9907 - val_loss: 1.1239 - val_accuracy: 0.8313 - val_precision: 0.8327 - val_recall: 0.8297\n",
      "Epoch 24/90\n",
      "200/200 [==============================] - 51s 256ms/step - loss: 0.0219 - accuracy: 0.9933 - precision: 0.9935 - recall: 0.9932 - val_loss: 1.3585 - val_accuracy: 0.7986 - val_precision: 0.8008 - val_recall: 0.7973\n",
      "Epoch 25/90\n",
      "200/200 [==============================] - 51s 255ms/step - loss: 0.0192 - accuracy: 0.9939 - precision: 0.9940 - recall: 0.9938 - val_loss: 6.8103 - val_accuracy: 0.4151 - val_precision: 0.4216 - val_recall: 0.4046\n",
      "Epoch 26/90\n",
      "200/200 [==============================] - 52s 258ms/step - loss: 0.0330 - accuracy: 0.9899 - precision: 0.9901 - recall: 0.9895 - val_loss: 1.1703 - val_accuracy: 0.8694 - val_precision: 0.8695 - val_recall: 0.8691\n",
      "Epoch 27/90\n",
      "200/200 [==============================] - 52s 258ms/step - loss: 0.0200 - accuracy: 0.9939 - precision: 0.9939 - recall: 0.9937 - val_loss: 0.9928 - val_accuracy: 0.8679 - val_precision: 0.8686 - val_recall: 0.8676\n",
      "Epoch 28/90\n",
      "200/200 [==============================] - 52s 257ms/step - loss: 0.0279 - accuracy: 0.9925 - precision: 0.9927 - recall: 0.9923 - val_loss: 1.0262 - val_accuracy: 0.8599 - val_precision: 0.8601 - val_recall: 0.8591\n",
      "Epoch 29/90\n",
      "200/200 [==============================] - 52s 257ms/step - loss: 0.0137 - accuracy: 0.9957 - precision: 0.9958 - recall: 0.9957 - val_loss: 6.2064 - val_accuracy: 0.4684 - val_precision: 0.4696 - val_recall: 0.4666\n",
      "Epoch 30/90\n",
      "200/200 [==============================] - 52s 259ms/step - loss: 0.0183 - accuracy: 0.9941 - precision: 0.9942 - recall: 0.9939 - val_loss: 1.0961 - val_accuracy: 0.8417 - val_precision: 0.8446 - val_recall: 0.8405\n",
      "Epoch 31/90\n",
      "200/200 [==============================] - 52s 257ms/step - loss: 0.0181 - accuracy: 0.9947 - precision: 0.9948 - recall: 0.9946 - val_loss: 3.8226 - val_accuracy: 0.8288 - val_precision: 0.8289 - val_recall: 0.8286\n",
      "Epoch 32/90\n",
      "200/200 [==============================] - 52s 258ms/step - loss: 0.0166 - accuracy: 0.9950 - precision: 0.9952 - recall: 0.9948 - val_loss: 1.8817 - val_accuracy: 0.7679 - val_precision: 0.7696 - val_recall: 0.7657\n",
      "Epoch 33/90\n",
      "200/200 [==============================] - 51s 254ms/step - loss: 0.0236 - accuracy: 0.9932 - precision: 0.9933 - recall: 0.9930 - val_loss: 1.0959 - val_accuracy: 0.8620 - val_precision: 0.8632 - val_recall: 0.8616\n",
      "Epoch 34/90\n",
      "200/200 [==============================] - 52s 259ms/step - loss: 0.0233 - accuracy: 0.9929 - precision: 0.9930 - recall: 0.9927 - val_loss: 1.8236 - val_accuracy: 0.8379 - val_precision: 0.8390 - val_recall: 0.8377\n",
      "Epoch 35/90\n",
      "200/200 [==============================] - 51s 256ms/step - loss: 0.0168 - accuracy: 0.9948 - precision: 0.9949 - recall: 0.9946 - val_loss: 1.7740 - val_accuracy: 0.7991 - val_precision: 0.7998 - val_recall: 0.7979\n",
      "Epoch 36/90\n",
      "200/200 [==============================] - 52s 258ms/step - loss: 0.0088 - accuracy: 0.9974 - precision: 0.9974 - recall: 0.9973 - val_loss: 1.4737 - val_accuracy: 0.8672 - val_precision: 0.8679 - val_recall: 0.8670\n",
      "Epoch 37/90\n",
      "200/200 [==============================] - 51s 257ms/step - loss: 0.0153 - accuracy: 0.9958 - precision: 0.9958 - recall: 0.9957 - val_loss: 2.2151 - val_accuracy: 0.8304 - val_precision: 0.8311 - val_recall: 0.8301\n",
      "Epoch 38/90\n",
      "200/200 [==============================] - 52s 258ms/step - loss: 0.0225 - accuracy: 0.9931 - precision: 0.9933 - recall: 0.9930 - val_loss: 3.0536 - val_accuracy: 0.7008 - val_precision: 0.7017 - val_recall: 0.6997\n",
      "Epoch 39/90\n",
      "200/200 [==============================] - 52s 257ms/step - loss: 0.0165 - accuracy: 0.9949 - precision: 0.9951 - recall: 0.9949 - val_loss: 2.1112 - val_accuracy: 0.8346 - val_precision: 0.8349 - val_recall: 0.8342\n",
      "Epoch 40/90\n",
      "200/200 [==============================] - 52s 258ms/step - loss: 0.0128 - accuracy: 0.9958 - precision: 0.9958 - recall: 0.9957 - val_loss: 2.2865 - val_accuracy: 0.6716 - val_precision: 0.6733 - val_recall: 0.6693\n",
      "Epoch 41/90\n",
      "200/200 [==============================] - 51s 254ms/step - loss: 0.0111 - accuracy: 0.9965 - precision: 0.9965 - recall: 0.9964 - val_loss: 1.1851 - val_accuracy: 0.7823 - val_precision: 0.7864 - val_recall: 0.7751\n",
      "Epoch 42/90\n",
      "200/200 [==============================] - 52s 258ms/step - loss: 0.0137 - accuracy: 0.9964 - precision: 0.9965 - recall: 0.9964 - val_loss: 1.7750 - val_accuracy: 0.8476 - val_precision: 0.8487 - val_recall: 0.8471\n",
      "Epoch 43/90\n",
      "200/200 [==============================] - 51s 257ms/step - loss: 0.0135 - accuracy: 0.9961 - precision: 0.9962 - recall: 0.9961 - val_loss: 1.6937 - val_accuracy: 0.8177 - val_precision: 0.8198 - val_recall: 0.8170\n",
      "Epoch 44/90\n",
      "200/200 [==============================] - 52s 257ms/step - loss: 0.0245 - accuracy: 0.9933 - precision: 0.9933 - recall: 0.9931 - val_loss: 2.9969 - val_accuracy: 0.6123 - val_precision: 0.6165 - val_recall: 0.6055\n",
      "Epoch 45/90\n",
      "200/200 [==============================] - 51s 256ms/step - loss: 0.0207 - accuracy: 0.9939 - precision: 0.9940 - recall: 0.9938 - val_loss: 3.6758 - val_accuracy: 0.6477 - val_precision: 0.6488 - val_recall: 0.6450\n",
      "Epoch 46/90\n",
      "200/200 [==============================] - 52s 258ms/step - loss: 0.0092 - accuracy: 0.9974 - precision: 0.9974 - recall: 0.9974 - val_loss: 1.2375 - val_accuracy: 0.8759 - val_precision: 0.8764 - val_recall: 0.8757\n",
      "Epoch 47/90\n",
      "200/200 [==============================] - 52s 258ms/step - loss: 0.0055 - accuracy: 0.9984 - precision: 0.9984 - recall: 0.9984 - val_loss: 1.7819 - val_accuracy: 0.8659 - val_precision: 0.8660 - val_recall: 0.8654\n",
      "Epoch 48/90\n",
      "200/200 [==============================] - 52s 257ms/step - loss: 0.0101 - accuracy: 0.9968 - precision: 0.9968 - recall: 0.9968 - val_loss: 1.6709 - val_accuracy: 0.8716 - val_precision: 0.8720 - val_recall: 0.8714\n",
      "Epoch 49/90\n",
      "200/200 [==============================] - 51s 257ms/step - loss: 0.0154 - accuracy: 0.9957 - precision: 0.9959 - recall: 0.9956 - val_loss: 1.9132 - val_accuracy: 0.7802 - val_precision: 0.7824 - val_recall: 0.7787\n",
      "Epoch 50/90\n",
      "200/200 [==============================] - 52s 258ms/step - loss: 0.0107 - accuracy: 0.9970 - precision: 0.9970 - recall: 0.9970 - val_loss: 1.7584 - val_accuracy: 0.8569 - val_precision: 0.8572 - val_recall: 0.8566\n",
      "Epoch 51/90\n",
      "200/200 [==============================] - 51s 257ms/step - loss: 0.0125 - accuracy: 0.9963 - precision: 0.9964 - recall: 0.9963 - val_loss: 1.1281 - val_accuracy: 0.8409 - val_precision: 0.8419 - val_recall: 0.8402\n",
      "Epoch 52/90\n",
      "200/200 [==============================] - 52s 258ms/step - loss: 0.0099 - accuracy: 0.9971 - precision: 0.9972 - recall: 0.9970 - val_loss: 1.0716 - val_accuracy: 0.8236 - val_precision: 0.8258 - val_recall: 0.8223\n",
      "Epoch 53/90\n",
      "200/200 [==============================] - 52s 257ms/step - loss: 0.0086 - accuracy: 0.9976 - precision: 0.9976 - recall: 0.9976 - val_loss: 1.1758 - val_accuracy: 0.8745 - val_precision: 0.8753 - val_recall: 0.8742\n",
      "Epoch 54/90\n",
      "200/200 [==============================] - 52s 259ms/step - loss: 0.0093 - accuracy: 0.9970 - precision: 0.9971 - recall: 0.9970 - val_loss: 1.3475 - val_accuracy: 0.8700 - val_precision: 0.8705 - val_recall: 0.8695\n",
      "Epoch 55/90\n",
      "200/200 [==============================] - 52s 257ms/step - loss: 0.0109 - accuracy: 0.9974 - precision: 0.9974 - recall: 0.9974 - val_loss: 2.8294 - val_accuracy: 0.7968 - val_precision: 0.7971 - val_recall: 0.7966\n",
      "Epoch 56/90\n",
      "200/200 [==============================] - 51s 255ms/step - loss: 0.0196 - accuracy: 0.9951 - precision: 0.9951 - recall: 0.9950 - val_loss: 1.3484 - val_accuracy: 0.8669 - val_precision: 0.8674 - val_recall: 0.8666\n",
      "Epoch 57/90\n",
      "200/200 [==============================] - 51s 257ms/step - loss: 0.0088 - accuracy: 0.9974 - precision: 0.9974 - recall: 0.9973 - val_loss: 1.5478 - val_accuracy: 0.7267 - val_precision: 0.7341 - val_recall: 0.7212\n",
      "Epoch 58/90\n",
      "200/200 [==============================] - 52s 259ms/step - loss: 0.0092 - accuracy: 0.9974 - precision: 0.9974 - recall: 0.9973 - val_loss: 1.6022 - val_accuracy: 0.8673 - val_precision: 0.8678 - val_recall: 0.8670\n"
     ]
    },
    {
     "name": "stdout",
     "output_type": "stream",
     "text": [
      "Epoch 59/90\n",
      "200/200 [==============================] - 52s 258ms/step - loss: 0.0149 - accuracy: 0.9959 - precision: 0.9960 - recall: 0.9959 - val_loss: 1.1916 - val_accuracy: 0.8527 - val_precision: 0.8537 - val_recall: 0.8523\n",
      "Epoch 60/90\n",
      "200/200 [==============================] - 51s 255ms/step - loss: 0.0113 - accuracy: 0.9969 - precision: 0.9969 - recall: 0.9969 - val_loss: 3.8730 - val_accuracy: 0.6263 - val_precision: 0.6290 - val_recall: 0.6248\n",
      "Epoch 61/90\n",
      "200/200 [==============================] - 51s 257ms/step - loss: 0.0123 - accuracy: 0.9966 - precision: 0.9967 - recall: 0.9966 - val_loss: 2.2566 - val_accuracy: 0.6380 - val_precision: 0.6436 - val_recall: 0.6302\n",
      "Epoch 62/90\n",
      "200/200 [==============================] - 52s 260ms/step - loss: 0.0091 - accuracy: 0.9976 - precision: 0.9976 - recall: 0.9976 - val_loss: 1.5714 - val_accuracy: 0.8604 - val_precision: 0.8610 - val_recall: 0.8601\n",
      "Epoch 63/90\n",
      "200/200 [==============================] - 51s 255ms/step - loss: 0.0061 - accuracy: 0.9982 - precision: 0.9982 - recall: 0.9982 - val_loss: 1.5574 - val_accuracy: 0.8136 - val_precision: 0.8150 - val_recall: 0.8127\n",
      "Epoch 64/90\n",
      "200/200 [==============================] - 52s 259ms/step - loss: 0.0085 - accuracy: 0.9976 - precision: 0.9976 - recall: 0.9975 - val_loss: 1.5432 - val_accuracy: 0.8384 - val_precision: 0.8387 - val_recall: 0.8380\n",
      "Epoch 65/90\n",
      "200/200 [==============================] - 51s 255ms/step - loss: 0.0122 - accuracy: 0.9968 - precision: 0.9969 - recall: 0.9968 - val_loss: 1.7676 - val_accuracy: 0.8584 - val_precision: 0.8590 - val_recall: 0.8583\n",
      "Epoch 66/90\n",
      "200/200 [==============================] - 52s 258ms/step - loss: 0.0111 - accuracy: 0.9970 - precision: 0.9971 - recall: 0.9970 - val_loss: 2.4236 - val_accuracy: 0.6563 - val_precision: 0.6603 - val_recall: 0.6529\n",
      "Epoch 67/90\n",
      "200/200 [==============================] - 52s 260ms/step - loss: 0.0090 - accuracy: 0.9975 - precision: 0.9975 - recall: 0.9975 - val_loss: 1.2448 - val_accuracy: 0.8850 - val_precision: 0.8853 - val_recall: 0.8848\n",
      "Epoch 68/90\n",
      "200/200 [==============================] - 52s 262ms/step - loss: 0.0044 - accuracy: 0.9987 - precision: 0.9988 - recall: 0.9987 - val_loss: 1.1301 - val_accuracy: 0.8502 - val_precision: 0.8509 - val_recall: 0.8495\n",
      "Epoch 69/90\n",
      "200/200 [==============================] - 52s 259ms/step - loss: 0.0076 - accuracy: 0.9978 - precision: 0.9978 - recall: 0.9978 - val_loss: 1.6565 - val_accuracy: 0.8083 - val_precision: 0.8096 - val_recall: 0.8077\n",
      "Epoch 70/90\n",
      "200/200 [==============================] - 51s 257ms/step - loss: 0.0045 - accuracy: 0.9987 - precision: 0.9988 - recall: 0.9987 - val_loss: 1.7097 - val_accuracy: 0.8293 - val_precision: 0.8297 - val_recall: 0.8291\n",
      "Epoch 71/90\n",
      "200/200 [==============================] - 51s 257ms/step - loss: 0.0103 - accuracy: 0.9976 - precision: 0.9976 - recall: 0.9976 - val_loss: 1.9678 - val_accuracy: 0.8686 - val_precision: 0.8687 - val_recall: 0.8686\n",
      "Epoch 72/90\n",
      "200/200 [==============================] - 52s 258ms/step - loss: 0.0053 - accuracy: 0.9984 - precision: 0.9985 - recall: 0.9984 - val_loss: 1.1906 - val_accuracy: 0.8754 - val_precision: 0.8757 - val_recall: 0.8752\n",
      "Epoch 73/90\n",
      "200/200 [==============================] - 51s 257ms/step - loss: 0.0112 - accuracy: 0.9970 - precision: 0.9970 - recall: 0.9970 - val_loss: 1.8128 - val_accuracy: 0.8601 - val_precision: 0.8602 - val_recall: 0.8598\n",
      "Epoch 74/90\n",
      "200/200 [==============================] - 52s 259ms/step - loss: 0.0127 - accuracy: 0.9968 - precision: 0.9968 - recall: 0.9967 - val_loss: 1.9206 - val_accuracy: 0.8213 - val_precision: 0.8218 - val_recall: 0.8210\n",
      "Epoch 75/90\n",
      "200/200 [==============================] - 51s 256ms/step - loss: 0.0088 - accuracy: 0.9977 - precision: 0.9977 - recall: 0.9976 - val_loss: 3.2788 - val_accuracy: 0.6821 - val_precision: 0.6839 - val_recall: 0.6798\n",
      "Epoch 76/90\n",
      "200/200 [==============================] - 52s 260ms/step - loss: 0.0058 - accuracy: 0.9985 - precision: 0.9985 - recall: 0.9985 - val_loss: 1.3434 - val_accuracy: 0.8774 - val_precision: 0.8778 - val_recall: 0.8773\n",
      "Epoch 77/90\n",
      "200/200 [==============================] - 52s 258ms/step - loss: 0.0030 - accuracy: 0.9991 - precision: 0.9991 - recall: 0.9991 - val_loss: 2.1747 - val_accuracy: 0.8348 - val_precision: 0.8349 - val_recall: 0.8348\n",
      "Epoch 78/90\n",
      "200/200 [==============================] - 52s 258ms/step - loss: 0.0159 - accuracy: 0.9957 - precision: 0.9957 - recall: 0.9957 - val_loss: 1.6008 - val_accuracy: 0.8546 - val_precision: 0.8549 - val_recall: 0.8545\n",
      "Epoch 79/90\n",
      "200/200 [==============================] - 52s 258ms/step - loss: 0.0097 - accuracy: 0.9974 - precision: 0.9974 - recall: 0.9974 - val_loss: 1.3938 - val_accuracy: 0.8643 - val_precision: 0.8646 - val_recall: 0.8642\n",
      "Epoch 80/90\n",
      "200/200 [==============================] - 52s 258ms/step - loss: 0.0050 - accuracy: 0.9986 - precision: 0.9987 - recall: 0.9986 - val_loss: 10.9779 - val_accuracy: 0.5361 - val_precision: 0.5362 - val_recall: 0.5355\n",
      "Epoch 81/90\n",
      "200/200 [==============================] - 52s 258ms/step - loss: 0.0043 - accuracy: 0.9988 - precision: 0.9988 - recall: 0.9988 - val_loss: 1.4746 - val_accuracy: 0.8282 - val_precision: 0.8293 - val_recall: 0.8274\n",
      "Epoch 82/90\n",
      "200/200 [==============================] - 52s 259ms/step - loss: 0.0080 - accuracy: 0.9978 - precision: 0.9979 - recall: 0.9978 - val_loss: 1.8734 - val_accuracy: 0.8517 - val_precision: 0.8522 - val_recall: 0.8516\n",
      "Epoch 83/90\n",
      "200/200 [==============================] - 52s 258ms/step - loss: 0.0064 - accuracy: 0.9984 - precision: 0.9984 - recall: 0.9984 - val_loss: 1.6283 - val_accuracy: 0.7845 - val_precision: 0.7861 - val_recall: 0.7837\n",
      "Epoch 84/90\n",
      "200/200 [==============================] - 52s 257ms/step - loss: 0.0074 - accuracy: 0.9980 - precision: 0.9980 - recall: 0.9980 - val_loss: 1.3409 - val_accuracy: 0.8077 - val_precision: 0.8104 - val_recall: 0.8049\n",
      "Epoch 85/90\n",
      "200/200 [==============================] - 51s 257ms/step - loss: 0.0131 - accuracy: 0.9967 - precision: 0.9967 - recall: 0.9966 - val_loss: 4.4547 - val_accuracy: 0.5623 - val_precision: 0.5638 - val_recall: 0.5592\n",
      "Epoch 86/90\n",
      "200/200 [==============================] - 52s 258ms/step - loss: 0.0096 - accuracy: 0.9974 - precision: 0.9974 - recall: 0.9973 - val_loss: 1.6345 - val_accuracy: 0.8497 - val_precision: 0.8501 - val_recall: 0.8495\n",
      "Epoch 87/90\n",
      "200/200 [==============================] - 52s 258ms/step - loss: 0.0047 - accuracy: 0.9988 - precision: 0.9988 - recall: 0.9988 - val_loss: 1.2727 - val_accuracy: 0.8753 - val_precision: 0.8753 - val_recall: 0.8752\n",
      "Epoch 88/90\n",
      "200/200 [==============================] - 51s 254ms/step - loss: 0.0052 - accuracy: 0.9988 - precision: 0.9988 - recall: 0.9988 - val_loss: 1.8147 - val_accuracy: 0.8391 - val_precision: 0.8393 - val_recall: 0.8389\n",
      "Epoch 89/90\n",
      "200/200 [==============================] - 51s 255ms/step - loss: 0.0025 - accuracy: 0.9993 - precision: 0.9993 - recall: 0.9993 - val_loss: 2.7024 - val_accuracy: 0.8012 - val_precision: 0.8014 - val_recall: 0.8011\n",
      "Epoch 90/90\n",
      "200/200 [==============================] - 51s 257ms/step - loss: 0.0093 - accuracy: 0.9975 - precision: 0.9975 - recall: 0.9974 - val_loss: 2.9268 - val_accuracy: 0.8334 - val_precision: 0.8336 - val_recall: 0.8334\n"
     ]
    },
    {
     "data": {
      "image/png": "[encoded data removed]",
      "text/plain": [
       "<Figure size 720x360 with 2 Axes>"
      ]
     },
     "metadata": {
      "needs_background": "light"
     },
     "output_type": "display_data"
    }
   ],
   "source": [
    "model = models.Sequential()\n",
    "\n",
    "model.add(layers.Conv2D(filters=96, kernel_size=11, strides=(4, 4), padding='valid', activation='relu',\n",
    "                        input_shape=(227, 227, 3)))\n",
    "model.add(layers.BatchNormalization())\n",
    "model.add(layers.MaxPooling2D(pool_size=(3, 3), strides=(2, 2),padding='valid'))\n",
    "\n",
    "model.add(layers.Conv2D(filters=256, kernel_size=(\n",
    "        5, 5), strides=(1, 1), activation='relu', padding=\"same\"))\n",
    "model.add(layers.BatchNormalization())\n",
    "model.add(layers.MaxPool2D(pool_size=(3, 3), strides=(2, 2)))\n",
    "\n",
    "model.add(layers.Conv2D(filters=384, kernel_size=(\n",
    "        3, 3), strides=(1, 1), activation='relu', padding=\"same\"))\n",
    "model.add(layers.BatchNormalization())\n",
    "\n",
    "model.add(layers.Conv2D(filters=384, kernel_size=(\n",
    "        3, 3), strides=(1, 1), activation='relu', padding=\"same\"))\n",
    "model.add(layers.BatchNormalization())\n",
    "\n",
    "model.add(layers.Conv2D(filters=256, kernel_size=(\n",
    "        3, 3), strides=(1, 1), activation='relu', padding=\"same\"))\n",
    "\n",
    "\n",
    "model.add(layers.Flatten())\n",
    "model.add(layers.Dense(4096, activation = 'relu'))\n",
    "model.add(layers.Dropout(0.5))\n",
    "model.add(layers.Dense(4096, activation = 'relu'))\n",
    "model.add(layers.Dropout(0.5))\n",
    "\n",
    "model.add(layers.Dense(8, activation='softmax'))\n",
    "\n",
    "\n",
    "model.compile(optimizer = optimizers.Adam(learning_rate=0.0001),\n",
    "              loss= losses.CategoricalCrossentropy(),\n",
    "              metrics = ['accuracy', Precision(), Recall()])\n",
    "\n",
    "model.summary()\n",
    "\n",
    "results = model.fit(train_generator,\n",
    "                    steps_per_epoch=200,  # Number of training samples to pull per epoch\n",
    "                    epochs=90,  # Number of epochs\n",
    "                    validation_data=val_generator,\n",
    "                    validation_freq=1,\n",
    "                    validation_steps=200,  # Number of validation samples to run validation on\n",
    "                    )\n",
    "\n",
    "display_model_trainTestGraphs(results)"
   ]
  },
  {
   "cell_type": "code",
   "execution_count": 9,
   "id": "6ff1a8f5",
   "metadata": {
    "ExecuteTime": {
     "end_time": "2022-05-21T23:43:14.643486Z",
     "start_time": "2022-05-21T23:43:09.537831Z"
    }
   },
   "outputs": [
    {
     "name": "stderr",
     "output_type": "stream",
     "text": [
      "WARNING:absl:Found untraced functions such as _jit_compiled_convolution_op, _jit_compiled_convolution_op, _jit_compiled_convolution_op, _jit_compiled_convolution_op, _jit_compiled_convolution_op while saving (showing 5 of 5). These functions will not be directly callable after loading.\n"
     ]
    },
    {
     "name": "stdout",
     "output_type": "stream",
     "text": [
      "INFO:tensorflow:Assets written to: tf_AlexNet_checkpoints/Model_1\\assets\n"
     ]
    },
    {
     "name": "stderr",
     "output_type": "stream",
     "text": [
      "INFO:tensorflow:Assets written to: tf_AlexNet_checkpoints/Model_1\\assets\n"
     ]
    }
   ],
   "source": [
    "results.model.save(tf_chkpt_path+'Model_1')"
   ]
  },
  {
   "cell_type": "markdown",
   "id": "7eaa9d38",
   "metadata": {},
   "source": [
    "The overall performance was, atrocious in a word. With more time we might be able to refine this model. However, we have much more promising models that we can use instead.\n",
    "Discarding this model."
   ]
  }
 ],
 "metadata": {
  "kernelspec": {
   "display_name": "tfGPU",
   "language": "python",
   "name": "tfgpu"
  },
  "language_info": {
   "codemirror_mode": {
    "name": "ipython",
    "version": 3
   },
   "file_extension": ".py",
   "mimetype": "text/x-python",
   "name": "python",
   "nbconvert_exporter": "python",
   "pygments_lexer": "ipython3",
   "version": "3.9.12"
  },
  "toc": {
   "base_numbering": 1,
   "nav_menu": {},
   "number_sections": true,
   "sideBar": true,
   "skip_h1_title": false,
   "title_cell": "Table of Contents",
   "title_sidebar": "Contents",
   "toc_cell": false,
   "toc_position": {},
   "toc_section_display": true,
   "toc_window_display": false
  },
  "varInspector": {
   "cols": {
    "lenName": 16,
    "lenType": 16,
    "lenVar": 40
   },
   "kernels_config": {
    "python": {
     "delete_cmd_postfix": "",
     "delete_cmd_prefix": "del ",
     "library": "var_list.py",
     "varRefreshCmd": "print(var_dic_list())"
    },
    "r": {
     "delete_cmd_postfix": ") ",
     "delete_cmd_prefix": "rm(",
     "library": "var_list.r",
     "varRefreshCmd": "cat(var_dic_list()) "
    }
   },
   "position": {
    "height": "741.844px",
    "left": "1550px",
    "right": "20px",
    "top": "120px",
    "width": "350px"
   },
   "types_to_exclude": [
    "module",
    "function",
    "builtin_function_or_method",
    "instance",
    "_Feature"
   ],
   "window_display": false
  }
 },
 "nbformat": 4,
 "nbformat_minor": 5
}
