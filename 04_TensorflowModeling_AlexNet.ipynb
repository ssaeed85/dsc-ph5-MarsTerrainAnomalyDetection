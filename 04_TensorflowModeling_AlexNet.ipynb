{
 "cells": [
  {
   "cell_type": "code",
   "execution_count": 1,
   "id": "1fb2894c",
   "metadata": {
    "ExecuteTime": {
     "end_time": "2022-05-21T22:25:37.388352Z",
     "start_time": "2022-05-21T22:25:36.745428Z"
    }
   },
   "outputs": [],
   "source": [
    "import numpy as np\n",
    "import pandas as pd\n",
    "import matplotlib.pyplot as plt\n",
    "from PIL import Image"
   ]
  },
  {
   "cell_type": "code",
   "execution_count": 2,
   "id": "f93534a8",
   "metadata": {
    "ExecuteTime": {
     "end_time": "2022-05-21T22:25:39.802383Z",
     "start_time": "2022-05-21T22:25:37.389363Z"
    }
   },
   "outputs": [],
   "source": [
    "from tensorflow.keras.preprocessing.image import ImageDataGenerator\n",
    "from tensorflow.keras import layers, models, optimizers, losses\n",
    "from tensorflow.keras.callbacks import EarlyStopping,ModelCheckpoint\n",
    "from tensorflow.keras.metrics import Precision, Recall\n",
    "import tensorflow as tf\n",
    "tf.random.set_seed(\n",
    "    42\n",
    ")\n",
    "\n",
    "\n",
    "import seaborn as sns\n",
    "\n",
    "tf_chkpt_path = 'tf_AlexNet_checkpoints/'"
   ]
  },
  {
   "cell_type": "code",
   "execution_count": 3,
   "id": "2d8e2c75",
   "metadata": {
    "ExecuteTime": {
     "end_time": "2022-05-21T22:25:39.818377Z",
     "start_time": "2022-05-21T22:25:39.803381Z"
    }
   },
   "outputs": [],
   "source": [
    "from src.helperFunctions import display_model_trainTestGraphs"
   ]
  },
  {
   "cell_type": "markdown",
   "id": "0ce70b2f",
   "metadata": {},
   "source": [
    "# Training Set"
   ]
  },
  {
   "cell_type": "code",
   "execution_count": 4,
   "id": "95c64846",
   "metadata": {
    "ExecuteTime": {
     "end_time": "2022-05-21T22:25:41.112088Z",
     "start_time": "2022-05-21T22:25:39.819378Z"
    }
   },
   "outputs": [
    {
     "name": "stdout",
     "output_type": "stream",
     "text": [
      "Found 48979 images belonging to 8 classes.\n"
     ]
    }
   ],
   "source": [
    "# Normalizing data for 8 bit\n",
    "train_datagen = ImageDataGenerator(rescale=1./255)\n",
    "\n",
    "train_generator = train_datagen.flow_from_directory(\n",
    "    'images/train/',\n",
    "    target_size = (227,227),\n",
    "    batch_size=225,\n",
    "    color_mode='rgb',\n",
    "    class_mode='categorical'\n",
    ")"
   ]
  },
  {
   "cell_type": "markdown",
   "id": "0a49240d",
   "metadata": {},
   "source": [
    "# Validation Set"
   ]
  },
  {
   "cell_type": "code",
   "execution_count": 5,
   "id": "45fcac0d",
   "metadata": {
    "ExecuteTime": {
     "end_time": "2022-05-21T22:25:41.497393Z",
     "start_time": "2022-05-21T22:25:41.113088Z"
    }
   },
   "outputs": [
    {
     "name": "stdout",
     "output_type": "stream",
     "text": [
      "Found 14175 images belonging to 8 classes.\n"
     ]
    }
   ],
   "source": [
    "# Normalizing data for 8 bit\n",
    "val_datagen = ImageDataGenerator(rescale=1./255)\n",
    "\n",
    "val_generator = val_datagen.flow_from_directory(\n",
    "    'images/val/',\n",
    "    target_size = (227,227),\n",
    "    batch_size=64,\n",
    "    color_mode='rgb',\n",
    "    class_mode='categorical'\n",
    ")"
   ]
  },
  {
   "cell_type": "markdown",
   "id": "22bd2ae5",
   "metadata": {},
   "source": [
    "# Test Set"
   ]
  },
  {
   "cell_type": "code",
   "execution_count": 6,
   "id": "5b3a17c4",
   "metadata": {
    "ExecuteTime": {
     "end_time": "2022-05-21T22:25:41.561408Z",
     "start_time": "2022-05-21T22:25:41.498395Z"
    }
   },
   "outputs": [
    {
     "name": "stdout",
     "output_type": "stream",
     "text": [
      "Found 1793 images belonging to 8 classes.\n"
     ]
    }
   ],
   "source": [
    "# Normalizing data for 8 bit\n",
    "test_datagen = ImageDataGenerator(rescale=1./255)\n",
    "\n",
    "test_generator = test_datagen.flow_from_directory(\n",
    "    'images/test/',\n",
    "    target_size = (227,227),\n",
    "    batch_size=8,\n",
    "    color_mode='rgb',\n",
    "    class_mode='categorical'\n",
    ")"
   ]
  },
  {
   "cell_type": "markdown",
   "id": "f94933e3",
   "metadata": {},
   "source": [
    "# Modeling"
   ]
  },
  {
   "cell_type": "code",
   "execution_count": 7,
   "id": "d96dcad3",
   "metadata": {
    "ExecuteTime": {
     "end_time": "2022-05-21T22:25:41.577419Z",
     "start_time": "2022-05-21T22:25:41.562408Z"
    }
   },
   "outputs": [],
   "source": [
    "early_stop = EarlyStopping(monitor='val_loss', \n",
    "                           min_delta=1e-8,\n",
    "                           verbose=1,\n",
    "                           patience = 5,\n",
    "                           restore_best_weights=True,\n",
    "                           mode='min')"
   ]
  },
  {
   "cell_type": "markdown",
   "id": "b1f570c5",
   "metadata": {},
   "source": [
    "# Model - AlexNet"
   ]
  },
  {
   "cell_type": "code",
   "execution_count": 8,
   "id": "6a809046",
   "metadata": {
    "ExecuteTime": {
     "end_time": "2022-05-21T23:43:09.536830Z",
     "start_time": "2022-05-21T22:25:41.578420Z"
    },
    "scrolled": false
   },
   "outputs": [
    {
     "name": "stdout",
     "output_type": "stream",
     "text": [
      "Model: \"sequential\"\n",
      "_________________________________________________________________\n",
      " Layer (type)                Output Shape              Param #   \n",
      "=================================================================\n",
      " conv2d (Conv2D)             (None, 55, 55, 96)        34944     \n",
      "                                                                 \n",
      " batch_normalization (BatchN  (None, 55, 55, 96)       384       \n",
      " ormalization)                                                   \n",
      "                                                                 \n",
      " max_pooling2d (MaxPooling2D  (None, 27, 27, 96)       0         \n",
      " )                                                               \n",
      "                                                                 \n",
      " conv2d_1 (Conv2D)           (None, 27, 27, 256)       614656    \n",
      "                                                                 \n",
      " batch_normalization_1 (Batc  (None, 27, 27, 256)      1024      \n",
      " hNormalization)                                                 \n",
      "                                                                 \n",
      " max_pooling2d_1 (MaxPooling  (None, 13, 13, 256)      0         \n",
      " 2D)                                                             \n",
      "                                                                 \n",
      " conv2d_2 (Conv2D)           (None, 13, 13, 384)       885120    \n",
      "                                                                 \n",
      " batch_normalization_2 (Batc  (None, 13, 13, 384)      1536      \n",
      " hNormalization)                                                 \n",
      "                                                                 \n",
      " conv2d_3 (Conv2D)           (None, 13, 13, 384)       1327488   \n",
      "                                                                 \n",
      " batch_normalization_3 (Batc  (None, 13, 13, 384)      1536      \n",
      " hNormalization)                                                 \n",
      "                                                                 \n",
      " conv2d_4 (Conv2D)           (None, 13, 13, 256)       884992    \n",
      "                                                                 \n",
      " flatten (Flatten)           (None, 43264)             0         \n",
      "                                                                 \n",
      " dense (Dense)               (None, 4096)              177213440 \n",
      "                                                                 \n",
      " dropout (Dropout)           (None, 4096)              0         \n",
      "                                                                 \n",
      " dense_1 (Dense)             (None, 4096)              16781312  \n",
      "                                                                 \n",
      " dropout_1 (Dropout)         (None, 4096)              0         \n",
      "                                                                 \n",
      " dense_2 (Dense)             (None, 8)                 32776     \n",
      "                                                                 \n",
      "=================================================================\n",
      "Total params: 197,779,208\n",
      "Trainable params: 197,776,968\n",
      "Non-trainable params: 2,240\n",
      "_________________________________________________________________\n",
      "Epoch 1/90\n",
      "200/200 [==============================] - 58s 268ms/step - loss: 0.6944 - accuracy: 0.8371 - precision: 0.8603 - recall: 0.8120 - val_loss: 0.9145 - val_accuracy: 0.7902 - val_precision: 0.7902 - val_recall: 0.7902\n",
      "Epoch 2/90\n",
      "200/200 [==============================] - 51s 256ms/step - loss: 0.3880 - accuracy: 0.8825 - precision: 0.8976 - recall: 0.8647 - val_loss: 1.4518 - val_accuracy: 0.5891 - val_precision: 0.5958 - val_recall: 0.5785\n",
      "Epoch 3/90\n",
      "200/200 [==============================] - 51s 257ms/step - loss: 0.3280 - accuracy: 0.9007 - precision: 0.9111 - recall: 0.8884 - val_loss: 3.7813 - val_accuracy: 0.5148 - val_precision: 0.5164 - val_recall: 0.5107\n",
      "Epoch 4/90\n",
      "200/200 [==============================] - 51s 256ms/step - loss: 0.2819 - accuracy: 0.9136 - precision: 0.9216 - recall: 0.9043 - val_loss: 1.2749 - val_accuracy: 0.6273 - val_precision: 0.6524 - val_recall: 0.5320\n",
      "Epoch 5/90\n",
      "200/200 [==============================] - 52s 259ms/step - loss: 0.2410 - accuracy: 0.9253 - precision: 0.9307 - recall: 0.9193 - val_loss: 1.1122 - val_accuracy: 0.8062 - val_precision: 0.8096 - val_recall: 0.8053\n",
      "Epoch 6/90\n",
      "200/200 [==============================] - 51s 255ms/step - loss: 0.2060 - accuracy: 0.9359 - precision: 0.9401 - recall: 0.9314 - val_loss: 5.8810 - val_accuracy: 0.3407 - val_precision: 0.3405 - val_recall: 0.3319\n",
      "Epoch 7/90\n",
      "200/200 [==============================] - 51s 254ms/step - loss: 0.1737 - accuracy: 0.9441 - precision: 0.9467 - recall: 0.9409 - val_loss: 0.8581 - val_accuracy: 0.7643 - val_precision: 0.7855 - val_recall: 0.7314\n",
      "Epoch 8/90\n",
      "200/200 [==============================] - 51s 255ms/step - loss: 0.1499 - accuracy: 0.9522 - precision: 0.9542 - recall: 0.9496 - val_loss: 0.9613 - val_accuracy: 0.8372 - val_precision: 0.8386 - val_recall: 0.8365\n",
      "Epoch 9/90\n",
      "200/200 [==============================] - 51s 256ms/step - loss: 0.1312 - accuracy: 0.9560 - precision: 0.9576 - recall: 0.9545 - val_loss: 1.3939 - val_accuracy: 0.7850 - val_precision: 0.7895 - val_recall: 0.7831\n",
      "Epoch 10/90\n",
      "200/200 [==============================] - 51s 252ms/step - loss: 0.1081 - accuracy: 0.9640 - precision: 0.9656 - recall: 0.9629 - val_loss: 0.9336 - val_accuracy: 0.8284 - val_precision: 0.8305 - val_recall: 0.8258\n",
      "Epoch 11/90\n",
      "200/200 [==============================] - 51s 256ms/step - loss: 0.0867 - accuracy: 0.9708 - precision: 0.9717 - recall: 0.9696 - val_loss: 0.8290 - val_accuracy: 0.8255 - val_precision: 0.8280 - val_recall: 0.8241\n",
      "Epoch 12/90\n",
      "200/200 [==============================] - 51s 256ms/step - loss: 0.0761 - accuracy: 0.9743 - precision: 0.9749 - recall: 0.9734 - val_loss: 0.7604 - val_accuracy: 0.8065 - val_precision: 0.8239 - val_recall: 0.7900\n",
      "Epoch 13/90\n",
      "200/200 [==============================] - 51s 255ms/step - loss: 0.0642 - accuracy: 0.9785 - precision: 0.9792 - recall: 0.9779 - val_loss: 0.9335 - val_accuracy: 0.7817 - val_precision: 0.7852 - val_recall: 0.7784\n",
      "Epoch 14/90\n",
      "200/200 [==============================] - 51s 256ms/step - loss: 0.0633 - accuracy: 0.9791 - precision: 0.9798 - recall: 0.9785 - val_loss: 1.1827 - val_accuracy: 0.8389 - val_precision: 0.8409 - val_recall: 0.8384\n",
      "Epoch 15/90\n",
      "200/200 [==============================] - 51s 256ms/step - loss: 0.0509 - accuracy: 0.9836 - precision: 0.9839 - recall: 0.9831 - val_loss: 1.0049 - val_accuracy: 0.7973 - val_precision: 0.7984 - val_recall: 0.7963\n",
      "Epoch 16/90\n",
      "200/200 [==============================] - 51s 254ms/step - loss: 0.0477 - accuracy: 0.9844 - precision: 0.9849 - recall: 0.9842 - val_loss: 2.2481 - val_accuracy: 0.4776 - val_precision: 0.4864 - val_recall: 0.4456\n",
      "Epoch 17/90\n",
      "200/200 [==============================] - 51s 257ms/step - loss: 0.0513 - accuracy: 0.9840 - precision: 0.9844 - recall: 0.9834 - val_loss: 2.4767 - val_accuracy: 0.8251 - val_precision: 0.8259 - val_recall: 0.8236\n",
      "Epoch 18/90\n",
      "200/200 [==============================] - 52s 258ms/step - loss: 0.0357 - accuracy: 0.9885 - precision: 0.9888 - recall: 0.9881 - val_loss: 1.4926 - val_accuracy: 0.6944 - val_precision: 0.6967 - val_recall: 0.6925\n",
      "Epoch 19/90\n",
      "200/200 [==============================] - 51s 256ms/step - loss: 0.0352 - accuracy: 0.9888 - precision: 0.9891 - recall: 0.9885 - val_loss: 1.5757 - val_accuracy: 0.7549 - val_precision: 0.7580 - val_recall: 0.7518\n",
      "Epoch 20/90\n",
      "200/200 [==============================] - 51s 255ms/step - loss: 0.0264 - accuracy: 0.9917 - precision: 0.9918 - recall: 0.9914 - val_loss: 1.1296 - val_accuracy: 0.8255 - val_precision: 0.8294 - val_recall: 0.8233\n",
      "Epoch 21/90\n",
      "200/200 [==============================] - 51s 256ms/step - loss: 0.0295 - accuracy: 0.9907 - precision: 0.9909 - recall: 0.9905 - val_loss: 1.5875 - val_accuracy: 0.8392 - val_precision: 0.8398 - val_recall: 0.8390\n",
      "Epoch 22/90\n",
      "200/200 [==============================] - 52s 257ms/step - loss: 0.0366 - accuracy: 0.9889 - precision: 0.9892 - recall: 0.9886 - val_loss: 1.6255 - val_accuracy: 0.8279 - val_precision: 0.8285 - val_recall: 0.8273\n",
      "Epoch 23/90\n"
     ]
    },
    {
     "name": "stdout",
     "output_type": "stream",
     "text": [
      "200/200 [==============================] - 52s 257ms/step - loss: 0.0301 - accuracy: 0.9908 - precision: 0.9912 - recall: 0.9907 - val_loss: 1.1239 - val_accuracy: 0.8313 - val_precision: 0.8327 - val_recall: 0.8297\n",
      "Epoch 24/90\n",
      "200/200 [==============================] - 51s 256ms/step - loss: 0.0219 - accuracy: 0.9933 - precision: 0.9935 - recall: 0.9932 - val_loss: 1.3585 - val_accuracy: 0.7986 - val_precision: 0.8008 - val_recall: 0.7973\n",
      "Epoch 25/90\n",
      "200/200 [==============================] - 51s 255ms/step - loss: 0.0192 - accuracy: 0.9939 - precision: 0.9940 - recall: 0.9938 - val_loss: 6.8103 - val_accuracy: 0.4151 - val_precision: 0.4216 - val_recall: 0.4046\n",
      "Epoch 26/90\n",
      "200/200 [==============================] - 52s 258ms/step - loss: 0.0330 - accuracy: 0.9899 - precision: 0.9901 - recall: 0.9895 - val_loss: 1.1703 - val_accuracy: 0.8694 - val_precision: 0.8695 - val_recall: 0.8691\n",
      "Epoch 27/90\n",
      "200/200 [==============================] - 52s 258ms/step - loss: 0.0200 - accuracy: 0.9939 - precision: 0.9939 - recall: 0.9937 - val_loss: 0.9928 - val_accuracy: 0.8679 - val_precision: 0.8686 - val_recall: 0.8676\n",
      "Epoch 28/90\n",
      "200/200 [==============================] - 52s 257ms/step - loss: 0.0279 - accuracy: 0.9925 - precision: 0.9927 - recall: 0.9923 - val_loss: 1.0262 - val_accuracy: 0.8599 - val_precision: 0.8601 - val_recall: 0.8591\n",
      "Epoch 29/90\n",
      "200/200 [==============================] - 52s 257ms/step - loss: 0.0137 - accuracy: 0.9957 - precision: 0.9958 - recall: 0.9957 - val_loss: 6.2064 - val_accuracy: 0.4684 - val_precision: 0.4696 - val_recall: 0.4666\n",
      "Epoch 30/90\n",
      "200/200 [==============================] - 52s 259ms/step - loss: 0.0183 - accuracy: 0.9941 - precision: 0.9942 - recall: 0.9939 - val_loss: 1.0961 - val_accuracy: 0.8417 - val_precision: 0.8446 - val_recall: 0.8405\n",
      "Epoch 31/90\n",
      "200/200 [==============================] - 52s 257ms/step - loss: 0.0181 - accuracy: 0.9947 - precision: 0.9948 - recall: 0.9946 - val_loss: 3.8226 - val_accuracy: 0.8288 - val_precision: 0.8289 - val_recall: 0.8286\n",
      "Epoch 32/90\n",
      "200/200 [==============================] - 52s 258ms/step - loss: 0.0166 - accuracy: 0.9950 - precision: 0.9952 - recall: 0.9948 - val_loss: 1.8817 - val_accuracy: 0.7679 - val_precision: 0.7696 - val_recall: 0.7657\n",
      "Epoch 33/90\n",
      "200/200 [==============================] - 51s 254ms/step - loss: 0.0236 - accuracy: 0.9932 - precision: 0.9933 - recall: 0.9930 - val_loss: 1.0959 - val_accuracy: 0.8620 - val_precision: 0.8632 - val_recall: 0.8616\n",
      "Epoch 34/90\n",
      "200/200 [==============================] - 52s 259ms/step - loss: 0.0233 - accuracy: 0.9929 - precision: 0.9930 - recall: 0.9927 - val_loss: 1.8236 - val_accuracy: 0.8379 - val_precision: 0.8390 - val_recall: 0.8377\n",
      "Epoch 35/90\n",
      "200/200 [==============================] - 51s 256ms/step - loss: 0.0168 - accuracy: 0.9948 - precision: 0.9949 - recall: 0.9946 - val_loss: 1.7740 - val_accuracy: 0.7991 - val_precision: 0.7998 - val_recall: 0.7979\n",
      "Epoch 36/90\n",
      "200/200 [==============================] - 52s 258ms/step - loss: 0.0088 - accuracy: 0.9974 - precision: 0.9974 - recall: 0.9973 - val_loss: 1.4737 - val_accuracy: 0.8672 - val_precision: 0.8679 - val_recall: 0.8670\n",
      "Epoch 37/90\n",
      "200/200 [==============================] - 51s 257ms/step - loss: 0.0153 - accuracy: 0.9958 - precision: 0.9958 - recall: 0.9957 - val_loss: 2.2151 - val_accuracy: 0.8304 - val_precision: 0.8311 - val_recall: 0.8301\n",
      "Epoch 38/90\n",
      "200/200 [==============================] - 52s 258ms/step - loss: 0.0225 - accuracy: 0.9931 - precision: 0.9933 - recall: 0.9930 - val_loss: 3.0536 - val_accuracy: 0.7008 - val_precision: 0.7017 - val_recall: 0.6997\n",
      "Epoch 39/90\n",
      "200/200 [==============================] - 52s 257ms/step - loss: 0.0165 - accuracy: 0.9949 - precision: 0.9951 - recall: 0.9949 - val_loss: 2.1112 - val_accuracy: 0.8346 - val_precision: 0.8349 - val_recall: 0.8342\n",
      "Epoch 40/90\n",
      "200/200 [==============================] - 52s 258ms/step - loss: 0.0128 - accuracy: 0.9958 - precision: 0.9958 - recall: 0.9957 - val_loss: 2.2865 - val_accuracy: 0.6716 - val_precision: 0.6733 - val_recall: 0.6693\n",
      "Epoch 41/90\n",
      "200/200 [==============================] - 51s 254ms/step - loss: 0.0111 - accuracy: 0.9965 - precision: 0.9965 - recall: 0.9964 - val_loss: 1.1851 - val_accuracy: 0.7823 - val_precision: 0.7864 - val_recall: 0.7751\n",
      "Epoch 42/90\n",
      "200/200 [==============================] - 52s 258ms/step - loss: 0.0137 - accuracy: 0.9964 - precision: 0.9965 - recall: 0.9964 - val_loss: 1.7750 - val_accuracy: 0.8476 - val_precision: 0.8487 - val_recall: 0.8471\n",
      "Epoch 43/90\n",
      "200/200 [==============================] - 51s 257ms/step - loss: 0.0135 - accuracy: 0.9961 - precision: 0.9962 - recall: 0.9961 - val_loss: 1.6937 - val_accuracy: 0.8177 - val_precision: 0.8198 - val_recall: 0.8170\n",
      "Epoch 44/90\n",
      "200/200 [==============================] - 52s 257ms/step - loss: 0.0245 - accuracy: 0.9933 - precision: 0.9933 - recall: 0.9931 - val_loss: 2.9969 - val_accuracy: 0.6123 - val_precision: 0.6165 - val_recall: 0.6055\n",
      "Epoch 45/90\n",
      "200/200 [==============================] - 51s 256ms/step - loss: 0.0207 - accuracy: 0.9939 - precision: 0.9940 - recall: 0.9938 - val_loss: 3.6758 - val_accuracy: 0.6477 - val_precision: 0.6488 - val_recall: 0.6450\n",
      "Epoch 46/90\n",
      "200/200 [==============================] - 52s 258ms/step - loss: 0.0092 - accuracy: 0.9974 - precision: 0.9974 - recall: 0.9974 - val_loss: 1.2375 - val_accuracy: 0.8759 - val_precision: 0.8764 - val_recall: 0.8757\n",
      "Epoch 47/90\n",
      "200/200 [==============================] - 52s 258ms/step - loss: 0.0055 - accuracy: 0.9984 - precision: 0.9984 - recall: 0.9984 - val_loss: 1.7819 - val_accuracy: 0.8659 - val_precision: 0.8660 - val_recall: 0.8654\n",
      "Epoch 48/90\n",
      "200/200 [==============================] - 52s 257ms/step - loss: 0.0101 - accuracy: 0.9968 - precision: 0.9968 - recall: 0.9968 - val_loss: 1.6709 - val_accuracy: 0.8716 - val_precision: 0.8720 - val_recall: 0.8714\n",
      "Epoch 49/90\n",
      "200/200 [==============================] - 51s 257ms/step - loss: 0.0154 - accuracy: 0.9957 - precision: 0.9959 - recall: 0.9956 - val_loss: 1.9132 - val_accuracy: 0.7802 - val_precision: 0.7824 - val_recall: 0.7787\n",
      "Epoch 50/90\n",
      "200/200 [==============================] - 52s 258ms/step - loss: 0.0107 - accuracy: 0.9970 - precision: 0.9970 - recall: 0.9970 - val_loss: 1.7584 - val_accuracy: 0.8569 - val_precision: 0.8572 - val_recall: 0.8566\n",
      "Epoch 51/90\n",
      "200/200 [==============================] - 51s 257ms/step - loss: 0.0125 - accuracy: 0.9963 - precision: 0.9964 - recall: 0.9963 - val_loss: 1.1281 - val_accuracy: 0.8409 - val_precision: 0.8419 - val_recall: 0.8402\n",
      "Epoch 52/90\n",
      "200/200 [==============================] - 52s 258ms/step - loss: 0.0099 - accuracy: 0.9971 - precision: 0.9972 - recall: 0.9970 - val_loss: 1.0716 - val_accuracy: 0.8236 - val_precision: 0.8258 - val_recall: 0.8223\n",
      "Epoch 53/90\n",
      "200/200 [==============================] - 52s 257ms/step - loss: 0.0086 - accuracy: 0.9976 - precision: 0.9976 - recall: 0.9976 - val_loss: 1.1758 - val_accuracy: 0.8745 - val_precision: 0.8753 - val_recall: 0.8742\n",
      "Epoch 54/90\n",
      "200/200 [==============================] - 52s 259ms/step - loss: 0.0093 - accuracy: 0.9970 - precision: 0.9971 - recall: 0.9970 - val_loss: 1.3475 - val_accuracy: 0.8700 - val_precision: 0.8705 - val_recall: 0.8695\n",
      "Epoch 55/90\n",
      "200/200 [==============================] - 52s 257ms/step - loss: 0.0109 - accuracy: 0.9974 - precision: 0.9974 - recall: 0.9974 - val_loss: 2.8294 - val_accuracy: 0.7968 - val_precision: 0.7971 - val_recall: 0.7966\n",
      "Epoch 56/90\n",
      "200/200 [==============================] - 51s 255ms/step - loss: 0.0196 - accuracy: 0.9951 - precision: 0.9951 - recall: 0.9950 - val_loss: 1.3484 - val_accuracy: 0.8669 - val_precision: 0.8674 - val_recall: 0.8666\n",
      "Epoch 57/90\n",
      "200/200 [==============================] - 51s 257ms/step - loss: 0.0088 - accuracy: 0.9974 - precision: 0.9974 - recall: 0.9973 - val_loss: 1.5478 - val_accuracy: 0.7267 - val_precision: 0.7341 - val_recall: 0.7212\n",
      "Epoch 58/90\n",
      "200/200 [==============================] - 52s 259ms/step - loss: 0.0092 - accuracy: 0.9974 - precision: 0.9974 - recall: 0.9973 - val_loss: 1.6022 - val_accuracy: 0.8673 - val_precision: 0.8678 - val_recall: 0.8670\n"
     ]
    },
    {
     "name": "stdout",
     "output_type": "stream",
     "text": [
      "Epoch 59/90\n",
      "200/200 [==============================] - 52s 258ms/step - loss: 0.0149 - accuracy: 0.9959 - precision: 0.9960 - recall: 0.9959 - val_loss: 1.1916 - val_accuracy: 0.8527 - val_precision: 0.8537 - val_recall: 0.8523\n",
      "Epoch 60/90\n",
      "200/200 [==============================] - 51s 255ms/step - loss: 0.0113 - accuracy: 0.9969 - precision: 0.9969 - recall: 0.9969 - val_loss: 3.8730 - val_accuracy: 0.6263 - val_precision: 0.6290 - val_recall: 0.6248\n",
      "Epoch 61/90\n",
      "200/200 [==============================] - 51s 257ms/step - loss: 0.0123 - accuracy: 0.9966 - precision: 0.9967 - recall: 0.9966 - val_loss: 2.2566 - val_accuracy: 0.6380 - val_precision: 0.6436 - val_recall: 0.6302\n",
      "Epoch 62/90\n",
      "200/200 [==============================] - 52s 260ms/step - loss: 0.0091 - accuracy: 0.9976 - precision: 0.9976 - recall: 0.9976 - val_loss: 1.5714 - val_accuracy: 0.8604 - val_precision: 0.8610 - val_recall: 0.8601\n",
      "Epoch 63/90\n",
      "200/200 [==============================] - 51s 255ms/step - loss: 0.0061 - accuracy: 0.9982 - precision: 0.9982 - recall: 0.9982 - val_loss: 1.5574 - val_accuracy: 0.8136 - val_precision: 0.8150 - val_recall: 0.8127\n",
      "Epoch 64/90\n",
      "200/200 [==============================] - 52s 259ms/step - loss: 0.0085 - accuracy: 0.9976 - precision: 0.9976 - recall: 0.9975 - val_loss: 1.5432 - val_accuracy: 0.8384 - val_precision: 0.8387 - val_recall: 0.8380\n",
      "Epoch 65/90\n",
      "200/200 [==============================] - 51s 255ms/step - loss: 0.0122 - accuracy: 0.9968 - precision: 0.9969 - recall: 0.9968 - val_loss: 1.7676 - val_accuracy: 0.8584 - val_precision: 0.8590 - val_recall: 0.8583\n",
      "Epoch 66/90\n",
      "200/200 [==============================] - 52s 258ms/step - loss: 0.0111 - accuracy: 0.9970 - precision: 0.9971 - recall: 0.9970 - val_loss: 2.4236 - val_accuracy: 0.6563 - val_precision: 0.6603 - val_recall: 0.6529\n",
      "Epoch 67/90\n",
      "200/200 [==============================] - 52s 260ms/step - loss: 0.0090 - accuracy: 0.9975 - precision: 0.9975 - recall: 0.9975 - val_loss: 1.2448 - val_accuracy: 0.8850 - val_precision: 0.8853 - val_recall: 0.8848\n",
      "Epoch 68/90\n",
      "200/200 [==============================] - 52s 262ms/step - loss: 0.0044 - accuracy: 0.9987 - precision: 0.9988 - recall: 0.9987 - val_loss: 1.1301 - val_accuracy: 0.8502 - val_precision: 0.8509 - val_recall: 0.8495\n",
      "Epoch 69/90\n",
      "200/200 [==============================] - 52s 259ms/step - loss: 0.0076 - accuracy: 0.9978 - precision: 0.9978 - recall: 0.9978 - val_loss: 1.6565 - val_accuracy: 0.8083 - val_precision: 0.8096 - val_recall: 0.8077\n",
      "Epoch 70/90\n",
      "200/200 [==============================] - 51s 257ms/step - loss: 0.0045 - accuracy: 0.9987 - precision: 0.9988 - recall: 0.9987 - val_loss: 1.7097 - val_accuracy: 0.8293 - val_precision: 0.8297 - val_recall: 0.8291\n",
      "Epoch 71/90\n",
      "200/200 [==============================] - 51s 257ms/step - loss: 0.0103 - accuracy: 0.9976 - precision: 0.9976 - recall: 0.9976 - val_loss: 1.9678 - val_accuracy: 0.8686 - val_precision: 0.8687 - val_recall: 0.8686\n",
      "Epoch 72/90\n",
      "200/200 [==============================] - 52s 258ms/step - loss: 0.0053 - accuracy: 0.9984 - precision: 0.9985 - recall: 0.9984 - val_loss: 1.1906 - val_accuracy: 0.8754 - val_precision: 0.8757 - val_recall: 0.8752\n",
      "Epoch 73/90\n",
      "200/200 [==============================] - 51s 257ms/step - loss: 0.0112 - accuracy: 0.9970 - precision: 0.9970 - recall: 0.9970 - val_loss: 1.8128 - val_accuracy: 0.8601 - val_precision: 0.8602 - val_recall: 0.8598\n",
      "Epoch 74/90\n",
      "200/200 [==============================] - 52s 259ms/step - loss: 0.0127 - accuracy: 0.9968 - precision: 0.9968 - recall: 0.9967 - val_loss: 1.9206 - val_accuracy: 0.8213 - val_precision: 0.8218 - val_recall: 0.8210\n",
      "Epoch 75/90\n",
      "200/200 [==============================] - 51s 256ms/step - loss: 0.0088 - accuracy: 0.9977 - precision: 0.9977 - recall: 0.9976 - val_loss: 3.2788 - val_accuracy: 0.6821 - val_precision: 0.6839 - val_recall: 0.6798\n",
      "Epoch 76/90\n",
      "200/200 [==============================] - 52s 260ms/step - loss: 0.0058 - accuracy: 0.9985 - precision: 0.9985 - recall: 0.9985 - val_loss: 1.3434 - val_accuracy: 0.8774 - val_precision: 0.8778 - val_recall: 0.8773\n",
      "Epoch 77/90\n",
      "200/200 [==============================] - 52s 258ms/step - loss: 0.0030 - accuracy: 0.9991 - precision: 0.9991 - recall: 0.9991 - val_loss: 2.1747 - val_accuracy: 0.8348 - val_precision: 0.8349 - val_recall: 0.8348\n",
      "Epoch 78/90\n",
      "200/200 [==============================] - 52s 258ms/step - loss: 0.0159 - accuracy: 0.9957 - precision: 0.9957 - recall: 0.9957 - val_loss: 1.6008 - val_accuracy: 0.8546 - val_precision: 0.8549 - val_recall: 0.8545\n",
      "Epoch 79/90\n",
      "200/200 [==============================] - 52s 258ms/step - loss: 0.0097 - accuracy: 0.9974 - precision: 0.9974 - recall: 0.9974 - val_loss: 1.3938 - val_accuracy: 0.8643 - val_precision: 0.8646 - val_recall: 0.8642\n",
      "Epoch 80/90\n",
      "200/200 [==============================] - 52s 258ms/step - loss: 0.0050 - accuracy: 0.9986 - precision: 0.9987 - recall: 0.9986 - val_loss: 10.9779 - val_accuracy: 0.5361 - val_precision: 0.5362 - val_recall: 0.5355\n",
      "Epoch 81/90\n",
      "200/200 [==============================] - 52s 258ms/step - loss: 0.0043 - accuracy: 0.9988 - precision: 0.9988 - recall: 0.9988 - val_loss: 1.4746 - val_accuracy: 0.8282 - val_precision: 0.8293 - val_recall: 0.8274\n",
      "Epoch 82/90\n",
      "200/200 [==============================] - 52s 259ms/step - loss: 0.0080 - accuracy: 0.9978 - precision: 0.9979 - recall: 0.9978 - val_loss: 1.8734 - val_accuracy: 0.8517 - val_precision: 0.8522 - val_recall: 0.8516\n",
      "Epoch 83/90\n",
      "200/200 [==============================] - 52s 258ms/step - loss: 0.0064 - accuracy: 0.9984 - precision: 0.9984 - recall: 0.9984 - val_loss: 1.6283 - val_accuracy: 0.7845 - val_precision: 0.7861 - val_recall: 0.7837\n",
      "Epoch 84/90\n",
      "200/200 [==============================] - 52s 257ms/step - loss: 0.0074 - accuracy: 0.9980 - precision: 0.9980 - recall: 0.9980 - val_loss: 1.3409 - val_accuracy: 0.8077 - val_precision: 0.8104 - val_recall: 0.8049\n",
      "Epoch 85/90\n",
      "200/200 [==============================] - 51s 257ms/step - loss: 0.0131 - accuracy: 0.9967 - precision: 0.9967 - recall: 0.9966 - val_loss: 4.4547 - val_accuracy: 0.5623 - val_precision: 0.5638 - val_recall: 0.5592\n",
      "Epoch 86/90\n",
      "200/200 [==============================] - 52s 258ms/step - loss: 0.0096 - accuracy: 0.9974 - precision: 0.9974 - recall: 0.9973 - val_loss: 1.6345 - val_accuracy: 0.8497 - val_precision: 0.8501 - val_recall: 0.8495\n",
      "Epoch 87/90\n",
      "200/200 [==============================] - 52s 258ms/step - loss: 0.0047 - accuracy: 0.9988 - precision: 0.9988 - recall: 0.9988 - val_loss: 1.2727 - val_accuracy: 0.8753 - val_precision: 0.8753 - val_recall: 0.8752\n",
      "Epoch 88/90\n",
      "200/200 [==============================] - 51s 254ms/step - loss: 0.0052 - accuracy: 0.9988 - precision: 0.9988 - recall: 0.9988 - val_loss: 1.8147 - val_accuracy: 0.8391 - val_precision: 0.8393 - val_recall: 0.8389\n",
      "Epoch 89/90\n",
      "200/200 [==============================] - 51s 255ms/step - loss: 0.0025 - accuracy: 0.9993 - precision: 0.9993 - recall: 0.9993 - val_loss: 2.7024 - val_accuracy: 0.8012 - val_precision: 0.8014 - val_recall: 0.8011\n",
      "Epoch 90/90\n",
      "200/200 [==============================] - 51s 257ms/step - loss: 0.0093 - accuracy: 0.9975 - precision: 0.9975 - recall: 0.9974 - val_loss: 2.9268 - val_accuracy: 0.8334 - val_precision: 0.8336 - val_recall: 0.8334\n"
     ]
    },
    {
     "data": {
      "image/png": "[encoded data removed]",
      "text/plain": [
       "<Figure size 720x360 with 2 Axes>"
      ]
     },
     "metadata": {
      "needs_background": "light"
     },
     "output_type": "display_data"
    }
   ],
   "source": [
    "model = models.Sequential()\n",
    "\n",
    "model.add(layers.Conv2D(filters=96, kernel_size=11, strides=(4, 4), padding='valid', activation='relu',\n",
    "                        input_shape=(227, 227, 3)))\n",
    "model.add(layers.BatchNormalization())\n",
    "model.add(layers.MaxPooling2D(pool_size=(3, 3), strides=(2, 2),padding='valid'))\n",
    "\n",
    "model.add(layers.Conv2D(filters=256, kernel_size=(\n",
    "        5, 5), strides=(1, 1), activation='relu', padding=\"same\"))\n",
    "model.add(layers.BatchNormalization())\n",
    "model.add(layers.MaxPool2D(pool_size=(3, 3), strides=(2, 2)))\n",
    "\n",
    "model.add(layers.Conv2D(filters=384, kernel_size=(\n",
    "        3, 3), strides=(1, 1), activation='relu', padding=\"same\"))\n",
    "model.add(layers.BatchNormalization())\n",
    "\n",
    "model.add(layers.Conv2D(filters=384, kernel_size=(\n",
    "        3, 3), strides=(1, 1), activation='relu', padding=\"same\"))\n",
    "model.add(layers.BatchNormalization())\n",
    "\n",
    "model.add(layers.Conv2D(filters=256, kernel_size=(\n",
    "        3, 3), strides=(1, 1), activation='relu', padding=\"same\"))\n",
    "# model.add(layers.MaxPool2D(pool_size=(3, 3), strides=(2, 2)))\n",
    "\n",
    "\n",
    "model.add(layers.Flatten())\n",
    "model.add(layers.Dense(4096, activation = 'relu'))\n",
    "model.add(layers.Dropout(0.5))\n",
    "model.add(layers.Dense(4096, activation = 'relu'))\n",
    "model.add(layers.Dropout(0.5))\n",
    "\n",
    "model.add(layers.Dense(8, activation='softmax'))\n",
    "\n",
    "\n",
    "model.compile(optimizer = optimizers.Adam(learning_rate=0.0001),\n",
    "              loss= losses.CategoricalCrossentropy(),\n",
    "              metrics = ['accuracy', Precision(), Recall()])\n",
    "\n",
    "model.summary()\n",
    "\n",
    "results = model.fit(train_generator,\n",
    "                    steps_per_epoch=200,  # Number of training samples to pull per epoch\n",
    "                    epochs=90,  # Number of epochs\n",
    "                    validation_data=val_generator,\n",
    "                    validation_freq=1,\n",
    "                    validation_steps=200,  # Number of validation samples to run validation on\n",
    "                    )\n",
    "\n",
    "display_model_trainTestGraphs(results)"
   ]
  },
  {
   "cell_type": "code",
   "execution_count": 9,
   "id": "3200f35e",
   "metadata": {
    "ExecuteTime": {
     "end_time": "2022-05-21T23:43:14.643486Z",
     "start_time": "2022-05-21T23:43:09.537831Z"
    }
   },
   "outputs": [
    {
     "name": "stderr",
     "output_type": "stream",
     "text": [
      "WARNING:absl:Found untraced functions such as _jit_compiled_convolution_op, _jit_compiled_convolution_op, _jit_compiled_convolution_op, _jit_compiled_convolution_op, _jit_compiled_convolution_op while saving (showing 5 of 5). These functions will not be directly callable after loading.\n"
     ]
    },
    {
     "name": "stdout",
     "output_type": "stream",
     "text": [
      "INFO:tensorflow:Assets written to: tf_AlexNet_checkpoints/Model_1\\assets\n"
     ]
    },
    {
     "name": "stderr",
     "output_type": "stream",
     "text": [
      "INFO:tensorflow:Assets written to: tf_AlexNet_checkpoints/Model_1\\assets\n"
     ]
    }
   ],
   "source": [
    "results.model.save(tf_chkpt_path+'Model_1')"
   ]
  },
  {
   "cell_type": "markdown",
   "id": "e511ee81",
   "metadata": {},
   "source": [
    "# Model - AlexNet with one extra MaxPooling"
   ]
  },
  {
   "cell_type": "code",
   "execution_count": 10,
   "id": "2c6d3e36",
   "metadata": {
    "ExecuteTime": {
     "end_time": "2022-05-22T00:58:43.918166Z",
     "start_time": "2022-05-21T23:43:14.645487Z"
    },
    "scrolled": false
   },
   "outputs": [
    {
     "name": "stdout",
     "output_type": "stream",
     "text": [
      "Model: \"sequential_1\"\n",
      "_________________________________________________________________\n",
      " Layer (type)                Output Shape              Param #   \n",
      "=================================================================\n",
      " conv2d_5 (Conv2D)           (None, 55, 55, 96)        34944     \n",
      "                                                                 \n",
      " batch_normalization_4 (Batc  (None, 55, 55, 96)       384       \n",
      " hNormalization)                                                 \n",
      "                                                                 \n",
      " max_pooling2d_2 (MaxPooling  (None, 27, 27, 96)       0         \n",
      " 2D)                                                             \n",
      "                                                                 \n",
      " conv2d_6 (Conv2D)           (None, 27, 27, 256)       614656    \n",
      "                                                                 \n",
      " batch_normalization_5 (Batc  (None, 27, 27, 256)      1024      \n",
      " hNormalization)                                                 \n",
      "                                                                 \n",
      " max_pooling2d_3 (MaxPooling  (None, 13, 13, 256)      0         \n",
      " 2D)                                                             \n",
      "                                                                 \n",
      " conv2d_7 (Conv2D)           (None, 13, 13, 384)       885120    \n",
      "                                                                 \n",
      " batch_normalization_6 (Batc  (None, 13, 13, 384)      1536      \n",
      " hNormalization)                                                 \n",
      "                                                                 \n",
      " conv2d_8 (Conv2D)           (None, 13, 13, 384)       1327488   \n",
      "                                                                 \n",
      " batch_normalization_7 (Batc  (None, 13, 13, 384)      1536      \n",
      " hNormalization)                                                 \n",
      "                                                                 \n",
      " conv2d_9 (Conv2D)           (None, 13, 13, 256)       884992    \n",
      "                                                                 \n",
      " max_pooling2d_4 (MaxPooling  (None, 6, 6, 256)        0         \n",
      " 2D)                                                             \n",
      "                                                                 \n",
      " flatten_1 (Flatten)         (None, 9216)              0         \n",
      "                                                                 \n",
      " dense_3 (Dense)             (None, 4096)              37752832  \n",
      "                                                                 \n",
      " dropout_2 (Dropout)         (None, 4096)              0         \n",
      "                                                                 \n",
      " dense_4 (Dense)             (None, 4096)              16781312  \n",
      "                                                                 \n",
      " dropout_3 (Dropout)         (None, 4096)              0         \n",
      "                                                                 \n",
      " dense_5 (Dense)             (None, 8)                 32776     \n",
      "                                                                 \n",
      "=================================================================\n",
      "Total params: 58,318,600\n",
      "Trainable params: 58,316,360\n",
      "Non-trainable params: 2,240\n",
      "_________________________________________________________________\n",
      "Epoch 1/90\n",
      "200/200 [==============================] - 51s 249ms/step - loss: 0.7784 - accuracy: 0.8240 - precision_1: 0.8429 - recall_1: 0.8018 - val_loss: 0.9261 - val_accuracy: 0.7893 - val_precision_1: 0.7893 - val_recall_1: 0.7893\n",
      "Epoch 2/90\n",
      "200/200 [==============================] - 51s 252ms/step - loss: 0.4394 - accuracy: 0.8673 - precision_1: 0.8846 - recall_1: 0.8480 - val_loss: 1.1177 - val_accuracy: 0.7905 - val_precision_1: 0.7907 - val_recall_1: 0.7891\n",
      "Epoch 3/90\n",
      "200/200 [==============================] - 49s 247ms/step - loss: 0.3736 - accuracy: 0.8848 - precision_1: 0.8986 - recall_1: 0.8710 - val_loss: 0.8754 - val_accuracy: 0.7801 - val_precision_1: 0.7914 - val_recall_1: 0.7657\n",
      "Epoch 4/90\n",
      "200/200 [==============================] - 50s 251ms/step - loss: 0.3179 - accuracy: 0.9017 - precision_1: 0.9117 - recall_1: 0.8915 - val_loss: 3.7232 - val_accuracy: 0.1185 - val_precision_1: 0.1026 - val_recall_1: 0.0959\n",
      "Epoch 5/90\n",
      "200/200 [==============================] - 50s 249ms/step - loss: 0.2728 - accuracy: 0.9160 - precision_1: 0.9227 - recall_1: 0.9079 - val_loss: 1.2179 - val_accuracy: 0.6324 - val_precision_1: 0.6437 - val_recall_1: 0.5960\n",
      "Epoch 6/90\n",
      "200/200 [==============================] - 51s 252ms/step - loss: 0.2465 - accuracy: 0.9236 - precision_1: 0.9296 - recall_1: 0.9174 - val_loss: 0.7664 - val_accuracy: 0.7701 - val_precision_1: 0.8012 - val_recall_1: 0.7355\n",
      "Epoch 7/90\n",
      "200/200 [==============================] - 50s 248ms/step - loss: 0.2200 - accuracy: 0.9305 - precision_1: 0.9348 - recall_1: 0.9255 - val_loss: 1.0862 - val_accuracy: 0.8106 - val_precision_1: 0.8110 - val_recall_1: 0.8098\n",
      "Epoch 8/90\n",
      "200/200 [==============================] - 50s 251ms/step - loss: 0.1905 - accuracy: 0.9393 - precision_1: 0.9424 - recall_1: 0.9357 - val_loss: 8.5392 - val_accuracy: 0.2838 - val_precision_1: 0.2824 - val_recall_1: 0.2794\n",
      "Epoch 9/90\n",
      "200/200 [==============================] - 50s 249ms/step - loss: 0.1681 - accuracy: 0.9467 - precision_1: 0.9488 - recall_1: 0.9444 - val_loss: 2.1083 - val_accuracy: 0.4850 - val_precision_1: 0.4914 - val_recall_1: 0.4314\n",
      "Epoch 10/90\n",
      "200/200 [==============================] - 50s 251ms/step - loss: 0.1551 - accuracy: 0.9495 - precision_1: 0.9519 - recall_1: 0.9473 - val_loss: 0.6580 - val_accuracy: 0.8233 - val_precision_1: 0.8290 - val_recall_1: 0.8198\n",
      "Epoch 11/90\n",
      "200/200 [==============================] - 50s 248ms/step - loss: 0.1392 - accuracy: 0.9547 - precision_1: 0.9566 - recall_1: 0.9530 - val_loss: 2.2477 - val_accuracy: 0.6353 - val_precision_1: 0.6432 - val_recall_1: 0.6263\n",
      "Epoch 12/90\n",
      "200/200 [==============================] - 50s 250ms/step - loss: 0.1288 - accuracy: 0.9570 - precision_1: 0.9585 - recall_1: 0.9555 - val_loss: 1.7949 - val_accuracy: 0.6681 - val_precision_1: 0.6704 - val_recall_1: 0.6658\n",
      "Epoch 13/90\n",
      "200/200 [==============================] - 50s 248ms/step - loss: 0.1158 - accuracy: 0.9613 - precision_1: 0.9629 - recall_1: 0.9600 - val_loss: 3.8925 - val_accuracy: 0.3882 - val_precision_1: 0.3894 - val_recall_1: 0.3808\n",
      "Epoch 14/90\n",
      "200/200 [==============================] - 50s 251ms/step - loss: 0.1022 - accuracy: 0.9651 - precision_1: 0.9659 - recall_1: 0.9642 - val_loss: 5.0964 - val_accuracy: 0.3630 - val_precision_1: 0.3633 - val_recall_1: 0.3569\n",
      "Epoch 15/90\n",
      "200/200 [==============================] - 50s 248ms/step - loss: 0.0844 - accuracy: 0.9718 - precision_1: 0.9728 - recall_1: 0.9709 - val_loss: 0.9395 - val_accuracy: 0.7255 - val_precision_1: 0.7453 - val_recall_1: 0.6926\n",
      "Epoch 16/90\n",
      "200/200 [==============================] - 50s 251ms/step - loss: 0.0743 - accuracy: 0.9756 - precision_1: 0.9763 - recall_1: 0.9748 - val_loss: 1.3329 - val_accuracy: 0.7506 - val_precision_1: 0.7523 - val_recall_1: 0.7498\n",
      "Epoch 17/90\n",
      "200/200 [==============================] - 50s 250ms/step - loss: 0.0688 - accuracy: 0.9768 - precision_1: 0.9774 - recall_1: 0.9761 - val_loss: 8.7037 - val_accuracy: 0.3497 - val_precision_1: 0.3501 - val_recall_1: 0.3473\n",
      "Epoch 18/90\n",
      "200/200 [==============================] - 50s 251ms/step - loss: 0.0641 - accuracy: 0.9788 - precision_1: 0.9796 - recall_1: 0.9783 - val_loss: 4.5038 - val_accuracy: 0.2273 - val_precision_1: 0.2298 - val_recall_1: 0.2145\n",
      "Epoch 19/90\n",
      "200/200 [==============================] - 50s 249ms/step - loss: 0.0573 - accuracy: 0.9815 - precision_1: 0.9818 - recall_1: 0.9811 - val_loss: 1.5251 - val_accuracy: 0.6349 - val_precision_1: 0.6440 - val_recall_1: 0.6240\n",
      "Epoch 20/90\n",
      "200/200 [==============================] - 50s 250ms/step - loss: 0.0486 - accuracy: 0.9830 - precision_1: 0.9833 - recall_1: 0.9826 - val_loss: 9.3955 - val_accuracy: 0.3786 - val_precision_1: 0.3786 - val_recall_1: 0.3767\n",
      "Epoch 21/90\n",
      "200/200 [==============================] - 50s 249ms/step - loss: 0.0394 - accuracy: 0.9866 - precision_1: 0.9868 - recall_1: 0.9864 - val_loss: 1.1051 - val_accuracy: 0.8322 - val_precision_1: 0.8347 - val_recall_1: 0.8306\n"
     ]
    },
    {
     "name": "stdout",
     "output_type": "stream",
     "text": [
      "Epoch 22/90\n",
      "200/200 [==============================] - 50s 251ms/step - loss: 0.0368 - accuracy: 0.9876 - precision_1: 0.9879 - recall_1: 0.9873 - val_loss: 1.1657 - val_accuracy: 0.7736 - val_precision_1: 0.7803 - val_recall_1: 0.7688\n",
      "Epoch 23/90\n",
      "200/200 [==============================] - 50s 249ms/step - loss: 0.0370 - accuracy: 0.9884 - precision_1: 0.9886 - recall_1: 0.9881 - val_loss: 0.7721 - val_accuracy: 0.8455 - val_precision_1: 0.8478 - val_recall_1: 0.8438\n",
      "Epoch 24/90\n",
      "200/200 [==============================] - 50s 249ms/step - loss: 0.0279 - accuracy: 0.9908 - precision_1: 0.9909 - recall_1: 0.9907 - val_loss: 6.5323 - val_accuracy: 0.4180 - val_precision_1: 0.4193 - val_recall_1: 0.4154\n",
      "Epoch 25/90\n",
      "200/200 [==============================] - 50s 249ms/step - loss: 0.0400 - accuracy: 0.9868 - precision_1: 0.9870 - recall_1: 0.9864 - val_loss: 1.3927 - val_accuracy: 0.7678 - val_precision_1: 0.7708 - val_recall_1: 0.7653\n",
      "Epoch 26/90\n",
      "200/200 [==============================] - 51s 252ms/step - loss: 0.0356 - accuracy: 0.9881 - precision_1: 0.9884 - recall_1: 0.9878 - val_loss: 3.0093 - val_accuracy: 0.5049 - val_precision_1: 0.5107 - val_recall_1: 0.4870\n",
      "Epoch 27/90\n",
      "200/200 [==============================] - 50s 248ms/step - loss: 0.0322 - accuracy: 0.9897 - precision_1: 0.9898 - recall_1: 0.9894 - val_loss: 0.9792 - val_accuracy: 0.7963 - val_precision_1: 0.8004 - val_recall_1: 0.7924\n",
      "Epoch 28/90\n",
      "200/200 [==============================] - 50s 250ms/step - loss: 0.0286 - accuracy: 0.9914 - precision_1: 0.9916 - recall_1: 0.9913 - val_loss: 2.2025 - val_accuracy: 0.6255 - val_precision_1: 0.6278 - val_recall_1: 0.6178\n",
      "Epoch 29/90\n",
      "200/200 [==============================] - 50s 248ms/step - loss: 0.0251 - accuracy: 0.9917 - precision_1: 0.9918 - recall_1: 0.9916 - val_loss: 0.9684 - val_accuracy: 0.8173 - val_precision_1: 0.8206 - val_recall_1: 0.8152\n",
      "Epoch 30/90\n",
      "200/200 [==============================] - 50s 251ms/step - loss: 0.0213 - accuracy: 0.9928 - precision_1: 0.9930 - recall_1: 0.9926 - val_loss: 2.1443 - val_accuracy: 0.7053 - val_precision_1: 0.7107 - val_recall_1: 0.6994\n",
      "Epoch 31/90\n",
      "200/200 [==============================] - 50s 248ms/step - loss: 0.0220 - accuracy: 0.9926 - precision_1: 0.9927 - recall_1: 0.9926 - val_loss: 1.5963 - val_accuracy: 0.6933 - val_precision_1: 0.6978 - val_recall_1: 0.6862\n",
      "Epoch 32/90\n",
      "200/200 [==============================] - 51s 252ms/step - loss: 0.0258 - accuracy: 0.9917 - precision_1: 0.9920 - recall_1: 0.9916 - val_loss: 2.5068 - val_accuracy: 0.6837 - val_precision_1: 0.6845 - val_recall_1: 0.6820\n",
      "Epoch 33/90\n",
      "200/200 [==============================] - 50s 249ms/step - loss: 0.0184 - accuracy: 0.9938 - precision_1: 0.9939 - recall_1: 0.9937 - val_loss: 0.9529 - val_accuracy: 0.8576 - val_precision_1: 0.8585 - val_recall_1: 0.8573\n",
      "Epoch 34/90\n",
      "200/200 [==============================] - 50s 251ms/step - loss: 0.0171 - accuracy: 0.9946 - precision_1: 0.9947 - recall_1: 0.9945 - val_loss: 1.1660 - val_accuracy: 0.8384 - val_precision_1: 0.8391 - val_recall_1: 0.8382\n",
      "Epoch 35/90\n",
      "200/200 [==============================] - 50s 249ms/step - loss: 0.0185 - accuracy: 0.9941 - precision_1: 0.9942 - recall_1: 0.9940 - val_loss: 2.4923 - val_accuracy: 0.7227 - val_precision_1: 0.7250 - val_recall_1: 0.7204\n",
      "Epoch 36/90\n",
      "200/200 [==============================] - 51s 253ms/step - loss: 0.0275 - accuracy: 0.9913 - precision_1: 0.9915 - recall_1: 0.9913 - val_loss: 1.3528 - val_accuracy: 0.7770 - val_precision_1: 0.7790 - val_recall_1: 0.7757\n",
      "Epoch 37/90\n",
      "200/200 [==============================] - 50s 249ms/step - loss: 0.0202 - accuracy: 0.9938 - precision_1: 0.9939 - recall_1: 0.9937 - val_loss: 0.9967 - val_accuracy: 0.8639 - val_precision_1: 0.8650 - val_recall_1: 0.8633\n",
      "Epoch 38/90\n",
      "200/200 [==============================] - 50s 250ms/step - loss: 0.0142 - accuracy: 0.9955 - precision_1: 0.9955 - recall_1: 0.9954 - val_loss: 3.9369 - val_accuracy: 0.5819 - val_precision_1: 0.5847 - val_recall_1: 0.5797\n",
      "Epoch 39/90\n",
      "200/200 [==============================] - 50s 249ms/step - loss: 0.0141 - accuracy: 0.9950 - precision_1: 0.9951 - recall_1: 0.9950 - val_loss: 1.0998 - val_accuracy: 0.8485 - val_precision_1: 0.8496 - val_recall_1: 0.8467\n",
      "Epoch 40/90\n",
      "200/200 [==============================] - 50s 252ms/step - loss: 0.0171 - accuracy: 0.9945 - precision_1: 0.9946 - recall_1: 0.9945 - val_loss: 1.7788 - val_accuracy: 0.8138 - val_precision_1: 0.8150 - val_recall_1: 0.8130\n",
      "Epoch 41/90\n",
      "200/200 [==============================] - 50s 250ms/step - loss: 0.0234 - accuracy: 0.9929 - precision_1: 0.9929 - recall_1: 0.9928 - val_loss: 1.8429 - val_accuracy: 0.8273 - val_precision_1: 0.8276 - val_recall_1: 0.8271\n",
      "Epoch 42/90\n",
      "200/200 [==============================] - 51s 252ms/step - loss: 0.0211 - accuracy: 0.9934 - precision_1: 0.9936 - recall_1: 0.9934 - val_loss: 1.0239 - val_accuracy: 0.8209 - val_precision_1: 0.8244 - val_recall_1: 0.8166\n",
      "Epoch 43/90\n",
      "200/200 [==============================] - 50s 250ms/step - loss: 0.0146 - accuracy: 0.9955 - precision_1: 0.9955 - recall_1: 0.9954 - val_loss: 3.2004 - val_accuracy: 0.6727 - val_precision_1: 0.6738 - val_recall_1: 0.6723\n",
      "Epoch 44/90\n",
      "200/200 [==============================] - 50s 251ms/step - loss: 0.0117 - accuracy: 0.9964 - precision_1: 0.9964 - recall_1: 0.9963 - val_loss: 1.6838 - val_accuracy: 0.7980 - val_precision_1: 0.7999 - val_recall_1: 0.7972\n",
      "Epoch 45/90\n",
      "200/200 [==============================] - 50s 250ms/step - loss: 0.0123 - accuracy: 0.9962 - precision_1: 0.9963 - recall_1: 0.9962 - val_loss: 0.8502 - val_accuracy: 0.8673 - val_precision_1: 0.8682 - val_recall_1: 0.8666\n",
      "Epoch 46/90\n",
      "200/200 [==============================] - 50s 252ms/step - loss: 0.0171 - accuracy: 0.9955 - precision_1: 0.9955 - recall_1: 0.9955 - val_loss: 2.1637 - val_accuracy: 0.8533 - val_precision_1: 0.8539 - val_recall_1: 0.8532\n",
      "Epoch 47/90\n",
      "200/200 [==============================] - 50s 250ms/step - loss: 0.0117 - accuracy: 0.9962 - precision_1: 0.9963 - recall_1: 0.9962 - val_loss: 1.0278 - val_accuracy: 0.8845 - val_precision_1: 0.8851 - val_recall_1: 0.8843\n",
      "Epoch 48/90\n",
      "200/200 [==============================] - 51s 252ms/step - loss: 0.0125 - accuracy: 0.9963 - precision_1: 0.9964 - recall_1: 0.9963 - val_loss: 1.5112 - val_accuracy: 0.8474 - val_precision_1: 0.8481 - val_recall_1: 0.8471\n",
      "Epoch 49/90\n",
      "200/200 [==============================] - 52s 257ms/step - loss: 0.0129 - accuracy: 0.9953 - precision_1: 0.9953 - recall_1: 0.9952 - val_loss: 2.5786 - val_accuracy: 0.8458 - val_precision_1: 0.8458 - val_recall_1: 0.8456\n",
      "Epoch 50/90\n",
      "200/200 [==============================] - 51s 256ms/step - loss: 0.0135 - accuracy: 0.9957 - precision_1: 0.9957 - recall_1: 0.9957 - val_loss: 1.2107 - val_accuracy: 0.8223 - val_precision_1: 0.8257 - val_recall_1: 0.8173\n",
      "Epoch 51/90\n",
      "200/200 [==============================] - 50s 249ms/step - loss: 0.0148 - accuracy: 0.9954 - precision_1: 0.9954 - recall_1: 0.9953 - val_loss: 1.1638 - val_accuracy: 0.8020 - val_precision_1: 0.8045 - val_recall_1: 0.7995\n",
      "Epoch 52/90\n",
      "200/200 [==============================] - 51s 252ms/step - loss: 0.0125 - accuracy: 0.9963 - precision_1: 0.9963 - recall_1: 0.9962 - val_loss: 1.0555 - val_accuracy: 0.8689 - val_precision_1: 0.8702 - val_recall_1: 0.8681\n",
      "Epoch 53/90\n",
      "200/200 [==============================] - 50s 249ms/step - loss: 0.0104 - accuracy: 0.9969 - precision_1: 0.9969 - recall_1: 0.9969 - val_loss: 1.2100 - val_accuracy: 0.8268 - val_precision_1: 0.8291 - val_recall_1: 0.8245\n",
      "Epoch 54/90\n",
      "200/200 [==============================] - 50s 251ms/step - loss: 0.0084 - accuracy: 0.9974 - precision_1: 0.9974 - recall_1: 0.9973 - val_loss: 1.6907 - val_accuracy: 0.8531 - val_precision_1: 0.8531 - val_recall_1: 0.8528\n",
      "Epoch 55/90\n",
      "200/200 [==============================] - 50s 249ms/step - loss: 0.0111 - accuracy: 0.9968 - precision_1: 0.9968 - recall_1: 0.9968 - val_loss: 1.0845 - val_accuracy: 0.8655 - val_precision_1: 0.8661 - val_recall_1: 0.8648\n",
      "Epoch 56/90\n",
      "200/200 [==============================] - 51s 252ms/step - loss: 0.0116 - accuracy: 0.9965 - precision_1: 0.9966 - recall_1: 0.9965 - val_loss: 1.0067 - val_accuracy: 0.8679 - val_precision_1: 0.8698 - val_recall_1: 0.8676\n"
     ]
    },
    {
     "name": "stdout",
     "output_type": "stream",
     "text": [
      "Epoch 57/90\n",
      "200/200 [==============================] - 50s 249ms/step - loss: 0.0136 - accuracy: 0.9960 - precision_1: 0.9961 - recall_1: 0.9960 - val_loss: 1.1117 - val_accuracy: 0.8305 - val_precision_1: 0.8331 - val_recall_1: 0.8277\n",
      "Epoch 58/90\n",
      "200/200 [==============================] - 51s 252ms/step - loss: 0.0142 - accuracy: 0.9957 - precision_1: 0.9957 - recall_1: 0.9956 - val_loss: 0.9673 - val_accuracy: 0.8613 - val_precision_1: 0.8623 - val_recall_1: 0.8605\n",
      "Epoch 59/90\n",
      "200/200 [==============================] - 50s 250ms/step - loss: 0.0148 - accuracy: 0.9959 - precision_1: 0.9959 - recall_1: 0.9959 - val_loss: 1.3555 - val_accuracy: 0.8360 - val_precision_1: 0.8368 - val_recall_1: 0.8357\n",
      "Epoch 60/90\n",
      "200/200 [==============================] - 51s 252ms/step - loss: 0.0065 - accuracy: 0.9979 - precision_1: 0.9979 - recall_1: 0.9979 - val_loss: 1.5249 - val_accuracy: 0.8484 - val_precision_1: 0.8496 - val_recall_1: 0.8478\n",
      "Epoch 61/90\n",
      "200/200 [==============================] - 50s 250ms/step - loss: 0.0051 - accuracy: 0.9984 - precision_1: 0.9984 - recall_1: 0.9984 - val_loss: 1.1360 - val_accuracy: 0.8590 - val_precision_1: 0.8600 - val_recall_1: 0.8577\n",
      "Epoch 62/90\n",
      "200/200 [==============================] - 50s 251ms/step - loss: 0.0077 - accuracy: 0.9976 - precision_1: 0.9976 - recall_1: 0.9976 - val_loss: 1.9866 - val_accuracy: 0.7114 - val_precision_1: 0.7178 - val_recall_1: 0.7040\n",
      "Epoch 63/90\n",
      "200/200 [==============================] - 50s 249ms/step - loss: 0.0130 - accuracy: 0.9960 - precision_1: 0.9960 - recall_1: 0.9960 - val_loss: 1.9949 - val_accuracy: 0.7686 - val_precision_1: 0.7692 - val_recall_1: 0.7680\n",
      "Epoch 64/90\n",
      "200/200 [==============================] - 51s 254ms/step - loss: 0.0117 - accuracy: 0.9968 - precision_1: 0.9968 - recall_1: 0.9967 - val_loss: 1.0983 - val_accuracy: 0.8609 - val_precision_1: 0.8629 - val_recall_1: 0.8592\n",
      "Epoch 65/90\n",
      "200/200 [==============================] - 50s 250ms/step - loss: 0.0088 - accuracy: 0.9974 - precision_1: 0.9974 - recall_1: 0.9974 - val_loss: 0.9285 - val_accuracy: 0.8691 - val_precision_1: 0.8708 - val_recall_1: 0.8684\n",
      "Epoch 66/90\n",
      "200/200 [==============================] - 51s 253ms/step - loss: 0.0086 - accuracy: 0.9973 - precision_1: 0.9973 - recall_1: 0.9972 - val_loss: 1.2011 - val_accuracy: 0.8299 - val_precision_1: 0.8317 - val_recall_1: 0.8292\n",
      "Epoch 67/90\n",
      "200/200 [==============================] - 50s 249ms/step - loss: 0.0127 - accuracy: 0.9966 - precision_1: 0.9967 - recall_1: 0.9966 - val_loss: 1.7037 - val_accuracy: 0.7402 - val_precision_1: 0.7465 - val_recall_1: 0.7347\n",
      "Epoch 68/90\n",
      "200/200 [==============================] - 51s 252ms/step - loss: 0.0113 - accuracy: 0.9969 - precision_1: 0.9970 - recall_1: 0.9969 - val_loss: 1.9081 - val_accuracy: 0.8491 - val_precision_1: 0.8493 - val_recall_1: 0.8490\n",
      "Epoch 69/90\n",
      "200/200 [==============================] - 50s 251ms/step - loss: 0.0075 - accuracy: 0.9976 - precision_1: 0.9977 - recall_1: 0.9976 - val_loss: 1.2918 - val_accuracy: 0.8643 - val_precision_1: 0.8647 - val_recall_1: 0.8640\n",
      "Epoch 70/90\n",
      "200/200 [==============================] - 51s 254ms/step - loss: 0.0034 - accuracy: 0.9990 - precision_1: 0.9991 - recall_1: 0.9990 - val_loss: 1.4013 - val_accuracy: 0.8767 - val_precision_1: 0.8771 - val_recall_1: 0.8765\n",
      "Epoch 71/90\n",
      "200/200 [==============================] - 51s 255ms/step - loss: 0.0064 - accuracy: 0.9980 - precision_1: 0.9980 - recall_1: 0.9980 - val_loss: 1.3519 - val_accuracy: 0.8702 - val_precision_1: 0.8710 - val_recall_1: 0.8698\n",
      "Epoch 72/90\n",
      "200/200 [==============================] - 52s 257ms/step - loss: 0.0101 - accuracy: 0.9968 - precision_1: 0.9968 - recall_1: 0.9967 - val_loss: 2.4800 - val_accuracy: 0.7134 - val_precision_1: 0.7172 - val_recall_1: 0.7078\n",
      "Epoch 73/90\n",
      "200/200 [==============================] - 51s 254ms/step - loss: 0.0060 - accuracy: 0.9984 - precision_1: 0.9984 - recall_1: 0.9984 - val_loss: 1.2371 - val_accuracy: 0.8286 - val_precision_1: 0.8293 - val_recall_1: 0.8265\n",
      "Epoch 74/90\n",
      "200/200 [==============================] - 52s 257ms/step - loss: 0.0091 - accuracy: 0.9973 - precision_1: 0.9973 - recall_1: 0.9973 - val_loss: 1.1349 - val_accuracy: 0.8537 - val_precision_1: 0.8550 - val_recall_1: 0.8531\n",
      "Epoch 75/90\n",
      "200/200 [==============================] - 51s 253ms/step - loss: 0.0132 - accuracy: 0.9961 - precision_1: 0.9962 - recall_1: 0.9961 - val_loss: 1.0282 - val_accuracy: 0.8527 - val_precision_1: 0.8534 - val_recall_1: 0.8520\n",
      "Epoch 76/90\n",
      "200/200 [==============================] - 51s 257ms/step - loss: 0.0076 - accuracy: 0.9978 - precision_1: 0.9978 - recall_1: 0.9978 - val_loss: 4.1445 - val_accuracy: 0.5088 - val_precision_1: 0.5117 - val_recall_1: 0.5053\n",
      "Epoch 77/90\n",
      "200/200 [==============================] - 51s 253ms/step - loss: 0.0078 - accuracy: 0.9978 - precision_1: 0.9978 - recall_1: 0.9978 - val_loss: 3.4129 - val_accuracy: 0.6139 - val_precision_1: 0.6184 - val_recall_1: 0.6108\n",
      "Epoch 78/90\n",
      "200/200 [==============================] - 51s 256ms/step - loss: 0.0077 - accuracy: 0.9976 - precision_1: 0.9977 - recall_1: 0.9976 - val_loss: 1.7258 - val_accuracy: 0.8537 - val_precision_1: 0.8541 - val_recall_1: 0.8537\n",
      "Epoch 79/90\n",
      "200/200 [==============================] - 51s 254ms/step - loss: 0.0055 - accuracy: 0.9985 - precision_1: 0.9985 - recall_1: 0.9985 - val_loss: 1.0733 - val_accuracy: 0.8441 - val_precision_1: 0.8458 - val_recall_1: 0.8422\n",
      "Epoch 80/90\n",
      "200/200 [==============================] - 50s 249ms/step - loss: 0.0048 - accuracy: 0.9986 - precision_1: 0.9986 - recall_1: 0.9986 - val_loss: 1.7835 - val_accuracy: 0.8492 - val_precision_1: 0.8495 - val_recall_1: 0.8491\n",
      "Epoch 81/90\n",
      "200/200 [==============================] - 50s 248ms/step - loss: 0.0077 - accuracy: 0.9976 - precision_1: 0.9976 - recall_1: 0.9976 - val_loss: 1.0026 - val_accuracy: 0.8574 - val_precision_1: 0.8603 - val_recall_1: 0.8556\n",
      "Epoch 82/90\n",
      "200/200 [==============================] - 50s 250ms/step - loss: 0.0064 - accuracy: 0.9979 - precision_1: 0.9979 - recall_1: 0.9978 - val_loss: 1.6065 - val_accuracy: 0.7823 - val_precision_1: 0.7848 - val_recall_1: 0.7796\n",
      "Epoch 83/90\n",
      "200/200 [==============================] - 49s 247ms/step - loss: 0.0067 - accuracy: 0.9978 - precision_1: 0.9979 - recall_1: 0.9978 - val_loss: 1.2002 - val_accuracy: 0.8711 - val_precision_1: 0.8714 - val_recall_1: 0.8706\n",
      "Epoch 84/90\n",
      "200/200 [==============================] - 50s 251ms/step - loss: 0.0101 - accuracy: 0.9972 - precision_1: 0.9972 - recall_1: 0.9972 - val_loss: 1.1036 - val_accuracy: 0.8406 - val_precision_1: 0.8428 - val_recall_1: 0.8394\n",
      "Epoch 85/90\n",
      "200/200 [==============================] - 50s 248ms/step - loss: 0.0102 - accuracy: 0.9969 - precision_1: 0.9969 - recall_1: 0.9969 - val_loss: 1.5322 - val_accuracy: 0.7990 - val_precision_1: 0.8004 - val_recall_1: 0.7975\n",
      "Epoch 86/90\n",
      "200/200 [==============================] - 50s 250ms/step - loss: 0.0109 - accuracy: 0.9970 - precision_1: 0.9970 - recall_1: 0.9969 - val_loss: 1.5683 - val_accuracy: 0.8609 - val_precision_1: 0.8614 - val_recall_1: 0.8607\n",
      "Epoch 87/90\n",
      "200/200 [==============================] - 50s 248ms/step - loss: 0.0054 - accuracy: 0.9984 - precision_1: 0.9984 - recall_1: 0.9984 - val_loss: 1.1530 - val_accuracy: 0.8623 - val_precision_1: 0.8628 - val_recall_1: 0.8620\n",
      "Epoch 88/90\n",
      "200/200 [==============================] - 50s 250ms/step - loss: 0.0055 - accuracy: 0.9985 - precision_1: 0.9985 - recall_1: 0.9984 - val_loss: 1.3066 - val_accuracy: 0.8112 - val_precision_1: 0.8131 - val_recall_1: 0.8094\n",
      "Epoch 89/90\n",
      "200/200 [==============================] - 50s 248ms/step - loss: 0.0088 - accuracy: 0.9979 - precision_1: 0.9979 - recall_1: 0.9978 - val_loss: 1.0058 - val_accuracy: 0.8719 - val_precision_1: 0.8730 - val_recall_1: 0.8713\n",
      "Epoch 90/90\n",
      "200/200 [==============================] - 50s 250ms/step - loss: 0.0061 - accuracy: 0.9983 - precision_1: 0.9983 - recall_1: 0.9983 - val_loss: 1.4331 - val_accuracy: 0.8661 - val_precision_1: 0.8670 - val_recall_1: 0.8659\n"
     ]
    },
    {
     "data": {
      "image/png": "[encoded data removed]",
      "text/plain": [
       "<Figure size 720x360 with 2 Axes>"
      ]
     },
     "metadata": {
      "needs_background": "light"
     },
     "output_type": "display_data"
    }
   ],
   "source": [
    "model = models.Sequential()\n",
    "\n",
    "model.add(layers.Conv2D(filters=96, kernel_size=11, strides=(4, 4), padding='valid', activation='relu',\n",
    "                        input_shape=(227, 227, 3)))\n",
    "model.add(layers.BatchNormalization())\n",
    "model.add(layers.MaxPooling2D(pool_size=(3, 3), strides=(2, 2),padding='valid'))\n",
    "\n",
    "model.add(layers.Conv2D(filters=256, kernel_size=(\n",
    "        5, 5), strides=(1, 1), activation='relu', padding=\"same\"))\n",
    "model.add(layers.BatchNormalization())\n",
    "model.add(layers.MaxPool2D(pool_size=(3, 3), strides=(2, 2)))\n",
    "\n",
    "model.add(layers.Conv2D(filters=384, kernel_size=(\n",
    "        3, 3), strides=(1, 1), activation='relu', padding=\"same\"))\n",
    "model.add(layers.BatchNormalization())\n",
    "\n",
    "model.add(layers.Conv2D(filters=384, kernel_size=(\n",
    "        3, 3), strides=(1, 1), activation='relu', padding=\"same\"))\n",
    "model.add(layers.BatchNormalization())\n",
    "\n",
    "model.add(layers.Conv2D(filters=256, kernel_size=(\n",
    "        3, 3), strides=(1, 1), activation='relu', padding=\"same\"))\n",
    "model.add(layers.MaxPool2D(pool_size=(3, 3), strides=(2, 2)))\n",
    "\n",
    "\n",
    "model.add(layers.Flatten())\n",
    "model.add(layers.Dense(4096, activation = 'relu'))\n",
    "model.add(layers.Dropout(0.5))\n",
    "model.add(layers.Dense(4096, activation = 'relu'))\n",
    "model.add(layers.Dropout(0.5))\n",
    "\n",
    "model.add(layers.Dense(8, activation='softmax'))\n",
    "\n",
    "\n",
    "model.compile(optimizer = optimizers.Adam(learning_rate=0.0001),\n",
    "              loss= losses.CategoricalCrossentropy(),\n",
    "              metrics = ['accuracy', Precision(), Recall()])\n",
    "\n",
    "model.summary()\n",
    "\n",
    "results = model.fit(train_generator,\n",
    "                    steps_per_epoch=200,  # Number of training samples to pull per epoch\n",
    "                    epochs=90,  # Number of epochs\n",
    "                    validation_data=val_generator,\n",
    "                    validation_freq=1,\n",
    "                    validation_steps=200,  # Number of validation samples to run validation on\n",
    "                    )\n",
    "\n",
    "display_model_trainTestGraphs(results)"
   ]
  },
  {
   "cell_type": "code",
   "execution_count": 11,
   "id": "42f6977c",
   "metadata": {
    "ExecuteTime": {
     "end_time": "2022-05-22T00:58:46.665248Z",
     "start_time": "2022-05-22T00:58:43.919166Z"
    }
   },
   "outputs": [
    {
     "name": "stderr",
     "output_type": "stream",
     "text": [
      "WARNING:absl:Found untraced functions such as _jit_compiled_convolution_op, _jit_compiled_convolution_op, _jit_compiled_convolution_op, _jit_compiled_convolution_op, _jit_compiled_convolution_op while saving (showing 5 of 5). These functions will not be directly callable after loading.\n"
     ]
    },
    {
     "name": "stdout",
     "output_type": "stream",
     "text": [
      "INFO:tensorflow:Assets written to: tf_AlexNet_checkpoints/Model_1_plusMaxPooling\\assets\n"
     ]
    },
    {
     "name": "stderr",
     "output_type": "stream",
     "text": [
      "INFO:tensorflow:Assets written to: tf_AlexNet_checkpoints/Model_1_plusMaxPooling\\assets\n"
     ]
    }
   ],
   "source": [
    "results.model.save(tf_chkpt_path+'Model_1_plusMaxPooling')"
   ]
  }
 ],
 "metadata": {
  "kernelspec": {
   "display_name": "tfGPU",
   "language": "python",
   "name": "tfgpu"
  },
  "language_info": {
   "codemirror_mode": {
    "name": "ipython",
    "version": 3
   },
   "file_extension": ".py",
   "mimetype": "text/x-python",
   "name": "python",
   "nbconvert_exporter": "python",
   "pygments_lexer": "ipython3",
   "version": "3.9.12"
  },
  "toc": {
   "base_numbering": 1,
   "nav_menu": {},
   "number_sections": true,
   "sideBar": true,
   "skip_h1_title": false,
   "title_cell": "Table of Contents",
   "title_sidebar": "Contents",
   "toc_cell": false,
   "toc_position": {},
   "toc_section_display": true,
   "toc_window_display": false
  },
  "varInspector": {
   "cols": {
    "lenName": 16,
    "lenType": 16,
    "lenVar": 40
   },
   "kernels_config": {
    "python": {
     "delete_cmd_postfix": "",
     "delete_cmd_prefix": "del ",
     "library": "var_list.py",
     "varRefreshCmd": "print(var_dic_list())"
    },
    "r": {
     "delete_cmd_postfix": ") ",
     "delete_cmd_prefix": "rm(",
     "library": "var_list.r",
     "varRefreshCmd": "cat(var_dic_list()) "
    }
   },
   "position": {
    "height": "741.844px",
    "left": "1550px",
    "right": "20px",
    "top": "120px",
    "width": "350px"
   },
   "types_to_exclude": [
    "module",
    "function",
    "builtin_function_or_method",
    "instance",
    "_Feature"
   ],
   "window_display": false
  }
 },
 "nbformat": 4,
 "nbformat_minor": 5
}
