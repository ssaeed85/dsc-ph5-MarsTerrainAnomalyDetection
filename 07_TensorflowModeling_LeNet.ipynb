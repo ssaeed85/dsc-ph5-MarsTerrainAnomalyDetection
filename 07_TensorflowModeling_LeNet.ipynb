{
 "cells": [
  {
   "cell_type": "markdown",
   "id": "c52650f8",
   "metadata": {
    "ExecuteTime": {
     "end_time": "2022-05-30T23:44:57.065449Z",
     "start_time": "2022-05-30T23:44:57.057448Z"
    }
   },
   "source": [
    "# The Data\n",
    "\n",
    "The work performed herein was built off of the shoulders of giants, the original project that created the dataset and labeled the images. Here follows an excerpt from their site describing the data.\n",
    "\n",
    "> [![DOI](https://zenodo.org/badge/DOI/10.5281/zenodo.4002935.svg)](https://doi.org/10.5281/zenodo.4002935)\n",
    ">__Project member(s)__:\\\n",
    ">Topher Allen; Zach Anderson; Berlin Chen; Ameya Daigavane; Annie Didier; Marko Green; Paul Horton; Hannah Kerner; Lauren Klein; Benjamin Kolber; Ellie Kuang; Kyle Kung; Jake Lee; Justin Martia; Brian Milch; James Montgomery; Kyle Pearson; Sanjna Ravichandar; Arun Viswanathan; Caleb Wagner; Amruta Yelamanchili; Brandon Zhao\n",
    ">\n",
    ">__Abstract__:\\\n",
    ">This dataset contains a total of 64,947 landmark images that were detected and extracted from HiRISE browse images, spanning 232 separate source images.\n",
    ">\n",
    ">This set was formed from 10,815 original landmarks. Each original landmark was cropped to a square bounding box that included the full extent of the landmark plus a 30-pixel margin to the left, right, top, and bottom. Each landmark was then resized to 227x227 pixels. 9,022 of these images were then augmented to generate 6 additional landmarks using the following methods:\n",
    ">\n",
    ">90 degrees clockwise rotation\n",
    ">180 degrees clockwise rotation\n",
    ">270 degrees clockwise rotation\n",
    ">Horizontal flip\n",
    ">Vertical flip\n",
    ">Random brightness adjustment\n",
    ">The remaining 1,793 images were not augmented. Combining these with the 7*9,022 images, gives a total of 64,947 separate images.\n",
    ">\n",
    "> __Contents__:\n",
    ">- map-proj-v3_2/: Directory containing individual cropped landmark images\n",
    ">- labels-map-proj-v3_2.txt: Class labels (ids) for each landmark image. File includes two columns separated by a space: filename, class_id\n",
    ">- labels-map-proj-v3_2_train_val_test.txt: Includes train/test/val labels and upsampling used for trained model. File includes three columns separated by a space: filename, class_id, set\n",
    ">- landmarks_map-proj-v3_2_classmap.csv: Dictionary that maps class ids to semantic names\n",
    ">\n",
    "> __Class Discussion__:\\\n",
    ">We give a discussion of the various landmarks that make up our classes.\n",
    ">\n",
    ">Bright dune and dark dune are two sand dune classes found on Mars. Dark dunes are completely defrosted, whereas bright dunes are not. Bright dunes are generally bright due to overlying frost and can exhibit black spots where parts of the dune are defrosting.\n",
    ">\n",
    ">The crater class consists of crater images in which the diameter of the crater is greater than or equal to 1/5 the width of the image and the circular rim is visible for at least half the crater's circumference.\n",
    ">\n",
    ">The slope streak class consists of images of dark flow-like features on slopes. These features are believed to be formed by a dry process in which overlying (bright) dust slides down a slope and reveals a darker sub-surface.\n",
    ">\n",
    ">Impact ejecta refers to material that is blasted out from the impact of a meteorite or the eruption of a volcano. We also include cases in which the impact cleared away overlying dust, exposing the underlying surface. In some cases, the associated crater may be too small to see. Impact ejecta can also include lava that spilled out from the impact (blobby (\"lobate\") instead of blast-like), more like an eruption (triggered by the impact). Impact ejecta can be isolated, or they can form in clusters when the impactor breaks up into multiple fragments.\n",
    ">\n",
    ">Spiders and Swiss cheese are phenomena that occur in the south polar region of Mars. Spiders have a central pit with radial troughs, and they are believed to form as a result of sublimation of carbon dioxide ice. This process can produce mineral deposits on top, which look like dark or light dust that highlights cracks in the CO2 ice. Spiders can resemble impact ejecta due to their radial troughs, but impact ejecta tends to have straight radial jets that fade as they get farther from the center. The spider class also includes fan-like features that form when a geyser erupts through the CO2 layer and the material is blown by the wind away from the cracks. Fans are typically unidirectional (following the wind direction), whereas impact ejecta often extends in multiple directions. Swiss cheese is a terrain type that consists of pits that are formed when the sun heats the ice making it sublimate (change solid to gas).\n",
    ">\n",
    ">Other is a catch-all class that contains images that fit none of the defined classes of interest. This class makes up the majority of our data set.\n"
   ]
  },
  {
   "cell_type": "markdown",
   "id": "c5a621f4",
   "metadata": {},
   "source": [
    "# Business Understanding\n",
    "\n",
    "Space exploration and understanding has been growing over the last few decades with the spark being lit during the space race during the latter half of the 20th century. After the end of the Apollo space program, man's venture into space has been relegated to low earth orbit missions.  \n",
    "\n",
    "Unmanned missions have since had many a success story such as the Voyager 2 going interstellar in 2018, over 40 years after its launch. The future of space exploration is going to be handled by such manned missions for the foreseeable future. However, being physically on site isn't the only way to explore space.  \n",
    "\n",
    "For centuries, man has looked up at the night sky to find out more about our celestial neighbors. With improvements in technologies our ability to gather data through telescopes and cameras has improved significantly and the value provided by telescopes in space has been immeasurable. The James Webb (infrared) telescope was launched in December 2021 and hopes to view objects too old, distant, and faint for the Hubble Space Telescope.\n",
    "\n",
    "Pointing the telescope and gathering data is only the first step. Being able to parse terabytes, petabytes or even yottabytes of data manually is a nigh impossible task, a task computer vision is especially suited for. Being able to identify interesting features can help us whittle down potential candidates to explore 'in-person' and in the long run help mitigate losses.\n",
    "\n",
    "Interest in space exploration has seen a resurgence with private enterprise taking an interest. Although this project specifically looks at the Mars topography, similar techniques can be applied to any celestial body, or even to our home planet."
   ]
  },
  {
   "cell_type": "markdown",
   "id": "03d9509a",
   "metadata": {},
   "source": [
    "# Overview\n",
    "We shall be using images captured from the HiRISE camera system on board the Mars Reconnaisance Orbiter which was built under direction from University of Arizona's Lunar and Planetary Laboratory. Following is an excerpt from the [University of Arizona website](https://www.lpl.arizona.edu/missions/hirise-mro).\n",
    "\n",
    ">The __Hi__gh __R__esolution __I__maging __S__cience __E__xperiment (HiRISE) onboard the Mars Reconnaissance Orbiter, is the most powerful camera ever sent to another planet. The resolution of the camera allows us to see the Red Planet in amazing detail, and lets other missions, like the Mars Science Laboratory, find a safe place to land and carry out amazing science. The operations center, which includes not only observation planning, but the execution of commands sent to the spacecraft along with actual image processing, is located within LPL at the University of Arizona.\n",
    "\n",
    "We shall be building off of the work performed by the original team. The dataset comes pre-augmented and segmented into training, validation and test sets. The test side will be set aside to ascertain effectiveness of our final model. The training set will be used to train the model and the validation scores on the validation set will be used as a metric to pick our model, specifically our validation loss."
   ]
  },
  {
   "cell_type": "markdown",
   "id": "b4b3c1c6",
   "metadata": {},
   "source": [
    "# Imports"
   ]
  },
  {
   "cell_type": "code",
   "execution_count": 3,
   "id": "5dbbed93",
   "metadata": {
    "ExecuteTime": {
     "end_time": "2022-05-31T08:56:17.010087Z",
     "start_time": "2022-05-31T08:56:15.948850Z"
    }
   },
   "outputs": [],
   "source": [
    "import numpy as np\n",
    "import pandas as pd\n",
    "import matplotlib.pyplot as plt\n",
    "from PIL import Image"
   ]
  },
  {
   "cell_type": "code",
   "execution_count": 4,
   "id": "ba95bbf6",
   "metadata": {
    "ExecuteTime": {
     "end_time": "2022-05-31T08:56:21.338054Z",
     "start_time": "2022-05-31T08:56:17.011087Z"
    }
   },
   "outputs": [],
   "source": [
    "from tensorflow.keras.preprocessing.image import ImageDataGenerator\n",
    "from tensorflow.keras import layers, models, optimizers, losses\n",
    "from tensorflow.keras.callbacks import EarlyStopping,ModelCheckpoint\n",
    "from tensorflow.keras.metrics import Precision, Recall\n",
    "import tensorflow as tf\n",
    "tf.random.set_seed(\n",
    "    42\n",
    ")\n",
    "import seaborn as sns\n",
    "\n",
    "tf_chkpt_path = 'tf_AlexNet_checkpoints/'"
   ]
  },
  {
   "cell_type": "code",
   "execution_count": 5,
   "id": "346490ad",
   "metadata": {
    "ExecuteTime": {
     "end_time": "2022-05-31T08:56:21.353058Z",
     "start_time": "2022-05-31T08:56:21.339055Z"
    }
   },
   "outputs": [],
   "source": [
    "from src.helperFunctions import display_model_trainTestGraphs"
   ]
  },
  {
   "cell_type": "markdown",
   "id": "d9ac577f",
   "metadata": {},
   "source": [
    "## Training Set"
   ]
  },
  {
   "cell_type": "code",
   "execution_count": 6,
   "id": "764d2b6f",
   "metadata": {
    "ExecuteTime": {
     "end_time": "2022-05-31T08:56:22.884060Z",
     "start_time": "2022-05-31T08:56:21.355058Z"
    }
   },
   "outputs": [
    {
     "name": "stdout",
     "output_type": "stream",
     "text": [
      "Found 48979 images belonging to 8 classes.\n"
     ]
    }
   ],
   "source": [
    "# Normalizing data for 8 bit\n",
    "train_datagen = ImageDataGenerator(rescale=1./255)\n",
    "\n",
    "train_generator = train_datagen.flow_from_directory(\n",
    "    'images/train/',\n",
    "    target_size = (227,227),\n",
    "    batch_size=225,\n",
    "    color_mode='grayscale',\n",
    "    class_mode='categorical'\n",
    ")"
   ]
  },
  {
   "cell_type": "markdown",
   "id": "f43b34cb",
   "metadata": {},
   "source": [
    "## Validation Set"
   ]
  },
  {
   "cell_type": "code",
   "execution_count": 7,
   "id": "c0ecc6de",
   "metadata": {
    "ExecuteTime": {
     "end_time": "2022-05-31T08:56:23.329159Z",
     "start_time": "2022-05-31T08:56:22.886061Z"
    }
   },
   "outputs": [
    {
     "name": "stdout",
     "output_type": "stream",
     "text": [
      "Found 14175 images belonging to 8 classes.\n"
     ]
    }
   ],
   "source": [
    "# Normalizing data for 8 bit\n",
    "val_datagen = ImageDataGenerator(rescale=1./255)\n",
    "\n",
    "val_generator = val_datagen.flow_from_directory(\n",
    "    'images/val/',\n",
    "    target_size = (227,227),\n",
    "    batch_size=64,\n",
    "    color_mode='grayscale',\n",
    "    class_mode='categorical'\n",
    ")"
   ]
  },
  {
   "cell_type": "markdown",
   "id": "a3cba8b3",
   "metadata": {},
   "source": [
    "## Test Set"
   ]
  },
  {
   "cell_type": "code",
   "execution_count": 8,
   "id": "7af8e689",
   "metadata": {
    "ExecuteTime": {
     "end_time": "2022-05-31T08:56:23.393175Z",
     "start_time": "2022-05-31T08:56:23.330159Z"
    },
    "scrolled": true
   },
   "outputs": [
    {
     "name": "stdout",
     "output_type": "stream",
     "text": [
      "Found 1793 images belonging to 8 classes.\n"
     ]
    }
   ],
   "source": [
    "# Normalizing data for 8 bit\n",
    "test_datagen = ImageDataGenerator(rescale=1./255)\n",
    "\n",
    "test_generator = test_datagen.flow_from_directory(\n",
    "    'images/test/',\n",
    "    target_size = (227,227),\n",
    "    batch_size=8,\n",
    "    color_mode='grayscale',\n",
    "    class_mode='categorical'\n",
    ")"
   ]
  },
  {
   "cell_type": "markdown",
   "id": "468cd2b9",
   "metadata": {},
   "source": [
    "# Modeling"
   ]
  },
  {
   "cell_type": "markdown",
   "id": "9c1b437c",
   "metadata": {},
   "source": [
    "## Modeling Callbacks\n",
    "Tensorflow's neural networks employs callbacks which allow for additional features. EarlyStop is one such feature which allows us to quit the modeling process early especially if the model has started to diverge. Since the metric to watch is validation loss, we shall employ an early stop which will kill the modeling process if validation loss does not decrease for 10 epochs. As an added bonus, the models best epoch weights will be retained instead of the final epoch scores"
   ]
  },
  {
   "cell_type": "code",
   "execution_count": 22,
   "id": "790f43b9",
   "metadata": {
    "ExecuteTime": {
     "end_time": "2022-05-22T05:40:56.315920Z",
     "start_time": "2022-05-22T05:40:56.300920Z"
    }
   },
   "outputs": [],
   "source": [
    "early_stop = EarlyStopping(monitor='val_loss', \n",
    "                           min_delta=1e-8,\n",
    "                           verbose=1,\n",
    "                           patience = 5,\n",
    "                           restore_best_weights=True,\n",
    "                           mode='min')"
   ]
  },
  {
   "cell_type": "markdown",
   "id": "502d5abd",
   "metadata": {},
   "source": [
    "# Model - LeNet - 5\n",
    "The LeNet-5 architecture was one of the first big Convolutional Networks that became widely known. It was created in 1998 by Yann LeCun for recognizing hand written digits in the MNIST dataset.\n",
    "We shall run two variations of this architecture. The first is going to be an exact replica of the LeNet-5 architecture."
   ]
  },
  {
   "cell_type": "code",
   "execution_count": 10,
   "id": "f7914a2d",
   "metadata": {
    "ExecuteTime": {
     "end_time": "2022-05-22T05:15:47.368323Z",
     "start_time": "2022-05-22T04:58:00.962497Z"
    },
    "scrolled": false
   },
   "outputs": [
    {
     "name": "stdout",
     "output_type": "stream",
     "text": [
      "Model: \"sequential\"\n",
      "_________________________________________________________________\n",
      " Layer (type)                Output Shape              Param #   \n",
      "=================================================================\n",
      " conv2d (Conv2D)             (None, 227, 227, 6)       156       \n",
      "                                                                 \n",
      " average_pooling2d (AverageP  (None, 113, 113, 6)      0         \n",
      " ooling2D)                                                       \n",
      "                                                                 \n",
      " activation (Activation)     (None, 113, 113, 6)       0         \n",
      "                                                                 \n",
      " conv2d_1 (Conv2D)           (None, 109, 109, 16)      2416      \n",
      "                                                                 \n",
      " average_pooling2d_1 (Averag  (None, 54, 54, 16)       0         \n",
      " ePooling2D)                                                     \n",
      "                                                                 \n",
      " activation_1 (Activation)   (None, 54, 54, 16)        0         \n",
      "                                                                 \n",
      " conv2d_2 (Conv2D)           (None, 50, 50, 120)       48120     \n",
      "                                                                 \n",
      " flatten (Flatten)           (None, 300000)            0         \n",
      "                                                                 \n",
      " dense (Dense)               (None, 84)                25200084  \n",
      "                                                                 \n",
      " dense_1 (Dense)             (None, 8)                 680       \n",
      "                                                                 \n",
      "=================================================================\n",
      "Total params: 25,251,456\n",
      "Trainable params: 25,251,456\n",
      "Non-trainable params: 0\n",
      "_________________________________________________________________\n",
      "Epoch 1/30\n",
      "218/218 [==============================] - 40s 166ms/step - loss: 0.8354 - accuracy: 0.8131 - precision: 0.8165 - recall: 0.8065 - val_loss: 0.8340 - val_accuracy: 0.7916 - val_precision: 0.7916 - val_recall: 0.7916\n",
      "Epoch 2/30\n",
      "218/218 [==============================] - 36s 164ms/step - loss: 0.7254 - accuracy: 0.8171 - precision: 0.8173 - recall: 0.8167 - val_loss: 0.8583 - val_accuracy: 0.7916 - val_precision: 0.7918 - val_recall: 0.7916\n",
      "Epoch 3/30\n",
      "218/218 [==============================] - 35s 161ms/step - loss: 0.6906 - accuracy: 0.8179 - precision: 0.8200 - recall: 0.8166 - val_loss: 0.8364 - val_accuracy: 0.7926 - val_precision: 0.7939 - val_recall: 0.7918\n",
      "Epoch 4/30\n",
      "218/218 [==============================] - 37s 168ms/step - loss: 0.6489 - accuracy: 0.8273 - precision: 0.8328 - recall: 0.8216 - val_loss: 0.8106 - val_accuracy: 0.7932 - val_precision: 0.7965 - val_recall: 0.7910\n",
      "Epoch 5/30\n",
      "218/218 [==============================] - 35s 162ms/step - loss: 0.6125 - accuracy: 0.8355 - precision: 0.8447 - recall: 0.8274 - val_loss: 0.7981 - val_accuracy: 0.7909 - val_precision: 0.8077 - val_recall: 0.7632\n",
      "Epoch 6/30\n",
      "218/218 [==============================] - 36s 163ms/step - loss: 0.5761 - accuracy: 0.8405 - precision: 0.8543 - recall: 0.8294 - val_loss: 0.8025 - val_accuracy: 0.7942 - val_precision: 0.8014 - val_recall: 0.7873\n",
      "Epoch 7/30\n",
      "218/218 [==============================] - 35s 161ms/step - loss: 0.5306 - accuracy: 0.8502 - precision: 0.8658 - recall: 0.8355 - val_loss: 0.7808 - val_accuracy: 0.7876 - val_precision: 0.8084 - val_recall: 0.7582\n",
      "Epoch 8/30\n",
      "218/218 [==============================] - 36s 164ms/step - loss: 0.4967 - accuracy: 0.8591 - precision: 0.8752 - recall: 0.8412 - val_loss: 0.7566 - val_accuracy: 0.8024 - val_precision: 0.8122 - val_recall: 0.7898\n",
      "Epoch 9/30\n",
      "218/218 [==============================] - 35s 162ms/step - loss: 0.4723 - accuracy: 0.8652 - precision: 0.8813 - recall: 0.8465 - val_loss: 0.7722 - val_accuracy: 0.7914 - val_precision: 0.8095 - val_recall: 0.7651\n",
      "Epoch 10/30\n",
      "218/218 [==============================] - 36s 163ms/step - loss: 0.4430 - accuracy: 0.8726 - precision: 0.8891 - recall: 0.8535 - val_loss: 0.7652 - val_accuracy: 0.7764 - val_precision: 0.8144 - val_recall: 0.7259\n",
      "Epoch 11/30\n",
      "218/218 [==============================] - 35s 162ms/step - loss: 0.4192 - accuracy: 0.8785 - precision: 0.8952 - recall: 0.8594 - val_loss: 0.7484 - val_accuracy: 0.7910 - val_precision: 0.8133 - val_recall: 0.7596\n",
      "Epoch 12/30\n",
      "218/218 [==============================] - 36s 164ms/step - loss: 0.3950 - accuracy: 0.8842 - precision: 0.9005 - recall: 0.8652 - val_loss: 0.7324 - val_accuracy: 0.8047 - val_precision: 0.8175 - val_recall: 0.7853\n",
      "Epoch 13/30\n",
      "218/218 [==============================] - 35s 160ms/step - loss: 0.3681 - accuracy: 0.8905 - precision: 0.9071 - recall: 0.8726 - val_loss: 0.7499 - val_accuracy: 0.7951 - val_precision: 0.8157 - val_recall: 0.7687\n",
      "Epoch 14/30\n",
      "218/218 [==============================] - 35s 161ms/step - loss: 0.3432 - accuracy: 0.8987 - precision: 0.9129 - recall: 0.8809 - val_loss: 0.7412 - val_accuracy: 0.8019 - val_precision: 0.8160 - val_recall: 0.7819\n",
      "Epoch 15/30\n",
      "218/218 [==============================] - 35s 159ms/step - loss: 0.3185 - accuracy: 0.9063 - precision: 0.9210 - recall: 0.8890 - val_loss: 0.7579 - val_accuracy: 0.7933 - val_precision: 0.8158 - val_recall: 0.7598\n",
      "Epoch 16/30\n",
      "218/218 [==============================] - 35s 161ms/step - loss: 0.2976 - accuracy: 0.9122 - precision: 0.9259 - recall: 0.8963 - val_loss: 0.7479 - val_accuracy: 0.7915 - val_precision: 0.8152 - val_recall: 0.7572\n",
      "Epoch 17/30\n",
      "218/218 [==============================] - 35s 160ms/step - loss: 0.2753 - accuracy: 0.9196 - precision: 0.9320 - recall: 0.9036 - val_loss: 0.7578 - val_accuracy: 0.8013 - val_precision: 0.8154 - val_recall: 0.7828\n",
      "Epoch 18/30\n",
      "218/218 [==============================] - 35s 159ms/step - loss: 0.2534 - accuracy: 0.9263 - precision: 0.9387 - recall: 0.9121 - val_loss: 0.7791 - val_accuracy: 0.7913 - val_precision: 0.8106 - val_recall: 0.7663\n",
      "Epoch 19/30\n",
      "218/218 [==============================] - 35s 161ms/step - loss: 0.2337 - accuracy: 0.9333 - precision: 0.9447 - recall: 0.9193 - val_loss: 0.7619 - val_accuracy: 0.7988 - val_precision: 0.8135 - val_recall: 0.7735\n",
      "Epoch 20/30\n",
      "218/218 [==============================] - 35s 161ms/step - loss: 0.2137 - accuracy: 0.9409 - precision: 0.9512 - recall: 0.9279 - val_loss: 0.7816 - val_accuracy: 0.7936 - val_precision: 0.8095 - val_recall: 0.7680\n",
      "Epoch 21/30\n",
      "218/218 [==============================] - 35s 160ms/step - loss: 0.1976 - accuracy: 0.9462 - precision: 0.9550 - recall: 0.9353 - val_loss: 0.7937 - val_accuracy: 0.7938 - val_precision: 0.8100 - val_recall: 0.7771\n",
      "Epoch 22/30\n",
      "218/218 [==============================] - 35s 161ms/step - loss: 0.1806 - accuracy: 0.9520 - precision: 0.9603 - recall: 0.9415 - val_loss: 0.7999 - val_accuracy: 0.7982 - val_precision: 0.8098 - val_recall: 0.7822\n",
      "Epoch 23/30\n",
      "218/218 [==============================] - 35s 160ms/step - loss: 0.1652 - accuracy: 0.9574 - precision: 0.9650 - recall: 0.9477 - val_loss: 0.8073 - val_accuracy: 0.7952 - val_precision: 0.8080 - val_recall: 0.7768\n",
      "Epoch 24/30\n",
      "218/218 [==============================] - 35s 161ms/step - loss: 0.1497 - accuracy: 0.9631 - precision: 0.9695 - recall: 0.9547 - val_loss: 0.8123 - val_accuracy: 0.7945 - val_precision: 0.8106 - val_recall: 0.7782\n",
      "Epoch 25/30\n",
      "218/218 [==============================] - 35s 161ms/step - loss: 0.1376 - accuracy: 0.9673 - precision: 0.9726 - recall: 0.9601 - val_loss: 0.8239 - val_accuracy: 0.7852 - val_precision: 0.8049 - val_recall: 0.7617\n",
      "Epoch 26/30\n",
      "218/218 [==============================] - 36s 163ms/step - loss: 0.1253 - accuracy: 0.9719 - precision: 0.9772 - recall: 0.9651 - val_loss: 0.8333 - val_accuracy: 0.7907 - val_precision: 0.8071 - val_recall: 0.7743\n",
      "Epoch 27/30\n",
      "218/218 [==============================] - 35s 160ms/step - loss: 0.1131 - accuracy: 0.9755 - precision: 0.9800 - recall: 0.9696 - val_loss: 0.8526 - val_accuracy: 0.7927 - val_precision: 0.8064 - val_recall: 0.7765\n",
      "Epoch 28/30\n",
      "218/218 [==============================] - 35s 161ms/step - loss: 0.1034 - accuracy: 0.9779 - precision: 0.9820 - recall: 0.9729 - val_loss: 0.8688 - val_accuracy: 0.7905 - val_precision: 0.8050 - val_recall: 0.7744\n"
     ]
    },
    {
     "name": "stdout",
     "output_type": "stream",
     "text": [
      "Epoch 29/30\n",
      "218/218 [==============================] - 35s 160ms/step - loss: 0.0941 - accuracy: 0.9810 - precision: 0.9844 - recall: 0.9768 - val_loss: 0.8695 - val_accuracy: 0.7894 - val_precision: 0.8041 - val_recall: 0.7740\n",
      "Epoch 30/30\n",
      "218/218 [==============================] - 35s 162ms/step - loss: 0.0877 - accuracy: 0.9829 - precision: 0.9861 - recall: 0.9789 - val_loss: 0.8822 - val_accuracy: 0.7733 - val_precision: 0.7927 - val_recall: 0.7525\n"
     ]
    },
    {
     "data": {
      "image/png": "[encoded data removed]",
      "text/plain": [
       "<Figure size 720x360 with 2 Axes>"
      ]
     },
     "metadata": {
      "needs_background": "light"
     },
     "output_type": "display_data"
    }
   ],
   "source": [
    "model = models.Sequential()\n",
    "model.add(layers.Conv2D(filters=6, kernel_size=5, activation='tanh', padding='same',strides=1,\n",
    "                        input_shape=(227, 227, 1)))\n",
    "model.add(layers.AveragePooling2D(2))\n",
    "model.add(layers.Activation('tanh'))\n",
    "model.add(layers.Conv2D(filters=16, kernel_size=5, activation='tanh', padding='valid',strides=1,))\n",
    "model.add(layers.AveragePooling2D(2))\n",
    "model.add(layers.Activation('tanh'))\n",
    "model.add(layers.Conv2D(filters=120, kernel_size=5, activation='tanh', padding='valid',strides=1,))\n",
    "model.add(layers.Flatten())\n",
    "model.add(layers.Dense(84, activation='tanh'))\n",
    "model.add(layers.Dense(8, activation='softmax'))\n",
    "\n",
    "\n",
    "model.compile(optimizer = optimizers.Adam(learning_rate=0.0001),\n",
    "              loss= losses.CategoricalCrossentropy(),\n",
    "              metrics = ['accuracy', Precision(), Recall()])\n",
    "\n",
    "model.summary()\n",
    "\n",
    "results = model.fit(train_generator,\n",
    "                    epochs=30,  # Number of epochs\n",
    "                    validation_data=val_generator,\n",
    "                    validation_freq=1,\n",
    "                    )\n",
    "\n",
    "display_model_trainTestGraphs(results)"
   ]
  },
  {
   "cell_type": "code",
   "execution_count": 11,
   "id": "5fb814a0",
   "metadata": {
    "ExecuteTime": {
     "end_time": "2022-05-22T05:15:48.731263Z",
     "start_time": "2022-05-22T05:15:47.369324Z"
    }
   },
   "outputs": [
    {
     "name": "stderr",
     "output_type": "stream",
     "text": [
      "WARNING:absl:Found untraced functions such as _jit_compiled_convolution_op, _jit_compiled_convolution_op, _jit_compiled_convolution_op while saving (showing 3 of 3). These functions will not be directly callable after loading.\n"
     ]
    },
    {
     "name": "stdout",
     "output_type": "stream",
     "text": [
      "INFO:tensorflow:Assets written to: tf_leNet_checkpoints/Model_1\\assets\n"
     ]
    },
    {
     "name": "stderr",
     "output_type": "stream",
     "text": [
      "INFO:tensorflow:Assets written to: tf_leNet_checkpoints/Model_1\\assets\n"
     ]
    }
   ],
   "source": [
    "results.model.save(tf_chkpt_path+'Model_1')"
   ]
  },
  {
   "cell_type": "markdown",
   "id": "1781f8b8",
   "metadata": {},
   "source": [
    "The model performance on both validation loss and accuracy is terrible. We shall employ `sigmoid` activation function instead of `tanh` between each set of convolution and pooling layers."
   ]
  },
  {
   "cell_type": "markdown",
   "id": "b8f890bf",
   "metadata": {},
   "source": [
    "# Model - LeNet - 5 - Sigmoid between convolutions"
   ]
  },
  {
   "cell_type": "code",
   "execution_count": 12,
   "id": "748f0ed5",
   "metadata": {
    "ExecuteTime": {
     "end_time": "2022-05-22T05:33:29.751856Z",
     "start_time": "2022-05-22T05:15:48.732263Z"
    },
    "scrolled": false
   },
   "outputs": [
    {
     "name": "stdout",
     "output_type": "stream",
     "text": [
      "Model: \"sequential_1\"\n",
      "_________________________________________________________________\n",
      " Layer (type)                Output Shape              Param #   \n",
      "=================================================================\n",
      " conv2d_3 (Conv2D)           (None, 227, 227, 6)       156       \n",
      "                                                                 \n",
      " average_pooling2d_2 (Averag  (None, 113, 113, 6)      0         \n",
      " ePooling2D)                                                     \n",
      "                                                                 \n",
      " activation_2 (Activation)   (None, 113, 113, 6)       0         \n",
      "                                                                 \n",
      " conv2d_4 (Conv2D)           (None, 109, 109, 16)      2416      \n",
      "                                                                 \n",
      " average_pooling2d_3 (Averag  (None, 54, 54, 16)       0         \n",
      " ePooling2D)                                                     \n",
      "                                                                 \n",
      " activation_3 (Activation)   (None, 54, 54, 16)        0         \n",
      "                                                                 \n",
      " conv2d_5 (Conv2D)           (None, 50, 50, 120)       48120     \n",
      "                                                                 \n",
      " flatten_1 (Flatten)         (None, 300000)            0         \n",
      "                                                                 \n",
      " dense_2 (Dense)             (None, 84)                25200084  \n",
      "                                                                 \n",
      " dense_3 (Dense)             (None, 8)                 680       \n",
      "                                                                 \n",
      "=================================================================\n",
      "Total params: 25,251,456\n",
      "Trainable params: 25,251,456\n",
      "Non-trainable params: 0\n",
      "_________________________________________________________________\n",
      "Epoch 1/30\n",
      "218/218 [==============================] - 36s 161ms/step - loss: 1.5836 - accuracy: 0.8135 - precision_1: 0.8172 - recall_1: 0.8134 - val_loss: 1.4892 - val_accuracy: 0.7916 - val_precision_1: 0.7916 - val_recall_1: 0.7916\n",
      "Epoch 2/30\n",
      "218/218 [==============================] - 35s 161ms/step - loss: 1.0170 - accuracy: 0.8171 - precision_1: 0.8171 - recall_1: 0.8171 - val_loss: 0.9810 - val_accuracy: 0.7916 - val_precision_1: 0.7916 - val_recall_1: 0.7916\n",
      "Epoch 3/30\n",
      "218/218 [==============================] - 36s 163ms/step - loss: 0.8018 - accuracy: 0.8171 - precision_1: 0.8171 - recall_1: 0.8171 - val_loss: 0.8808 - val_accuracy: 0.7916 - val_precision_1: 0.7916 - val_recall_1: 0.7916\n",
      "Epoch 4/30\n",
      "218/218 [==============================] - 35s 161ms/step - loss: 0.7843 - accuracy: 0.8171 - precision_1: 0.8171 - recall_1: 0.8171 - val_loss: 0.8641 - val_accuracy: 0.7916 - val_precision_1: 0.7916 - val_recall_1: 0.7916\n",
      "Epoch 5/30\n",
      "218/218 [==============================] - 36s 163ms/step - loss: 0.7834 - accuracy: 0.8171 - precision_1: 0.8171 - recall_1: 0.8171 - val_loss: 0.8619 - val_accuracy: 0.7916 - val_precision_1: 0.7916 - val_recall_1: 0.7916\n",
      "Epoch 6/30\n",
      "218/218 [==============================] - 35s 160ms/step - loss: 0.7833 - accuracy: 0.8171 - precision_1: 0.8171 - recall_1: 0.8171 - val_loss: 0.8611 - val_accuracy: 0.7916 - val_precision_1: 0.7916 - val_recall_1: 0.7916\n",
      "Epoch 7/30\n",
      "218/218 [==============================] - 35s 162ms/step - loss: 0.7833 - accuracy: 0.8171 - precision_1: 0.8171 - recall_1: 0.8171 - val_loss: 0.8618 - val_accuracy: 0.7916 - val_precision_1: 0.7916 - val_recall_1: 0.7916\n",
      "Epoch 8/30\n",
      "218/218 [==============================] - 35s 161ms/step - loss: 0.7834 - accuracy: 0.8171 - precision_1: 0.8171 - recall_1: 0.8171 - val_loss: 0.8615 - val_accuracy: 0.7916 - val_precision_1: 0.7916 - val_recall_1: 0.7916\n",
      "Epoch 9/30\n",
      "218/218 [==============================] - 35s 161ms/step - loss: 0.7833 - accuracy: 0.8171 - precision_1: 0.8171 - recall_1: 0.8171 - val_loss: 0.8625 - val_accuracy: 0.7916 - val_precision_1: 0.7916 - val_recall_1: 0.7916\n",
      "Epoch 10/30\n",
      "218/218 [==============================] - 35s 161ms/step - loss: 0.7834 - accuracy: 0.8171 - precision_1: 0.8171 - recall_1: 0.8171 - val_loss: 0.8614 - val_accuracy: 0.7916 - val_precision_1: 0.7916 - val_recall_1: 0.7916\n",
      "Epoch 11/30\n",
      "218/218 [==============================] - 35s 162ms/step - loss: 0.7833 - accuracy: 0.8171 - precision_1: 0.8171 - recall_1: 0.8171 - val_loss: 0.8615 - val_accuracy: 0.7916 - val_precision_1: 0.7916 - val_recall_1: 0.7916\n",
      "Epoch 12/30\n",
      "218/218 [==============================] - 35s 160ms/step - loss: 0.7834 - accuracy: 0.8171 - precision_1: 0.8171 - recall_1: 0.8171 - val_loss: 0.8625 - val_accuracy: 0.7916 - val_precision_1: 0.7916 - val_recall_1: 0.7916\n",
      "Epoch 13/30\n",
      "218/218 [==============================] - 35s 161ms/step - loss: 0.7834 - accuracy: 0.8171 - precision_1: 0.8171 - recall_1: 0.8171 - val_loss: 0.8612 - val_accuracy: 0.7916 - val_precision_1: 0.7916 - val_recall_1: 0.7916\n",
      "Epoch 14/30\n",
      "218/218 [==============================] - 35s 161ms/step - loss: 0.7834 - accuracy: 0.8171 - precision_1: 0.8171 - recall_1: 0.8171 - val_loss: 0.8627 - val_accuracy: 0.7916 - val_precision_1: 0.7916 - val_recall_1: 0.7916\n",
      "Epoch 15/30\n",
      "218/218 [==============================] - 35s 162ms/step - loss: 0.7834 - accuracy: 0.8171 - precision_1: 0.8171 - recall_1: 0.8171 - val_loss: 0.8619 - val_accuracy: 0.7916 - val_precision_1: 0.7916 - val_recall_1: 0.7916\n",
      "Epoch 16/30\n",
      "218/218 [==============================] - 35s 160ms/step - loss: 0.7834 - accuracy: 0.8171 - precision_1: 0.8171 - recall_1: 0.8171 - val_loss: 0.8627 - val_accuracy: 0.7916 - val_precision_1: 0.7916 - val_recall_1: 0.7916\n",
      "Epoch 17/30\n",
      "218/218 [==============================] - 35s 162ms/step - loss: 0.7834 - accuracy: 0.8171 - precision_1: 0.8171 - recall_1: 0.8171 - val_loss: 0.8620 - val_accuracy: 0.7916 - val_precision_1: 0.7916 - val_recall_1: 0.7916\n",
      "Epoch 18/30\n",
      "218/218 [==============================] - 35s 162ms/step - loss: 0.7834 - accuracy: 0.8171 - precision_1: 0.8171 - recall_1: 0.8171 - val_loss: 0.8639 - val_accuracy: 0.7916 - val_precision_1: 0.7916 - val_recall_1: 0.7916\n",
      "Epoch 19/30\n",
      "218/218 [==============================] - 35s 162ms/step - loss: 0.7835 - accuracy: 0.8171 - precision_1: 0.8171 - recall_1: 0.8171 - val_loss: 0.8605 - val_accuracy: 0.7916 - val_precision_1: 0.7916 - val_recall_1: 0.7916\n",
      "Epoch 20/30\n",
      "218/218 [==============================] - 35s 162ms/step - loss: 0.7834 - accuracy: 0.8171 - precision_1: 0.8171 - recall_1: 0.8171 - val_loss: 0.8617 - val_accuracy: 0.7916 - val_precision_1: 0.7916 - val_recall_1: 0.7916\n",
      "Epoch 21/30\n",
      "218/218 [==============================] - 35s 162ms/step - loss: 0.7835 - accuracy: 0.8171 - precision_1: 0.8171 - recall_1: 0.8171 - val_loss: 0.8599 - val_accuracy: 0.7916 - val_precision_1: 0.7916 - val_recall_1: 0.7916\n",
      "Epoch 22/30\n",
      "218/218 [==============================] - 35s 160ms/step - loss: 0.7835 - accuracy: 0.8171 - precision_1: 0.8171 - recall_1: 0.8171 - val_loss: 0.8611 - val_accuracy: 0.7916 - val_precision_1: 0.7916 - val_recall_1: 0.7916\n",
      "Epoch 23/30\n",
      "218/218 [==============================] - 36s 163ms/step - loss: 0.7834 - accuracy: 0.8171 - precision_1: 0.8171 - recall_1: 0.8171 - val_loss: 0.8639 - val_accuracy: 0.7916 - val_precision_1: 0.7916 - val_recall_1: 0.7916\n",
      "Epoch 24/30\n",
      "218/218 [==============================] - 36s 165ms/step - loss: 0.7834 - accuracy: 0.8171 - precision_1: 0.8171 - recall_1: 0.8171 - val_loss: 0.8603 - val_accuracy: 0.7916 - val_precision_1: 0.7916 - val_recall_1: 0.7916\n",
      "Epoch 25/30\n",
      "218/218 [==============================] - 36s 163ms/step - loss: 0.7834 - accuracy: 0.8171 - precision_1: 0.8171 - recall_1: 0.8171 - val_loss: 0.8618 - val_accuracy: 0.7916 - val_precision_1: 0.7916 - val_recall_1: 0.7916\n",
      "Epoch 26/30\n",
      "218/218 [==============================] - 35s 162ms/step - loss: 0.7834 - accuracy: 0.8171 - precision_1: 0.8171 - recall_1: 0.8171 - val_loss: 0.8624 - val_accuracy: 0.7916 - val_precision_1: 0.7916 - val_recall_1: 0.7916\n",
      "Epoch 27/30\n",
      "218/218 [==============================] - 36s 164ms/step - loss: 0.7834 - accuracy: 0.8171 - precision_1: 0.8171 - recall_1: 0.8171 - val_loss: 0.8624 - val_accuracy: 0.7916 - val_precision_1: 0.7916 - val_recall_1: 0.7916\n"
     ]
    },
    {
     "name": "stdout",
     "output_type": "stream",
     "text": [
      "Epoch 28/30\n",
      "218/218 [==============================] - 35s 162ms/step - loss: 0.7834 - accuracy: 0.8171 - precision_1: 0.8171 - recall_1: 0.8171 - val_loss: 0.8601 - val_accuracy: 0.7916 - val_precision_1: 0.7916 - val_recall_1: 0.7916\n",
      "Epoch 29/30\n",
      "218/218 [==============================] - 36s 163ms/step - loss: 0.7834 - accuracy: 0.8171 - precision_1: 0.8171 - recall_1: 0.8171 - val_loss: 0.8637 - val_accuracy: 0.7916 - val_precision_1: 0.7916 - val_recall_1: 0.7916\n",
      "Epoch 30/30\n",
      "218/218 [==============================] - 35s 160ms/step - loss: 0.7834 - accuracy: 0.8171 - precision_1: 0.8171 - recall_1: 0.8171 - val_loss: 0.8615 - val_accuracy: 0.7916 - val_precision_1: 0.7916 - val_recall_1: 0.7916\n"
     ]
    },
    {
     "data": {
      "image/png": "[encoded data removed]",
      "text/plain": [
       "<Figure size 720x360 with 2 Axes>"
      ]
     },
     "metadata": {
      "needs_background": "light"
     },
     "output_type": "display_data"
    }
   ],
   "source": [
    "model = models.Sequential()\n",
    "model.add(layers.Conv2D(filters=6, kernel_size=5, activation='tanh', padding='same',strides=1,\n",
    "                        input_shape=(227, 227, 1)))\n",
    "model.add(layers.AveragePooling2D(2))\n",
    "model.add(layers.Activation('sigmoid'))\n",
    "model.add(layers.Conv2D(filters=16, kernel_size=5, activation='tanh', padding='valid',strides=1,))\n",
    "model.add(layers.AveragePooling2D(2))\n",
    "model.add(layers.Activation('sigmoid'))\n",
    "model.add(layers.Conv2D(filters=120, kernel_size=5, activation='tanh', padding='valid',strides=1,))\n",
    "model.add(layers.Flatten())\n",
    "model.add(layers.Dense(84, activation='tanh'))\n",
    "model.add(layers.Dense(8, activation='softmax'))\n",
    "\n",
    "\n",
    "model.compile(optimizer = optimizers.Adam(learning_rate=0.0001),\n",
    "              loss= losses.CategoricalCrossentropy(),\n",
    "              metrics = ['accuracy', Precision(), Recall()])\n",
    "\n",
    "model.summary()\n",
    "\n",
    "results = model.fit(train_generator,\n",
    "#                     steps_per_epoch=200,  # Number of training samples to pull per epoch\n",
    "                    epochs=30,  # Number of epochs\n",
    "                    validation_data=val_generator,\n",
    "                    validation_freq=1,\n",
    "#                     validation_steps=200,  # Number of validation samples to run validation on\n",
    "                    )\n",
    "\n",
    "display_model_trainTestGraphs(results)"
   ]
  },
  {
   "cell_type": "code",
   "execution_count": 13,
   "id": "f61f8a20",
   "metadata": {
    "ExecuteTime": {
     "end_time": "2022-05-22T05:33:30.891742Z",
     "start_time": "2022-05-22T05:33:29.752856Z"
    },
    "scrolled": true
   },
   "outputs": [
    {
     "name": "stderr",
     "output_type": "stream",
     "text": [
      "WARNING:absl:Found untraced functions such as _jit_compiled_convolution_op, _jit_compiled_convolution_op, _jit_compiled_convolution_op while saving (showing 3 of 3). These functions will not be directly callable after loading.\n"
     ]
    },
    {
     "name": "stdout",
     "output_type": "stream",
     "text": [
      "INFO:tensorflow:Assets written to: tf_leNet_checkpoints/Model_2_sigmoid\\assets\n"
     ]
    },
    {
     "name": "stderr",
     "output_type": "stream",
     "text": [
      "INFO:tensorflow:Assets written to: tf_leNet_checkpoints/Model_2_sigmoid\\assets\n"
     ]
    }
   ],
   "source": [
    "results.model.save(tf_chkpt_path+'Model_2_sigmoid')"
   ]
  },
  {
   "cell_type": "markdown",
   "id": "e1b98376",
   "metadata": {
    "ExecuteTime": {
     "end_time": "2022-05-31T09:21:56.908275Z",
     "start_time": "2022-05-31T09:21:56.892272Z"
    }
   },
   "source": [
    "Model performance is no better. Focusing our efforts on other more promising models."
   ]
  }
 ],
 "metadata": {
  "kernelspec": {
   "display_name": "tfGPU",
   "language": "python",
   "name": "tfgpu"
  },
  "language_info": {
   "codemirror_mode": {
    "name": "ipython",
    "version": 3
   },
   "file_extension": ".py",
   "mimetype": "text/x-python",
   "name": "python",
   "nbconvert_exporter": "python",
   "pygments_lexer": "ipython3",
   "version": "3.9.12"
  },
  "toc": {
   "base_numbering": 1,
   "nav_menu": {},
   "number_sections": true,
   "sideBar": true,
   "skip_h1_title": false,
   "title_cell": "Table of Contents",
   "title_sidebar": "Contents",
   "toc_cell": false,
   "toc_position": {},
   "toc_section_display": true,
   "toc_window_display": false
  },
  "varInspector": {
   "cols": {
    "lenName": 16,
    "lenType": 16,
    "lenVar": 40
   },
   "kernels_config": {
    "python": {
     "delete_cmd_postfix": "",
     "delete_cmd_prefix": "del ",
     "library": "var_list.py",
     "varRefreshCmd": "print(var_dic_list())"
    },
    "r": {
     "delete_cmd_postfix": ") ",
     "delete_cmd_prefix": "rm(",
     "library": "var_list.r",
     "varRefreshCmd": "cat(var_dic_list()) "
    }
   },
   "position": {
    "height": "741.844px",
    "left": "1550px",
    "right": "20px",
    "top": "120px",
    "width": "350px"
   },
   "types_to_exclude": [
    "module",
    "function",
    "builtin_function_or_method",
    "instance",
    "_Feature"
   ],
   "window_display": false
  }
 },
 "nbformat": 4,
 "nbformat_minor": 5
}
